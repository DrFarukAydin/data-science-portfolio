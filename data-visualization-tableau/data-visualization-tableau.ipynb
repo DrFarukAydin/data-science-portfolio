{
 "cells": [
  {
   "cell_type": "markdown",
   "id": "3028aef9-658b-46f9-9979-37cc65d29a3e",
   "metadata": {},
   "source": [
    "## Data Visualization with Tableau"
   ]
  },
  {
   "cell_type": "markdown",
   "id": "8ecdaf8e-e288-4c7a-8f5f-74de01097720",
   "metadata": {},
   "source": [
    "The link of the Tableau work: https://public.tableau.com/app/profile/omer.faruk.aydin/viz/COVID19_Mobility/GDP"
   ]
  },
  {
   "cell_type": "markdown",
   "id": "97e236d7-798e-4395-a743-0555e111c61c",
   "metadata": {},
   "source": [
    "### Mobility Change during COVID19 pandemy"
   ]
  },
  {
   "cell_type": "markdown",
   "id": "f4b91985-95a0-4092-8d5c-64ab8bba20ab",
   "metadata": {},
   "source": [
    "#### 1. Introduction"
   ]
  },
  {
   "cell_type": "markdown",
   "id": "8171ee16-619c-4c0e-bb46-7b8d0d0f5d66",
   "metadata": {},
   "source": [
    "In this work the change of mobility behaviour during pandemy, between 15 Feb 2020 and 1 July 2022 is visualized with Tableau Software in order to get a first insight of the data. Pandemy conditions hit hard on every lives and the mobility behaviour changed drastically. Google publishes a mobility report to allow researchers to investigate this situtation. In this study, the mobility report is blended with various data from other sources. Then, the mobility behaviour is analyzed comprehensively. "
   ]
  },
  {
   "cell_type": "markdown",
   "id": "f4c99a5a-6bde-4955-9d13-08d27221792a",
   "metadata": {},
   "source": [
    "<br>"
   ]
  },
  {
   "cell_type": "markdown",
   "id": "aaa112cf-5a54-4407-9c37-4ab874fce440",
   "metadata": {},
   "source": [
    "#### 2. Data Collection"
   ]
  },
  {
   "cell_type": "markdown",
   "id": "7d80ec1d-ba12-4154-8b32-310dc3af95c9",
   "metadata": {},
   "source": [
    "##### 2.1. Google Mobility Report"
   ]
  },
  {
   "cell_type": "markdown",
   "id": "7b8c1d0e-dd13-4650-96b1-11c5104d01d8",
   "metadata": {},
   "source": [
    "Google Community Mobility Reports aim to provide insights into what has changed in response to policies aimed at combating COVID-19. The data is updated daily. It contains id information (including state, city, county) with change in mobility in percent with respect to a reference time interval, 3 Jan - 6 Feb 2020. The change is divided into six categories: \n",
    "<ul>\n",
    "<li>'retail_and_recreation_percent_change_from_baseline',</li>\n",
    "<li>'grocery_and_pharmacy_percent_change_from_baseline',</li>\n",
    "<li>'parks_percent_change_from_baseline',</li>\n",
    "<li>'transit_stations_percent_change_from_baseline',</li>\n",
    "<li>'workplaces_percent_change_from_baseline',</li>\n",
    "<li>'residential_percent_change_from_baseline'</li>\n",
    "</ul>"
   ]
  },
  {
   "cell_type": "markdown",
   "id": "99ed6ae2-3476-433d-b88e-80c52ca60316",
   "metadata": {},
   "source": [
    "<b>Source</b>: https://www.google.com/covid19/mobility/"
   ]
  },
  {
   "cell_type": "markdown",
   "id": "47dc3fc5-7bd2-47b8-9d34-5e0236bb64e2",
   "metadata": {},
   "source": [
    "<br>"
   ]
  },
  {
   "cell_type": "markdown",
   "id": "32ad5c26-bb2e-478f-b5f0-c28dee5c6003",
   "metadata": {
    "tags": []
   },
   "source": [
    "##### 2.2. GDP per Capita"
   ]
  },
  {
   "cell_type": "markdown",
   "id": "60f74fe1-2abe-4c5a-babb-5187a7fab433",
   "metadata": {},
   "source": [
    "GDP per capita is added to the dataframe in order to evaluate if there is a relationship between mobility and wealth."
   ]
  },
  {
   "cell_type": "markdown",
   "id": "c40dca43-f053-4768-9985-014e09c51293",
   "metadata": {},
   "source": [
    "<b>Source: </b>https://data.worldbank.org/"
   ]
  },
  {
   "cell_type": "markdown",
   "id": "a81561a4-13bf-4b6b-892d-54dc872df5fa",
   "metadata": {},
   "source": [
    "<br>"
   ]
  },
  {
   "cell_type": "markdown",
   "id": "7a27d33b-230b-44c9-a4de-9bb5303cf281",
   "metadata": {
    "tags": []
   },
   "source": [
    "##### 2.3. COVID19 Cases, Hospitalization, Deaths"
   ]
  },
  {
   "cell_type": "markdown",
   "id": "8ce8d6f0-176e-4086-b1f5-a20ea85ab739",
   "metadata": {},
   "source": [
    "Number of new cases, hospitalized patients and new deaths are announced daily in most countries to inform their citizens. This data is implemented to answer the question \"Is announcing COVID19 records to the public decourage people to go out?\"."
   ]
  },
  {
   "cell_type": "markdown",
   "id": "21510da3-63ec-4951-b341-ff611c9d4a83",
   "metadata": {},
   "source": [
    "<b>Source:</b> https://ourworldindata.org/coronavirus-data"
   ]
  },
  {
   "cell_type": "markdown",
   "id": "0fd5dff2-f6d4-4386-b827-b02e8f0fc80f",
   "metadata": {},
   "source": [
    "<br>"
   ]
  },
  {
   "cell_type": "markdown",
   "id": "ddef759f-67ad-48c2-9a6e-14918b7ba842",
   "metadata": {
    "tags": []
   },
   "source": [
    "##### 2.4. Weather Information"
   ]
  },
  {
   "cell_type": "markdown",
   "id": "ad0f8670-d111-4122-952c-860af00e1164",
   "metadata": {},
   "source": [
    "Weather conditions are one of the most important factors for the mobility behaviour of the people. Thus, this data is included to investigate the real reason behind the mobility changes. "
   ]
  },
  {
   "cell_type": "markdown",
   "id": "ec4fc4d7-58e2-4a90-9697-5b5839759756",
   "metadata": {},
   "source": [
    "A challenge for collecting weather data is that most sources does not provide free data, but fortunetely The Royal Netherlands Meteorological Institute (KNMI) provides this data to the public. Since it is hard to analyze all of the countries only the data of a big Turkish city, Bursa, with the population of 2 millions are evaluated."
   ]
  },
  {
   "cell_type": "markdown",
   "id": "120c0009-1014-4946-81d2-cdd95109890d",
   "metadata": {},
   "source": [
    "<b>Source:</b> https://dataplatform.knmi.nl/"
   ]
  },
  {
   "cell_type": "markdown",
   "id": "2168930c-1dd5-4eba-8681-130dbb955fae",
   "metadata": {},
   "source": [
    "<br>"
   ]
  },
  {
   "cell_type": "markdown",
   "id": "1c8a274a-dc1e-4650-a87f-f5c334aba4d2",
   "metadata": {
    "tags": []
   },
   "source": [
    "##### 2.5. Traffic Information"
   ]
  },
  {
   "cell_type": "markdown",
   "id": "b25f09f5-c3d7-4d13-920e-7f4ef73cef71",
   "metadata": {},
   "source": [
    "Traffic congestion affects the behavour of the mobility as we know, but during pandemy traffic flow may be affected from the mobility changes. Traffic congestion index of Istanbul, Turkey is published by the Istanbul Metropolitan Municipality (IBB). This data is drawn to analyze the relationship between the mobility changes and traffic congestion in Istanbul."
   ]
  },
  {
   "cell_type": "markdown",
   "id": "8421837a-e69c-4ad7-8331-fa67dc48102e",
   "metadata": {},
   "source": [
    "<b>Source:</b> https://data.ibb.gov.tr"
   ]
  },
  {
   "cell_type": "markdown",
   "id": "6a711ef7-b7b1-41d2-9f3a-10b32141ee77",
   "metadata": {},
   "source": [
    "<br>"
   ]
  },
  {
   "cell_type": "markdown",
   "id": "5b0af597-3fbd-448a-b662-b0dec4c3cdc0",
   "metadata": {
    "tags": []
   },
   "source": [
    "##### 2.6. Development Index"
   ]
  },
  {
   "cell_type": "markdown",
   "id": "c5c9931b-3b5d-4106-89f1-caa018a7beca",
   "metadata": {},
   "source": [
    "Development index is an indicator published by governmental institutions for the cities and counties as well. Similar to GDP per capita, this data may provide a relationship between development and mobility changes. This data is acquired from Turkish Ministry of Industry and Technology for each Turkish cities and counties."
   ]
  },
  {
   "cell_type": "markdown",
   "id": "5cfdafd8-79e4-4d80-adea-66c56f0f5397",
   "metadata": {},
   "source": [
    "<b>Source:</b> https://www.sanayi.gov.tr/merkez-birimi/b94224510b7b/sege"
   ]
  },
  {
   "cell_type": "markdown",
   "id": "a1c77a8f-a1c1-491e-bc05-7c5e917570a9",
   "metadata": {},
   "source": [
    "<br>"
   ]
  },
  {
   "cell_type": "markdown",
   "id": "d388ae4c-f78e-45d6-8508-44fab20b44cc",
   "metadata": {},
   "source": [
    "##### 2.7. Fuel Prices"
   ]
  },
  {
   "cell_type": "markdown",
   "id": "1bd0b502-315d-42ef-8ab6-e8f10504f877",
   "metadata": {},
   "source": [
    "In the recent years the fuel prices increased dramatically. Especially, in Turkey, where the local currency lost a significant value against dollar, pushed the prices even higher. Therefore, fuel prices in Turkey is added to the dataframe to investigate if the increasing fuel prices has an effect on the mobility behaviour. "
   ]
  },
  {
   "cell_type": "markdown",
   "id": "2e98a485-3e8e-4483-a33c-6eee2fa11df9",
   "metadata": {},
   "source": [
    "<b>Source: </b>https://www.opet.com.tr/akaryakit-fiyatlari-arsivi"
   ]
  },
  {
   "cell_type": "markdown",
   "id": "1d14e0f8-368b-4196-a2bd-ba9d5567d164",
   "metadata": {},
   "source": [
    "<br>"
   ]
  },
  {
   "cell_type": "markdown",
   "id": "1bebd490-b5cc-4b42-84f7-9639f1743d2a",
   "metadata": {},
   "source": [
    "#### 3. Creating DataFrame"
   ]
  },
  {
   "cell_type": "markdown",
   "id": "d01b38c5-144a-43f2-9bf9-a5cec7daf4d8",
   "metadata": {},
   "source": [
    "The data from various sources mentioned in Section 2 is cleaned and merged together for data analysis. "
   ]
  },
  {
   "cell_type": "markdown",
   "id": "93b8090c-1309-40f6-bb38-e252fa98623f",
   "metadata": {},
   "source": [
    "The detailed process is published in this repository. The link will be given as soon as it is uploaded."
   ]
  },
  {
   "cell_type": "markdown",
   "id": "a10516ac-7fb6-43bf-90b6-e8ec82141967",
   "metadata": {},
   "source": [
    "<br>"
   ]
  },
  {
   "cell_type": "markdown",
   "id": "69717048-9316-4a49-b1aa-eb55b49c577d",
   "metadata": {},
   "source": [
    "#### 4. Data Visualization with Tableau"
   ]
  },
  {
   "cell_type": "markdown",
   "id": "168e27cd-3c92-4cc2-8d25-2fa813cfb03c",
   "metadata": {},
   "source": [
    "Tableau is one the most used tool in the market for data analysis. Fortunetely, it has its own public sharing platform which allows any users to see the worksheets and to play around with the filters. "
   ]
  },
  {
   "cell_type": "markdown",
   "id": "267e8635-e34f-41a4-9469-049844d1047c",
   "metadata": {},
   "source": [
    "The link of this work is here: https://public.tableau.com/app/profile/omer.faruk.aydin/viz/COVID19_Mobility/GDP"
   ]
  },
  {
   "cell_type": "markdown",
   "id": "70aa76ab-c38d-43c0-b2f2-31189b902c6a",
   "metadata": {},
   "source": [
    "<br>"
   ]
  },
  {
   "cell_type": "markdown",
   "id": "2d2e5ac6-dd18-4b4e-9ea2-46b9a992d35c",
   "metadata": {},
   "source": [
    "##### 4.1. Description of the Worksheets"
   ]
  },
  {
   "cell_type": "markdown",
   "id": "83deebc1-fbcb-4ec3-82a7-4b301f32d9e0",
   "metadata": {},
   "source": [
    "Please note that there are multiple worksheets. The description of the worksheets are as follows:"
   ]
  },
  {
   "cell_type": "markdown",
   "id": "8fa24c4e-d9ec-4cda-8973-496f44c0fae5",
   "metadata": {},
   "source": [
    "<ul>\n",
    "<li><strong>'Mobility Line':</strong> Shows the relationship between mean mobility changes per year. Filter allows users to select countries, day of the weeks and month of the years.</li>\n",
    "<li><strong>'Heat Map':</strong> A version of 'Mobility Line' that shows monthly base mobility changes with a heat map.</li>\n",
    "<li><strong>'Turkey Map':</strong> A geographical map of Turkey, where each city is colored with respect to the mean mobility change. In the filter the date can be chosen monthly base or played automatically. 'Il Kademe' in the filter is the level of the development index of the cities, where 1 refers to the most developed cities.</li>\n",
    "<li><strong>'Gelismislik':</strong> This is similar to 'Mobility Line'. This graph shows the breakdown of city development index, where 1 refers to the most developed cities.</li>\n",
    "<li><strong>'Gelismislik2':</strong> This shows mean mobility changes of each Turkish city and colored by their development index.</li>\n",
    "<li><strong>'Traffic':</strong> This shows the average traffic congestion index and the mobility changes of Istanbul on the same graph.</li>\n",
    "<li><strong>'Case':</strong> This graph shows the new deaths per million and the mean mobility change on the same graph. There was no relationship between the new cases per million and the mobility change, therefore, new deaths are visualized instead.</li>\n",
    "<li><strong>'Weather Map':</strong> This map shows rain conditions of Bursa and the mobilty change. The color refers to the 'rain' or 'no rain' on the selected date. The size of the point refers to the mobility change. You can click play to see change with respect to time.</li>\n",
    "<li><strong>'Weather':</strong> Shows the precipitation ratio of Bursa versus the mobility change in time. The timeframe can be set from the filter.</li>\n",
    "<li><strong>'Weather2':</strong> This shows the mobility change in Bursa when there is 'rain' or 'no rain'.</li>\n",
    "<li><strong>'Fuel Price':</strong> Shows the relationship between the fuel price in Turkey in TL and the mean mobility change.</li>\n",
    "<li><strong>'GDP':</strong> This shows the GDP per capita of the countries versus the mean mobility change in time.</li>\n",
    "</ul>"
   ]
  },
  {
   "cell_type": "markdown",
   "id": "14dba816-e405-4c1f-8fd1-49ff011a72a7",
   "metadata": {},
   "source": [
    "<br>"
   ]
  },
  {
   "cell_type": "markdown",
   "id": "6b7852cd-16a2-43b8-bd5e-9c8fe4d1e46b",
   "metadata": {},
   "source": [
    "##### 4.2. Further Information"
   ]
  },
  {
   "cell_type": "markdown",
   "id": "c4aedc4e-5b15-42f5-ad73-e9a3f2344c08",
   "metadata": {},
   "source": [
    "This work is still in process. The graphs may be changed, new graphs may be added or existing graphs may be deleted over time."
   ]
  },
  {
   "cell_type": "markdown",
   "id": "bf3218ef-fdd0-4344-a343-8c28e9e65b3a",
   "metadata": {},
   "source": [
    "<br>"
   ]
  },
  {
   "cell_type": "markdown",
   "id": "659b96bd-2561-46a3-926a-145a9dc0fc4b",
   "metadata": {},
   "source": [
    "#### 5. Data Analysis, Conclusion and Discussion"
   ]
  },
  {
   "cell_type": "markdown",
   "id": "6e603d90-1838-4968-82f6-f474bb206cd8",
   "metadata": {},
   "source": [
    "In this work, the mobility change data during COVID19 pandemy provided by Google is visualized and analyzed after implementing further data such as GDP per capita, traffic congestion, development index, COVID19 case records, weather and fuel prices from various sources."
   ]
  },
  {
   "cell_type": "markdown",
   "id": "da720240-5bb4-4920-b834-3aa2b8243c50",
   "metadata": {},
   "source": [
    "<ul>\n",
    "<li>The first insight from the graphs indicates that the mobility decreased significantly in 2020 and 2021, whereas it increased in 2022 compared to the time interval before the pandemy.</li>\n",
    "<li><strong>The seasons</strong> plays an important role in mobility, but it is hard to analyze the effect of <strong>the precipitation</strong> investigating only the graphs.</li>\n",
    "<li>The governments published <strong>COVID19 Records</strong> and warn their citizens to avoid unnecessary mobility, however, the graphs shows that the number of cases have almost no correlation with the mobility change.</li>\n",
    "<li><strong>The average traffic congestion</strong> is highly correlated the mobility change, but maximum and minimum traffic congestion values are not affected by the mobility change.</li>\n",
    "<li><strong>The wealth indicators</strong>, such as GDP per capita and city development index, has no effects on the mobility.</li>\n",
    "<li>It is expected that the increasing <strong>fuel prices</strong> would decrease the mobility changes, however, the mobility does not affected from the fuel prices.</li>\n",
    "</ul>"
   ]
  },
  {
   "cell_type": "markdown",
   "id": "22b284b4-6294-4990-8651-42e1247fa941",
   "metadata": {},
   "source": [
    "Further studies can be conducted focusing on other locations in the world. Further data from other sources may conduct this research as well. This study is to gain an insight of the data only. "
   ]
  },
  {
   "cell_type": "markdown",
   "id": "878d0ece-1898-464f-ad60-d745b2a208d3",
   "metadata": {},
   "source": [
    "To understand the statistical significance of the relationships of the variables statistical tests, such as ANOVA tests, should be conducted. Some statistical tests are already conducted in frame of this study. A link will be added as soon as the file is uploaded."
   ]
  },
  {
   "cell_type": "markdown",
   "id": "94874365-5ac3-419d-82fd-260dd30f5838",
   "metadata": {},
   "source": [
    "Machine Learning methods like regression and clustering may be conducted to investigate further. Some ML studies are conducted and will be uploaded to this repository."
   ]
  },
  {
   "cell_type": "code",
   "execution_count": null,
   "id": "311ceb00-ebd7-4f22-9b2b-5fddfb27fa59",
   "metadata": {},
   "outputs": [],
   "source": []
  }
 ],
 "metadata": {
  "kernelspec": {
   "display_name": "Python 3 (ipykernel)",
   "language": "python",
   "name": "python3"
  },
  "language_info": {
   "codemirror_mode": {
    "name": "ipython",
    "version": 3
   },
   "file_extension": ".py",
   "mimetype": "text/x-python",
   "name": "python",
   "nbconvert_exporter": "python",
   "pygments_lexer": "ipython3",
   "version": "3.9.12"
  }

