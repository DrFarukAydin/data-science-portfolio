{
 "cells": [
  {
   "cell_type": "markdown",
   "metadata": {},
   "source": [
    "# Trader Bot with Gate.io API"
   ]
  },
  {
   "cell_type": "markdown",
   "metadata": {},
   "source": [
    "In this work, crypto data will be imported using Gate.io API and and a trader bot will be created for automated with python."
   ]
  },
  {
   "cell_type": "markdown",
   "metadata": {},
   "source": [
    "**See also** Technical Indicators for Financial Analysis with Python (Jupyter): https://github.com/DrFarukAydin/data-science-portfolio/blob/main/financial-tools/technical-indicators-finance.ipynb"
   ]
  },
  {
   "cell_type": "markdown",
   "metadata": {},
   "source": [
    "**See also** Binance Trader Bot with Python: https://github.com/DrFarukAydin/data-science-portfolio/blob/main/financial-tools/binance-bot.ipynb"
   ]
  },
  {
   "cell_type": "markdown",
   "metadata": {},
   "source": [
    "**See also** Data Visualization for Financial Analysis with Python (Jupyter): https://github.com/DrFarukAydin/data-science-portfolio/blob/main/financial-tools/data-visualization-finance.ipynb"
   ]
  },
  {
   "cell_type": "markdown",
   "metadata": {},
   "source": [
    "<br><br>"
   ]
  },
  {
   "cell_type": "markdown",
   "metadata": {},
   "source": [
    "**WARNING!!**"
   ]
  },
  {
   "cell_type": "markdown",
   "metadata": {},
   "source": [
    "<li>The strategies used in this section are <b>not investment advices</b>. They are shown for only educational purposes.\n",
    "<li>The bot makes real transactions. Therefore, be sure to understand them clearly before implementation. Otherwise, you can lose your money."
   ]
  },
  {
   "cell_type": "markdown",
   "metadata": {},
   "source": [
    "<br><br>"
   ]
  },
  {
   "cell_type": "markdown",
   "metadata": {},
   "source": [
    "## 1. Importing Libraries and Data"
   ]
  },
  {
   "cell_type": "markdown",
   "metadata": {},
   "source": [
    "<br>**Importing Libraries**"
   ]
  },
  {
   "cell_type": "code",
   "execution_count": 6,
   "metadata": {},
   "outputs": [],
   "source": [
    "import pandas as pd\n",
    "import numpy as np\n",
    "import seaborn as sns\n",
    "import matplotlib.pyplot as plt\n",
    "import matplotlib.dates as mdates\n",
    "%matplotlib inline\n",
    "import sqlalchemy\n",
    "import time\n",
    "from datetime import datetime\n",
    "import os\n",
    "import asyncio\n",
    "import warnings\n",
    "warnings.filterwarnings('ignore')\n",
    "from mplfinance.original_flavor import candlestick_ohlc\n",
    "import pandas_ta as pta\n",
    "import logging\n",
    "from decimal import Decimal as D"
   ]
  },
  {
   "cell_type": "markdown",
   "metadata": {},
   "source": [
    "**Note** that some libraries should be installed with pip install."
   ]
  },
  {
   "cell_type": "code",
   "execution_count": 4,
   "metadata": {},
   "outputs": [],
   "source": [
    "#pip install gate_api"
   ]
  },
  {
   "cell_type": "code",
   "execution_count": 7,
   "metadata": {},
   "outputs": [],
   "source": [
    "import gate_api\n",
    "from gate_api.exceptions import ApiException, GateApiException\n",
    "from gate_api import ApiClient, Configuration, Order, SpotApi"
   ]
  },
  {
   "cell_type": "markdown",
   "metadata": {},
   "source": [
    "<br>**Creating Connection**"
   ]
  },
  {
   "cell_type": "code",
   "execution_count": 9,
   "metadata": {},
   "outputs": [],
   "source": [
    "key=\"ENTER YOUR KEY HERE\"\n",
    "secret=\"ENTER YOUR SECRET HERE\"\n",
    "host = \"https://api.gateio.ws/api/v4\""
   ]
  },
  {
   "cell_type": "code",
   "execution_count": 10,
   "metadata": {},
   "outputs": [],
   "source": [
    "config = Configuration(key=key, secret=secret, host=host)\n",
    "spot_api = SpotApi(ApiClient(config))"
   ]
  },
  {
   "cell_type": "markdown",
   "metadata": {},
   "source": [
    "<br>**Importing Data**"
   ]
  },
  {
   "cell_type": "markdown",
   "metadata": {},
   "source": [
    "Importing information about currency pair."
   ]
  },
  {
   "cell_type": "code",
   "execution_count": 13,
   "metadata": {},
   "outputs": [
    {
     "data": {
      "text/plain": [
       "{'amount_precision': 3,\n",
       " 'base': 'GT',\n",
       " 'buy_start': 0,\n",
       " 'fee': '0.2',\n",
       " 'id': 'GT_USDT',\n",
       " 'min_base_amount': None,\n",
       " 'min_quote_amount': '1',\n",
       " 'precision': 4,\n",
       " 'quote': 'USDT',\n",
       " 'sell_start': 0,\n",
       " 'trade_status': 'tradable'}"
      ]
     },
     "execution_count": 13,
     "metadata": {},
     "output_type": "execute_result"
    }
   ],
   "source": [
    "spot_api.get_currency_pair(\"GT_USDT\")"
   ]
  },
  {
   "cell_type": "markdown",
   "metadata": {},
   "source": [
    "<br>"
   ]
  },
  {
   "cell_type": "markdown",
   "metadata": {},
   "source": [
    "Importing the most recent information for currency pair."
   ]
  },
  {
   "cell_type": "code",
   "execution_count": 24,
   "metadata": {
    "tags": []
   },
   "outputs": [
    {
     "data": {
      "text/plain": [
       "[{'base_volume': '321454.66023446',\n",
       "  'change_percentage': '2.59',\n",
       "  'currency_pair': 'GT_USDT',\n",
       "  'etf_leverage': None,\n",
       "  'etf_net_value': None,\n",
       "  'etf_pre_net_value': None,\n",
       "  'etf_pre_timestamp': None,\n",
       "  'high_24h': '3.9173',\n",
       "  'highest_bid': '3.8971',\n",
       "  'last': '3.8971',\n",
       "  'low_24h': '3.7',\n",
       "  'lowest_ask': '3.8972',\n",
       "  'quote_volume': '1221566.8425295'}]"
      ]
     },
     "execution_count": 24,
     "metadata": {},
     "output_type": "execute_result"
    }
   ],
   "source": [
    "spot_api.list_tickers(currency_pair=\"GT_USDT\")"
   ]
  },
  {
   "cell_type": "markdown",
   "metadata": {},
   "source": [
    "<br>"
   ]
  },
  {
   "cell_type": "markdown",
   "metadata": {},
   "source": [
    "Importing open orders for the selected pair."
   ]
  },
  {
   "cell_type": "code",
   "execution_count": 26,
   "metadata": {},
   "outputs": [
    {
     "data": {
      "text/plain": [
       "[{'account': 'spot',\n",
       "  'amount': '26923.47',\n",
       "  'auto_borrow': None,\n",
       "  'auto_repay': None,\n",
       "  'create_time': '1656515191',\n",
       "  'create_time_ms': 1656515191296,\n",
       "  'currency_pair': 'MOOV_USDT',\n",
       "  'fee': '0',\n",
       "  'fee_currency': 'USDT',\n",
       "  'fill_price': '0',\n",
       "  'filled_total': '0',\n",
       "  'gt_discount': False,\n",
       "  'gt_fee': '0',\n",
       "  'iceberg': '0',\n",
       "  'id': '174634514262',\n",
       "  'left': '26923.47',\n",
       "  'point_fee': '0',\n",
       "  'price': '0.0215',\n",
       "  'rebated_fee': '0',\n",
       "  'rebated_fee_currency': 'MOOV',\n",
       "  'side': 'sell',\n",
       "  'status': 'open',\n",
       "  'text': '101',\n",
       "  'time_in_force': 'gtc',\n",
       "  'type': 'limit',\n",
       "  'update_time': '1656515191',\n",
       "  'update_time_ms': 1656515191296}]"
      ]
     },
     "execution_count": 26,
     "metadata": {},
     "output_type": "execute_result"
    }
   ],
   "source": [
    "spot_api.list_orders(\"MOOV_USDT\", status=\"open\")"
   ]
  },
  {
   "cell_type": "markdown",
   "metadata": {},
   "source": [
    "<br><br><br>"
   ]
  },
  {
   "cell_type": "markdown",
   "metadata": {},
   "source": [
    "# 2. TRADING BOT"
   ]
  },
  {
   "cell_type": "markdown",
   "metadata": {},
   "source": [
    "A trading bot can trade automatically when the conditions defined by us satisfied. These conditions can be a fixed price or a dynamic price calculated by technical indicators."
   ]
  },
  {
   "cell_type": "markdown",
   "metadata": {},
   "source": [
    "**WARNING!!**"
   ]
  },
  {
   "cell_type": "markdown",
   "metadata": {},
   "source": [
    "<li>The strategies used in this section are <b>not investment advices</b>. They are shown for only educational purposes.\n",
    "<li>The bot makes real transactions. Therefore, be sure to understand them clearly before implementation. Otherwise, you can lose your money."
   ]
  },
  {
   "cell_type": "markdown",
   "metadata": {},
   "source": [
    "**Bot Structure**"
   ]
  },
  {
   "cell_type": "markdown",
   "metadata": {},
   "source": [
    "Bot structure may be the most important part of creating a bot. Before coding this should be designed carefully. The basic steps are as follows:"
   ]
  },
  {
   "cell_type": "markdown",
   "metadata": {},
   "source": [
    "<li> Defining a variable that shows our current situation, i.e., are we ready to buy or sell. This is crucial because we do not want to buy or sell more than once, when our price criterion is met.\n",
    "<li> Creating a loop for constantly importing the most recent data.\n",
    "<li> Checking current order situation, i.e., is an open order has been filled.\n",
    "<li> Analyzing the most recent data to decide our price that we are willing to trade.\n",
    "<li> If there is no open order, then create an order using \"LIMIT\" or continue to create an order later when the price criterion is met.\n",
    "<li> Change our current variable accordingly.\n",
    "<br><br>"
   ]
  },
  {
   "cell_type": "markdown",
   "metadata": {},
   "source": [
    "<img src='bot-flowchart.png'/>"
   ]
  },
  {
   "cell_type": "markdown",
   "metadata": {},
   "source": [
    "**Trading Strategy**"
   ]
  },
  {
   "cell_type": "markdown",
   "metadata": {},
   "source": [
    "Before making a trading bot, we should decide our strategy, at which price we would buy or sell. There are countless possibilities to decide that. This work focuses on trading bot, thus, we create a simple grid function."
   ]
  },
  {
   "cell_type": "markdown",
   "metadata": {},
   "source": [
    "In general, technical indicators are used to determine the target price. Some technical indicators can be found another work in this repository. The link will be provided as soon as it is uploaded."
   ]
  },
  {
   "cell_type": "code",
   "execution_count": 178,
   "metadata": {},
   "outputs": [],
   "source": [
    "def price_finder_grid(side, buy_price=3.95, sell_price=3.956):\n",
    "    \n",
    "    if side == \"buy\":\n",
    "        return buy_price\n",
    "    if side == \"sell\":\n",
    "        return sell_price"
   ]
  },
  {
   "cell_type": "markdown",
   "metadata": {},
   "source": [
    "The price_finder function is basically a implemantation of grid trade that is buying/selling at given prices."
   ]
  },
  {
   "cell_type": "markdown",
   "metadata": {},
   "source": [
    "<br><br> Following this structure, we can make a trader bot. The explanations will be given in the function."
   ]
  },
  {
   "cell_type": "markdown",
   "metadata": {},
   "source": [
    "**Important Note:** The bot may not stop unless you force it, for example, by interrupting kernel."
   ]
  },
  {
   "cell_type": "markdown",
   "metadata": {},
   "source": [
    "<li> Firstly, I will present a trader bot.\n",
    "<li> Then, I will make a trading bot that runs forever following the given strategy."
   ]
  },
  {
   "cell_type": "code",
   "execution_count": 175,
   "metadata": {},
   "outputs": [],
   "source": [
    "def spot_trade(side = \"sell\",currency_pair = \"GT_USDT\", order_amount = \"0\", price = \"0\"):\n",
    "\n",
    "    # Getting currency pairs\n",
    "    currency = currency_pair.split(\"_\")[1]\n",
    "    token = currency_pair.split(\"_\")[0]\n",
    "    \n",
    "    # Checking validity of parameters.\n",
    "    order_amount = int(order_amount)\n",
    "\n",
    "    # Getting information about the selected pair.\n",
    "    pair = spot_api.get_currency_pair(currency_pair)\n",
    "    print(\"\\nTrading for currency pair: \" + currency_pair)\n",
    "    \n",
    "    #Checking minimum amount\n",
    "    min_amount = pair.min_base_amount\n",
    "    if min_amount is not None:\n",
    "        if float(min_amount)>order_amount:\n",
    "            print(\"Minimum amount is \",min_amount)\n",
    "            return\n",
    "\n",
    "\n",
    "    # make sure balance is enough\n",
    "    if side == \"buy\":\n",
    "        accounts = spot_api.list_spot_accounts(currency=currency)\n",
    "        available = float(accounts[0].available)\n",
    "        print(\"Account available: {} {}\".format(available, currency))\n",
    "        if available < (order_amount*float(price)):\n",
    "            print(\"Account balance not enough\")\n",
    "            return\n",
    "    if side == \"sell\":\n",
    "        accounts = spot_api.list_spot_accounts(currency=token)\n",
    "        available = float(accounts[0].available)\n",
    "        print(\"Account available: {} {}\".format(available, token))\n",
    "    \n",
    "        if available < order_amount:\n",
    "            print(\"Account balance not enough\")\n",
    "            return\n",
    "\n",
    "    \n",
    "    # Creating order\n",
    "    order = Order(amount=str(order_amount), price=str(price), side=side, currency_pair=currency_pair)\n",
    "    print(\"\\nplace a spot {} order in {} with amount {} and price {}\".format( order.side, order.currency_pair,\n",
    "                order.amount, order.price))\n",
    "    created = spot_api.create_order(order)\n",
    "    print(\"order created with id {}, status {}\".format( created.id, created.status))\n",
    "    \n",
    "    return created\n"
   ]
  },
  {
   "cell_type": "code",
   "execution_count": 168,
   "metadata": {},
   "outputs": [],
   "source": [
    "def trader(currency, amount=0, side=\"buy\", commission=0.002):\n",
    "    \n",
    "    #define current position\n",
    "    open_order = False\n",
    "\n",
    "    \n",
    "    #checking the parameters are given correctly\n",
    "    side = side.lower()\n",
    "    if side not in [\"buy\", \"sell\"]:\n",
    "        print(\"Please enter a valid 'side' Value\")\n",
    "        return\n",
    "    if side == \"sell\":    #This is placed for avoiding error when calculating Profit\n",
    "        buyprice=0\n",
    "\n",
    "    commission = float(commission)\n",
    "    \n",
    "    print(\"\\nBOT started!\\n\")\n",
    "    \n",
    "    \n",
    "       \n",
    "    \n",
    "    #Loop begins here\n",
    "    while True:            \n",
    "        \n",
    "        tickers = spot_api.list_tickers(currency_pair=currency)\n",
    "        assert len(tickers) == 1\n",
    "        last_price = tickers[0].last\n",
    "        \n",
    "        # If there is an open order, change current side if filled, cancel it otherwise to be updated later\n",
    "        if open_order == True:\n",
    "            \n",
    "            #Check order status\n",
    "            order_result = spot_api.get_order(created.id, currency)\n",
    "            \n",
    "            #Check if the existing order is filled\n",
    "            if order_result.status == 'open':\n",
    "                         \n",
    "                if order_result.filled_total != '0':\n",
    "                    print(\"Order {} filled {} {}, left: {}\".format( order_result.id, order_result.filled_total,currency, order_result.left))\n",
    "                else:\n",
    "                    cancelled = spot_api.cancel_order(order_id=order_result.id, currency_pair=currency)\n",
    "                    print(\"{} order is cancelled.\".format(cancelled.currency_pair))\n",
    "                    open_order = False\n",
    "                \n",
    "            else:   #If order is filled\n",
    "                trades = spot_api.list_my_trades(currency_pair=currency, order_id=created.id)\n",
    "                for t in trades:\n",
    "                    print(\"Order {} filled {} {} with price {}\".format( t.order_id, t.amount,currency, t.price))\n",
    "                    \n",
    "                if side == \"sell\":\n",
    "                    side = \"buy\"\n",
    "                elif side == \"buy\":\n",
    "                    side = \"sell\"\n",
    "                    \n",
    "                open_order = False\n",
    "            \n",
    "    \n",
    "        \n",
    "        # Setting the target price we want to buy or sell\n",
    "        target_price = price_finder_grid(side=side)\n",
    "        \n",
    "        \n",
    "        \n",
    "        \n",
    "        # Create a buy/sell order\n",
    "        if open_order==False:\n",
    "            created = spot_trade(currency_pair = currency, \n",
    "                               side=side,\n",
    "                              order_amount=str(amount),\n",
    "                              price=str(target_price))\n",
    "            \n",
    "            \n",
    "\n",
    "            print(datetime.fromtimestamp(time.time()).strftime(\"%H:%M:%S\"),\"   //  Last Price:{}\\n\\n\".format(last_price))\n",
    "            open_order = True\n",
    "\n",
    "        if created is None:  # Break the function if there is a warning\n",
    "            print(\"Bot has stopped!\")\n",
    "            break\n",
    "           \n",
    "        #Wait between each loop. \n",
    "        #Too many requests from API may result in banning or cutting connection.\n",
    "        time.sleep(15)\n",
    "\n",
    "                    \n",
    "    \n",
    "        "
   ]
  },
  {
   "cell_type": "code",
   "execution_count": 155,
   "metadata": {},
   "outputs": [
    {
     "name": "stdout",
     "output_type": "stream",
     "text": [
      "\n",
      "BOT started!\n",
      "\n",
      "Trading for currency pair: AZERO_USDT\n",
      "Account available: 5.611614197624 USDT\n",
      "Account balance not enough\n",
      "02:19:11    //  Last Price:0.6934\n",
      "\n",
      "\n",
      "Bot has stopped!\n"
     ]
    }
   ],
   "source": [
    "trader(currency=\"AZERO_USDT\", amount=\"15\", side=\"buy\")"
   ]
  },
  {
   "cell_type": "code",
   "execution_count": 180,
   "metadata": {},
   "outputs": [
    {
     "name": "stdout",
     "output_type": "stream",
     "text": [
      "\n",
      "BOT started!\n",
      "\n",
      "\n",
      "Trading for currency pair: GT_USDT\n",
      "Account available: 1.996 GT\n",
      "\n",
      "place a spot sell order in GT_USDT with amount 1 and price 3.956\n",
      "order created with id 179606664418, status closed\n",
      "02:39:17    //  Last Price:3.9564\n",
      "\n",
      "\n",
      "Order 179606664418 filled 1 GT_USDT with price 3.9564\n",
      "\n",
      "Trading for currency pair: GT_USDT\n",
      "Account available: 5.603482197624 USDT\n",
      "\n",
      "place a spot buy order in GT_USDT with amount 1 and price 3.95\n",
      "order created with id 179606728468, status open\n",
      "02:39:34    //  Last Price:3.9563\n",
      "\n",
      "\n",
      "GT_USDT order is cancelled.\n",
      "\n",
      "Trading for currency pair: GT_USDT\n",
      "Account available: 5.603482197624 USDT\n",
      "\n",
      "place a spot buy order in GT_USDT with amount 1 and price 3.95\n",
      "order created with id 179606798361, status open\n",
      "02:39:51    //  Last Price:3.9563\n",
      "\n",
      "\n",
      "GT_USDT order is cancelled.\n",
      "\n",
      "Trading for currency pair: GT_USDT\n",
      "Account available: 5.603482197624 USDT\n",
      "\n",
      "place a spot buy order in GT_USDT with amount 1 and price 3.95\n",
      "order created with id 179606889879, status open\n",
      "02:40:08    //  Last Price:3.9556\n",
      "\n",
      "\n",
      "GT_USDT order is cancelled.\n",
      "\n",
      "Trading for currency pair: GT_USDT\n",
      "Account available: 5.603482197624 USDT\n",
      "\n",
      "place a spot buy order in GT_USDT with amount 1 and price 3.95\n",
      "order created with id 179606979471, status open\n",
      "02:40:25    //  Last Price:3.956\n",
      "\n",
      "\n"
     ]
    },
    {
     "ename": "KeyboardInterrupt",
     "evalue": "",
     "output_type": "error",
     "traceback": [
      "\u001b[0;31m---------------------------------------------------------------------------\u001b[0m",
      "\u001b[0;31mKeyboardInterrupt\u001b[0m                         Traceback (most recent call last)",
      "Input \u001b[0;32mIn [180]\u001b[0m, in \u001b[0;36m<cell line: 1>\u001b[0;34m()\u001b[0m\n\u001b[0;32m----> 1\u001b[0m \u001b[43mtrader\u001b[49m\u001b[43m(\u001b[49m\u001b[43mcurrency\u001b[49m\u001b[38;5;241;43m=\u001b[39;49m\u001b[38;5;124;43m\"\u001b[39;49m\u001b[38;5;124;43mGT_USDT\u001b[39;49m\u001b[38;5;124;43m\"\u001b[39;49m\u001b[43m,\u001b[49m\u001b[43m \u001b[49m\u001b[43mamount\u001b[49m\u001b[38;5;241;43m=\u001b[39;49m\u001b[38;5;124;43m\"\u001b[39;49m\u001b[38;5;124;43m1\u001b[39;49m\u001b[38;5;124;43m\"\u001b[39;49m\u001b[43m,\u001b[49m\u001b[43m \u001b[49m\u001b[43mside\u001b[49m\u001b[38;5;241;43m=\u001b[39;49m\u001b[38;5;124;43m\"\u001b[39;49m\u001b[38;5;124;43msell\u001b[39;49m\u001b[38;5;124;43m\"\u001b[39;49m\u001b[43m)\u001b[49m\n",
      "Input \u001b[0;32mIn [168]\u001b[0m, in \u001b[0;36mtrader\u001b[0;34m(currency, amount, side, commission)\u001b[0m\n\u001b[1;32m     79\u001b[0m     \u001b[38;5;28;01mbreak\u001b[39;00m\n\u001b[1;32m     81\u001b[0m \u001b[38;5;66;03m#Wait between each loop. \u001b[39;00m\n\u001b[1;32m     82\u001b[0m \u001b[38;5;66;03m#Too many requests from API may result in banning or cutting connection.\u001b[39;00m\n\u001b[0;32m---> 83\u001b[0m \u001b[43mtime\u001b[49m\u001b[38;5;241;43m.\u001b[39;49m\u001b[43msleep\u001b[49m\u001b[43m(\u001b[49m\u001b[38;5;241;43m15\u001b[39;49m\u001b[43m)\u001b[49m\n",
      "\u001b[0;31mKeyboardInterrupt\u001b[0m: "
     ]
    }
   ],
   "source": [
    "trader(currency=\"GT_USDT\", amount=\"1\", side=\"sell\")"
   ]
  },
  {
   "cell_type": "markdown",
   "metadata": {},
   "source": [
    "<br><br> The bot is working as expected. I have not implemented an advanced strategy and keep the difference between buy and sell prices too narrow to test all code lines. I made a small loss because the commission was greater than my gross profit. "
   ]
  },
  {
   "cell_type": "markdown",
   "metadata": {},
   "source": [
    "<br><br><br>"
   ]
  },
  {
   "cell_type": "markdown",
   "metadata": {
    "tags": []
   },
   "source": [
    "## 3. CONCLUSION AND DISCUSSION"
   ]
  },
  {
   "cell_type": "markdown",
   "metadata": {},
   "source": [
    "Trader bots allow users to buy or sell stocks automatically at a given price or a dynamic price. We can implement a strategy to trade with bots. This can be finding a price with trading indicators, giving a selling order after buying order is filled or anything you can think of. My motivation was to eliminate human emotions while trading. "
   ]
  },
  {
   "cell_type": "markdown",
   "metadata": {},
   "source": [
    "In this work, I have created a trader bot for binance that makes an actual trade in real life. I explained all steps and created a flowchart to make the process clear. This bot can be improved far more with your imaginations and skills."
   ]
  },
  {
   "cell_type": "markdown",
   "metadata": {},
   "source": [
    "**See also** Technical Indicators for Financial Analysis with Python (Jupyter): https://github.com/DrFarukAydin/data-science-portfolio/blob/main/financial-tools/technical-indicators-finance.ipynb"
   ]
  },
  {
   "cell_type": "markdown",
   "metadata": {},
   "source": [
    "**See also** Binance Trader Bot with Python: https://github.com/DrFarukAydin/data-science-portfolio/blob/main/financial-tools/binance-bot.ipynb"
   ]
  },
  {
   "cell_type": "markdown",
   "metadata": {},
   "source": [
    "**See also** Data Visualization for Financial Analysis with Python (Jupyter): https://github.com/DrFarukAydin/data-science-portfolio/blob/main/financial-tools/data-visualization-finance.ipynb"
   ]
  }
 ],
 "metadata": {
  "kernelspec": {
   "display_name": "Python 3 (ipykernel)",
   "language": "python",
   "name": "python3"
  },
  "language_info": {
   "codemirror_mode": {
    "name": "ipython",
    "version": 3
   },
   "file_extension": ".py",
   "mimetype": "text/x-python",
   "name": "python",
   "nbconvert_exporter": "python",
   "pygments_lexer": "ipython3",
   "version": "3.9.12"
  }
 },
 "nbformat": 4,
 "nbformat_minor": 4
}
