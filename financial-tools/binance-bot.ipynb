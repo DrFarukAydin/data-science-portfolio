{
 "cells": [
  {
   "cell_type": "markdown",
   "id": "ac6ec9a0-0695-4ed1-b35c-ba9f1b45f7c1",
   "metadata": {},
   "source": [
    "# Trader Bot with Binance API"
   ]
  },
  {
   "cell_type": "markdown",
   "id": "cf137041-7d8b-402c-b49f-34d18ba5205e",
   "metadata": {},
   "source": [
    "In this work, crypto data will be imported using Binance API and and a trader bot will be created for automated with python."
   ]
  },
  {
   "cell_type": "markdown",
   "id": "66efcda6-043c-411e-8b16-757383b9afe6",
   "metadata": {},
   "source": [
    "**See also** Technical Indicators for Financial Analysis with Python (Jupyter): (the link will be uploaded.)"
   ]
  },
  {
   "cell_type": "markdown",
   "id": "eefb8e2c-b3af-4685-b2a7-970e1d2926b2",
   "metadata": {},
   "source": [
    "**See also** Gate.io Trader Bot with Python: (the link will be uploaded.)"
   ]
  },
  {
   "cell_type": "markdown",
   "id": "c9ae1696-479d-486a-8f26-398ce10eb56f",
   "metadata": {},
   "source": [
    "**See also** Data Visualization for Financial Analysis with Python (Jupyter): (the link will be uploaded.)"
   ]
  },
  {
   "cell_type": "markdown",
   "id": "17eb3648-73e8-4c8f-9cfe-2da32f4b2a26",
   "metadata": {},
   "source": [
    "<br><br>"
   ]
  },
  {
   "cell_type": "markdown",
   "id": "7fad3f29-8291-40c6-93b4-b5fabc7957e8",
   "metadata": {},
   "source": [
    "**WARNING!!**"
   ]
  },
  {
   "cell_type": "markdown",
   "id": "7cb80844-7358-47b8-b016-9e8db886813f",
   "metadata": {},
   "source": [
    "<li>The strategies used in this section are <b>not investment advices</b>. They are shown for only educational purposes.\n",
    "<li>The bot makes real transactions. Therefore, be sure to understand them clearly before implementation. Otherwise, you can lose your money."
   ]
  },
  {
   "cell_type": "markdown",
   "id": "1f9b900b-f1fc-42d1-8608-2f644665e0f4",
   "metadata": {},
   "source": [
    "<br><br>"
   ]
  },
  {
   "cell_type": "markdown",
   "id": "14014b41-79a6-4819-9d4b-e9e0f834016a",
   "metadata": {},
   "source": [
    "## 1. Importing Libraries and Data"
   ]
  },
  {
   "cell_type": "markdown",
   "id": "d9d86ba1-5439-4eec-a9fb-c8a0dcf235e2",
   "metadata": {},
   "source": [
    "<br>**Importing Libraries**"
   ]
  },
  {
   "cell_type": "code",
   "execution_count": 65,
   "id": "f93d26aa-6114-4264-b740-ef1339fd6670",
   "metadata": {},
   "outputs": [],
   "source": [
    "import pandas as pd\n",
    "import numpy as np\n",
    "import seaborn as sns\n",
    "import matplotlib.pyplot as plt\n",
    "import matplotlib.dates as mdates\n",
    "%matplotlib inline\n",
    "import sqlalchemy\n",
    "import time\n",
    "from datetime import datetime\n",
    "import os\n",
    "import asyncio\n",
    "import warnings\n",
    "warnings.filterwarnings('ignore')\n",
    "from mplfinance.original_flavor import candlestick_ohlc\n",
    "import pandas_ta as pta"
   ]
  },
  {
   "cell_type": "code",
   "execution_count": 2,
   "id": "80353542-a687-4f57-8561-93348c80e2ed",
   "metadata": {
    "tags": []
   },
   "outputs": [],
   "source": [
    "#pip install python-binance"
   ]
  },
  {
   "cell_type": "code",
   "execution_count": 3,
   "id": "c924b65a-d475-4214-b2e7-3b96f7a72893",
   "metadata": {},
   "outputs": [],
   "source": [
    "from binance import Client\n",
    "from binance import BinanceSocketManager"
   ]
  },
  {
   "cell_type": "markdown",
   "id": "d1d64a26-2997-48c3-a9d7-9018c143832a",
   "metadata": {},
   "source": [
    "**Note** that some libraries should be installed with pip install."
   ]
  },
  {
   "cell_type": "markdown",
   "id": "2ac0fd8a-affd-40b7-b669-30f9c0c4b45a",
   "metadata": {},
   "source": [
    "**Warning:** You should pip install <b>python-binance</b> to be able to import binance"
   ]
  },
  {
   "cell_type": "markdown",
   "id": "f279dba7-5fdc-4d06-baa4-d445c2c15916",
   "metadata": {},
   "source": [
    "<br>**Creating Connection**"
   ]
  },
  {
   "cell_type": "code",
   "execution_count": null,
   "id": "253fce4e-23d8-4f76-80ec-9951cf0552b6",
   "metadata": {},
   "outputs": [],
   "source": [
    "api_key = \"ENTER YOUR api_key\"\n",
    "api_secret = \"ENTER YOUR api_secret\""
   ]
  },
  {
   "cell_type": "code",
   "execution_count": 5,
   "id": "b4119df5-ab98-4111-a2bb-5179b64994a2",
   "metadata": {},
   "outputs": [],
   "source": [
    "client = Client(api_key, api_secret)\n"
   ]
  },
  {
   "cell_type": "markdown",
   "id": "ff4fa487-3895-4a54-82b3-81521542da89",
   "metadata": {},
   "source": [
    "<br><br>**Optional: Importing data with BinanceSocketManager**"
   ]
  },
  {
   "cell_type": "markdown",
   "id": "6f129923-79e7-4a3c-b7ba-eefeb6891718",
   "metadata": {},
   "source": [
    "There are two ways to import data from Binance. Either using Socket or getting historical data.<br>\n",
    "<li> Using Socket Manager you can store your data to a local database.\n",
    "<li> Getting historical data can provide historical and present data. If you do not want to store data in a local database then it is more feasible to choose this option."
   ]
  },
  {
   "cell_type": "code",
   "execution_count": 21,
   "id": "f4eacdd2-165c-4bbf-8dce-d21f6c818f77",
   "metadata": {},
   "outputs": [
    {
     "data": {
      "text/plain": [
       "{'e': 'trade',\n",
       " 'E': 1657721923714,\n",
       " 's': 'MINAUSDT',\n",
       " 't': 21862622,\n",
       " 'p': '0.61600000',\n",
       " 'q': '229.80000000',\n",
       " 'b': 140915181,\n",
       " 'a': 140915244,\n",
       " 'T': 1657721923713,\n",
       " 'm': True,\n",
       " 'M': True}"
      ]
     },
     "execution_count": 21,
     "metadata": {},
     "output_type": "execute_result"
    }
   ],
   "source": [
    "bsm = BinanceSocketManager(client)\n",
    "socket = bsm.trade_socket(\"MINAUSDT\")\n",
    "engine = sqlalchemy.create_engine(\"sqlite:///BTCUSDTstream.db\")\n",
    "await socket.__aenter__()\n",
    "msg = await socket.recv()\n",
    "msg"
   ]
  },
  {
   "cell_type": "code",
   "execution_count": null,
   "id": "7d61271f-e6cd-4db9-8993-b8138919dd54",
   "metadata": {},
   "outputs": [],
   "source": [
    "pd.read_sql(\"MINAUSDT\", engine)"
   ]
  },
  {
   "cell_type": "markdown",
   "id": "16e028df-c077-4a30-af9b-5185bb1f6ab1",
   "metadata": {},
   "source": [
    "<br><li> As seen, the data is provided in json format. We can create a pandas dataframe with a function"
   ]
  },
  {
   "cell_type": "code",
   "execution_count": 6,
   "id": "0534e498-d4ef-4124-b661-ace69beedc6a",
   "metadata": {},
   "outputs": [],
   "source": [
    "def create_df(msg):\n",
    "    # creating pandas dataframe\n",
    "    df = pd.DataFrame([msg])\n",
    "    \n",
    "    # filtering the features we want\n",
    "    df = df.loc[:,[\"s\",\"E\",\"p\"]]\n",
    "    \n",
    "    # renaming column names\n",
    "    df.columns = [\"Symbol\", \"Time\",\"Price\"]\n",
    "    \n",
    "    # replacing data types\n",
    "    df.Price = df[\"Price\"].astype(float)\n",
    "    df.Time = pd.to_datetime(df.Time,unit = \"ms\")\n",
    "    \n",
    "    return df"
   ]
  },
  {
   "cell_type": "code",
   "execution_count": 26,
   "id": "333448cd-6ee6-4f58-8790-25c58f1d5b42",
   "metadata": {},
   "outputs": [
    {
     "data": {
      "text/html": [
       "<div>\n",
       "<style scoped>\n",
       "    .dataframe tbody tr th:only-of-type {\n",
       "        vertical-align: middle;\n",
       "    }\n",
       "\n",
       "    .dataframe tbody tr th {\n",
       "        vertical-align: top;\n",
       "    }\n",
       "\n",
       "    .dataframe thead th {\n",
       "        text-align: right;\n",
       "    }\n",
       "</style>\n",
       "<table border=\"1\" class=\"dataframe\">\n",
       "  <thead>\n",
       "    <tr style=\"text-align: right;\">\n",
       "      <th></th>\n",
       "      <th>Symbol</th>\n",
       "      <th>Time</th>\n",
       "      <th>Price</th>\n",
       "    </tr>\n",
       "  </thead>\n",
       "  <tbody>\n",
       "    <tr>\n",
       "      <th>0</th>\n",
       "      <td>MINAUSDT</td>\n",
       "      <td>2022-07-13 14:18:43.714</td>\n",
       "      <td>0.616</td>\n",
       "    </tr>\n",
       "  </tbody>\n",
       "</table>\n",
       "</div>"
      ],
      "text/plain": [
       "     Symbol                    Time  Price\n",
       "0  MINAUSDT 2022-07-13 14:18:43.714  0.616"
      ]
     },
     "execution_count": 26,
     "metadata": {},
     "output_type": "execute_result"
    }
   ],
   "source": [
    "create_df(msg)"
   ]
  },
  {
   "cell_type": "code",
   "execution_count": 30,
   "id": "9ce92df7-b49f-4632-b8c7-96745854d191",
   "metadata": {},
   "outputs": [
    {
     "name": "stdout",
     "output_type": "stream",
     "text": [
      "<class 'pandas.core.frame.DataFrame'>\n",
      "RangeIndex: 1 entries, 0 to 0\n",
      "Data columns (total 3 columns):\n",
      " #   Column  Non-Null Count  Dtype         \n",
      "---  ------  --------------  -----         \n",
      " 0   Symbol  1 non-null      object        \n",
      " 1   Time    1 non-null      datetime64[ns]\n",
      " 2   Price   1 non-null      float64       \n",
      "dtypes: datetime64[ns](1), float64(1), object(1)\n",
      "memory usage: 152.0+ bytes\n"
     ]
    }
   ],
   "source": [
    "create_df(msg).info()"
   ]
  },
  {
   "cell_type": "markdown",
   "id": "fdb01259-bd44-4302-b522-9cb2ce73fdb3",
   "metadata": {},
   "source": [
    "<br><br>**Importing Historical Data (inc. the most recent)**"
   ]
  },
  {
   "cell_type": "markdown",
   "id": "8aea5a3a-c93f-4ea8-b2c0-bb09dfa3b81a",
   "metadata": {},
   "source": [
    "We can import historical data with a single code."
   ]
  },
  {
   "cell_type": "code",
   "execution_count": 28,
   "id": "70d25f2e-9bc0-4bd8-8a36-4ee76807f4d9",
   "metadata": {},
   "outputs": [
    {
     "data": {
      "text/plain": [
       "[[1657719900000,\n",
       "  '1037.00000000',\n",
       "  '1046.16000000',\n",
       "  '1034.29000000',\n",
       "  '1041.73000000',\n",
       "  '63858.18320000',\n",
       "  1657720799999,\n",
       "  '66451551.53421900',\n",
       "  42034,\n",
       "  '30673.69080000',\n",
       "  '31921165.39044400',\n",
       "  '0'],\n",
       " [1657720800000,\n",
       "  '1041.73000000',\n",
       "  '1048.97000000',\n",
       "  '1037.74000000',\n",
       "  '1041.96000000',\n",
       "  '40773.17680000',\n",
       "  1657721699999,\n",
       "  '42472233.31233400',\n",
       "  29525,\n",
       "  '21064.39330000',\n",
       "  '21938229.65791000',\n",
       "  '0'],\n",
       " [1657721700000,\n",
       "  '1041.96000000',\n",
       "  '1043.00000000',\n",
       "  '1032.80000000',\n",
       "  '1036.92000000',\n",
       "  '28000.53860000',\n",
       "  1657722599999,\n",
       "  '29036452.48743600',\n",
       "  22632,\n",
       "  '13430.70630000',\n",
       "  '13927484.21765300',\n",
       "  '0'],\n",
       " [1657722600000,\n",
       "  '1036.91000000',\n",
       "  '1041.25000000',\n",
       "  '1036.01000000',\n",
       "  '1041.06000000',\n",
       "  '4787.25610000',\n",
       "  1657723499999,\n",
       "  '4968746.59110200',\n",
       "  3015,\n",
       "  '2422.22210000',\n",
       "  '2513994.31848400',\n",
       "  '0']]"
      ]
     },
     "execution_count": 28,
     "metadata": {},
     "output_type": "execute_result"
    }
   ],
   "source": [
    "client.get_historical_klines(\"ETHUSDT\", \"15m\", \"60 min ago UTC+\")"
   ]
  },
  {
   "cell_type": "markdown",
   "id": "b4fe9178-ef4e-4fa7-a978-0c788abc5f67",
   "metadata": {},
   "source": [
    "<br><br> This function requires the pair name we want (ex: \"ETHUSDT\"), the time interval (ex: \"15m\") and how further we want to go back in time (ex:\"60 minutes\"). "
   ]
  },
  {
   "cell_type": "markdown",
   "id": "5b57810b-702b-49da-9e5a-384d442c88d1",
   "metadata": {},
   "source": [
    "As you can see, this function returns a list. To understand their meanings you can check the documentation, but we can create a dataframe for better understanding. To do that we can define a function."
   ]
  },
  {
   "cell_type": "code",
   "execution_count": 7,
   "id": "f5c2eba8-372b-494b-b028-68de5ce90b6c",
   "metadata": {
    "tags": []
   },
   "outputs": [],
   "source": [
    " def klines_table(currency,interval,timeago):\n",
    "    # creating pandas dataframe\n",
    "    frame = pd.DataFrame(client.get_historical_klines(str(currency), str(interval), str(timeago)+\" min ago UTC+\"))    \n",
    "    \n",
    "    # changing column names\n",
    "    frame.columns = [\"Time\",\"Open\", \"High\", \"Low\", \"Close\",\"Volume\", \"Close_time\", \"volume\", \"Number_of_trades\", \"Taker_buy_base_asset_vol\", \"Taker_buy_quote_asset_vol\", \"Ignore\"]\n",
    "    \n",
    "    # setting time as index and setting as time\n",
    "    frame = frame.set_index(\"Time\")\n",
    "    frame.index = pd.to_datetime(frame.index, unit =\"ms\")\n",
    "    \n",
    "    # changing all values to float\n",
    "    frame = frame.astype(float)\n",
    "    return frame"
   ]
  },
  {
   "cell_type": "code",
   "execution_count": 32,
   "id": "3ae5e0e0-1331-4da9-936e-c177d2dfbc39",
   "metadata": {},
   "outputs": [
    {
     "data": {
      "text/html": [
       "<div>\n",
       "<style scoped>\n",
       "    .dataframe tbody tr th:only-of-type {\n",
       "        vertical-align: middle;\n",
       "    }\n",
       "\n",
       "    .dataframe tbody tr th {\n",
       "        vertical-align: top;\n",
       "    }\n",
       "\n",
       "    .dataframe thead th {\n",
       "        text-align: right;\n",
       "    }\n",
       "</style>\n",
       "<table border=\"1\" class=\"dataframe\">\n",
       "  <thead>\n",
       "    <tr style=\"text-align: right;\">\n",
       "      <th></th>\n",
       "      <th>Open</th>\n",
       "      <th>High</th>\n",
       "      <th>Low</th>\n",
       "      <th>Close</th>\n",
       "      <th>Volume</th>\n",
       "      <th>Close_time</th>\n",
       "      <th>volume</th>\n",
       "      <th>Number_of_trades</th>\n",
       "      <th>Taker_buy_base_asset_vol</th>\n",
       "      <th>Taker_buy_quote_asset_vol</th>\n",
       "      <th>Ignore</th>\n",
       "    </tr>\n",
       "    <tr>\n",
       "      <th>Time</th>\n",
       "      <th></th>\n",
       "      <th></th>\n",
       "      <th></th>\n",
       "      <th></th>\n",
       "      <th></th>\n",
       "      <th></th>\n",
       "      <th></th>\n",
       "      <th></th>\n",
       "      <th></th>\n",
       "      <th></th>\n",
       "      <th></th>\n",
       "    </tr>\n",
       "  </thead>\n",
       "  <tbody>\n",
       "    <tr>\n",
       "      <th>2022-07-13 13:45:00</th>\n",
       "      <td>0.610</td>\n",
       "      <td>0.619</td>\n",
       "      <td>0.608</td>\n",
       "      <td>0.618</td>\n",
       "      <td>159188.5</td>\n",
       "      <td>1.657721e+12</td>\n",
       "      <td>97781.7611</td>\n",
       "      <td>566.0</td>\n",
       "      <td>89559.7</td>\n",
       "      <td>55044.8583</td>\n",
       "      <td>0.0</td>\n",
       "    </tr>\n",
       "    <tr>\n",
       "      <th>2022-07-13 14:00:00</th>\n",
       "      <td>0.617</td>\n",
       "      <td>0.621</td>\n",
       "      <td>0.615</td>\n",
       "      <td>0.618</td>\n",
       "      <td>70783.7</td>\n",
       "      <td>1.657722e+12</td>\n",
       "      <td>43747.6022</td>\n",
       "      <td>305.0</td>\n",
       "      <td>36730.6</td>\n",
       "      <td>22717.4072</td>\n",
       "      <td>0.0</td>\n",
       "    </tr>\n",
       "    <tr>\n",
       "      <th>2022-07-13 14:15:00</th>\n",
       "      <td>0.618</td>\n",
       "      <td>0.619</td>\n",
       "      <td>0.615</td>\n",
       "      <td>0.618</td>\n",
       "      <td>35093.4</td>\n",
       "      <td>1.657723e+12</td>\n",
       "      <td>21655.1132</td>\n",
       "      <td>172.0</td>\n",
       "      <td>18595.8</td>\n",
       "      <td>11480.4054</td>\n",
       "      <td>0.0</td>\n",
       "    </tr>\n",
       "    <tr>\n",
       "      <th>2022-07-13 14:30:00</th>\n",
       "      <td>0.618</td>\n",
       "      <td>0.625</td>\n",
       "      <td>0.616</td>\n",
       "      <td>0.624</td>\n",
       "      <td>45722.3</td>\n",
       "      <td>1.657723e+12</td>\n",
       "      <td>28428.4059</td>\n",
       "      <td>212.0</td>\n",
       "      <td>31952.4</td>\n",
       "      <td>19865.6398</td>\n",
       "      <td>0.0</td>\n",
       "    </tr>\n",
       "  </tbody>\n",
       "</table>\n",
       "</div>"
      ],
      "text/plain": [
       "                      Open   High    Low  Close    Volume    Close_time  \\\n",
       "Time                                                                      \n",
       "2022-07-13 13:45:00  0.610  0.619  0.608  0.618  159188.5  1.657721e+12   \n",
       "2022-07-13 14:00:00  0.617  0.621  0.615  0.618   70783.7  1.657722e+12   \n",
       "2022-07-13 14:15:00  0.618  0.619  0.615  0.618   35093.4  1.657723e+12   \n",
       "2022-07-13 14:30:00  0.618  0.625  0.616  0.624   45722.3  1.657723e+12   \n",
       "\n",
       "                         volume  Number_of_trades  Taker_buy_base_asset_vol  \\\n",
       "Time                                                                          \n",
       "2022-07-13 13:45:00  97781.7611             566.0                   89559.7   \n",
       "2022-07-13 14:00:00  43747.6022             305.0                   36730.6   \n",
       "2022-07-13 14:15:00  21655.1132             172.0                   18595.8   \n",
       "2022-07-13 14:30:00  28428.4059             212.0                   31952.4   \n",
       "\n",
       "                     Taker_buy_quote_asset_vol  Ignore  \n",
       "Time                                                    \n",
       "2022-07-13 13:45:00                 55044.8583     0.0  \n",
       "2022-07-13 14:00:00                 22717.4072     0.0  \n",
       "2022-07-13 14:15:00                 11480.4054     0.0  \n",
       "2022-07-13 14:30:00                 19865.6398     0.0  "
      ]
     },
     "execution_count": 32,
     "metadata": {},
     "output_type": "execute_result"
    }
   ],
   "source": [
    "klines_table(\"MINAUSDT\", \"15m\",60)"
   ]
  },
  {
   "cell_type": "code",
   "execution_count": 33,
   "id": "3e9b118a-4d97-41f3-985a-99b5bdc9ed8d",
   "metadata": {},
   "outputs": [
    {
     "name": "stdout",
     "output_type": "stream",
     "text": [
      "<class 'pandas.core.frame.DataFrame'>\n",
      "DatetimeIndex: 4 entries, 2022-07-13 13:45:00 to 2022-07-13 14:30:00\n",
      "Data columns (total 11 columns):\n",
      " #   Column                     Non-Null Count  Dtype  \n",
      "---  ------                     --------------  -----  \n",
      " 0   Open                       4 non-null      float64\n",
      " 1   High                       4 non-null      float64\n",
      " 2   Low                        4 non-null      float64\n",
      " 3   Close                      4 non-null      float64\n",
      " 4   Volume                     4 non-null      float64\n",
      " 5   Close_time                 4 non-null      float64\n",
      " 6   volume                     4 non-null      float64\n",
      " 7   Number_of_trades           4 non-null      float64\n",
      " 8   Taker_buy_base_asset_vol   4 non-null      float64\n",
      " 9   Taker_buy_quote_asset_vol  4 non-null      float64\n",
      " 10  Ignore                     4 non-null      float64\n",
      "dtypes: float64(11)\n",
      "memory usage: 384.0 bytes\n"
     ]
    }
   ],
   "source": [
    "klines_table(\"MINAUSDT\", \"15m\",60).info()"
   ]
  },
  {
   "cell_type": "markdown",
   "id": "078243ce-da3d-46d5-a8fb-756ae301e0b9",
   "metadata": {},
   "source": [
    "<br> Now the table is more understandable. We could also set \"Close_time\" as time, but we will focus on price parameters."
   ]
  },
  {
   "cell_type": "markdown",
   "id": "27800db1-2edb-4bbc-bda8-12dd94644ef6",
   "metadata": {},
   "source": [
    "**Note that** at the last row \"Close\" represents the current price, so each time we rerun this function, the \"Close\" price will be updated because the current time interval has not been closed yet."
   ]
  },
  {
   "cell_type": "markdown",
   "id": "a2ee39b7-15c8-4b73-9772-65200b07b7fc",
   "metadata": {},
   "source": [
    "<br><br>"
   ]
  },
  {
   "cell_type": "markdown",
   "id": "090fb321-47d1-462a-bead-81667f9b2c26",
   "metadata": {},
   "source": [
    "**Checking Assets in the Wallet**"
   ]
  },
  {
   "cell_type": "markdown",
   "id": "0d754841-d1c2-4cf8-9758-58c514bfdff1",
   "metadata": {},
   "source": [
    "We can check our assets with a single function. Note that it may give a huge amount of data, because it shows also the pairs we have not invested."
   ]
  },
  {
   "cell_type": "code",
   "execution_count": 36,
   "id": "7c94ab94-b997-4387-92b1-fac25bd538d9",
   "metadata": {},
   "outputs": [
    {
     "data": {
      "text/plain": [
       "[{'asset': 'BTC', 'free': '0.00000768', 'locked': '0.00000000'},\n",
       " {'asset': 'LTC', 'free': '0.00000000', 'locked': '0.00000000'},\n",
       " {'asset': 'ETH', 'free': '0.00006328', 'locked': '0.00000000'}]"
      ]
     },
     "execution_count": 36,
     "metadata": {},
     "output_type": "execute_result"
    }
   ],
   "source": [
    "client.get_account()[\"balances\"][0:3]"
   ]
  },
  {
   "cell_type": "markdown",
   "id": "56632fba-0381-40d8-9c22-9a90fd825bb8",
   "metadata": {},
   "source": [
    "<br> We can define a function to make it clear."
   ]
  },
  {
   "cell_type": "code",
   "execution_count": 8,
   "id": "283504b0-93e0-4021-b83b-af446aa3f2c7",
   "metadata": {},
   "outputs": [],
   "source": [
    "def myasset():\n",
    "    # importing the assets\n",
    "    df = pd.DataFrame(client.get_account()[\"balances\"])\n",
    "    \n",
    "    # setting index as asset pair\n",
    "    df = df.set_index(\"asset\")\n",
    "    \n",
    "    # setting data types as float\n",
    "    df = df.astype(float)\n",
    "    \n",
    "    # adding a column to see our total asset\n",
    "    df[\"total\"] = df[\"free\"] + df[\"locked\"]\n",
    "    \n",
    "    # sorting the assets by our remaining amount\n",
    "    df = df.sort_values(\"total\",ascending = False)\n",
    "    \n",
    "    # filtering the assets that we do not possess\n",
    "    df = df[df[\"total\"] >0]\n",
    "    \n",
    "    # returning only four digits of the values\n",
    "    return df.round(4)"
   ]
  },
  {
   "cell_type": "code",
   "execution_count": 39,
   "id": "d489207f-3c24-4786-86c6-7ecd319676a3",
   "metadata": {},
   "outputs": [
    {
     "data": {
      "text/html": [
       "<div>\n",
       "<style scoped>\n",
       "    .dataframe tbody tr th:only-of-type {\n",
       "        vertical-align: middle;\n",
       "    }\n",
       "\n",
       "    .dataframe tbody tr th {\n",
       "        vertical-align: top;\n",
       "    }\n",
       "\n",
       "    .dataframe thead th {\n",
       "        text-align: right;\n",
       "    }\n",
       "</style>\n",
       "<table border=\"1\" class=\"dataframe\">\n",
       "  <thead>\n",
       "    <tr style=\"text-align: right;\">\n",
       "      <th></th>\n",
       "      <th>free</th>\n",
       "      <th>locked</th>\n",
       "      <th>total</th>\n",
       "    </tr>\n",
       "    <tr>\n",
       "      <th>asset</th>\n",
       "      <th></th>\n",
       "      <th></th>\n",
       "      <th></th>\n",
       "    </tr>\n",
       "  </thead>\n",
       "  <tbody>\n",
       "    <tr>\n",
       "      <th>ETH</th>\n",
       "      <td>0.0001</td>\n",
       "      <td>0.0</td>\n",
       "      <td>0.0001</td>\n",
       "    </tr>\n",
       "    <tr>\n",
       "      <th>LUNA</th>\n",
       "      <td>0.0001</td>\n",
       "      <td>0.0</td>\n",
       "      <td>0.0001</td>\n",
       "    </tr>\n",
       "    <tr>\n",
       "      <th>SUPER</th>\n",
       "      <td>0.0000</td>\n",
       "      <td>0.0</td>\n",
       "      <td>0.0000</td>\n",
       "    </tr>\n",
       "    <tr>\n",
       "      <th>BTC</th>\n",
       "      <td>0.0000</td>\n",
       "      <td>0.0</td>\n",
       "      <td>0.0000</td>\n",
       "    </tr>\n",
       "    <tr>\n",
       "      <th>DASH</th>\n",
       "      <td>0.0000</td>\n",
       "      <td>0.0</td>\n",
       "      <td>0.0000</td>\n",
       "    </tr>\n",
       "  </tbody>\n",
       "</table>\n",
       "</div>"
      ],
      "text/plain": [
       "         free  locked   total\n",
       "asset                        \n",
       "ETH    0.0001     0.0  0.0001\n",
       "LUNA   0.0001     0.0  0.0001\n",
       "SUPER  0.0000     0.0  0.0000\n",
       "BTC    0.0000     0.0  0.0000\n",
       "DASH   0.0000     0.0  0.0000"
      ]
     },
     "execution_count": 39,
     "metadata": {},
     "output_type": "execute_result"
    }
   ],
   "source": [
    "myasset().tail(5)"
   ]
  },
  {
   "cell_type": "markdown",
   "id": "2e684ab1-0287-4821-ab78-3b7533d04d60",
   "metadata": {},
   "source": [
    "<br><br>"
   ]
  },
  {
   "cell_type": "markdown",
   "id": "9ee821f2-4e39-49e0-b0a1-5e78d0b04c65",
   "metadata": {},
   "source": [
    "**Checking Trades**"
   ]
  },
  {
   "cell_type": "markdown",
   "id": "ec9414ef-52d6-4ed5-8c8d-68f9c56dedd6",
   "metadata": {},
   "source": [
    "You can import your trading transactions with a single function. You can also create a function to clean your dataframe if required."
   ]
  },
  {
   "cell_type": "code",
   "execution_count": 10,
   "id": "54cf9d86-6066-4bc3-9c78-0b79afca7d33",
   "metadata": {},
   "outputs": [
    {
     "data": {
      "text/html": [
       "<div>\n",
       "<style scoped>\n",
       "    .dataframe tbody tr th:only-of-type {\n",
       "        vertical-align: middle;\n",
       "    }\n",
       "\n",
       "    .dataframe tbody tr th {\n",
       "        vertical-align: top;\n",
       "    }\n",
       "\n",
       "    .dataframe thead th {\n",
       "        text-align: right;\n",
       "    }\n",
       "</style>\n",
       "<table border=\"1\" class=\"dataframe\">\n",
       "  <thead>\n",
       "    <tr style=\"text-align: right;\">\n",
       "      <th></th>\n",
       "      <th>symbol</th>\n",
       "      <th>id</th>\n",
       "      <th>orderId</th>\n",
       "      <th>orderListId</th>\n",
       "      <th>price</th>\n",
       "      <th>qty</th>\n",
       "      <th>quoteQty</th>\n",
       "      <th>commission</th>\n",
       "      <th>commissionAsset</th>\n",
       "      <th>time</th>\n",
       "      <th>isBuyer</th>\n",
       "      <th>isMaker</th>\n",
       "      <th>isBestMatch</th>\n",
       "    </tr>\n",
       "  </thead>\n",
       "  <tbody>\n",
       "    <tr>\n",
       "      <th>497</th>\n",
       "      <td>MINAUSDT</td>\n",
       "      <td>7630719</td>\n",
       "      <td>40896597</td>\n",
       "      <td>-1</td>\n",
       "      <td>4.14500000</td>\n",
       "      <td>65.30000000</td>\n",
       "      <td>270.66850000</td>\n",
       "      <td>0.00042362</td>\n",
       "      <td>BNB</td>\n",
       "      <td>1634935184420</td>\n",
       "      <td>False</td>\n",
       "      <td>False</td>\n",
       "      <td>True</td>\n",
       "    </tr>\n",
       "    <tr>\n",
       "      <th>498</th>\n",
       "      <td>MINAUSDT</td>\n",
       "      <td>7630720</td>\n",
       "      <td>40896597</td>\n",
       "      <td>-1</td>\n",
       "      <td>4.14500000</td>\n",
       "      <td>25.00000000</td>\n",
       "      <td>103.62500000</td>\n",
       "      <td>0.00016218</td>\n",
       "      <td>BNB</td>\n",
       "      <td>1634935184420</td>\n",
       "      <td>False</td>\n",
       "      <td>False</td>\n",
       "      <td>True</td>\n",
       "    </tr>\n",
       "    <tr>\n",
       "      <th>499</th>\n",
       "      <td>MINAUSDT</td>\n",
       "      <td>7630740</td>\n",
       "      <td>40896597</td>\n",
       "      <td>-1</td>\n",
       "      <td>4.14500000</td>\n",
       "      <td>36.10000000</td>\n",
       "      <td>149.63450000</td>\n",
       "      <td>0.00023418</td>\n",
       "      <td>BNB</td>\n",
       "      <td>1634935184426</td>\n",
       "      <td>False</td>\n",
       "      <td>True</td>\n",
       "      <td>True</td>\n",
       "    </tr>\n",
       "  </tbody>\n",
       "</table>\n",
       "</div>"
      ],
      "text/plain": [
       "       symbol       id   orderId  orderListId       price          qty  \\\n",
       "497  MINAUSDT  7630719  40896597           -1  4.14500000  65.30000000   \n",
       "498  MINAUSDT  7630720  40896597           -1  4.14500000  25.00000000   \n",
       "499  MINAUSDT  7630740  40896597           -1  4.14500000  36.10000000   \n",
       "\n",
       "         quoteQty  commission commissionAsset           time  isBuyer  \\\n",
       "497  270.66850000  0.00042362             BNB  1634935184420    False   \n",
       "498  103.62500000  0.00016218             BNB  1634935184420    False   \n",
       "499  149.63450000  0.00023418             BNB  1634935184426    False   \n",
       "\n",
       "     isMaker  isBestMatch  \n",
       "497    False         True  \n",
       "498    False         True  \n",
       "499     True         True  "
      ]
     },
     "execution_count": 10,
     "metadata": {},
     "output_type": "execute_result"
    }
   ],
   "source": [
    "pd.DataFrame(client.get_my_trades(symbol=\"MINAUSDT\")).tail(3)"
   ]
  },
  {
   "cell_type": "markdown",
   "id": "cc642851-2c15-4a3c-a6d6-9c532896c732",
   "metadata": {},
   "source": [
    "<br><br>"
   ]
  },
  {
   "cell_type": "markdown",
   "id": "3db81f96-a2b0-4508-b373-7cc411be184e",
   "metadata": {},
   "source": [
    "# 2. TRADING BOT"
   ]
  },
  {
   "cell_type": "markdown",
   "id": "ece42cb0-7f47-4bad-86b6-988454fdb2cc",
   "metadata": {},
   "source": [
    "A trading bot can trade automatically when the conditions defined by us satisfied. These conditions can be a fixed price or a dynamic price calculated by technical indicators."
   ]
  },
  {
   "cell_type": "markdown",
   "id": "c16d6b1a-b5a0-468d-b8e3-ba4f90fa479c",
   "metadata": {},
   "source": [
    "**WARNING!!**"
   ]
  },
  {
   "cell_type": "markdown",
   "id": "d92c512a-0343-4e05-bea3-beb180109f84",
   "metadata": {},
   "source": [
    "<li>The strategies used in this section are <b>not investment advices</b>. They are shown for only educational purposes.\n",
    "<li>The bot makes real transactions. Therefore, be sure to understand them clearly before implementation. Otherwise, you can lose your money."
   ]
  },
  {
   "cell_type": "markdown",
   "id": "80f4eb75-2056-4778-88e7-7d4cac2047e7",
   "metadata": {},
   "source": [
    "<br><br><br>"
   ]
  },
  {
   "cell_type": "markdown",
   "id": "686af1eb-5a35-4d86-8c26-28d9b078a42d",
   "metadata": {},
   "source": [
    "**Buy/Sell Function**"
   ]
  },
  {
   "cell_type": "markdown",
   "id": "e2057965-b291-4dcb-9fee-3812be00bd48",
   "metadata": {},
   "source": [
    "We can begin with a simple bot that buys/sells at a certain price. The following codes can be used to make a real transaction."
   ]
  },
  {
   "cell_type": "markdown",
   "id": "45a162c6-1104-4bec-830a-ccd5397d7264",
   "metadata": {},
   "source": [
    "**order = client.create_order(symbol = \"BNBUSDT\",\n",
    "                                       side = \"BUY\",\n",
    "                                       type = \"MARKET\",\n",
    "                                       quantity = \"0.05\")**"
   ]
  },
  {
   "cell_type": "markdown",
   "id": "034684f3-8c89-4416-8b21-dcf3f70deaf7",
   "metadata": {},
   "source": [
    "**order = client.create_order(symbol = \"BNBUSDT\",\n",
    "                                       side = \"SELL\",\n",
    "                                       type = \"LIMIT\",\n",
    "                                        price = \"300.00\",\n",
    "                                       quantity = \"0.05\",\n",
    "                                       timeInForce = \"GTC\")**"
   ]
  },
  {
   "cell_type": "markdown",
   "id": "9f8024f4-40b0-48e8-9ff7-153483bc48ce",
   "metadata": {},
   "source": [
    "**order = client.create_order(symbol = symbol = \"BNBUSDT\",\n",
    "                                        side = \"BUY\",\n",
    "                                        type = \"STOP_LOSS_LIMIT\",\n",
    "                                        stopPrice = \"200.00\",\n",
    "                                        price = \"180.00\", quantity = \"0.05\",\n",
    "                                        timeInForce = \"GTC\")**"
   ]
  },
  {
   "cell_type": "markdown",
   "id": "37f3458f-4036-4c41-b713-5a269ed0a390",
   "metadata": {},
   "source": [
    "<br>"
   ]
  },
  {
   "cell_type": "markdown",
   "id": "faeafdc8-3617-480b-9ef3-a4d20372fd35",
   "metadata": {},
   "source": [
    "Parameters\n",
    "<li><b>symbol</b> is the name of the pair we want to trade.\n",
    "<li><b>side</b> shows either we want to \"BUY\" or \"SELL\".\n",
    "<li><b>type</b> is the type of the transaction. This can be \"MARKET\" to trade at the current price, \"LIMIT\" to trade, \"STOP_LOSS_LIMIT\" to create an order that is activated a certain price."
   ]
  },
  {
   "cell_type": "markdown",
   "id": "bda6cfde-0144-46dc-a2e8-a27d29951fb0",
   "metadata": {},
   "source": [
    "<br><br>"
   ]
  },
  {
   "cell_type": "markdown",
   "id": "549d657c-f057-4d5c-b86f-76b192649de1",
   "metadata": {},
   "source": [
    "**Bot Structure**"
   ]
  },
  {
   "cell_type": "markdown",
   "id": "fb297d13-fd6a-426d-8884-e038549358f0",
   "metadata": {},
   "source": [
    "Bot structure may be the most important part of creating a bot. Before coding this should be designed carefully. The basic steps are as follows:"
   ]
  },
  {
   "cell_type": "markdown",
   "id": "096d3a69-7ad1-4e78-a13a-a33315c5b0a6",
   "metadata": {},
   "source": [
    "<li> Defining a variable that shows our current situation, i.e., are we ready to buy or sell. This is crucial because we do not want to buy or sell more than once, when our price criterion is met.\n",
    "<li> Creating a loop for constantly importing the most recent data.\n",
    "<li> Checking current order situation, i.e., is an open order has been filled.\n",
    "<li> Analyzing the most recent data to decide our price that we are willing to trade.\n",
    "<li> If there is no open order, then create an order using \"LIMIT\" or continue to create an order later when the price criterion is met.\n",
    "<li> Change our current variable accordingly.\n",
    "<br><br>"
   ]
  },
  {
   "cell_type": "markdown",
   "id": "d5f5d855-5946-466a-9867-a7bc5877242e",
   "metadata": {},
   "source": [
    "<img src='bot-flowchart.png'/>"
   ]
  },
  {
   "cell_type": "markdown",
   "id": "bdb3989a-6f2f-4958-a66d-98482d4c62ce",
   "metadata": {},
   "source": [
    "<br><br>"
   ]
  },
  {
   "cell_type": "markdown",
   "id": "828c8233-c8a1-4011-b07c-4ee7258262d0",
   "metadata": {},
   "source": [
    "**Trading Strategy**"
   ]
  },
  {
   "cell_type": "markdown",
   "id": "8a5063db-5c56-4af3-8dea-adf2906798ac",
   "metadata": {},
   "source": [
    "Before making a trading bot, we should decide our strategy, at which price we would buy or sell. There are countless possibilities to decide that. This work focuses on trading bot, thus, we create a simple grid function."
   ]
  },
  {
   "cell_type": "markdown",
   "id": "e984b90c-8487-4d03-9868-d1ba140d37b2",
   "metadata": {},
   "source": [
    "In general, technical indicators are used to determine the target price. Some technical indicators can be found another work in this repository. The link will be provided as soon as it is uploaded."
   ]
  },
  {
   "cell_type": "code",
   "execution_count": 90,
   "id": "06654696-81d0-41f9-a44e-f6a8d872209f",
   "metadata": {},
   "outputs": [],
   "source": [
    "def price_finder_grid(side, buy_price=224.3, sell_price=224.5):\n",
    "    \n",
    "    if side == \"BUY\":\n",
    "        return buy_price\n",
    "    if side == \"SELL\":\n",
    "        return sell_price"
   ]
  },
  {
   "cell_type": "markdown",
   "id": "7798aeda-5044-40f3-94d7-789c2a674e57",
   "metadata": {},
   "source": [
    "The price_finder function is basically a implemantation of grid trade that is buying/selling at given prices."
   ]
  },
  {
   "cell_type": "markdown",
   "id": "d1012a4b-246a-43c1-a269-2ec2d80f2d26",
   "metadata": {},
   "source": [
    "<br><br> Following this structure, we can make a trader bot. The explanations will be given in the function."
   ]
  },
  {
   "cell_type": "markdown",
   "id": "78939907-8acc-4e66-9119-0b1efb57fe76",
   "metadata": {},
   "source": [
    "**Important Note:** The bot will not stop unless you force it, for example, by interrupting kernel."
   ]
  },
  {
   "cell_type": "code",
   "execution_count": 93,
   "id": "db06947d-6165-4238-94ba-72f62f314430",
   "metadata": {},
   "outputs": [],
   "source": [
    "def trader(currency, amount=0, side=\"BUY\", commission=0.00075):\n",
    "    \n",
    "    #define current position\n",
    "    open_order = False\n",
    "    \n",
    "    #checking the parameters are given correctly\n",
    "    side = side.upper()\n",
    "    if side not in [\"BUY\", \"SELL\"]:\n",
    "        print(\"Please enter a valid 'side' Value\")\n",
    "        return\n",
    "    if side == \"SELL\":    #This is placed for avoiding error when calculating Profit\n",
    "        buyprice=0\n",
    "    \n",
    "    amount = float(amount)\n",
    "    commission = float(commission)\n",
    "    \n",
    "    print(\"\\nBOT started!\\n\")\n",
    "    \n",
    "    \n",
    "    \n",
    "    \n",
    "    #Importing recent data\n",
    "    df = klines_table(currency, \"15m\", 15*15)     #15m interval data for last 15*15 minutes\n",
    "    last_time = df.index[-1]                      #Last recorded time interval\n",
    "    last_price = df[\"Close\"][-1]                  #Most recent price\n",
    "    \n",
    "    \n",
    "    \n",
    "    \n",
    "    #Loop begins here\n",
    "    while True:      \n",
    "        \n",
    "        #importing recent data\n",
    "        df = klines_table(currency, \"15m\", 15*15)     #15m interval data for last 15*15 minutes\n",
    "            \n",
    "            \n",
    "            \n",
    "        \n",
    "        # If there is an open order, change current side if filled, cancel it otherwise to be updated later\n",
    "        if open_order == True:\n",
    "            open_order = False\n",
    "            currentOrder = client.get_order(symbol=currency,orderId=orderId) # Existing Order Info\n",
    "            \n",
    "            if currentOrder['status']=='FILLED':  #Check if the existing order is filled           \n",
    "\n",
    "                #Change the recent side\n",
    "                if side == \"BUY\":\n",
    "                    side = \"SELL\"\n",
    "                    buyprice = float(client.get_my_trades(symbol = currency)[-1][\"price\"])   #Get the price where the order is filled at\n",
    "                    print(\"\\n\\nBuy order completed at $ {:.4f}\\n\\n\".format(buyprice))     \n",
    "                    \n",
    "                elif side == \"SELL\":\n",
    "                    side = \"BUY\"\n",
    "                    sellprice = float(client.get_my_trades(symbol = currency)[-1][\"price\"])   #Get the price where the order is filled at\n",
    "                    print(\"\\n\\nSell order completed: $ {:.4f}\\n\\n\".format(sellprice))\n",
    "                    print(\"***** PROFIT: $ {:.4f}\".format(amount*((sellprice-buyprice)-(sellprice+buyprice)*commission)))\n",
    "                    print (\"% {:.4f}\\n\\n\".format(((sellprice-buyprice)-(sellprice+buyprice)*commission)/buyprice*100) )\n",
    "            \n",
    "            #If current order is not filled then cancel the order to be updated later\n",
    "            else:\n",
    "                result = client.cancel_order(symbol=currency,\n",
    "                                                 orderId=orderId)\n",
    "                print(\"{} order is canceled.\\n\".format(side))\n",
    "\n",
    "        \n",
    "        \n",
    "        \n",
    "        # Setting the target price we want to buy or sell\n",
    "        target_price = price_finder_grid(side=side)\n",
    "        \n",
    "        \n",
    "        \n",
    "        \n",
    "        # Create a buy/sell order\n",
    "        order = client.create_order(symbol = currency,\n",
    "                                                side = side,\n",
    "                                                type = \"LIMIT\",\n",
    "                                                price = \"{:.3f}\".format(target_price),\n",
    "                                                quantity = str(amount),\n",
    "                                                timeInForce = \"GTC\")\n",
    "        \n",
    "        print(datetime.fromtimestamp(time.time()).strftime(\"%H:%M:%S\"))\n",
    "        print(\"{0} order placed for {1} {2} at $ {3} // Current Price: {4}\".format(side, amount, currency, target_price, df[\"Close\"][-1]))\n",
    "        orderId = order[\"orderId\"]\n",
    "        print(\"OrderId: \",orderId)\n",
    "        currentOrder = client.get_order(symbol=currency,orderId=orderId)\n",
    "        open_order = True\n",
    "        \n",
    "        \n",
    "        \n",
    "        #Wait between each loop. \n",
    "        #Too many requests from BINANCE API may result in banning or cutting connection.\n",
    "        time.sleep(15)\n",
    "\n",
    "                    \n",
    "    \n",
    "        "
   ]
  },
  {
   "cell_type": "markdown",
   "id": "7426d332-f63a-40d1-847d-cf4ee3202ed8",
   "metadata": {},
   "source": [
    "<br><br> Let's check the function in real life."
   ]
  },
  {
   "cell_type": "code",
   "execution_count": 91,
   "id": "24797502-8860-47a0-a925-744bf4f5b8cc",
   "metadata": {},
   "outputs": [
    {
     "name": "stdout",
     "output_type": "stream",
     "text": [
      "\n",
      "BOT started!\n",
      "\n",
      "21:20:22\n",
      "BUY order placed for 0.05 BNBUSDT at $ 224.3 // Current Price: 224.2\n",
      "OrderId:  4184710000\n",
      "\n",
      "\n",
      "Buy order completed at $ 224.2000\n",
      "\n",
      "\n",
      "21:20:39\n",
      "SELL order placed for 0.05 BNBUSDT at $ 224.5 // Current Price: 224.2\n",
      "OrderId:  4184710332\n",
      "SELL order is canceled.\n",
      "\n",
      "21:20:58\n",
      "SELL order placed for 0.05 BNBUSDT at $ 224.5 // Current Price: 224.1\n",
      "OrderId:  4184710597\n",
      "SELL order is canceled.\n",
      "\n",
      "21:21:17\n",
      "SELL order placed for 0.05 BNBUSDT at $ 224.5 // Current Price: 224.2\n",
      "OrderId:  4184710916\n",
      "SELL order is canceled.\n",
      "\n",
      "21:21:35\n",
      "SELL order placed for 0.05 BNBUSDT at $ 224.5 // Current Price: 224.2\n",
      "OrderId:  4184711310\n",
      "SELL order is canceled.\n",
      "\n",
      "21:21:54\n",
      "SELL order placed for 0.05 BNBUSDT at $ 224.5 // Current Price: 224.2\n",
      "OrderId:  4184711532\n",
      "SELL order is canceled.\n",
      "\n",
      "21:22:14\n",
      "SELL order placed for 0.05 BNBUSDT at $ 224.5 // Current Price: 224.1\n",
      "OrderId:  4184712333\n",
      "SELL order is canceled.\n",
      "\n",
      "21:22:32\n",
      "SELL order placed for 0.05 BNBUSDT at $ 224.5 // Current Price: 224.1\n",
      "OrderId:  4184713227\n",
      "SELL order is canceled.\n",
      "\n",
      "21:22:49\n",
      "SELL order placed for 0.05 BNBUSDT at $ 224.5 // Current Price: 224.2\n",
      "OrderId:  4184713650\n",
      "SELL order is canceled.\n",
      "\n",
      "21:23:07\n",
      "SELL order placed for 0.05 BNBUSDT at $ 224.5 // Current Price: 224.1\n",
      "OrderId:  4184714010\n",
      "SELL order is canceled.\n",
      "\n",
      "21:23:25\n",
      "SELL order placed for 0.05 BNBUSDT at $ 224.5 // Current Price: 224.1\n",
      "OrderId:  4184714351\n",
      "SELL order is canceled.\n",
      "\n",
      "21:23:42\n",
      "SELL order placed for 0.05 BNBUSDT at $ 224.5 // Current Price: 224.2\n",
      "OrderId:  4184714722\n",
      "SELL order is canceled.\n",
      "\n",
      "21:24:00\n",
      "SELL order placed for 0.05 BNBUSDT at $ 224.5 // Current Price: 224.3\n",
      "OrderId:  4184715170\n",
      "SELL order is canceled.\n",
      "\n",
      "21:24:17\n",
      "SELL order placed for 0.05 BNBUSDT at $ 224.5 // Current Price: 224.4\n",
      "OrderId:  4184715698\n",
      "\n",
      "\n",
      "Sell order completed: $ 224.5000\n",
      "\n",
      "\n",
      "***** PROFIT: $ -0.0018\n",
      "% -0.0163\n",
      "\n",
      "\n",
      "21:24:35\n",
      "BUY order placed for 0.05 BNBUSDT at $ 224.3 // Current Price: 224.5\n",
      "OrderId:  4184716251\n"
     ]
    },
    {
     "ename": "KeyboardInterrupt",
     "evalue": "",
     "output_type": "error",
     "traceback": [
      "\u001b[0;31m---------------------------------------------------------------------------\u001b[0m",
      "\u001b[0;31mKeyboardInterrupt\u001b[0m                         Traceback (most recent call last)",
      "Input \u001b[0;32mIn [91]\u001b[0m, in \u001b[0;36m<cell line: 1>\u001b[0;34m()\u001b[0m\n\u001b[0;32m----> 1\u001b[0m \u001b[43mtrader\u001b[49m\u001b[43m(\u001b[49m\u001b[38;5;124;43m\"\u001b[39;49m\u001b[38;5;124;43mBNBUSDT\u001b[39;49m\u001b[38;5;124;43m\"\u001b[39;49m\u001b[43m,\u001b[49m\u001b[43m \u001b[49m\u001b[43mamount\u001b[49m\u001b[43m \u001b[49m\u001b[38;5;241;43m=\u001b[39;49m\u001b[43m \u001b[49m\u001b[38;5;124;43m\"\u001b[39;49m\u001b[38;5;124;43m0.05\u001b[39;49m\u001b[38;5;124;43m\"\u001b[39;49m\u001b[43m)\u001b[49m\n",
      "Input \u001b[0;32mIn [87]\u001b[0m, in \u001b[0;36mtrader\u001b[0;34m(currency, amount, side, commission)\u001b[0m\n\u001b[1;32m     85\u001b[0m open_order \u001b[38;5;241m=\u001b[39m \u001b[38;5;28;01mTrue\u001b[39;00m\n\u001b[1;32m     89\u001b[0m \u001b[38;5;66;03m#Wait between each loop. Too many requests from BINANCE API may result in banning or cutting connection.\u001b[39;00m\n\u001b[0;32m---> 90\u001b[0m \u001b[43mtime\u001b[49m\u001b[38;5;241;43m.\u001b[39;49m\u001b[43msleep\u001b[49m\u001b[43m(\u001b[49m\u001b[38;5;241;43m15\u001b[39;49m\u001b[43m)\u001b[49m\n",
      "\u001b[0;31mKeyboardInterrupt\u001b[0m: "
     ]
    }
   ],
   "source": [
    "trader(\"BNBUSDT\", amount = \"0.05\")"
   ]
  },
  {
   "cell_type": "markdown",
   "id": "a94f543e-d507-4744-aa44-56551e363087",
   "metadata": {},
   "source": [
    "<br><br> The bot is working as expected. I have not implemented an advanced strategy and keep the difference between buy and sell prices too narrow to test all code lines. I made a small loss because the commission was greater than my gross profit. "
   ]
  },
  {
   "cell_type": "markdown",
   "id": "fe74fa27-8a7a-4a21-ab7f-607f12c5f72a",
   "metadata": {},
   "source": [
    "<br><br><br>"
   ]
  },
  {
   "cell_type": "markdown",
   "id": "2de863ea-d402-4f9b-b63c-30a0a1840e0b",
   "metadata": {
    "tags": []
   },
   "source": [
    "## 3. CONCLUSION AND DISCUSSION"
   ]
  },
  {
   "cell_type": "markdown",
   "id": "e080e19c-4a82-49d9-b8e7-ae1b858758ff",
   "metadata": {},
   "source": [
    "Trader bots allow users to buy or sell stocks automatically at a given price or a dynamic price. We can implement a strategy to trade with bots. This can be finding a price with trading indicators, giving a selling order after buying order is filled or anything you can think of. My motivation was to eliminate human emotions while trading. "
   ]
  },
  {
   "cell_type": "markdown",
   "id": "6bc3b3f3-0c69-45c0-97a2-5aaa3427911f",
   "metadata": {},
   "source": [
    "In this work, I have created a trader bot for binance that makes an actual trade in real life. I explained all steps and created a flowchart to make the process clear. This bot can be improved far more with your imaginations and skills."
   ]
  },
  {
   "cell_type": "markdown",
   "id": "0ab0a3eb-df28-4444-8973-b1862b94d3b7",
   "metadata": {},
   "source": [
    "**See also** Technical Indicators for Financial Analysis with Python (Jupyter): (the link will be uploaded.)"
   ]
  },
  {
   "cell_type": "markdown",
   "id": "53c08cf6-6b77-4910-922b-6a35f0518f38",
   "metadata": {},
   "source": [
    "**See also** Gate.io Trader Bot with Python: (the link will be uploaded.)"
   ]
  },
  {
   "cell_type": "markdown",
   "id": "65c25eac-5cd2-4493-a897-3b13c8498fa1",
   "metadata": {},
   "source": [
    "**See also** Data Visualization for Financial Analysis with Python (Jupyter): (the link will be uploaded.)"
   ]
  }
 ],
 "metadata": {
  "kernelspec": {
   "display_name": "Python 3 (ipykernel)",
   "language": "python",
   "name": "python3"
  },
  "language_info": {
   "codemirror_mode": {
    "name": "ipython",
    "version": 3
   },
   "file_extension": ".py",
   "mimetype": "text/x-python",
   "name": "python",
   "nbconvert_exporter": "python",
   "pygments_lexer": "ipython3",
   "version": "3.9.12"
  }
 },
 "nbformat": 4,
 "nbformat_minor": 5
}
