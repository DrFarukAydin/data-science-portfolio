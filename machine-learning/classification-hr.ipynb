{
 "cells": [
  {
   "cell_type": "markdown",
   "id": "add3c195",
   "metadata": {
    "papermill": {
     "duration": 0.122279,
     "end_time": "2021-09-12T23:43:32.455940",
     "exception": false,
     "start_time": "2021-09-12T23:43:32.333661",
     "status": "completed"
    },
    "tags": []
   },
   "source": [
    "## HR Analytics: Job Change of Data Scientist"
   ]
  },
  {
   "cell_type": "markdown",
   "id": "fb0bbc18-a021-4d61-8402-dc335d088d6a",
   "metadata": {},
   "source": [
    "# Classification"
   ]
  },
  {
   "cell_type": "markdown",
   "id": "09e35fb6-a2ca-4ece-b8bc-9eb9222a5db6",
   "metadata": {},
   "source": [
    "## 1. Introduction"
   ]
  },
  {
   "cell_type": "markdown",
   "id": "0f324059-ca53-4efc-814b-f4da0929784c",
   "metadata": {},
   "source": [
    "### 1.1. Motivation"
   ]
  },
  {
   "cell_type": "markdown",
   "id": "3a30273a-9364-47f5-8b99-14e48b19b0c2",
   "metadata": {},
   "source": [
    "In this work, I will perform classification process with machine learning algorithms using a dataframe that is prepared a careful data cleaning process. <b>Logistic Regression, Gaussian Naive Bayes, KNeighbors, SVC, Neural Network (MLP), DecisionTreeClassifier, Random Forests, GradientBoosting, XGBoost, LightGBM, CatBoost</b> and <b>Perceptron</b> algorithms are created and tuned."
   ]
  },
  {
   "cell_type": "markdown",
   "id": "fe9f2efd-99bd-48ba-8c6f-39cb89adb0b2",
   "metadata": {},
   "source": [
    "Data Cleaning and Imputation processes are explained here: https://github.com/DrFarukAydin/data-science-portfolio/blob/main/data-collection-merging-and-cleaning/data-cleaning-for-hr-classification.ipynb"
   ]
  },
  {
   "cell_type": "markdown",
   "id": "090b8b29-4dca-4556-a8cf-a1717acd880d",
   "metadata": {},
   "source": [
    "### 1.2. Data Context"
   ]
  },
  {
   "cell_type": "markdown",
   "id": "13672552-0014-438d-8418-63830840f10e",
   "metadata": {},
   "source": [
    "\"A company which is active in Big Data and Data Science wants to hire data scientists among people who successfully pass some courses which conduct by the company. Many people signup for their training. Company wants to know which of these candidates are really wants to work for the company after training or looking for a new employment because it helps to reduce the cost and time as well as the quality of training or planning the courses and categorization of candidates. Information related to demographics, education, experience are in hands from candidates signup and enrollment.\""
   ]
  },
  {
   "cell_type": "markdown",
   "id": "edc2a0c2-cee1-41e3-83ba-765883bb57f8",
   "metadata": {},
   "source": [
    "The data can be found here: https://www.kaggle.com/datasets/uniabhi/hr-analytics-job-change-of-data-scientists"
   ]
  },
  {
   "cell_type": "markdown",
   "id": "a60e74dc-38bb-4d23-8c21-c16102d0d76d",
   "metadata": {
    "tags": []
   },
   "source": [
    "## 2. Classification Process"
   ]
  },
  {
   "cell_type": "markdown",
   "id": "e82aa728-174c-473d-802c-9007ef8389c7",
   "metadata": {
    "papermill": {
     "duration": 0.122279,
     "end_time": "2021-09-12T23:43:32.455940",
     "exception": false,
     "start_time": "2021-09-12T23:43:32.333661",
     "status": "completed"
    },
    "tags": []
   },
   "source": [
    "### 2.1. Importing Libraries and Dataset"
   ]
  },
  {
   "cell_type": "code",
   "execution_count": 1,
   "id": "f95781e8",
   "metadata": {
    "papermill": {
     "duration": 1.049295,
     "end_time": "2021-09-12T23:43:33.868562",
     "exception": false,
     "start_time": "2021-09-12T23:43:32.819267",
     "status": "completed"
    },
    "tags": []
   },
   "outputs": [],
   "source": [
    "import numpy as np\n",
    "import pandas as pd\n",
    "import seaborn as sns\n",
    "import matplotlib.pyplot as plt"
   ]
  },
  {
   "cell_type": "code",
   "execution_count": 271,
   "id": "c81f08c6-8c23-4c96-9bbf-3628d2f69b27",
   "metadata": {},
   "outputs": [],
   "source": [
    "import statsmodels.api as sm\n",
    "import statsmodels.formula.api as smf\n",
    "from sklearn.preprocessing import scale, StandardScaler \n",
    "from sklearn.model_selection import train_test_split, GridSearchCV, cross_val_score, RandomizedSearchCV\n",
    "from sklearn.metrics import confusion_matrix, accuracy_score, classification_report, plot_confusion_matrix\n",
    "from sklearn.metrics import roc_auc_score,roc_curve\n",
    "\n",
    "from sklearn.neighbors import KNeighborsClassifier\n",
    "from sklearn.discriminant_analysis import LinearDiscriminantAnalysis\n",
    "from sklearn.linear_model import LogisticRegression\n",
    "from sklearn.svm import SVC\n",
    "from sklearn.naive_bayes import GaussianNB\n",
    "from sklearn.neural_network import MLPClassifier\n",
    "from sklearn.tree import DecisionTreeClassifier\n",
    "from sklearn.ensemble import RandomForestClassifier\n",
    "from sklearn.ensemble import GradientBoostingClassifier\n",
    "from xgboost import XGBClassifier\n",
    "from lightgbm import LGBMClassifier\n",
    "from catboost import CatBoostClassifier\n",
    "from sklearn.linear_model import Perceptron\n",
    "from sklearn.linear_model import SGDClassifier\n",
    "\n",
    "from warnings import filterwarnings\n",
    "filterwarnings('ignore')"
   ]
  },
  {
   "cell_type": "code",
   "execution_count": 2,
   "id": "ece8fdb6-306a-4059-987b-5a0345547ff0",
   "metadata": {},
   "outputs": [],
   "source": [
    "df = pd.read_csv(\"hr_df.csv\")"
   ]
  },
  {
   "cell_type": "code",
   "execution_count": 3,
   "id": "006f2823-8a25-4774-b0c2-80ace13900ec",
   "metadata": {},
   "outputs": [
    {
     "data": {
      "text/html": [
       "<div>\n",
       "<style scoped>\n",
       "    .dataframe tbody tr th:only-of-type {\n",
       "        vertical-align: middle;\n",
       "    }\n",
       "\n",
       "    .dataframe tbody tr th {\n",
       "        vertical-align: top;\n",
       "    }\n",
       "\n",
       "    .dataframe thead th {\n",
       "        text-align: right;\n",
       "    }\n",
       "</style>\n",
       "<table border=\"1\" class=\"dataframe\">\n",
       "  <thead>\n",
       "    <tr style=\"text-align: right;\">\n",
       "      <th></th>\n",
       "      <th>enrollee_id</th>\n",
       "      <th>city_development_index</th>\n",
       "      <th>training_hours</th>\n",
       "      <th>gender_Male</th>\n",
       "      <th>gender_Other</th>\n",
       "      <th>relevent_experience_No relevent experience</th>\n",
       "      <th>enrolled_university_Part time course</th>\n",
       "      <th>enrolled_university_no_enrollment</th>\n",
       "      <th>enrolled_university_o_enrollment</th>\n",
       "      <th>education_level_High School</th>\n",
       "      <th>...</th>\n",
       "      <th>experience_19</th>\n",
       "      <th>experience_20</th>\n",
       "      <th>experience_&gt;20</th>\n",
       "      <th>experience_No experience</th>\n",
       "      <th>last_new_job_1</th>\n",
       "      <th>last_new_job_2</th>\n",
       "      <th>last_new_job_3</th>\n",
       "      <th>last_new_job_&gt;4</th>\n",
       "      <th>target</th>\n",
       "      <th>label</th>\n",
       "    </tr>\n",
       "  </thead>\n",
       "  <tbody>\n",
       "    <tr>\n",
       "      <th>0</th>\n",
       "      <td>8949</td>\n",
       "      <td>0.920</td>\n",
       "      <td>36.0</td>\n",
       "      <td>1.0</td>\n",
       "      <td>0.0</td>\n",
       "      <td>0.0</td>\n",
       "      <td>0.0</td>\n",
       "      <td>1.0</td>\n",
       "      <td>0.0</td>\n",
       "      <td>0.0</td>\n",
       "      <td>...</td>\n",
       "      <td>0.0</td>\n",
       "      <td>0.0</td>\n",
       "      <td>1.0</td>\n",
       "      <td>0.0</td>\n",
       "      <td>1.0</td>\n",
       "      <td>0.0</td>\n",
       "      <td>0.0</td>\n",
       "      <td>0.0</td>\n",
       "      <td>1.0</td>\n",
       "      <td>train</td>\n",
       "    </tr>\n",
       "    <tr>\n",
       "      <th>1</th>\n",
       "      <td>29725</td>\n",
       "      <td>0.776</td>\n",
       "      <td>47.0</td>\n",
       "      <td>1.0</td>\n",
       "      <td>0.0</td>\n",
       "      <td>1.0</td>\n",
       "      <td>0.0</td>\n",
       "      <td>1.0</td>\n",
       "      <td>0.0</td>\n",
       "      <td>0.0</td>\n",
       "      <td>...</td>\n",
       "      <td>0.0</td>\n",
       "      <td>0.0</td>\n",
       "      <td>0.0</td>\n",
       "      <td>0.0</td>\n",
       "      <td>0.0</td>\n",
       "      <td>0.0</td>\n",
       "      <td>0.0</td>\n",
       "      <td>1.0</td>\n",
       "      <td>0.0</td>\n",
       "      <td>train</td>\n",
       "    </tr>\n",
       "    <tr>\n",
       "      <th>2</th>\n",
       "      <td>11561</td>\n",
       "      <td>0.624</td>\n",
       "      <td>83.0</td>\n",
       "      <td>0.0</td>\n",
       "      <td>1.0</td>\n",
       "      <td>1.0</td>\n",
       "      <td>0.0</td>\n",
       "      <td>0.0</td>\n",
       "      <td>0.0</td>\n",
       "      <td>0.0</td>\n",
       "      <td>...</td>\n",
       "      <td>0.0</td>\n",
       "      <td>0.0</td>\n",
       "      <td>0.0</td>\n",
       "      <td>0.0</td>\n",
       "      <td>0.0</td>\n",
       "      <td>0.0</td>\n",
       "      <td>0.0</td>\n",
       "      <td>0.0</td>\n",
       "      <td>0.0</td>\n",
       "      <td>train</td>\n",
       "    </tr>\n",
       "    <tr>\n",
       "      <th>3</th>\n",
       "      <td>33241</td>\n",
       "      <td>0.789</td>\n",
       "      <td>52.0</td>\n",
       "      <td>0.0</td>\n",
       "      <td>1.0</td>\n",
       "      <td>1.0</td>\n",
       "      <td>0.0</td>\n",
       "      <td>0.0</td>\n",
       "      <td>1.0</td>\n",
       "      <td>0.0</td>\n",
       "      <td>...</td>\n",
       "      <td>0.0</td>\n",
       "      <td>0.0</td>\n",
       "      <td>0.0</td>\n",
       "      <td>0.0</td>\n",
       "      <td>0.0</td>\n",
       "      <td>0.0</td>\n",
       "      <td>0.0</td>\n",
       "      <td>0.0</td>\n",
       "      <td>1.0</td>\n",
       "      <td>train</td>\n",
       "    </tr>\n",
       "    <tr>\n",
       "      <th>4</th>\n",
       "      <td>666</td>\n",
       "      <td>0.767</td>\n",
       "      <td>8.0</td>\n",
       "      <td>1.0</td>\n",
       "      <td>0.0</td>\n",
       "      <td>0.0</td>\n",
       "      <td>0.0</td>\n",
       "      <td>1.0</td>\n",
       "      <td>0.0</td>\n",
       "      <td>0.0</td>\n",
       "      <td>...</td>\n",
       "      <td>0.0</td>\n",
       "      <td>0.0</td>\n",
       "      <td>1.0</td>\n",
       "      <td>0.0</td>\n",
       "      <td>0.0</td>\n",
       "      <td>0.0</td>\n",
       "      <td>0.0</td>\n",
       "      <td>0.0</td>\n",
       "      <td>0.0</td>\n",
       "      <td>train</td>\n",
       "    </tr>\n",
       "  </tbody>\n",
       "</table>\n",
       "<p>5 rows × 47 columns</p>\n",
       "</div>"
      ],
      "text/plain": [
       "   enrollee_id  city_development_index  training_hours  gender_Male  \\\n",
       "0         8949                   0.920            36.0          1.0   \n",
       "1        29725                   0.776            47.0          1.0   \n",
       "2        11561                   0.624            83.0          0.0   \n",
       "3        33241                   0.789            52.0          0.0   \n",
       "4          666                   0.767             8.0          1.0   \n",
       "\n",
       "   gender_Other  relevent_experience_No relevent experience  \\\n",
       "0           0.0                                         0.0   \n",
       "1           0.0                                         1.0   \n",
       "2           1.0                                         1.0   \n",
       "3           1.0                                         1.0   \n",
       "4           0.0                                         0.0   \n",
       "\n",
       "   enrolled_university_Part time course  enrolled_university_no_enrollment  \\\n",
       "0                                   0.0                                1.0   \n",
       "1                                   0.0                                1.0   \n",
       "2                                   0.0                                0.0   \n",
       "3                                   0.0                                0.0   \n",
       "4                                   0.0                                1.0   \n",
       "\n",
       "   enrolled_university_o_enrollment  education_level_High School  ...  \\\n",
       "0                               0.0                          0.0  ...   \n",
       "1                               0.0                          0.0  ...   \n",
       "2                               0.0                          0.0  ...   \n",
       "3                               1.0                          0.0  ...   \n",
       "4                               0.0                          0.0  ...   \n",
       "\n",
       "   experience_19  experience_20  experience_>20  experience_No experience  \\\n",
       "0            0.0            0.0             1.0                       0.0   \n",
       "1            0.0            0.0             0.0                       0.0   \n",
       "2            0.0            0.0             0.0                       0.0   \n",
       "3            0.0            0.0             0.0                       0.0   \n",
       "4            0.0            0.0             1.0                       0.0   \n",
       "\n",
       "   last_new_job_1  last_new_job_2  last_new_job_3  last_new_job_>4  target  \\\n",
       "0             1.0             0.0             0.0              0.0     1.0   \n",
       "1             0.0             0.0             0.0              1.0     0.0   \n",
       "2             0.0             0.0             0.0              0.0     0.0   \n",
       "3             0.0             0.0             0.0              0.0     1.0   \n",
       "4             0.0             0.0             0.0              0.0     0.0   \n",
       "\n",
       "   label  \n",
       "0  train  \n",
       "1  train  \n",
       "2  train  \n",
       "3  train  \n",
       "4  train  \n",
       "\n",
       "[5 rows x 47 columns]"
      ]
     },
     "execution_count": 3,
     "metadata": {},
     "output_type": "execute_result"
    }
   ],
   "source": [
    "df.head()"
   ]
  },
  {
   "cell_type": "code",
   "execution_count": 4,
   "id": "feaefb80-dc8f-4f30-bbc2-9b5bdab1a37d",
   "metadata": {},
   "outputs": [
    {
     "name": "stdout",
     "output_type": "stream",
     "text": [
      "<class 'pandas.core.frame.DataFrame'>\n",
      "RangeIndex: 21241 entries, 0 to 21240\n",
      "Data columns (total 47 columns):\n",
      " #   Column                                      Non-Null Count  Dtype  \n",
      "---  ------                                      --------------  -----  \n",
      " 0   enrollee_id                                 21241 non-null  int64  \n",
      " 1   city_development_index                      21241 non-null  float64\n",
      " 2   training_hours                              21241 non-null  float64\n",
      " 3   gender_Male                                 21241 non-null  float64\n",
      " 4   gender_Other                                21241 non-null  float64\n",
      " 5   relevent_experience_No relevent experience  21241 non-null  float64\n",
      " 6   enrolled_university_Part time course        21241 non-null  float64\n",
      " 7   enrolled_university_no_enrollment           21241 non-null  float64\n",
      " 8   enrolled_university_o_enrollment            21241 non-null  float64\n",
      " 9   education_level_High School                 21241 non-null  float64\n",
      " 10  education_level_Graduate                    21241 non-null  float64\n",
      " 11  education_level_Masters                     21241 non-null  float64\n",
      " 12  education_level_Phd                         21241 non-null  float64\n",
      " 13  education_level_No education                21241 non-null  float64\n",
      " 14  major_discipline_Business Degree            21241 non-null  float64\n",
      " 15  major_discipline_Humanities                 21241 non-null  float64\n",
      " 16  major_discipline_No Major                   21241 non-null  float64\n",
      " 17  major_discipline_Other                      21241 non-null  float64\n",
      " 18  major_discipline_STEM                       21241 non-null  float64\n",
      " 19  experience_1                                21241 non-null  float64\n",
      " 20  experience_2                                21241 non-null  float64\n",
      " 21  experience_3                                21241 non-null  float64\n",
      " 22  experience_4                                21241 non-null  float64\n",
      " 23  experience_5                                21241 non-null  float64\n",
      " 24  experience_6                                21241 non-null  float64\n",
      " 25  experience_7                                21241 non-null  float64\n",
      " 26  experience_8                                21241 non-null  float64\n",
      " 27  experience_9                                21241 non-null  float64\n",
      " 28  experience_10                               21241 non-null  float64\n",
      " 29  experience_11                               21241 non-null  float64\n",
      " 30  experience_12                               21241 non-null  float64\n",
      " 31  experience_13                               21241 non-null  float64\n",
      " 32  experience_14                               21241 non-null  float64\n",
      " 33  experience_15                               21241 non-null  float64\n",
      " 34  experience_16                               21241 non-null  float64\n",
      " 35  experience_17                               21241 non-null  float64\n",
      " 36  experience_18                               21241 non-null  float64\n",
      " 37  experience_19                               21241 non-null  float64\n",
      " 38  experience_20                               21241 non-null  float64\n",
      " 39  experience_>20                              21241 non-null  float64\n",
      " 40  experience_No experience                    21241 non-null  float64\n",
      " 41  last_new_job_1                              21241 non-null  float64\n",
      " 42  last_new_job_2                              21241 non-null  float64\n",
      " 43  last_new_job_3                              21241 non-null  float64\n",
      " 44  last_new_job_>4                             21241 non-null  float64\n",
      " 45  target                                      19115 non-null  float64\n",
      " 46  label                                       21241 non-null  object \n",
      "dtypes: float64(45), int64(1), object(1)\n",
      "memory usage: 7.6+ MB\n"
     ]
    }
   ],
   "source": [
    "df.info()"
   ]
  },
  {
   "cell_type": "code",
   "execution_count": 22,
   "id": "8111ac16-48bf-4394-a085-bd58fe074229",
   "metadata": {},
   "outputs": [],
   "source": [
    "df_train = df[df[\"label\"] == \"train\"]"
   ]
  },
  {
   "cell_type": "code",
   "execution_count": 23,
   "id": "dd46892e-4fa1-4e44-87d9-261ad2919a22",
   "metadata": {},
   "outputs": [],
   "source": [
    "X = df_train.drop([\"enrollee_id\", \"target\", \"label\"],axis=1)"
   ]
  },
  {
   "cell_type": "code",
   "execution_count": 25,
   "id": "2834a96d-18a7-49b3-879b-b987e5bee914",
   "metadata": {},
   "outputs": [],
   "source": [
    "y = df_train[\"target\"]"
   ]
  },
  {
   "cell_type": "code",
   "execution_count": 27,
   "id": "548ee53f-016b-4b5c-92a5-7288a734e3c2",
   "metadata": {},
   "outputs": [],
   "source": [
    "X_train, X_test, y_train, y_test = train_test_split(X, y, test_size=0.2, random_state=101)"
   ]
  },
  {
   "cell_type": "markdown",
   "id": "585ca401-6378-4c5b-92b1-efaf723dcfe0",
   "metadata": {},
   "source": [
    "<br>I will train our models with 80% of the labeled data and calculate accuracy scores with the remaining 20%."
   ]
  },
  {
   "cell_type": "markdown",
   "id": "ed0bc010-3808-4d14-a3e8-b2e5cdf1d29d",
   "metadata": {},
   "source": [
    "<br><br><br>"
   ]
  },
  {
   "cell_type": "markdown",
   "id": "949ac57b-388b-4a42-8f8f-0e04bcec0a6d",
   "metadata": {},
   "source": [
    "### 2.2. Machine Learning"
   ]
  },
  {
   "cell_type": "markdown",
   "id": "5d2dfa1d-96da-4420-b3c4-bc1bdecc9c18",
   "metadata": {},
   "source": [
    "In this section, I perform various algorithms for classification with machine learning. "
   ]
  },
  {
   "cell_type": "markdown",
   "id": "c6223c22-ab9a-41cf-b410-44083f0b961e",
   "metadata": {},
   "source": [
    "**Evaluation**"
   ]
  },
  {
   "cell_type": "markdown",
   "id": "bc183874-a393-4bcb-b0db-d85ff0c596f0",
   "metadata": {},
   "source": [
    "<li>The accuracy scores will be saved for comparison at the end of the section.\n",
    "<li>Our problem is to hire the candidates who will not quit. Therefore, our main concern should be not hiring these candidates rather than not missing other candidates. Consequently, we should focus on <b>Type II error (False Negative)</b> that is hiring potential quitters (labeling \"target\" for candidates as \"0\" which should be \"1\"). So we will also record them for later evaluation.\n",
    "<li> Another performance metric we can use is <b>Precision</b> that is True Positive/Predicted Positive. A model can find all values as positive, so that may leave no candidates looking for a job change, however, that is not we would want."
   ]
  },
  {
   "cell_type": "markdown",
   "id": "511d1c91-efb9-439f-b3ba-7cadc1792cb0",
   "metadata": {},
   "source": [
    "**Null Hypothesis:** Candidate is not looking for a job change. "
   ]
  },
  {
   "cell_type": "markdown",
   "id": "503597f3-e14c-4bb0-964c-85ddd1826f6f",
   "metadata": {},
   "source": [
    "<br>"
   ]
  },
  {
   "cell_type": "code",
   "execution_count": 200,
   "id": "cf7cad1a-a3f1-4fa4-b5b1-5f8fb20f7e25",
   "metadata": {},
   "outputs": [],
   "source": [
    "results = pd.DataFrame(columns=[\"Model\", \"Accuracy Score\", \"Type II Error\", \"Precision\"])"
   ]
  },
  {
   "cell_type": "markdown",
   "id": "e60d81bd-1ff8-46d2-9bec-4b6a8dd220be",
   "metadata": {
    "jp-MarkdownHeadingCollapsed": true,
    "tags": []
   },
   "source": [
    "#### 2.2.1. Logistic Regression"
   ]
  },
  {
   "cell_type": "markdown",
   "id": "ebfc0fdc-a21e-4540-a374-630a87864284",
   "metadata": {},
   "source": [
    "**Model**"
   ]
  },
  {
   "cell_type": "code",
   "execution_count": 201,
   "id": "52120de4-eafc-4a86-a9f5-feb308ad8d82",
   "metadata": {},
   "outputs": [],
   "source": [
    "regressor = LogisticRegression()"
   ]
  },
  {
   "cell_type": "code",
   "execution_count": 202,
   "id": "7a171d04-657a-4d0d-9559-b1e120d97b8d",
   "metadata": {},
   "outputs": [],
   "source": [
    "model = regressor.fit(X_train, y_train)"
   ]
  },
  {
   "cell_type": "code",
   "execution_count": 203,
   "id": "d18a715c-9d48-496d-855f-9769173ba318",
   "metadata": {},
   "outputs": [],
   "source": [
    "y_pred = model.predict(X_test)"
   ]
  },
  {
   "cell_type": "code",
   "execution_count": 204,
   "id": "89e02e14-a02a-45f9-9ce6-e5d3a3ad64e5",
   "metadata": {},
   "outputs": [
    {
     "data": {
      "text/plain": [
       "0.76092074287209"
      ]
     },
     "execution_count": 204,
     "metadata": {},
     "output_type": "execute_result"
    }
   ],
   "source": [
    "accuracy_score(y_test, y_pred)"
   ]
  },
  {
   "cell_type": "code",
   "execution_count": 205,
   "id": "c6994fd5-e655-44d5-81c6-6f116798784d",
   "metadata": {},
   "outputs": [
    {
     "name": "stdout",
     "output_type": "stream",
     "text": [
      "              precision    recall  f1-score   support\n",
      "\n",
      "         0.0       0.78      0.94      0.85      2839\n",
      "         1.0       0.59      0.24      0.34       984\n",
      "\n",
      "    accuracy                           0.76      3823\n",
      "   macro avg       0.68      0.59      0.60      3823\n",
      "weighted avg       0.73      0.76      0.72      3823\n",
      "\n"
     ]
    }
   ],
   "source": [
    "print(classification_report(y_test,y_pred))"
   ]
  },
  {
   "cell_type": "code",
   "execution_count": 206,
   "id": "4a8866bc-39a6-433f-932a-86f7cfd2a88d",
   "metadata": {},
   "outputs": [
    {
     "data": {
      "text/plain": [
       "<sklearn.metrics._plot.confusion_matrix.ConfusionMatrixDisplay at 0x7fa24dc267f0>"
      ]
     },
     "execution_count": 206,
     "metadata": {},
     "output_type": "execute_result"
    },
    {
     "data": {
      "image/png": "[encoded data removed]",
      "text/plain": [
       "<Figure size 432x288 with 2 Axes>"
      ]
     },
     "metadata": {
      "needs_background": "light"
     },
     "output_type": "display_data"
    }
   ],
   "source": [
    "plot_confusion_matrix(model,X_test,y_test)"
   ]
  },
  {
   "cell_type": "code",
   "execution_count": 207,
   "id": "33550d0a-bfc7-498d-b0b6-7a2e30c0584c",
   "metadata": {},
   "outputs": [],
   "source": [
    "results = results.append({\"Model\": str(model), \n",
    "                          \"Accuracy Score\":accuracy_score(y_test, y_pred),\n",
    "                         \"Type II Error\":confusion_matrix(y_test,y_pred)[1][0],\n",
    "                         \"Precision\": classification_report(y_test,y_pred, output_dict=True)[\"0.0\"][\"precision\"]}, ignore_index=True)"
   ]
  },
  {
   "cell_type": "markdown",
   "id": "a456e20b-af06-4be3-a979-ec07115305df",
   "metadata": {},
   "source": [
    "<br><br>**Model Tuning**"
   ]
  },
  {
   "cell_type": "code",
   "execution_count": 208,
   "id": "d7203dea-7347-4de3-93c2-845964b81aab",
   "metadata": {},
   "outputs": [
    {
     "data": {
      "text/plain": [
       "{'C': 1.0,\n",
       " 'class_weight': None,\n",
       " 'dual': False,\n",
       " 'fit_intercept': True,\n",
       " 'intercept_scaling': 1,\n",
       " 'l1_ratio': None,\n",
       " 'max_iter': 100,\n",
       " 'multi_class': 'auto',\n",
       " 'n_jobs': None,\n",
       " 'penalty': 'l2',\n",
       " 'random_state': None,\n",
       " 'solver': 'lbfgs',\n",
       " 'tol': 0.0001,\n",
       " 'verbose': 0,\n",
       " 'warm_start': False}"
      ]
     },
     "execution_count": 208,
     "metadata": {},
     "output_type": "execute_result"
    }
   ],
   "source": [
    "model.get_params()"
   ]
  },
  {
   "cell_type": "code",
   "execution_count": 209,
   "id": "0c366b85-3d41-44a6-a7f3-8a1ef36b01f8",
   "metadata": {},
   "outputs": [],
   "source": [
    "param_grid = {'C': [0.8,1.0,1.2],\n",
    "             'class_weight': [None,\"balanced\"],\n",
    "             'multi_class': ['auto','ovr', 'multinomial'],\n",
    "             'penalty': ['l2','elasticnet'],\n",
    "             'solver': ['newton-cg', 'lbfgs', 'liblinear', 'sag', 'saga']}"
   ]
  },
  {
   "cell_type": "code",
   "execution_count": 210,
   "id": "8a552713-f935-4573-8497-7c70e879db5c",
   "metadata": {},
   "outputs": [
    {
     "data": {
      "text/plain": [
       "RandomizedSearchCV(cv=5, estimator=LogisticRegression(),\n",
       "                   param_distributions={'C': [0.8, 1.0, 1.2],\n",
       "                                        'class_weight': [None, 'balanced'],\n",
       "                                        'multi_class': ['auto', 'ovr',\n",
       "                                                        'multinomial'],\n",
       "                                        'penalty': ['l2', 'elasticnet'],\n",
       "                                        'solver': ['newton-cg', 'lbfgs',\n",
       "                                                   'liblinear', 'sag',\n",
       "                                                   'saga']})"
      ]
     },
     "execution_count": 210,
     "metadata": {},
     "output_type": "execute_result"
    }
   ],
   "source": [
    "cv_model = RandomizedSearchCV(model, param_grid, cv=5)\n",
    "cv_model.fit(X_train, y_train)"
   ]
  },
  {
   "cell_type": "code",
   "execution_count": 211,
   "id": "fec1c091-b897-4248-ad33-cd0cb5b5e778",
   "metadata": {},
   "outputs": [
    {
     "data": {
      "text/plain": [
       "{'solver': 'sag',\n",
       " 'penalty': 'l2',\n",
       " 'multi_class': 'ovr',\n",
       " 'class_weight': None,\n",
       " 'C': 0.8}"
      ]
     },
     "execution_count": 211,
     "metadata": {},
     "output_type": "execute_result"
    }
   ],
   "source": [
    "cv_model.best_params_"
   ]
  },
  {
   "cell_type": "code",
   "execution_count": 212,
   "id": "6ad1f54f-7a89-4670-9ea0-cb572b5a3a47",
   "metadata": {},
   "outputs": [],
   "source": [
    "y_pred = cv_model.predict(X_test)"
   ]
  },
  {
   "cell_type": "code",
   "execution_count": 213,
   "id": "c86b261a-f410-4413-92e3-25b77865a33a",
   "metadata": {},
   "outputs": [
    {
     "data": {
      "text/plain": [
       "0.7475804342139681"
      ]
     },
     "execution_count": 213,
     "metadata": {},
     "output_type": "execute_result"
    }
   ],
   "source": [
    "accuracy_score(y_test, y_pred)"
   ]
  },
  {
   "cell_type": "code",
   "execution_count": 214,
   "id": "c4c1a41d-e20a-41d7-865a-df93c0980fee",
   "metadata": {},
   "outputs": [
    {
     "name": "stdout",
     "output_type": "stream",
     "text": [
      "              precision    recall  f1-score   support\n",
      "\n",
      "         0.0       0.75      0.99      0.85      2839\n",
      "         1.0       0.63      0.05      0.09       984\n",
      "\n",
      "    accuracy                           0.75      3823\n",
      "   macro avg       0.69      0.52      0.47      3823\n",
      "weighted avg       0.72      0.75      0.66      3823\n",
      "\n"
     ]
    }
   ],
   "source": [
    "print(classification_report(y_test,y_pred))"
   ]
  },
  {
   "cell_type": "code",
   "execution_count": 215,
   "id": "fccf824b-3048-41fb-8f9c-499434f10f6f",
   "metadata": {},
   "outputs": [
    {
     "data": {
      "text/plain": [
       "<sklearn.metrics._plot.confusion_matrix.ConfusionMatrixDisplay at 0x7fa2696e8700>"
      ]
     },
     "execution_count": 215,
     "metadata": {},
     "output_type": "execute_result"
    },
    {
     "data": {
      "image/png": "[encoded data removed]",
      "text/plain": [
       "<Figure size 432x288 with 2 Axes>"
      ]
     },
     "metadata": {
      "needs_background": "light"
     },
     "output_type": "display_data"
    }
   ],
   "source": [
    "plot_confusion_matrix(cv_model,X_test,y_test)"
   ]
  },
  {
   "cell_type": "code",
   "execution_count": 216,
   "id": "f6d11879-57ce-4b6a-a85d-b4a13e7d3e73",
   "metadata": {},
   "outputs": [],
   "source": [
    "results = results.append({\"Model\": str(model)+\"_tuned\", \n",
    "                          \"Accuracy Score\":accuracy_score(y_test, y_pred),\n",
    "                         \"Type II Error\":confusion_matrix(y_test,y_pred)[1][0],\n",
    "                         \"Precision\": classification_report(y_test,y_pred, output_dict=True)[\"0.0\"][\"precision\"]}, ignore_index=True)"
   ]
  },
  {
   "cell_type": "code",
   "execution_count": 217,
   "id": "280812fa-9c21-4a28-8df5-d245a32f6605",
   "metadata": {},
   "outputs": [
    {
     "data": {
      "text/html": [
       "<div>\n",
       "<style scoped>\n",
       "    .dataframe tbody tr th:only-of-type {\n",
       "        vertical-align: middle;\n",
       "    }\n",
       "\n",
       "    .dataframe tbody tr th {\n",
       "        vertical-align: top;\n",
       "    }\n",
       "\n",
       "    .dataframe thead th {\n",
       "        text-align: right;\n",
       "    }\n",
       "</style>\n",
       "<table border=\"1\" class=\"dataframe\">\n",
       "  <thead>\n",
       "    <tr style=\"text-align: right;\">\n",
       "      <th></th>\n",
       "      <th>Model</th>\n",
       "      <th>Accuracy Score</th>\n",
       "      <th>Type II Error</th>\n",
       "      <th>Precision</th>\n",
       "    </tr>\n",
       "  </thead>\n",
       "  <tbody>\n",
       "    <tr>\n",
       "      <th>0</th>\n",
       "      <td>LogisticRegression()</td>\n",
       "      <td>0.760921</td>\n",
       "      <td>746</td>\n",
       "      <td>0.78168</td>\n",
       "    </tr>\n",
       "    <tr>\n",
       "      <th>1</th>\n",
       "      <td>LogisticRegression()_tuned</td>\n",
       "      <td>0.74758</td>\n",
       "      <td>939</td>\n",
       "      <td>0.749733</td>\n",
       "    </tr>\n",
       "  </tbody>\n",
       "</table>\n",
       "</div>"
      ],
      "text/plain": [
       "                        Model Accuracy Score Type II Error Precision\n",
       "0        LogisticRegression()       0.760921           746   0.78168\n",
       "1  LogisticRegression()_tuned        0.74758           939  0.749733"
      ]
     },
     "execution_count": 217,
     "metadata": {},
     "output_type": "execute_result"
    }
   ],
   "source": [
    "results"
   ]
  },
  {
   "cell_type": "markdown",
   "id": "9635958f-8b0e-448d-befa-f783766b0a4e",
   "metadata": {},
   "source": [
    "<br><br><br>"
   ]
  },
  {
   "cell_type": "markdown",
   "id": "575f8d19-e39c-4bbe-986b-107638f26614",
   "metadata": {
    "tags": []
   },
   "source": [
    "#### 2.2.2. Gaussian Naive Bayes"
   ]
  },
  {
   "cell_type": "markdown",
   "id": "08d0e8f1-1b5c-4591-a509-3501288c2a7c",
   "metadata": {},
   "source": [
    "**Model**"
   ]
  },
  {
   "cell_type": "code",
   "execution_count": 218,
   "id": "2d0e6f55-c62d-403e-a099-6c95aa9ed60f",
   "metadata": {},
   "outputs": [],
   "source": [
    "regressor = GaussianNB()"
   ]
  },
  {
   "cell_type": "code",
   "execution_count": 219,
   "id": "b6fe1cb5-c4e0-4c09-8d8d-6e31cce1a97a",
   "metadata": {},
   "outputs": [],
   "source": [
    "model = regressor.fit(X_train, y_train)"
   ]
  },
  {
   "cell_type": "code",
   "execution_count": 220,
   "id": "216ca05e-2d6f-40eb-a6d3-fdc35d53c16a",
   "metadata": {},
   "outputs": [],
   "source": [
    "y_pred = model.predict(X_test)"
   ]
  },
  {
   "cell_type": "code",
   "execution_count": 221,
   "id": "010cf566-161c-4ec5-b96a-65067a9274af",
   "metadata": {},
   "outputs": [
    {
     "data": {
      "text/plain": [
       "0.6332722992414335"
      ]
     },
     "execution_count": 221,
     "metadata": {},
     "output_type": "execute_result"
    }
   ],
   "source": [
    "accuracy_score(y_test, y_pred)"
   ]
  },
  {
   "cell_type": "code",
   "execution_count": 222,
   "id": "44b887a5-047a-4d4c-a3d7-522ef3f632f1",
   "metadata": {},
   "outputs": [
    {
     "name": "stdout",
     "output_type": "stream",
     "text": [
      "              precision    recall  f1-score   support\n",
      "\n",
      "         0.0       0.83      0.64      0.72      2839\n",
      "         1.0       0.37      0.62      0.47       984\n",
      "\n",
      "    accuracy                           0.63      3823\n",
      "   macro avg       0.60      0.63      0.59      3823\n",
      "weighted avg       0.71      0.63      0.66      3823\n",
      "\n"
     ]
    }
   ],
   "source": [
    "print(classification_report(y_test,y_pred))"
   ]
  },
  {
   "cell_type": "code",
   "execution_count": 223,
   "id": "5290d933-797b-46bf-bdda-04b59ae4405d",
   "metadata": {},
   "outputs": [
    {
     "data": {
      "text/plain": [
       "<sklearn.metrics._plot.confusion_matrix.ConfusionMatrixDisplay at 0x7fa25858ab50>"
      ]
     },
     "execution_count": 223,
     "metadata": {},
     "output_type": "execute_result"
    },
    {
     "data": {
      "image/png": "[encoded data removed]",
      "text/plain": [
       "<Figure size 432x288 with 2 Axes>"
      ]
     },
     "metadata": {
      "needs_background": "light"
     },
     "output_type": "display_data"
    }
   ],
   "source": [
    "plot_confusion_matrix(model,X_test,y_test)"
   ]
  },
  {
   "cell_type": "code",
   "execution_count": 224,
   "id": "752e8bfb-a5e4-4342-9798-d932a4c38432",
   "metadata": {},
   "outputs": [],
   "source": [
    "results = results.append({\"Model\": str(model), \n",
    "                          \"Accuracy Score\":accuracy_score(y_test, y_pred),\n",
    "                         \"Type II Error\":confusion_matrix(y_test,y_pred)[1][0],\n",
    "                         \"Precision\": classification_report(y_test,y_pred, output_dict=True)[\"0.0\"][\"precision\"]}, ignore_index=True)"
   ]
  },
  {
   "cell_type": "markdown",
   "id": "77427e83-f150-45ec-ad0d-87a16a2dd231",
   "metadata": {},
   "source": [
    "<br><br>**Model Tuning**"
   ]
  },
  {
   "cell_type": "code",
   "execution_count": 225,
   "id": "bec20d85-a2d8-4e88-a755-c95d6a3167f7",
   "metadata": {},
   "outputs": [
    {
     "data": {
      "text/plain": [
       "{'priors': None, 'var_smoothing': 1e-09}"
      ]
     },
     "execution_count": 225,
     "metadata": {},
     "output_type": "execute_result"
    }
   ],
   "source": [
    "model.get_params()"
   ]
  },
  {
   "cell_type": "code",
   "execution_count": 226,
   "id": "4f2711c7-98c8-4575-b87c-4829a966a76c",
   "metadata": {},
   "outputs": [],
   "source": [
    "param_grid = {'var_smoothing': [10**(-10),10**(-9), 10**(-8)]}"
   ]
  },
  {
   "cell_type": "code",
   "execution_count": 227,
   "id": "c63dc391-47e3-4f2b-be7a-5468fd47e308",
   "metadata": {},
   "outputs": [
    {
     "data": {
      "text/plain": [
       "RandomizedSearchCV(cv=5, estimator=GaussianNB(),\n",
       "                   param_distributions={'var_smoothing': [1e-10, 1e-09, 1e-08]})"
      ]
     },
     "execution_count": 227,
     "metadata": {},
     "output_type": "execute_result"
    }
   ],
   "source": [
    "cv_model = RandomizedSearchCV(model, param_grid, cv=5)\n",
    "cv_model.fit(X_train, y_train)"
   ]
  },
  {
   "cell_type": "code",
   "execution_count": 228,
   "id": "39a7e738-8f54-4061-aacc-f288daf2d241",
   "metadata": {},
   "outputs": [
    {
     "data": {
      "text/plain": [
       "{'var_smoothing': 1e-08}"
      ]
     },
     "execution_count": 228,
     "metadata": {},
     "output_type": "execute_result"
    }
   ],
   "source": [
    "cv_model.best_params_"
   ]
  },
  {
   "cell_type": "code",
   "execution_count": 229,
   "id": "7d648b65-9778-4541-8e17-2bad6d004981",
   "metadata": {},
   "outputs": [],
   "source": [
    "y_pred = cv_model.predict(X_test)"
   ]
  },
  {
   "cell_type": "code",
   "execution_count": 230,
   "id": "dc77eb82-85c1-4ddb-a0b9-947c4d9b2c82",
   "metadata": {},
   "outputs": [
    {
     "data": {
      "text/plain": [
       "0.6332722992414335"
      ]
     },
     "execution_count": 230,
     "metadata": {},
     "output_type": "execute_result"
    }
   ],
   "source": [
    "accuracy_score(y_test, y_pred)"
   ]
  },
  {
   "cell_type": "code",
   "execution_count": 231,
   "id": "97963b01-6123-44d8-9c04-027a8ec171e3",
   "metadata": {},
   "outputs": [
    {
     "name": "stdout",
     "output_type": "stream",
     "text": [
      "              precision    recall  f1-score   support\n",
      "\n",
      "         0.0       0.83      0.64      0.72      2839\n",
      "         1.0       0.37      0.62      0.47       984\n",
      "\n",
      "    accuracy                           0.63      3823\n",
      "   macro avg       0.60      0.63      0.59      3823\n",
      "weighted avg       0.71      0.63      0.66      3823\n",
      "\n"
     ]
    }
   ],
   "source": [
    "print(classification_report(y_test,y_pred))"
   ]
  },
  {
   "cell_type": "code",
   "execution_count": 232,
   "id": "21fdc92a-4701-4092-ab9a-1a00a515ea13",
   "metadata": {},
   "outputs": [
    {
     "data": {
      "text/plain": [
       "<sklearn.metrics._plot.confusion_matrix.ConfusionMatrixDisplay at 0x7fa27ea95a60>"
      ]
     },
     "execution_count": 232,
     "metadata": {},
     "output_type": "execute_result"
    },
    {
     "data": {
      "image/png": "[encoded data removed]",
      "text/plain": [
       "<Figure size 432x288 with 2 Axes>"
      ]
     },
     "metadata": {
      "needs_background": "light"
     },
     "output_type": "display_data"
    }
   ],
   "source": [
    "plot_confusion_matrix(cv_model,X_test,y_test)"
   ]
  },
  {
   "cell_type": "code",
   "execution_count": 233,
   "id": "ba3211c9-5d42-4f8c-ba54-9155b9ba0bf4",
   "metadata": {},
   "outputs": [],
   "source": [
    "results = results.append({\"Model\": str(model)+\"_tuned\", \n",
    "                          \"Accuracy Score\":accuracy_score(y_test, y_pred),\n",
    "                         \"Type II Error\":confusion_matrix(y_test,y_pred)[1][0],\n",
    "                         \"Precision\": classification_report(y_test,y_pred, output_dict=True)[\"0.0\"][\"precision\"]}, ignore_index=True)"
   ]
  },
  {
   "cell_type": "code",
   "execution_count": 234,
   "id": "ec2c484a-04fa-4891-b64a-f7705489677a",
   "metadata": {},
   "outputs": [
    {
     "data": {
      "text/html": [
       "<div>\n",
       "<style scoped>\n",
       "    .dataframe tbody tr th:only-of-type {\n",
       "        vertical-align: middle;\n",
       "    }\n",
       "\n",
       "    .dataframe tbody tr th {\n",
       "        vertical-align: top;\n",
       "    }\n",
       "\n",
       "    .dataframe thead th {\n",
       "        text-align: right;\n",
       "    }\n",
       "</style>\n",
       "<table border=\"1\" class=\"dataframe\">\n",
       "  <thead>\n",
       "    <tr style=\"text-align: right;\">\n",
       "      <th></th>\n",
       "      <th>Model</th>\n",
       "      <th>Accuracy Score</th>\n",
       "      <th>Type II Error</th>\n",
       "      <th>Precision</th>\n",
       "    </tr>\n",
       "  </thead>\n",
       "  <tbody>\n",
       "    <tr>\n",
       "      <th>0</th>\n",
       "      <td>LogisticRegression()</td>\n",
       "      <td>0.760921</td>\n",
       "      <td>746</td>\n",
       "      <td>0.78168</td>\n",
       "    </tr>\n",
       "    <tr>\n",
       "      <th>1</th>\n",
       "      <td>LogisticRegression()_tuned</td>\n",
       "      <td>0.74758</td>\n",
       "      <td>939</td>\n",
       "      <td>0.749733</td>\n",
       "    </tr>\n",
       "    <tr>\n",
       "      <th>2</th>\n",
       "      <td>GaussianNB()</td>\n",
       "      <td>0.633272</td>\n",
       "      <td>369</td>\n",
       "      <td>0.830345</td>\n",
       "    </tr>\n",
       "    <tr>\n",
       "      <th>3</th>\n",
       "      <td>GaussianNB()_tuned</td>\n",
       "      <td>0.633272</td>\n",
       "      <td>369</td>\n",
       "      <td>0.830345</td>\n",
       "    </tr>\n",
       "  </tbody>\n",
       "</table>\n",
       "</div>"
      ],
      "text/plain": [
       "                        Model Accuracy Score Type II Error Precision\n",
       "0        LogisticRegression()       0.760921           746   0.78168\n",
       "1  LogisticRegression()_tuned        0.74758           939  0.749733\n",
       "2                GaussianNB()       0.633272           369  0.830345\n",
       "3          GaussianNB()_tuned       0.633272           369  0.830345"
      ]
     },
     "execution_count": 234,
     "metadata": {},
     "output_type": "execute_result"
    }
   ],
   "source": [
    "results"
   ]
  },
  {
   "cell_type": "markdown",
   "id": "2bf8db80-5aef-4881-ada3-deb6af1d0e7b",
   "metadata": {},
   "source": [
    "<br><br><br>"
   ]
  },
  {
   "cell_type": "markdown",
   "id": "4f2103c6-beb8-466a-b4cc-8b3622682258",
   "metadata": {
    "jp-MarkdownHeadingCollapsed": true,
    "tags": []
   },
   "source": [
    "#### 2.2.3. KNeighbors"
   ]
  },
  {
   "cell_type": "markdown",
   "id": "48b3ec45-8242-4f9b-9805-76e86c2cd160",
   "metadata": {},
   "source": [
    "**Model**"
   ]
  },
  {
   "cell_type": "code",
   "execution_count": 235,
   "id": "af4ff55a-a2a8-424a-8367-cfafdefdea84",
   "metadata": {},
   "outputs": [],
   "source": [
    "regressor = KNeighborsClassifier()"
   ]
  },
  {
   "cell_type": "code",
   "execution_count": 236,
   "id": "e28b54b3-1dcf-4cb4-a194-607854b8ea17",
   "metadata": {},
   "outputs": [],
   "source": [
    "model = regressor.fit(X_train, y_train)"
   ]
  },
  {
   "cell_type": "code",
   "execution_count": 237,
   "id": "f0fe9f75-d042-4011-b1cb-10dc935ef209",
   "metadata": {},
   "outputs": [],
   "source": [
    "y_pred = model.predict(X_test)"
   ]
  },
  {
   "cell_type": "code",
   "execution_count": 238,
   "id": "a92616d4-08ff-4d26-80b3-5af23c277fa8",
   "metadata": {},
   "outputs": [
    {
     "data": {
      "text/plain": [
       "0.7214229662568663"
      ]
     },
     "execution_count": 238,
     "metadata": {},
     "output_type": "execute_result"
    }
   ],
   "source": [
    "accuracy_score(y_test, y_pred)"
   ]
  },
  {
   "cell_type": "code",
   "execution_count": 239,
   "id": "118de3ce-85a5-4554-8905-d1b8870703fe",
   "metadata": {},
   "outputs": [
    {
     "name": "stdout",
     "output_type": "stream",
     "text": [
      "              precision    recall  f1-score   support\n",
      "\n",
      "         0.0       0.76      0.90      0.83      2839\n",
      "         1.0       0.41      0.19      0.26       984\n",
      "\n",
      "    accuracy                           0.72      3823\n",
      "   macro avg       0.59      0.55      0.55      3823\n",
      "weighted avg       0.67      0.72      0.68      3823\n",
      "\n"
     ]
    }
   ],
   "source": [
    "print(classification_report(y_test,y_pred))"
   ]
  },
  {
   "cell_type": "code",
   "execution_count": 240,
   "id": "031de097-fb34-4c64-84d2-7d6e3073b16c",
   "metadata": {},
   "outputs": [
    {
     "data": {
      "text/plain": [
       "<sklearn.metrics._plot.confusion_matrix.ConfusionMatrixDisplay at 0x7fa28d0725e0>"
      ]
     },
     "execution_count": 240,
     "metadata": {},
     "output_type": "execute_result"
    },
    {
     "data": {
      "image/png": "[encoded data removed]",
      "text/plain": [
       "<Figure size 432x288 with 2 Axes>"
      ]
     },
     "metadata": {
      "needs_background": "light"
     },
     "output_type": "display_data"
    }
   ],
   "source": [
    "plot_confusion_matrix(model,X_test,y_test)"
   ]
  },
  {
   "cell_type": "code",
   "execution_count": 241,
   "id": "9b1a8df4-88ea-4105-8247-83409ee52a0d",
   "metadata": {},
   "outputs": [],
   "source": [
    "results = results.append({\"Model\": str(model), \n",
    "                          \"Accuracy Score\":accuracy_score(y_test, y_pred),\n",
    "                         \"Type II Error\":confusion_matrix(y_test,y_pred)[1][0],\n",
    "                         \"Precision\": classification_report(y_test,y_pred, output_dict=True)[\"0.0\"][\"precision\"]}, ignore_index=True)"
   ]
  },
  {
   "cell_type": "markdown",
   "id": "e9fcdb39-7e92-43f8-be16-d6e4d720ec3b",
   "metadata": {},
   "source": [
    "<br><br>**Model Tuning**"
   ]
  },
  {
   "cell_type": "code",
   "execution_count": 243,
   "id": "81057099-c708-4436-86bc-f24ee62b470a",
   "metadata": {},
   "outputs": [
    {
     "data": {
      "text/plain": [
       "{'algorithm': 'auto',\n",
       " 'leaf_size': 30,\n",
       " 'metric': 'minkowski',\n",
       " 'metric_params': None,\n",
       " 'n_jobs': None,\n",
       " 'n_neighbors': 5,\n",
       " 'p': 2,\n",
       " 'weights': 'uniform'}"
      ]
     },
     "execution_count": 243,
     "metadata": {},
     "output_type": "execute_result"
    }
   ],
   "source": [
    "model.get_params()"
   ]
  },
  {
   "cell_type": "code",
   "execution_count": 244,
   "id": "d54e9528-c5d2-49cf-9b92-223a4a558938",
   "metadata": {},
   "outputs": [],
   "source": [
    "param_grid = {'n_neighbors': [3,5,10,20,30],\n",
    "             'weights': ['uniform','distance']}"
   ]
  },
  {
   "cell_type": "code",
   "execution_count": 245,
   "id": "6bd64ccc-4785-4bf2-908b-93125f6747d4",
   "metadata": {},
   "outputs": [
    {
     "data": {
      "text/plain": [
       "RandomizedSearchCV(cv=5, estimator=KNeighborsClassifier(),\n",
       "                   param_distributions={'n_neighbors': [3, 5, 10, 20, 30],\n",
       "                                        'weights': ['uniform', 'distance']})"
      ]
     },
     "execution_count": 245,
     "metadata": {},
     "output_type": "execute_result"
    }
   ],
   "source": [
    "cv_model = RandomizedSearchCV(model, param_grid, cv=5)\n",
    "cv_model.fit(X_train, y_train)"
   ]
  },
  {
   "cell_type": "code",
   "execution_count": 246,
   "id": "ae5e4a00-d047-4e7e-b73e-d5a6c64f8630",
   "metadata": {},
   "outputs": [
    {
     "data": {
      "text/plain": [
       "{'weights': 'uniform', 'n_neighbors': 30}"
      ]
     },
     "execution_count": 246,
     "metadata": {},
     "output_type": "execute_result"
    }
   ],
   "source": [
    "cv_model.best_params_"
   ]
  },
  {
   "cell_type": "markdown",
   "id": "b2d2f468-0d98-488c-895d-1371598bb1cd",
   "metadata": {},
   "source": [
    "<br>**Decision:** The best parameter is also the maximum value we have given. So we should check greater values. <br><br>"
   ]
  },
  {
   "cell_type": "code",
   "execution_count": 247,
   "id": "af2a2b91-ab68-4f63-8b8c-66c2a1266242",
   "metadata": {},
   "outputs": [],
   "source": [
    "param_grid = {'n_neighbors': [30,40,50,60,100]}"
   ]
  },
  {
   "cell_type": "code",
   "execution_count": 248,
   "id": "4bb09f19-1e06-44b8-9b3e-e5875bdc7255",
   "metadata": {},
   "outputs": [
    {
     "data": {
      "text/plain": [
       "RandomizedSearchCV(cv=5, estimator=KNeighborsClassifier(),\n",
       "                   param_distributions={'n_neighbors': [30, 40, 50, 60, 100]})"
      ]
     },
     "execution_count": 248,
     "metadata": {},
     "output_type": "execute_result"
    }
   ],
   "source": [
    "cv_model = RandomizedSearchCV(model, param_grid, cv=5)\n",
    "cv_model.fit(X_train, y_train)"
   ]
  },
  {
   "cell_type": "code",
   "execution_count": 249,
   "id": "160f2d11-1522-4630-b9e4-3d42c6faec3e",
   "metadata": {},
   "outputs": [
    {
     "data": {
      "text/plain": [
       "{'n_neighbors': 40}"
      ]
     },
     "execution_count": 249,
     "metadata": {},
     "output_type": "execute_result"
    }
   ],
   "source": [
    "cv_model.best_params_"
   ]
  },
  {
   "cell_type": "code",
   "execution_count": 250,
   "id": "b7871702-4e28-4f61-92f6-678d6a1ed5a1",
   "metadata": {},
   "outputs": [],
   "source": [
    "y_pred = cv_model.predict(X_test)"
   ]
  },
  {
   "cell_type": "code",
   "execution_count": 251,
   "id": "4da9082a-91ed-4e4f-a4c7-18c86b0bf7a1",
   "metadata": {},
   "outputs": [
    {
     "data": {
      "text/plain": [
       "0.7426105153021187"
      ]
     },
     "execution_count": 251,
     "metadata": {},
     "output_type": "execute_result"
    }
   ],
   "source": [
    "accuracy_score(y_test, y_pred)"
   ]
  },
  {
   "cell_type": "code",
   "execution_count": 252,
   "id": "edf60321-d5c6-4432-b1fb-4ead57d5486f",
   "metadata": {},
   "outputs": [
    {
     "name": "stdout",
     "output_type": "stream",
     "text": [
      "              precision    recall  f1-score   support\n",
      "\n",
      "         0.0       0.75      0.99      0.85      2839\n",
      "         1.0       0.50      0.02      0.05       984\n",
      "\n",
      "    accuracy                           0.74      3823\n",
      "   macro avg       0.62      0.51      0.45      3823\n",
      "weighted avg       0.68      0.74      0.64      3823\n",
      "\n"
     ]
    }
   ],
   "source": [
    "print(classification_report(y_test,y_pred))"
   ]
  },
  {
   "cell_type": "code",
   "execution_count": 253,
   "id": "63fea8c9-c5ef-438c-b8ae-aaa34b0ef1d5",
   "metadata": {},
   "outputs": [
    {
     "data": {
      "text/plain": [
       "<sklearn.metrics._plot.confusion_matrix.ConfusionMatrixDisplay at 0x7fa258676850>"
      ]
     },
     "execution_count": 253,
     "metadata": {},
     "output_type": "execute_result"
    },
    {
     "data": {
      "image/png": "[encoded data removed]",
      "text/plain": [
       "<Figure size 432x288 with 2 Axes>"
      ]
     },
     "metadata": {
      "needs_background": "light"
     },
     "output_type": "display_data"
    }
   ],
   "source": [
    "plot_confusion_matrix(cv_model,X_test,y_test)"
   ]
  },
  {
   "cell_type": "code",
   "execution_count": 254,
   "id": "ab5afc1b-b478-40ed-92e6-ae53360679fe",
   "metadata": {},
   "outputs": [],
   "source": [
    "results = results.append({\"Model\": str(model)+\"_tuned\", \n",
    "                          \"Accuracy Score\":accuracy_score(y_test, y_pred),\n",
    "                         \"Type II Error\":confusion_matrix(y_test,y_pred)[1][0],\n",
    "                         \"Precision\": classification_report(y_test,y_pred, output_dict=True)[\"0.0\"][\"precision\"]}, ignore_index=True)"
   ]
  },
  {
   "cell_type": "code",
   "execution_count": 255,
   "id": "2a9a9d86-bdee-4434-af97-7317484fd552",
   "metadata": {},
   "outputs": [
    {
     "data": {
      "text/html": [
       "<div>\n",
       "<style scoped>\n",
       "    .dataframe tbody tr th:only-of-type {\n",
       "        vertical-align: middle;\n",
       "    }\n",
       "\n",
       "    .dataframe tbody tr th {\n",
       "        vertical-align: top;\n",
       "    }\n",
       "\n",
       "    .dataframe thead th {\n",
       "        text-align: right;\n",
       "    }\n",
       "</style>\n",
       "<table border=\"1\" class=\"dataframe\">\n",
       "  <thead>\n",
       "    <tr style=\"text-align: right;\">\n",
       "      <th></th>\n",
       "      <th>Model</th>\n",
       "      <th>Accuracy Score</th>\n",
       "      <th>Type II Error</th>\n",
       "      <th>Precision</th>\n",
       "    </tr>\n",
       "  </thead>\n",
       "  <tbody>\n",
       "    <tr>\n",
       "      <th>0</th>\n",
       "      <td>LogisticRegression()</td>\n",
       "      <td>0.760921</td>\n",
       "      <td>746</td>\n",
       "      <td>0.78168</td>\n",
       "    </tr>\n",
       "    <tr>\n",
       "      <th>1</th>\n",
       "      <td>LogisticRegression()_tuned</td>\n",
       "      <td>0.74758</td>\n",
       "      <td>939</td>\n",
       "      <td>0.749733</td>\n",
       "    </tr>\n",
       "    <tr>\n",
       "      <th>2</th>\n",
       "      <td>GaussianNB()</td>\n",
       "      <td>0.633272</td>\n",
       "      <td>369</td>\n",
       "      <td>0.830345</td>\n",
       "    </tr>\n",
       "    <tr>\n",
       "      <th>3</th>\n",
       "      <td>GaussianNB()_tuned</td>\n",
       "      <td>0.633272</td>\n",
       "      <td>369</td>\n",
       "      <td>0.830345</td>\n",
       "    </tr>\n",
       "    <tr>\n",
       "      <th>4</th>\n",
       "      <td>KNeighborsClassifier()</td>\n",
       "      <td>0.721423</td>\n",
       "      <td>794</td>\n",
       "      <td>0.763831</td>\n",
       "    </tr>\n",
       "    <tr>\n",
       "      <th>5</th>\n",
       "      <td>KNeighborsClassifier()_tuned</td>\n",
       "      <td>0.742611</td>\n",
       "      <td>960</td>\n",
       "      <td>0.745695</td>\n",
       "    </tr>\n",
       "  </tbody>\n",
       "</table>\n",
       "</div>"
      ],
      "text/plain": [
       "                          Model Accuracy Score Type II Error Precision\n",
       "0          LogisticRegression()       0.760921           746   0.78168\n",
       "1    LogisticRegression()_tuned        0.74758           939  0.749733\n",
       "2                  GaussianNB()       0.633272           369  0.830345\n",
       "3            GaussianNB()_tuned       0.633272           369  0.830345\n",
       "4        KNeighborsClassifier()       0.721423           794  0.763831\n",
       "5  KNeighborsClassifier()_tuned       0.742611           960  0.745695"
      ]
     },
     "execution_count": 255,
     "metadata": {},
     "output_type": "execute_result"
    }
   ],
   "source": [
    "results"
   ]
  },
  {
   "cell_type": "markdown",
   "id": "889be432-98c7-4e4a-8a29-c67eb8c366f7",
   "metadata": {},
   "source": [
    "<br><br><br>"
   ]
  },
  {
   "cell_type": "markdown",
   "id": "af3bd46c-a833-441f-b48e-96998b54b2a3",
   "metadata": {
    "jp-MarkdownHeadingCollapsed": true,
    "tags": []
   },
   "source": [
    "#### 2.2.4. SVC (Support Vector Machines)"
   ]
  },
  {
   "cell_type": "markdown",
   "id": "924fceb0-573d-4ae1-8ab9-c4ec95386af9",
   "metadata": {},
   "source": [
    "**Model**"
   ]
  },
  {
   "cell_type": "code",
   "execution_count": 256,
   "id": "7cbffd57-fe12-4618-b2c7-5194dc1ac862",
   "metadata": {},
   "outputs": [],
   "source": [
    "regressor = SVC()"
   ]
  },
  {
   "cell_type": "code",
   "execution_count": 257,
   "id": "89d9dfad-bf91-4384-98b9-65a0dd2e01b2",
   "metadata": {},
   "outputs": [],
   "source": [
    "model = regressor.fit(X_train, y_train)"
   ]
  },
  {
   "cell_type": "code",
   "execution_count": 258,
   "id": "16ec8362-d770-4489-9fdf-e66556edef84",
   "metadata": {},
   "outputs": [],
   "source": [
    "y_pred = model.predict(X_test)"
   ]
  },
  {
   "cell_type": "code",
   "execution_count": 259,
   "id": "a81cb210-a032-43a7-9922-f4242e2ee318",
   "metadata": {},
   "outputs": [
    {
     "data": {
      "text/plain": [
       "0.7426105153021187"
      ]
     },
     "execution_count": 259,
     "metadata": {},
     "output_type": "execute_result"
    }
   ],
   "source": [
    "accuracy_score(y_test, y_pred)"
   ]
  },
  {
   "cell_type": "code",
   "execution_count": 260,
   "id": "a2750628-7c2c-4c89-bd49-9668aabd8d32",
   "metadata": {},
   "outputs": [
    {
     "name": "stdout",
     "output_type": "stream",
     "text": [
      "              precision    recall  f1-score   support\n",
      "\n",
      "         0.0       0.74      1.00      0.85      2839\n",
      "         1.0       0.00      0.00      0.00       984\n",
      "\n",
      "    accuracy                           0.74      3823\n",
      "   macro avg       0.37      0.50      0.43      3823\n",
      "weighted avg       0.55      0.74      0.63      3823\n",
      "\n"
     ]
    }
   ],
   "source": [
    "print(classification_report(y_test,y_pred))"
   ]
  },
  {
   "cell_type": "code",
   "execution_count": 261,
   "id": "a0c4e7b3-c434-4495-b4df-94ff2f178c3e",
   "metadata": {},
   "outputs": [
    {
     "data": {
      "text/plain": [
       "<sklearn.metrics._plot.confusion_matrix.ConfusionMatrixDisplay at 0x7fa238d76b20>"
      ]
     },
     "execution_count": 261,
     "metadata": {},
     "output_type": "execute_result"
    },
    {
     "data": {
      "image/png": "[encoded data removed]",
      "text/plain": [
       "<Figure size 432x288 with 2 Axes>"
      ]
     },
     "metadata": {
      "needs_background": "light"
     },
     "output_type": "display_data"
    }
   ],
   "source": [
    "plot_confusion_matrix(model,X_test,y_test)"
   ]
  },
  {
   "cell_type": "code",
   "execution_count": 262,
   "id": "a80ca005-47a4-406a-b952-678d0c148300",
   "metadata": {},
   "outputs": [],
   "source": [
    "results = results.append({\"Model\": str(model), \n",
    "                          \"Accuracy Score\":accuracy_score(y_test, y_pred),\n",
    "                         \"Type II Error\":confusion_matrix(y_test,y_pred)[1][0],\n",
    "                         \"Precision\": classification_report(y_test,y_pred, output_dict=True)[\"0.0\"][\"precision\"]}, ignore_index=True)"
   ]
  },
  {
   "cell_type": "markdown",
   "id": "c6f5d4d5-ff0b-4f86-8fc3-02b48e11dc50",
   "metadata": {},
   "source": [
    "<br>**Note that:** SVC predicted all values as \"0\"."
   ]
  },
  {
   "cell_type": "markdown",
   "id": "bb4857ef-d582-4700-bc8c-801484e17c03",
   "metadata": {},
   "source": [
    "<br><br>**Model Tuning**"
   ]
  },
  {
   "cell_type": "code",
   "execution_count": 263,
   "id": "dabb27e4-bc46-448c-b6dc-e3a7d283d130",
   "metadata": {},
   "outputs": [
    {
     "data": {
      "text/plain": [
       "{'C': 1.0,\n",
       " 'break_ties': False,\n",
       " 'cache_size': 200,\n",
       " 'class_weight': None,\n",
       " 'coef0': 0.0,\n",
       " 'decision_function_shape': 'ovr',\n",
       " 'degree': 3,\n",
       " 'gamma': 'scale',\n",
       " 'kernel': 'rbf',\n",
       " 'max_iter': -1,\n",
       " 'probability': False,\n",
       " 'random_state': None,\n",
       " 'shrinking': True,\n",
       " 'tol': 0.001,\n",
       " 'verbose': False}"
      ]
     },
     "execution_count": 263,
     "metadata": {},
     "output_type": "execute_result"
    }
   ],
   "source": [
    "model.get_params()"
   ]
  },
  {
   "cell_type": "code",
   "execution_count": 269,
   "id": "d8d0674c-503a-4705-b167-261e8d3921a5",
   "metadata": {},
   "outputs": [],
   "source": [
    "param_grid = {'kernel': ['linear', 'rbf']}"
   ]
  },
  {
   "cell_type": "code",
   "execution_count": 270,
   "id": "34157c5c-46dd-42ec-9fd7-7f356e133889",
   "metadata": {},
   "outputs": [
    {
     "data": {
      "text/plain": [
       "RandomizedSearchCV(cv=5, estimator=SVC(),\n",
       "                   param_distributions={'kernel': ['linear', 'rbf']})"
      ]
     },
     "execution_count": 270,
     "metadata": {},
     "output_type": "execute_result"
    }
   ],
   "source": [
    "cv_model = RandomizedSearchCV(model, param_grid, cv=5)\n",
    "cv_model.fit(X_train, y_train)"
   ]
  },
  {
   "cell_type": "code",
   "execution_count": 272,
   "id": "5e06fb59-2592-450d-8f8e-6a0d22bc6019",
   "metadata": {},
   "outputs": [
    {
     "data": {
      "text/plain": [
       "{'kernel': 'linear'}"
      ]
     },
     "execution_count": 272,
     "metadata": {},
     "output_type": "execute_result"
    }
   ],
   "source": [
    "cv_model.best_params_"
   ]
  },
  {
   "cell_type": "code",
   "execution_count": 273,
   "id": "ee5f6127-a195-46dd-9789-2047fb7f8fbc",
   "metadata": {},
   "outputs": [],
   "source": [
    "y_pred = cv_model.predict(X_test)"
   ]
  },
  {
   "cell_type": "code",
   "execution_count": 274,
   "id": "d8c5e827-12ca-4595-9995-80882d7cc36d",
   "metadata": {},
   "outputs": [
    {
     "data": {
      "text/plain": [
       "0.7426105153021187"
      ]
     },
     "execution_count": 274,
     "metadata": {},
     "output_type": "execute_result"
    }
   ],
   "source": [
    "accuracy_score(y_test, y_pred)"
   ]
  },
  {
   "cell_type": "code",
   "execution_count": 275,
   "id": "1a6008c6-6e07-4b9e-8270-db72bf8f3f27",
   "metadata": {},
   "outputs": [
    {
     "name": "stdout",
     "output_type": "stream",
     "text": [
      "              precision    recall  f1-score   support\n",
      "\n",
      "         0.0       0.74      1.00      0.85      2839\n",
      "         1.0       0.00      0.00      0.00       984\n",
      "\n",
      "    accuracy                           0.74      3823\n",
      "   macro avg       0.37      0.50      0.43      3823\n",
      "weighted avg       0.55      0.74      0.63      3823\n",
      "\n"
     ]
    }
   ],
   "source": [
    "print(classification_report(y_test,y_pred))"
   ]
  },
  {
   "cell_type": "code",
   "execution_count": 276,
   "id": "d8162afb-af9c-43f4-8096-8d19b9be9bb6",
   "metadata": {},
   "outputs": [
    {
     "data": {
      "text/plain": [
       "<sklearn.metrics._plot.confusion_matrix.ConfusionMatrixDisplay at 0x7fa258448df0>"
      ]
     },
     "execution_count": 276,
     "metadata": {},
     "output_type": "execute_result"
    },
    {
     "data": {
      "image/png": "[encoded data removed]",
      "text/plain": [
       "<Figure size 432x288 with 2 Axes>"
      ]
     },
     "metadata": {
      "needs_background": "light"
     },
     "output_type": "display_data"
    }
   ],
   "source": [
    "plot_confusion_matrix(cv_model,X_test,y_test)"
   ]
  },
  {
   "cell_type": "code",
   "execution_count": 277,
   "id": "eca2944a-c6b7-42ab-a10d-0b8c73b3eb47",
   "metadata": {},
   "outputs": [],
   "source": [
    "results = results.append({\"Model\": str(model)+\"_tuned\", \n",
    "                          \"Accuracy Score\":accuracy_score(y_test, y_pred),\n",
    "                         \"Type II Error\":confusion_matrix(y_test,y_pred)[1][0],\n",
    "                         \"Precision\": classification_report(y_test,y_pred, output_dict=True)[\"0.0\"][\"precision\"]}, ignore_index=True)"
   ]
  },
  {
   "cell_type": "code",
   "execution_count": 278,
   "id": "8bc971f8-fd5c-424e-937e-eb876c34e93a",
   "metadata": {},
   "outputs": [
    {
     "data": {
      "text/html": [
       "<div>\n",
       "<style scoped>\n",
       "    .dataframe tbody tr th:only-of-type {\n",
       "        vertical-align: middle;\n",
       "    }\n",
       "\n",
       "    .dataframe tbody tr th {\n",
       "        vertical-align: top;\n",
       "    }\n",
       "\n",
       "    .dataframe thead th {\n",
       "        text-align: right;\n",
       "    }\n",
       "</style>\n",
       "<table border=\"1\" class=\"dataframe\">\n",
       "  <thead>\n",
       "    <tr style=\"text-align: right;\">\n",
       "      <th></th>\n",
       "      <th>Model</th>\n",
       "      <th>Accuracy Score</th>\n",
       "      <th>Type II Error</th>\n",
       "      <th>Precision</th>\n",
       "    </tr>\n",
       "  </thead>\n",
       "  <tbody>\n",
       "    <tr>\n",
       "      <th>0</th>\n",
       "      <td>LogisticRegression()</td>\n",
       "      <td>0.760921</td>\n",
       "      <td>746</td>\n",
       "      <td>0.78168</td>\n",
       "    </tr>\n",
       "    <tr>\n",
       "      <th>1</th>\n",
       "      <td>LogisticRegression()_tuned</td>\n",
       "      <td>0.74758</td>\n",
       "      <td>939</td>\n",
       "      <td>0.749733</td>\n",
       "    </tr>\n",
       "    <tr>\n",
       "      <th>2</th>\n",
       "      <td>GaussianNB()</td>\n",
       "      <td>0.633272</td>\n",
       "      <td>369</td>\n",
       "      <td>0.830345</td>\n",
       "    </tr>\n",
       "    <tr>\n",
       "      <th>3</th>\n",
       "      <td>GaussianNB()_tuned</td>\n",
       "      <td>0.633272</td>\n",
       "      <td>369</td>\n",
       "      <td>0.830345</td>\n",
       "    </tr>\n",
       "    <tr>\n",
       "      <th>4</th>\n",
       "      <td>KNeighborsClassifier()</td>\n",
       "      <td>0.721423</td>\n",
       "      <td>794</td>\n",
       "      <td>0.763831</td>\n",
       "    </tr>\n",
       "    <tr>\n",
       "      <th>5</th>\n",
       "      <td>KNeighborsClassifier()_tuned</td>\n",
       "      <td>0.742611</td>\n",
       "      <td>960</td>\n",
       "      <td>0.745695</td>\n",
       "    </tr>\n",
       "    <tr>\n",
       "      <th>6</th>\n",
       "      <td>SVC()</td>\n",
       "      <td>0.742611</td>\n",
       "      <td>984</td>\n",
       "      <td>0.742611</td>\n",
       "    </tr>\n",
       "    <tr>\n",
       "      <th>7</th>\n",
       "      <td>SVC()_tuned</td>\n",
       "      <td>0.742611</td>\n",
       "      <td>984</td>\n",
       "      <td>0.742611</td>\n",
       "    </tr>\n",
       "  </tbody>\n",
       "</table>\n",
       "</div>"
      ],
      "text/plain": [
       "                          Model Accuracy Score Type II Error Precision\n",
       "0          LogisticRegression()       0.760921           746   0.78168\n",
       "1    LogisticRegression()_tuned        0.74758           939  0.749733\n",
       "2                  GaussianNB()       0.633272           369  0.830345\n",
       "3            GaussianNB()_tuned       0.633272           369  0.830345\n",
       "4        KNeighborsClassifier()       0.721423           794  0.763831\n",
       "5  KNeighborsClassifier()_tuned       0.742611           960  0.745695\n",
       "6                         SVC()       0.742611           984  0.742611\n",
       "7                   SVC()_tuned       0.742611           984  0.742611"
      ]
     },
     "execution_count": 278,
     "metadata": {},
     "output_type": "execute_result"
    }
   ],
   "source": [
    "results"
   ]
  },
  {
   "cell_type": "markdown",
   "id": "52c882eb-d277-4ff7-9db5-7a355d09f599",
   "metadata": {},
   "source": [
    "<br><br><br>"
   ]
  },
  {
   "cell_type": "markdown",
   "id": "125c2e76-4383-4dc2-90d7-7b5ee488328a",
   "metadata": {
    "jp-MarkdownHeadingCollapsed": true,
    "tags": []
   },
   "source": [
    "#### 2.2.5. Neural Network (MLP)"
   ]
  },
  {
   "cell_type": "markdown",
   "id": "77bc9afa-3489-4d9b-a094-19ae7f2e2112",
   "metadata": {},
   "source": [
    "**Model**"
   ]
  },
  {
   "cell_type": "code",
   "execution_count": 281,
   "id": "fff4e156-67ed-4bf0-b4c0-f01dba8b8091",
   "metadata": {},
   "outputs": [],
   "source": [
    "scaler = StandardScaler()"
   ]
  },
  {
   "cell_type": "code",
   "execution_count": 282,
   "id": "f6b90585-adb3-41e8-afb1-5063f16873c1",
   "metadata": {},
   "outputs": [],
   "source": [
    "scaler.fit(X_train)\n",
    "X_train_scaled = scaler.transform(X_train)\n",
    "X_test_scaled = scaler.transform(X_test)"
   ]
  },
  {
   "cell_type": "code",
   "execution_count": 283,
   "id": "b4ffd5eb-39f2-4650-86f6-871978a3398d",
   "metadata": {},
   "outputs": [],
   "source": [
    "regressor = MLPClassifier()"
   ]
  },
  {
   "cell_type": "code",
   "execution_count": 284,
   "id": "1818ddc2-081d-408f-87bd-8de1921facc7",
   "metadata": {},
   "outputs": [],
   "source": [
    "model = regressor.fit(X_train_scaled, y_train)"
   ]
  },
  {
   "cell_type": "code",
   "execution_count": 285,
   "id": "f701b7b8-81e3-411f-8e07-b4ea770f620f",
   "metadata": {},
   "outputs": [],
   "source": [
    "y_pred = model.predict(X_test_scaled)"
   ]
  },
  {
   "cell_type": "code",
   "execution_count": 286,
   "id": "470918d5-4de0-42ad-941b-cb538206b738",
   "metadata": {},
   "outputs": [
    {
     "data": {
      "text/plain": [
       "0.7350248495945593"
      ]
     },
     "execution_count": 286,
     "metadata": {},
     "output_type": "execute_result"
    }
   ],
   "source": [
    "accuracy_score(y_test, y_pred)"
   ]
  },
  {
   "cell_type": "code",
   "execution_count": 287,
   "id": "92e719db-5fca-458d-8ce8-16d5eac5f547",
   "metadata": {},
   "outputs": [
    {
     "name": "stdout",
     "output_type": "stream",
     "text": [
      "              precision    recall  f1-score   support\n",
      "\n",
      "         0.0       0.79      0.88      0.83      2839\n",
      "         1.0       0.48      0.32      0.38       984\n",
      "\n",
      "    accuracy                           0.74      3823\n",
      "   macro avg       0.63      0.60      0.61      3823\n",
      "weighted avg       0.71      0.74      0.72      3823\n",
      "\n"
     ]
    }
   ],
   "source": [
    "print(classification_report(y_test,y_pred))"
   ]
  },
  {
   "cell_type": "code",
   "execution_count": 288,
   "id": "187caaf1-4985-4ebd-96d8-be0ed838dfec",
   "metadata": {},
   "outputs": [
    {
     "data": {
      "text/plain": [
       "<sklearn.metrics._plot.confusion_matrix.ConfusionMatrixDisplay at 0x7fa1c873c3a0>"
      ]
     },
     "execution_count": 288,
     "metadata": {},
     "output_type": "execute_result"
    },
    {
     "data": {
      "image/png": "[encoded data removed]",
      "text/plain": [
       "<Figure size 432x288 with 2 Axes>"
      ]
     },
     "metadata": {
      "needs_background": "light"
     },
     "output_type": "display_data"
    }
   ],
   "source": [
    "plot_confusion_matrix(model,X_test_scaled,y_test)"
   ]
  },
  {
   "cell_type": "code",
   "execution_count": 289,
   "id": "80b22419-ec0c-415f-8b0a-f825e52286dc",
   "metadata": {},
   "outputs": [],
   "source": [
    "results = results.append({\"Model\": str(model), \n",
    "                          \"Accuracy Score\":accuracy_score(y_test, y_pred),\n",
    "                         \"Type II Error\":confusion_matrix(y_test,y_pred)[1][0],\n",
    "                         \"Precision\": classification_report(y_test,y_pred, output_dict=True)[\"0.0\"][\"precision\"]}, ignore_index=True)"
   ]
  },
  {
   "cell_type": "markdown",
   "id": "549552e2-9cd4-4034-a4ae-812375014f80",
   "metadata": {},
   "source": [
    "<br><br>**Model Tuning**"
   ]
  },
  {
   "cell_type": "code",
   "execution_count": 290,
   "id": "7d62fd2e-aee8-4d84-bec3-8349ba58d9e6",
   "metadata": {},
   "outputs": [
    {
     "data": {
      "text/plain": [
       "{'activation': 'relu',\n",
       " 'alpha': 0.0001,\n",
       " 'batch_size': 'auto',\n",
       " 'beta_1': 0.9,\n",
       " 'beta_2': 0.999,\n",
       " 'early_stopping': False,\n",
       " 'epsilon': 1e-08,\n",
       " 'hidden_layer_sizes': (100,),\n",
       " 'learning_rate': 'constant',\n",
       " 'learning_rate_init': 0.001,\n",
       " 'max_fun': 15000,\n",
       " 'max_iter': 200,\n",
       " 'momentum': 0.9,\n",
       " 'n_iter_no_change': 10,\n",
       " 'nesterovs_momentum': True,\n",
       " 'power_t': 0.5,\n",
       " 'random_state': None,\n",
       " 'shuffle': True,\n",
       " 'solver': 'adam',\n",
       " 'tol': 0.0001,\n",
       " 'validation_fraction': 0.1,\n",
       " 'verbose': False,\n",
       " 'warm_start': False}"
      ]
     },
     "execution_count": 290,
     "metadata": {},
     "output_type": "execute_result"
    }
   ],
   "source": [
    "model.get_params()"
   ]
  },
  {
   "cell_type": "code",
   "execution_count": 291,
   "id": "8c9f01a8-759d-4af7-aed7-397ad799eebc",
   "metadata": {},
   "outputs": [],
   "source": [
    "param_grid = {\"alpha\": [0.005, 0.0001,0.00001],\n",
    "              \"hidden_layer_sizes\": [(10,10,10),\n",
    "                                     (100,100,100),\n",
    "                                     (100,100)],\n",
    "              \"solver\" : [\"lbfgs\",\"adam\",\"sgd\"],\n",
    "              \"activation\": [\"relu\",\"logistic\"]}"
   ]
  },
  {
   "cell_type": "code",
   "execution_count": 293,
   "id": "77cd1837-cee8-4bc5-9062-1a2c807e6f97",
   "metadata": {},
   "outputs": [
    {
     "data": {
      "text/plain": [
       "RandomizedSearchCV(cv=3, estimator=MLPClassifier(),\n",
       "                   param_distributions={'activation': ['relu', 'logistic'],\n",
       "                                        'alpha': [0.005, 0.0001, 1e-05],\n",
       "                                        'hidden_layer_sizes': [(10, 10, 10),\n",
       "                                                               (100, 100, 100),\n",
       "                                                               (100, 100)],\n",
       "                                        'solver': ['lbfgs', 'adam', 'sgd']})"
      ]
     },
     "execution_count": 293,
     "metadata": {},
     "output_type": "execute_result"
    }
   ],
   "source": [
    "cv_model = RandomizedSearchCV(model, param_grid, cv=3)\n",
    "cv_model.fit(X_train_scaled, y_train)"
   ]
  },
  {
   "cell_type": "code",
   "execution_count": 294,
   "id": "3e638a9d-f148-4d9e-9ed2-48b76dcbd4ee",
   "metadata": {},
   "outputs": [
    {
     "data": {
      "text/plain": [
       "{'solver': 'sgd',\n",
       " 'hidden_layer_sizes': (10, 10, 10),\n",
       " 'alpha': 0.0001,\n",
       " 'activation': 'relu'}"
      ]
     },
     "execution_count": 294,
     "metadata": {},
     "output_type": "execute_result"
    }
   ],
   "source": [
    "cv_model.best_params_"
   ]
  },
  {
   "cell_type": "code",
   "execution_count": 295,
   "id": "c58d13eb-7313-4e23-b4ed-2373d758bfc0",
   "metadata": {},
   "outputs": [],
   "source": [
    "y_pred = cv_model.predict(X_test_scaled)"
   ]
  },
  {
   "cell_type": "code",
   "execution_count": 296,
   "id": "427d6109-4571-40b7-a246-1766f91203a0",
   "metadata": {},
   "outputs": [
    {
     "data": {
      "text/plain": [
       "0.7567355479989537"
      ]
     },
     "execution_count": 296,
     "metadata": {},
     "output_type": "execute_result"
    }
   ],
   "source": [
    "accuracy_score(y_test, y_pred)"
   ]
  },
  {
   "cell_type": "code",
   "execution_count": 297,
   "id": "82274ad5-dac5-4b6e-86fd-73638315af9b",
   "metadata": {},
   "outputs": [
    {
     "name": "stdout",
     "output_type": "stream",
     "text": [
      "              precision    recall  f1-score   support\n",
      "\n",
      "         0.0       0.79      0.91      0.85      2839\n",
      "         1.0       0.55      0.31      0.39       984\n",
      "\n",
      "    accuracy                           0.76      3823\n",
      "   macro avg       0.67      0.61      0.62      3823\n",
      "weighted avg       0.73      0.76      0.73      3823\n",
      "\n"
     ]
    }
   ],
   "source": [
    "print(classification_report(y_test,y_pred))"
   ]
  },
  {
   "cell_type": "code",
   "execution_count": 298,
   "id": "b2515729-dee0-4f33-b88c-af3495ab27cb",
   "metadata": {},
   "outputs": [
    {
     "data": {
      "text/plain": [
       "<sklearn.metrics._plot.confusion_matrix.ConfusionMatrixDisplay at 0x7fa1c85a9be0>"
      ]
     },
     "execution_count": 298,
     "metadata": {},
     "output_type": "execute_result"
    },
    {
     "data": {
      "image/png": "[encoded data removed]",
      "text/plain": [
       "<Figure size 432x288 with 2 Axes>"
      ]
     },
     "metadata": {
      "needs_background": "light"
     },
     "output_type": "display_data"
    }
   ],
   "source": [
    "plot_confusion_matrix(cv_model,X_test_scaled,y_test)"
   ]
  },
  {
   "cell_type": "code",
   "execution_count": 299,
   "id": "f146b0c7-6bb4-4f0e-ba60-f467216cc6ef",
   "metadata": {},
   "outputs": [],
   "source": [
    "results = results.append({\"Model\": str(model)+\"_tuned\", \n",
    "                          \"Accuracy Score\":accuracy_score(y_test, y_pred),\n",
    "                         \"Type II Error\":confusion_matrix(y_test,y_pred)[1][0],\n",
    "                         \"Precision\": classification_report(y_test,y_pred, output_dict=True)[\"0.0\"][\"precision\"]}, ignore_index=True)"
   ]
  },
  {
   "cell_type": "code",
   "execution_count": 300,
   "id": "4edd3b14-fbbc-43ca-ad5d-ab91ddc2b556",
   "metadata": {},
   "outputs": [
    {
     "data": {
      "text/html": [
       "<div>\n",
       "<style scoped>\n",
       "    .dataframe tbody tr th:only-of-type {\n",
       "        vertical-align: middle;\n",
       "    }\n",
       "\n",
       "    .dataframe tbody tr th {\n",
       "        vertical-align: top;\n",
       "    }\n",
       "\n",
       "    .dataframe thead th {\n",
       "        text-align: right;\n",
       "    }\n",
       "</style>\n",
       "<table border=\"1\" class=\"dataframe\">\n",
       "  <thead>\n",
       "    <tr style=\"text-align: right;\">\n",
       "      <th></th>\n",
       "      <th>Model</th>\n",
       "      <th>Accuracy Score</th>\n",
       "      <th>Type II Error</th>\n",
       "      <th>Precision</th>\n",
       "    </tr>\n",
       "  </thead>\n",
       "  <tbody>\n",
       "    <tr>\n",
       "      <th>0</th>\n",
       "      <td>LogisticRegression()</td>\n",
       "      <td>0.760921</td>\n",
       "      <td>746</td>\n",
       "      <td>0.78168</td>\n",
       "    </tr>\n",
       "    <tr>\n",
       "      <th>1</th>\n",
       "      <td>LogisticRegression()_tuned</td>\n",
       "      <td>0.74758</td>\n",
       "      <td>939</td>\n",
       "      <td>0.749733</td>\n",
       "    </tr>\n",
       "    <tr>\n",
       "      <th>2</th>\n",
       "      <td>GaussianNB()</td>\n",
       "      <td>0.633272</td>\n",
       "      <td>369</td>\n",
       "      <td>0.830345</td>\n",
       "    </tr>\n",
       "    <tr>\n",
       "      <th>3</th>\n",
       "      <td>GaussianNB()_tuned</td>\n",
       "      <td>0.633272</td>\n",
       "      <td>369</td>\n",
       "      <td>0.830345</td>\n",
       "    </tr>\n",
       "    <tr>\n",
       "      <th>4</th>\n",
       "      <td>KNeighborsClassifier()</td>\n",
       "      <td>0.721423</td>\n",
       "      <td>794</td>\n",
       "      <td>0.763831</td>\n",
       "    </tr>\n",
       "    <tr>\n",
       "      <th>5</th>\n",
       "      <td>KNeighborsClassifier()_tuned</td>\n",
       "      <td>0.742611</td>\n",
       "      <td>960</td>\n",
       "      <td>0.745695</td>\n",
       "    </tr>\n",
       "    <tr>\n",
       "      <th>6</th>\n",
       "      <td>SVC()</td>\n",
       "      <td>0.742611</td>\n",
       "      <td>984</td>\n",
       "      <td>0.742611</td>\n",
       "    </tr>\n",
       "    <tr>\n",
       "      <th>7</th>\n",
       "      <td>SVC()_tuned</td>\n",
       "      <td>0.742611</td>\n",
       "      <td>984</td>\n",
       "      <td>0.742611</td>\n",
       "    </tr>\n",
       "    <tr>\n",
       "      <th>8</th>\n",
       "      <td>MLPClassifier()</td>\n",
       "      <td>0.735025</td>\n",
       "      <td>670</td>\n",
       "      <td>0.788377</td>\n",
       "    </tr>\n",
       "    <tr>\n",
       "      <th>9</th>\n",
       "      <td>MLPClassifier()_tuned</td>\n",
       "      <td>0.756736</td>\n",
       "      <td>681</td>\n",
       "      <td>0.791807</td>\n",
       "    </tr>\n",
       "  </tbody>\n",
       "</table>\n",
       "</div>"
      ],
      "text/plain": [
       "                          Model Accuracy Score Type II Error Precision\n",
       "0          LogisticRegression()       0.760921           746   0.78168\n",
       "1    LogisticRegression()_tuned        0.74758           939  0.749733\n",
       "2                  GaussianNB()       0.633272           369  0.830345\n",
       "3            GaussianNB()_tuned       0.633272           369  0.830345\n",
       "4        KNeighborsClassifier()       0.721423           794  0.763831\n",
       "5  KNeighborsClassifier()_tuned       0.742611           960  0.745695\n",
       "6                         SVC()       0.742611           984  0.742611\n",
       "7                   SVC()_tuned       0.742611           984  0.742611\n",
       "8               MLPClassifier()       0.735025           670  0.788377\n",
       "9         MLPClassifier()_tuned       0.756736           681  0.791807"
      ]
     },
     "execution_count": 300,
     "metadata": {},
     "output_type": "execute_result"
    }
   ],
   "source": [
    "results"
   ]
  },
  {
   "cell_type": "markdown",
   "id": "851fa18e-a570-4379-89ef-a79e76ab4dd9",
   "metadata": {},
   "source": [
    "<br><br><br>"
   ]
  },
  {
   "cell_type": "markdown",
   "id": "5a312140-0bee-43d5-b863-f20390fddcb6",
   "metadata": {
    "jp-MarkdownHeadingCollapsed": true,
    "tags": []
   },
   "source": [
    "#### 2.2.6. DecisionTreeClassifier"
   ]
  },
  {
   "cell_type": "markdown",
   "id": "45e8daee-6c5e-49f8-b9bc-beb993cc6ef7",
   "metadata": {},
   "source": [
    "**Model**"
   ]
  },
  {
   "cell_type": "code",
   "execution_count": 301,
   "id": "5f112397-a009-4c76-8348-d31e496cba70",
   "metadata": {},
   "outputs": [],
   "source": [
    "regressor = DecisionTreeClassifier()"
   ]
  },
  {
   "cell_type": "code",
   "execution_count": 302,
   "id": "e139816b-4ecf-428d-9779-6d23cac53597",
   "metadata": {},
   "outputs": [],
   "source": [
    "model = regressor.fit(X_train, y_train)"
   ]
  },
  {
   "cell_type": "code",
   "execution_count": 303,
   "id": "c8821a4a-bf20-4578-9dbd-fc0219a7987f",
   "metadata": {},
   "outputs": [],
   "source": [
    "y_pred = model.predict(X_test)"
   ]
  },
  {
   "cell_type": "code",
   "execution_count": 304,
   "id": "d96b30b5-d84d-45d0-a9f9-4e8eb6088f86",
   "metadata": {},
   "outputs": [
    {
     "data": {
      "text/plain": [
       "0.6819251896416427"
      ]
     },
     "execution_count": 304,
     "metadata": {},
     "output_type": "execute_result"
    }
   ],
   "source": [
    "accuracy_score(y_test, y_pred)"
   ]
  },
  {
   "cell_type": "code",
   "execution_count": 305,
   "id": "e464c5b4-f5bf-426a-8314-0c752a45d665",
   "metadata": {},
   "outputs": [
    {
     "name": "stdout",
     "output_type": "stream",
     "text": [
      "              precision    recall  f1-score   support\n",
      "\n",
      "         0.0       0.78      0.79      0.79      2839\n",
      "         1.0       0.38      0.36      0.37       984\n",
      "\n",
      "    accuracy                           0.68      3823\n",
      "   macro avg       0.58      0.58      0.58      3823\n",
      "weighted avg       0.68      0.68      0.68      3823\n",
      "\n"
     ]
    }
   ],
   "source": [
    "print(classification_report(y_test,y_pred))"
   ]
  },
  {
   "cell_type": "code",
   "execution_count": 306,
   "id": "58fca9d8-3b5c-40fd-b9ad-9414f8372449",
   "metadata": {},
   "outputs": [
    {
     "data": {
      "text/plain": [
       "<sklearn.metrics._plot.confusion_matrix.ConfusionMatrixDisplay at 0x7fa27f6aa190>"
      ]
     },
     "execution_count": 306,
     "metadata": {},
     "output_type": "execute_result"
    },
    {
     "data": {
      "image/png": "[encoded data removed]",
      "text/plain": [
       "<Figure size 432x288 with 2 Axes>"
      ]
     },
     "metadata": {
      "needs_background": "light"
     },
     "output_type": "display_data"
    }
   ],
   "source": [
    "plot_confusion_matrix(model,X_test,y_test)"
   ]
  },
  {
   "cell_type": "code",
   "execution_count": 307,
   "id": "b93470d4-4f16-43f3-bde0-69695273d819",
   "metadata": {},
   "outputs": [],
   "source": [
    "results = results.append({\"Model\": str(model), \n",
    "                          \"Accuracy Score\":accuracy_score(y_test, y_pred),\n",
    "                         \"Type II Error\":confusion_matrix(y_test,y_pred)[1][0],\n",
    "                         \"Precision\": classification_report(y_test,y_pred, output_dict=True)[\"0.0\"][\"precision\"]}, ignore_index=True)"
   ]
  },
  {
   "cell_type": "markdown",
   "id": "5dfa1c67-971d-402f-a4af-d448301e35d6",
   "metadata": {},
   "source": [
    "<br><br>**Model Tuning**"
   ]
  },
  {
   "cell_type": "code",
   "execution_count": 308,
   "id": "50510fec-a7b7-4187-9677-ad6fa9d8d1fc",
   "metadata": {},
   "outputs": [
    {
     "data": {
      "text/plain": [
       "{'ccp_alpha': 0.0,\n",
       " 'class_weight': None,\n",
       " 'criterion': 'gini',\n",
       " 'max_depth': None,\n",
       " 'max_features': None,\n",
       " 'max_leaf_nodes': None,\n",
       " 'min_impurity_decrease': 0.0,\n",
       " 'min_samples_leaf': 1,\n",
       " 'min_samples_split': 2,\n",
       " 'min_weight_fraction_leaf': 0.0,\n",
       " 'random_state': None,\n",
       " 'splitter': 'best'}"
      ]
     },
     "execution_count": 308,
     "metadata": {},
     "output_type": "execute_result"
    }
   ],
   "source": [
    "model.get_params()"
   ]
  },
  {
   "cell_type": "code",
   "execution_count": 309,
   "id": "149b26d3-7c10-4fd5-8ced-14e84bfab5d2",
   "metadata": {},
   "outputs": [],
   "source": [
    "param_grid = {\"max_depth\": [1,5,10],\n",
    "            \"min_samples_split\" : [2,5,10]}"
   ]
  },
  {
   "cell_type": "code",
   "execution_count": 310,
   "id": "89dd8fe2-213b-441c-a0c7-9877e76c812e",
   "metadata": {},
   "outputs": [
    {
     "data": {
      "text/plain": [
       "RandomizedSearchCV(cv=5, estimator=DecisionTreeClassifier(),\n",
       "                   param_distributions={'max_depth': [1, 5, 10],\n",
       "                                        'min_samples_split': [2, 5, 10]})"
      ]
     },
     "execution_count": 310,
     "metadata": {},
     "output_type": "execute_result"
    }
   ],
   "source": [
    "cv_model = RandomizedSearchCV(model, param_grid, cv=5)\n",
    "cv_model.fit(X_train, y_train)"
   ]
  },
  {
   "cell_type": "code",
   "execution_count": 311,
   "id": "09f200d7-d657-4f4f-88b3-6ffd57d2b26c",
   "metadata": {},
   "outputs": [
    {
     "data": {
      "text/plain": [
       "{'min_samples_split': 2, 'max_depth': 1}"
      ]
     },
     "execution_count": 311,
     "metadata": {},
     "output_type": "execute_result"
    }
   ],
   "source": [
    "cv_model.best_params_"
   ]
  },
  {
   "cell_type": "code",
   "execution_count": 312,
   "id": "0e5506d9-8f66-493c-8ea1-ebb2635756c5",
   "metadata": {},
   "outputs": [],
   "source": [
    "y_pred = cv_model.predict(X_test)"
   ]
  },
  {
   "cell_type": "code",
   "execution_count": 313,
   "id": "49e9481b-3267-4778-a7e6-e53a48ded220",
   "metadata": {},
   "outputs": [
    {
     "data": {
      "text/plain": [
       "0.7724300287732148"
      ]
     },
     "execution_count": 313,
     "metadata": {},
     "output_type": "execute_result"
    }
   ],
   "source": [
    "accuracy_score(y_test, y_pred)"
   ]
  },
  {
   "cell_type": "code",
   "execution_count": 314,
   "id": "cee0bbaf-6ce5-45bc-a607-2854b5c56849",
   "metadata": {},
   "outputs": [
    {
     "name": "stdout",
     "output_type": "stream",
     "text": [
      "              precision    recall  f1-score   support\n",
      "\n",
      "         0.0       0.81      0.91      0.86      2839\n",
      "         1.0       0.59      0.39      0.47       984\n",
      "\n",
      "    accuracy                           0.77      3823\n",
      "   macro avg       0.70      0.65      0.66      3823\n",
      "weighted avg       0.75      0.77      0.76      3823\n",
      "\n"
     ]
    }
   ],
   "source": [
    "print(classification_report(y_test,y_pred))"
   ]
  },
  {
   "cell_type": "code",
   "execution_count": 315,
   "id": "5067fa68-40a3-4db5-8cb6-a2ae348ddd97",
   "metadata": {},
   "outputs": [
    {
     "data": {
      "text/plain": [
       "<sklearn.metrics._plot.confusion_matrix.ConfusionMatrixDisplay at 0x7fa27f60f0a0>"
      ]
     },
     "execution_count": 315,
     "metadata": {},
     "output_type": "execute_result"
    },
    {
     "data": {
      "image/png": "[encoded data removed]",
      "text/plain": [
       "<Figure size 432x288 with 2 Axes>"
      ]
     },
     "metadata": {
      "needs_background": "light"
     },
     "output_type": "display_data"
    }
   ],
   "source": [
    "plot_confusion_matrix(cv_model,X_test,y_test)"
   ]
  },
  {
   "cell_type": "code",
   "execution_count": 316,
   "id": "c2c72c59-d39e-4d92-b9c7-a7face38138b",
   "metadata": {},
   "outputs": [],
   "source": [
    "results = results.append({\"Model\": str(model)+\"_tuned\", \n",
    "                          \"Accuracy Score\":accuracy_score(y_test, y_pred),\n",
    "                         \"Type II Error\":confusion_matrix(y_test,y_pred)[1][0],\n",
    "                         \"Precision\": classification_report(y_test,y_pred, output_dict=True)[\"0.0\"][\"precision\"]}, ignore_index=True)"
   ]
  },
  {
   "cell_type": "code",
   "execution_count": 317,
   "id": "f9337a40-02e3-4ab7-9959-584c1033af05",
   "metadata": {},
   "outputs": [
    {
     "data": {
      "text/html": [
       "<div>\n",
       "<style scoped>\n",
       "    .dataframe tbody tr th:only-of-type {\n",
       "        vertical-align: middle;\n",
       "    }\n",
       "\n",
       "    .dataframe tbody tr th {\n",
       "        vertical-align: top;\n",
       "    }\n",
       "\n",
       "    .dataframe thead th {\n",
       "        text-align: right;\n",
       "    }\n",
       "</style>\n",
       "<table border=\"1\" class=\"dataframe\">\n",
       "  <thead>\n",
       "    <tr style=\"text-align: right;\">\n",
       "      <th></th>\n",
       "      <th>Model</th>\n",
       "      <th>Accuracy Score</th>\n",
       "      <th>Type II Error</th>\n",
       "      <th>Precision</th>\n",
       "    </tr>\n",
       "  </thead>\n",
       "  <tbody>\n",
       "    <tr>\n",
       "      <th>0</th>\n",
       "      <td>LogisticRegression()</td>\n",
       "      <td>0.760921</td>\n",
       "      <td>746</td>\n",
       "      <td>0.78168</td>\n",
       "    </tr>\n",
       "    <tr>\n",
       "      <th>1</th>\n",
       "      <td>LogisticRegression()_tuned</td>\n",
       "      <td>0.74758</td>\n",
       "      <td>939</td>\n",
       "      <td>0.749733</td>\n",
       "    </tr>\n",
       "    <tr>\n",
       "      <th>2</th>\n",
       "      <td>GaussianNB()</td>\n",
       "      <td>0.633272</td>\n",
       "      <td>369</td>\n",
       "      <td>0.830345</td>\n",
       "    </tr>\n",
       "    <tr>\n",
       "      <th>3</th>\n",
       "      <td>GaussianNB()_tuned</td>\n",
       "      <td>0.633272</td>\n",
       "      <td>369</td>\n",
       "      <td>0.830345</td>\n",
       "    </tr>\n",
       "    <tr>\n",
       "      <th>4</th>\n",
       "      <td>KNeighborsClassifier()</td>\n",
       "      <td>0.721423</td>\n",
       "      <td>794</td>\n",
       "      <td>0.763831</td>\n",
       "    </tr>\n",
       "    <tr>\n",
       "      <th>5</th>\n",
       "      <td>KNeighborsClassifier()_tuned</td>\n",
       "      <td>0.742611</td>\n",
       "      <td>960</td>\n",
       "      <td>0.745695</td>\n",
       "    </tr>\n",
       "    <tr>\n",
       "      <th>6</th>\n",
       "      <td>SVC()</td>\n",
       "      <td>0.742611</td>\n",
       "      <td>984</td>\n",
       "      <td>0.742611</td>\n",
       "    </tr>\n",
       "    <tr>\n",
       "      <th>7</th>\n",
       "      <td>SVC()_tuned</td>\n",
       "      <td>0.742611</td>\n",
       "      <td>984</td>\n",
       "      <td>0.742611</td>\n",
       "    </tr>\n",
       "    <tr>\n",
       "      <th>8</th>\n",
       "      <td>MLPClassifier()</td>\n",
       "      <td>0.735025</td>\n",
       "      <td>670</td>\n",
       "      <td>0.788377</td>\n",
       "    </tr>\n",
       "    <tr>\n",
       "      <th>9</th>\n",
       "      <td>MLPClassifier()_tuned</td>\n",
       "      <td>0.756736</td>\n",
       "      <td>681</td>\n",
       "      <td>0.791807</td>\n",
       "    </tr>\n",
       "    <tr>\n",
       "      <th>10</th>\n",
       "      <td>DecisionTreeClassifier()</td>\n",
       "      <td>0.681925</td>\n",
       "      <td>633</td>\n",
       "      <td>0.780893</td>\n",
       "    </tr>\n",
       "    <tr>\n",
       "      <th>11</th>\n",
       "      <td>DecisionTreeClassifier()_tuned</td>\n",
       "      <td>0.77243</td>\n",
       "      <td>603</td>\n",
       "      <td>0.810079</td>\n",
       "    </tr>\n",
       "  </tbody>\n",
       "</table>\n",
       "</div>"
      ],
      "text/plain": [
       "                             Model Accuracy Score Type II Error Precision\n",
       "0             LogisticRegression()       0.760921           746   0.78168\n",
       "1       LogisticRegression()_tuned        0.74758           939  0.749733\n",
       "2                     GaussianNB()       0.633272           369  0.830345\n",
       "3               GaussianNB()_tuned       0.633272           369  0.830345\n",
       "4           KNeighborsClassifier()       0.721423           794  0.763831\n",
       "5     KNeighborsClassifier()_tuned       0.742611           960  0.745695\n",
       "6                            SVC()       0.742611           984  0.742611\n",
       "7                      SVC()_tuned       0.742611           984  0.742611\n",
       "8                  MLPClassifier()       0.735025           670  0.788377\n",
       "9            MLPClassifier()_tuned       0.756736           681  0.791807\n",
       "10        DecisionTreeClassifier()       0.681925           633  0.780893\n",
       "11  DecisionTreeClassifier()_tuned        0.77243           603  0.810079"
      ]
     },
     "execution_count": 317,
     "metadata": {},
     "output_type": "execute_result"
    }
   ],
   "source": [
    "results"
   ]
  },
  {
   "cell_type": "markdown",
   "id": "08b1f605-3e17-4764-a1fa-55d5441e7bc0",
   "metadata": {},
   "source": [
    "<br><br><br>"
   ]
  },
  {
   "cell_type": "markdown",
   "id": "ae00587c-afcb-4d0e-ad4f-66710dc19fc5",
   "metadata": {
    "jp-MarkdownHeadingCollapsed": true,
    "tags": []
   },
   "source": [
    "#### 2.2.7. Random Forests"
   ]
  },
  {
   "cell_type": "markdown",
   "id": "7f3670f9-9c28-4285-abb7-a8c6481ea058",
   "metadata": {},
   "source": [
    "**Model**"
   ]
  },
  {
   "cell_type": "code",
   "execution_count": 318,
   "id": "4f0bbfba-cefb-4104-b48a-7f60095a8716",
   "metadata": {},
   "outputs": [],
   "source": [
    "regressor = RandomForestClassifier()"
   ]
  },
  {
   "cell_type": "code",
   "execution_count": 319,
   "id": "4ced4775-2e94-44e9-a217-4f3e6d827c97",
   "metadata": {},
   "outputs": [],
   "source": [
    "model = regressor.fit(X_train, y_train)"
   ]
  },
  {
   "cell_type": "code",
   "execution_count": 320,
   "id": "826d1535-5e72-475b-9515-0602495a244c",
   "metadata": {},
   "outputs": [],
   "source": [
    "y_pred = model.predict(X_test)"
   ]
  },
  {
   "cell_type": "code",
   "execution_count": 321,
   "id": "e4251309-bacd-4813-a7d9-54dc615c9834",
   "metadata": {},
   "outputs": [
    {
     "data": {
      "text/plain": [
       "0.7402563431859795"
      ]
     },
     "execution_count": 321,
     "metadata": {},
     "output_type": "execute_result"
    }
   ],
   "source": [
    "accuracy_score(y_test, y_pred)"
   ]
  },
  {
   "cell_type": "code",
   "execution_count": 322,
   "id": "6e833ebd-f025-4bee-b1b0-2131e135a6b9",
   "metadata": {},
   "outputs": [
    {
     "name": "stdout",
     "output_type": "stream",
     "text": [
      "              precision    recall  f1-score   support\n",
      "\n",
      "         0.0       0.79      0.89      0.84      2839\n",
      "         1.0       0.49      0.32      0.39       984\n",
      "\n",
      "    accuracy                           0.74      3823\n",
      "   macro avg       0.64      0.60      0.61      3823\n",
      "weighted avg       0.71      0.74      0.72      3823\n",
      "\n"
     ]
    }
   ],
   "source": [
    "print(classification_report(y_test,y_pred))"
   ]
  },
  {
   "cell_type": "code",
   "execution_count": 323,
   "id": "7b135a54-6fde-4fef-917b-4839bf388319",
   "metadata": {},
   "outputs": [
    {
     "data": {
      "text/plain": [
       "<sklearn.metrics._plot.confusion_matrix.ConfusionMatrixDisplay at 0x7fa27f68a7c0>"
      ]
     },
     "execution_count": 323,
     "metadata": {},
     "output_type": "execute_result"
    },
    {
     "data": {
      "image/png": "[encoded data removed]",
      "text/plain": [
       "<Figure size 432x288 with 2 Axes>"
      ]
     },
     "metadata": {
      "needs_background": "light"
     },
     "output_type": "display_data"
    }
   ],
   "source": [
    "plot_confusion_matrix(model,X_test,y_test)"
   ]
  },
  {
   "cell_type": "code",
   "execution_count": 324,
   "id": "a957f09e-f3c6-4ce3-9d4e-7f479d32511f",
   "metadata": {},
   "outputs": [],
   "source": [
    "results = results.append({\"Model\": str(model), \n",
    "                          \"Accuracy Score\":accuracy_score(y_test, y_pred),\n",
    "                         \"Type II Error\":confusion_matrix(y_test,y_pred)[1][0],\n",
    "                         \"Precision\": classification_report(y_test,y_pred, output_dict=True)[\"0.0\"][\"precision\"]}, ignore_index=True)"
   ]
  },
  {
   "cell_type": "markdown",
   "id": "b24c9937-27e5-4aa5-a81c-ee9855b45862",
   "metadata": {},
   "source": [
    "<br><br>**Model Tuning**"
   ]
  },
  {
   "cell_type": "code",
   "execution_count": 325,
   "id": "0c5b1b22-bcba-42ef-890c-56f19d51dc04",
   "metadata": {},
   "outputs": [
    {
     "data": {
      "text/plain": [
       "{'bootstrap': True,\n",
       " 'ccp_alpha': 0.0,\n",
       " 'class_weight': None,\n",
       " 'criterion': 'gini',\n",
       " 'max_depth': None,\n",
       " 'max_features': 'auto',\n",
       " 'max_leaf_nodes': None,\n",
       " 'max_samples': None,\n",
       " 'min_impurity_decrease': 0.0,\n",
       " 'min_samples_leaf': 1,\n",
       " 'min_samples_split': 2,\n",
       " 'min_weight_fraction_leaf': 0.0,\n",
       " 'n_estimators': 100,\n",
       " 'n_jobs': None,\n",
       " 'oob_score': False,\n",
       " 'random_state': None,\n",
       " 'verbose': 0,\n",
       " 'warm_start': False}"
      ]
     },
     "execution_count": 325,
     "metadata": {},
     "output_type": "execute_result"
    }
   ],
   "source": [
    "model.get_params()"
   ]
  },
  {
   "cell_type": "code",
   "execution_count": 326,
   "id": "2a8506ba-40d1-4eec-b533-03609ff5e10b",
   "metadata": {},
   "outputs": [],
   "source": [
    "param_grid = {\"max_depth\": [2,5,8,10],\n",
    "            \"max_features\": [2,5,8],\n",
    "            \"n_estimators\": [10,500,1000],\n",
    "            \"min_samples_split\": [2,5,10]}"
   ]
  },
  {
   "cell_type": "code",
   "execution_count": 327,
   "id": "659ae879-0cdf-4004-99c6-f6c6a0bb4320",
   "metadata": {},
   "outputs": [
    {
     "data": {
      "text/plain": [
       "RandomizedSearchCV(cv=5, estimator=RandomForestClassifier(),\n",
       "                   param_distributions={'max_depth': [2, 5, 8, 10],\n",
       "                                        'max_features': [2, 5, 8],\n",
       "                                        'min_samples_split': [2, 5, 10],\n",
       "                                        'n_estimators': [10, 500, 1000]})"
      ]
     },
     "execution_count": 327,
     "metadata": {},
     "output_type": "execute_result"
    }
   ],
   "source": [
    "cv_model = RandomizedSearchCV(model, param_grid, cv=5)\n",
    "cv_model.fit(X_train, y_train)"
   ]
  },
  {
   "cell_type": "code",
   "execution_count": 328,
   "id": "b146de95-a274-454e-82b8-cd645bf278ce",
   "metadata": {},
   "outputs": [
    {
     "data": {
      "text/plain": [
       "{'n_estimators': 1000,\n",
       " 'min_samples_split': 2,\n",
       " 'max_features': 8,\n",
       " 'max_depth': 10}"
      ]
     },
     "execution_count": 328,
     "metadata": {},
     "output_type": "execute_result"
    }
   ],
   "source": [
    "cv_model.best_params_"
   ]
  },
  {
   "cell_type": "code",
   "execution_count": 329,
   "id": "ee55c150-c5ab-4879-8b7b-8971f69fc3bf",
   "metadata": {},
   "outputs": [],
   "source": [
    "y_pred = cv_model.predict(X_test)"
   ]
  },
  {
   "cell_type": "code",
   "execution_count": 330,
   "id": "80e953d6-f0a3-449c-8b61-e9a4d56a40e1",
   "metadata": {},
   "outputs": [
    {
     "data": {
      "text/plain": [
       "0.7671985351817944"
      ]
     },
     "execution_count": 330,
     "metadata": {},
     "output_type": "execute_result"
    }
   ],
   "source": [
    "accuracy_score(y_test, y_pred)"
   ]
  },
  {
   "cell_type": "code",
   "execution_count": 331,
   "id": "980974cf-bb26-41a1-8120-6d7604c82a71",
   "metadata": {},
   "outputs": [
    {
     "name": "stdout",
     "output_type": "stream",
     "text": [
      "              precision    recall  f1-score   support\n",
      "\n",
      "         0.0       0.80      0.91      0.85      2839\n",
      "         1.0       0.58      0.34      0.43       984\n",
      "\n",
      "    accuracy                           0.77      3823\n",
      "   macro avg       0.69      0.63      0.64      3823\n",
      "weighted avg       0.74      0.77      0.74      3823\n",
      "\n"
     ]
    }
   ],
   "source": [
    "print(classification_report(y_test,y_pred))"
   ]
  },
  {
   "cell_type": "code",
   "execution_count": 332,
   "id": "24190fb4-3bf4-4dda-a20f-87f3f55a8009",
   "metadata": {},
   "outputs": [
    {
     "data": {
      "text/plain": [
       "<sklearn.metrics._plot.confusion_matrix.ConfusionMatrixDisplay at 0x7fa27f68ad30>"
      ]
     },
     "execution_count": 332,
     "metadata": {},
     "output_type": "execute_result"
    },
    {
     "data": {
      "image/png": "[encoded data removed]",
      "text/plain": [
       "<Figure size 432x288 with 2 Axes>"
      ]
     },
     "metadata": {
      "needs_background": "light"
     },
     "output_type": "display_data"
    }
   ],
   "source": [
    "plot_confusion_matrix(cv_model,X_test,y_test)"
   ]
  },
  {
   "cell_type": "code",
   "execution_count": 333,
   "id": "fbcb3e95-3b1b-4b8b-b996-c2ca8162d367",
   "metadata": {},
   "outputs": [],
   "source": [
    "results = results.append({\"Model\": str(model)+\"_tuned\", \n",
    "                          \"Accuracy Score\":accuracy_score(y_test, y_pred),\n",
    "                         \"Type II Error\":confusion_matrix(y_test,y_pred)[1][0],\n",
    "                         \"Precision\": classification_report(y_test,y_pred, output_dict=True)[\"0.0\"][\"precision\"]}, ignore_index=True)"
   ]
  },
  {
   "cell_type": "code",
   "execution_count": 334,
   "id": "8fe54107-d058-4a86-8086-020976f0f9e5",
   "metadata": {},
   "outputs": [
    {
     "data": {
      "text/html": [
       "<div>\n",
       "<style scoped>\n",
       "    .dataframe tbody tr th:only-of-type {\n",
       "        vertical-align: middle;\n",
       "    }\n",
       "\n",
       "    .dataframe tbody tr th {\n",
       "        vertical-align: top;\n",
       "    }\n",
       "\n",
       "    .dataframe thead th {\n",
       "        text-align: right;\n",
       "    }\n",
       "</style>\n",
       "<table border=\"1\" class=\"dataframe\">\n",
       "  <thead>\n",
       "    <tr style=\"text-align: right;\">\n",
       "      <th></th>\n",
       "      <th>Model</th>\n",
       "      <th>Accuracy Score</th>\n",
       "      <th>Type II Error</th>\n",
       "      <th>Precision</th>\n",
       "    </tr>\n",
       "  </thead>\n",
       "  <tbody>\n",
       "    <tr>\n",
       "      <th>0</th>\n",
       "      <td>LogisticRegression()</td>\n",
       "      <td>0.760921</td>\n",
       "      <td>746</td>\n",
       "      <td>0.78168</td>\n",
       "    </tr>\n",
       "    <tr>\n",
       "      <th>1</th>\n",
       "      <td>LogisticRegression()_tuned</td>\n",
       "      <td>0.74758</td>\n",
       "      <td>939</td>\n",
       "      <td>0.749733</td>\n",
       "    </tr>\n",
       "    <tr>\n",
       "      <th>2</th>\n",
       "      <td>GaussianNB()</td>\n",
       "      <td>0.633272</td>\n",
       "      <td>369</td>\n",
       "      <td>0.830345</td>\n",
       "    </tr>\n",
       "    <tr>\n",
       "      <th>3</th>\n",
       "      <td>GaussianNB()_tuned</td>\n",
       "      <td>0.633272</td>\n",
       "      <td>369</td>\n",
       "      <td>0.830345</td>\n",
       "    </tr>\n",
       "    <tr>\n",
       "      <th>4</th>\n",
       "      <td>KNeighborsClassifier()</td>\n",
       "      <td>0.721423</td>\n",
       "      <td>794</td>\n",
       "      <td>0.763831</td>\n",
       "    </tr>\n",
       "    <tr>\n",
       "      <th>5</th>\n",
       "      <td>KNeighborsClassifier()_tuned</td>\n",
       "      <td>0.742611</td>\n",
       "      <td>960</td>\n",
       "      <td>0.745695</td>\n",
       "    </tr>\n",
       "    <tr>\n",
       "      <th>6</th>\n",
       "      <td>SVC()</td>\n",
       "      <td>0.742611</td>\n",
       "      <td>984</td>\n",
       "      <td>0.742611</td>\n",
       "    </tr>\n",
       "    <tr>\n",
       "      <th>7</th>\n",
       "      <td>SVC()_tuned</td>\n",
       "      <td>0.742611</td>\n",
       "      <td>984</td>\n",
       "      <td>0.742611</td>\n",
       "    </tr>\n",
       "    <tr>\n",
       "      <th>8</th>\n",
       "      <td>MLPClassifier()</td>\n",
       "      <td>0.735025</td>\n",
       "      <td>670</td>\n",
       "      <td>0.788377</td>\n",
       "    </tr>\n",
       "    <tr>\n",
       "      <th>9</th>\n",
       "      <td>MLPClassifier()_tuned</td>\n",
       "      <td>0.756736</td>\n",
       "      <td>681</td>\n",
       "      <td>0.791807</td>\n",
       "    </tr>\n",
       "    <tr>\n",
       "      <th>10</th>\n",
       "      <td>DecisionTreeClassifier()</td>\n",
       "      <td>0.681925</td>\n",
       "      <td>633</td>\n",
       "      <td>0.780893</td>\n",
       "    </tr>\n",
       "    <tr>\n",
       "      <th>11</th>\n",
       "      <td>DecisionTreeClassifier()_tuned</td>\n",
       "      <td>0.77243</td>\n",
       "      <td>603</td>\n",
       "      <td>0.810079</td>\n",
       "    </tr>\n",
       "    <tr>\n",
       "      <th>12</th>\n",
       "      <td>RandomForestClassifier()</td>\n",
       "      <td>0.740256</td>\n",
       "      <td>672</td>\n",
       "      <td>0.789342</td>\n",
       "    </tr>\n",
       "    <tr>\n",
       "      <th>13</th>\n",
       "      <td>RandomForestClassifier()_tuned</td>\n",
       "      <td>0.767199</td>\n",
       "      <td>648</td>\n",
       "      <td>0.800308</td>\n",
       "    </tr>\n",
       "  </tbody>\n",
       "</table>\n",
       "</div>"
      ],
      "text/plain": [
       "                             Model Accuracy Score Type II Error Precision\n",
       "0             LogisticRegression()       0.760921           746   0.78168\n",
       "1       LogisticRegression()_tuned        0.74758           939  0.749733\n",
       "2                     GaussianNB()       0.633272           369  0.830345\n",
       "3               GaussianNB()_tuned       0.633272           369  0.830345\n",
       "4           KNeighborsClassifier()       0.721423           794  0.763831\n",
       "5     KNeighborsClassifier()_tuned       0.742611           960  0.745695\n",
       "6                            SVC()       0.742611           984  0.742611\n",
       "7                      SVC()_tuned       0.742611           984  0.742611\n",
       "8                  MLPClassifier()       0.735025           670  0.788377\n",
       "9            MLPClassifier()_tuned       0.756736           681  0.791807\n",
       "10        DecisionTreeClassifier()       0.681925           633  0.780893\n",
       "11  DecisionTreeClassifier()_tuned        0.77243           603  0.810079\n",
       "12        RandomForestClassifier()       0.740256           672  0.789342\n",
       "13  RandomForestClassifier()_tuned       0.767199           648  0.800308"
      ]
     },
     "execution_count": 334,
     "metadata": {},
     "output_type": "execute_result"
    }
   ],
   "source": [
    "results"
   ]
  },
  {
   "cell_type": "markdown",
   "id": "09b73df9-2bb4-48bb-97c9-30a091f37d67",
   "metadata": {},
   "source": [
    "<br><br><br>"
   ]
  },
  {
   "cell_type": "markdown",
   "id": "e58de6d5-d3ec-49b5-9b6f-f2fa7382b6fb",
   "metadata": {
    "jp-MarkdownHeadingCollapsed": true,
    "tags": []
   },
   "source": [
    "#### 2.2.8. GradientBoosting"
   ]
  },
  {
   "cell_type": "markdown",
   "id": "720954ca-5bb4-491b-9ac7-1c6d5c5b7052",
   "metadata": {},
   "source": [
    "**Model**"
   ]
  },
  {
   "cell_type": "code",
   "execution_count": 335,
   "id": "eee49947-3064-4b38-a68e-8f8ebbf51c5a",
   "metadata": {},
   "outputs": [],
   "source": [
    "regressor = GradientBoostingClassifier()"
   ]
  },
  {
   "cell_type": "code",
   "execution_count": 336,
   "id": "a1a8d143-480b-48ad-9df8-a72cb2e42f01",
   "metadata": {},
   "outputs": [],
   "source": [
    "model = regressor.fit(X_train, y_train)"
   ]
  },
  {
   "cell_type": "code",
   "execution_count": 337,
   "id": "eb5c7f15-e4f3-406e-ad2a-1fdec24cfb4e",
   "metadata": {},
   "outputs": [],
   "source": [
    "y_pred = model.predict(X_test)"
   ]
  },
  {
   "cell_type": "code",
   "execution_count": 338,
   "id": "1ff9f697-a210-48b6-b26a-691c79736e5d",
   "metadata": {},
   "outputs": [
    {
     "data": {
      "text/plain": [
       "0.7661522364635104"
      ]
     },
     "execution_count": 338,
     "metadata": {},
     "output_type": "execute_result"
    }
   ],
   "source": [
    "accuracy_score(y_test, y_pred)"
   ]
  },
  {
   "cell_type": "code",
   "execution_count": 339,
   "id": "0fc1d97e-2ad1-4c0b-8b0c-c176ae3d800b",
   "metadata": {},
   "outputs": [
    {
     "name": "stdout",
     "output_type": "stream",
     "text": [
      "              precision    recall  f1-score   support\n",
      "\n",
      "         0.0       0.80      0.91      0.85      2839\n",
      "         1.0       0.57      0.35      0.44       984\n",
      "\n",
      "    accuracy                           0.77      3823\n",
      "   macro avg       0.69      0.63      0.65      3823\n",
      "weighted avg       0.74      0.77      0.75      3823\n",
      "\n"
     ]
    }
   ],
   "source": [
    "print(classification_report(y_test,y_pred))"
   ]
  },
  {
   "cell_type": "code",
   "execution_count": 340,
   "id": "20786586-c547-4c0b-a866-0612de8e3884",
   "metadata": {},
   "outputs": [
    {
     "data": {
      "text/plain": [
       "<sklearn.metrics._plot.confusion_matrix.ConfusionMatrixDisplay at 0x7fa1c85faa00>"
      ]
     },
     "execution_count": 340,
     "metadata": {},
     "output_type": "execute_result"
    },
    {
     "data": {
      "image/png": "[encoded data removed]",
      "text/plain": [
       "<Figure size 432x288 with 2 Axes>"
      ]
     },
     "metadata": {
      "needs_background": "light"
     },
     "output_type": "display_data"
    }
   ],
   "source": [
    "plot_confusion_matrix(model,X_test,y_test)"
   ]
  },
  {
   "cell_type": "code",
   "execution_count": 341,
   "id": "a9754d06-5d6f-422a-ac50-1d082f1b1737",
   "metadata": {},
   "outputs": [],
   "source": [
    "results = results.append({\"Model\": str(model), \n",
    "                          \"Accuracy Score\":accuracy_score(y_test, y_pred),\n",
    "                         \"Type II Error\":confusion_matrix(y_test,y_pred)[1][0],\n",
    "                         \"Precision\": classification_report(y_test,y_pred, output_dict=True)[\"0.0\"][\"precision\"]}, ignore_index=True)"
   ]
  },
  {
   "cell_type": "markdown",
   "id": "0f6198be-659a-4826-b368-0ceae94e8f91",
   "metadata": {},
   "source": [
    "<br><br>**Model Tuning**"
   ]
  },
  {
   "cell_type": "code",
   "execution_count": 342,
   "id": "11497eea-2d26-425a-9e5b-2febad528c97",
   "metadata": {},
   "outputs": [
    {
     "data": {
      "text/plain": [
       "{'ccp_alpha': 0.0,\n",
       " 'criterion': 'friedman_mse',\n",
       " 'init': None,\n",
       " 'learning_rate': 0.1,\n",
       " 'loss': 'deviance',\n",
       " 'max_depth': 3,\n",
       " 'max_features': None,\n",
       " 'max_leaf_nodes': None,\n",
       " 'min_impurity_decrease': 0.0,\n",
       " 'min_samples_leaf': 1,\n",
       " 'min_samples_split': 2,\n",
       " 'min_weight_fraction_leaf': 0.0,\n",
       " 'n_estimators': 100,\n",
       " 'n_iter_no_change': None,\n",
       " 'random_state': None,\n",
       " 'subsample': 1.0,\n",
       " 'tol': 0.0001,\n",
       " 'validation_fraction': 0.1,\n",
       " 'verbose': 0,\n",
       " 'warm_start': False}"
      ]
     },
     "execution_count": 342,
     "metadata": {},
     "output_type": "execute_result"
    }
   ],
   "source": [
    "model.get_params()"
   ]
  },
  {
   "cell_type": "code",
   "execution_count": 343,
   "id": "d0969773-8e03-424c-9b1e-d85760d02120",
   "metadata": {},
   "outputs": [],
   "source": [
    "param_grid = {\"learning_rate\" : [0.001, 0.01, 0.1, 0.05],\n",
    "             \"n_estimators\": [100,500,100],\n",
    "             \"max_depth\": [3,5,10],\n",
    "             \"min_samples_split\": [2,5,10]}"
   ]
  },
  {
   "cell_type": "code",
   "execution_count": 344,
   "id": "5591469a-716e-4ee5-98fd-8b1e1a60b889",
   "metadata": {},
   "outputs": [
    {
     "data": {
      "text/plain": [
       "RandomizedSearchCV(cv=5, estimator=GradientBoostingClassifier(),\n",
       "                   param_distributions={'learning_rate': [0.001, 0.01, 0.1,\n",
       "                                                          0.05],\n",
       "                                        'max_depth': [3, 5, 10],\n",
       "                                        'min_samples_split': [2, 5, 10],\n",
       "                                        'n_estimators': [100, 500, 100]})"
      ]
     },
     "execution_count": 344,
     "metadata": {},
     "output_type": "execute_result"
    }
   ],
   "source": [
    "cv_model = RandomizedSearchCV(model, param_grid, cv=5)\n",
    "cv_model.fit(X_train, y_train)"
   ]
  },
  {
   "cell_type": "code",
   "execution_count": 345,
   "id": "c5ac2a95-964e-4178-bfce-a3b78c20df13",
   "metadata": {},
   "outputs": [
    {
     "data": {
      "text/plain": [
       "{'n_estimators': 100,\n",
       " 'min_samples_split': 5,\n",
       " 'max_depth': 3,\n",
       " 'learning_rate': 0.05}"
      ]
     },
     "execution_count": 345,
     "metadata": {},
     "output_type": "execute_result"
    }
   ],
   "source": [
    "cv_model.best_params_"
   ]
  },
  {
   "cell_type": "code",
   "execution_count": 346,
   "id": "100993d3-506e-4186-abbb-da05e97f3a44",
   "metadata": {},
   "outputs": [],
   "source": [
    "y_pred = cv_model.predict(X_test)"
   ]
  },
  {
   "cell_type": "code",
   "execution_count": 347,
   "id": "f9b5c927-6ad9-46dd-b537-ab0b055afb15",
   "metadata": {},
   "outputs": [
    {
     "data": {
      "text/plain": [
       "0.7679832592205075"
      ]
     },
     "execution_count": 347,
     "metadata": {},
     "output_type": "execute_result"
    }
   ],
   "source": [
    "accuracy_score(y_test, y_pred)"
   ]
  },
  {
   "cell_type": "code",
   "execution_count": 348,
   "id": "9f46c24e-a0b6-4871-a281-146937a18d75",
   "metadata": {},
   "outputs": [
    {
     "name": "stdout",
     "output_type": "stream",
     "text": [
      "              precision    recall  f1-score   support\n",
      "\n",
      "         0.0       0.80      0.91      0.85      2839\n",
      "         1.0       0.58      0.35      0.44       984\n",
      "\n",
      "    accuracy                           0.77      3823\n",
      "   macro avg       0.69      0.63      0.65      3823\n",
      "weighted avg       0.75      0.77      0.75      3823\n",
      "\n"
     ]
    }
   ],
   "source": [
    "print(classification_report(y_test,y_pred))"
   ]
  },
  {
   "cell_type": "code",
   "execution_count": 349,
   "id": "0faee7ef-f0d0-4362-b038-903ec4fbf29b",
   "metadata": {},
   "outputs": [
    {
     "data": {
      "text/plain": [
       "<sklearn.metrics._plot.confusion_matrix.ConfusionMatrixDisplay at 0x7fa26da2af10>"
      ]
     },
     "execution_count": 349,
     "metadata": {},
     "output_type": "execute_result"
    },
    {
     "data": {
      "image/png": "[encoded data removed]",
      "text/plain": [
       "<Figure size 432x288 with 2 Axes>"
      ]
     },
     "metadata": {
      "needs_background": "light"
     },
     "output_type": "display_data"
    }
   ],
   "source": [
    "plot_confusion_matrix(cv_model,X_test,y_test)"
   ]
  },
  {
   "cell_type": "code",
   "execution_count": 350,
   "id": "3050cf5b-cd7c-4457-b451-a40e53bc4382",
   "metadata": {},
   "outputs": [],
   "source": [
    "results = results.append({\"Model\": str(model)+\"_tuned\", \n",
    "                          \"Accuracy Score\":accuracy_score(y_test, y_pred),\n",
    "                         \"Type II Error\":confusion_matrix(y_test,y_pred)[1][0],\n",
    "                         \"Precision\": classification_report(y_test,y_pred, output_dict=True)[\"0.0\"][\"precision\"]}, ignore_index=True)"
   ]
  },
  {
   "cell_type": "code",
   "execution_count": 351,
   "id": "74f2f5ab-1ddd-4a23-9f34-4d48deebce52",
   "metadata": {},
   "outputs": [
    {
     "data": {
      "text/html": [
       "<div>\n",
       "<style scoped>\n",
       "    .dataframe tbody tr th:only-of-type {\n",
       "        vertical-align: middle;\n",
       "    }\n",
       "\n",
       "    .dataframe tbody tr th {\n",
       "        vertical-align: top;\n",
       "    }\n",
       "\n",
       "    .dataframe thead th {\n",
       "        text-align: right;\n",
       "    }\n",
       "</style>\n",
       "<table border=\"1\" class=\"dataframe\">\n",
       "  <thead>\n",
       "    <tr style=\"text-align: right;\">\n",
       "      <th></th>\n",
       "      <th>Model</th>\n",
       "      <th>Accuracy Score</th>\n",
       "      <th>Type II Error</th>\n",
       "      <th>Precision</th>\n",
       "    </tr>\n",
       "  </thead>\n",
       "  <tbody>\n",
       "    <tr>\n",
       "      <th>0</th>\n",
       "      <td>LogisticRegression()</td>\n",
       "      <td>0.760921</td>\n",
       "      <td>746</td>\n",
       "      <td>0.78168</td>\n",
       "    </tr>\n",
       "    <tr>\n",
       "      <th>1</th>\n",
       "      <td>LogisticRegression()_tuned</td>\n",
       "      <td>0.74758</td>\n",
       "      <td>939</td>\n",
       "      <td>0.749733</td>\n",
       "    </tr>\n",
       "    <tr>\n",
       "      <th>2</th>\n",
       "      <td>GaussianNB()</td>\n",
       "      <td>0.633272</td>\n",
       "      <td>369</td>\n",
       "      <td>0.830345</td>\n",
       "    </tr>\n",
       "    <tr>\n",
       "      <th>3</th>\n",
       "      <td>GaussianNB()_tuned</td>\n",
       "      <td>0.633272</td>\n",
       "      <td>369</td>\n",
       "      <td>0.830345</td>\n",
       "    </tr>\n",
       "    <tr>\n",
       "      <th>4</th>\n",
       "      <td>KNeighborsClassifier()</td>\n",
       "      <td>0.721423</td>\n",
       "      <td>794</td>\n",
       "      <td>0.763831</td>\n",
       "    </tr>\n",
       "    <tr>\n",
       "      <th>5</th>\n",
       "      <td>KNeighborsClassifier()_tuned</td>\n",
       "      <td>0.742611</td>\n",
       "      <td>960</td>\n",
       "      <td>0.745695</td>\n",
       "    </tr>\n",
       "    <tr>\n",
       "      <th>6</th>\n",
       "      <td>SVC()</td>\n",
       "      <td>0.742611</td>\n",
       "      <td>984</td>\n",
       "      <td>0.742611</td>\n",
       "    </tr>\n",
       "    <tr>\n",
       "      <th>7</th>\n",
       "      <td>SVC()_tuned</td>\n",
       "      <td>0.742611</td>\n",
       "      <td>984</td>\n",
       "      <td>0.742611</td>\n",
       "    </tr>\n",
       "    <tr>\n",
       "      <th>8</th>\n",
       "      <td>MLPClassifier()</td>\n",
       "      <td>0.735025</td>\n",
       "      <td>670</td>\n",
       "      <td>0.788377</td>\n",
       "    </tr>\n",
       "    <tr>\n",
       "      <th>9</th>\n",
       "      <td>MLPClassifier()_tuned</td>\n",
       "      <td>0.756736</td>\n",
       "      <td>681</td>\n",
       "      <td>0.791807</td>\n",
       "    </tr>\n",
       "    <tr>\n",
       "      <th>10</th>\n",
       "      <td>DecisionTreeClassifier()</td>\n",
       "      <td>0.681925</td>\n",
       "      <td>633</td>\n",
       "      <td>0.780893</td>\n",
       "    </tr>\n",
       "    <tr>\n",
       "      <th>11</th>\n",
       "      <td>DecisionTreeClassifier()_tuned</td>\n",
       "      <td>0.77243</td>\n",
       "      <td>603</td>\n",
       "      <td>0.810079</td>\n",
       "    </tr>\n",
       "    <tr>\n",
       "      <th>12</th>\n",
       "      <td>RandomForestClassifier()</td>\n",
       "      <td>0.740256</td>\n",
       "      <td>672</td>\n",
       "      <td>0.789342</td>\n",
       "    </tr>\n",
       "    <tr>\n",
       "      <th>13</th>\n",
       "      <td>RandomForestClassifier()_tuned</td>\n",
       "      <td>0.767199</td>\n",
       "      <td>648</td>\n",
       "      <td>0.800308</td>\n",
       "    </tr>\n",
       "    <tr>\n",
       "      <th>14</th>\n",
       "      <td>GradientBoostingClassifier()</td>\n",
       "      <td>0.766152</td>\n",
       "      <td>635</td>\n",
       "      <td>0.802488</td>\n",
       "    </tr>\n",
       "    <tr>\n",
       "      <th>15</th>\n",
       "      <td>GradientBoostingClassifier()_tuned</td>\n",
       "      <td>0.767983</td>\n",
       "      <td>640</td>\n",
       "      <td>0.80198</td>\n",
       "    </tr>\n",
       "  </tbody>\n",
       "</table>\n",
       "</div>"
      ],
      "text/plain": [
       "                                 Model Accuracy Score Type II Error Precision\n",
       "0                 LogisticRegression()       0.760921           746   0.78168\n",
       "1           LogisticRegression()_tuned        0.74758           939  0.749733\n",
       "2                         GaussianNB()       0.633272           369  0.830345\n",
       "3                   GaussianNB()_tuned       0.633272           369  0.830345\n",
       "4               KNeighborsClassifier()       0.721423           794  0.763831\n",
       "5         KNeighborsClassifier()_tuned       0.742611           960  0.745695\n",
       "6                                SVC()       0.742611           984  0.742611\n",
       "7                          SVC()_tuned       0.742611           984  0.742611\n",
       "8                      MLPClassifier()       0.735025           670  0.788377\n",
       "9                MLPClassifier()_tuned       0.756736           681  0.791807\n",
       "10            DecisionTreeClassifier()       0.681925           633  0.780893\n",
       "11      DecisionTreeClassifier()_tuned        0.77243           603  0.810079\n",
       "12            RandomForestClassifier()       0.740256           672  0.789342\n",
       "13      RandomForestClassifier()_tuned       0.767199           648  0.800308\n",
       "14        GradientBoostingClassifier()       0.766152           635  0.802488\n",
       "15  GradientBoostingClassifier()_tuned       0.767983           640   0.80198"
      ]
     },
     "execution_count": 351,
     "metadata": {},
     "output_type": "execute_result"
    }
   ],
   "source": [
    "results"
   ]
  },
  {
   "cell_type": "markdown",
   "id": "b6391587-8394-48c0-95d3-ab163b836803",
   "metadata": {},
   "source": [
    "<br><br><br>"
   ]
  },
  {
   "cell_type": "markdown",
   "id": "313ba781-3c39-4534-a6f5-f6dfcd4cb7e5",
   "metadata": {
    "jp-MarkdownHeadingCollapsed": true,
    "tags": []
   },
   "source": [
    "#### 2.2.9. XGBoost"
   ]
  },
  {
   "cell_type": "markdown",
   "id": "0cc1425f-8fa3-4dc0-a07c-b493a223a085",
   "metadata": {},
   "source": [
    "**Model**"
   ]
  },
  {
   "cell_type": "code",
   "execution_count": 352,
   "id": "6537a966-6a99-4672-96e2-445fa05d5103",
   "metadata": {},
   "outputs": [],
   "source": [
    "regressor = XGBClassifier()"
   ]
  },
  {
   "cell_type": "code",
   "execution_count": 353,
   "id": "6daa4560-e503-413e-b5fb-2e383bf71429",
   "metadata": {},
   "outputs": [],
   "source": [
    "model = regressor.fit(X_train, y_train)"
   ]
  },
  {
   "cell_type": "code",
   "execution_count": 354,
   "id": "27f3da39-3740-4091-b13c-bcd840e502dd",
   "metadata": {},
   "outputs": [],
   "source": [
    "y_pred = model.predict(X_test)"
   ]
  },
  {
   "cell_type": "code",
   "execution_count": 355,
   "id": "9f33bf78-3933-4424-b834-3e41aab172aa",
   "metadata": {},
   "outputs": [
    {
     "data": {
      "text/plain": [
       "0.7580434213968088"
      ]
     },
     "execution_count": 355,
     "metadata": {},
     "output_type": "execute_result"
    }
   ],
   "source": [
    "accuracy_score(y_test, y_pred)"
   ]
  },
  {
   "cell_type": "code",
   "execution_count": 356,
   "id": "c8e4a926-c002-4d3e-84a7-5d7b5d23ceef",
   "metadata": {},
   "outputs": [
    {
     "name": "stdout",
     "output_type": "stream",
     "text": [
      "              precision    recall  f1-score   support\n",
      "\n",
      "         0.0       0.80      0.90      0.85      2839\n",
      "         1.0       0.55      0.36      0.43       984\n",
      "\n",
      "    accuracy                           0.76      3823\n",
      "   macro avg       0.67      0.63      0.64      3823\n",
      "weighted avg       0.74      0.76      0.74      3823\n",
      "\n"
     ]
    }
   ],
   "source": [
    "print(classification_report(y_test,y_pred))"
   ]
  },
  {
   "cell_type": "code",
   "execution_count": 357,
   "id": "9f486c5b-30e4-4bbf-915c-5c779301dbdc",
   "metadata": {},
   "outputs": [
    {
     "data": {
      "text/plain": [
       "<sklearn.metrics._plot.confusion_matrix.ConfusionMatrixDisplay at 0x7fa1d98a80a0>"
      ]
     },
     "execution_count": 357,
     "metadata": {},
     "output_type": "execute_result"
    },
    {
     "data": {
      "image/png": "[encoded data removed]",
      "text/plain": [
       "<Figure size 432x288 with 2 Axes>"
      ]
     },
     "metadata": {
      "needs_background": "light"
     },
     "output_type": "display_data"
    }
   ],
   "source": [
    "plot_confusion_matrix(model,X_test,y_test)"
   ]
  },
  {
   "cell_type": "code",
   "execution_count": 358,
   "id": "db960efc-9073-46ff-b883-d9d4804ebc4e",
   "metadata": {},
   "outputs": [],
   "source": [
    "results = results.append({\"Model\": str(model), \n",
    "                          \"Accuracy Score\":accuracy_score(y_test, y_pred),\n",
    "                         \"Type II Error\":confusion_matrix(y_test,y_pred)[1][0],\n",
    "                         \"Precision\": classification_report(y_test,y_pred, output_dict=True)[\"0.0\"][\"precision\"]}, ignore_index=True)"
   ]
  },
  {
   "cell_type": "markdown",
   "id": "3a98df1a-ccd7-423c-ad10-5cac8a442b56",
   "metadata": {},
   "source": [
    "<br><br>**Model Tuning**"
   ]
  },
  {
   "cell_type": "code",
   "execution_count": 359,
   "id": "e2708ca9-8a05-42a5-9011-a851afb68e8b",
   "metadata": {},
   "outputs": [
    {
     "data": {
      "text/plain": [
       "{'objective': 'binary:logistic',\n",
       " 'use_label_encoder': False,\n",
       " 'base_score': 0.5,\n",
       " 'booster': 'gbtree',\n",
       " 'callbacks': None,\n",
       " 'colsample_bylevel': 1,\n",
       " 'colsample_bynode': 1,\n",
       " 'colsample_bytree': 1,\n",
       " 'early_stopping_rounds': None,\n",
       " 'enable_categorical': False,\n",
       " 'eval_metric': None,\n",
       " 'gamma': 0,\n",
       " 'gpu_id': -1,\n",
       " 'grow_policy': 'depthwise',\n",
       " 'importance_type': None,\n",
       " 'interaction_constraints': '',\n",
       " 'learning_rate': 0.300000012,\n",
       " 'max_bin': 256,\n",
       " 'max_cat_to_onehot': 4,\n",
       " 'max_delta_step': 0,\n",
       " 'max_depth': 6,\n",
       " 'max_leaves': 0,\n",
       " 'min_child_weight': 1,\n",
       " 'missing': nan,\n",
       " 'monotone_constraints': '()',\n",
       " 'n_estimators': 100,\n",
       " 'n_jobs': 0,\n",
       " 'num_parallel_tree': 1,\n",
       " 'predictor': 'auto',\n",
       " 'random_state': 0,\n",
       " 'reg_alpha': 0,\n",
       " 'reg_lambda': 1,\n",
       " 'sampling_method': 'uniform',\n",
       " 'scale_pos_weight': 1,\n",
       " 'subsample': 1,\n",
       " 'tree_method': 'exact',\n",
       " 'validate_parameters': 1,\n",
       " 'verbosity': None}"
      ]
     },
     "execution_count": 359,
     "metadata": {},
     "output_type": "execute_result"
    }
   ],
   "source": [
    "model.get_params()"
   ]
  },
  {
   "cell_type": "code",
   "execution_count": 360,
   "id": "4b568e25-56a0-4164-8346-024aac1f4ca2",
   "metadata": {},
   "outputs": [],
   "source": [
    "param_grid = {'n_estimators': [100, 500, 1000, 2000],\n",
    "        'subsample': [0.6, 0.8, 1.0],\n",
    "        'max_depth': [3, 4, 5,6],\n",
    "        'learning_rate': [0.1,0.01,0.02,0.05],\n",
    "        \"min_samples_split\": [2,5,10]}"
   ]
  },
  {
   "cell_type": "code",
   "execution_count": null,
   "id": "13a37468-9710-43af-8f4b-a7f7729f0791",
   "metadata": {},
   "outputs": [],
   "source": [
    "cv_model = RandomizedSearchCV(model, param_grid, cv=5)\n",
    "cv_model.fit(X_train, y_train)"
   ]
  },
  {
   "cell_type": "code",
   "execution_count": 362,
   "id": "4cae0e32-d69f-40bc-b7c7-587ed832ebb0",
   "metadata": {},
   "outputs": [
    {
     "data": {
      "text/plain": [
       "{'subsample': 0.8,\n",
       " 'n_estimators': 500,\n",
       " 'min_samples_split': 10,\n",
       " 'max_depth': 3,\n",
       " 'learning_rate': 0.01}"
      ]
     },
     "execution_count": 362,
     "metadata": {},
     "output_type": "execute_result"
    }
   ],
   "source": [
    "cv_model.best_params_"
   ]
  },
  {
   "cell_type": "code",
   "execution_count": 363,
   "id": "0368320d-7aaa-441e-98e0-235507931db2",
   "metadata": {},
   "outputs": [],
   "source": [
    "y_pred = cv_model.predict(X_test)"
   ]
  },
  {
   "cell_type": "code",
   "execution_count": 364,
   "id": "fc12b466-9e0d-4f8a-a901-59171404eef6",
   "metadata": {},
   "outputs": [
    {
     "data": {
      "text/plain": [
       "0.7682448339000785"
      ]
     },
     "execution_count": 364,
     "metadata": {},
     "output_type": "execute_result"
    }
   ],
   "source": [
    "accuracy_score(y_test, y_pred)"
   ]
  },
  {
   "cell_type": "code",
   "execution_count": 365,
   "id": "dd37d511-556b-45df-9f6e-8aeb6810836d",
   "metadata": {},
   "outputs": [
    {
     "name": "stdout",
     "output_type": "stream",
     "text": [
      "              precision    recall  f1-score   support\n",
      "\n",
      "         0.0       0.80      0.91      0.85      2839\n",
      "         1.0       0.58      0.35      0.44       984\n",
      "\n",
      "    accuracy                           0.77      3823\n",
      "   macro avg       0.69      0.63      0.65      3823\n",
      "weighted avg       0.75      0.77      0.75      3823\n",
      "\n"
     ]
    }
   ],
   "source": [
    "print(classification_report(y_test,y_pred))"
   ]
  },
  {
   "cell_type": "code",
   "execution_count": 366,
   "id": "2085f885-763f-4396-9479-76e75864d1cf",
   "metadata": {},
   "outputs": [
    {
     "data": {
      "text/plain": [
       "<sklearn.metrics._plot.confusion_matrix.ConfusionMatrixDisplay at 0x7fa27f6cce50>"
      ]
     },
     "execution_count": 366,
     "metadata": {},
     "output_type": "execute_result"
    },
    {
     "data": {
      "image/png": "[encoded data removed]",
      "text/plain": [
       "<Figure size 432x288 with 2 Axes>"
      ]
     },
     "metadata": {
      "needs_background": "light"
     },
     "output_type": "display_data"
    }
   ],
   "source": [
    "plot_confusion_matrix(cv_model,X_test,y_test)"
   ]
  },
  {
   "cell_type": "code",
   "execution_count": 367,
   "id": "666a9005-023a-4e1e-8810-0a7ec31e388f",
   "metadata": {},
   "outputs": [],
   "source": [
    "results = results.append({\"Model\": str(model)+\"_tuned\", \n",
    "                          \"Accuracy Score\":accuracy_score(y_test, y_pred),\n",
    "                         \"Type II Error\":confusion_matrix(y_test,y_pred)[1][0],\n",
    "                         \"Precision\": classification_report(y_test,y_pred, output_dict=True)[\"0.0\"][\"precision\"]}, ignore_index=True)"
   ]
  },
  {
   "cell_type": "code",
   "execution_count": 368,
   "id": "22f9a6d9-6fee-4815-8b39-00f39678aa1e",
   "metadata": {},
   "outputs": [
    {
     "data": {
      "text/html": [
       "<div>\n",
       "<style scoped>\n",
       "    .dataframe tbody tr th:only-of-type {\n",
       "        vertical-align: middle;\n",
       "    }\n",
       "\n",
       "    .dataframe tbody tr th {\n",
       "        vertical-align: top;\n",
       "    }\n",
       "\n",
       "    .dataframe thead th {\n",
       "        text-align: right;\n",
       "    }\n",
       "</style>\n",
       "<table border=\"1\" class=\"dataframe\">\n",
       "  <thead>\n",
       "    <tr style=\"text-align: right;\">\n",
       "      <th></th>\n",
       "      <th>Model</th>\n",
       "      <th>Accuracy Score</th>\n",
       "      <th>Type II Error</th>\n",
       "      <th>Precision</th>\n",
       "    </tr>\n",
       "  </thead>\n",
       "  <tbody>\n",
       "    <tr>\n",
       "      <th>0</th>\n",
       "      <td>LogisticRegression()</td>\n",
       "      <td>0.760921</td>\n",
       "      <td>746</td>\n",
       "      <td>0.78168</td>\n",
       "    </tr>\n",
       "    <tr>\n",
       "      <th>1</th>\n",
       "      <td>LogisticRegression()_tuned</td>\n",
       "      <td>0.74758</td>\n",
       "      <td>939</td>\n",
       "      <td>0.749733</td>\n",
       "    </tr>\n",
       "    <tr>\n",
       "      <th>2</th>\n",
       "      <td>GaussianNB()</td>\n",
       "      <td>0.633272</td>\n",
       "      <td>369</td>\n",
       "      <td>0.830345</td>\n",
       "    </tr>\n",
       "    <tr>\n",
       "      <th>3</th>\n",
       "      <td>GaussianNB()_tuned</td>\n",
       "      <td>0.633272</td>\n",
       "      <td>369</td>\n",
       "      <td>0.830345</td>\n",
       "    </tr>\n",
       "    <tr>\n",
       "      <th>4</th>\n",
       "      <td>KNeighborsClassifier()</td>\n",
       "      <td>0.721423</td>\n",
       "      <td>794</td>\n",
       "      <td>0.763831</td>\n",
       "    </tr>\n",
       "    <tr>\n",
       "      <th>5</th>\n",
       "      <td>KNeighborsClassifier()_tuned</td>\n",
       "      <td>0.742611</td>\n",
       "      <td>960</td>\n",
       "      <td>0.745695</td>\n",
       "    </tr>\n",
       "    <tr>\n",
       "      <th>6</th>\n",
       "      <td>SVC()</td>\n",
       "      <td>0.742611</td>\n",
       "      <td>984</td>\n",
       "      <td>0.742611</td>\n",
       "    </tr>\n",
       "    <tr>\n",
       "      <th>7</th>\n",
       "      <td>SVC()_tuned</td>\n",
       "      <td>0.742611</td>\n",
       "      <td>984</td>\n",
       "      <td>0.742611</td>\n",
       "    </tr>\n",
       "    <tr>\n",
       "      <th>8</th>\n",
       "      <td>MLPClassifier()</td>\n",
       "      <td>0.735025</td>\n",
       "      <td>670</td>\n",
       "      <td>0.788377</td>\n",
       "    </tr>\n",
       "    <tr>\n",
       "      <th>9</th>\n",
       "      <td>MLPClassifier()_tuned</td>\n",
       "      <td>0.756736</td>\n",
       "      <td>681</td>\n",
       "      <td>0.791807</td>\n",
       "    </tr>\n",
       "    <tr>\n",
       "      <th>10</th>\n",
       "      <td>DecisionTreeClassifier()</td>\n",
       "      <td>0.681925</td>\n",
       "      <td>633</td>\n",
       "      <td>0.780893</td>\n",
       "    </tr>\n",
       "    <tr>\n",
       "      <th>11</th>\n",
       "      <td>DecisionTreeClassifier()_tuned</td>\n",
       "      <td>0.77243</td>\n",
       "      <td>603</td>\n",
       "      <td>0.810079</td>\n",
       "    </tr>\n",
       "    <tr>\n",
       "      <th>12</th>\n",
       "      <td>RandomForestClassifier()</td>\n",
       "      <td>0.740256</td>\n",
       "      <td>672</td>\n",
       "      <td>0.789342</td>\n",
       "    </tr>\n",
       "    <tr>\n",
       "      <th>13</th>\n",
       "      <td>RandomForestClassifier()_tuned</td>\n",
       "      <td>0.767199</td>\n",
       "      <td>648</td>\n",
       "      <td>0.800308</td>\n",
       "    </tr>\n",
       "    <tr>\n",
       "      <th>14</th>\n",
       "      <td>GradientBoostingClassifier()</td>\n",
       "      <td>0.766152</td>\n",
       "      <td>635</td>\n",
       "      <td>0.802488</td>\n",
       "    </tr>\n",
       "    <tr>\n",
       "      <th>15</th>\n",
       "      <td>GradientBoostingClassifier()_tuned</td>\n",
       "      <td>0.767983</td>\n",
       "      <td>640</td>\n",
       "      <td>0.80198</td>\n",
       "    </tr>\n",
       "    <tr>\n",
       "      <th>16</th>\n",
       "      <td>XGBClassifier(base_score=0.5, booster='gbtree'...</td>\n",
       "      <td>0.758043</td>\n",
       "      <td>629</td>\n",
       "      <td>0.801702</td>\n",
       "    </tr>\n",
       "    <tr>\n",
       "      <th>17</th>\n",
       "      <td>XGBClassifier(base_score=0.5, booster='gbtree'...</td>\n",
       "      <td>0.768245</td>\n",
       "      <td>637</td>\n",
       "      <td>0.802603</td>\n",
       "    </tr>\n",
       "  </tbody>\n",
       "</table>\n",
       "</div>"
      ],
      "text/plain": [
       "                                                Model Accuracy Score  \\\n",
       "0                                LogisticRegression()       0.760921   \n",
       "1                          LogisticRegression()_tuned        0.74758   \n",
       "2                                        GaussianNB()       0.633272   \n",
       "3                                  GaussianNB()_tuned       0.633272   \n",
       "4                              KNeighborsClassifier()       0.721423   \n",
       "5                        KNeighborsClassifier()_tuned       0.742611   \n",
       "6                                               SVC()       0.742611   \n",
       "7                                         SVC()_tuned       0.742611   \n",
       "8                                     MLPClassifier()       0.735025   \n",
       "9                               MLPClassifier()_tuned       0.756736   \n",
       "10                           DecisionTreeClassifier()       0.681925   \n",
       "11                     DecisionTreeClassifier()_tuned        0.77243   \n",
       "12                           RandomForestClassifier()       0.740256   \n",
       "13                     RandomForestClassifier()_tuned       0.767199   \n",
       "14                       GradientBoostingClassifier()       0.766152   \n",
       "15                 GradientBoostingClassifier()_tuned       0.767983   \n",
       "16  XGBClassifier(base_score=0.5, booster='gbtree'...       0.758043   \n",
       "17  XGBClassifier(base_score=0.5, booster='gbtree'...       0.768245   \n",
       "\n",
       "   Type II Error Precision  \n",
       "0            746   0.78168  \n",
       "1            939  0.749733  \n",
       "2            369  0.830345  \n",
       "3            369  0.830345  \n",
       "4            794  0.763831  \n",
       "5            960  0.745695  \n",
       "6            984  0.742611  \n",
       "7            984  0.742611  \n",
       "8            670  0.788377  \n",
       "9            681  0.791807  \n",
       "10           633  0.780893  \n",
       "11           603  0.810079  \n",
       "12           672  0.789342  \n",
       "13           648  0.800308  \n",
       "14           635  0.802488  \n",
       "15           640   0.80198  \n",
       "16           629  0.801702  \n",
       "17           637  0.802603  "
      ]
     },
     "execution_count": 368,
     "metadata": {},
     "output_type": "execute_result"
    }
   ],
   "source": [
    "results"
   ]
  },
  {
   "cell_type": "markdown",
   "id": "9f9fd552-ff25-4699-9852-3c8593acbc18",
   "metadata": {},
   "source": [
    "<br><br><br>"
   ]
  },
  {
   "cell_type": "markdown",
   "id": "f8ec2ac9-e082-4d54-b2df-8ab3346f338e",
   "metadata": {
    "jp-MarkdownHeadingCollapsed": true,
    "tags": []
   },
   "source": [
    "#### 2.2.10. LightGBM"
   ]
  },
  {
   "cell_type": "markdown",
   "id": "ddbc6320-87ac-4d9f-a345-4256b06ce3bb",
   "metadata": {},
   "source": [
    "**Model**"
   ]
  },
  {
   "cell_type": "code",
   "execution_count": 369,
   "id": "f4c4819a-4b11-478d-b2b1-2244a6036815",
   "metadata": {},
   "outputs": [],
   "source": [
    "regressor = LGBMClassifier()"
   ]
  },
  {
   "cell_type": "code",
   "execution_count": 370,
   "id": "229909ce-a24a-4d9e-b9a9-fc23db994fbb",
   "metadata": {},
   "outputs": [],
   "source": [
    "model = regressor.fit(X_train, y_train)"
   ]
  },
  {
   "cell_type": "code",
   "execution_count": 371,
   "id": "a4798a0d-7cfd-4371-b583-ac74d1658645",
   "metadata": {},
   "outputs": [],
   "source": [
    "y_pred = model.predict(X_test)"
   ]
  },
  {
   "cell_type": "code",
   "execution_count": 372,
   "id": "6f57e479-41ee-4cd4-8e75-4e49dfa4cdcc",
   "metadata": {},
   "outputs": [
    {
     "data": {
      "text/plain": [
       "0.7658906617839393"
      ]
     },
     "execution_count": 372,
     "metadata": {},
     "output_type": "execute_result"
    }
   ],
   "source": [
    "accuracy_score(y_test, y_pred)"
   ]
  },
  {
   "cell_type": "code",
   "execution_count": 373,
   "id": "74f816b1-5e98-474b-b328-b056fe1fb660",
   "metadata": {},
   "outputs": [
    {
     "name": "stdout",
     "output_type": "stream",
     "text": [
      "              precision    recall  f1-score   support\n",
      "\n",
      "         0.0       0.81      0.90      0.85      2839\n",
      "         1.0       0.56      0.39      0.46       984\n",
      "\n",
      "    accuracy                           0.77      3823\n",
      "   macro avg       0.69      0.64      0.66      3823\n",
      "weighted avg       0.75      0.77      0.75      3823\n",
      "\n"
     ]
    }
   ],
   "source": [
    "print(classification_report(y_test,y_pred))"
   ]
  },
  {
   "cell_type": "code",
   "execution_count": 374,
   "id": "e1866fd5-c19e-4bcf-a674-9a10c4a09ddd",
   "metadata": {},
   "outputs": [
    {
     "data": {
      "text/plain": [
       "<sklearn.metrics._plot.confusion_matrix.ConfusionMatrixDisplay at 0x7fa23c79f340>"
      ]
     },
     "execution_count": 374,
     "metadata": {},
     "output_type": "execute_result"
    },
    {
     "data": {
      "image/png": "[encoded data removed]",
      "text/plain": [
       "<Figure size 432x288 with 2 Axes>"
      ]
     },
     "metadata": {
      "needs_background": "light"
     },
     "output_type": "display_data"
    }
   ],
   "source": [
    "plot_confusion_matrix(model,X_test,y_test)"
   ]
  },
  {
   "cell_type": "code",
   "execution_count": 375,
   "id": "55f151c2-1274-4d2b-86de-fcce7cc44ad6",
   "metadata": {},
   "outputs": [],
   "source": [
    "results = results.append({\"Model\": str(model), \n",
    "                          \"Accuracy Score\":accuracy_score(y_test, y_pred),\n",
    "                         \"Type II Error\":confusion_matrix(y_test,y_pred)[1][0],\n",
    "                         \"Precision\": classification_report(y_test,y_pred, output_dict=True)[\"0.0\"][\"precision\"]}, ignore_index=True)"
   ]
  },
  {
   "cell_type": "markdown",
   "id": "4a211c4e-2314-4971-9f6c-5797ec6b8c22",
   "metadata": {},
   "source": [
    "<br><br>**Model Tuning**"
   ]
  },
  {
   "cell_type": "code",
   "execution_count": 376,
   "id": "7da4867e-6393-4d33-b360-484211d99e36",
   "metadata": {},
   "outputs": [
    {
     "data": {
      "text/plain": [
       "{'boosting_type': 'gbdt',\n",
       " 'class_weight': None,\n",
       " 'colsample_bytree': 1.0,\n",
       " 'importance_type': 'split',\n",
       " 'learning_rate': 0.1,\n",
       " 'max_depth': -1,\n",
       " 'min_child_samples': 20,\n",
       " 'min_child_weight': 0.001,\n",
       " 'min_split_gain': 0.0,\n",
       " 'n_estimators': 100,\n",
       " 'n_jobs': -1,\n",
       " 'num_leaves': 31,\n",
       " 'objective': None,\n",
       " 'random_state': None,\n",
       " 'reg_alpha': 0.0,\n",
       " 'reg_lambda': 0.0,\n",
       " 'silent': 'warn',\n",
       " 'subsample': 1.0,\n",
       " 'subsample_for_bin': 200000,\n",
       " 'subsample_freq': 0}"
      ]
     },
     "execution_count": 376,
     "metadata": {},
     "output_type": "execute_result"
    }
   ],
   "source": [
    "model.get_params()"
   ]
  },
  {
   "cell_type": "code",
   "execution_count": 378,
   "id": "8ec47e23-aff1-48c3-ae09-9e4b23f18a45",
   "metadata": {},
   "outputs": [],
   "source": [
    "param_grid = {'n_estimators': [100, 500, 1000, 2000],\n",
    "        'subsample': [0.6, 0.8, 1.0],\n",
    "        'max_depth': [3, 4, 5],\n",
    "        'learning_rate': [0.2,0.1,0.01],\n",
    "        \"min_child_samples\": [5,10,20]}"
   ]
  },
  {
   "cell_type": "code",
   "execution_count": 379,
   "id": "77434103-0241-4f95-a33e-35574cc520e5",
   "metadata": {},
   "outputs": [
    {
     "data": {
      "text/plain": [
       "RandomizedSearchCV(cv=5, estimator=LGBMClassifier(),\n",
       "                   param_distributions={'learning_rate': [0.2, 0.1, 0.01],\n",
       "                                        'max_depth': [3, 4, 5],\n",
       "                                        'min_child_samples': [5, 10, 20],\n",
       "                                        'n_estimators': [100, 500, 1000, 2000],\n",
       "                                        'subsample': [0.6, 0.8, 1.0]})"
      ]
     },
     "execution_count": 379,
     "metadata": {},
     "output_type": "execute_result"
    }
   ],
   "source": [
    "cv_model = RandomizedSearchCV(model, param_grid, cv=5)\n",
    "cv_model.fit(X_train, y_train)"
   ]
  },
  {
   "cell_type": "code",
   "execution_count": 380,
   "id": "fd53445c-31d1-4a48-825f-62876afa0729",
   "metadata": {},
   "outputs": [
    {
     "data": {
      "text/plain": [
       "{'subsample': 0.8,\n",
       " 'n_estimators': 100,\n",
       " 'min_child_samples': 5,\n",
       " 'max_depth': 3,\n",
       " 'learning_rate': 0.1}"
      ]
     },
     "execution_count": 380,
     "metadata": {},
     "output_type": "execute_result"
    }
   ],
   "source": [
    "cv_model.best_params_"
   ]
  },
  {
   "cell_type": "code",
   "execution_count": 381,
   "id": "0690dea5-885b-4d94-82fe-9ccb03333952",
   "metadata": {},
   "outputs": [],
   "source": [
    "y_pred = cv_model.predict(X_test)"
   ]
  },
  {
   "cell_type": "code",
   "execution_count": 382,
   "id": "f2dcbdfe-ec16-4bae-a628-dc16421306cf",
   "metadata": {},
   "outputs": [
    {
     "data": {
      "text/plain": [
       "0.7666753858226524"
      ]
     },
     "execution_count": 382,
     "metadata": {},
     "output_type": "execute_result"
    }
   ],
   "source": [
    "accuracy_score(y_test, y_pred)"
   ]
  },
  {
   "cell_type": "code",
   "execution_count": 383,
   "id": "3f159c8d-c655-4112-a7d7-e8fadb220e8b",
   "metadata": {},
   "outputs": [
    {
     "name": "stdout",
     "output_type": "stream",
     "text": [
      "              precision    recall  f1-score   support\n",
      "\n",
      "         0.0       0.80      0.91      0.85      2839\n",
      "         1.0       0.57      0.36      0.44       984\n",
      "\n",
      "    accuracy                           0.77      3823\n",
      "   macro avg       0.69      0.63      0.65      3823\n",
      "weighted avg       0.74      0.77      0.75      3823\n",
      "\n"
     ]
    }
   ],
   "source": [
    "print(classification_report(y_test,y_pred))"
   ]
  },
  {
   "cell_type": "code",
   "execution_count": 384,
   "id": "7b772c72-cd03-4e87-babb-c546f72bedd2",
   "metadata": {},
   "outputs": [
    {
     "data": {
      "text/plain": [
       "<sklearn.metrics._plot.confusion_matrix.ConfusionMatrixDisplay at 0x7fa26da6cf10>"
      ]
     },
     "execution_count": 384,
     "metadata": {},
     "output_type": "execute_result"
    },
    {
     "data": {
      "image/png": "[encoded data removed]",
      "text/plain": [
       "<Figure size 432x288 with 2 Axes>"
      ]
     },
     "metadata": {
      "needs_background": "light"
     },
     "output_type": "display_data"
    }
   ],
   "source": [
    "plot_confusion_matrix(cv_model,X_test,y_test)"
   ]
  },
  {
   "cell_type": "code",
   "execution_count": 385,
   "id": "d1da0fbc-53a1-4e41-804e-a04fecbca441",
   "metadata": {},
   "outputs": [],
   "source": [
    "results = results.append({\"Model\": str(model)+\"_tuned\", \n",
    "                          \"Accuracy Score\":accuracy_score(y_test, y_pred),\n",
    "                         \"Type II Error\":confusion_matrix(y_test,y_pred)[1][0],\n",
    "                         \"Precision\": classification_report(y_test,y_pred, output_dict=True)[\"0.0\"][\"precision\"]}, ignore_index=True)"
   ]
  },
  {
   "cell_type": "code",
   "execution_count": 386,
   "id": "e30d8fa1-efeb-4c12-9837-0c11af26aa89",
   "metadata": {},
   "outputs": [
    {
     "data": {
      "text/html": [
       "<div>\n",
       "<style scoped>\n",
       "    .dataframe tbody tr th:only-of-type {\n",
       "        vertical-align: middle;\n",
       "    }\n",
       "\n",
       "    .dataframe tbody tr th {\n",
       "        vertical-align: top;\n",
       "    }\n",
       "\n",
       "    .dataframe thead th {\n",
       "        text-align: right;\n",
       "    }\n",
       "</style>\n",
       "<table border=\"1\" class=\"dataframe\">\n",
       "  <thead>\n",
       "    <tr style=\"text-align: right;\">\n",
       "      <th></th>\n",
       "      <th>Model</th>\n",
       "      <th>Accuracy Score</th>\n",
       "      <th>Type II Error</th>\n",
       "      <th>Precision</th>\n",
       "    </tr>\n",
       "  </thead>\n",
       "  <tbody>\n",
       "    <tr>\n",
       "      <th>0</th>\n",
       "      <td>LogisticRegression()</td>\n",
       "      <td>0.760921</td>\n",
       "      <td>746</td>\n",
       "      <td>0.78168</td>\n",
       "    </tr>\n",
       "    <tr>\n",
       "      <th>1</th>\n",
       "      <td>LogisticRegression()_tuned</td>\n",
       "      <td>0.74758</td>\n",
       "      <td>939</td>\n",
       "      <td>0.749733</td>\n",
       "    </tr>\n",
       "    <tr>\n",
       "      <th>2</th>\n",
       "      <td>GaussianNB()</td>\n",
       "      <td>0.633272</td>\n",
       "      <td>369</td>\n",
       "      <td>0.830345</td>\n",
       "    </tr>\n",
       "    <tr>\n",
       "      <th>3</th>\n",
       "      <td>GaussianNB()_tuned</td>\n",
       "      <td>0.633272</td>\n",
       "      <td>369</td>\n",
       "      <td>0.830345</td>\n",
       "    </tr>\n",
       "    <tr>\n",
       "      <th>4</th>\n",
       "      <td>KNeighborsClassifier()</td>\n",
       "      <td>0.721423</td>\n",
       "      <td>794</td>\n",
       "      <td>0.763831</td>\n",
       "    </tr>\n",
       "    <tr>\n",
       "      <th>5</th>\n",
       "      <td>KNeighborsClassifier()_tuned</td>\n",
       "      <td>0.742611</td>\n",
       "      <td>960</td>\n",
       "      <td>0.745695</td>\n",
       "    </tr>\n",
       "    <tr>\n",
       "      <th>6</th>\n",
       "      <td>SVC()</td>\n",
       "      <td>0.742611</td>\n",
       "      <td>984</td>\n",
       "      <td>0.742611</td>\n",
       "    </tr>\n",
       "    <tr>\n",
       "      <th>7</th>\n",
       "      <td>SVC()_tuned</td>\n",
       "      <td>0.742611</td>\n",
       "      <td>984</td>\n",
       "      <td>0.742611</td>\n",
       "    </tr>\n",
       "    <tr>\n",
       "      <th>8</th>\n",
       "      <td>MLPClassifier()</td>\n",
       "      <td>0.735025</td>\n",
       "      <td>670</td>\n",
       "      <td>0.788377</td>\n",
       "    </tr>\n",
       "    <tr>\n",
       "      <th>9</th>\n",
       "      <td>MLPClassifier()_tuned</td>\n",
       "      <td>0.756736</td>\n",
       "      <td>681</td>\n",
       "      <td>0.791807</td>\n",
       "    </tr>\n",
       "    <tr>\n",
       "      <th>10</th>\n",
       "      <td>DecisionTreeClassifier()</td>\n",
       "      <td>0.681925</td>\n",
       "      <td>633</td>\n",
       "      <td>0.780893</td>\n",
       "    </tr>\n",
       "    <tr>\n",
       "      <th>11</th>\n",
       "      <td>DecisionTreeClassifier()_tuned</td>\n",
       "      <td>0.77243</td>\n",
       "      <td>603</td>\n",
       "      <td>0.810079</td>\n",
       "    </tr>\n",
       "    <tr>\n",
       "      <th>12</th>\n",
       "      <td>RandomForestClassifier()</td>\n",
       "      <td>0.740256</td>\n",
       "      <td>672</td>\n",
       "      <td>0.789342</td>\n",
       "    </tr>\n",
       "    <tr>\n",
       "      <th>13</th>\n",
       "      <td>RandomForestClassifier()_tuned</td>\n",
       "      <td>0.767199</td>\n",
       "      <td>648</td>\n",
       "      <td>0.800308</td>\n",
       "    </tr>\n",
       "    <tr>\n",
       "      <th>14</th>\n",
       "      <td>GradientBoostingClassifier()</td>\n",
       "      <td>0.766152</td>\n",
       "      <td>635</td>\n",
       "      <td>0.802488</td>\n",
       "    </tr>\n",
       "    <tr>\n",
       "      <th>15</th>\n",
       "      <td>GradientBoostingClassifier()_tuned</td>\n",
       "      <td>0.767983</td>\n",
       "      <td>640</td>\n",
       "      <td>0.80198</td>\n",
       "    </tr>\n",
       "    <tr>\n",
       "      <th>16</th>\n",
       "      <td>XGBClassifier(base_score=0.5, booster='gbtree'...</td>\n",
       "      <td>0.758043</td>\n",
       "      <td>629</td>\n",
       "      <td>0.801702</td>\n",
       "    </tr>\n",
       "    <tr>\n",
       "      <th>17</th>\n",
       "      <td>XGBClassifier(base_score=0.5, booster='gbtree'...</td>\n",
       "      <td>0.768245</td>\n",
       "      <td>637</td>\n",
       "      <td>0.802603</td>\n",
       "    </tr>\n",
       "    <tr>\n",
       "      <th>18</th>\n",
       "      <td>LGBMClassifier()</td>\n",
       "      <td>0.765891</td>\n",
       "      <td>597</td>\n",
       "      <td>0.809751</td>\n",
       "    </tr>\n",
       "    <tr>\n",
       "      <th>19</th>\n",
       "      <td>LGBMClassifier()_tuned</td>\n",
       "      <td>0.766675</td>\n",
       "      <td>631</td>\n",
       "      <td>0.803366</td>\n",
       "    </tr>\n",
       "  </tbody>\n",
       "</table>\n",
       "</div>"
      ],
      "text/plain": [
       "                                                Model Accuracy Score  \\\n",
       "0                                LogisticRegression()       0.760921   \n",
       "1                          LogisticRegression()_tuned        0.74758   \n",
       "2                                        GaussianNB()       0.633272   \n",
       "3                                  GaussianNB()_tuned       0.633272   \n",
       "4                              KNeighborsClassifier()       0.721423   \n",
       "5                        KNeighborsClassifier()_tuned       0.742611   \n",
       "6                                               SVC()       0.742611   \n",
       "7                                         SVC()_tuned       0.742611   \n",
       "8                                     MLPClassifier()       0.735025   \n",
       "9                               MLPClassifier()_tuned       0.756736   \n",
       "10                           DecisionTreeClassifier()       0.681925   \n",
       "11                     DecisionTreeClassifier()_tuned        0.77243   \n",
       "12                           RandomForestClassifier()       0.740256   \n",
       "13                     RandomForestClassifier()_tuned       0.767199   \n",
       "14                       GradientBoostingClassifier()       0.766152   \n",
       "15                 GradientBoostingClassifier()_tuned       0.767983   \n",
       "16  XGBClassifier(base_score=0.5, booster='gbtree'...       0.758043   \n",
       "17  XGBClassifier(base_score=0.5, booster='gbtree'...       0.768245   \n",
       "18                                   LGBMClassifier()       0.765891   \n",
       "19                             LGBMClassifier()_tuned       0.766675   \n",
       "\n",
       "   Type II Error Precision  \n",
       "0            746   0.78168  \n",
       "1            939  0.749733  \n",
       "2            369  0.830345  \n",
       "3            369  0.830345  \n",
       "4            794  0.763831  \n",
       "5            960  0.745695  \n",
       "6            984  0.742611  \n",
       "7            984  0.742611  \n",
       "8            670  0.788377  \n",
       "9            681  0.791807  \n",
       "10           633  0.780893  \n",
       "11           603  0.810079  \n",
       "12           672  0.789342  \n",
       "13           648  0.800308  \n",
       "14           635  0.802488  \n",
       "15           640   0.80198  \n",
       "16           629  0.801702  \n",
       "17           637  0.802603  \n",
       "18           597  0.809751  \n",
       "19           631  0.803366  "
      ]
     },
     "execution_count": 386,
     "metadata": {},
     "output_type": "execute_result"
    }
   ],
   "source": [
    "results"
   ]
  },
  {
   "cell_type": "markdown",
   "id": "43da2ad3-9909-436a-8d4a-d8716fba9ebc",
   "metadata": {},
   "source": [
    "<br><br><br>"
   ]
  },
  {
   "cell_type": "markdown",
   "id": "38517073-f2a5-4482-a9e4-ba7a99405fbe",
   "metadata": {
    "jp-MarkdownHeadingCollapsed": true,
    "tags": []
   },
   "source": [
    "#### 2.2.11. CatBoost"
   ]
  },
  {
   "cell_type": "markdown",
   "id": "c51251fd-7e8c-4a52-a65b-f4c3b2ea202f",
   "metadata": {},
   "source": [
    "**Model**"
   ]
  },
  {
   "cell_type": "code",
   "execution_count": 387,
   "id": "512fba49-119a-462d-828b-e6dda5bfe619",
   "metadata": {},
   "outputs": [],
   "source": [
    "regressor = CatBoostClassifier()"
   ]
  },
  {
   "cell_type": "code",
   "execution_count": null,
   "id": "96a21abc-4730-48f4-8f73-54f2d9c0a539",
   "metadata": {
    "tags": []
   },
   "outputs": [],
   "source": [
    "model = regressor.fit(X_train, y_train)"
   ]
  },
  {
   "cell_type": "code",
   "execution_count": 389,
   "id": "2b5bce7a-7e80-4b0d-83e1-4272b53d496e",
   "metadata": {},
   "outputs": [],
   "source": [
    "y_pred = model.predict(X_test)"
   ]
  },
  {
   "cell_type": "code",
   "execution_count": 390,
   "id": "0143129b-a2b2-4e26-9e17-2594f1684762",
   "metadata": {},
   "outputs": [
    {
     "data": {
      "text/plain": [
       "0.7624901909495161"
      ]
     },
     "execution_count": 390,
     "metadata": {},
     "output_type": "execute_result"
    }
   ],
   "source": [
    "accuracy_score(y_test, y_pred)"
   ]
  },
  {
   "cell_type": "code",
   "execution_count": 391,
   "id": "03cc3a6f-4d77-4f11-a07d-12f623926e29",
   "metadata": {},
   "outputs": [
    {
     "name": "stdout",
     "output_type": "stream",
     "text": [
      "              precision    recall  f1-score   support\n",
      "\n",
      "         0.0       0.80      0.90      0.85      2839\n",
      "         1.0       0.56      0.36      0.44       984\n",
      "\n",
      "    accuracy                           0.76      3823\n",
      "   macro avg       0.68      0.63      0.64      3823\n",
      "weighted avg       0.74      0.76      0.74      3823\n",
      "\n"
     ]
    }
   ],
   "source": [
    "print(classification_report(y_test,y_pred))"
   ]
  },
  {
   "cell_type": "code",
   "execution_count": 392,
   "id": "c9e2685e-86ef-4586-a3ac-6109510459a4",
   "metadata": {},
   "outputs": [
    {
     "data": {
      "text/plain": [
       "<sklearn.metrics._plot.confusion_matrix.ConfusionMatrixDisplay at 0x7fa1d9955ac0>"
      ]
     },
     "execution_count": 392,
     "metadata": {},
     "output_type": "execute_result"
    },
    {
     "data": {
      "image/png": "[encoded data removed]",
      "text/plain": [
       "<Figure size 432x288 with 2 Axes>"
      ]
     },
     "metadata": {
      "needs_background": "light"
     },
     "output_type": "display_data"
    }
   ],
   "source": [
    "plot_confusion_matrix(model,X_test,y_test)"
   ]
  },
  {
   "cell_type": "code",
   "execution_count": 393,
   "id": "8076286c-dde1-4a27-a499-6559450f73d5",
   "metadata": {},
   "outputs": [],
   "source": [
    "results = results.append({\"Model\": str(model), \n",
    "                          \"Accuracy Score\":accuracy_score(y_test, y_pred),\n",
    "                         \"Type II Error\":confusion_matrix(y_test,y_pred)[1][0],\n",
    "                         \"Precision\": classification_report(y_test,y_pred, output_dict=True)[\"0.0\"][\"precision\"]}, ignore_index=True)"
   ]
  },
  {
   "cell_type": "markdown",
   "id": "8fd2ed36-7625-4062-8712-59a2cf3032ec",
   "metadata": {},
   "source": [
    "<br><br>**Model Tuning**"
   ]
  },
  {
   "cell_type": "code",
   "execution_count": 394,
   "id": "2c5a4085-da3a-432e-a17b-eff2db98d69a",
   "metadata": {},
   "outputs": [
    {
     "data": {
      "text/plain": [
       "{}"
      ]
     },
     "execution_count": 394,
     "metadata": {},
     "output_type": "execute_result"
    }
   ],
   "source": [
    "model.get_params()"
   ]
  },
  {
   "cell_type": "code",
   "execution_count": 395,
   "id": "78e9c711-83f4-4d32-b7f5-7518dd34804f",
   "metadata": {},
   "outputs": [],
   "source": [
    "param_grid = {'iterations': [200,500],\n",
    "    'learning_rate': [0.01,0.05, 0.1],\n",
    "    'depth': [3,5,8]}"
   ]
  },
  {
   "cell_type": "code",
   "execution_count": null,
   "id": "000a9202-07d7-4ffe-b4ec-cbacf7284286",
   "metadata": {},
   "outputs": [],
   "source": [
    "cv_model = RandomizedSearchCV(model, param_grid, cv=5)\n",
    "cv_model.fit(X_train, y_train)"
   ]
  },
  {
   "cell_type": "code",
   "execution_count": 397,
   "id": "461ea976-8789-41f9-ac4b-dec21f5b16be",
   "metadata": {},
   "outputs": [
    {
     "data": {
      "text/plain": [
       "{'learning_rate': 0.01, 'iterations': 500, 'depth': 5}"
      ]
     },
     "execution_count": 397,
     "metadata": {},
     "output_type": "execute_result"
    }
   ],
   "source": [
    "cv_model.best_params_"
   ]
  },
  {
   "cell_type": "code",
   "execution_count": 398,
   "id": "cff70666-639d-4529-98ee-a8c7c628d798",
   "metadata": {},
   "outputs": [],
   "source": [
    "y_pred = cv_model.predict(X_test)"
   ]
  },
  {
   "cell_type": "code",
   "execution_count": 399,
   "id": "e2e74454-4652-43ed-ac38-c5b15b9e11cb",
   "metadata": {},
   "outputs": [
    {
     "data": {
      "text/plain": [
       "0.7692911326183626"
      ]
     },
     "execution_count": 399,
     "metadata": {},
     "output_type": "execute_result"
    }
   ],
   "source": [
    "accuracy_score(y_test, y_pred)"
   ]
  },
  {
   "cell_type": "code",
   "execution_count": 400,
   "id": "4ac8df44-1e50-4e92-a7bf-ee1ea936faff",
   "metadata": {},
   "outputs": [
    {
     "name": "stdout",
     "output_type": "stream",
     "text": [
      "              precision    recall  f1-score   support\n",
      "\n",
      "         0.0       0.80      0.91      0.85      2839\n",
      "         1.0       0.58      0.36      0.45       984\n",
      "\n",
      "    accuracy                           0.77      3823\n",
      "   macro avg       0.69      0.64      0.65      3823\n",
      "weighted avg       0.75      0.77      0.75      3823\n",
      "\n"
     ]
    }
   ],
   "source": [
    "print(classification_report(y_test,y_pred))"
   ]
  },
  {
   "cell_type": "code",
   "execution_count": 401,
   "id": "74eaa346-c47f-4741-8519-0fd7ca2991f1",
   "metadata": {},
   "outputs": [
    {
     "data": {
      "text/plain": [
       "<sklearn.metrics._plot.confusion_matrix.ConfusionMatrixDisplay at 0x7fa1c86c82e0>"
      ]
     },
     "execution_count": 401,
     "metadata": {},
     "output_type": "execute_result"
    },
    {
     "data": {
      "image/png": "[encoded data removed]",
      "text/plain": [
       "<Figure size 432x288 with 2 Axes>"
      ]
     },
     "metadata": {
      "needs_background": "light"
     },
     "output_type": "display_data"
    }
   ],
   "source": [
    "plot_confusion_matrix(cv_model,X_test,y_test)"
   ]
  },
  {
   "cell_type": "code",
   "execution_count": 402,
   "id": "04f2aaf9-6f14-486e-bdf4-74831a7ab695",
   "metadata": {},
   "outputs": [],
   "source": [
    "results = results.append({\"Model\": str(model)+\"_tuned\", \n",
    "                          \"Accuracy Score\":accuracy_score(y_test, y_pred),\n",
    "                         \"Type II Error\":confusion_matrix(y_test,y_pred)[1][0],\n",
    "                         \"Precision\": classification_report(y_test,y_pred, output_dict=True)[\"0.0\"][\"precision\"]}, ignore_index=True)"
   ]
  },
  {
   "cell_type": "code",
   "execution_count": 403,
   "id": "61efed64-41b3-494b-83e9-b4dcd20ad003",
   "metadata": {},
   "outputs": [
    {
     "data": {
      "text/html": [
       "<div>\n",
       "<style scoped>\n",
       "    .dataframe tbody tr th:only-of-type {\n",
       "        vertical-align: middle;\n",
       "    }\n",
       "\n",
       "    .dataframe tbody tr th {\n",
       "        vertical-align: top;\n",
       "    }\n",
       "\n",
       "    .dataframe thead th {\n",
       "        text-align: right;\n",
       "    }\n",
       "</style>\n",
       "<table border=\"1\" class=\"dataframe\">\n",
       "  <thead>\n",
       "    <tr style=\"text-align: right;\">\n",
       "      <th></th>\n",
       "      <th>Model</th>\n",
       "      <th>Accuracy Score</th>\n",
       "      <th>Type II Error</th>\n",
       "      <th>Precision</th>\n",
       "    </tr>\n",
       "  </thead>\n",
       "  <tbody>\n",
       "    <tr>\n",
       "      <th>0</th>\n",
       "      <td>LogisticRegression()</td>\n",
       "      <td>0.760921</td>\n",
       "      <td>746</td>\n",
       "      <td>0.78168</td>\n",
       "    </tr>\n",
       "    <tr>\n",
       "      <th>1</th>\n",
       "      <td>LogisticRegression()_tuned</td>\n",
       "      <td>0.74758</td>\n",
       "      <td>939</td>\n",
       "      <td>0.749733</td>\n",
       "    </tr>\n",
       "    <tr>\n",
       "      <th>2</th>\n",
       "      <td>GaussianNB()</td>\n",
       "      <td>0.633272</td>\n",
       "      <td>369</td>\n",
       "      <td>0.830345</td>\n",
       "    </tr>\n",
       "    <tr>\n",
       "      <th>3</th>\n",
       "      <td>GaussianNB()_tuned</td>\n",
       "      <td>0.633272</td>\n",
       "      <td>369</td>\n",
       "      <td>0.830345</td>\n",
       "    </tr>\n",
       "    <tr>\n",
       "      <th>4</th>\n",
       "      <td>KNeighborsClassifier()</td>\n",
       "      <td>0.721423</td>\n",
       "      <td>794</td>\n",
       "      <td>0.763831</td>\n",
       "    </tr>\n",
       "    <tr>\n",
       "      <th>5</th>\n",
       "      <td>KNeighborsClassifier()_tuned</td>\n",
       "      <td>0.742611</td>\n",
       "      <td>960</td>\n",
       "      <td>0.745695</td>\n",
       "    </tr>\n",
       "    <tr>\n",
       "      <th>6</th>\n",
       "      <td>SVC()</td>\n",
       "      <td>0.742611</td>\n",
       "      <td>984</td>\n",
       "      <td>0.742611</td>\n",
       "    </tr>\n",
       "    <tr>\n",
       "      <th>7</th>\n",
       "      <td>SVC()_tuned</td>\n",
       "      <td>0.742611</td>\n",
       "      <td>984</td>\n",
       "      <td>0.742611</td>\n",
       "    </tr>\n",
       "    <tr>\n",
       "      <th>8</th>\n",
       "      <td>MLPClassifier()</td>\n",
       "      <td>0.735025</td>\n",
       "      <td>670</td>\n",
       "      <td>0.788377</td>\n",
       "    </tr>\n",
       "    <tr>\n",
       "      <th>9</th>\n",
       "      <td>MLPClassifier()_tuned</td>\n",
       "      <td>0.756736</td>\n",
       "      <td>681</td>\n",
       "      <td>0.791807</td>\n",
       "    </tr>\n",
       "    <tr>\n",
       "      <th>10</th>\n",
       "      <td>DecisionTreeClassifier()</td>\n",
       "      <td>0.681925</td>\n",
       "      <td>633</td>\n",
       "      <td>0.780893</td>\n",
       "    </tr>\n",
       "    <tr>\n",
       "      <th>11</th>\n",
       "      <td>DecisionTreeClassifier()_tuned</td>\n",
       "      <td>0.77243</td>\n",
       "      <td>603</td>\n",
       "      <td>0.810079</td>\n",
       "    </tr>\n",
       "    <tr>\n",
       "      <th>12</th>\n",
       "      <td>RandomForestClassifier()</td>\n",
       "      <td>0.740256</td>\n",
       "      <td>672</td>\n",
       "      <td>0.789342</td>\n",
       "    </tr>\n",
       "    <tr>\n",
       "      <th>13</th>\n",
       "      <td>RandomForestClassifier()_tuned</td>\n",
       "      <td>0.767199</td>\n",
       "      <td>648</td>\n",
       "      <td>0.800308</td>\n",
       "    </tr>\n",
       "    <tr>\n",
       "      <th>14</th>\n",
       "      <td>GradientBoostingClassifier()</td>\n",
       "      <td>0.766152</td>\n",
       "      <td>635</td>\n",
       "      <td>0.802488</td>\n",
       "    </tr>\n",
       "    <tr>\n",
       "      <th>15</th>\n",
       "      <td>GradientBoostingClassifier()_tuned</td>\n",
       "      <td>0.767983</td>\n",
       "      <td>640</td>\n",
       "      <td>0.80198</td>\n",
       "    </tr>\n",
       "    <tr>\n",
       "      <th>16</th>\n",
       "      <td>XGBClassifier(base_score=0.5, booster='gbtree'...</td>\n",
       "      <td>0.758043</td>\n",
       "      <td>629</td>\n",
       "      <td>0.801702</td>\n",
       "    </tr>\n",
       "    <tr>\n",
       "      <th>17</th>\n",
       "      <td>XGBClassifier(base_score=0.5, booster='gbtree'...</td>\n",
       "      <td>0.768245</td>\n",
       "      <td>637</td>\n",
       "      <td>0.802603</td>\n",
       "    </tr>\n",
       "    <tr>\n",
       "      <th>18</th>\n",
       "      <td>LGBMClassifier()</td>\n",
       "      <td>0.765891</td>\n",
       "      <td>597</td>\n",
       "      <td>0.809751</td>\n",
       "    </tr>\n",
       "    <tr>\n",
       "      <th>19</th>\n",
       "      <td>LGBMClassifier()_tuned</td>\n",
       "      <td>0.766675</td>\n",
       "      <td>631</td>\n",
       "      <td>0.803366</td>\n",
       "    </tr>\n",
       "    <tr>\n",
       "      <th>20</th>\n",
       "      <td>&lt;catboost.core.CatBoostClassifier object at 0x...</td>\n",
       "      <td>0.76249</td>\n",
       "      <td>632</td>\n",
       "      <td>0.802191</td>\n",
       "    </tr>\n",
       "    <tr>\n",
       "      <th>21</th>\n",
       "      <td>&lt;catboost.core.CatBoostClassifier object at 0x...</td>\n",
       "      <td>0.769291</td>\n",
       "      <td>629</td>\n",
       "      <td>0.804355</td>\n",
       "    </tr>\n",
       "  </tbody>\n",
       "</table>\n",
       "</div>"
      ],
      "text/plain": [
       "                                                Model Accuracy Score  \\\n",
       "0                                LogisticRegression()       0.760921   \n",
       "1                          LogisticRegression()_tuned        0.74758   \n",
       "2                                        GaussianNB()       0.633272   \n",
       "3                                  GaussianNB()_tuned       0.633272   \n",
       "4                              KNeighborsClassifier()       0.721423   \n",
       "5                        KNeighborsClassifier()_tuned       0.742611   \n",
       "6                                               SVC()       0.742611   \n",
       "7                                         SVC()_tuned       0.742611   \n",
       "8                                     MLPClassifier()       0.735025   \n",
       "9                               MLPClassifier()_tuned       0.756736   \n",
       "10                           DecisionTreeClassifier()       0.681925   \n",
       "11                     DecisionTreeClassifier()_tuned        0.77243   \n",
       "12                           RandomForestClassifier()       0.740256   \n",
       "13                     RandomForestClassifier()_tuned       0.767199   \n",
       "14                       GradientBoostingClassifier()       0.766152   \n",
       "15                 GradientBoostingClassifier()_tuned       0.767983   \n",
       "16  XGBClassifier(base_score=0.5, booster='gbtree'...       0.758043   \n",
       "17  XGBClassifier(base_score=0.5, booster='gbtree'...       0.768245   \n",
       "18                                   LGBMClassifier()       0.765891   \n",
       "19                             LGBMClassifier()_tuned       0.766675   \n",
       "20  <catboost.core.CatBoostClassifier object at 0x...        0.76249   \n",
       "21  <catboost.core.CatBoostClassifier object at 0x...       0.769291   \n",
       "\n",
       "   Type II Error Precision  \n",
       "0            746   0.78168  \n",
       "1            939  0.749733  \n",
       "2            369  0.830345  \n",
       "3            369  0.830345  \n",
       "4            794  0.763831  \n",
       "5            960  0.745695  \n",
       "6            984  0.742611  \n",
       "7            984  0.742611  \n",
       "8            670  0.788377  \n",
       "9            681  0.791807  \n",
       "10           633  0.780893  \n",
       "11           603  0.810079  \n",
       "12           672  0.789342  \n",
       "13           648  0.800308  \n",
       "14           635  0.802488  \n",
       "15           640   0.80198  \n",
       "16           629  0.801702  \n",
       "17           637  0.802603  \n",
       "18           597  0.809751  \n",
       "19           631  0.803366  \n",
       "20           632  0.802191  \n",
       "21           629  0.804355  "
      ]
     },
     "execution_count": 403,
     "metadata": {},
     "output_type": "execute_result"
    }
   ],
   "source": [
    "results"
   ]
  },
  {
   "cell_type": "markdown",
   "id": "d960690d-e2d1-4cba-b2be-c642d4d6b94f",
   "metadata": {},
   "source": [
    "<br><br><br>"
   ]
  },
  {
   "cell_type": "markdown",
   "id": "33bf7f67-d53b-4f9a-997a-c9cd7d1603f1",
   "metadata": {
    "jp-MarkdownHeadingCollapsed": true,
    "tags": []
   },
   "source": [
    "#### 2.2.12. Perceptron"
   ]
  },
  {
   "cell_type": "markdown",
   "id": "b4ed8df6-661d-4a5d-abb8-a2ea10c5c4c5",
   "metadata": {},
   "source": [
    "**Model**"
   ]
  },
  {
   "cell_type": "code",
   "execution_count": 404,
   "id": "f51806b0-0392-4fac-9dd1-bf2502881c90",
   "metadata": {},
   "outputs": [],
   "source": [
    "regressor = Perceptron()"
   ]
  },
  {
   "cell_type": "code",
   "execution_count": 405,
   "id": "6edf0df0-43c0-4e0b-8bc7-cbbcfe70b15a",
   "metadata": {},
   "outputs": [],
   "source": [
    "model = regressor.fit(X_train, y_train)"
   ]
  },
  {
   "cell_type": "code",
   "execution_count": 406,
   "id": "7e885568-956b-4d22-b413-2f49f93eb810",
   "metadata": {},
   "outputs": [],
   "source": [
    "y_pred = model.predict(X_test)"
   ]
  },
  {
   "cell_type": "code",
   "execution_count": 407,
   "id": "15cd4c95-058d-4666-bad8-09835ad8332d",
   "metadata": {},
   "outputs": [
    {
     "data": {
      "text/plain": [
       "0.7486267329322521"
      ]
     },
     "execution_count": 407,
     "metadata": {},
     "output_type": "execute_result"
    }
   ],
   "source": [
    "accuracy_score(y_test, y_pred)"
   ]
  },
  {
   "cell_type": "code",
   "execution_count": 408,
   "id": "9130ad2f-4b67-49f2-be50-312cd27f2dea",
   "metadata": {},
   "outputs": [
    {
     "name": "stdout",
     "output_type": "stream",
     "text": [
      "              precision    recall  f1-score   support\n",
      "\n",
      "         0.0       0.76      0.96      0.85      2839\n",
      "         1.0       0.55      0.14      0.22       984\n",
      "\n",
      "    accuracy                           0.75      3823\n",
      "   macro avg       0.65      0.55      0.54      3823\n",
      "weighted avg       0.71      0.75      0.69      3823\n",
      "\n"
     ]
    }
   ],
   "source": [
    "print(classification_report(y_test,y_pred))"
   ]
  },
  {
   "cell_type": "code",
   "execution_count": 409,
   "id": "a986c636-6027-4508-9e78-fd44a537976e",
   "metadata": {},
   "outputs": [
    {
     "data": {
      "text/plain": [
       "<sklearn.metrics._plot.confusion_matrix.ConfusionMatrixDisplay at 0x7fa1d9b217c0>"
      ]
     },
     "execution_count": 409,
     "metadata": {},
     "output_type": "execute_result"
    },
    {
     "data": {
      "image/png": "[encoded data removed]",
      "text/plain": [
       "<Figure size 432x288 with 2 Axes>"
      ]
     },
     "metadata": {
      "needs_background": "light"
     },
     "output_type": "display_data"
    }
   ],
   "source": [
    "plot_confusion_matrix(model,X_test,y_test)"
   ]
  },
  {
   "cell_type": "code",
   "execution_count": 410,
   "id": "fdde8141-8205-4ecf-a772-8ecfb1e43591",
   "metadata": {},
   "outputs": [],
   "source": [
    "results = results.append({\"Model\": str(model), \n",
    "                          \"Accuracy Score\":accuracy_score(y_test, y_pred),\n",
    "                         \"Type II Error\":confusion_matrix(y_test,y_pred)[1][0],\n",
    "                         \"Precision\": classification_report(y_test,y_pred, output_dict=True)[\"0.0\"][\"precision\"]}, ignore_index=True)"
   ]
  },
  {
   "cell_type": "markdown",
   "id": "20de660e-3950-4717-a188-d9d0972726a4",
   "metadata": {},
   "source": [
    "<br><br>**Model Tuning**"
   ]
  },
  {
   "cell_type": "code",
   "execution_count": 411,
   "id": "ad53bba7-76b9-49af-93cc-a55640c80aad",
   "metadata": {},
   "outputs": [
    {
     "data": {
      "text/plain": [
       "{'alpha': 0.0001,\n",
       " 'class_weight': None,\n",
       " 'early_stopping': False,\n",
       " 'eta0': 1.0,\n",
       " 'fit_intercept': True,\n",
       " 'l1_ratio': 0.15,\n",
       " 'max_iter': 1000,\n",
       " 'n_iter_no_change': 5,\n",
       " 'n_jobs': None,\n",
       " 'penalty': None,\n",
       " 'random_state': 0,\n",
       " 'shuffle': True,\n",
       " 'tol': 0.001,\n",
       " 'validation_fraction': 0.1,\n",
       " 'verbose': 0,\n",
       " 'warm_start': False}"
      ]
     },
     "execution_count": 411,
     "metadata": {},
     "output_type": "execute_result"
    }
   ],
   "source": [
    "model.get_params()"
   ]
  },
  {
   "cell_type": "code",
   "execution_count": 412,
   "id": "f0999f50-15ba-4d39-9347-0d9622a27ffa",
   "metadata": {},
   "outputs": [],
   "source": [
    "param_grid = {'alpha': [0.00001,0.0001,0.001],\n",
    "             'l1_ratio': [0.1,0.15,0.2]}"
   ]
  },
  {
   "cell_type": "code",
   "execution_count": 413,
   "id": "019c1a97-39cd-421c-9995-d9a8f11add08",
   "metadata": {},
   "outputs": [
    {
     "data": {
      "text/plain": [
       "RandomizedSearchCV(cv=5, estimator=Perceptron(),\n",
       "                   param_distributions={'alpha': [1e-05, 0.0001, 0.001],\n",
       "                                        'l1_ratio': [0.1, 0.15, 0.2]})"
      ]
     },
     "execution_count": 413,
     "metadata": {},
     "output_type": "execute_result"
    }
   ],
   "source": [
    "cv_model = RandomizedSearchCV(model, param_grid, cv=5)\n",
    "cv_model.fit(X_train, y_train)"
   ]
  },
  {
   "cell_type": "code",
   "execution_count": 414,
   "id": "df076f84-0964-43b4-b099-6eff859d3976",
   "metadata": {},
   "outputs": [
    {
     "data": {
      "text/plain": [
       "{'l1_ratio': 0.1, 'alpha': 1e-05}"
      ]
     },
     "execution_count": 414,
     "metadata": {},
     "output_type": "execute_result"
    }
   ],
   "source": [
    "cv_model.best_params_"
   ]
  },
  {
   "cell_type": "code",
   "execution_count": 415,
   "id": "762d8f24-b19b-4720-a439-157e2feac8dd",
   "metadata": {},
   "outputs": [],
   "source": [
    "y_pred = cv_model.predict(X_test)"
   ]
  },
  {
   "cell_type": "code",
   "execution_count": 416,
   "id": "c4f784f0-9e9a-4107-b5a0-580571877725",
   "metadata": {},
   "outputs": [
    {
     "data": {
      "text/plain": [
       "0.7486267329322521"
      ]
     },
     "execution_count": 416,
     "metadata": {},
     "output_type": "execute_result"
    }
   ],
   "source": [
    "accuracy_score(y_test, y_pred)"
   ]
  },
  {
   "cell_type": "code",
   "execution_count": 417,
   "id": "decbaa1e-fa2c-4650-9437-28b77a717458",
   "metadata": {},
   "outputs": [
    {
     "name": "stdout",
     "output_type": "stream",
     "text": [
      "              precision    recall  f1-score   support\n",
      "\n",
      "         0.0       0.76      0.96      0.85      2839\n",
      "         1.0       0.55      0.14      0.22       984\n",
      "\n",
      "    accuracy                           0.75      3823\n",
      "   macro avg       0.65      0.55      0.54      3823\n",
      "weighted avg       0.71      0.75      0.69      3823\n",
      "\n"
     ]
    }
   ],
   "source": [
    "print(classification_report(y_test,y_pred))"
   ]
  },
  {
   "cell_type": "code",
   "execution_count": 418,
   "id": "31d8f022-be92-4ece-8431-252f87508a8b",
   "metadata": {},
   "outputs": [
    {
     "data": {
      "text/plain": [
       "<sklearn.metrics._plot.confusion_matrix.ConfusionMatrixDisplay at 0x7fa23c76d490>"
      ]
     },
     "execution_count": 418,
     "metadata": {},
     "output_type": "execute_result"
    },
    {
     "data": {
      "image/png": "[encoded data removed]",
      "text/plain": [
       "<Figure size 432x288 with 2 Axes>"
      ]
     },
     "metadata": {
      "needs_background": "light"
     },
     "output_type": "display_data"
    }
   ],
   "source": [
    "plot_confusion_matrix(cv_model,X_test,y_test)"
   ]
  },
  {
   "cell_type": "code",
   "execution_count": 419,
   "id": "90d60dd7-849a-436f-89d3-8a930f13ff09",
   "metadata": {},
   "outputs": [],
   "source": [
    "results = results.append({\"Model\": str(model)+\"_tuned\", \n",
    "                          \"Accuracy Score\":accuracy_score(y_test, y_pred),\n",
    "                         \"Type II Error\":confusion_matrix(y_test,y_pred)[1][0],\n",
    "                         \"Precision\": classification_report(y_test,y_pred, output_dict=True)[\"0.0\"][\"precision\"]}, ignore_index=True)"
   ]
  },
  {
   "cell_type": "code",
   "execution_count": 420,
   "id": "543ba212-d71f-4e37-a989-b40b75eda17d",
   "metadata": {},
   "outputs": [
    {
     "data": {
      "text/html": [
       "<div>\n",
       "<style scoped>\n",
       "    .dataframe tbody tr th:only-of-type {\n",
       "        vertical-align: middle;\n",
       "    }\n",
       "\n",
       "    .dataframe tbody tr th {\n",
       "        vertical-align: top;\n",
       "    }\n",
       "\n",
       "    .dataframe thead th {\n",
       "        text-align: right;\n",
       "    }\n",
       "</style>\n",
       "<table border=\"1\" class=\"dataframe\">\n",
       "  <thead>\n",
       "    <tr style=\"text-align: right;\">\n",
       "      <th></th>\n",
       "      <th>Model</th>\n",
       "      <th>Accuracy Score</th>\n",
       "      <th>Type II Error</th>\n",
       "      <th>Precision</th>\n",
       "    </tr>\n",
       "  </thead>\n",
       "  <tbody>\n",
       "    <tr>\n",
       "      <th>0</th>\n",
       "      <td>LogisticRegression()</td>\n",
       "      <td>0.760921</td>\n",
       "      <td>746</td>\n",
       "      <td>0.78168</td>\n",
       "    </tr>\n",
       "    <tr>\n",
       "      <th>1</th>\n",
       "      <td>LogisticRegression()_tuned</td>\n",
       "      <td>0.74758</td>\n",
       "      <td>939</td>\n",
       "      <td>0.749733</td>\n",
       "    </tr>\n",
       "    <tr>\n",
       "      <th>2</th>\n",
       "      <td>GaussianNB()</td>\n",
       "      <td>0.633272</td>\n",
       "      <td>369</td>\n",
       "      <td>0.830345</td>\n",
       "    </tr>\n",
       "    <tr>\n",
       "      <th>3</th>\n",
       "      <td>GaussianNB()_tuned</td>\n",
       "      <td>0.633272</td>\n",
       "      <td>369</td>\n",
       "      <td>0.830345</td>\n",
       "    </tr>\n",
       "    <tr>\n",
       "      <th>4</th>\n",
       "      <td>KNeighborsClassifier()</td>\n",
       "      <td>0.721423</td>\n",
       "      <td>794</td>\n",
       "      <td>0.763831</td>\n",
       "    </tr>\n",
       "    <tr>\n",
       "      <th>5</th>\n",
       "      <td>KNeighborsClassifier()_tuned</td>\n",
       "      <td>0.742611</td>\n",
       "      <td>960</td>\n",
       "      <td>0.745695</td>\n",
       "    </tr>\n",
       "    <tr>\n",
       "      <th>6</th>\n",
       "      <td>SVC()</td>\n",
       "      <td>0.742611</td>\n",
       "      <td>984</td>\n",
       "      <td>0.742611</td>\n",
       "    </tr>\n",
       "    <tr>\n",
       "      <th>7</th>\n",
       "      <td>SVC()_tuned</td>\n",
       "      <td>0.742611</td>\n",
       "      <td>984</td>\n",
       "      <td>0.742611</td>\n",
       "    </tr>\n",
       "    <tr>\n",
       "      <th>8</th>\n",
       "      <td>MLPClassifier()</td>\n",
       "      <td>0.735025</td>\n",
       "      <td>670</td>\n",
       "      <td>0.788377</td>\n",
       "    </tr>\n",
       "    <tr>\n",
       "      <th>9</th>\n",
       "      <td>MLPClassifier()_tuned</td>\n",
       "      <td>0.756736</td>\n",
       "      <td>681</td>\n",
       "      <td>0.791807</td>\n",
       "    </tr>\n",
       "    <tr>\n",
       "      <th>10</th>\n",
       "      <td>DecisionTreeClassifier()</td>\n",
       "      <td>0.681925</td>\n",
       "      <td>633</td>\n",
       "      <td>0.780893</td>\n",
       "    </tr>\n",
       "    <tr>\n",
       "      <th>11</th>\n",
       "      <td>DecisionTreeClassifier()_tuned</td>\n",
       "      <td>0.77243</td>\n",
       "      <td>603</td>\n",
       "      <td>0.810079</td>\n",
       "    </tr>\n",
       "    <tr>\n",
       "      <th>12</th>\n",
       "      <td>RandomForestClassifier()</td>\n",
       "      <td>0.740256</td>\n",
       "      <td>672</td>\n",
       "      <td>0.789342</td>\n",
       "    </tr>\n",
       "    <tr>\n",
       "      <th>13</th>\n",
       "      <td>RandomForestClassifier()_tuned</td>\n",
       "      <td>0.767199</td>\n",
       "      <td>648</td>\n",
       "      <td>0.800308</td>\n",
       "    </tr>\n",
       "    <tr>\n",
       "      <th>14</th>\n",
       "      <td>GradientBoostingClassifier()</td>\n",
       "      <td>0.766152</td>\n",
       "      <td>635</td>\n",
       "      <td>0.802488</td>\n",
       "    </tr>\n",
       "    <tr>\n",
       "      <th>15</th>\n",
       "      <td>GradientBoostingClassifier()_tuned</td>\n",
       "      <td>0.767983</td>\n",
       "      <td>640</td>\n",
       "      <td>0.80198</td>\n",
       "    </tr>\n",
       "    <tr>\n",
       "      <th>16</th>\n",
       "      <td>XGBClassifier(base_score=0.5, booster='gbtree'...</td>\n",
       "      <td>0.758043</td>\n",
       "      <td>629</td>\n",
       "      <td>0.801702</td>\n",
       "    </tr>\n",
       "    <tr>\n",
       "      <th>17</th>\n",
       "      <td>XGBClassifier(base_score=0.5, booster='gbtree'...</td>\n",
       "      <td>0.768245</td>\n",
       "      <td>637</td>\n",
       "      <td>0.802603</td>\n",
       "    </tr>\n",
       "    <tr>\n",
       "      <th>18</th>\n",
       "      <td>LGBMClassifier()</td>\n",
       "      <td>0.765891</td>\n",
       "      <td>597</td>\n",
       "      <td>0.809751</td>\n",
       "    </tr>\n",
       "    <tr>\n",
       "      <th>19</th>\n",
       "      <td>LGBMClassifier()_tuned</td>\n",
       "      <td>0.766675</td>\n",
       "      <td>631</td>\n",
       "      <td>0.803366</td>\n",
       "    </tr>\n",
       "    <tr>\n",
       "      <th>20</th>\n",
       "      <td>&lt;catboost.core.CatBoostClassifier object at 0x...</td>\n",
       "      <td>0.76249</td>\n",
       "      <td>632</td>\n",
       "      <td>0.802191</td>\n",
       "    </tr>\n",
       "    <tr>\n",
       "      <th>21</th>\n",
       "      <td>&lt;catboost.core.CatBoostClassifier object at 0x...</td>\n",
       "      <td>0.769291</td>\n",
       "      <td>629</td>\n",
       "      <td>0.804355</td>\n",
       "    </tr>\n",
       "    <tr>\n",
       "      <th>22</th>\n",
       "      <td>Perceptron()</td>\n",
       "      <td>0.748627</td>\n",
       "      <td>848</td>\n",
       "      <td>0.762731</td>\n",
       "    </tr>\n",
       "    <tr>\n",
       "      <th>23</th>\n",
       "      <td>Perceptron()_tuned</td>\n",
       "      <td>0.748627</td>\n",
       "      <td>848</td>\n",
       "      <td>0.762731</td>\n",
       "    </tr>\n",
       "  </tbody>\n",
       "</table>\n",
       "</div>"
      ],
      "text/plain": [
       "                                                Model Accuracy Score  \\\n",
       "0                                LogisticRegression()       0.760921   \n",
       "1                          LogisticRegression()_tuned        0.74758   \n",
       "2                                        GaussianNB()       0.633272   \n",
       "3                                  GaussianNB()_tuned       0.633272   \n",
       "4                              KNeighborsClassifier()       0.721423   \n",
       "5                        KNeighborsClassifier()_tuned       0.742611   \n",
       "6                                               SVC()       0.742611   \n",
       "7                                         SVC()_tuned       0.742611   \n",
       "8                                     MLPClassifier()       0.735025   \n",
       "9                               MLPClassifier()_tuned       0.756736   \n",
       "10                           DecisionTreeClassifier()       0.681925   \n",
       "11                     DecisionTreeClassifier()_tuned        0.77243   \n",
       "12                           RandomForestClassifier()       0.740256   \n",
       "13                     RandomForestClassifier()_tuned       0.767199   \n",
       "14                       GradientBoostingClassifier()       0.766152   \n",
       "15                 GradientBoostingClassifier()_tuned       0.767983   \n",
       "16  XGBClassifier(base_score=0.5, booster='gbtree'...       0.758043   \n",
       "17  XGBClassifier(base_score=0.5, booster='gbtree'...       0.768245   \n",
       "18                                   LGBMClassifier()       0.765891   \n",
       "19                             LGBMClassifier()_tuned       0.766675   \n",
       "20  <catboost.core.CatBoostClassifier object at 0x...        0.76249   \n",
       "21  <catboost.core.CatBoostClassifier object at 0x...       0.769291   \n",
       "22                                       Perceptron()       0.748627   \n",
       "23                                 Perceptron()_tuned       0.748627   \n",
       "\n",
       "   Type II Error Precision  \n",
       "0            746   0.78168  \n",
       "1            939  0.749733  \n",
       "2            369  0.830345  \n",
       "3            369  0.830345  \n",
       "4            794  0.763831  \n",
       "5            960  0.745695  \n",
       "6            984  0.742611  \n",
       "7            984  0.742611  \n",
       "8            670  0.788377  \n",
       "9            681  0.791807  \n",
       "10           633  0.780893  \n",
       "11           603  0.810079  \n",
       "12           672  0.789342  \n",
       "13           648  0.800308  \n",
       "14           635  0.802488  \n",
       "15           640   0.80198  \n",
       "16           629  0.801702  \n",
       "17           637  0.802603  \n",
       "18           597  0.809751  \n",
       "19           631  0.803366  \n",
       "20           632  0.802191  \n",
       "21           629  0.804355  \n",
       "22           848  0.762731  \n",
       "23           848  0.762731  "
      ]
     },
     "execution_count": 420,
     "metadata": {},
     "output_type": "execute_result"
    }
   ],
   "source": [
    "results"
   ]
  },
  {
   "cell_type": "markdown",
   "id": "02fed7a0-d0ba-4bfd-95d8-15971f4a7dd7",
   "metadata": {},
   "source": [
    "<br><br>"
   ]
  },
  {
   "cell_type": "markdown",
   "id": "1949807c-97c3-4caf-b0ea-d217f1ef6d75",
   "metadata": {},
   "source": [
    "## 3. Results & Model Selection"
   ]
  },
  {
   "cell_type": "code",
   "execution_count": 426,
   "id": "0c423eb2-127b-455e-8cc6-adbdd67c1595",
   "metadata": {},
   "outputs": [
    {
     "data": {
      "text/html": [
       "<div>\n",
       "<style scoped>\n",
       "    .dataframe tbody tr th:only-of-type {\n",
       "        vertical-align: middle;\n",
       "    }\n",
       "\n",
       "    .dataframe tbody tr th {\n",
       "        vertical-align: top;\n",
       "    }\n",
       "\n",
       "    .dataframe thead th {\n",
       "        text-align: right;\n",
       "    }\n",
       "</style>\n",
       "<table border=\"1\" class=\"dataframe\">\n",
       "  <thead>\n",
       "    <tr style=\"text-align: right;\">\n",
       "      <th></th>\n",
       "      <th>Model</th>\n",
       "      <th>Accuracy Score</th>\n",
       "      <th>Type II Error</th>\n",
       "      <th>Precision</th>\n",
       "    </tr>\n",
       "  </thead>\n",
       "  <tbody>\n",
       "    <tr>\n",
       "      <th>11</th>\n",
       "      <td>DecisionTreeClassifier()_tuned</td>\n",
       "      <td>0.77243</td>\n",
       "      <td>603</td>\n",
       "      <td>0.810079</td>\n",
       "    </tr>\n",
       "    <tr>\n",
       "      <th>21</th>\n",
       "      <td>&lt;catboost.core.CatBoostClassifier object at 0x...</td>\n",
       "      <td>0.769291</td>\n",
       "      <td>629</td>\n",
       "      <td>0.804355</td>\n",
       "    </tr>\n",
       "    <tr>\n",
       "      <th>17</th>\n",
       "      <td>XGBClassifier(base_score=0.5, booster='gbtree'...</td>\n",
       "      <td>0.768245</td>\n",
       "      <td>637</td>\n",
       "      <td>0.802603</td>\n",
       "    </tr>\n",
       "    <tr>\n",
       "      <th>15</th>\n",
       "      <td>GradientBoostingClassifier()_tuned</td>\n",
       "      <td>0.767983</td>\n",
       "      <td>640</td>\n",
       "      <td>0.80198</td>\n",
       "    </tr>\n",
       "    <tr>\n",
       "      <th>13</th>\n",
       "      <td>RandomForestClassifier()_tuned</td>\n",
       "      <td>0.767199</td>\n",
       "      <td>648</td>\n",
       "      <td>0.800308</td>\n",
       "    </tr>\n",
       "    <tr>\n",
       "      <th>19</th>\n",
       "      <td>LGBMClassifier()_tuned</td>\n",
       "      <td>0.766675</td>\n",
       "      <td>631</td>\n",
       "      <td>0.803366</td>\n",
       "    </tr>\n",
       "    <tr>\n",
       "      <th>14</th>\n",
       "      <td>GradientBoostingClassifier()</td>\n",
       "      <td>0.766152</td>\n",
       "      <td>635</td>\n",
       "      <td>0.802488</td>\n",
       "    </tr>\n",
       "    <tr>\n",
       "      <th>18</th>\n",
       "      <td>LGBMClassifier()</td>\n",
       "      <td>0.765891</td>\n",
       "      <td>597</td>\n",
       "      <td>0.809751</td>\n",
       "    </tr>\n",
       "    <tr>\n",
       "      <th>20</th>\n",
       "      <td>&lt;catboost.core.CatBoostClassifier object at 0x...</td>\n",
       "      <td>0.76249</td>\n",
       "      <td>632</td>\n",
       "      <td>0.802191</td>\n",
       "    </tr>\n",
       "    <tr>\n",
       "      <th>0</th>\n",
       "      <td>LogisticRegression()</td>\n",
       "      <td>0.760921</td>\n",
       "      <td>746</td>\n",
       "      <td>0.78168</td>\n",
       "    </tr>\n",
       "  </tbody>\n",
       "</table>\n",
       "</div>"
      ],
      "text/plain": [
       "                                                Model Accuracy Score  \\\n",
       "11                     DecisionTreeClassifier()_tuned        0.77243   \n",
       "21  <catboost.core.CatBoostClassifier object at 0x...       0.769291   \n",
       "17  XGBClassifier(base_score=0.5, booster='gbtree'...       0.768245   \n",
       "15                 GradientBoostingClassifier()_tuned       0.767983   \n",
       "13                     RandomForestClassifier()_tuned       0.767199   \n",
       "19                             LGBMClassifier()_tuned       0.766675   \n",
       "14                       GradientBoostingClassifier()       0.766152   \n",
       "18                                   LGBMClassifier()       0.765891   \n",
       "20  <catboost.core.CatBoostClassifier object at 0x...        0.76249   \n",
       "0                                LogisticRegression()       0.760921   \n",
       "\n",
       "   Type II Error Precision  \n",
       "11           603  0.810079  \n",
       "21           629  0.804355  \n",
       "17           637  0.802603  \n",
       "15           640   0.80198  \n",
       "13           648  0.800308  \n",
       "19           631  0.803366  \n",
       "14           635  0.802488  \n",
       "18           597  0.809751  \n",
       "20           632  0.802191  \n",
       "0            746   0.78168  "
      ]
     },
     "execution_count": 426,
     "metadata": {},
     "output_type": "execute_result"
    }
   ],
   "source": [
    "results.sort_values(\"Accuracy Score\", ascending=False)[:10]"
   ]
  },
  {
   "cell_type": "code",
   "execution_count": 427,
   "id": "d50a7229-62a4-4757-8d64-31c7d1e214d8",
   "metadata": {},
   "outputs": [
    {
     "data": {
      "text/html": [
       "<div>\n",
       "<style scoped>\n",
       "    .dataframe tbody tr th:only-of-type {\n",
       "        vertical-align: middle;\n",
       "    }\n",
       "\n",
       "    .dataframe tbody tr th {\n",
       "        vertical-align: top;\n",
       "    }\n",
       "\n",
       "    .dataframe thead th {\n",
       "        text-align: right;\n",
       "    }\n",
       "</style>\n",
       "<table border=\"1\" class=\"dataframe\">\n",
       "  <thead>\n",
       "    <tr style=\"text-align: right;\">\n",
       "      <th></th>\n",
       "      <th>Model</th>\n",
       "      <th>Accuracy Score</th>\n",
       "      <th>Type II Error</th>\n",
       "      <th>Precision</th>\n",
       "    </tr>\n",
       "  </thead>\n",
       "  <tbody>\n",
       "    <tr>\n",
       "      <th>2</th>\n",
       "      <td>GaussianNB()</td>\n",
       "      <td>0.633272</td>\n",
       "      <td>369</td>\n",
       "      <td>0.830345</td>\n",
       "    </tr>\n",
       "    <tr>\n",
       "      <th>3</th>\n",
       "      <td>GaussianNB()_tuned</td>\n",
       "      <td>0.633272</td>\n",
       "      <td>369</td>\n",
       "      <td>0.830345</td>\n",
       "    </tr>\n",
       "    <tr>\n",
       "      <th>11</th>\n",
       "      <td>DecisionTreeClassifier()_tuned</td>\n",
       "      <td>0.77243</td>\n",
       "      <td>603</td>\n",
       "      <td>0.810079</td>\n",
       "    </tr>\n",
       "    <tr>\n",
       "      <th>18</th>\n",
       "      <td>LGBMClassifier()</td>\n",
       "      <td>0.765891</td>\n",
       "      <td>597</td>\n",
       "      <td>0.809751</td>\n",
       "    </tr>\n",
       "    <tr>\n",
       "      <th>21</th>\n",
       "      <td>&lt;catboost.core.CatBoostClassifier object at 0x...</td>\n",
       "      <td>0.769291</td>\n",
       "      <td>629</td>\n",
       "      <td>0.804355</td>\n",
       "    </tr>\n",
       "    <tr>\n",
       "      <th>19</th>\n",
       "      <td>LGBMClassifier()_tuned</td>\n",
       "      <td>0.766675</td>\n",
       "      <td>631</td>\n",
       "      <td>0.803366</td>\n",
       "    </tr>\n",
       "    <tr>\n",
       "      <th>17</th>\n",
       "      <td>XGBClassifier(base_score=0.5, booster='gbtree'...</td>\n",
       "      <td>0.768245</td>\n",
       "      <td>637</td>\n",
       "      <td>0.802603</td>\n",
       "    </tr>\n",
       "    <tr>\n",
       "      <th>14</th>\n",
       "      <td>GradientBoostingClassifier()</td>\n",
       "      <td>0.766152</td>\n",
       "      <td>635</td>\n",
       "      <td>0.802488</td>\n",
       "    </tr>\n",
       "    <tr>\n",
       "      <th>20</th>\n",
       "      <td>&lt;catboost.core.CatBoostClassifier object at 0x...</td>\n",
       "      <td>0.76249</td>\n",
       "      <td>632</td>\n",
       "      <td>0.802191</td>\n",
       "    </tr>\n",
       "    <tr>\n",
       "      <th>15</th>\n",
       "      <td>GradientBoostingClassifier()_tuned</td>\n",
       "      <td>0.767983</td>\n",
       "      <td>640</td>\n",
       "      <td>0.80198</td>\n",
       "    </tr>\n",
       "  </tbody>\n",
       "</table>\n",
       "</div>"
      ],
      "text/plain": [
       "                                                Model Accuracy Score  \\\n",
       "2                                        GaussianNB()       0.633272   \n",
       "3                                  GaussianNB()_tuned       0.633272   \n",
       "11                     DecisionTreeClassifier()_tuned        0.77243   \n",
       "18                                   LGBMClassifier()       0.765891   \n",
       "21  <catboost.core.CatBoostClassifier object at 0x...       0.769291   \n",
       "19                             LGBMClassifier()_tuned       0.766675   \n",
       "17  XGBClassifier(base_score=0.5, booster='gbtree'...       0.768245   \n",
       "14                       GradientBoostingClassifier()       0.766152   \n",
       "20  <catboost.core.CatBoostClassifier object at 0x...        0.76249   \n",
       "15                 GradientBoostingClassifier()_tuned       0.767983   \n",
       "\n",
       "   Type II Error Precision  \n",
       "2            369  0.830345  \n",
       "3            369  0.830345  \n",
       "11           603  0.810079  \n",
       "18           597  0.809751  \n",
       "21           629  0.804355  \n",
       "19           631  0.803366  \n",
       "17           637  0.802603  \n",
       "14           635  0.802488  \n",
       "20           632  0.802191  \n",
       "15           640   0.80198  "
      ]
     },
     "execution_count": 427,
     "metadata": {},
     "output_type": "execute_result"
    }
   ],
   "source": [
    "results.sort_values(\"Precision\",ascending=False)[:10]"
   ]
  },
  {
   "cell_type": "code",
   "execution_count": 429,
   "id": "53b876dd-72f0-4783-87fc-a2103976c805",
   "metadata": {},
   "outputs": [
    {
     "data": {
      "image/png": "[encoded data removed]",
      "text/plain": [
       "<Figure size 1152x576 with 1 Axes>"
      ]
     },
     "metadata": {
      "needs_background": "light"
     },
     "output_type": "display_data"
    }
   ],
   "source": [
    "plt.figure(figsize=(16,8))\n",
    "sns.barplot(data = results.sort_values(\"Accuracy Score\"), x= \"Model\", y=\"Accuracy Score\")\n",
    "plt.xticks(rotation=90);"
   ]
  },
  {
   "cell_type": "markdown",
   "id": "db78a946-1c66-45c9-9b95-26fe843bfa13",
   "metadata": {},
   "source": [
    "<br><br> **Selecting the best Model**"
   ]
  },
  {
   "cell_type": "markdown",
   "id": "d4207fc5-d296-424e-8121-ebcaf8a4feba",
   "metadata": {},
   "source": [
    "<br>**Decision:** The model scores are mostly very close. The model selection can change based on the strategy of the company, i.e., how many candidates they will hire, how much cost for each wrong decision is there, etc. We can choose <b>the tuned Decision Tree Classifier</b> because it has the highest accuracy score and the third best precision score or <b>the LGBM Classifier</b> because it has less Type II error and high accuracy score."
   ]
  },
  {
   "cell_type": "markdown",
   "id": "cc3046f8-e5da-4e24-af1b-42c5536666ac",
   "metadata": {},
   "source": [
    "**DecisionTreeClassifier**"
   ]
  },
  {
   "cell_type": "code",
   "execution_count": 432,
   "id": "4e6cbd26-927c-4340-bbd3-5b3c601494bf",
   "metadata": {},
   "outputs": [],
   "source": [
    "regressor = DecisionTreeClassifier(min_samples_split= 2, max_depth= 1)"
   ]
  },
  {
   "cell_type": "code",
   "execution_count": 433,
   "id": "ed55e7ed-ab24-4081-9b24-7fcbe3661f9c",
   "metadata": {},
   "outputs": [],
   "source": [
    "model = regressor.fit(X_train, y_train)"
   ]
  },
  {
   "cell_type": "code",
   "execution_count": 434,
   "id": "e1e726ff-05d9-45a8-ad2c-3773ecd137c5",
   "metadata": {},
   "outputs": [],
   "source": [
    "y_pred = model.predict(X_test)"
   ]
  },
  {
   "cell_type": "code",
   "execution_count": 436,
   "id": "e8d6c500-58c1-47c7-b385-99b9ec86fb2f",
   "metadata": {},
   "outputs": [
    {
     "data": {
      "text/plain": [
       "<sklearn.metrics._plot.confusion_matrix.ConfusionMatrixDisplay at 0x7fa2696e8c40>"
      ]
     },
     "execution_count": 436,
     "metadata": {},
     "output_type": "execute_result"
    },
    {
     "data": {
      "image/png": "[encoded data removed]",
      "text/plain": [
       "<Figure size 432x288 with 2 Axes>"
      ]
     },
     "metadata": {
      "needs_background": "light"
     },
     "output_type": "display_data"
    }
   ],
   "source": [
    "plot_confusion_matrix(model,X_test,y_test)"
   ]
  },
  {
   "cell_type": "markdown",
   "id": "559bb9d2-464e-4d4f-bd8a-6f3ae3bb3985",
   "metadata": {},
   "source": [
    "**LGBM Classifier**"
   ]
  },
  {
   "cell_type": "code",
   "execution_count": 441,
   "id": "9d11908c-327b-4ed8-882b-91a027300dec",
   "metadata": {},
   "outputs": [],
   "source": [
    "regressor = LGBMClassifier()"
   ]
  },
  {
   "cell_type": "code",
   "execution_count": 442,
   "id": "c71d037f-0799-4562-b3ca-272e497cc8a1",
   "metadata": {},
   "outputs": [],
   "source": [
    "model = regressor.fit(X_train, y_train)"
   ]
  },
  {
   "cell_type": "code",
   "execution_count": 443,
   "id": "296b0d58-f201-45d0-aa50-5a2aaa866cbd",
   "metadata": {},
   "outputs": [],
   "source": [
    "y_pred = model.predict(X_test)"
   ]
  },
  {
   "cell_type": "code",
   "execution_count": 444,
   "id": "8ad3d334-d76c-4164-b698-ece00f93633d",
   "metadata": {},
   "outputs": [
    {
     "data": {
      "text/plain": [
       "<sklearn.metrics._plot.confusion_matrix.ConfusionMatrixDisplay at 0x7fa1e8950610>"
      ]
     },
     "execution_count": 444,
     "metadata": {},
     "output_type": "execute_result"
    },
    {
     "data": {
      "image/png": "[encoded data removed]",
      "text/plain": [
       "<Figure size 432x288 with 2 Axes>"
      ]
     },
     "metadata": {
      "needs_background": "light"
     },
     "output_type": "display_data"
    }
   ],
   "source": [
    "plot_confusion_matrix(model,X_test,y_test)"
   ]
  },
  {
   "cell_type": "markdown",
   "id": "93ba67fe-fd35-41d4-bdbc-909db409622d",
   "metadata": {},
   "source": [
    "<br><br> **Feature Importances**"
   ]
  },
  {
   "cell_type": "markdown",
   "id": "fef92fb7-2ffa-413b-a7e0-ca77675297e5",
   "metadata": {},
   "source": [
    "**LGBM Classifier**"
   ]
  },
  {
   "cell_type": "code",
   "execution_count": 445,
   "id": "b5587d1f-8a6e-4157-a1fd-68623b08261c",
   "metadata": {},
   "outputs": [],
   "source": [
    "imp_feats = pd.DataFrame(data=model.feature_importances_,index=X.columns,columns=['Feature Importance']).sort_values(\"Feature Importance\")"
   ]
  },
  {
   "cell_type": "code",
   "execution_count": 446,
   "id": "a1d702cc-a55a-45ff-a86f-423e0e9eb546",
   "metadata": {},
   "outputs": [
    {
     "data": {
      "text/plain": [
       "array([680, 990,  44,  88,  88,  26,  85,  29,  36,  82,  54,   8,  14,\n",
       "        20,   8,  47,  11,  42,  29,  15,  22,  25,  30,  26,  29,  13,\n",
       "        18,   8,  23,   9,  18,  11,  17,  22,   2,  16,  17,   6,  63,\n",
       "         0, 112,  53,  30,  34], dtype=int32)"
      ]
     },
     "execution_count": 446,
     "metadata": {},
     "output_type": "execute_result"
    }
   ],
   "source": [
    "model.feature_importances_"
   ]
  },
  {
   "cell_type": "code",
   "execution_count": 447,
   "id": "9c293e05-a746-425a-b1c2-a382cba0b6ec",
   "metadata": {},
   "outputs": [
    {
     "data": {
      "image/png": "[encoded data removed]",
      "text/plain": [
       "<Figure size 2800x1200 with 1 Axes>"
      ]
     },
     "metadata": {
      "needs_background": "light"
     },
     "output_type": "display_data"
    }
   ],
   "source": [
    "plt.figure(figsize=(14,6),dpi=200)\n",
    "sns.barplot(data=imp_feats.sort_values('Feature Importance'),x=imp_feats.sort_values('Feature Importance').index,y='Feature Importance')\n",
    "plt.xticks(rotation=90)\n",
    "plt.title(\"Feature Importance for Decision Tree\");"
   ]
  },
  {
   "cell_type": "markdown",
   "id": "b279228e-bc93-4b78-a67f-cfb0d29b6f18",
   "metadata": {},
   "source": [
    "<br>**Comment:** Training hours and city development index are the most effective features. Former experience related features and gender also affects the target value."
   ]
  },
  {
   "cell_type": "markdown",
   "id": "502a4466-489e-480c-abab-e8671c2e291b",
   "metadata": {},
   "source": [
    "<br><br><br>"
   ]
  },
  {
   "cell_type": "markdown",
   "id": "bbcb347d-446f-4e53-a9c1-d78783d460af",
   "metadata": {},
   "source": [
    "## 4. Conclusion and Discussion"
   ]
  },
  {
   "cell_type": "markdown",
   "id": "5e046e7b-6c78-4df1-9315-1ac3d49f2686",
   "metadata": {},
   "source": [
    "In this work, we performed classification algorithms to find which candidates really want to work. <b>Logistic Regression, Gaussian Naive Bayes, KNeighbors, SVC, Neural Network (MLP), DecisionTreeClassifier, Random Forests, GradientBoosting, XGBoost, LightGBM, CatBoost</b> and <b>Perceptron</b> algorithms are created and tuned using <b>RandomizedSearchCV</b>. The results are compared to find the best algorithm for this particular dataset. Furthermore, the most effective features for the target value are evaluated."
   ]
  },
  {
   "cell_type": "markdown",
   "id": "48f0b3f5-adc6-49e2-93b9-f81719245361",
   "metadata": {},
   "source": [
    "The models can be further improved by trying different hyperparameters. There are endless hyperparameter options, yet, the processes may take considerably long time. Additionally, <b>GridSearchCV</b> can be used for tuning instead of RandomizedSearchCV to find better hyperparameters, however, it takes much time to process. Lastly, different classification algorithms can be performed."
   ]
  },
  {
   "cell_type": "markdown",
   "id": "d6caed22-81e5-415d-939e-fb783d094591",
   "metadata": {},
   "source": [
    "**See also** Data Cleaning and Imputation processes: https://github.com/DrFarukAydin/data-science-portfolio/blob/main/data-collection-merging-and-cleaning/data-cleaning-for-hr-classification.ipynb"
   ]
  }
 ],
 "metadata": {
  "kernelspec": {
   "display_name": "Python 3 (ipykernel)",
   "language": "python",
   "name": "python3"
  },
  "language_info": {
   "codemirror_mode": {
    "name": "ipython",
    "version": 3
   },
   "file_extension": ".py",
   "mimetype": "text/x-python",
   "name": "python",
   "nbconvert_exporter": "python",
   "pygments_lexer": "ipython3",
   "version": "3.9.12"
  },
  "papermill": {
   "default_parameters": {},
   "duration": 159.386851,
   "end_time": "2021-09-12T23:46:03.283266",
   "environment_variables": {},
   "exception": null,
   "input_path": "__notebook__.ipynb",
   "output_path": "__notebook__.ipynb",
   "parameters": {},
   "start_time": "2021-09-12T23:43:23.896415",
   "version": "2.3.3"
  }
 },
 "nbformat": 4,
 "nbformat_minor": 5
}
