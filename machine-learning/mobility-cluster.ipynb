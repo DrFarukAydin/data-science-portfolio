{
 "cells": [
  {
   "cell_type": "markdown",
   "id": "71cf8723-4fc6-4ffe-ae54-9bdd60543591",
   "metadata": {
    "tags": []
   },
   "source": [
    "# Clustering"
   ]
  },
  {
   "cell_type": "markdown",
   "id": "ae1fad24-0c68-433d-8900-f385e733a80c",
   "metadata": {},
   "source": [
    "## Change in Mobility during COVID19 Pandemy"
   ]
  },
  {
   "cell_type": "markdown",
   "id": "e03dcb95-96b4-4d98-984b-09ba8923274f",
   "metadata": {},
   "source": [
    "## 1. Introduction"
   ]
  },
  {
   "cell_type": "markdown",
   "id": "41fbccb3-e2fc-43e7-b8c1-a3ed2abd28e5",
   "metadata": {},
   "source": [
    "This study is conducted to investigate the change in mobility behaviour during pandemy. In the scope of this study, Mobility Report published by Google is utilized. To be able to understand the reasons behind the change in mobility, various data from multiple sources are collected."
   ]
  },
  {
   "cell_type": "markdown",
   "id": "3f6dce15-4bcb-4b19-9e28-dd507716964d",
   "metadata": {},
   "source": [
    "Creating dataframes and data cleaning process is explained here: https://github.com/DrFarukAydin/data-science-portfolio/blob/main/data-collection-merging-and-cleaning/mobility-dataframe-preparation.ipynb"
   ]
  },
  {
   "cell_type": "markdown",
   "id": "d43e2c1d-2293-447e-9758-0ee8825ea416",
   "metadata": {},
   "source": [
    "This data is visualized with Tableau. You can check that from the following link: https://github.com/DrFarukAydin/data-science-portfolio/blob/main/data-visualization-tableau/data-visualization-tableau.ipynb"
   ]
  },
  {
   "cell_type": "markdown",
   "id": "7a267065-ca01-422c-955c-66c4b56c6b85",
   "metadata": {},
   "source": [
    "Some statistical tests were conducted to prepare the relationship between the mobility changes and weather (precipitation), city and county development index: https://github.com/DrFarukAydin/data-science-portfolio/blob/main/statistical-analysis/mobility-statistical-tests.ipynb"
   ]
  },
  {
   "cell_type": "markdown",
   "id": "80c92898-6275-40a7-86a2-7eedd92a0ff8",
   "metadata": {},
   "source": [
    "In this work, a clustering process is done to examine if a meaningful pattern between the groups of countries clustered by their mobility behaviour."
   ]
  },
  {
   "cell_type": "markdown",
   "id": "a207c36a-8ce2-44e7-b7aa-b0a906439bbe",
   "metadata": {
    "tags": []
   },
   "source": [
    "## 2. Importing Libraries & Data"
   ]
  },
  {
   "cell_type": "markdown",
   "id": "db72a6b7-3a69-4043-a937-2f7f1e1ae9f6",
   "metadata": {},
   "source": [
    "First, the libraries are imported."
   ]
  },
  {
   "cell_type": "code",
   "execution_count": 1,
   "id": "404d7b79-44c7-4fc8-9038-6607e60f4f9c",
   "metadata": {},
   "outputs": [],
   "source": [
    "import numpy as np\n",
    "import pandas as pd\n",
    "import matplotlib.pyplot as plt\n",
    "import seaborn as sns\n",
    "import json\n",
    "import urllib.request as urllib\n",
    "import re\n",
    "import matplotlib.dates as mdates"
   ]
  },
  {
   "cell_type": "markdown",
   "id": "d25928cf-f856-4dc9-9339-c1941eb02360",
   "metadata": {},
   "source": [
    "We import the dataframe that is prepared in the following work: https://github.com/DrFarukAydin/data-science-portfolio/blob/main/data-collection-merging-and-cleaning/mobility-dataframe-preparation.ipynb"
   ]
  },
  {
   "cell_type": "code",
   "execution_count": 2,
   "id": "f0774843-d383-42a3-9070-43417ecd6bed",
   "metadata": {},
   "outputs": [],
   "source": [
    "df = pd.read_csv(\"../Traffic Studies/final_df.csv\", low_memory=False)"
   ]
  },
  {
   "cell_type": "code",
   "execution_count": 3,
   "id": "53ef33f6-0c2d-48dc-83aa-2ef7d3fd2e71",
   "metadata": {},
   "outputs": [
    {
     "data": {
      "text/html": [
       "<div>\n",
       "<style scoped>\n",
       "    .dataframe tbody tr th:only-of-type {\n",
       "        vertical-align: middle;\n",
       "    }\n",
       "\n",
       "    .dataframe tbody tr th {\n",
       "        vertical-align: top;\n",
       "    }\n",
       "\n",
       "    .dataframe thead th {\n",
       "        text-align: right;\n",
       "    }\n",
       "</style>\n",
       "<table border=\"1\" class=\"dataframe\">\n",
       "  <thead>\n",
       "    <tr style=\"text-align: right;\">\n",
       "      <th></th>\n",
       "      <th>Unnamed: 0</th>\n",
       "      <th>country_region_code</th>\n",
       "      <th>country_region</th>\n",
       "      <th>sub_region_1</th>\n",
       "      <th>sub_region_2</th>\n",
       "      <th>metro_area</th>\n",
       "      <th>iso_3166_2_code</th>\n",
       "      <th>census_fips_code</th>\n",
       "      <th>place_id</th>\n",
       "      <th>date</th>\n",
       "      <th>...</th>\n",
       "      <th>ilce_kademe</th>\n",
       "      <th>il_skor</th>\n",
       "      <th>il_kademe</th>\n",
       "      <th>Kurşunsuz Benzin</th>\n",
       "      <th>Motorin</th>\n",
       "      <th>precipitation [mm/day]</th>\n",
       "      <th>rain</th>\n",
       "      <th>MINIMUM_TRAFFIC_INDEX</th>\n",
       "      <th>MAXIMUM_TRAFFIC_INDEX</th>\n",
       "      <th>AVERAGE_TRAFFIC_INDEX</th>\n",
       "    </tr>\n",
       "  </thead>\n",
       "  <tbody>\n",
       "    <tr>\n",
       "      <th>0</th>\n",
       "      <td>0</td>\n",
       "      <td>AE</td>\n",
       "      <td>United Arab Emirates</td>\n",
       "      <td>NaN</td>\n",
       "      <td>NaN</td>\n",
       "      <td>NaN</td>\n",
       "      <td>NaN</td>\n",
       "      <td>NaN</td>\n",
       "      <td>ChIJvRKrsd9IXj4RpwoIwFYv0zM</td>\n",
       "      <td>2020-02-15</td>\n",
       "      <td>...</td>\n",
       "      <td>NaN</td>\n",
       "      <td>NaN</td>\n",
       "      <td>NaN</td>\n",
       "      <td>NaN</td>\n",
       "      <td>NaN</td>\n",
       "      <td>NaN</td>\n",
       "      <td>NaN</td>\n",
       "      <td>NaN</td>\n",
       "      <td>NaN</td>\n",
       "      <td>NaN</td>\n",
       "    </tr>\n",
       "    <tr>\n",
       "      <th>1</th>\n",
       "      <td>1</td>\n",
       "      <td>AE</td>\n",
       "      <td>United Arab Emirates</td>\n",
       "      <td>NaN</td>\n",
       "      <td>NaN</td>\n",
       "      <td>NaN</td>\n",
       "      <td>NaN</td>\n",
       "      <td>NaN</td>\n",
       "      <td>ChIJvRKrsd9IXj4RpwoIwFYv0zM</td>\n",
       "      <td>2020-02-16</td>\n",
       "      <td>...</td>\n",
       "      <td>NaN</td>\n",
       "      <td>NaN</td>\n",
       "      <td>NaN</td>\n",
       "      <td>NaN</td>\n",
       "      <td>NaN</td>\n",
       "      <td>NaN</td>\n",
       "      <td>NaN</td>\n",
       "      <td>NaN</td>\n",
       "      <td>NaN</td>\n",
       "      <td>NaN</td>\n",
       "    </tr>\n",
       "    <tr>\n",
       "      <th>2</th>\n",
       "      <td>2</td>\n",
       "      <td>AE</td>\n",
       "      <td>United Arab Emirates</td>\n",
       "      <td>NaN</td>\n",
       "      <td>NaN</td>\n",
       "      <td>NaN</td>\n",
       "      <td>NaN</td>\n",
       "      <td>NaN</td>\n",
       "      <td>ChIJvRKrsd9IXj4RpwoIwFYv0zM</td>\n",
       "      <td>2020-02-17</td>\n",
       "      <td>...</td>\n",
       "      <td>NaN</td>\n",
       "      <td>NaN</td>\n",
       "      <td>NaN</td>\n",
       "      <td>NaN</td>\n",
       "      <td>NaN</td>\n",
       "      <td>NaN</td>\n",
       "      <td>NaN</td>\n",
       "      <td>NaN</td>\n",
       "      <td>NaN</td>\n",
       "      <td>NaN</td>\n",
       "    </tr>\n",
       "    <tr>\n",
       "      <th>3</th>\n",
       "      <td>3</td>\n",
       "      <td>AE</td>\n",
       "      <td>United Arab Emirates</td>\n",
       "      <td>NaN</td>\n",
       "      <td>NaN</td>\n",
       "      <td>NaN</td>\n",
       "      <td>NaN</td>\n",
       "      <td>NaN</td>\n",
       "      <td>ChIJvRKrsd9IXj4RpwoIwFYv0zM</td>\n",
       "      <td>2020-02-18</td>\n",
       "      <td>...</td>\n",
       "      <td>NaN</td>\n",
       "      <td>NaN</td>\n",
       "      <td>NaN</td>\n",
       "      <td>NaN</td>\n",
       "      <td>NaN</td>\n",
       "      <td>NaN</td>\n",
       "      <td>NaN</td>\n",
       "      <td>NaN</td>\n",
       "      <td>NaN</td>\n",
       "      <td>NaN</td>\n",
       "    </tr>\n",
       "    <tr>\n",
       "      <th>4</th>\n",
       "      <td>4</td>\n",
       "      <td>AE</td>\n",
       "      <td>United Arab Emirates</td>\n",
       "      <td>NaN</td>\n",
       "      <td>NaN</td>\n",
       "      <td>NaN</td>\n",
       "      <td>NaN</td>\n",
       "      <td>NaN</td>\n",
       "      <td>ChIJvRKrsd9IXj4RpwoIwFYv0zM</td>\n",
       "      <td>2020-02-19</td>\n",
       "      <td>...</td>\n",
       "      <td>NaN</td>\n",
       "      <td>NaN</td>\n",
       "      <td>NaN</td>\n",
       "      <td>NaN</td>\n",
       "      <td>NaN</td>\n",
       "      <td>NaN</td>\n",
       "      <td>NaN</td>\n",
       "      <td>NaN</td>\n",
       "      <td>NaN</td>\n",
       "      <td>NaN</td>\n",
       "    </tr>\n",
       "  </tbody>\n",
       "</table>\n",
       "<p>5 rows × 36 columns</p>\n",
       "</div>"
      ],
      "text/plain": [
       "   Unnamed: 0 country_region_code        country_region sub_region_1  \\\n",
       "0           0                  AE  United Arab Emirates          NaN   \n",
       "1           1                  AE  United Arab Emirates          NaN   \n",
       "2           2                  AE  United Arab Emirates          NaN   \n",
       "3           3                  AE  United Arab Emirates          NaN   \n",
       "4           4                  AE  United Arab Emirates          NaN   \n",
       "\n",
       "  sub_region_2 metro_area iso_3166_2_code  census_fips_code  \\\n",
       "0          NaN        NaN             NaN               NaN   \n",
       "1          NaN        NaN             NaN               NaN   \n",
       "2          NaN        NaN             NaN               NaN   \n",
       "3          NaN        NaN             NaN               NaN   \n",
       "4          NaN        NaN             NaN               NaN   \n",
       "\n",
       "                      place_id        date  ...  ilce_kademe  il_skor  \\\n",
       "0  ChIJvRKrsd9IXj4RpwoIwFYv0zM  2020-02-15  ...          NaN      NaN   \n",
       "1  ChIJvRKrsd9IXj4RpwoIwFYv0zM  2020-02-16  ...          NaN      NaN   \n",
       "2  ChIJvRKrsd9IXj4RpwoIwFYv0zM  2020-02-17  ...          NaN      NaN   \n",
       "3  ChIJvRKrsd9IXj4RpwoIwFYv0zM  2020-02-18  ...          NaN      NaN   \n",
       "4  ChIJvRKrsd9IXj4RpwoIwFYv0zM  2020-02-19  ...          NaN      NaN   \n",
       "\n",
       "   il_kademe  Kurşunsuz Benzin  Motorin  precipitation [mm/day]  rain  \\\n",
       "0        NaN               NaN      NaN                     NaN   NaN   \n",
       "1        NaN               NaN      NaN                     NaN   NaN   \n",
       "2        NaN               NaN      NaN                     NaN   NaN   \n",
       "3        NaN               NaN      NaN                     NaN   NaN   \n",
       "4        NaN               NaN      NaN                     NaN   NaN   \n",
       "\n",
       "  MINIMUM_TRAFFIC_INDEX  MAXIMUM_TRAFFIC_INDEX  AVERAGE_TRAFFIC_INDEX  \n",
       "0                   NaN                    NaN                    NaN  \n",
       "1                   NaN                    NaN                    NaN  \n",
       "2                   NaN                    NaN                    NaN  \n",
       "3                   NaN                    NaN                    NaN  \n",
       "4                   NaN                    NaN                    NaN  \n",
       "\n",
       "[5 rows x 36 columns]"
      ]
     },
     "execution_count": 3,
     "metadata": {},
     "output_type": "execute_result"
    }
   ],
   "source": [
    "df.head()"
   ]
  },
  {
   "cell_type": "code",
   "execution_count": 4,
   "id": "a7beb93f-d7ef-4028-8d29-657c595f1b9a",
   "metadata": {},
   "outputs": [
    {
     "name": "stdout",
     "output_type": "stream",
     "text": [
      "<class 'pandas.core.frame.DataFrame'>\n",
      "RangeIndex: 10430715 entries, 0 to 10430714\n",
      "Data columns (total 36 columns):\n",
      " #   Column                                              Dtype  \n",
      "---  ------                                              -----  \n",
      " 0   Unnamed: 0                                          int64  \n",
      " 1   country_region_code                                 object \n",
      " 2   country_region                                      object \n",
      " 3   sub_region_1                                        object \n",
      " 4   sub_region_2                                        object \n",
      " 5   metro_area                                          object \n",
      " 6   iso_3166_2_code                                     object \n",
      " 7   census_fips_code                                    float64\n",
      " 8   place_id                                            object \n",
      " 9   date                                                object \n",
      " 10  retail_and_recreation_percent_change_from_baseline  float64\n",
      " 11  grocery_and_pharmacy_percent_change_from_baseline   float64\n",
      " 12  parks_percent_change_from_baseline                  float64\n",
      " 13  transit_stations_percent_change_from_baseline       float64\n",
      " 14  workplaces_percent_change_from_baseline             float64\n",
      " 15  residential_percent_change_from_baseline            float64\n",
      " 16  gdp_per_cap_2020                                    float64\n",
      " 17  continent                                           object \n",
      " 18  new_cases_per_million                               float64\n",
      " 19  total_cases_per_million                             float64\n",
      " 20  new_deaths_per_million                              float64\n",
      " 21  hosp_patients_per_million                           float64\n",
      " 22  mean_percent_change                                 float64\n",
      " 23  il                                                  object \n",
      " 24  ilce                                                object \n",
      " 25  ilce_skor                                           float64\n",
      " 26  ilce_kademe                                         float64\n",
      " 27  il_skor                                             float64\n",
      " 28  il_kademe                                           float64\n",
      " 29  Kurşunsuz Benzin                                    float64\n",
      " 30  Motorin                                             float64\n",
      " 31  precipitation [mm/day]                              float64\n",
      " 32  rain                                                object \n",
      " 33  MINIMUM_TRAFFIC_INDEX                               float64\n",
      " 34  MAXIMUM_TRAFFIC_INDEX                               float64\n",
      " 35  AVERAGE_TRAFFIC_INDEX                               float64\n",
      "dtypes: float64(23), int64(1), object(12)\n",
      "memory usage: 2.8+ GB\n"
     ]
    }
   ],
   "source": [
    "df.info()"
   ]
  },
  {
   "cell_type": "code",
   "execution_count": 5,
   "id": "0103e7b4-82b2-4a32-bd91-2d0ab09db493",
   "metadata": {},
   "outputs": [],
   "source": [
    "df.drop(\"Unnamed: 0\", axis=1, inplace=True)"
   ]
  },
  {
   "cell_type": "code",
   "execution_count": 6,
   "id": "e23bc8d4-3460-43ce-a272-27a534152a6e",
   "metadata": {},
   "outputs": [],
   "source": [
    "df[\"date\"] = pd.to_datetime(df[\"date\"])"
   ]
  },
  {
   "cell_type": "code",
   "execution_count": 7,
   "id": "0a49de08-474b-4783-bd11-61e1a447ecfe",
   "metadata": {},
   "outputs": [],
   "source": [
    "df[\"year\"] = df[\"date\"].apply(lambda x: x.year)\n",
    "df[\"month\"] = df[\"date\"].apply(lambda x: x.month)\n",
    "df[\"day\"] = df[\"date\"].apply(lambda x: x.day)"
   ]
  },
  {
   "cell_type": "code",
   "execution_count": 12,
   "id": "ffcb72b1-a106-46b2-a61d-9b61f0e0668f",
   "metadata": {},
   "outputs": [],
   "source": [
    "mobility_cols = ['retail_and_recreation_percent_change_from_baseline',\n",
    "                 'grocery_and_pharmacy_percent_change_from_baseline',\n",
    "                 'parks_percent_change_from_baseline',\n",
    "                 'transit_stations_percent_change_from_baseline',\n",
    "                 'workplaces_percent_change_from_baseline',\n",
    "                 'residential_percent_change_from_baseline']"
   ]
  },
  {
   "cell_type": "markdown",
   "id": "b2cc4da5-5e79-45d9-85eb-5fbfd24de7a0",
   "metadata": {},
   "source": [
    "<br><br><br>"
   ]
  },
  {
   "cell_type": "markdown",
   "id": "fee82459-27ed-43b9-b5d3-bd7d952319ba",
   "metadata": {
    "tags": []
   },
   "source": [
    "## 3. Clustering"
   ]
  },
  {
   "cell_type": "markdown",
   "id": "cca5dff0-3ae8-44b0-ac0e-69b77f8009d4",
   "metadata": {},
   "source": [
    "In this Section, we try to cluster countries based on their mobility changes. Google provides the mobility changes in six different categories. Using these categories, we can manage to cluster the countries. Then, we can show them on a map colored by their cluster groups and we try to find their common properties."
   ]
  },
  {
   "cell_type": "markdown",
   "id": "85696d85-6061-495e-9655-b6d36dabeb50",
   "metadata": {},
   "source": [
    "<br><br>"
   ]
  },
  {
   "cell_type": "markdown",
   "id": "a26d3c20-9c04-4373-b94b-3917f8686501",
   "metadata": {},
   "source": [
    "### 3.1. Data Cleaning"
   ]
  },
  {
   "cell_type": "markdown",
   "id": "028e114f-4838-4ab0-ae88-5501e17edc48",
   "metadata": {},
   "source": [
    "To begin with we should make an appropriate dataframe."
   ]
  },
  {
   "cell_type": "code",
   "execution_count": 58,
   "id": "fb27e4ca-f967-463c-8a63-f7751e5aa5e0",
   "metadata": {},
   "outputs": [],
   "source": [
    "df_bycountry = df.groupby(\"country_region\").mean()[mobility_cols]"
   ]
  },
  {
   "cell_type": "code",
   "execution_count": 59,
   "id": "d589acf2-5941-4091-8380-d7fab18823d1",
   "metadata": {},
   "outputs": [
    {
     "data": {
      "text/html": [
       "<div>\n",
       "<style scoped>\n",
       "    .dataframe tbody tr th:only-of-type {\n",
       "        vertical-align: middle;\n",
       "    }\n",
       "\n",
       "    .dataframe tbody tr th {\n",
       "        vertical-align: top;\n",
       "    }\n",
       "\n",
       "    .dataframe thead th {\n",
       "        text-align: right;\n",
       "    }\n",
       "</style>\n",
       "<table border=\"1\" class=\"dataframe\">\n",
       "  <thead>\n",
       "    <tr style=\"text-align: right;\">\n",
       "      <th></th>\n",
       "      <th>retail_and_recreation_percent_change_from_baseline</th>\n",
       "      <th>grocery_and_pharmacy_percent_change_from_baseline</th>\n",
       "      <th>parks_percent_change_from_baseline</th>\n",
       "      <th>transit_stations_percent_change_from_baseline</th>\n",
       "      <th>workplaces_percent_change_from_baseline</th>\n",
       "      <th>residential_percent_change_from_baseline</th>\n",
       "    </tr>\n",
       "    <tr>\n",
       "      <th>country_region</th>\n",
       "      <th></th>\n",
       "      <th></th>\n",
       "      <th></th>\n",
       "      <th></th>\n",
       "      <th></th>\n",
       "      <th></th>\n",
       "    </tr>\n",
       "  </thead>\n",
       "  <tbody>\n",
       "    <tr>\n",
       "      <th>Afghanistan</th>\n",
       "      <td>28.449121</td>\n",
       "      <td>68.016332</td>\n",
       "      <td>26.825093</td>\n",
       "      <td>-3.283099</td>\n",
       "      <td>-4.839829</td>\n",
       "      <td>4.635810</td>\n",
       "    </tr>\n",
       "    <tr>\n",
       "      <th>Angola</th>\n",
       "      <td>18.976477</td>\n",
       "      <td>24.420701</td>\n",
       "      <td>49.769917</td>\n",
       "      <td>-1.894737</td>\n",
       "      <td>-0.017139</td>\n",
       "      <td>4.293880</td>\n",
       "    </tr>\n",
       "    <tr>\n",
       "      <th>Antigua and Barbuda</th>\n",
       "      <td>1.362663</td>\n",
       "      <td>4.368609</td>\n",
       "      <td>59.826992</td>\n",
       "      <td>-34.857976</td>\n",
       "      <td>-26.130075</td>\n",
       "      <td>1.518855</td>\n",
       "    </tr>\n",
       "    <tr>\n",
       "      <th>Argentina</th>\n",
       "      <td>-21.459172</td>\n",
       "      <td>8.606587</td>\n",
       "      <td>-41.396810</td>\n",
       "      <td>-29.584405</td>\n",
       "      <td>2.255780</td>\n",
       "      <td>6.781469</td>\n",
       "    </tr>\n",
       "    <tr>\n",
       "      <th>Aruba</th>\n",
       "      <td>-5.042806</td>\n",
       "      <td>2.637337</td>\n",
       "      <td>30.442331</td>\n",
       "      <td>-38.437574</td>\n",
       "      <td>-13.986047</td>\n",
       "      <td>1.650474</td>\n",
       "    </tr>\n",
       "    <tr>\n",
       "      <th>...</th>\n",
       "      <td>...</td>\n",
       "      <td>...</td>\n",
       "      <td>...</td>\n",
       "      <td>...</td>\n",
       "      <td>...</td>\n",
       "      <td>...</td>\n",
       "    </tr>\n",
       "    <tr>\n",
       "      <th>Venezuela</th>\n",
       "      <td>-7.547344</td>\n",
       "      <td>23.178984</td>\n",
       "      <td>-3.151270</td>\n",
       "      <td>-25.554273</td>\n",
       "      <td>-4.401848</td>\n",
       "      <td>11.019630</td>\n",
       "    </tr>\n",
       "    <tr>\n",
       "      <th>Vietnam</th>\n",
       "      <td>-17.715051</td>\n",
       "      <td>-0.131074</td>\n",
       "      <td>-13.024684</td>\n",
       "      <td>-21.629142</td>\n",
       "      <td>-9.456364</td>\n",
       "      <td>-1.952603</td>\n",
       "    </tr>\n",
       "    <tr>\n",
       "      <th>Yemen</th>\n",
       "      <td>54.060116</td>\n",
       "      <td>72.262125</td>\n",
       "      <td>72.439952</td>\n",
       "      <td>28.506540</td>\n",
       "      <td>19.899538</td>\n",
       "      <td>2.265589</td>\n",
       "    </tr>\n",
       "    <tr>\n",
       "      <th>Zambia</th>\n",
       "      <td>27.199192</td>\n",
       "      <td>34.838915</td>\n",
       "      <td>52.109925</td>\n",
       "      <td>3.204388</td>\n",
       "      <td>4.608545</td>\n",
       "      <td>9.767898</td>\n",
       "    </tr>\n",
       "    <tr>\n",
       "      <th>Zimbabwe</th>\n",
       "      <td>21.571829</td>\n",
       "      <td>39.811437</td>\n",
       "      <td>19.740707</td>\n",
       "      <td>13.270467</td>\n",
       "      <td>12.551483</td>\n",
       "      <td>7.554667</td>\n",
       "    </tr>\n",
       "  </tbody>\n",
       "</table>\n",
       "<p>135 rows × 6 columns</p>\n",
       "</div>"
      ],
      "text/plain": [
       "                     retail_and_recreation_percent_change_from_baseline  \\\n",
       "country_region                                                            \n",
       "Afghanistan                                                  28.449121    \n",
       "Angola                                                       18.976477    \n",
       "Antigua and Barbuda                                           1.362663    \n",
       "Argentina                                                   -21.459172    \n",
       "Aruba                                                        -5.042806    \n",
       "...                                                                ...    \n",
       "Venezuela                                                    -7.547344    \n",
       "Vietnam                                                     -17.715051    \n",
       "Yemen                                                        54.060116    \n",
       "Zambia                                                       27.199192    \n",
       "Zimbabwe                                                     21.571829    \n",
       "\n",
       "                     grocery_and_pharmacy_percent_change_from_baseline  \\\n",
       "country_region                                                           \n",
       "Afghanistan                                                  68.016332   \n",
       "Angola                                                       24.420701   \n",
       "Antigua and Barbuda                                           4.368609   \n",
       "Argentina                                                     8.606587   \n",
       "Aruba                                                         2.637337   \n",
       "...                                                                ...   \n",
       "Venezuela                                                    23.178984   \n",
       "Vietnam                                                      -0.131074   \n",
       "Yemen                                                        72.262125   \n",
       "Zambia                                                       34.838915   \n",
       "Zimbabwe                                                     39.811437   \n",
       "\n",
       "                     parks_percent_change_from_baseline  \\\n",
       "country_region                                            \n",
       "Afghanistan                                   26.825093   \n",
       "Angola                                        49.769917   \n",
       "Antigua and Barbuda                           59.826992   \n",
       "Argentina                                    -41.396810   \n",
       "Aruba                                         30.442331   \n",
       "...                                                 ...   \n",
       "Venezuela                                     -3.151270   \n",
       "Vietnam                                      -13.024684   \n",
       "Yemen                                         72.439952   \n",
       "Zambia                                        52.109925   \n",
       "Zimbabwe                                      19.740707   \n",
       "\n",
       "                     transit_stations_percent_change_from_baseline  \\\n",
       "country_region                                                       \n",
       "Afghanistan                                              -3.283099   \n",
       "Angola                                                   -1.894737   \n",
       "Antigua and Barbuda                                     -34.857976   \n",
       "Argentina                                               -29.584405   \n",
       "Aruba                                                   -38.437574   \n",
       "...                                                            ...   \n",
       "Venezuela                                               -25.554273   \n",
       "Vietnam                                                 -21.629142   \n",
       "Yemen                                                    28.506540   \n",
       "Zambia                                                    3.204388   \n",
       "Zimbabwe                                                 13.270467   \n",
       "\n",
       "                     workplaces_percent_change_from_baseline  \\\n",
       "country_region                                                 \n",
       "Afghanistan                                        -4.839829   \n",
       "Angola                                             -0.017139   \n",
       "Antigua and Barbuda                               -26.130075   \n",
       "Argentina                                           2.255780   \n",
       "Aruba                                             -13.986047   \n",
       "...                                                      ...   \n",
       "Venezuela                                          -4.401848   \n",
       "Vietnam                                            -9.456364   \n",
       "Yemen                                              19.899538   \n",
       "Zambia                                              4.608545   \n",
       "Zimbabwe                                           12.551483   \n",
       "\n",
       "                     residential_percent_change_from_baseline  \n",
       "country_region                                                 \n",
       "Afghanistan                                          4.635810  \n",
       "Angola                                               4.293880  \n",
       "Antigua and Barbuda                                  1.518855  \n",
       "Argentina                                            6.781469  \n",
       "Aruba                                                1.650474  \n",
       "...                                                       ...  \n",
       "Venezuela                                           11.019630  \n",
       "Vietnam                                             -1.952603  \n",
       "Yemen                                                2.265589  \n",
       "Zambia                                               9.767898  \n",
       "Zimbabwe                                             7.554667  \n",
       "\n",
       "[135 rows x 6 columns]"
      ]
     },
     "execution_count": 59,
     "metadata": {},
     "output_type": "execute_result"
    }
   ],
   "source": [
    "df_bycountry"
   ]
  },
  {
   "cell_type": "code",
   "execution_count": 60,
   "id": "1cbb4a29-c46e-4dd3-a6e7-1bc5d7ab65a4",
   "metadata": {},
   "outputs": [
    {
     "data": {
      "text/plain": [
       "retail_and_recreation_percent_change_from_baseline    0\n",
       "grocery_and_pharmacy_percent_change_from_baseline     0\n",
       "parks_percent_change_from_baseline                    1\n",
       "transit_stations_percent_change_from_baseline         1\n",
       "workplaces_percent_change_from_baseline               0\n",
       "residential_percent_change_from_baseline              3\n",
       "dtype: int64"
      ]
     },
     "execution_count": 60,
     "metadata": {},
     "output_type": "execute_result"
    }
   ],
   "source": [
    "df_bycountry.isnull().sum()"
   ]
  },
  {
   "cell_type": "code",
   "execution_count": 61,
   "id": "a0cf0ac0-621d-4b70-9262-5e95ebd88bdf",
   "metadata": {},
   "outputs": [],
   "source": [
    "df_bycountry.dropna(axis=0,inplace=True)"
   ]
  },
  {
   "cell_type": "code",
   "execution_count": 62,
   "id": "97bd5d17-4a1d-4baa-b3af-eaa70b260ad1",
   "metadata": {},
   "outputs": [
    {
     "data": {
      "text/html": [
       "<div>\n",
       "<style scoped>\n",
       "    .dataframe tbody tr th:only-of-type {\n",
       "        vertical-align: middle;\n",
       "    }\n",
       "\n",
       "    .dataframe tbody tr th {\n",
       "        vertical-align: top;\n",
       "    }\n",
       "\n",
       "    .dataframe thead th {\n",
       "        text-align: right;\n",
       "    }\n",
       "</style>\n",
       "<table border=\"1\" class=\"dataframe\">\n",
       "  <thead>\n",
       "    <tr style=\"text-align: right;\">\n",
       "      <th></th>\n",
       "      <th>count</th>\n",
       "      <th>mean</th>\n",
       "      <th>std</th>\n",
       "      <th>min</th>\n",
       "      <th>25%</th>\n",
       "      <th>50%</th>\n",
       "      <th>75%</th>\n",
       "      <th>max</th>\n",
       "    </tr>\n",
       "  </thead>\n",
       "  <tbody>\n",
       "    <tr>\n",
       "      <th>retail_and_recreation_percent_change_from_baseline</th>\n",
       "      <td>132.0</td>\n",
       "      <td>-5.101199</td>\n",
       "      <td>16.583020</td>\n",
       "      <td>-41.087375</td>\n",
       "      <td>-16.100020</td>\n",
       "      <td>-8.791580</td>\n",
       "      <td>0.905924</td>\n",
       "      <td>59.693382</td>\n",
       "    </tr>\n",
       "    <tr>\n",
       "      <th>grocery_and_pharmacy_percent_change_from_baseline</th>\n",
       "      <td>132.0</td>\n",
       "      <td>15.178603</td>\n",
       "      <td>22.070142</td>\n",
       "      <td>-21.852194</td>\n",
       "      <td>1.954099</td>\n",
       "      <td>9.706435</td>\n",
       "      <td>20.457837</td>\n",
       "      <td>100.651521</td>\n",
       "    </tr>\n",
       "    <tr>\n",
       "      <th>parks_percent_change_from_baseline</th>\n",
       "      <td>132.0</td>\n",
       "      <td>12.238088</td>\n",
       "      <td>30.670555</td>\n",
       "      <td>-45.326790</td>\n",
       "      <td>-12.538152</td>\n",
       "      <td>10.667382</td>\n",
       "      <td>31.227068</td>\n",
       "      <td>100.857491</td>\n",
       "    </tr>\n",
       "    <tr>\n",
       "      <th>transit_stations_percent_change_from_baseline</th>\n",
       "      <td>132.0</td>\n",
       "      <td>-13.022909</td>\n",
       "      <td>18.953696</td>\n",
       "      <td>-47.611017</td>\n",
       "      <td>-26.779628</td>\n",
       "      <td>-16.766521</td>\n",
       "      <td>-3.059908</td>\n",
       "      <td>46.211894</td>\n",
       "    </tr>\n",
       "    <tr>\n",
       "      <th>workplaces_percent_change_from_baseline</th>\n",
       "      <td>132.0</td>\n",
       "      <td>-11.604915</td>\n",
       "      <td>11.796983</td>\n",
       "      <td>-33.149731</td>\n",
       "      <td>-20.869389</td>\n",
       "      <td>-14.315261</td>\n",
       "      <td>-4.730334</td>\n",
       "      <td>23.876744</td>\n",
       "    </tr>\n",
       "    <tr>\n",
       "      <th>residential_percent_change_from_baseline</th>\n",
       "      <td>132.0</td>\n",
       "      <td>6.083415</td>\n",
       "      <td>4.486592</td>\n",
       "      <td>-3.869515</td>\n",
       "      <td>3.426365</td>\n",
       "      <td>5.638434</td>\n",
       "      <td>8.496928</td>\n",
       "      <td>19.661830</td>\n",
       "    </tr>\n",
       "  </tbody>\n",
       "</table>\n",
       "</div>"
      ],
      "text/plain": [
       "                                                    count       mean  \\\n",
       "retail_and_recreation_percent_change_from_baseline  132.0  -5.101199   \n",
       "grocery_and_pharmacy_percent_change_from_baseline   132.0  15.178603   \n",
       "parks_percent_change_from_baseline                  132.0  12.238088   \n",
       "transit_stations_percent_change_from_baseline       132.0 -13.022909   \n",
       "workplaces_percent_change_from_baseline             132.0 -11.604915   \n",
       "residential_percent_change_from_baseline            132.0   6.083415   \n",
       "\n",
       "                                                          std        min  \\\n",
       "retail_and_recreation_percent_change_from_baseline  16.583020 -41.087375   \n",
       "grocery_and_pharmacy_percent_change_from_baseline   22.070142 -21.852194   \n",
       "parks_percent_change_from_baseline                  30.670555 -45.326790   \n",
       "transit_stations_percent_change_from_baseline       18.953696 -47.611017   \n",
       "workplaces_percent_change_from_baseline             11.796983 -33.149731   \n",
       "residential_percent_change_from_baseline             4.486592  -3.869515   \n",
       "\n",
       "                                                          25%        50%  \\\n",
       "retail_and_recreation_percent_change_from_baseline -16.100020  -8.791580   \n",
       "grocery_and_pharmacy_percent_change_from_baseline    1.954099   9.706435   \n",
       "parks_percent_change_from_baseline                 -12.538152  10.667382   \n",
       "transit_stations_percent_change_from_baseline      -26.779628 -16.766521   \n",
       "workplaces_percent_change_from_baseline            -20.869389 -14.315261   \n",
       "residential_percent_change_from_baseline             3.426365   5.638434   \n",
       "\n",
       "                                                          75%         max  \n",
       "retail_and_recreation_percent_change_from_baseline   0.905924   59.693382  \n",
       "grocery_and_pharmacy_percent_change_from_baseline   20.457837  100.651521  \n",
       "parks_percent_change_from_baseline                  31.227068  100.857491  \n",
       "transit_stations_percent_change_from_baseline       -3.059908   46.211894  \n",
       "workplaces_percent_change_from_baseline             -4.730334   23.876744  \n",
       "residential_percent_change_from_baseline             8.496928   19.661830  "
      ]
     },
     "execution_count": 62,
     "metadata": {},
     "output_type": "execute_result"
    }
   ],
   "source": [
    "df_bycountry.describe().T"
   ]
  },
  {
   "cell_type": "markdown",
   "id": "cee5b3de-8e03-47c3-b4a8-a1e98654a58a",
   "metadata": {},
   "source": [
    "<br><br>"
   ]
  },
  {
   "cell_type": "markdown",
   "id": "d68ddb1c-107e-4c32-8c81-61dc604ca665",
   "metadata": {},
   "source": [
    "### 3.2. Clustering Process"
   ]
  },
  {
   "cell_type": "markdown",
   "id": "c67ff928-2e9a-4376-af9a-0e987b80e890",
   "metadata": {},
   "source": [
    "#### 3.2.1. Data Scaling"
   ]
  },
  {
   "cell_type": "code",
   "execution_count": 63,
   "id": "cc209632-74ec-4fe7-a1c3-2715a70be353",
   "metadata": {},
   "outputs": [],
   "source": [
    "from sklearn.preprocessing import StandardScaler\n",
    "scaler = StandardScaler()\n",
    "scaled_X = scaler.fit_transform(df_bycountry)"
   ]
  },
  {
   "cell_type": "markdown",
   "id": "ec935b18-c887-4d7a-a5cc-41ca029b5264",
   "metadata": {},
   "source": [
    "<br><br>"
   ]
  },
  {
   "cell_type": "markdown",
   "id": "73859b25-47a5-4a27-99ef-859b5839a508",
   "metadata": {},
   "source": [
    "#### 3.2.2. Determination of Number of Clusters"
   ]
  },
  {
   "cell_type": "code",
   "execution_count": 64,
   "id": "f2b1b5dc-0ef5-47af-af7c-f150204fc6e8",
   "metadata": {},
   "outputs": [],
   "source": [
    "from sklearn.cluster import KMeans"
   ]
  },
  {
   "cell_type": "code",
   "execution_count": 65,
   "id": "5c46a9fc-a42a-442d-8c1b-1b489c9a842e",
   "metadata": {},
   "outputs": [],
   "source": [
    "ssd = []\n",
    "\n",
    "for k in range(2,60,2):\n",
    "    \n",
    "    model = KMeans(n_clusters=k)\n",
    "    \n",
    "    \n",
    "    model.fit(scaled_X)\n",
    "    \n",
    "    #Sum of squared distances of samples to their closest cluster center.\n",
    "    ssd.append(model.inertia_)"
   ]
  },
  {
   "cell_type": "code",
   "execution_count": 66,
   "id": "8e1671e1-b727-4b3a-9fc5-518f66a4abce",
   "metadata": {},
   "outputs": [
    {
     "data": {
      "text/plain": [
       "Text(0, 0.5, ' Sum of Squared Distances')"
      ]
     },
     "execution_count": 66,
     "metadata": {},
     "output_type": "execute_result"
    },
    {
     "data": {
      "image/png": "[encoded data removed]",
      "text/plain": [
       "<Figure size 432x288 with 1 Axes>"
      ]
     },
     "metadata": {
      "needs_background": "light"
     },
     "output_type": "display_data"
    }
   ],
   "source": [
    "plt.plot(range(2,60,2),ssd,'o--')\n",
    "plt.xlabel(\"K Value\")\n",
    "plt.ylabel(\" Sum of Squared Distances\")"
   ]
  },
  {
   "cell_type": "markdown",
   "id": "f82a46b6-9bbf-4b7b-8b4f-1b57b297f93f",
   "metadata": {},
   "source": [
    "We can decide number of clusters using the above Figure with elbow method that is selecting the number of K where sharp decrease in SSE occurs. In this case, there is no sharp decrease. Therefore, we can select any appropriate value."
   ]
  },
  {
   "cell_type": "markdown",
   "id": "b60b702b-41c8-4c73-8972-09e99f5e3e95",
   "metadata": {},
   "source": [
    "<br><br>"
   ]
  },
  {
   "cell_type": "markdown",
   "id": "568394f5-8803-4478-8ff4-17a8ebb63df5",
   "metadata": {},
   "source": [
    "#### 3.2.3. KMeans Clustering"
   ]
  },
  {
   "cell_type": "code",
   "execution_count": 67,
   "id": "2c52f932-51fe-4945-8a94-7ee5892ea605",
   "metadata": {},
   "outputs": [
    {
     "data": {
      "text/plain": [
       "KMeans(n_clusters=15, random_state=101)"
      ]
     },
     "execution_count": 67,
     "metadata": {},
     "output_type": "execute_result"
    }
   ],
   "source": [
    "model = KMeans(n_clusters=15, random_state=101)\n",
    "model.fit(scaled_X)"
   ]
  },
  {
   "cell_type": "code",
   "execution_count": 68,
   "id": "5b07e817-3155-4908-9720-9ab5f3908a14",
   "metadata": {},
   "outputs": [],
   "source": [
    "df_bycountry['Clusters'] = model.labels_"
   ]
  },
  {
   "cell_type": "code",
   "execution_count": 69,
   "id": "046e281f-d799-4769-938c-9796308f6e66",
   "metadata": {},
   "outputs": [
    {
     "name": "stderr",
     "output_type": "stream",
     "text": [
      "/Users/sevdeaydin/opt/anaconda3/lib/python3.9/site-packages/seaborn/_decorators.py:36: FutureWarning:\n",
      "\n",
      "Pass the following variables as keyword args: x, y. From version 0.12, the only valid positional argument will be `data`, and passing other arguments without an explicit keyword will result in an error or misinterpretation.\n",
      "\n"
     ]
    },
    {
     "data": {
      "image/png": "[encoded data removed]",
      "text/plain": [
       "<Figure size 576x288 with 1 Axes>"
      ]
     },
     "metadata": {
      "needs_background": "light"
     },
     "output_type": "display_data"
    }
   ],
   "source": [
    "plt.figure(figsize=(8,4))\n",
    "sns.barplot(df_bycountry.corr()['Clusters'].sort_values().index[:-1], df_bycountry.corr()['Clusters'].sort_values().values[:-1])\n",
    "plt.xticks(rotation=90);"
   ]
  },
  {
   "cell_type": "markdown",
   "id": "f58fc4f5-0e6f-472f-964c-2209e4047f87",
   "metadata": {},
   "source": [
    "#### 3.2.4. Map Graph"
   ]
  },
  {
   "cell_type": "code",
   "execution_count": 70,
   "id": "bc8f1617-a9aa-4da7-9f2c-0e323dd29eed",
   "metadata": {},
   "outputs": [],
   "source": [
    "iso_codes = pd.read_csv(\"../Traffic Studies/country_iso_codes.csv\")"
   ]
  },
  {
   "cell_type": "code",
   "execution_count": 71,
   "id": "89535ef4-693d-4b58-b5f8-2508fb785b7a",
   "metadata": {},
   "outputs": [
    {
     "data": {
      "text/html": [
       "<div>\n",
       "<style scoped>\n",
       "    .dataframe tbody tr th:only-of-type {\n",
       "        vertical-align: middle;\n",
       "    }\n",
       "\n",
       "    .dataframe tbody tr th {\n",
       "        vertical-align: top;\n",
       "    }\n",
       "\n",
       "    .dataframe thead th {\n",
       "        text-align: right;\n",
       "    }\n",
       "</style>\n",
       "<table border=\"1\" class=\"dataframe\">\n",
       "  <thead>\n",
       "    <tr style=\"text-align: right;\">\n",
       "      <th></th>\n",
       "      <th>Country</th>\n",
       "      <th>ISO Code</th>\n",
       "    </tr>\n",
       "  </thead>\n",
       "  <tbody>\n",
       "    <tr>\n",
       "      <th>0</th>\n",
       "      <td>Afghanistan</td>\n",
       "      <td>AFG</td>\n",
       "    </tr>\n",
       "    <tr>\n",
       "      <th>1</th>\n",
       "      <td>Akrotiri and Dhekelia – See United Kingdom, The</td>\n",
       "      <td>Akrotiri and Dhekelia – See United Kingdom, The</td>\n",
       "    </tr>\n",
       "    <tr>\n",
       "      <th>2</th>\n",
       "      <td>Åland Islands</td>\n",
       "      <td>ALA</td>\n",
       "    </tr>\n",
       "    <tr>\n",
       "      <th>3</th>\n",
       "      <td>Albania</td>\n",
       "      <td>ALB</td>\n",
       "    </tr>\n",
       "    <tr>\n",
       "      <th>4</th>\n",
       "      <td>Algeria</td>\n",
       "      <td>DZA</td>\n",
       "    </tr>\n",
       "  </tbody>\n",
       "</table>\n",
       "</div>"
      ],
      "text/plain": [
       "                                           Country  \\\n",
       "0                                      Afghanistan   \n",
       "1  Akrotiri and Dhekelia – See United Kingdom, The   \n",
       "2                                    Åland Islands   \n",
       "3                                          Albania   \n",
       "4                                          Algeria   \n",
       "\n",
       "                                          ISO Code  \n",
       "0                                              AFG  \n",
       "1  Akrotiri and Dhekelia – See United Kingdom, The  \n",
       "2                                              ALA  \n",
       "3                                              ALB  \n",
       "4                                              DZA  "
      ]
     },
     "execution_count": 71,
     "metadata": {},
     "output_type": "execute_result"
    }
   ],
   "source": [
    "iso_codes.head()"
   ]
  },
  {
   "cell_type": "code",
   "execution_count": 72,
   "id": "29c55b50-974d-4320-9b3c-27cbac1eebdc",
   "metadata": {},
   "outputs": [],
   "source": [
    "df_bycountry = df_bycountry.merge(iso_codes, how=\"left\", left_on= \"country_region\" , right_on=\"Country\")"
   ]
  },
  {
   "cell_type": "code",
   "execution_count": 73,
   "id": "cb39357e-2c5d-4650-a5be-8c55d8b158bf",
   "metadata": {},
   "outputs": [
    {
     "data": {
      "text/html": [
       "<div>\n",
       "<style scoped>\n",
       "    .dataframe tbody tr th:only-of-type {\n",
       "        vertical-align: middle;\n",
       "    }\n",
       "\n",
       "    .dataframe tbody tr th {\n",
       "        vertical-align: top;\n",
       "    }\n",
       "\n",
       "    .dataframe thead th {\n",
       "        text-align: right;\n",
       "    }\n",
       "</style>\n",
       "<table border=\"1\" class=\"dataframe\">\n",
       "  <thead>\n",
       "    <tr style=\"text-align: right;\">\n",
       "      <th></th>\n",
       "      <th>retail_and_recreation_percent_change_from_baseline</th>\n",
       "      <th>grocery_and_pharmacy_percent_change_from_baseline</th>\n",
       "      <th>parks_percent_change_from_baseline</th>\n",
       "      <th>transit_stations_percent_change_from_baseline</th>\n",
       "      <th>workplaces_percent_change_from_baseline</th>\n",
       "      <th>residential_percent_change_from_baseline</th>\n",
       "      <th>Clusters</th>\n",
       "      <th>Country</th>\n",
       "      <th>ISO Code</th>\n",
       "    </tr>\n",
       "  </thead>\n",
       "  <tbody>\n",
       "    <tr>\n",
       "      <th>0</th>\n",
       "      <td>28.449121</td>\n",
       "      <td>68.016332</td>\n",
       "      <td>26.825093</td>\n",
       "      <td>-3.283099</td>\n",
       "      <td>-4.839829</td>\n",
       "      <td>4.635810</td>\n",
       "      <td>10</td>\n",
       "      <td>Afghanistan</td>\n",
       "      <td>AFG</td>\n",
       "    </tr>\n",
       "    <tr>\n",
       "      <th>1</th>\n",
       "      <td>18.976477</td>\n",
       "      <td>24.420701</td>\n",
       "      <td>49.769917</td>\n",
       "      <td>-1.894737</td>\n",
       "      <td>-0.017139</td>\n",
       "      <td>4.293880</td>\n",
       "      <td>5</td>\n",
       "      <td>Angola</td>\n",
       "      <td>AGO</td>\n",
       "    </tr>\n",
       "    <tr>\n",
       "      <th>2</th>\n",
       "      <td>1.362663</td>\n",
       "      <td>4.368609</td>\n",
       "      <td>59.826992</td>\n",
       "      <td>-34.857976</td>\n",
       "      <td>-26.130075</td>\n",
       "      <td>1.518855</td>\n",
       "      <td>13</td>\n",
       "      <td>Antigua and Barbuda</td>\n",
       "      <td>ATG</td>\n",
       "    </tr>\n",
       "    <tr>\n",
       "      <th>3</th>\n",
       "      <td>-21.459172</td>\n",
       "      <td>8.606587</td>\n",
       "      <td>-41.396810</td>\n",
       "      <td>-29.584405</td>\n",
       "      <td>2.255780</td>\n",
       "      <td>6.781469</td>\n",
       "      <td>7</td>\n",
       "      <td>Argentina</td>\n",
       "      <td>ARG</td>\n",
       "    </tr>\n",
       "    <tr>\n",
       "      <th>4</th>\n",
       "      <td>-5.042806</td>\n",
       "      <td>2.637337</td>\n",
       "      <td>30.442331</td>\n",
       "      <td>-38.437574</td>\n",
       "      <td>-13.986047</td>\n",
       "      <td>1.650474</td>\n",
       "      <td>13</td>\n",
       "      <td>Aruba</td>\n",
       "      <td>ABW</td>\n",
       "    </tr>\n",
       "  </tbody>\n",
       "</table>\n",
       "</div>"
      ],
      "text/plain": [
       "   retail_and_recreation_percent_change_from_baseline  \\\n",
       "0                                          28.449121    \n",
       "1                                          18.976477    \n",
       "2                                           1.362663    \n",
       "3                                         -21.459172    \n",
       "4                                          -5.042806    \n",
       "\n",
       "   grocery_and_pharmacy_percent_change_from_baseline  \\\n",
       "0                                          68.016332   \n",
       "1                                          24.420701   \n",
       "2                                           4.368609   \n",
       "3                                           8.606587   \n",
       "4                                           2.637337   \n",
       "\n",
       "   parks_percent_change_from_baseline  \\\n",
       "0                           26.825093   \n",
       "1                           49.769917   \n",
       "2                           59.826992   \n",
       "3                          -41.396810   \n",
       "4                           30.442331   \n",
       "\n",
       "   transit_stations_percent_change_from_baseline  \\\n",
       "0                                      -3.283099   \n",
       "1                                      -1.894737   \n",
       "2                                     -34.857976   \n",
       "3                                     -29.584405   \n",
       "4                                     -38.437574   \n",
       "\n",
       "   workplaces_percent_change_from_baseline  \\\n",
       "0                                -4.839829   \n",
       "1                                -0.017139   \n",
       "2                               -26.130075   \n",
       "3                                 2.255780   \n",
       "4                               -13.986047   \n",
       "\n",
       "   residential_percent_change_from_baseline  Clusters              Country  \\\n",
       "0                                  4.635810        10          Afghanistan   \n",
       "1                                  4.293880         5               Angola   \n",
       "2                                  1.518855        13  Antigua and Barbuda   \n",
       "3                                  6.781469         7            Argentina   \n",
       "4                                  1.650474        13                Aruba   \n",
       "\n",
       "  ISO Code  \n",
       "0      AFG  \n",
       "1      AGO  \n",
       "2      ATG  \n",
       "3      ARG  \n",
       "4      ABW  "
      ]
     },
     "execution_count": 73,
     "metadata": {},
     "output_type": "execute_result"
    }
   ],
   "source": [
    "df_bycountry.head()"
   ]
  },
  {
   "cell_type": "code",
   "execution_count": 92,
   "id": "09f6f36f-418f-4177-8ddc-68873aa7a062",
   "metadata": {},
   "outputs": [
    {
     "data": {
      "application/vnd.plotly.v1+json": {
       "config": {
        "plotlyServerURL": "https://plot.ly"
       },
       "data": [
        {
         "coloraxis": "coloraxis",
         "geo": "geo",
         "hovertemplate": "<b>%{hovertext}</b><br><br>ISO Code=%{location}<br>Clusters=%{z}<extra></extra>",
         "hovertext": [
          "Afghanistan",
          "Angola",
          "Antigua and Barbuda",
          "Argentina",
          "Aruba",
          "Australia",
          "Austria",
          "Bahrain",
          "Bangladesh",
          "Barbados",
          "Belarus",
          "Belgium",
          "Belize",
          "Benin",
          "Bolivia",
          "Bosnia and Herzegovina",
          "Botswana",
          "Brazil",
          "Bulgaria",
          "Burkina Faso",
          "Cambodia",
          "Cameroon",
          "Canada",
          null,
          "Chile",
          "Colombia",
          "Costa Rica",
          "Croatia",
          null,
          null,
          "Denmark",
          null,
          "Ecuador",
          "Egypt",
          "El Salvador",
          "Estonia",
          "Fiji",
          "Finland",
          "France",
          "Gabon",
          "Georgia",
          "Germany",
          "Ghana",
          "Greece",
          "Guatemala",
          "Haiti",
          "Honduras",
          "Hong Kong",
          "Hungary",
          "India",
          "Indonesia",
          "Iraq",
          "Ireland",
          "Israel",
          "Italy",
          "Jamaica",
          "Japan",
          "Jordan",
          "Kazakhstan",
          "Kenya",
          "Kuwait",
          "Kyrgyzstan",
          "Laos",
          "Latvia",
          "Lebanon",
          "Libya",
          "Lithuania",
          "Luxembourg",
          "Malaysia",
          "Mali",
          "Malta",
          "Mauritius",
          "Mexico",
          null,
          "Mongolia",
          "Morocco",
          "Mozambique",
          null,
          "Namibia",
          "Nepal",
          null,
          "New Zealand",
          "Nicaragua",
          "Niger",
          "Nigeria",
          null,
          "Norway",
          "Oman",
          "Pakistan",
          "Panama",
          "Papua New Guinea",
          "Paraguay",
          "Peru",
          null,
          "Poland",
          "Portugal",
          "Puerto Rico",
          "Qatar",
          "Romania",
          "Russia",
          "Rwanda",
          "Saudi Arabia",
          "Senegal",
          "Serbia",
          "Singapore",
          "Slovakia",
          "Slovenia",
          "South Africa",
          null,
          "Spain",
          "Sri Lanka",
          "Sweden",
          "Switzerland",
          null,
          "Tajikistan",
          "Tanzania",
          "Thailand",
          null,
          "Togo",
          "Trinidad and Tobago",
          "Turkey",
          "Uganda",
          "Ukraine",
          null,
          "United Kingdom",
          "United States",
          "Uruguay",
          "Venezuela",
          "Vietnam",
          "Yemen",
          "Zambia",
          "Zimbabwe"
         ],
         "locations": [
          "AFG",
          "AGO",
          "ATG",
          "ARG",
          "ABW",
          "AUS",
          "AUT",
          "BHR",
          "BGD",
          "BRB",
          "BLR",
          "BEL",
          "BLZ",
          "BEN",
          "BOL",
          "BIH",
          "BWA",
          "BRA",
          "BGR",
          "BFA",
          "KHM",
          "CMR",
          "CAN",
          null,
          "CHL",
          "COL",
          "CRI",
          "HRV",
          null,
          null,
          "DNK",
          null,
          "ECU",
          "EGY",
          "SLV",
          "EST",
          "FJI",
          "FIN",
          "FRA",
          "GAB",
          "GEO",
          "DEU",
          "GHA",
          "GRC",
          "GTM",
          "HTI",
          "HND",
          "HKG",
          "HUN",
          "IND",
          "IDN",
          "IRQ",
          "IRL",
          "ISR",
          "ITA",
          "JAM",
          "JPN",
          "JOR",
          "KAZ",
          "KEN",
          "KWT",
          "KGZ",
          "LAO",
          "LVA",
          "LBN",
          "LBY",
          "LTU",
          "LUX",
          "MYS",
          "MLI",
          "MLT",
          "MUS",
          "MEX",
          null,
          "MNG",
          "MAR",
          "MOZ",
          null,
          "NAM",
          "NPL",
          null,
          "NZL",
          "NIC",
          "NER",
          "NGA",
          null,
          "NOR",
          "OMN",
          "PAK",
          "PAN",
          "PNG",
          "PRY",
          "PER",
          null,
          "POL",
          "PRT",
          "PRI",
          "QAT",
          "ROU",
          "RUS",
          "RWA",
          "SAU",
          "SEN",
          "SRB",
          "SGP",
          "SVK",
          "SVN",
          "ZAF",
          null,
          "ESP",
          "LKA",
          "SWE",
          "CHE",
          null,
          "TJK",
          "TZA",
          "THA",
          null,
          "TGO",
          "TTO",
          "TUR",
          "UGA",
          "UKR",
          null,
          "GBR",
          "USA",
          "URY",
          "VEN",
          "VNM",
          "YEM",
          "ZMB",
          "ZWE"
         ],
         "name": "",
         "type": "choropleth",
         "z": [
          10,
          5,
          13,
          7,
          13,
          7,
          3,
          7,
          11,
          0,
          6,
          3,
          3,
          10,
          7,
          6,
          5,
          7,
          6,
          12,
          8,
          11,
          13,
          0,
          7,
          7,
          0,
          1,
          1,
          11,
          13,
          0,
          4,
          10,
          4,
          1,
          7,
          13,
          1,
          1,
          6,
          13,
          9,
          1,
          7,
          4,
          0,
          7,
          1,
          9,
          4,
          2,
          3,
          3,
          3,
          0,
          4,
          0,
          6,
          11,
          8,
          6,
          0,
          3,
          6,
          12,
          1,
          3,
          8,
          5,
          3,
          0,
          7,
          6,
          2,
          7,
          4,
          8,
          4,
          1,
          3,
          7,
          4,
          11,
          9,
          6,
          13,
          0,
          11,
          8,
          2,
          7,
          8,
          8,
          1,
          3,
          0,
          4,
          6,
          6,
          14,
          4,
          4,
          6,
          8,
          3,
          0,
          9,
          1,
          3,
          8,
          13,
          3,
          7,
          0,
          11,
          0,
          0,
          5,
          0,
          1,
          7,
          6,
          7,
          3,
          1,
          7,
          7,
          6,
          12,
          5,
          11
         ]
        }
       ],
       "layout": {
        "autosize": true,
        "coloraxis": {
         "colorbar": {
          "title": {
           "text": "Clusters"
          }
         },
         "colorscale": [
          [
           0,
           "#30123b"
          ],
          [
           0.07142857142857142,
           "#4145ab"
          ],
          [
           0.14285714285714285,
           "#4675ed"
          ],
          [
           0.21428571428571427,
           "#39a2fc"
          ],
          [
           0.2857142857142857,
           "#1bcfd4"
          ],
          [
           0.35714285714285715,
           "#24eca6"
          ],
          [
           0.42857142857142855,
           "#61fc6c"
          ],
          [
           0.5,
           "#a4fc3b"
          ],
          [
           0.5714285714285714,
           "#d1e834"
          ],
          [
           0.6428571428571429,
           "#f3c63a"
          ],
          [
           0.7142857142857143,
           "#fe9b2d"
          ],
          [
           0.7857142857142857,
           "#f36315"
          ],
          [
           0.8571428571428571,
           "#d93806"
          ],
          [
           0.9285714285714286,
           "#b11901"
          ],
          [
           1,
           "#7a0402"
          ]
         ]
        },
        "geo": {
         "center": {},
         "domain": {
          "x": [
           0,
           1
          ],
          "y": [
           0,
           1
          ]
         }
        },
        "legend": {
         "tracegroupgap": 0
        },
        "margin": {
         "t": 60
        },
        "template": {
         "data": {
          "bar": [
           {
            "error_x": {
             "color": "#2a3f5f"
            },
            "error_y": {
             "color": "#2a3f5f"
            },
            "marker": {
             "line": {
              "color": "#E5ECF6",
              "width": 0.5
             },
             "pattern": {
              "fillmode": "overlay",
              "size": 10,
              "solidity": 0.2
             }
            },
            "type": "bar"
           }
          ],
          "barpolar": [
           {
            "marker": {
             "line": {
              "color": "#E5ECF6",
              "width": 0.5
             },
             "pattern": {
              "fillmode": "overlay",
              "size": 10,
              "solidity": 0.2
             }
            },
            "type": "barpolar"
           }
          ],
          "carpet": [
           {
            "aaxis": {
             "endlinecolor": "#2a3f5f",
             "gridcolor": "white",
             "linecolor": "white",
             "minorgridcolor": "white",
             "startlinecolor": "#2a3f5f"
            },
            "baxis": {
             "endlinecolor": "#2a3f5f",
             "gridcolor": "white",
             "linecolor": "white",
             "minorgridcolor": "white",
             "startlinecolor": "#2a3f5f"
            },
            "type": "carpet"
           }
          ],
          "choropleth": [
           {
            "colorbar": {
             "outlinewidth": 0,
             "ticks": ""
            },
            "type": "choropleth"
           }
          ],
          "contour": [
           {
            "colorbar": {
             "outlinewidth": 0,
             "ticks": ""
            },
            "colorscale": [
             [
              0,
              "#0d0887"
             ],
             [
              0.1111111111111111,
              "#46039f"
             ],
             [
              0.2222222222222222,
              "#7201a8"
             ],
             [
              0.3333333333333333,
              "#9c179e"
             ],
             [
              0.4444444444444444,
              "#bd3786"
             ],
             [
              0.5555555555555556,
              "#d8576b"
             ],
             [
              0.6666666666666666,
              "#ed7953"
             ],
             [
              0.7777777777777778,
              "#fb9f3a"
             ],
             [
              0.8888888888888888,
              "#fdca26"
             ],
             [
              1,
              "#f0f921"
             ]
            ],
            "type": "contour"
           }
          ],
          "contourcarpet": [
           {
            "colorbar": {
             "outlinewidth": 0,
             "ticks": ""
            },
            "type": "contourcarpet"
           }
          ],
          "heatmap": [
           {
            "colorbar": {
             "outlinewidth": 0,
             "ticks": ""
            },
            "colorscale": [
             [
              0,
              "#0d0887"
             ],
             [
              0.1111111111111111,
              "#46039f"
             ],
             [
              0.2222222222222222,
              "#7201a8"
             ],
             [
              0.3333333333333333,
              "#9c179e"
             ],
             [
              0.4444444444444444,
              "#bd3786"
             ],
             [
              0.5555555555555556,
              "#d8576b"
             ],
             [
              0.6666666666666666,
              "#ed7953"
             ],
             [
              0.7777777777777778,
              "#fb9f3a"
             ],
             [
              0.8888888888888888,
              "#fdca26"
             ],
             [
              1,
              "#f0f921"
             ]
            ],
            "type": "heatmap"
           }
          ],
          "heatmapgl": [
           {
            "colorbar": {
             "outlinewidth": 0,
             "ticks": ""
            },
            "colorscale": [
             [
              0,
              "#0d0887"
             ],
             [
              0.1111111111111111,
              "#46039f"
             ],
             [
              0.2222222222222222,
              "#7201a8"
             ],
             [
              0.3333333333333333,
              "#9c179e"
             ],
             [
              0.4444444444444444,
              "#bd3786"
             ],
             [
              0.5555555555555556,
              "#d8576b"
             ],
             [
              0.6666666666666666,
              "#ed7953"
             ],
             [
              0.7777777777777778,
              "#fb9f3a"
             ],
             [
              0.8888888888888888,
              "#fdca26"
             ],
             [
              1,
              "#f0f921"
             ]
            ],
            "type": "heatmapgl"
           }
          ],
          "histogram": [
           {
            "marker": {
             "pattern": {
              "fillmode": "overlay",
              "size": 10,
              "solidity": 0.2
             }
            },
            "type": "histogram"
           }
          ],
          "histogram2d": [
           {
            "colorbar": {
             "outlinewidth": 0,
             "ticks": ""
            },
            "colorscale": [
             [
              0,
              "#0d0887"
             ],
             [
              0.1111111111111111,
              "#46039f"
             ],
             [
              0.2222222222222222,
              "#7201a8"
             ],
             [
              0.3333333333333333,
              "#9c179e"
             ],
             [
              0.4444444444444444,
              "#bd3786"
             ],
             [
              0.5555555555555556,
              "#d8576b"
             ],
             [
              0.6666666666666666,
              "#ed7953"
             ],
             [
              0.7777777777777778,
              "#fb9f3a"
             ],
             [
              0.8888888888888888,
              "#fdca26"
             ],
             [
              1,
              "#f0f921"
             ]
            ],
            "type": "histogram2d"
           }
          ],
          "histogram2dcontour": [
           {
            "colorbar": {
             "outlinewidth": 0,
             "ticks": ""
            },
            "colorscale": [
             [
              0,
              "#0d0887"
             ],
             [
              0.1111111111111111,
              "#46039f"
             ],
             [
              0.2222222222222222,
              "#7201a8"
             ],
             [
              0.3333333333333333,
              "#9c179e"
             ],
             [
              0.4444444444444444,
              "#bd3786"
             ],
             [
              0.5555555555555556,
              "#d8576b"
             ],
             [
              0.6666666666666666,
              "#ed7953"
             ],
             [
              0.7777777777777778,
              "#fb9f3a"
             ],
             [
              0.8888888888888888,
              "#fdca26"
             ],
             [
              1,
              "#f0f921"
             ]
            ],
            "type": "histogram2dcontour"
           }
          ],
          "mesh3d": [
           {
            "colorbar": {
             "outlinewidth": 0,
             "ticks": ""
            },
            "type": "mesh3d"
           }
          ],
          "parcoords": [
           {
            "line": {
             "colorbar": {
              "outlinewidth": 0,
              "ticks": ""
             }
            },
            "type": "parcoords"
           }
          ],
          "pie": [
           {
            "automargin": true,
            "type": "pie"
           }
          ],
          "scatter": [
           {
            "fillpattern": {
             "fillmode": "overlay",
             "size": 10,
             "solidity": 0.2
            },
            "type": "scatter"
           }
          ],
          "scatter3d": [
           {
            "line": {
             "colorbar": {
              "outlinewidth": 0,
              "ticks": ""
             }
            },
            "marker": {
             "colorbar": {
              "outlinewidth": 0,
              "ticks": ""
             }
            },
            "type": "scatter3d"
           }
          ],
          "scattercarpet": [
           {
            "marker": {
             "colorbar": {
              "outlinewidth": 0,
              "ticks": ""
             }
            },
            "type": "scattercarpet"
           }
          ],
          "scattergeo": [
           {
            "marker": {
             "colorbar": {
              "outlinewidth": 0,
              "ticks": ""
             }
            },
            "type": "scattergeo"
           }
          ],
          "scattergl": [
           {
            "marker": {
             "colorbar": {
              "outlinewidth": 0,
              "ticks": ""
             }
            },
            "type": "scattergl"
           }
          ],
          "scattermapbox": [
           {
            "marker": {
             "colorbar": {
              "outlinewidth": 0,
              "ticks": ""
             }
            },
            "type": "scattermapbox"
           }
          ],
          "scatterpolar": [
           {
            "marker": {
             "colorbar": {
              "outlinewidth": 0,
              "ticks": ""
             }
            },
            "type": "scatterpolar"
           }
          ],
          "scatterpolargl": [
           {
            "marker": {
             "colorbar": {
              "outlinewidth": 0,
              "ticks": ""
             }
            },
            "type": "scatterpolargl"
           }
          ],
          "scatterternary": [
           {
            "marker": {
             "colorbar": {
              "outlinewidth": 0,
              "ticks": ""
             }
            },
            "type": "scatterternary"
           }
          ],
          "surface": [
           {
            "colorbar": {
             "outlinewidth": 0,
             "ticks": ""
            },
            "colorscale": [
             [
              0,
              "#0d0887"
             ],
             [
              0.1111111111111111,
              "#46039f"
             ],
             [
              0.2222222222222222,
              "#7201a8"
             ],
             [
              0.3333333333333333,
              "#9c179e"
             ],
             [
              0.4444444444444444,
              "#bd3786"
             ],
             [
              0.5555555555555556,
              "#d8576b"
             ],
             [
              0.6666666666666666,
              "#ed7953"
             ],
             [
              0.7777777777777778,
              "#fb9f3a"
             ],
             [
              0.8888888888888888,
              "#fdca26"
             ],
             [
              1,
              "#f0f921"
             ]
            ],
            "type": "surface"
           }
          ],
          "table": [
           {
            "cells": {
             "fill": {
              "color": "#EBF0F8"
             },
             "line": {
              "color": "white"
             }
            },
            "header": {
             "fill": {
              "color": "#C8D4E3"
             },
             "line": {
              "color": "white"
             }
            },
            "type": "table"
           }
          ]
         },
         "layout": {
          "annotationdefaults": {
           "arrowcolor": "#2a3f5f",
           "arrowhead": 0,
           "arrowwidth": 1
          },
          "autotypenumbers": "strict",
          "coloraxis": {
           "colorbar": {
            "outlinewidth": 0,
            "ticks": ""
           }
          },
          "colorscale": {
           "diverging": [
            [
             0,
             "#8e0152"
            ],
            [
             0.1,
             "#c51b7d"
            ],
            [
             0.2,
             "#de77ae"
            ],
            [
             0.3,
             "#f1b6da"
            ],
            [
             0.4,
             "#fde0ef"
            ],
            [
             0.5,
             "#f7f7f7"
            ],
            [
             0.6,
             "#e6f5d0"
            ],
            [
             0.7,
             "#b8e186"
            ],
            [
             0.8,
             "#7fbc41"
            ],
            [
             0.9,
             "#4d9221"
            ],
            [
             1,
             "#276419"
            ]
           ],
           "sequential": [
            [
             0,
             "#0d0887"
            ],
            [
             0.1111111111111111,
             "#46039f"
            ],
            [
             0.2222222222222222,
             "#7201a8"
            ],
            [
             0.3333333333333333,
             "#9c179e"
            ],
            [
             0.4444444444444444,
             "#bd3786"
            ],
            [
             0.5555555555555556,
             "#d8576b"
            ],
            [
             0.6666666666666666,
             "#ed7953"
            ],
            [
             0.7777777777777778,
             "#fb9f3a"
            ],
            [
             0.8888888888888888,
             "#fdca26"
            ],
            [
             1,
             "#f0f921"
            ]
           ],
           "sequentialminus": [
            [
             0,
             "#0d0887"
            ],
            [
             0.1111111111111111,
             "#46039f"
            ],
            [
             0.2222222222222222,
             "#7201a8"
            ],
            [
             0.3333333333333333,
             "#9c179e"
            ],
            [
             0.4444444444444444,
             "#bd3786"
            ],
            [
             0.5555555555555556,
             "#d8576b"
            ],
            [
             0.6666666666666666,
             "#ed7953"
            ],
            [
             0.7777777777777778,
             "#fb9f3a"
            ],
            [
             0.8888888888888888,
             "#fdca26"
            ],
            [
             1,
             "#f0f921"
            ]
           ]
          },
          "colorway": [
           "#636efa",
           "#EF553B",
           "#00cc96",
           "#ab63fa",
           "#FFA15A",
           "#19d3f3",
           "#FF6692",
           "#B6E880",
           "#FF97FF",
           "#FECB52"
          ],
          "font": {
           "color": "#2a3f5f"
          },
          "geo": {
           "bgcolor": "white",
           "lakecolor": "white",
           "landcolor": "#E5ECF6",
           "showlakes": true,
           "showland": true,
           "subunitcolor": "white"
          },
          "hoverlabel": {
           "align": "left"
          },
          "hovermode": "closest",
          "mapbox": {
           "style": "light"
          },
          "paper_bgcolor": "white",
          "plot_bgcolor": "#E5ECF6",
          "polar": {
           "angularaxis": {
            "gridcolor": "white",
            "linecolor": "white",
            "ticks": ""
           },
           "bgcolor": "#E5ECF6",
           "radialaxis": {
            "gridcolor": "white",
            "linecolor": "white",
            "ticks": ""
           }
          },
          "scene": {
           "xaxis": {
            "backgroundcolor": "#E5ECF6",
            "gridcolor": "white",
            "gridwidth": 2,
            "linecolor": "white",
            "showbackground": true,
            "ticks": "",
            "zerolinecolor": "white"
           },
           "yaxis": {
            "backgroundcolor": "#E5ECF6",
            "gridcolor": "white",
            "gridwidth": 2,
            "linecolor": "white",
            "showbackground": true,
            "ticks": "",
            "zerolinecolor": "white"
           },
           "zaxis": {
            "backgroundcolor": "#E5ECF6",
            "gridcolor": "white",
            "gridwidth": 2,
            "linecolor": "white",
            "showbackground": true,
            "ticks": "",
            "zerolinecolor": "white"
           }
          },
          "shapedefaults": {
           "line": {
            "color": "#2a3f5f"
           }
          },
          "ternary": {
           "aaxis": {
            "gridcolor": "white",
            "linecolor": "white",
            "ticks": ""
           },
           "baxis": {
            "gridcolor": "white",
            "linecolor": "white",
            "ticks": ""
           },
           "bgcolor": "#E5ECF6",
           "caxis": {
            "gridcolor": "white",
            "linecolor": "white",
            "ticks": ""
           }
          },
          "title": {
           "x": 0.05
          },
          "xaxis": {
           "automargin": true,
           "gridcolor": "white",
           "linecolor": "white",
           "ticks": "",
           "title": {
            "standoff": 15
           },
           "zerolinecolor": "white",
           "zerolinewidth": 2
          },
          "yaxis": {
           "automargin": true,
           "gridcolor": "white",
           "linecolor": "white",
           "ticks": "",
           "title": {
            "standoff": 15
           },
           "zerolinecolor": "white",
           "zerolinewidth": 2
          }
         }
        }
       }
      },
      "image/png": "[encoded data removed]",
      "text/html": [
       "<div>                            <div id=\"195aa371-43be-48ba-8fba-119daf544222\" class=\"plotly-graph-div\" style=\"height:525px; width:100%;\"></div>            <script type=\"text/javascript\">                require([\"plotly\"], function(Plotly) {                    window.PLOTLYENV=window.PLOTLYENV || {};                                    if (document.getElementById(\"195aa371-43be-48ba-8fba-119daf544222\")) {                    Plotly.newPlot(                        \"195aa371-43be-48ba-8fba-119daf544222\",                        [{\"coloraxis\":\"coloraxis\",\"geo\":\"geo\",\"hovertemplate\":\"<b>%{hovertext}</b><br><br>ISO Code=%{location}<br>Clusters=%{z}<extra></extra>\",\"hovertext\":[\"Afghanistan\",\"Angola\",\"Antigua and Barbuda\",\"Argentina\",\"Aruba\",\"Australia\",\"Austria\",\"Bahrain\",\"Bangladesh\",\"Barbados\",\"Belarus\",\"Belgium\",\"Belize\",\"Benin\",\"Bolivia\",\"Bosnia and Herzegovina\",\"Botswana\",\"Brazil\",\"Bulgaria\",\"Burkina Faso\",\"Cambodia\",\"Cameroon\",\"Canada\",null,\"Chile\",\"Colombia\",\"Costa Rica\",\"Croatia\",null,null,\"Denmark\",null,\"Ecuador\",\"Egypt\",\"El Salvador\",\"Estonia\",\"Fiji\",\"Finland\",\"France\",\"Gabon\",\"Georgia\",\"Germany\",\"Ghana\",\"Greece\",\"Guatemala\",\"Haiti\",\"Honduras\",\"Hong Kong\",\"Hungary\",\"India\",\"Indonesia\",\"Iraq\",\"Ireland\",\"Israel\",\"Italy\",\"Jamaica\",\"Japan\",\"Jordan\",\"Kazakhstan\",\"Kenya\",\"Kuwait\",\"Kyrgyzstan\",\"Laos\",\"Latvia\",\"Lebanon\",\"Libya\",\"Lithuania\",\"Luxembourg\",\"Malaysia\",\"Mali\",\"Malta\",\"Mauritius\",\"Mexico\",null,\"Mongolia\",\"Morocco\",\"Mozambique\",null,\"Namibia\",\"Nepal\",null,\"New Zealand\",\"Nicaragua\",\"Niger\",\"Nigeria\",null,\"Norway\",\"Oman\",\"Pakistan\",\"Panama\",\"Papua New Guinea\",\"Paraguay\",\"Peru\",null,\"Poland\",\"Portugal\",\"Puerto Rico\",\"Qatar\",\"Romania\",\"Russia\",\"Rwanda\",\"Saudi Arabia\",\"Senegal\",\"Serbia\",\"Singapore\",\"Slovakia\",\"Slovenia\",\"South Africa\",null,\"Spain\",\"Sri Lanka\",\"Sweden\",\"Switzerland\",null,\"Tajikistan\",\"Tanzania\",\"Thailand\",null,\"Togo\",\"Trinidad and Tobago\",\"Turkey\",\"Uganda\",\"Ukraine\",null,\"United Kingdom\",\"United States\",\"Uruguay\",\"Venezuela\",\"Vietnam\",\"Yemen\",\"Zambia\",\"Zimbabwe\"],\"locations\":[\"AFG\",\"AGO\",\"ATG\",\"ARG\",\"ABW\",\"AUS\",\"AUT\",\"BHR\",\"BGD\",\"BRB\",\"BLR\",\"BEL\",\"BLZ\",\"BEN\",\"BOL\",\"BIH\",\"BWA\",\"BRA\",\"BGR\",\"BFA\",\"KHM\",\"CMR\",\"CAN\",null,\"CHL\",\"COL\",\"CRI\",\"HRV\",null,null,\"DNK\",null,\"ECU\",\"EGY\",\"SLV\",\"EST\",\"FJI\",\"FIN\",\"FRA\",\"GAB\",\"GEO\",\"DEU\",\"GHA\",\"GRC\",\"GTM\",\"HTI\",\"HND\",\"HKG\",\"HUN\",\"IND\",\"IDN\",\"IRQ\",\"IRL\",\"ISR\",\"ITA\",\"JAM\",\"JPN\",\"JOR\",\"KAZ\",\"KEN\",\"KWT\",\"KGZ\",\"LAO\",\"LVA\",\"LBN\",\"LBY\",\"LTU\",\"LUX\",\"MYS\",\"MLI\",\"MLT\",\"MUS\",\"MEX\",null,\"MNG\",\"MAR\",\"MOZ\",null,\"NAM\",\"NPL\",null,\"NZL\",\"NIC\",\"NER\",\"NGA\",null,\"NOR\",\"OMN\",\"PAK\",\"PAN\",\"PNG\",\"PRY\",\"PER\",null,\"POL\",\"PRT\",\"PRI\",\"QAT\",\"ROU\",\"RUS\",\"RWA\",\"SAU\",\"SEN\",\"SRB\",\"SGP\",\"SVK\",\"SVN\",\"ZAF\",null,\"ESP\",\"LKA\",\"SWE\",\"CHE\",null,\"TJK\",\"TZA\",\"THA\",null,\"TGO\",\"TTO\",\"TUR\",\"UGA\",\"UKR\",null,\"GBR\",\"USA\",\"URY\",\"VEN\",\"VNM\",\"YEM\",\"ZMB\",\"ZWE\"],\"name\":\"\",\"z\":[10,5,13,7,13,7,3,7,11,0,6,3,3,10,7,6,5,7,6,12,8,11,13,0,7,7,0,1,1,11,13,0,4,10,4,1,7,13,1,1,6,13,9,1,7,4,0,7,1,9,4,2,3,3,3,0,4,0,6,11,8,6,0,3,6,12,1,3,8,5,3,0,7,6,2,7,4,8,4,1,3,7,4,11,9,6,13,0,11,8,2,7,8,8,1,3,0,4,6,6,14,4,4,6,8,3,0,9,1,3,8,13,3,7,0,11,0,0,5,0,1,7,6,7,3,1,7,7,6,12,5,11],\"type\":\"choropleth\"}],                        {\"template\":{\"data\":{\"histogram2dcontour\":[{\"type\":\"histogram2dcontour\",\"colorbar\":{\"outlinewidth\":0,\"ticks\":\"\"},\"colorscale\":[[0.0,\"#0d0887\"],[0.1111111111111111,\"#46039f\"],[0.2222222222222222,\"#7201a8\"],[0.3333333333333333,\"#9c179e\"],[0.4444444444444444,\"#bd3786\"],[0.5555555555555556,\"#d8576b\"],[0.6666666666666666,\"#ed7953\"],[0.7777777777777778,\"#fb9f3a\"],[0.8888888888888888,\"#fdca26\"],[1.0,\"#f0f921\"]]}],\"choropleth\":[{\"type\":\"choropleth\",\"colorbar\":{\"outlinewidth\":0,\"ticks\":\"\"}}],\"histogram2d\":[{\"type\":\"histogram2d\",\"colorbar\":{\"outlinewidth\":0,\"ticks\":\"\"},\"colorscale\":[[0.0,\"#0d0887\"],[0.1111111111111111,\"#46039f\"],[0.2222222222222222,\"#7201a8\"],[0.3333333333333333,\"#9c179e\"],[0.4444444444444444,\"#bd3786\"],[0.5555555555555556,\"#d8576b\"],[0.6666666666666666,\"#ed7953\"],[0.7777777777777778,\"#fb9f3a\"],[0.8888888888888888,\"#fdca26\"],[1.0,\"#f0f921\"]]}],\"heatmap\":[{\"type\":\"heatmap\",\"colorbar\":{\"outlinewidth\":0,\"ticks\":\"\"},\"colorscale\":[[0.0,\"#0d0887\"],[0.1111111111111111,\"#46039f\"],[0.2222222222222222,\"#7201a8\"],[0.3333333333333333,\"#9c179e\"],[0.4444444444444444,\"#bd3786\"],[0.5555555555555556,\"#d8576b\"],[0.6666666666666666,\"#ed7953\"],[0.7777777777777778,\"#fb9f3a\"],[0.8888888888888888,\"#fdca26\"],[1.0,\"#f0f921\"]]}],\"heatmapgl\":[{\"type\":\"heatmapgl\",\"colorbar\":{\"outlinewidth\":0,\"ticks\":\"\"},\"colorscale\":[[0.0,\"#0d0887\"],[0.1111111111111111,\"#46039f\"],[0.2222222222222222,\"#7201a8\"],[0.3333333333333333,\"#9c179e\"],[0.4444444444444444,\"#bd3786\"],[0.5555555555555556,\"#d8576b\"],[0.6666666666666666,\"#ed7953\"],[0.7777777777777778,\"#fb9f3a\"],[0.8888888888888888,\"#fdca26\"],[1.0,\"#f0f921\"]]}],\"contourcarpet\":[{\"type\":\"contourcarpet\",\"colorbar\":{\"outlinewidth\":0,\"ticks\":\"\"}}],\"contour\":[{\"type\":\"contour\",\"colorbar\":{\"outlinewidth\":0,\"ticks\":\"\"},\"colorscale\":[[0.0,\"#0d0887\"],[0.1111111111111111,\"#46039f\"],[0.2222222222222222,\"#7201a8\"],[0.3333333333333333,\"#9c179e\"],[0.4444444444444444,\"#bd3786\"],[0.5555555555555556,\"#d8576b\"],[0.6666666666666666,\"#ed7953\"],[0.7777777777777778,\"#fb9f3a\"],[0.8888888888888888,\"#fdca26\"],[1.0,\"#f0f921\"]]}],\"surface\":[{\"type\":\"surface\",\"colorbar\":{\"outlinewidth\":0,\"ticks\":\"\"},\"colorscale\":[[0.0,\"#0d0887\"],[0.1111111111111111,\"#46039f\"],[0.2222222222222222,\"#7201a8\"],[0.3333333333333333,\"#9c179e\"],[0.4444444444444444,\"#bd3786\"],[0.5555555555555556,\"#d8576b\"],[0.6666666666666666,\"#ed7953\"],[0.7777777777777778,\"#fb9f3a\"],[0.8888888888888888,\"#fdca26\"],[1.0,\"#f0f921\"]]}],\"mesh3d\":[{\"type\":\"mesh3d\",\"colorbar\":{\"outlinewidth\":0,\"ticks\":\"\"}}],\"scatter\":[{\"fillpattern\":{\"fillmode\":\"overlay\",\"size\":10,\"solidity\":0.2},\"type\":\"scatter\"}],\"parcoords\":[{\"type\":\"parcoords\",\"line\":{\"colorbar\":{\"outlinewidth\":0,\"ticks\":\"\"}}}],\"scatterpolargl\":[{\"type\":\"scatterpolargl\",\"marker\":{\"colorbar\":{\"outlinewidth\":0,\"ticks\":\"\"}}}],\"bar\":[{\"error_x\":{\"color\":\"#2a3f5f\"},\"error_y\":{\"color\":\"#2a3f5f\"},\"marker\":{\"line\":{\"color\":\"#E5ECF6\",\"width\":0.5},\"pattern\":{\"fillmode\":\"overlay\",\"size\":10,\"solidity\":0.2}},\"type\":\"bar\"}],\"scattergeo\":[{\"type\":\"scattergeo\",\"marker\":{\"colorbar\":{\"outlinewidth\":0,\"ticks\":\"\"}}}],\"scatterpolar\":[{\"type\":\"scatterpolar\",\"marker\":{\"colorbar\":{\"outlinewidth\":0,\"ticks\":\"\"}}}],\"histogram\":[{\"marker\":{\"pattern\":{\"fillmode\":\"overlay\",\"size\":10,\"solidity\":0.2}},\"type\":\"histogram\"}],\"scattergl\":[{\"type\":\"scattergl\",\"marker\":{\"colorbar\":{\"outlinewidth\":0,\"ticks\":\"\"}}}],\"scatter3d\":[{\"type\":\"scatter3d\",\"line\":{\"colorbar\":{\"outlinewidth\":0,\"ticks\":\"\"}},\"marker\":{\"colorbar\":{\"outlinewidth\":0,\"ticks\":\"\"}}}],\"scattermapbox\":[{\"type\":\"scattermapbox\",\"marker\":{\"colorbar\":{\"outlinewidth\":0,\"ticks\":\"\"}}}],\"scatterternary\":[{\"type\":\"scatterternary\",\"marker\":{\"colorbar\":{\"outlinewidth\":0,\"ticks\":\"\"}}}],\"scattercarpet\":[{\"type\":\"scattercarpet\",\"marker\":{\"colorbar\":{\"outlinewidth\":0,\"ticks\":\"\"}}}],\"carpet\":[{\"aaxis\":{\"endlinecolor\":\"#2a3f5f\",\"gridcolor\":\"white\",\"linecolor\":\"white\",\"minorgridcolor\":\"white\",\"startlinecolor\":\"#2a3f5f\"},\"baxis\":{\"endlinecolor\":\"#2a3f5f\",\"gridcolor\":\"white\",\"linecolor\":\"white\",\"minorgridcolor\":\"white\",\"startlinecolor\":\"#2a3f5f\"},\"type\":\"carpet\"}],\"table\":[{\"cells\":{\"fill\":{\"color\":\"#EBF0F8\"},\"line\":{\"color\":\"white\"}},\"header\":{\"fill\":{\"color\":\"#C8D4E3\"},\"line\":{\"color\":\"white\"}},\"type\":\"table\"}],\"barpolar\":[{\"marker\":{\"line\":{\"color\":\"#E5ECF6\",\"width\":0.5},\"pattern\":{\"fillmode\":\"overlay\",\"size\":10,\"solidity\":0.2}},\"type\":\"barpolar\"}],\"pie\":[{\"automargin\":true,\"type\":\"pie\"}]},\"layout\":{\"autotypenumbers\":\"strict\",\"colorway\":[\"#636efa\",\"#EF553B\",\"#00cc96\",\"#ab63fa\",\"#FFA15A\",\"#19d3f3\",\"#FF6692\",\"#B6E880\",\"#FF97FF\",\"#FECB52\"],\"font\":{\"color\":\"#2a3f5f\"},\"hovermode\":\"closest\",\"hoverlabel\":{\"align\":\"left\"},\"paper_bgcolor\":\"white\",\"plot_bgcolor\":\"#E5ECF6\",\"polar\":{\"bgcolor\":\"#E5ECF6\",\"angularaxis\":{\"gridcolor\":\"white\",\"linecolor\":\"white\",\"ticks\":\"\"},\"radialaxis\":{\"gridcolor\":\"white\",\"linecolor\":\"white\",\"ticks\":\"\"}},\"ternary\":{\"bgcolor\":\"#E5ECF6\",\"aaxis\":{\"gridcolor\":\"white\",\"linecolor\":\"white\",\"ticks\":\"\"},\"baxis\":{\"gridcolor\":\"white\",\"linecolor\":\"white\",\"ticks\":\"\"},\"caxis\":{\"gridcolor\":\"white\",\"linecolor\":\"white\",\"ticks\":\"\"}},\"coloraxis\":{\"colorbar\":{\"outlinewidth\":0,\"ticks\":\"\"}},\"colorscale\":{\"sequential\":[[0.0,\"#0d0887\"],[0.1111111111111111,\"#46039f\"],[0.2222222222222222,\"#7201a8\"],[0.3333333333333333,\"#9c179e\"],[0.4444444444444444,\"#bd3786\"],[0.5555555555555556,\"#d8576b\"],[0.6666666666666666,\"#ed7953\"],[0.7777777777777778,\"#fb9f3a\"],[0.8888888888888888,\"#fdca26\"],[1.0,\"#f0f921\"]],\"sequentialminus\":[[0.0,\"#0d0887\"],[0.1111111111111111,\"#46039f\"],[0.2222222222222222,\"#7201a8\"],[0.3333333333333333,\"#9c179e\"],[0.4444444444444444,\"#bd3786\"],[0.5555555555555556,\"#d8576b\"],[0.6666666666666666,\"#ed7953\"],[0.7777777777777778,\"#fb9f3a\"],[0.8888888888888888,\"#fdca26\"],[1.0,\"#f0f921\"]],\"diverging\":[[0,\"#8e0152\"],[0.1,\"#c51b7d\"],[0.2,\"#de77ae\"],[0.3,\"#f1b6da\"],[0.4,\"#fde0ef\"],[0.5,\"#f7f7f7\"],[0.6,\"#e6f5d0\"],[0.7,\"#b8e186\"],[0.8,\"#7fbc41\"],[0.9,\"#4d9221\"],[1,\"#276419\"]]},\"xaxis\":{\"gridcolor\":\"white\",\"linecolor\":\"white\",\"ticks\":\"\",\"title\":{\"standoff\":15},\"zerolinecolor\":\"white\",\"automargin\":true,\"zerolinewidth\":2},\"yaxis\":{\"gridcolor\":\"white\",\"linecolor\":\"white\",\"ticks\":\"\",\"title\":{\"standoff\":15},\"zerolinecolor\":\"white\",\"automargin\":true,\"zerolinewidth\":2},\"scene\":{\"xaxis\":{\"backgroundcolor\":\"#E5ECF6\",\"gridcolor\":\"white\",\"linecolor\":\"white\",\"showbackground\":true,\"ticks\":\"\",\"zerolinecolor\":\"white\",\"gridwidth\":2},\"yaxis\":{\"backgroundcolor\":\"#E5ECF6\",\"gridcolor\":\"white\",\"linecolor\":\"white\",\"showbackground\":true,\"ticks\":\"\",\"zerolinecolor\":\"white\",\"gridwidth\":2},\"zaxis\":{\"backgroundcolor\":\"#E5ECF6\",\"gridcolor\":\"white\",\"linecolor\":\"white\",\"showbackground\":true,\"ticks\":\"\",\"zerolinecolor\":\"white\",\"gridwidth\":2}},\"shapedefaults\":{\"line\":{\"color\":\"#2a3f5f\"}},\"annotationdefaults\":{\"arrowcolor\":\"#2a3f5f\",\"arrowhead\":0,\"arrowwidth\":1},\"geo\":{\"bgcolor\":\"white\",\"landcolor\":\"#E5ECF6\",\"subunitcolor\":\"white\",\"showland\":true,\"showlakes\":true,\"lakecolor\":\"white\"},\"title\":{\"x\":0.05},\"mapbox\":{\"style\":\"light\"}}},\"geo\":{\"domain\":{\"x\":[0.0,1.0],\"y\":[0.0,1.0]},\"center\":{}},\"coloraxis\":{\"colorbar\":{\"title\":{\"text\":\"Clusters\"}},\"colorscale\":[[0.0,\"#30123b\"],[0.07142857142857142,\"#4145ab\"],[0.14285714285714285,\"#4675ed\"],[0.21428571428571427,\"#39a2fc\"],[0.2857142857142857,\"#1bcfd4\"],[0.35714285714285715,\"#24eca6\"],[0.42857142857142855,\"#61fc6c\"],[0.5,\"#a4fc3b\"],[0.5714285714285714,\"#d1e834\"],[0.6428571428571429,\"#f3c63a\"],[0.7142857142857143,\"#fe9b2d\"],[0.7857142857142857,\"#f36315\"],[0.8571428571428571,\"#d93806\"],[0.9285714285714286,\"#b11901\"],[1.0,\"#7a0402\"]]},\"legend\":{\"tracegroupgap\":0},\"margin\":{\"t\":60}},                        {\"responsive\": true}                    ).then(function(){\n",
       "                            \n",
       "var gd = document.getElementById('195aa371-43be-48ba-8fba-119daf544222');\n",
       "var x = new MutationObserver(function (mutations, observer) {{\n",
       "        var display = window.getComputedStyle(gd).display;\n",
       "        if (!display || display === 'none') {{\n",
       "            console.log([gd, 'removed!']);\n",
       "            Plotly.purge(gd);\n",
       "            observer.disconnect();\n",
       "        }}\n",
       "}});\n",
       "\n",
       "// Listen for the removal of the full notebook cells\n",
       "var notebookContainer = gd.closest('#notebook-container');\n",
       "if (notebookContainer) {{\n",
       "    x.observe(notebookContainer, {childList: true});\n",
       "}}\n",
       "\n",
       "// Listen for the clearing of the current output cell\n",
       "var outputEl = gd.closest('.output');\n",
       "if (outputEl) {{\n",
       "    x.observe(outputEl, {childList: true});\n",
       "}}\n",
       "\n",
       "                        })                };                });            </script>        </div>"
      ]
     },
     "metadata": {},
     "output_type": "display_data"
    }
   ],
   "source": [
    "import plotly.express as px\n",
    "\n",
    "fig = px.choropleth(df_bycountry, locations=\"ISO Code\",\n",
    "                    color=\"Clusters\", \n",
    "                    hover_name=\"Country\", \n",
    "                    color_continuous_scale='Turbo'\n",
    "                    )\n",
    "fig.show()"
   ]
  },
  {
   "cell_type": "markdown",
   "id": "cc99746b-54f4-40d6-9e96-e44c0ae9f624",
   "metadata": {},
   "source": [
    "<img src='worldmap.png'/>"
   ]
  },
  {
   "cell_type": "markdown",
   "id": "9ef1b430-d7f2-4228-8e11-25bc78feaa3c",
   "metadata": {},
   "source": [
    "The above figure shows the world map, in which countries are colored by their clusters. At first look, it seems that neighbor countries shows similar behaviour, such as Asian countries, South American countries, Turkey-Greece. There is no clear sign of development levels affecting mobility behaviour. We can conclude that cultural habits affects the mobility more then development levels. We can create a GDP per capita versus mobility change graph colored by clusters to observe the relationship. The graph confirms that GDP per capita has no significant effect on mobility behaviour."
   ]
  },
  {
   "cell_type": "code",
   "execution_count": 84,
   "id": "ffaddf9c-fd12-44f1-a82e-da29a67bbf31",
   "metadata": {},
   "outputs": [],
   "source": [
    "df_temp = df_bycountry.merge(df.groupby([\"country_region\"], as_index=False).mean()[[\"country_region\",\"mean_percent_change\", \"gdp_per_cap_2020\"]],\n",
    "                   left_on=\"Country\", right_on=\"country_region\", how=\"left\" )"
   ]
  },
  {
   "cell_type": "code",
   "execution_count": 85,
   "id": "a8a0538c-09e7-47ec-84cc-d0a6a12d24d3",
   "metadata": {},
   "outputs": [
    {
     "data": {
      "text/html": [
       "<div>\n",
       "<style scoped>\n",
       "    .dataframe tbody tr th:only-of-type {\n",
       "        vertical-align: middle;\n",
       "    }\n",
       "\n",
       "    .dataframe tbody tr th {\n",
       "        vertical-align: top;\n",
       "    }\n",
       "\n",
       "    .dataframe thead th {\n",
       "        text-align: right;\n",
       "    }\n",
       "</style>\n",
       "<table border=\"1\" class=\"dataframe\">\n",
       "  <thead>\n",
       "    <tr style=\"text-align: right;\">\n",
       "      <th></th>\n",
       "      <th>retail_and_recreation_percent_change_from_baseline</th>\n",
       "      <th>grocery_and_pharmacy_percent_change_from_baseline</th>\n",
       "      <th>parks_percent_change_from_baseline</th>\n",
       "      <th>transit_stations_percent_change_from_baseline</th>\n",
       "      <th>workplaces_percent_change_from_baseline</th>\n",
       "      <th>residential_percent_change_from_baseline</th>\n",
       "      <th>Clusters</th>\n",
       "      <th>Country</th>\n",
       "      <th>ISO Code</th>\n",
       "      <th>country_region</th>\n",
       "      <th>mean_percent_change</th>\n",
       "      <th>gdp_per_cap_2020</th>\n",
       "    </tr>\n",
       "  </thead>\n",
       "  <tbody>\n",
       "    <tr>\n",
       "      <th>0</th>\n",
       "      <td>28.449121</td>\n",
       "      <td>68.016332</td>\n",
       "      <td>26.825093</td>\n",
       "      <td>-3.283099</td>\n",
       "      <td>-4.839829</td>\n",
       "      <td>4.635810</td>\n",
       "      <td>10</td>\n",
       "      <td>Afghanistan</td>\n",
       "      <td>AFG</td>\n",
       "      <td>Afghanistan</td>\n",
       "      <td>19.400426</td>\n",
       "      <td>516.747871</td>\n",
       "    </tr>\n",
       "    <tr>\n",
       "      <th>1</th>\n",
       "      <td>18.976477</td>\n",
       "      <td>24.420701</td>\n",
       "      <td>49.769917</td>\n",
       "      <td>-1.894737</td>\n",
       "      <td>-0.017139</td>\n",
       "      <td>4.293880</td>\n",
       "      <td>5</td>\n",
       "      <td>Angola</td>\n",
       "      <td>AGO</td>\n",
       "      <td>Angola</td>\n",
       "      <td>6.903192</td>\n",
       "      <td>1776.166868</td>\n",
       "    </tr>\n",
       "    <tr>\n",
       "      <th>2</th>\n",
       "      <td>1.362663</td>\n",
       "      <td>4.368609</td>\n",
       "      <td>59.826992</td>\n",
       "      <td>-34.857976</td>\n",
       "      <td>-26.130075</td>\n",
       "      <td>1.518855</td>\n",
       "      <td>13</td>\n",
       "      <td>Antigua and Barbuda</td>\n",
       "      <td>ATG</td>\n",
       "      <td>Antigua and Barbuda</td>\n",
       "      <td>-16.993265</td>\n",
       "      <td>13992.744480</td>\n",
       "    </tr>\n",
       "    <tr>\n",
       "      <th>3</th>\n",
       "      <td>-21.459172</td>\n",
       "      <td>8.606587</td>\n",
       "      <td>-41.396810</td>\n",
       "      <td>-29.584405</td>\n",
       "      <td>2.255780</td>\n",
       "      <td>6.781469</td>\n",
       "      <td>7</td>\n",
       "      <td>Argentina</td>\n",
       "      <td>ARG</td>\n",
       "      <td>Argentina</td>\n",
       "      <td>-11.841312</td>\n",
       "      <td>8579.017773</td>\n",
       "    </tr>\n",
       "    <tr>\n",
       "      <th>4</th>\n",
       "      <td>-5.042806</td>\n",
       "      <td>2.637337</td>\n",
       "      <td>30.442331</td>\n",
       "      <td>-38.437574</td>\n",
       "      <td>-13.986047</td>\n",
       "      <td>1.650474</td>\n",
       "      <td>13</td>\n",
       "      <td>Aruba</td>\n",
       "      <td>ABW</td>\n",
       "      <td>Aruba</td>\n",
       "      <td>-3.991416</td>\n",
       "      <td>NaN</td>\n",
       "    </tr>\n",
       "  </tbody>\n",
       "</table>\n",
       "</div>"
      ],
      "text/plain": [
       "   retail_and_recreation_percent_change_from_baseline  \\\n",
       "0                                          28.449121    \n",
       "1                                          18.976477    \n",
       "2                                           1.362663    \n",
       "3                                         -21.459172    \n",
       "4                                          -5.042806    \n",
       "\n",
       "   grocery_and_pharmacy_percent_change_from_baseline  \\\n",
       "0                                          68.016332   \n",
       "1                                          24.420701   \n",
       "2                                           4.368609   \n",
       "3                                           8.606587   \n",
       "4                                           2.637337   \n",
       "\n",
       "   parks_percent_change_from_baseline  \\\n",
       "0                           26.825093   \n",
       "1                           49.769917   \n",
       "2                           59.826992   \n",
       "3                          -41.396810   \n",
       "4                           30.442331   \n",
       "\n",
       "   transit_stations_percent_change_from_baseline  \\\n",
       "0                                      -3.283099   \n",
       "1                                      -1.894737   \n",
       "2                                     -34.857976   \n",
       "3                                     -29.584405   \n",
       "4                                     -38.437574   \n",
       "\n",
       "   workplaces_percent_change_from_baseline  \\\n",
       "0                                -4.839829   \n",
       "1                                -0.017139   \n",
       "2                               -26.130075   \n",
       "3                                 2.255780   \n",
       "4                               -13.986047   \n",
       "\n",
       "   residential_percent_change_from_baseline  Clusters              Country  \\\n",
       "0                                  4.635810        10          Afghanistan   \n",
       "1                                  4.293880         5               Angola   \n",
       "2                                  1.518855        13  Antigua and Barbuda   \n",
       "3                                  6.781469         7            Argentina   \n",
       "4                                  1.650474        13                Aruba   \n",
       "\n",
       "  ISO Code       country_region  mean_percent_change  gdp_per_cap_2020  \n",
       "0      AFG          Afghanistan            19.400426        516.747871  \n",
       "1      AGO               Angola             6.903192       1776.166868  \n",
       "2      ATG  Antigua and Barbuda           -16.993265      13992.744480  \n",
       "3      ARG            Argentina           -11.841312       8579.017773  \n",
       "4      ABW                Aruba            -3.991416               NaN  "
      ]
     },
     "execution_count": 85,
     "metadata": {},
     "output_type": "execute_result"
    }
   ],
   "source": [
    "df_temp.head()"
   ]
  },
  {
   "cell_type": "code",
   "execution_count": 88,
   "id": "df9a0c42-d11d-45f0-8dcd-c4d2556627f1",
   "metadata": {},
   "outputs": [
    {
     "data": {
      "image/png": "[encoded data removed]",
      "text/plain": [
       "<Figure size 1200x800 with 1 Axes>"
      ]
     },
     "metadata": {
      "needs_background": "light"
     },
     "output_type": "display_data"
    }
   ],
   "source": [
    "plt.figure(dpi=200)\n",
    "\n",
    "sns.scatterplot(data=df_temp, x= \"gdp_per_cap_2020\", y=\"mean_percent_change\", hue=\"Clusters\", palette=\"Set1\")\n",
    "\n",
    "plt.legend(loc=(1.05,0))\n",
    "plt.title(\"GDP per capita vs Mobility Change\", fontsize=20);"
   ]
  },
  {
   "cell_type": "markdown",
   "id": "dba03a30-b29d-43c3-adc5-a66456db89f6",
   "metadata": {},
   "source": [
    "<br><br><br>"
   ]
  },
  {
   "cell_type": "markdown",
   "id": "86b1b0e9-d8d1-4e43-94eb-ea871253f2d0",
   "metadata": {},
   "source": [
    "## 4. Conclusion and Discussion"
   ]
  },
  {
   "cell_type": "markdown",
   "id": "a5f0c096-9f08-4cdd-a12c-ae24f7edd54d",
   "metadata": {},
   "source": [
    "In this work, countries are clustered by their mobility change data during COVID19 pandemy provided by Google. "
   ]
  },
  {
   "cell_type": "markdown",
   "id": "0b131766-671a-49c2-b955-7d8b948027ad",
   "metadata": {},
   "source": [
    "The world map, in which countries are colored by their clusters shows that neighbor countries shows similar behaviour, such as Asian countries, South American countries, Turkey-Greece. There is no clear sign of development levels affecting mobility behaviour. We can conclude that cultural habits affects the mobility more then development levels. The GDP per capita versus mobility change graph colored by clusters confirms that GDP per capita has no significant effect on mobility behaviour."
   ]
  },
  {
   "cell_type": "markdown",
   "id": "a7e30a4c-5bc5-486d-9258-1deaf74af173",
   "metadata": {},
   "source": [
    "Further studies can be conducted with different methods and focusing on different features. More data from other sources may conduct this research as well. This study is to gain an insight of the data only. "
   ]
  },
  {
   "cell_type": "markdown",
   "id": "9d6c0cd2-f53c-4877-9c2f-fe3ab4df98ff",
   "metadata": {},
   "source": [
    "The same dataframe is visualized with Tableau. You can check that from the following link: https://github.com/DrFarukAydin/data-science-portfolio/blob/main/data-visualization-tableau/data-visualization-tableau.ipynb"
   ]
  },
  {
   "cell_type": "markdown",
   "id": "d5568985-c911-46bb-b71f-eaafb36cec70",
   "metadata": {},
   "source": [
    "<br>"
   ]
  },
  {
   "cell_type": "markdown",
   "id": "f4c43956-f5cb-4b66-8cad-df8b60012774",
   "metadata": {},
   "source": [
    "<br><br><br>"
   ]
  },
  {
   "cell_type": "markdown",
   "id": "1cefbaaf-a6a2-4aa1-b095-7c53ac2baaa8",
   "metadata": {},
   "source": [
    "<br><br><br>"
   ]
  }
 ],
 "metadata": {
  "kernelspec": {
   "display_name": "Python 3 (ipykernel)",
   "language": "python",
   "name": "python3"
  },
  "language_info": {
   "codemirror_mode": {
    "name": "ipython",
    "version": 3
   },
   "file_extension": ".py",
   "mimetype": "text/x-python",
   "name": "python",
   "nbconvert_exporter": "python",
   "pygments_lexer": "ipython3",
   "version": "3.9.12"
  }
 },
 "nbformat": 4,
 "nbformat_minor": 5
}
