{
 "cells": [
  {
   "cell_type": "markdown",
   "id": "8df18259-ce6a-48e3-9745-37185ba1dfcf",
   "metadata": {},
   "source": [
    "# Natural Language Processing (NLP)"
   ]
  },
  {
   "cell_type": "markdown",
   "id": "5f965e98-dc58-4b1f-ad3b-79f04f45e827",
   "metadata": {},
   "source": [
    "## 1. Introduction"
   ]
  },
  {
   "cell_type": "markdown",
   "id": "fdb6392b-4d65-4093-8453-34de58c25c91",
   "metadata": {},
   "source": [
    "In this work, Natural Language Processing techniques are used to compare similarities between two texts. "
   ]
  },
  {
   "cell_type": "markdown",
   "id": "a3b8c77a-2127-42a6-bdc2-b540e2756b67",
   "metadata": {},
   "source": [
    "**Motivation**"
   ]
  },
  {
   "cell_type": "markdown",
   "id": "47f9fbf7-2045-47bd-8e09-54ac4c6c4884",
   "metadata": {},
   "source": [
    "Job search and hiring process can be very challenging and stressful. Applicant Tracking Systems (ATS) are founded in the recent decade to take a significant amount load out of HR professionals shoulders, who should have read hundreds of resumes almost everyday. ATS is a system that utilizes artificial intelligence to filter relevant resumes for a job ad. This can be achieved by mostly Natural Language Proccessing (NLP) techniques. As a job seeker, if you have not optimized your resume and getting constant rejects, then your resume might never be seen by an HR professional, because your resume is eliminated by ATS in the first phase. In this work, I try to analyze matching score of a resume and five random job ads."
   ]
  },
  {
   "cell_type": "markdown",
   "id": "4d2fc962-ed1d-44b4-a24b-5e2e36501542",
   "metadata": {},
   "source": [
    "**Roadmap**"
   ]
  },
  {
   "cell_type": "markdown",
   "id": "ab9b2e42-7e45-430d-984b-63aa46637200",
   "metadata": {},
   "source": [
    "First, we will clean the manually added texts step by step. Then, we define a function that repeats these processes. Lastly, we will add a text to compare the original text and find a similarity score."
   ]
  },
  {
   "cell_type": "markdown",
   "id": "a40d5b05-3d13-4191-88e0-0e1d06956983",
   "metadata": {},
   "source": [
    "<br><br>"
   ]
  },
  {
   "cell_type": "markdown",
   "id": "143389ab-f5d5-4abd-95dc-e1a48fa8df2d",
   "metadata": {},
   "source": [
    "## 2. Data Cleaning"
   ]
  },
  {
   "cell_type": "markdown",
   "id": "a852f840-a5ba-44a6-8b77-5392ac95479b",
   "metadata": {},
   "source": [
    "**Importing Libraries**"
   ]
  },
  {
   "cell_type": "code",
   "execution_count": 126,
   "id": "86384e2c-f319-4314-99f7-9da39f0dacec",
   "metadata": {},
   "outputs": [],
   "source": [
    "import re\n",
    "import pandas as pd\n",
    "import matplotlib.pyplot as plt\n",
    "import seaborn as sns\n",
    "\n",
    "import nltk\n",
    "from nltk.corpus import stopwords\n",
    "from textblob import Word\n",
    "from textblob import TextBlob"
   ]
  },
  {
   "cell_type": "markdown",
   "id": "ec629f1a-50a2-4f41-8c53-1de91c032ad9",
   "metadata": {},
   "source": [
    "<br><br>"
   ]
  },
  {
   "cell_type": "markdown",
   "id": "78b8a4df-c199-49b7-a310-46400a463605",
   "metadata": {},
   "source": [
    "**Copy-Paste Text**"
   ]
  },
  {
   "cell_type": "code",
   "execution_count": 144,
   "id": "1773fb92-81cf-482a-ba7a-5a708882c032",
   "metadata": {},
   "outputs": [],
   "source": [
    "ad = []"
   ]
  },
  {
   "cell_type": "code",
   "execution_count": 145,
   "id": "38b18e33-716a-415a-84a9-e31d1447b60d",
   "metadata": {},
   "outputs": [],
   "source": [
    "# Ad 1\n",
    "ad.append( \"\"\"Innovative IoT solutions with Data, AI and ML|Ownership and responsibility\n",
    "About Our Client\n",
    "\n",
    "Do you want to advance AI & ML solutions in the industrial space? My client provides innovative e2e hard- and software solutions for a wide scope of industrial applications. The start-up company is backed by a large industrial investor and is looking for someone to join the Data team. Hence, I am looking for a Data Scientist (m/f/d) in Berlin who's ready to join a motivated team. Looking forward to speaking with you!\n",
    "\n",
    "Job Description\n",
    "Work in an array of Data Science projects\n",
    "Data collection, data processing and data analysis.\n",
    "Design and development of state-of-the-art algorithms in the fields of machine learning, statistical modeling, data mining and AI\n",
    "Interpretation and visualization of data and their correlations\n",
    "Work with colleagues to empower data-driven decisions\n",
    "The Successful Applicant\n",
    "Proficiency in Python programming\n",
    "University degree in Computer Science, Mathematics, Electrical Engineering, Physics or comparable fields\n",
    "Passion for data\n",
    "Relevant experience in Data Science\n",
    "Knowledge of Machine Learning\n",
    "Understanding of Predictive Maintenance as well as Signal Processing\n",
    "Experience with SQL, AWS, Git\n",
    "Good applied statistics skills\n",
    "Fluent communication in English\n",
    "What's on Offer\n",
    "Join an international and ambitious team\n",
    "Founders featured in Forbes 30under30\n",
    "Modern office in Berlin, remote work possible with flexible hours\n",
    "Market-fair salary, diverse company benefits\n",
    "Learning-friendly environment with flat hierarchies\"\"\")"
   ]
  },
  {
   "cell_type": "code",
   "execution_count": 146,
   "id": "71cfe875-2be1-48c0-b875-beb1c320b277",
   "metadata": {},
   "outputs": [],
   "source": [
    "# Ad 2\n",
    "ad.append( \"\"\"About The Position\n",
    "\n",
    "We are looking for a top-tier data scientist (m/f/d) to join our team on a permanent position in Berlin / Germany.\n",
    "\n",
    "Your mission\n",
    "\n",
    "Work intensively on the development and continuous enhancement of our cutting-edge, data-driven, ML-based, systematic investment strategies as part of our asset allocation squad\n",
    "Build and maintain quantitative forecasting models and algorithms\n",
    "Be involved in the further development and implementation (e.g., conducting experiments as well as evaluations) of our hypothesis-driven research agenda along key building blocks (e.g., data, transformations, model(s), targets) relevant for product performance\n",
    "Implement your ideas in clean and efficient Python code\n",
    "\n",
    "Your Skillset\n",
    "\n",
    "Degree in a quantitative field such as Mathematics, Statistics, Physics, Computer Science, or Economics/Finance with quantitative focus\n",
    "Solid knowledge of data analytics in Python as well as corresponding state-of-the-art tools and frameworks\n",
    "Experience in working with data, building quantitative models, data-driven decision-making\n",
    "Experience in (financial) econometrics and time series analysis\n",
    "We expect you to share our passion for or quantitative investing\n",
    "Fluent in spoken and written English, good communication skills\n",
    "Bonus: experience with financial markets data and instruments (e.g. stocks, bonds, derivatives)\n",
    "\n",
    "Why us?\n",
    "\n",
    "An exciting and involving role with significant impact on shaping the future of AI-based sustainable investing\n",
    "A company culture that is based on a spirit of cooperation and is characterized by a high level of quality awareness, openness and attention to detail in all areas of our work\n",
    "The opportunity to work in an interdisciplinary team with our experienced quant finance, software engineering, and machine learning experts\n",
    "Flexible working hours, 28 days paid leave and a competitive salary and equity package\n",
    "A modern loft office in Berlin, Prenzlauer Berg, healthy food (including coffee, juices, fruit, vegetables, sandwiches) and high-end hardware from Apple\n",
    "Internal workshops, unique learning possibilities across a wide range of domains as well as amazing team events\n",
    "\n",
    "\n",
    "We are a deep tech pioneer, providing AI-based investment solutions to our clients. Building on the best practices of quantitative asset management we tap the potential of machine learning for sustainable investments on capital market.\n",
    "\n",
    "Our interdisciplinary team consists of experts in the fields of finance, computer science, software engineering, machine learning as well as mathematics, physics, and neuroscience. Othoz is embedded in the global AI community, through a close exchange with leading universities and as a member of Inquire Europe.\n",
    "\n",
    "To date Othoz is one of the leading drivers for AI-based analyses and decision-making processes in asset management. Othoz has been founded in 2017, is headquartered in Berlin, Germany and is backed by leading international business angels and VCs.\"\"\")"
   ]
  },
  {
   "cell_type": "code",
   "execution_count": 147,
   "id": "805d43b0-c8fc-4f64-bea1-62d39c794a14",
   "metadata": {},
   "outputs": [],
   "source": [
    "# Ad 3\n",
    "ad.append( \"\"\"Marley Spoon is the new way to cook. We bring delightful, market fresh and easy cooking back to the people while building a sustainable supply chain for a waste-free world. We’re a well-funded and publicly listed company (ASX: MMM).\n",
    "\n",
    "We operate across 3 continents and in 8 countries with over +900 employees worldwide. Being passionate foodies, we are using technology to reinvent the global food supply chain to reduce food waste. In the end, it's simple: We started Marley Spoon because we love cooking! We now have an exciting opportunity to bring a Data Scientist on board our team, working across all brands and territories. This is a once-in-a-lifetime opportunity to be part of the food revolution and join our food-tech start-up as we take our growth to the next level.\n",
    "\n",
    "As a part of the team, you'll be responsible for:\n",
    "Building a range of analytical models (Prescriptive, Predictive, Diagnostic, Descriptive)\n",
    "Building predictive and segmentation models (e.g. RFM segmentation, churn prediction, sentimental analysis, recommendation engines, next best offer, propensity scoring models, etc.) making use of relevant data from multiple data sources\n",
    "Deploying, maintaining and improving the models using various types of algorithms and techniques\n",
    "Mine data from multiple sources and to build/enhance stored procedures/functions\n",
    "Providing deep-dive analytical support for the business\n",
    "\n",
    "Requirements\n",
    "MSc or Ph.D. in a quantitative discipline: Machine Learning, Computer Science, Statistics, Applied Mathematics, Physics or related fields\n",
    "Experience in a Data Science related role\n",
    "Hands-on experience in building segmentation and prediction models with large datasets using various algorithms and techniques (decision trees, logistic regression, neural networks, clustering, etc.)\n",
    "Hands-on experience in Python and common numerical and ML packages (NumPy, SciPy, Scikit-Learn, Pandas, Keras, TensorFlow, PyTorch, and PySpark)\n",
    "Good software engineering practices e.g. unit tests, logging, CI/CD pipelines, software patterns and experience developing production software\n",
    "Sound knowledge of classic prediction processes (classification, regression, ranking, time series), and inferential statistics (tests, interpretation of models)\n",
    "Experienced dealing with large amounts of data and knowledge of big data technologies (e.g. SageMaker, AirFlow, Snowflake, Looker)\n",
    "\n",
    "Benefits\n",
    "An open, diverse culture with over 50 nationalities of friendly, fun-loving foodies!\n",
    "A company that’s growing fast, with plenty of opportunities for personal and professional growth\n",
    "Flexible working hours; hybrid work policy (remote + office)\n",
    "30 paid days off per year\n",
    "5 training days per year and online courses licenses\n",
    "Possibility to be a part of Marley Spoon’s success with an outstanding equity program\n",
    "Corporate pension scheme (we add 20% on top of your contribution)\n",
    "Free Marley Spoon and/or Dinnerly boxes delivered to your doorstep\n",
    "Gym membership and language course discounts\n",
    "Friday drinks and plenty of fun team events\n",
    "A beautiful office by the canal in buzzing Kreuzberg, with free food from our test kitchen\"\"\")"
   ]
  },
  {
   "cell_type": "code",
   "execution_count": 148,
   "id": "6f7e19a3-0faf-47d3-9f05-b02483e810c4",
   "metadata": {},
   "outputs": [],
   "source": [
    "# Ad 4\n",
    "ad.append( \"\"\"Why Lhotse\n",
    "\n",
    "At Lhotse, we are reinventing how organizations use data and technology to buy goods and services.We are on a mission to reimagine how companies manage their spend by bringing the first true B2C experience to procurement teams. Check out our website to learn more.\n",
    "\n",
    "Join us and get the unique opportunity to:\n",
    "\n",
    "Embark on a VC-backed rocket ship - we count some of Germany's most successful tech entrepreneurs among our Angel investors\n",
    "Contribute to solving global problems faced by millions of companies and their employees, every day\n",
    "Be part of a highly motivated and diverse team that will support and challenge you as you grow and develop\n",
    "\n",
    "See who your future teammates will be: Lhotse on LinkedIn\n",
    "\n",
    "About The Team\n",
    "\n",
    "The Data Science team develops models and leverages its expertise to offer the best experience and products. Using Statistics, Artificial Intelligence, and a lot of creativity, our team strives for cutting-edge model development techniques. From statistical heuristics to deep learning, data is taken seriously to better develop, scale and optimize our business needs.\n",
    "\n",
    "Our team principles\n",
    "\n",
    "We care about the person behind the dice\n",
    "Miscellaneous sets do not overlap\n",
    "We reinforce our learnings\n",
    "Data is no magic bullet (not yet at least)\n",
    "Iterate fast!\n",
    "\n",
    "\n",
    "WHAT YOU WILL DO AND WHAT IS EXPECTED FROM YOU?\n",
    "Build data products that delight our customers and contribute to company success\n",
    "Own your projects from the business problem to the code in production, including\n",
    "the analysis of vast amounts of data\n",
    "the development and maintenance of data pipelines\n",
    "the monitoring of your data products after deployment\n",
    "Build our machine learning infrastructure and best practices\n",
    "Curiosity to look for ways to improve what has already been done\n",
    "Solid knowledge in collecting and cleaning data for analysis and models\n",
    "Excellent ability to interact with multidisciplinary teams\n",
    "Willingness to learn quickly and work in a fast-paced environment\n",
    "\n",
    "\n",
    "HOW WILL YOU DO IT?\n",
    "\n",
    "Machine Learning You apply regressors, classifiers, and recommenders. You understand in detail the underpinning of ML techniques. Applied experience in setting machine learning models into production is a plus.\n",
    "Software Engineering You are fluent in a modern programming language (Python/Scala).\n",
    "Analytics You can transform data into wisdom. You know how to test hypotheses. You are proficient with an analytics tool (Python/R) and with SQL.\n",
    "\n",
    "\n",
    "What You Will Get\n",
    "\n",
    "Growth ― We place importance on building a fun and productive environment where we give space to people to develop and fulfil their potential\n",
    "Impact ― Exposure to the whole journey as one of the first members of the adventure\n",
    "Freedom ― Flexible working hours, ability to partly work remotely, 28 days of vacation\n",
    "Rewards ― Competitive compensation and VSOP\n",
    "Fun ― Beautiful office in the center of Berlin Mitte and regular team events and opportunities :)\n",
    "\n",
    "How to apply\n",
    "\n",
    "Share with us your CV or LinkedIn profile (if you believe it paints an adequate picture of your profile)\n",
    "Please don’t send a cover letter. Instead, we’d like to read or hear (1) what is the achievement you’re the proudest about and (2) what is one contribution you will bring to our team: a short paragraph or 1 min voice message works.\n",
    "If you have a portfolio / code that you think is worth looking at, please provide a link. We appreciate your work and are interested in taking a look!\n",
    "Let us know about your availability\n",
    "\"\"\")"
   ]
  },
  {
   "cell_type": "code",
   "execution_count": 149,
   "id": "f465ce0c-d886-4ae2-b925-ea669f60d03a",
   "metadata": {},
   "outputs": [],
   "source": [
    "# Ad 5\n",
    "ad.append( \"\"\"Esprit isn’t just an Employer. It is more than a fashion brand, staying true to our core values of sustainability and diversity.\n",
    "\n",
    "We are looking for real personalities. Smart characters with attitude, corners and edges. We love what we do. And so should you.\n",
    "\n",
    "You are a team-player loving to take challenges together with your colleagues?\n",
    "\n",
    "You would like to work in a company whose products are well-known and support such company in its success?\n",
    "\n",
    "Then apply now as\n",
    "\n",
    "Data Scientist (m/f/d)\n",
    "\n",
    "to support our Team. (ID 19981)\n",
    "\n",
    "Your tasks\n",
    "You perform data analysis on large scale data sets in the context of marketing data\n",
    "You define and provide relevant customer and product master data for personalization and segmentation\n",
    "You design, implement and analyze A/B tests to fine tune customer profiling\n",
    "You run machine learning projects from start to end\n",
    "You develop predictive and analytical models to provide insights to improve our communication with our customers\n",
    "You work closely with CRM, Digital marketing, External agencies etc.\n",
    "You implement various measures to evaluate the performance of implemented projects/the development of reports\n",
    "You constantly observe the market and optimize existing models and technology within the scope of personalization initiatives\n",
    "Your skills\n",
    "You have an IT degree with focus on business administration or similar qualification with wide professional experience in a comparable position\n",
    "You have experience with data science programming languages such as SQL, Python, and Pyspark and Microsoft Azure stack Databricks, Data Lake, Power BI , and SQL Database\n",
    "You have proficient command of English\n",
    "You have the ability to understand and grasp concepts\n",
    "You have a hands-on mentality and a solutions and focused way of working\n",
    "You are characterized by your structured and analytical way of thinking and understanding\n",
    "Our Benefits\n",
    "We have a flexible mobile office arrangement that allows you to choose your work location at least two days a week, plus we have every second Friday off\n",
    "We are a team that places a lot of value on collegial and open cooperation, open feedback is always appreciated\n",
    "With us you get 40% staff discount on our entire product range\n",
    "We don't have a dresscode, you can wear whatever you feel comfortable in. Get inspired https //to.esprit.com/shop\n",
    "We offer you of course a subsidy for public transport or you can park on one of our free parking spaces\n",
    "We have an award-winning canteen that provides you with really tasty and healthy food every day\n",
    "Are you a good match for this Job?\n",
    "\n",
    "Then please submit an application with your salary expectations and an indication of your earliest starting date. Please feel free to contact Jan Limbach if you have any questions.\"\"\")"
   ]
  },
  {
   "cell_type": "code",
   "execution_count": 150,
   "id": "2adc2033-9c97-4c48-b277-a04349bd6296",
   "metadata": {},
   "outputs": [],
   "source": [
    "text = \" \".join(ad)"
   ]
  },
  {
   "cell_type": "markdown",
   "id": "9c4e0630-aa08-410a-bb3a-4476d6f19c16",
   "metadata": {},
   "source": [
    "<br><br>"
   ]
  },
  {
   "cell_type": "markdown",
   "id": "6ff24fde-cbbb-4cd1-9ed2-023bc919d9b9",
   "metadata": {},
   "source": [
    "**Flatting the text**"
   ]
  },
  {
   "cell_type": "code",
   "execution_count": 92,
   "id": "4a13fdab-fd81-4fab-8a5e-2aadd991f632",
   "metadata": {
    "tags": []
   },
   "outputs": [],
   "source": [
    "text = \" \".join(text.lower().split(\"\\n\"))"
   ]
  },
  {
   "cell_type": "code",
   "execution_count": 93,
   "id": "c251532c-63b5-48b5-8a4b-ec5b047d0b57",
   "metadata": {},
   "outputs": [
    {
     "data": {
      "text/plain": [
       "\"innovative iot solutions with data, ai and ml|ownership and responsibility about our client  do you want to advance ai & ml solutions in the industrial space? my client provides innovative e2e hard- and software solutions for a wide scope of industrial applications. the start-up company is backed by a large industrial investor and is looking for someone to join the data team. hence, i am looking for a data scientist (m/f/d) in berlin who's ready to join a motivated team. looking forward to speaking with you!  job description work in an array of data science projects data collection, data processing and data analysis. design and development of state-of-the-art algorithms in the fields of machine learning, statistical modeling, data mining and ai interpretation and visualization of data and their correlations work with colleagues to empower data-driven decisions the successful applicant proficiency in python programming university degree in computer science, mathematics, electrical engineering, physics or comparable fields passion for data relevant experience in data science knowledge of machine learning understanding of predictive maintenance as well as signal processing experience with sql, aws, git good applied statistics skills fluent communication in english what's on offer join an international and ambitious team founders featured in forbes 30under30 modern office in berlin, remote work possible with flexible hours market-fair salary, diverse company benefits learning-friendly environment with flat hierarchies\""
      ]
     },
     "execution_count": 93,
     "metadata": {},
     "output_type": "execute_result"
    }
   ],
   "source": [
    "text"
   ]
  },
  {
   "cell_type": "markdown",
   "id": "4bdbebaa-703d-42d4-a836-5d4f24136964",
   "metadata": {},
   "source": [
    "<br><br>"
   ]
  },
  {
   "cell_type": "markdown",
   "id": "4b75e8dc-23b4-4b10-bb2b-59a1e53c2b6d",
   "metadata": {},
   "source": [
    "**Cleaning Punctuations**"
   ]
  },
  {
   "cell_type": "code",
   "execution_count": 94,
   "id": "f881768a-c5da-403a-b467-770f62360e65",
   "metadata": {},
   "outputs": [],
   "source": [
    "text = re.sub(r\"[^\\w\\s]\",\"\",text)"
   ]
  },
  {
   "cell_type": "code",
   "execution_count": 95,
   "id": "d868df85-39d4-4f33-a477-fab9ee3d434f",
   "metadata": {},
   "outputs": [
    {
     "data": {
      "text/plain": [
       "'innovative iot solutions with data ai and mlownership and responsibility about our client  do you want to advance ai  ml solutions in the industrial space my client provides innovative e2e hard and software solutions for a wide scope of industrial applications the startup company is backed by a large industrial investor and is looking for someone to join the data team hence i am looking for a data scientist mfd in berlin whos ready to join a motivated team looking forward to speaking with you  job description work in an array of data science projects data collection data processing and data analysis design and development of stateoftheart algorithms in the fields of machine learning statistical modeling data mining and ai interpretation and visualization of data and their correlations work with colleagues to empower datadriven decisions the successful applicant proficiency in python programming university degree in computer science mathematics electrical engineering physics or comparable fields passion for data relevant experience in data science knowledge of machine learning understanding of predictive maintenance as well as signal processing experience with sql aws git good applied statistics skills fluent communication in english whats on offer join an international and ambitious team founders featured in forbes 30under30 modern office in berlin remote work possible with flexible hours marketfair salary diverse company benefits learningfriendly environment with flat hierarchies'"
      ]
     },
     "execution_count": 95,
     "metadata": {},
     "output_type": "execute_result"
    }
   ],
   "source": [
    "text"
   ]
  },
  {
   "cell_type": "markdown",
   "id": "2304ecb8-6fd9-48f4-8a11-97faf33eed2b",
   "metadata": {},
   "source": [
    "<br><br>"
   ]
  },
  {
   "cell_type": "markdown",
   "id": "42fe1a6e-4c17-423e-939a-40ea5917e39e",
   "metadata": {},
   "source": [
    "**Cleaning Numbers**"
   ]
  },
  {
   "cell_type": "code",
   "execution_count": 96,
   "id": "65f03dc7-4f15-4fa3-8d14-35464577c131",
   "metadata": {},
   "outputs": [],
   "source": [
    "text = re.sub(r\"\\d\",\"\",text)"
   ]
  },
  {
   "cell_type": "markdown",
   "id": "8191ae77-aa9c-4813-9680-4befee3a66f8",
   "metadata": {},
   "source": [
    "<br><br>"
   ]
  },
  {
   "cell_type": "markdown",
   "id": "ec3bb9a8-3c9d-44f6-b3a1-cfea49c0db3c",
   "metadata": {},
   "source": [
    "**Cleaning Stopwords**"
   ]
  },
  {
   "cell_type": "code",
   "execution_count": 28,
   "id": "9a9bd651-bffb-470a-bffe-38d7a9e49139",
   "metadata": {},
   "outputs": [
    {
     "name": "stderr",
     "output_type": "stream",
     "text": [
      "[nltk_data] Downloading package stopwords to\n",
      "[nltk_data]     /Users/sevdeaydin/nltk_data...\n",
      "[nltk_data]   Package stopwords is already up-to-date!\n"
     ]
    },
    {
     "data": {
      "text/plain": [
       "True"
      ]
     },
     "execution_count": 28,
     "metadata": {},
     "output_type": "execute_result"
    }
   ],
   "source": [
    "#stopwords\n",
    "\n",
    "nltk.download('stopwords')"
   ]
  },
  {
   "cell_type": "code",
   "execution_count": 97,
   "id": "383c3ec1-6b48-40e5-ac1d-7745ffd44ed7",
   "metadata": {},
   "outputs": [],
   "source": [
    "sw = stopwords.words('english')"
   ]
  },
  {
   "cell_type": "code",
   "execution_count": 98,
   "id": "6b4d8814-0af0-46da-b719-a4f792bc4356",
   "metadata": {},
   "outputs": [
    {
     "data": {
      "text/plain": [
       "['i', 'me', 'my', 'myself', 'we']"
      ]
     },
     "execution_count": 98,
     "metadata": {},
     "output_type": "execute_result"
    }
   ],
   "source": [
    "sw[:5]"
   ]
  },
  {
   "cell_type": "code",
   "execution_count": 99,
   "id": "049c18cb-b723-4513-924e-0d9c29215cdb",
   "metadata": {
    "tags": []
   },
   "outputs": [],
   "source": [
    "text = list(filter(lambda x: x not in sw,text.split()))"
   ]
  },
  {
   "cell_type": "code",
   "execution_count": 47,
   "id": "70607b62-72f4-4eca-90d0-e38913bae1f3",
   "metadata": {},
   "outputs": [],
   "source": [
    "# Alternative\n",
    "# text = [x for x in text.split() if x not in sw ]"
   ]
  },
  {
   "cell_type": "code",
   "execution_count": 100,
   "id": "2bdf403c-c24e-40f3-8027-43cd5737157f",
   "metadata": {},
   "outputs": [
    {
     "data": {
      "text/plain": [
       "['innovative', 'iot', 'solutions', 'data', 'ai']"
      ]
     },
     "execution_count": 100,
     "metadata": {},
     "output_type": "execute_result"
    }
   ],
   "source": [
    "text[:5]"
   ]
  },
  {
   "cell_type": "markdown",
   "id": "9d9d2543-fad2-40fe-9b3f-e818b7beeebc",
   "metadata": {},
   "source": [
    "<br><br>"
   ]
  },
  {
   "cell_type": "markdown",
   "id": "742d5025-13b6-475e-8336-5a349b2fdc7b",
   "metadata": {},
   "source": [
    "**Lemmatization**"
   ]
  },
  {
   "cell_type": "code",
   "execution_count": 101,
   "id": "a01c3423-a2f6-498e-992e-4d0d76665bbc",
   "metadata": {},
   "outputs": [],
   "source": [
    "text = [Word(i).lemmatize() for i in text]"
   ]
  },
  {
   "cell_type": "code",
   "execution_count": 102,
   "id": "3e26a2d7-2f17-4d39-94f4-7e9f58ba5667",
   "metadata": {},
   "outputs": [
    {
     "data": {
      "text/plain": [
       "['innovative', 'iot', 'solution', 'data', 'ai']"
      ]
     },
     "execution_count": 102,
     "metadata": {},
     "output_type": "execute_result"
    }
   ],
   "source": [
    "text[:5]"
   ]
  },
  {
   "cell_type": "markdown",
   "id": "4db9dc10-4152-4133-aef5-3f0725be618a",
   "metadata": {},
   "source": [
    "<br><br>"
   ]
  },
  {
   "cell_type": "markdown",
   "id": "e874e0ec-d120-4fa5-a21b-849cbd6297d9",
   "metadata": {},
   "source": [
    "**Adding Phrases**"
   ]
  },
  {
   "cell_type": "code",
   "execution_count": 112,
   "id": "c4379f10-a9f0-42d6-8053-38e4f806ad61",
   "metadata": {},
   "outputs": [],
   "source": [
    "for n in [2,3]:\n",
    "    for i in TextBlob(\" \".join(text)).ngrams(n):\n",
    "        text.append(\" \".join(i))"
   ]
  },
  {
   "cell_type": "markdown",
   "id": "e39d03b9-fb89-412b-a8de-8659b9e18c94",
   "metadata": {},
   "source": [
    "<br><br>"
   ]
  },
  {
   "cell_type": "markdown",
   "id": "94040683-def1-4983-8ef6-4df33d341f31",
   "metadata": {},
   "source": [
    "**Word Frequencies**"
   ]
  },
  {
   "cell_type": "code",
   "execution_count": 117,
   "id": "03abc71b-d3fc-49bc-8741-a679857605f0",
   "metadata": {},
   "outputs": [],
   "source": [
    "df = pd.DataFrame({\"words\":text})"
   ]
  },
  {
   "cell_type": "code",
   "execution_count": 118,
   "id": "24f31967-5e94-461e-b940-41898aa2b139",
   "metadata": {},
   "outputs": [
    {
     "data": {
      "text/html": [
       "<div>\n",
       "<style scoped>\n",
       "    .dataframe tbody tr th:only-of-type {\n",
       "        vertical-align: middle;\n",
       "    }\n",
       "\n",
       "    .dataframe tbody tr th {\n",
       "        vertical-align: top;\n",
       "    }\n",
       "\n",
       "    .dataframe thead th {\n",
       "        text-align: right;\n",
       "    }\n",
       "</style>\n",
       "<table border=\"1\" class=\"dataframe\">\n",
       "  <thead>\n",
       "    <tr style=\"text-align: right;\">\n",
       "      <th></th>\n",
       "      <th>words</th>\n",
       "    </tr>\n",
       "  </thead>\n",
       "  <tbody>\n",
       "    <tr>\n",
       "      <th>0</th>\n",
       "      <td>innovative</td>\n",
       "    </tr>\n",
       "    <tr>\n",
       "      <th>1</th>\n",
       "      <td>iot</td>\n",
       "    </tr>\n",
       "    <tr>\n",
       "      <th>2</th>\n",
       "      <td>solution</td>\n",
       "    </tr>\n",
       "    <tr>\n",
       "      <th>3</th>\n",
       "      <td>data</td>\n",
       "    </tr>\n",
       "    <tr>\n",
       "      <th>4</th>\n",
       "      <td>ai</td>\n",
       "    </tr>\n",
       "  </tbody>\n",
       "</table>\n",
       "</div>"
      ],
      "text/plain": [
       "        words\n",
       "0  innovative\n",
       "1         iot\n",
       "2    solution\n",
       "3        data\n",
       "4          ai"
      ]
     },
     "execution_count": 118,
     "metadata": {},
     "output_type": "execute_result"
    }
   ],
   "source": [
    "df.head()"
   ]
  },
  {
   "cell_type": "code",
   "execution_count": 119,
   "id": "5770d9c7-4a87-43fe-9ef2-dd3d46111804",
   "metadata": {},
   "outputs": [],
   "source": [
    "df[\"frequency\"] = [text.count(word) for word in text]"
   ]
  },
  {
   "cell_type": "code",
   "execution_count": 121,
   "id": "8037f457-bdd6-4105-8a18-c6e656b7580e",
   "metadata": {},
   "outputs": [],
   "source": [
    "df = df.sort_values(by= \"frequency\",ascending= False).drop_duplicates()"
   ]
  },
  {
   "cell_type": "code",
   "execution_count": 122,
   "id": "941deeda-ab9c-4c10-b9e4-23c156be0e22",
   "metadata": {},
   "outputs": [
    {
     "data": {
      "text/html": [
       "<div>\n",
       "<style scoped>\n",
       "    .dataframe tbody tr th:only-of-type {\n",
       "        vertical-align: middle;\n",
       "    }\n",
       "\n",
       "    .dataframe tbody tr th {\n",
       "        vertical-align: top;\n",
       "    }\n",
       "\n",
       "    .dataframe thead th {\n",
       "        text-align: right;\n",
       "    }\n",
       "</style>\n",
       "<table border=\"1\" class=\"dataframe\">\n",
       "  <thead>\n",
       "    <tr style=\"text-align: right;\">\n",
       "      <th></th>\n",
       "      <th>words</th>\n",
       "      <th>frequency</th>\n",
       "    </tr>\n",
       "  </thead>\n",
       "  <tbody>\n",
       "    <tr>\n",
       "      <th>39</th>\n",
       "      <td>data</td>\n",
       "      <td>11</td>\n",
       "    </tr>\n",
       "    <tr>\n",
       "      <th>53</th>\n",
       "      <td>work</td>\n",
       "      <td>3</td>\n",
       "    </tr>\n",
       "    <tr>\n",
       "      <th>24</th>\n",
       "      <td>industrial</td>\n",
       "      <td>3</td>\n",
       "    </tr>\n",
       "    <tr>\n",
       "      <th>75</th>\n",
       "      <td>ai</td>\n",
       "      <td>3</td>\n",
       "    </tr>\n",
       "    <tr>\n",
       "      <th>32</th>\n",
       "      <td>looking</td>\n",
       "      <td>3</td>\n",
       "    </tr>\n",
       "  </tbody>\n",
       "</table>\n",
       "</div>"
      ],
      "text/plain": [
       "         words  frequency\n",
       "39        data         11\n",
       "53        work          3\n",
       "24  industrial          3\n",
       "75          ai          3\n",
       "32     looking          3"
      ]
     },
     "execution_count": 122,
     "metadata": {},
     "output_type": "execute_result"
    }
   ],
   "source": [
    "df.head()"
   ]
  },
  {
   "cell_type": "markdown",
   "id": "ee95e3ad-f188-48b0-a1d5-f73634cb44b8",
   "metadata": {},
   "source": [
    "<br><br>"
   ]
  },
  {
   "cell_type": "markdown",
   "id": "eb1136b7-2f08-4d4d-a867-afc92d22f4da",
   "metadata": {},
   "source": [
    "**Removing Low Frequencies**"
   ]
  },
  {
   "cell_type": "code",
   "execution_count": 123,
   "id": "00d3051f-422e-49dc-9516-cbbb9bdb78c9",
   "metadata": {},
   "outputs": [],
   "source": [
    "df = df[df[\"frequency\"] > 1]"
   ]
  },
  {
   "cell_type": "code",
   "execution_count": 124,
   "id": "550c689d-bec0-421d-869d-b6f69c80a945",
   "metadata": {},
   "outputs": [
    {
     "data": {
      "text/html": [
       "<div>\n",
       "<style scoped>\n",
       "    .dataframe tbody tr th:only-of-type {\n",
       "        vertical-align: middle;\n",
       "    }\n",
       "\n",
       "    .dataframe tbody tr th {\n",
       "        vertical-align: top;\n",
       "    }\n",
       "\n",
       "    .dataframe thead th {\n",
       "        text-align: right;\n",
       "    }\n",
       "</style>\n",
       "<table border=\"1\" class=\"dataframe\">\n",
       "  <thead>\n",
       "    <tr style=\"text-align: right;\">\n",
       "      <th></th>\n",
       "      <th>words</th>\n",
       "      <th>frequency</th>\n",
       "    </tr>\n",
       "  </thead>\n",
       "  <tbody>\n",
       "    <tr>\n",
       "      <th>146</th>\n",
       "      <td>company</td>\n",
       "      <td>2</td>\n",
       "    </tr>\n",
       "    <tr>\n",
       "      <th>259</th>\n",
       "      <td>machine learning</td>\n",
       "      <td>2</td>\n",
       "    </tr>\n",
       "    <tr>\n",
       "      <th>662</th>\n",
       "      <td>data data science</td>\n",
       "      <td>2</td>\n",
       "    </tr>\n",
       "    <tr>\n",
       "      <th>256</th>\n",
       "      <td>data science</td>\n",
       "      <td>2</td>\n",
       "    </tr>\n",
       "    <tr>\n",
       "      <th>7</th>\n",
       "      <td>client</td>\n",
       "      <td>2</td>\n",
       "    </tr>\n",
       "  </tbody>\n",
       "</table>\n",
       "</div>"
      ],
      "text/plain": [
       "                 words  frequency\n",
       "146            company          2\n",
       "259   machine learning          2\n",
       "662  data data science          2\n",
       "256       data science          2\n",
       "7               client          2"
      ]
     },
     "execution_count": 124,
     "metadata": {},
     "output_type": "execute_result"
    }
   ],
   "source": [
    "df.tail()"
   ]
  },
  {
   "cell_type": "code",
   "execution_count": 127,
   "id": "36af7945-009d-4cab-bc2e-72003ef8be5b",
   "metadata": {},
   "outputs": [
    {
     "data": {
      "text/plain": [
       "<AxesSubplot:xlabel='frequency', ylabel='words'>"
      ]
     },
     "execution_count": 127,
     "metadata": {},
     "output_type": "execute_result"
    },
    {
     "data": {
      "image/png": "[encoded data removed]",
      "text/plain": [
       "<Figure size 900x600 with 1 Axes>"
      ]
     },
     "metadata": {
      "needs_background": "light"
     },
     "output_type": "display_data"
    }
   ],
   "source": [
    "plt.figure(dpi = 150)\n",
    "sns.barplot(data = df[:15], x = \"frequency\", y = \"words\")"
   ]
  },
  {
   "cell_type": "markdown",
   "id": "d725c26f-048d-498c-aae0-d2086d267ab4",
   "metadata": {},
   "source": [
    "<br><br>"
   ]
  },
  {
   "cell_type": "markdown",
   "id": "9b8f4185-d562-4263-9ad6-333435a326c3",
   "metadata": {},
   "source": [
    "## 3. Define Data Cleaning Function"
   ]
  },
  {
   "cell_type": "markdown",
   "id": "2daec565-0e06-4a9b-b4b6-83adb379bcca",
   "metadata": {},
   "source": [
    "In this section, we define a function that automize the cleaning processes."
   ]
  },
  {
   "cell_type": "code",
   "execution_count": 215,
   "id": "b3565ba1-bdc0-4f32-b3b9-5a3604a26407",
   "metadata": {},
   "outputs": [],
   "source": [
    "def clean_text(text):\n",
    "    \n",
    "    #Cleaning \\n\n",
    "    text = \" \".join(text.lower().split(\"\\n\"))\n",
    "    \n",
    "    #Cleaning Punctuations\n",
    "    text = re.sub(r\"[^\\w\\s]\",\"\",text)\n",
    "    \n",
    "    #Cleaning Numbers\n",
    "    text = re.sub(r\"\\d\",\"\",text)\n",
    "    \n",
    "    #Removing Stopwords\n",
    "    sw = stopwords.words('english')\n",
    "    text = list(filter(lambda x: x not in sw,text.split()))\n",
    "    \n",
    "    #Lemmatization\n",
    "    text = [Word(i).lemmatize() for i in text]\n",
    "    \n",
    "    #Adding Phrases\n",
    "    for n in [2,3]:\n",
    "        for i in TextBlob(\" \".join(text)).ngrams(n):\n",
    "            text.append(\" \".join(i))\n",
    "    \n",
    "    #Creating Dataframe\n",
    "    df = pd.DataFrame({\"words\":text})\n",
    "    df[\"frequency\"] = [text.count(word) for word in text]\n",
    "    df = df.sort_values(by= \"frequency\",ascending= False).drop_duplicates()\n",
    "    #df = df[df[\"frequency\"] > 1]\n",
    "    \n",
    "    return df"
   ]
  },
  {
   "cell_type": "code",
   "execution_count": 154,
   "id": "7542a884-1470-4568-a459-5511612b3561",
   "metadata": {},
   "outputs": [],
   "source": [
    "ads = clean_text(text)"
   ]
  },
  {
   "cell_type": "code",
   "execution_count": 155,
   "id": "9085062d-3d9d-45a0-841f-52e0b3a86d5d",
   "metadata": {},
   "outputs": [
    {
     "data": {
      "text/html": [
       "<div>\n",
       "<style scoped>\n",
       "    .dataframe tbody tr th:only-of-type {\n",
       "        vertical-align: middle;\n",
       "    }\n",
       "\n",
       "    .dataframe tbody tr th {\n",
       "        vertical-align: top;\n",
       "    }\n",
       "\n",
       "    .dataframe thead th {\n",
       "        text-align: right;\n",
       "    }\n",
       "</style>\n",
       "<table border=\"1\" class=\"dataframe\">\n",
       "  <thead>\n",
       "    <tr style=\"text-align: right;\">\n",
       "      <th></th>\n",
       "      <th>words</th>\n",
       "      <th>frequency</th>\n",
       "    </tr>\n",
       "  </thead>\n",
       "  <tbody>\n",
       "    <tr>\n",
       "      <th>739</th>\n",
       "      <td>data</td>\n",
       "      <td>40</td>\n",
       "    </tr>\n",
       "    <tr>\n",
       "      <th>800</th>\n",
       "      <td>team</td>\n",
       "      <td>21</td>\n",
       "    </tr>\n",
       "    <tr>\n",
       "      <th>1156</th>\n",
       "      <td>model</td>\n",
       "      <td>15</td>\n",
       "    </tr>\n",
       "    <tr>\n",
       "      <th>810</th>\n",
       "      <td>experience</td>\n",
       "      <td>14</td>\n",
       "    </tr>\n",
       "    <tr>\n",
       "      <th>165</th>\n",
       "      <td>work</td>\n",
       "      <td>14</td>\n",
       "    </tr>\n",
       "  </tbody>\n",
       "</table>\n",
       "</div>"
      ],
      "text/plain": [
       "           words  frequency\n",
       "739         data         40\n",
       "800         team         21\n",
       "1156       model         15\n",
       "810   experience         14\n",
       "165         work         14"
      ]
     },
     "execution_count": 155,
     "metadata": {},
     "output_type": "execute_result"
    }
   ],
   "source": [
    "ads.head()"
   ]
  },
  {
   "cell_type": "markdown",
   "id": "54e94a0a-8014-4587-b850-c78c1b78ec6a",
   "metadata": {},
   "source": [
    "We divide frequencies to five, since the text consists of five ads."
   ]
  },
  {
   "cell_type": "code",
   "execution_count": 166,
   "id": "47917402-2d18-474a-b264-38ac051fb057",
   "metadata": {},
   "outputs": [],
   "source": [
    "ads[\"frequency\"] = ads[\"frequency\"]/5"
   ]
  },
  {
   "cell_type": "code",
   "execution_count": 167,
   "id": "e5947931-e7db-4d64-8206-2882b5c4e51b",
   "metadata": {},
   "outputs": [
    {
     "data": {
      "text/html": [
       "<div>\n",
       "<style scoped>\n",
       "    .dataframe tbody tr th:only-of-type {\n",
       "        vertical-align: middle;\n",
       "    }\n",
       "\n",
       "    .dataframe tbody tr th {\n",
       "        vertical-align: top;\n",
       "    }\n",
       "\n",
       "    .dataframe thead th {\n",
       "        text-align: right;\n",
       "    }\n",
       "</style>\n",
       "<table border=\"1\" class=\"dataframe\">\n",
       "  <thead>\n",
       "    <tr style=\"text-align: right;\">\n",
       "      <th></th>\n",
       "      <th>words</th>\n",
       "      <th>frequency</th>\n",
       "    </tr>\n",
       "  </thead>\n",
       "  <tbody>\n",
       "    <tr>\n",
       "      <th>739</th>\n",
       "      <td>data</td>\n",
       "      <td>8.0</td>\n",
       "    </tr>\n",
       "    <tr>\n",
       "      <th>800</th>\n",
       "      <td>team</td>\n",
       "      <td>4.2</td>\n",
       "    </tr>\n",
       "    <tr>\n",
       "      <th>1156</th>\n",
       "      <td>model</td>\n",
       "      <td>3.0</td>\n",
       "    </tr>\n",
       "    <tr>\n",
       "      <th>810</th>\n",
       "      <td>experience</td>\n",
       "      <td>2.8</td>\n",
       "    </tr>\n",
       "    <tr>\n",
       "      <th>165</th>\n",
       "      <td>work</td>\n",
       "      <td>2.8</td>\n",
       "    </tr>\n",
       "  </tbody>\n",
       "</table>\n",
       "</div>"
      ],
      "text/plain": [
       "           words  frequency\n",
       "739         data        8.0\n",
       "800         team        4.2\n",
       "1156       model        3.0\n",
       "810   experience        2.8\n",
       "165         work        2.8"
      ]
     },
     "execution_count": 167,
     "metadata": {},
     "output_type": "execute_result"
    }
   ],
   "source": [
    "ads.head()"
   ]
  },
  {
   "cell_type": "markdown",
   "id": "8a0b8132-27f5-4b0c-8a82-6d905525aeae",
   "metadata": {
    "tags": []
   },
   "source": [
    "<br><br>"
   ]
  },
  {
   "cell_type": "markdown",
   "id": "b996005a-1dc5-4e1d-96d5-7137f5e302e3",
   "metadata": {},
   "source": [
    "## 4. Comparison of Texts"
   ]
  },
  {
   "cell_type": "code",
   "execution_count": 156,
   "id": "bb81706c-916c-4fd1-9fa4-fab0cd711a7c",
   "metadata": {},
   "outputs": [],
   "source": [
    "resume = \"\"\"O. Faruk Aydin\n",
    "Data Scientist\n",
    " \n",
    "5+ years of experience as an academician at Turkish-German University.\n",
    "In addition to assisting and giving various lectures, e.g., Probability and Statistics for Data Science, at the engineering faculty and following my academic research on Transportation and Data Science, co-teaching with professors of Berlin Technical University and creating many projects.\n",
    "5+ years of experience in the industry.\n",
    "As a production development and data analysis engineer, I had participated and led various projects, e.g., data analysis, feasibility reports, R&D projects like building 3D-Concrete-production system, determining prices of all facility services and so on.\n",
    "Within the framework of my MSc and PhD studies, I have implemented many statistical analysis, programming, data analysis, optimization and transportation related real life projects. I have experience especially in Traffic Management and Matching Algorithms for Ride- Sharing.\n",
    "I have excellent communication skills and teamwork experience.\n",
    "I have been always an excellent team player and get along well with my co-workers, managers and advisors, as well as my dear students.\n",
    " \n",
    "\n",
    "Personal Info\tWork History\n",
    "\n",
    " \n",
    "Email\n",
    "farukaydin21@gmail.com\n",
    "\n",
    "Phone\n",
    "+90 532 357 5321\n",
    "\n",
    "GitHub\n",
    "https://github.com/DrFarukAydin\n",
    "\n",
    "LinkedIn\n",
    "https://www.linkedin.com/in/ofaydin/\n",
    "\n",
    "Skills\n",
    "\n",
    " \n",
    "Python (pandas, numpy, matplotlib, seaborn, sci-kit learn, scipy, statsmodel)\n",
    "\n",
    "Machine learning (Regression, Classification, Clustering)\n",
    "\n",
    "Data Analysis, BI (Tableau) Statistical Analysis (SPSS) SQL\n",
    "Languages\n",
    "\n",
    " \n",
    "English German Turkish\n",
    "Hobby\n",
    "\n",
    " \n",
    "Creating Crypto Bots Ping Pong\n",
    " \n",
    "2017-05\n",
    "- present\n",
    "\n",
    "\n",
    "\n",
    "\n",
    "\n",
    "\n",
    "\n",
    "\n",
    "\n",
    "\n",
    "\n",
    "2012-08\n",
    "- 2017-05\n",
    "\n",
    "\n",
    "\n",
    "\n",
    "\n",
    "\n",
    "\n",
    "\n",
    "\n",
    "\n",
    "\n",
    "\n",
    "\n",
    "2012-01\n",
    "- 2012-08\n",
    "\n",
    "\n",
    "\n",
    "\n",
    "\n",
    "\n",
    "\n",
    "\n",
    "\n",
    "Education\n",
    "\n",
    "2006\n",
    "- 2011\n",
    " \n",
    "Research Assistant, Ph.D.\n",
    "Turkish-German University, Istanbul\n",
    "Teaching lectures, e.g., Data Science related lectures (probability and statistics, programming, etc.), H&S lectures, Mechanic lectures (Fluid Mechanics, Static, Strength of Materials etc.)\n",
    "Conducting academic studies, mostly focused on Intelligent Transportation and Data Science.\n",
    "Assisting the professors, mainly from Berlin Technical University. Supporting or leading students’ projects as a consultant.\n",
    "\n",
    "Product Development and Data Analysis Engineer\n",
    "ISTON A.S., Istanbul\n",
    "Data analysis for various projects.\n",
    "Prepare feasibility reports and related documents for the machines and technologies related to new production methods.\n",
    "Planning of production processes of the factories to improve cost / quality efficiency.\n",
    "Research for new manufacturing technologies and production methods. Searching and contacting the manufacturers of new machines for the company. Managing product specifications on the company's ERP system.\n",
    "\n",
    "Construction Supervisor\n",
    "Zinde Musavirlik, Istanbul\n",
    "Collaborated with management and fellow supervisors to organize operations and achieve demanding schedule targets.\n",
    "Supervised material usage and contractor man-hours to keep projects in line with budgetary restrictions.\n",
    "Supervised field crews to maximize quality and work efficiency.\n",
    "\n",
    "\n",
    "\n",
    "Civil Engineering, B.Sc.\n",
    "Bogazici University, Istanbul\n",
    " \n",
    "\n",
    " \n",
    "2011\n",
    "- 2013\n",
    " \n",
    "Civil Engineering (Transportation), M.Sc.\n",
    "Bogazici University, Istanbul\n",
    " \n",
    "\n",
    " \n",
    "2013\n",
    "- 2019\n",
    " \n",
    "Civil Engineering (Transportation), Ph.D.\n",
    "Bogazici University, Istanbul\n",
    " \n",
    "Projects\n",
    "\n",
    " \n",
    "2022-06\n",
    "- present\n",
    "\n",
    "\n",
    "\n",
    "\n",
    "\n",
    "\n",
    "\n",
    "\n",
    "\n",
    "\n",
    "\n",
    "\n",
    "\n",
    "\n",
    "\n",
    "\n",
    "\n",
    "2018-09\n",
    "- 2019-01\n",
    "\n",
    "\n",
    "\n",
    "\n",
    "\n",
    "\n",
    "\n",
    "\n",
    "\n",
    "\n",
    "\n",
    "\n",
    "\n",
    "\n",
    "\n",
    "\n",
    "\n",
    "\n",
    "\n",
    "Courses\n",
    " \n",
    "Co-Author\n",
    "Investigating driving factors of mobility during COVID19 Pandemic\n",
    " Goal: Producing high quality Academic Publications using mobility reports and state- of-art Data Science tools.\n",
    "Analyzing data requirement.\n",
    "Finding and collecting the data from various sources.\n",
    "Conducting Meetings with the co-authors for presenting the ongoing processes and deciding roadmap.\n",
    "Running statistical analysis with sci-kit learn, scipy and statsmodels. Performing Machine Learning algorithms for advanced analysis.\n",
    "Working with GitHub for cooperation. Creating Tableau visualizations.\n",
    "Preparing Academic Publications.\n",
    "\n",
    "Consultant / Team Leader\n",
    "Creating a smartphone app to help hitchhiker students at the campus\n",
    " Goal: Creating an app that matches hitchhikers and drivers\n",
    "Making a presentation to the students as the person who produced the project idea.\n",
    "In the framework of a project lecture, eight mechatronics and industrial engineering students who volunteered were assigned for this project.\n",
    "A Survey with 604 people is performed at the campus to reveal driving factors for hitchhiking. Among these people, there are students, academics, administrative staff and other workers.\n",
    "Survey data was analyzed by a team of industrial engineering students guided by me.\n",
    "A smartphone app was created by mechatronics engineering students.\n",
    "A project report and presentation were created by the students and evaluated by me.\n",
    " \n",
    "\n",
    " \n",
    "Python A-Z™: Data Science and Machine Learning\n",
    "Udemy: Mustafa Vahit Keskin\n",
    "\n",
    "2022 Python for Machine Learning & Data Science Masterclass\n",
    "Udemy: Jose Portilla\n",
    "\n",
    "The Complete Tableau Bootcamp for Data Visualization\n",
    "Udemy: Jose Portilla\n",
    "\n",
    "Spark and Python for Big Data with PySpark\n",
    "Udemy: Jose Portilla\n",
    "\n",
    "Python for Financial Analysis and Algorithmic Trading\n",
    "Udemy: Jose Portilla\"\"\""
   ]
  },
  {
   "cell_type": "code",
   "execution_count": 157,
   "id": "3fb1484a-908b-4329-bdfa-d2d6cd419ad5",
   "metadata": {},
   "outputs": [],
   "source": [
    "res = clean_text(resume)"
   ]
  },
  {
   "cell_type": "code",
   "execution_count": 158,
   "id": "138e94ca-73dd-48df-9101-556979a22a62",
   "metadata": {},
   "outputs": [
    {
     "data": {
      "text/html": [
       "<div>\n",
       "<style scoped>\n",
       "    .dataframe tbody tr th:only-of-type {\n",
       "        vertical-align: middle;\n",
       "    }\n",
       "\n",
       "    .dataframe tbody tr th {\n",
       "        vertical-align: top;\n",
       "    }\n",
       "\n",
       "    .dataframe thead th {\n",
       "        text-align: right;\n",
       "    }\n",
       "</style>\n",
       "<table border=\"1\" class=\"dataframe\">\n",
       "  <thead>\n",
       "    <tr style=\"text-align: right;\">\n",
       "      <th></th>\n",
       "      <th>words</th>\n",
       "      <th>frequency</th>\n",
       "    </tr>\n",
       "  </thead>\n",
       "  <tbody>\n",
       "    <tr>\n",
       "      <th>201</th>\n",
       "      <td>data</td>\n",
       "      <td>19</td>\n",
       "    </tr>\n",
       "    <tr>\n",
       "      <th>382</th>\n",
       "      <td>project</td>\n",
       "      <td>12</td>\n",
       "    </tr>\n",
       "    <tr>\n",
       "      <th>41</th>\n",
       "      <td>analysis</td>\n",
       "      <td>11</td>\n",
       "    </tr>\n",
       "    <tr>\n",
       "      <th>416</th>\n",
       "      <td>student</td>\n",
       "      <td>9</td>\n",
       "    </tr>\n",
       "    <tr>\n",
       "      <th>490</th>\n",
       "      <td>data science</td>\n",
       "      <td>7</td>\n",
       "    </tr>\n",
       "  </tbody>\n",
       "</table>\n",
       "</div>"
      ],
      "text/plain": [
       "            words  frequency\n",
       "201          data         19\n",
       "382       project         12\n",
       "41       analysis         11\n",
       "416       student          9\n",
       "490  data science          7"
      ]
     },
     "execution_count": 158,
     "metadata": {},
     "output_type": "execute_result"
    }
   ],
   "source": [
    "res.head()"
   ]
  },
  {
   "cell_type": "code",
   "execution_count": 168,
   "id": "4f850633-2780-47ab-80bc-485d89a0f1e8",
   "metadata": {},
   "outputs": [],
   "source": [
    "df_comp = ads.merge(res, how=\"left\", on = \"words\")"
   ]
  },
  {
   "cell_type": "code",
   "execution_count": 169,
   "id": "4b856a07-78f2-48b6-ad03-df85d52e6c9c",
   "metadata": {},
   "outputs": [
    {
     "data": {
      "text/html": [
       "<div>\n",
       "<style scoped>\n",
       "    .dataframe tbody tr th:only-of-type {\n",
       "        vertical-align: middle;\n",
       "    }\n",
       "\n",
       "    .dataframe tbody tr th {\n",
       "        vertical-align: top;\n",
       "    }\n",
       "\n",
       "    .dataframe thead th {\n",
       "        text-align: right;\n",
       "    }\n",
       "</style>\n",
       "<table border=\"1\" class=\"dataframe\">\n",
       "  <thead>\n",
       "    <tr style=\"text-align: right;\">\n",
       "      <th></th>\n",
       "      <th>words</th>\n",
       "      <th>frequency_x</th>\n",
       "      <th>frequency_y</th>\n",
       "    </tr>\n",
       "  </thead>\n",
       "  <tbody>\n",
       "    <tr>\n",
       "      <th>0</th>\n",
       "      <td>data</td>\n",
       "      <td>8.0</td>\n",
       "      <td>19.0</td>\n",
       "    </tr>\n",
       "    <tr>\n",
       "      <th>1</th>\n",
       "      <td>team</td>\n",
       "      <td>4.2</td>\n",
       "      <td>3.0</td>\n",
       "    </tr>\n",
       "    <tr>\n",
       "      <th>2</th>\n",
       "      <td>model</td>\n",
       "      <td>3.0</td>\n",
       "      <td>NaN</td>\n",
       "    </tr>\n",
       "    <tr>\n",
       "      <th>3</th>\n",
       "      <td>experience</td>\n",
       "      <td>2.8</td>\n",
       "      <td>4.0</td>\n",
       "    </tr>\n",
       "    <tr>\n",
       "      <th>4</th>\n",
       "      <td>work</td>\n",
       "      <td>2.8</td>\n",
       "      <td>2.0</td>\n",
       "    </tr>\n",
       "  </tbody>\n",
       "</table>\n",
       "</div>"
      ],
      "text/plain": [
       "        words  frequency_x  frequency_y\n",
       "0        data          8.0         19.0\n",
       "1        team          4.2          3.0\n",
       "2       model          3.0          NaN\n",
       "3  experience          2.8          4.0\n",
       "4        work          2.8          2.0"
      ]
     },
     "execution_count": 169,
     "metadata": {},
     "output_type": "execute_result"
    }
   ],
   "source": [
    "df_comp.head()"
   ]
  },
  {
   "cell_type": "code",
   "execution_count": 170,
   "id": "a31bc5cd-c423-4712-9579-2730644af73d",
   "metadata": {},
   "outputs": [
    {
     "data": {
      "text/plain": [
       "Index(['words', 'frequency_x', 'frequency_y'], dtype='object')"
      ]
     },
     "execution_count": 170,
     "metadata": {},
     "output_type": "execute_result"
    }
   ],
   "source": [
    "df_comp.columns"
   ]
  },
  {
   "cell_type": "code",
   "execution_count": 172,
   "id": "2c390c25-4081-4445-9c0b-7109be8f6b9a",
   "metadata": {},
   "outputs": [],
   "source": [
    "df_comp.columns = ['words', 'freq_ad', 'freq_resume']"
   ]
  },
  {
   "cell_type": "code",
   "execution_count": 182,
   "id": "27f5fd05-f4a9-4616-9589-d18e72f1cd30",
   "metadata": {},
   "outputs": [],
   "source": [
    "df_comp = df_comp.fillna(0)"
   ]
  },
  {
   "cell_type": "code",
   "execution_count": 183,
   "id": "746a6a7a-d710-44bd-bb18-e2f6fa35198c",
   "metadata": {},
   "outputs": [],
   "source": [
    "df_comp[\"difference\"] = df_comp[\"freq_ad\"] - df_comp[\"freq_resume\"]"
   ]
  },
  {
   "cell_type": "code",
   "execution_count": 184,
   "id": "6fe30406-70cb-4430-8986-beb97f75b7f4",
   "metadata": {},
   "outputs": [
    {
     "data": {
      "text/html": [
       "<div>\n",
       "<style scoped>\n",
       "    .dataframe tbody tr th:only-of-type {\n",
       "        vertical-align: middle;\n",
       "    }\n",
       "\n",
       "    .dataframe tbody tr th {\n",
       "        vertical-align: top;\n",
       "    }\n",
       "\n",
       "    .dataframe thead th {\n",
       "        text-align: right;\n",
       "    }\n",
       "</style>\n",
       "<table border=\"1\" class=\"dataframe\">\n",
       "  <thead>\n",
       "    <tr style=\"text-align: right;\">\n",
       "      <th></th>\n",
       "      <th>words</th>\n",
       "      <th>freq_ad</th>\n",
       "      <th>freq_resume</th>\n",
       "      <th>difference</th>\n",
       "    </tr>\n",
       "  </thead>\n",
       "  <tbody>\n",
       "    <tr>\n",
       "      <th>0</th>\n",
       "      <td>data</td>\n",
       "      <td>8.0</td>\n",
       "      <td>19.0</td>\n",
       "      <td>-11.0</td>\n",
       "    </tr>\n",
       "    <tr>\n",
       "      <th>1</th>\n",
       "      <td>team</td>\n",
       "      <td>4.2</td>\n",
       "      <td>3.0</td>\n",
       "      <td>1.2</td>\n",
       "    </tr>\n",
       "    <tr>\n",
       "      <th>2</th>\n",
       "      <td>model</td>\n",
       "      <td>3.0</td>\n",
       "      <td>0.0</td>\n",
       "      <td>3.0</td>\n",
       "    </tr>\n",
       "    <tr>\n",
       "      <th>3</th>\n",
       "      <td>experience</td>\n",
       "      <td>2.8</td>\n",
       "      <td>4.0</td>\n",
       "      <td>-1.2</td>\n",
       "    </tr>\n",
       "    <tr>\n",
       "      <th>4</th>\n",
       "      <td>work</td>\n",
       "      <td>2.8</td>\n",
       "      <td>2.0</td>\n",
       "      <td>0.8</td>\n",
       "    </tr>\n",
       "    <tr>\n",
       "      <th>...</th>\n",
       "      <td>...</td>\n",
       "      <td>...</td>\n",
       "      <td>...</td>\n",
       "      <td>...</td>\n",
       "    </tr>\n",
       "    <tr>\n",
       "      <th>364</th>\n",
       "      <td>investing</td>\n",
       "      <td>0.4</td>\n",
       "      <td>0.0</td>\n",
       "      <td>0.4</td>\n",
       "    </tr>\n",
       "    <tr>\n",
       "      <th>365</th>\n",
       "      <td>impact</td>\n",
       "      <td>0.4</td>\n",
       "      <td>0.0</td>\n",
       "      <td>0.4</td>\n",
       "    </tr>\n",
       "    <tr>\n",
       "      <th>366</th>\n",
       "      <td>future</td>\n",
       "      <td>0.4</td>\n",
       "      <td>0.0</td>\n",
       "      <td>0.4</td>\n",
       "    </tr>\n",
       "    <tr>\n",
       "      <th>367</th>\n",
       "      <td>detail</td>\n",
       "      <td>0.4</td>\n",
       "      <td>0.0</td>\n",
       "      <td>0.4</td>\n",
       "    </tr>\n",
       "    <tr>\n",
       "      <th>368</th>\n",
       "      <td>contribute</td>\n",
       "      <td>0.4</td>\n",
       "      <td>0.0</td>\n",
       "      <td>0.4</td>\n",
       "    </tr>\n",
       "  </tbody>\n",
       "</table>\n",
       "<p>369 rows × 4 columns</p>\n",
       "</div>"
      ],
      "text/plain": [
       "          words  freq_ad  freq_resume  difference\n",
       "0          data      8.0         19.0       -11.0\n",
       "1          team      4.2          3.0         1.2\n",
       "2         model      3.0          0.0         3.0\n",
       "3    experience      2.8          4.0        -1.2\n",
       "4          work      2.8          2.0         0.8\n",
       "..          ...      ...          ...         ...\n",
       "364   investing      0.4          0.0         0.4\n",
       "365      impact      0.4          0.0         0.4\n",
       "366      future      0.4          0.0         0.4\n",
       "367      detail      0.4          0.0         0.4\n",
       "368  contribute      0.4          0.0         0.4\n",
       "\n",
       "[369 rows x 4 columns]"
      ]
     },
     "execution_count": 184,
     "metadata": {},
     "output_type": "execute_result"
    }
   ],
   "source": [
    "df_comp"
   ]
  },
  {
   "cell_type": "code",
   "execution_count": 186,
   "id": "8b746761-9392-4d65-9a9b-473ccb928190",
   "metadata": {},
   "outputs": [
    {
     "data": {
      "image/png": "[encoded data removed]",
      "text/plain": [
       "<Figure size 900x600 with 1 Axes>"
      ]
     },
     "metadata": {
      "needs_background": "light"
     },
     "output_type": "display_data"
    },
    {
     "data": {
      "image/png": "[encoded data removed]",
      "text/plain": [
       "<Figure size 900x600 with 1 Axes>"
      ]
     },
     "metadata": {
      "needs_background": "light"
     },
     "output_type": "display_data"
    },
    {
     "data": {
      "image/png": "[encoded data removed]",
      "text/plain": [
       "<Figure size 900x600 with 1 Axes>"
      ]
     },
     "metadata": {
      "needs_background": "light"
     },
     "output_type": "display_data"
    }
   ],
   "source": [
    "plt.figure(dpi=150)\n",
    "sns.barplot(data=df_comp[:20], x=\"freq_ad\", y = \"words\")\n",
    "plt.show()\n",
    "\n",
    "plt.figure(dpi=150)\n",
    "sns.barplot(data=df_comp[:20], x=\"freq_resume\", y = \"words\")\n",
    "plt.show()\n",
    "\n",
    "plt.figure(dpi=150)\n",
    "sns.barplot(data=df_comp[:20], x=\"difference\", y = \"words\")\n",
    "plt.grid()\n",
    "plt.show()"
   ]
  },
  {
   "cell_type": "markdown",
   "id": "6ddc0269-ca9d-4dfc-9d3e-5ee60d932139",
   "metadata": {},
   "source": [
    "As seen from the plots, in the resume the word \"data\" is used more than enough, yet, the word \"model\" is never used despite the fact that in average there are three \"model\" word in each job ad. Similarly, we can analyze each word to make the resume better and increase the chance of finding a job."
   ]
  },
  {
   "cell_type": "markdown",
   "id": "e4b6e3da-719e-4651-a09e-b58a63d114e3",
   "metadata": {
    "tags": []
   },
   "source": [
    "<br><br>"
   ]
  },
  {
   "cell_type": "markdown",
   "id": "a9e5f7bd-a03a-4da1-8c7c-f049cf95bca7",
   "metadata": {},
   "source": [
    "## 5. Final Function of Comparison of Texts"
   ]
  },
  {
   "cell_type": "code",
   "execution_count": 187,
   "id": "552d81ee-cff6-4c5c-a1fc-6d76b2c36745",
   "metadata": {},
   "outputs": [],
   "source": [
    "def compare_texts(text,resume, number_of_ads = 5, show_result_no = 20):\n",
    "    \n",
    "    # Clean Ads\n",
    "    ads = clean_text(text)\n",
    "    ads[\"frequency\"] = ads[\"frequency\"]/number_of_ads\n",
    "    \n",
    "    # Clean Resume\n",
    "    res = clean_text(resume)\n",
    "    \n",
    "    # Merge dataframes\n",
    "    df_comp = ads.merge(res, how=\"left\", on = \"words\")\n",
    "    df_comp.columns = ['words', 'freq_ad', 'freq_resume']\n",
    "    df_comp = df_comp.fillna(0)\n",
    "    df_comp[\"difference\"] = df_comp[\"freq_ad\"] - df_comp[\"freq_resume\"]\n",
    "    \n",
    "    #Plot the results\n",
    "    plt.figure(dpi=150)\n",
    "    sns.barplot(data=df_comp[:show_result_no], x=\"freq_ad\", y = \"words\")\n",
    "    plt.show()\n",
    "\n",
    "    plt.figure(dpi=150)\n",
    "    sns.barplot(data=df_comp[:show_result_no], x=\"freq_resume\", y = \"words\")\n",
    "    plt.show()\n",
    "\n",
    "    plt.figure(dpi=150)\n",
    "    sns.barplot(data=df_comp[:show_result_no], x=\"difference\", y = \"words\")\n",
    "    plt.grid()\n",
    "    plt.show()\n",
    "    \n",
    "    return df_comp"
   ]
  },
  {
   "cell_type": "code",
   "execution_count": 205,
   "id": "59442a2e-76ab-42ba-81e7-f6422577e188",
   "metadata": {},
   "outputs": [
    {
     "data": {
      "image/png": "[encoded data removed]",
      "text/plain": [
       "<Figure size 900x600 with 1 Axes>"
      ]
     },
     "metadata": {
      "needs_background": "light"
     },
     "output_type": "display_data"
    },
    {
     "data": {
      "image/png": "[encoded data removed]",
      "text/plain": [
       "<Figure size 900x600 with 1 Axes>"
      ]
     },
     "metadata": {
      "needs_background": "light"
     },
     "output_type": "display_data"
    },
    {
     "data": {
      "image/png": "[encoded data removed]",
      "text/plain": [
       "<Figure size 900x600 with 1 Axes>"
      ]
     },
     "metadata": {
      "needs_background": "light"
     },
     "output_type": "display_data"
    }
   ],
   "source": [
    "final_df = compare_texts(text,resume)"
   ]
  },
  {
   "cell_type": "code",
   "execution_count": 206,
   "id": "c54666ca-b131-48bc-80c4-eef5763cbf1e",
   "metadata": {},
   "outputs": [
    {
     "data": {
      "text/html": [
       "<div>\n",
       "<style scoped>\n",
       "    .dataframe tbody tr th:only-of-type {\n",
       "        vertical-align: middle;\n",
       "    }\n",
       "\n",
       "    .dataframe tbody tr th {\n",
       "        vertical-align: top;\n",
       "    }\n",
       "\n",
       "    .dataframe thead th {\n",
       "        text-align: right;\n",
       "    }\n",
       "</style>\n",
       "<table border=\"1\" class=\"dataframe\">\n",
       "  <thead>\n",
       "    <tr style=\"text-align: right;\">\n",
       "      <th></th>\n",
       "      <th>words</th>\n",
       "      <th>freq_ad</th>\n",
       "      <th>freq_resume</th>\n",
       "      <th>difference</th>\n",
       "    </tr>\n",
       "  </thead>\n",
       "  <tbody>\n",
       "    <tr>\n",
       "      <th>2</th>\n",
       "      <td>model</td>\n",
       "      <td>3.0</td>\n",
       "      <td>0.0</td>\n",
       "      <td>3.0</td>\n",
       "    </tr>\n",
       "    <tr>\n",
       "      <th>16</th>\n",
       "      <td>quantitative</td>\n",
       "      <td>1.4</td>\n",
       "      <td>0.0</td>\n",
       "      <td>1.4</td>\n",
       "    </tr>\n",
       "    <tr>\n",
       "      <th>15</th>\n",
       "      <td>day</td>\n",
       "      <td>1.4</td>\n",
       "      <td>0.0</td>\n",
       "      <td>1.4</td>\n",
       "    </tr>\n",
       "    <tr>\n",
       "      <th>13</th>\n",
       "      <td>software</td>\n",
       "      <td>1.4</td>\n",
       "      <td>0.0</td>\n",
       "      <td>1.4</td>\n",
       "    </tr>\n",
       "    <tr>\n",
       "      <th>1</th>\n",
       "      <td>team</td>\n",
       "      <td>4.2</td>\n",
       "      <td>3.0</td>\n",
       "      <td>1.2</td>\n",
       "    </tr>\n",
       "    <tr>\n",
       "      <th>26</th>\n",
       "      <td>opportunity</td>\n",
       "      <td>1.2</td>\n",
       "      <td>0.0</td>\n",
       "      <td>1.2</td>\n",
       "    </tr>\n",
       "    <tr>\n",
       "      <th>25</th>\n",
       "      <td>food</td>\n",
       "      <td>1.2</td>\n",
       "      <td>0.0</td>\n",
       "      <td>1.2</td>\n",
       "    </tr>\n",
       "    <tr>\n",
       "      <th>20</th>\n",
       "      <td>office</td>\n",
       "      <td>1.2</td>\n",
       "      <td>0.0</td>\n",
       "      <td>1.2</td>\n",
       "    </tr>\n",
       "    <tr>\n",
       "      <th>19</th>\n",
       "      <td>join</td>\n",
       "      <td>1.2</td>\n",
       "      <td>0.0</td>\n",
       "      <td>1.2</td>\n",
       "    </tr>\n",
       "    <tr>\n",
       "      <th>22</th>\n",
       "      <td>looking</td>\n",
       "      <td>1.2</td>\n",
       "      <td>0.0</td>\n",
       "      <td>1.2</td>\n",
       "    </tr>\n",
       "    <tr>\n",
       "      <th>30</th>\n",
       "      <td>good</td>\n",
       "      <td>1.0</td>\n",
       "      <td>0.0</td>\n",
       "      <td>1.0</td>\n",
       "    </tr>\n",
       "    <tr>\n",
       "      <th>37</th>\n",
       "      <td>business</td>\n",
       "      <td>1.0</td>\n",
       "      <td>0.0</td>\n",
       "      <td>1.0</td>\n",
       "    </tr>\n",
       "    <tr>\n",
       "      <th>40</th>\n",
       "      <td>flexible</td>\n",
       "      <td>1.0</td>\n",
       "      <td>0.0</td>\n",
       "      <td>1.0</td>\n",
       "    </tr>\n",
       "    <tr>\n",
       "      <th>39</th>\n",
       "      <td>knowledge</td>\n",
       "      <td>1.0</td>\n",
       "      <td>0.0</td>\n",
       "      <td>1.0</td>\n",
       "    </tr>\n",
       "    <tr>\n",
       "      <th>32</th>\n",
       "      <td>test</td>\n",
       "      <td>1.0</td>\n",
       "      <td>0.0</td>\n",
       "      <td>1.0</td>\n",
       "    </tr>\n",
       "  </tbody>\n",
       "</table>\n",
       "</div>"
      ],
      "text/plain": [
       "           words  freq_ad  freq_resume  difference\n",
       "2          model      3.0          0.0         3.0\n",
       "16  quantitative      1.4          0.0         1.4\n",
       "15           day      1.4          0.0         1.4\n",
       "13      software      1.4          0.0         1.4\n",
       "1           team      4.2          3.0         1.2\n",
       "26   opportunity      1.2          0.0         1.2\n",
       "25          food      1.2          0.0         1.2\n",
       "20        office      1.2          0.0         1.2\n",
       "19          join      1.2          0.0         1.2\n",
       "22       looking      1.2          0.0         1.2\n",
       "30          good      1.0          0.0         1.0\n",
       "37      business      1.0          0.0         1.0\n",
       "40      flexible      1.0          0.0         1.0\n",
       "39     knowledge      1.0          0.0         1.0\n",
       "32          test      1.0          0.0         1.0"
      ]
     },
     "execution_count": 206,
     "metadata": {},
     "output_type": "execute_result"
    }
   ],
   "source": [
    "final_df.sort_values(by = \"difference\", ascending=False).head(15)"
   ]
  },
  {
   "cell_type": "code",
   "execution_count": 207,
   "id": "9c4495f1-7e99-4fa7-a76e-ba1c77ec854b",
   "metadata": {},
   "outputs": [
    {
     "data": {
      "text/html": [
       "<div>\n",
       "<style scoped>\n",
       "    .dataframe tbody tr th:only-of-type {\n",
       "        vertical-align: middle;\n",
       "    }\n",
       "\n",
       "    .dataframe tbody tr th {\n",
       "        vertical-align: top;\n",
       "    }\n",
       "\n",
       "    .dataframe thead th {\n",
       "        text-align: right;\n",
       "    }\n",
       "</style>\n",
       "<table border=\"1\" class=\"dataframe\">\n",
       "  <thead>\n",
       "    <tr style=\"text-align: right;\">\n",
       "      <th></th>\n",
       "      <th>words</th>\n",
       "      <th>freq_ad</th>\n",
       "      <th>freq_resume</th>\n",
       "      <th>difference</th>\n",
       "    </tr>\n",
       "  </thead>\n",
       "  <tbody>\n",
       "    <tr>\n",
       "      <th>4125</th>\n",
       "      <td>report</td>\n",
       "      <td>0.2</td>\n",
       "      <td>4.0</td>\n",
       "      <td>-3.8</td>\n",
       "    </tr>\n",
       "    <tr>\n",
       "      <th>27</th>\n",
       "      <td>python</td>\n",
       "      <td>1.0</td>\n",
       "      <td>5.0</td>\n",
       "      <td>-4.0</td>\n",
       "    </tr>\n",
       "    <tr>\n",
       "      <th>7</th>\n",
       "      <td>machine</td>\n",
       "      <td>2.0</td>\n",
       "      <td>6.0</td>\n",
       "      <td>-4.0</td>\n",
       "    </tr>\n",
       "    <tr>\n",
       "      <th>11</th>\n",
       "      <td>science</td>\n",
       "      <td>1.8</td>\n",
       "      <td>7.0</td>\n",
       "      <td>-5.2</td>\n",
       "    </tr>\n",
       "    <tr>\n",
       "      <th>132</th>\n",
       "      <td>data analysis</td>\n",
       "      <td>0.6</td>\n",
       "      <td>6.0</td>\n",
       "      <td>-5.4</td>\n",
       "    </tr>\n",
       "    <tr>\n",
       "      <th>100</th>\n",
       "      <td>data analysis analysis</td>\n",
       "      <td>0.6</td>\n",
       "      <td>6.0</td>\n",
       "      <td>-5.4</td>\n",
       "    </tr>\n",
       "    <tr>\n",
       "      <th>106</th>\n",
       "      <td>data data analysis</td>\n",
       "      <td>0.6</td>\n",
       "      <td>6.0</td>\n",
       "      <td>-5.4</td>\n",
       "    </tr>\n",
       "    <tr>\n",
       "      <th>28</th>\n",
       "      <td>data science science</td>\n",
       "      <td>1.0</td>\n",
       "      <td>7.0</td>\n",
       "      <td>-6.0</td>\n",
       "    </tr>\n",
       "    <tr>\n",
       "      <th>29</th>\n",
       "      <td>engineering</td>\n",
       "      <td>1.0</td>\n",
       "      <td>7.0</td>\n",
       "      <td>-6.0</td>\n",
       "    </tr>\n",
       "    <tr>\n",
       "      <th>36</th>\n",
       "      <td>data data science</td>\n",
       "      <td>1.0</td>\n",
       "      <td>7.0</td>\n",
       "      <td>-6.0</td>\n",
       "    </tr>\n",
       "    <tr>\n",
       "      <th>38</th>\n",
       "      <td>data science</td>\n",
       "      <td>1.0</td>\n",
       "      <td>7.0</td>\n",
       "      <td>-6.0</td>\n",
       "    </tr>\n",
       "    <tr>\n",
       "      <th>346</th>\n",
       "      <td>university</td>\n",
       "      <td>0.4</td>\n",
       "      <td>7.0</td>\n",
       "      <td>-6.6</td>\n",
       "    </tr>\n",
       "    <tr>\n",
       "      <th>14</th>\n",
       "      <td>analysis</td>\n",
       "      <td>1.4</td>\n",
       "      <td>11.0</td>\n",
       "      <td>-9.6</td>\n",
       "    </tr>\n",
       "    <tr>\n",
       "      <th>0</th>\n",
       "      <td>data</td>\n",
       "      <td>8.0</td>\n",
       "      <td>19.0</td>\n",
       "      <td>-11.0</td>\n",
       "    </tr>\n",
       "    <tr>\n",
       "      <th>129</th>\n",
       "      <td>project</td>\n",
       "      <td>0.6</td>\n",
       "      <td>12.0</td>\n",
       "      <td>-11.4</td>\n",
       "    </tr>\n",
       "  </tbody>\n",
       "</table>\n",
       "</div>"
      ],
      "text/plain": [
       "                       words  freq_ad  freq_resume  difference\n",
       "4125                  report      0.2          4.0        -3.8\n",
       "27                    python      1.0          5.0        -4.0\n",
       "7                    machine      2.0          6.0        -4.0\n",
       "11                   science      1.8          7.0        -5.2\n",
       "132            data analysis      0.6          6.0        -5.4\n",
       "100   data analysis analysis      0.6          6.0        -5.4\n",
       "106       data data analysis      0.6          6.0        -5.4\n",
       "28      data science science      1.0          7.0        -6.0\n",
       "29               engineering      1.0          7.0        -6.0\n",
       "36         data data science      1.0          7.0        -6.0\n",
       "38              data science      1.0          7.0        -6.0\n",
       "346               university      0.4          7.0        -6.6\n",
       "14                  analysis      1.4         11.0        -9.6\n",
       "0                       data      8.0         19.0       -11.0\n",
       "129                  project      0.6         12.0       -11.4"
      ]
     },
     "execution_count": 207,
     "metadata": {},
     "output_type": "execute_result"
    }
   ],
   "source": [
    "final_df.sort_values(by = \"difference\", ascending=False).tail(15)"
   ]
  },
  {
   "cell_type": "markdown",
   "id": "e872dd01-907b-420b-a0c6-4f93b2412d6a",
   "metadata": {},
   "source": [
    "There it is. Now our final function compares the job ads and the resume. Before I conclude, I want to add another feature that is related to this topic."
   ]
  },
  {
   "cell_type": "markdown",
   "id": "08589806-c63b-47b4-ba99-27b0624abaaa",
   "metadata": {},
   "source": [
    "<br><br>"
   ]
  },
  {
   "cell_type": "markdown",
   "id": "edbf6755-7658-47ba-a147-ea4faccfff64",
   "metadata": {},
   "source": [
    "**Programming Languages**"
   ]
  },
  {
   "cell_type": "markdown",
   "id": "62f24508-6535-4a1e-a4ce-65205a4db73a",
   "metadata": {},
   "source": [
    "Since we are looking at a data scientist resume, then we should also consider programming languages that may be referred in an ad just once but more important than other words for sure."
   ]
  },
  {
   "cell_type": "code",
   "execution_count": 208,
   "id": "32e568ec-2e52-4116-b099-6864de6688f8",
   "metadata": {},
   "outputs": [],
   "source": [
    "prog_lang = [\"python\", \"scala\", \"r\", \"aws\", \"azure\", \"excel\", \"tableau\", \"powerbi\", \"qlik\", \"sql\",\"sas\"]"
   ]
  },
  {
   "cell_type": "code",
   "execution_count": 216,
   "id": "f911e1ad-078f-4c5e-8273-b8204aeaf521",
   "metadata": {},
   "outputs": [
    {
     "data": {
      "text/html": [
       "<div>\n",
       "<style scoped>\n",
       "    .dataframe tbody tr th:only-of-type {\n",
       "        vertical-align: middle;\n",
       "    }\n",
       "\n",
       "    .dataframe tbody tr th {\n",
       "        vertical-align: top;\n",
       "    }\n",
       "\n",
       "    .dataframe thead th {\n",
       "        text-align: right;\n",
       "    }\n",
       "</style>\n",
       "<table border=\"1\" class=\"dataframe\">\n",
       "  <thead>\n",
       "    <tr style=\"text-align: right;\">\n",
       "      <th></th>\n",
       "      <th>words</th>\n",
       "      <th>freq_ad</th>\n",
       "      <th>freq_resume</th>\n",
       "      <th>difference</th>\n",
       "    </tr>\n",
       "  </thead>\n",
       "  <tbody>\n",
       "    <tr>\n",
       "      <th>27</th>\n",
       "      <td>python</td>\n",
       "      <td>1.0</td>\n",
       "      <td>5.0</td>\n",
       "      <td>-4.0</td>\n",
       "    </tr>\n",
       "    <tr>\n",
       "      <th>46</th>\n",
       "      <td>sql</td>\n",
       "      <td>0.8</td>\n",
       "      <td>0.0</td>\n",
       "      <td>0.8</td>\n",
       "    </tr>\n",
       "  </tbody>\n",
       "</table>\n",
       "</div>"
      ],
      "text/plain": [
       "     words  freq_ad  freq_resume  difference\n",
       "27  python      1.0          5.0        -4.0\n",
       "46     sql      0.8          0.0         0.8"
      ]
     },
     "execution_count": 216,
     "metadata": {},
     "output_type": "execute_result"
    }
   ],
   "source": [
    "df_comp[df_comp[\"words\"].isin(prog_lang)]"
   ]
  },
  {
   "cell_type": "code",
   "execution_count": 229,
   "id": "6b94ea02-ec6e-4d4a-b124-73b5a2b02411",
   "metadata": {},
   "outputs": [
    {
     "data": {
      "text/plain": [
       "682"
      ]
     },
     "execution_count": 229,
     "metadata": {},
     "output_type": "execute_result"
    }
   ],
   "source": [
    "len(\" \".join(resume.split(\"\\n\")).split())"
   ]
  },
  {
   "cell_type": "markdown",
   "id": "d429961a-2803-4e27-a853-e002d5fba716",
   "metadata": {},
   "source": [
    "<br><br>"
   ]
  },
  {
   "cell_type": "markdown",
   "id": "87718656-06ae-4c6b-997f-819549e18c2e",
   "metadata": {},
   "source": [
    "**Thanks for following**"
   ]
  },
  {
   "cell_type": "markdown",
   "id": "ab9a42e7-b527-4fa1-a6b1-32fc199bcb6a",
   "metadata": {},
   "source": [
    "Dr. Ömer Faruk Aydın"
   ]
  }
 ],
 "metadata": {
  "kernelspec": {
   "display_name": "Python 3 (ipykernel)",
   "language": "python",
   "name": "python3"
  },
  "language_info": {
   "codemirror_mode": {
    "name": "ipython",
    "version": 3
   },
   "file_extension": ".py",
   "mimetype": "text/x-python",
   "name": "python",
   "nbconvert_exporter": "python",
   "pygments_lexer": "ipython3",
   "version": "3.9.12"
  }
 },
 "nbformat": 4,
 "nbformat_minor": 5
}
