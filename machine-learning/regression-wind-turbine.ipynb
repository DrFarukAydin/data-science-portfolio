{
 "cells": [
  {
   "cell_type": "markdown",
   "id": "49ce5c84-467d-4608-845a-9b7976b243b7",
   "metadata": {
    "tags": []
   },
   "source": [
    "## Wind Turbine Power Output Prediction"
   ]
  },
  {
   "cell_type": "markdown",
   "id": "e8a23998-cae0-4d55-8a30-fa06a64a9a62",
   "metadata": {
    "tags": []
   },
   "source": [
    "# Regression Analysis"
   ]
  },
  {
   "cell_type": "markdown",
   "id": "063e5cae-4daa-4d6e-8c65-97b1ad4174bb",
   "metadata": {},
   "source": [
    "**Motivation**"
   ]
  },
  {
   "cell_type": "markdown",
   "id": "6ee6bc2f-a308-4474-96a5-f82e9891e808",
   "metadata": {},
   "source": [
    "In this work, various Regression Analyses are performed to predict power output of a wind turbine for a **Kaggle Competition** is performed. The results are evaluated with Root Mean Squared Error (RMSE) score. To improve this score many **state-of-art regression algorithms** are utilized, as well as, various **novel imputation techniques**. This work contains all the processes from data cleaning to machine learning. "
   ]
  },
  {
   "cell_type": "markdown",
   "id": "306fa014-06d5-467f-8db5-ca16f81a32cd",
   "metadata": {},
   "source": [
    "**Dataset**"
   ]
  },
  {
   "cell_type": "markdown",
   "id": "98d8af69-b96a-4ff6-b584-f63239406736",
   "metadata": {},
   "source": [
    "The data set presented in the problem consists of real-time SCADA data. In the shared data set, the real-time power generation amount (Power(kW)) of a wind turbine on a 10-minute basis between 01.01.2019 and 14.08.2021 is given. In addition to real-time power generation; some SCADA data of the wind turbine were shared for the date range 01.01.2019 – 14.12.2021. The date range to be estimated has been determined as 15.08.2021 – 14.12.2021."
   ]
  },
  {
   "cell_type": "markdown",
   "id": "383638ce-a072-4d87-92d8-b9619aee2d57",
   "metadata": {},
   "source": [
    "**RoadMap**"
   ]
  },
  {
   "cell_type": "markdown",
   "id": "58f12c06-d191-490f-9989-c7aac683c493",
   "metadata": {},
   "source": [
    "<li>We begin our work by importing libraries and dataset. \n",
    "<li>After data cleaning, analysis and missing value analysis, we will try to impute missing values with <b>KNNImputer, SimpleImputer, IterativeImputer</b> and <b>LGBM Imputer</b>. \n",
    "<li>When data is split into train and test dataframes, <b>StratifiedKFold</b> algorithm is chosen instead of simple train_test_split method, which randomly selects sample values. The reason for that is to maintain distribution of the data to get better results with ML.\n",
    "<li>Then, we will apply various regression algoritms, e.g., <b>ElasticNet, KNN Regressor, SVM, MLP Regressor (Neural Network), Decision Tree, Bagging, RandomForest, ADABoost, GradientBoosting, XGBoost, LGBM</b> and <b>CatBoost Regressors</b>. \n",
    "<li>Based on their results, the best performing imputer will be selected and the best performing regressors will be tuned to improve our score."
   ]
  },
  {
   "cell_type": "markdown",
   "id": "47a08a4b-d249-4f3d-818e-0d4dafe02bed",
   "metadata": {},
   "source": [
    "<br><br>"
   ]
  },
  {
   "cell_type": "markdown",
   "id": "35df0766-ef4d-409d-9ae7-5e9fc5e1c128",
   "metadata": {
    "jp-MarkdownHeadingCollapsed": true,
    "tags": []
   },
   "source": [
    "## 1. Importing Libraries & Raw Data"
   ]
  },
  {
   "cell_type": "code",
   "execution_count": 2,
   "id": "e34da557-a556-4e29-885a-69977a79ba81",
   "metadata": {},
   "outputs": [],
   "source": [
    "import pandas as pd\n",
    "import numpy as np\n",
    "import matplotlib.pyplot as plt\n",
    "%matplotlib inline\n",
    "import seaborn as sns\n",
    "import warnings\n",
    "warnings.filterwarnings(\"ignore\", category=DeprecationWarning) "
   ]
  },
  {
   "cell_type": "code",
   "execution_count": 3,
   "id": "25636502-dd07-463c-9c2a-09f3bb0c2e2c",
   "metadata": {},
   "outputs": [],
   "source": [
    "from sklearn.experimental import enable_iterative_imputer\n",
    "from sklearn.impute import KNNImputer, SimpleImputer, IterativeImputer\n",
    "from tqdm import tqdm\n",
    "import lightgbm as lgb\n",
    "\n",
    "from sklearn.model_selection import train_test_split, StratifiedKFold, GridSearchCV\n",
    "from sklearn.preprocessing import StandardScaler\n",
    "from sklearn.metrics import mean_squared_error\n",
    "\n",
    "from sklearn.linear_model import ElasticNet\n",
    "from sklearn.neighbors import KNeighborsRegressor\n",
    "from sklearn.svm import SVR\n",
    "from sklearn.neural_network import MLPRegressor\n",
    "from sklearn.tree import DecisionTreeRegressor\n",
    "from sklearn.ensemble import BaggingRegressor, RandomForestRegressor, AdaBoostRegressor, GradientBoostingRegressor\n",
    "from xgboost import XGBRegressor\n",
    "from lightgbm import LGBMRegressor\n",
    "from catboost import CatBoostRegressor"
   ]
  },
  {
   "cell_type": "code",
   "execution_count": 4,
   "id": "6c8e43d6-53ba-4f78-aa45-4326517fa453",
   "metadata": {},
   "outputs": [],
   "source": [
    "features = pd.read_csv(\"features.csv\")"
   ]
  },
  {
   "cell_type": "code",
   "execution_count": 5,
   "id": "370c5977-3f4b-42fc-b7ba-90a5c52f71bf",
   "metadata": {},
   "outputs": [],
   "source": [
    "power = pd.read_csv(\"power.csv\")"
   ]
  },
  {
   "cell_type": "code",
   "execution_count": 6,
   "id": "fa2d3a90-2536-4ecc-95fb-f1d410a7044d",
   "metadata": {},
   "outputs": [],
   "source": [
    "units = pd.read_csv(\"feature_units.csv\")"
   ]
  },
  {
   "cell_type": "markdown",
   "id": "1578bfe5-0309-4677-be44-96785bc84702",
   "metadata": {},
   "source": [
    "<br><br><br>"
   ]
  },
  {
   "cell_type": "markdown",
   "id": "614da360-3b84-4b49-8eaa-3ee169a991ef",
   "metadata": {
    "jp-MarkdownHeadingCollapsed": true,
    "tags": []
   },
   "source": [
    "## 2. Exploratory Data Analysis"
   ]
  },
  {
   "cell_type": "code",
   "execution_count": 7,
   "id": "5c0faa66-d31d-472c-ad22-5989446f0065",
   "metadata": {},
   "outputs": [
    {
     "data": {
      "text/html": [
       "<div>\n",
       "<style scoped>\n",
       "    .dataframe tbody tr th:only-of-type {\n",
       "        vertical-align: middle;\n",
       "    }\n",
       "\n",
       "    .dataframe tbody tr th {\n",
       "        vertical-align: top;\n",
       "    }\n",
       "\n",
       "    .dataframe thead th {\n",
       "        text-align: right;\n",
       "    }\n",
       "</style>\n",
       "<table border=\"1\" class=\"dataframe\">\n",
       "  <thead>\n",
       "    <tr style=\"text-align: right;\">\n",
       "      <th></th>\n",
       "      <th>Timestamp</th>\n",
       "      <th>Gearbox_T1_High_Speed_Shaft_Temperature</th>\n",
       "      <th>Gearbox_T3_High_Speed_Shaft_Temperature</th>\n",
       "      <th>Gearbox_T1_Intermediate_Speed_Shaft_Temperature</th>\n",
       "      <th>Temperature Gearbox Bearing Hollow Shaft</th>\n",
       "      <th>Tower Acceleration Normal</th>\n",
       "      <th>Gearbox_Oil-2_Temperature</th>\n",
       "      <th>Tower Acceleration Lateral</th>\n",
       "      <th>Temperature Bearing_A</th>\n",
       "      <th>Temperature Trafo-3</th>\n",
       "      <th>...</th>\n",
       "      <th>Blade-1 Actual Value_Angle-A</th>\n",
       "      <th>Blade-2 Set Value_Degree</th>\n",
       "      <th>Pitch Demand Baseline_Degree</th>\n",
       "      <th>Blade-1 Set Value_Degree</th>\n",
       "      <th>Blade-3 Set Value_Degree</th>\n",
       "      <th>Moment Q Direction</th>\n",
       "      <th>Moment Q Filltered</th>\n",
       "      <th>Proxy Sensor_Degree-45</th>\n",
       "      <th>Turbine State</th>\n",
       "      <th>Proxy Sensor_Degree-315</th>\n",
       "    </tr>\n",
       "  </thead>\n",
       "  <tbody>\n",
       "    <tr>\n",
       "      <th>0</th>\n",
       "      <td>2019-01-01 00:00:00</td>\n",
       "      <td>57.000000</td>\n",
       "      <td>59.000000</td>\n",
       "      <td>52.000000</td>\n",
       "      <td>56.158333</td>\n",
       "      <td>47.053776</td>\n",
       "      <td>57.000000</td>\n",
       "      <td>18.890772</td>\n",
       "      <td>35.000000</td>\n",
       "      <td>48.576668</td>\n",
       "      <td>...</td>\n",
       "      <td>0.055473</td>\n",
       "      <td>0.267122</td>\n",
       "      <td>0.0</td>\n",
       "      <td>0.058617</td>\n",
       "      <td>-0.325738</td>\n",
       "      <td>37.867054</td>\n",
       "      <td>39.281124</td>\n",
       "      <td>5.732657</td>\n",
       "      <td>1.0</td>\n",
       "      <td>5.779913</td>\n",
       "    </tr>\n",
       "    <tr>\n",
       "      <th>1</th>\n",
       "      <td>2019-01-01 00:10:00</td>\n",
       "      <td>57.693333</td>\n",
       "      <td>59.485001</td>\n",
       "      <td>52.450001</td>\n",
       "      <td>57.000000</td>\n",
       "      <td>64.969742</td>\n",
       "      <td>57.413334</td>\n",
       "      <td>28.560265</td>\n",
       "      <td>35.233334</td>\n",
       "      <td>48.000000</td>\n",
       "      <td>...</td>\n",
       "      <td>0.055473</td>\n",
       "      <td>0.267122</td>\n",
       "      <td>0.0</td>\n",
       "      <td>0.058617</td>\n",
       "      <td>-0.325738</td>\n",
       "      <td>-90.169106</td>\n",
       "      <td>-89.018669</td>\n",
       "      <td>5.813177</td>\n",
       "      <td>1.0</td>\n",
       "      <td>5.796757</td>\n",
       "    </tr>\n",
       "    <tr>\n",
       "      <th>2</th>\n",
       "      <td>2019-01-01 00:20:00</td>\n",
       "      <td>59.000000</td>\n",
       "      <td>60.756668</td>\n",
       "      <td>53.536667</td>\n",
       "      <td>57.775002</td>\n",
       "      <td>51.149670</td>\n",
       "      <td>58.728333</td>\n",
       "      <td>34.228813</td>\n",
       "      <td>36.000000</td>\n",
       "      <td>48.053333</td>\n",
       "      <td>...</td>\n",
       "      <td>0.055473</td>\n",
       "      <td>0.267122</td>\n",
       "      <td>0.0</td>\n",
       "      <td>0.058617</td>\n",
       "      <td>-0.325738</td>\n",
       "      <td>-88.556343</td>\n",
       "      <td>-88.422020</td>\n",
       "      <td>5.786413</td>\n",
       "      <td>1.0</td>\n",
       "      <td>5.772958</td>\n",
       "    </tr>\n",
       "    <tr>\n",
       "      <th>3</th>\n",
       "      <td>2019-01-01 00:30:00</td>\n",
       "      <td>59.881668</td>\n",
       "      <td>61.563332</td>\n",
       "      <td>54.413334</td>\n",
       "      <td>58.683334</td>\n",
       "      <td>58.740929</td>\n",
       "      <td>59.518333</td>\n",
       "      <td>35.593220</td>\n",
       "      <td>36.000000</td>\n",
       "      <td>48.788334</td>\n",
       "      <td>...</td>\n",
       "      <td>0.055473</td>\n",
       "      <td>0.267122</td>\n",
       "      <td>0.0</td>\n",
       "      <td>0.058617</td>\n",
       "      <td>-0.325738</td>\n",
       "      <td>-123.755341</td>\n",
       "      <td>-124.858444</td>\n",
       "      <td>5.758913</td>\n",
       "      <td>1.0</td>\n",
       "      <td>5.728393</td>\n",
       "    </tr>\n",
       "    <tr>\n",
       "      <th>4</th>\n",
       "      <td>2019-01-01 00:40:00</td>\n",
       "      <td>61.290001</td>\n",
       "      <td>62.586666</td>\n",
       "      <td>55.485001</td>\n",
       "      <td>59.623333</td>\n",
       "      <td>53.264774</td>\n",
       "      <td>60.665001</td>\n",
       "      <td>38.552731</td>\n",
       "      <td>36.000000</td>\n",
       "      <td>49.000000</td>\n",
       "      <td>...</td>\n",
       "      <td>0.053982</td>\n",
       "      <td>0.267612</td>\n",
       "      <td>0.0</td>\n",
       "      <td>0.058703</td>\n",
       "      <td>-0.325443</td>\n",
       "      <td>-142.533325</td>\n",
       "      <td>-142.053543</td>\n",
       "      <td>5.724591</td>\n",
       "      <td>1.0</td>\n",
       "      <td>5.687730</td>\n",
       "    </tr>\n",
       "  </tbody>\n",
       "</table>\n",
       "<p>5 rows × 77 columns</p>\n",
       "</div>"
      ],
      "text/plain": [
       "             Timestamp  Gearbox_T1_High_Speed_Shaft_Temperature  \\\n",
       "0  2019-01-01 00:00:00                                57.000000   \n",
       "1  2019-01-01 00:10:00                                57.693333   \n",
       "2  2019-01-01 00:20:00                                59.000000   \n",
       "3  2019-01-01 00:30:00                                59.881668   \n",
       "4  2019-01-01 00:40:00                                61.290001   \n",
       "\n",
       "   Gearbox_T3_High_Speed_Shaft_Temperature  \\\n",
       "0                                59.000000   \n",
       "1                                59.485001   \n",
       "2                                60.756668   \n",
       "3                                61.563332   \n",
       "4                                62.586666   \n",
       "\n",
       "   Gearbox_T1_Intermediate_Speed_Shaft_Temperature  \\\n",
       "0                                        52.000000   \n",
       "1                                        52.450001   \n",
       "2                                        53.536667   \n",
       "3                                        54.413334   \n",
       "4                                        55.485001   \n",
       "\n",
       "   Temperature Gearbox Bearing Hollow Shaft  Tower Acceleration Normal  \\\n",
       "0                                 56.158333                  47.053776   \n",
       "1                                 57.000000                  64.969742   \n",
       "2                                 57.775002                  51.149670   \n",
       "3                                 58.683334                  58.740929   \n",
       "4                                 59.623333                  53.264774   \n",
       "\n",
       "   Gearbox_Oil-2_Temperature  Tower Acceleration Lateral  \\\n",
       "0                  57.000000                   18.890772   \n",
       "1                  57.413334                   28.560265   \n",
       "2                  58.728333                   34.228813   \n",
       "3                  59.518333                   35.593220   \n",
       "4                  60.665001                   38.552731   \n",
       "\n",
       "   Temperature Bearing_A  Temperature Trafo-3  ...  \\\n",
       "0              35.000000            48.576668  ...   \n",
       "1              35.233334            48.000000  ...   \n",
       "2              36.000000            48.053333  ...   \n",
       "3              36.000000            48.788334  ...   \n",
       "4              36.000000            49.000000  ...   \n",
       "\n",
       "   Blade-1 Actual Value_Angle-A  Blade-2 Set Value_Degree  \\\n",
       "0                      0.055473                  0.267122   \n",
       "1                      0.055473                  0.267122   \n",
       "2                      0.055473                  0.267122   \n",
       "3                      0.055473                  0.267122   \n",
       "4                      0.053982                  0.267612   \n",
       "\n",
       "   Pitch Demand Baseline_Degree  Blade-1 Set Value_Degree  \\\n",
       "0                           0.0                  0.058617   \n",
       "1                           0.0                  0.058617   \n",
       "2                           0.0                  0.058617   \n",
       "3                           0.0                  0.058617   \n",
       "4                           0.0                  0.058703   \n",
       "\n",
       "   Blade-3 Set Value_Degree  Moment Q Direction  Moment Q Filltered  \\\n",
       "0                 -0.325738           37.867054           39.281124   \n",
       "1                 -0.325738          -90.169106          -89.018669   \n",
       "2                 -0.325738          -88.556343          -88.422020   \n",
       "3                 -0.325738         -123.755341         -124.858444   \n",
       "4                 -0.325443         -142.533325         -142.053543   \n",
       "\n",
       "   Proxy Sensor_Degree-45  Turbine State  Proxy Sensor_Degree-315  \n",
       "0                5.732657            1.0                 5.779913  \n",
       "1                5.813177            1.0                 5.796757  \n",
       "2                5.786413            1.0                 5.772958  \n",
       "3                5.758913            1.0                 5.728393  \n",
       "4                5.724591            1.0                 5.687730  \n",
       "\n",
       "[5 rows x 77 columns]"
      ]
     },
     "execution_count": 7,
     "metadata": {},
     "output_type": "execute_result"
    }
   ],
   "source": [
    "features.head()"
   ]
  },
  {
   "cell_type": "code",
   "execution_count": 8,
   "id": "3aefd58c-fecc-4335-829a-e1519ec1ee1d",
   "metadata": {},
   "outputs": [
    {
     "data": {
      "text/html": [
       "<div>\n",
       "<style scoped>\n",
       "    .dataframe tbody tr th:only-of-type {\n",
       "        vertical-align: middle;\n",
       "    }\n",
       "\n",
       "    .dataframe tbody tr th {\n",
       "        vertical-align: top;\n",
       "    }\n",
       "\n",
       "    .dataframe thead th {\n",
       "        text-align: right;\n",
       "    }\n",
       "</style>\n",
       "<table border=\"1\" class=\"dataframe\">\n",
       "  <thead>\n",
       "    <tr style=\"text-align: right;\">\n",
       "      <th></th>\n",
       "      <th>Timestamp</th>\n",
       "      <th>Power(kW)</th>\n",
       "    </tr>\n",
       "  </thead>\n",
       "  <tbody>\n",
       "    <tr>\n",
       "      <th>0</th>\n",
       "      <td>2019-01-01 00:00:00</td>\n",
       "      <td>705.876648</td>\n",
       "    </tr>\n",
       "    <tr>\n",
       "      <th>1</th>\n",
       "      <td>2019-01-01 00:10:00</td>\n",
       "      <td>884.711670</td>\n",
       "    </tr>\n",
       "    <tr>\n",
       "      <th>2</th>\n",
       "      <td>2019-01-01 00:20:00</td>\n",
       "      <td>982.875000</td>\n",
       "    </tr>\n",
       "    <tr>\n",
       "      <th>3</th>\n",
       "      <td>2019-01-01 00:30:00</td>\n",
       "      <td>1115.943359</td>\n",
       "    </tr>\n",
       "    <tr>\n",
       "      <th>4</th>\n",
       "      <td>2019-01-01 00:40:00</td>\n",
       "      <td>1263.841675</td>\n",
       "    </tr>\n",
       "  </tbody>\n",
       "</table>\n",
       "</div>"
      ],
      "text/plain": [
       "             Timestamp    Power(kW)\n",
       "0  2019-01-01 00:00:00   705.876648\n",
       "1  2019-01-01 00:10:00   884.711670\n",
       "2  2019-01-01 00:20:00   982.875000\n",
       "3  2019-01-01 00:30:00  1115.943359\n",
       "4  2019-01-01 00:40:00  1263.841675"
      ]
     },
     "execution_count": 8,
     "metadata": {},
     "output_type": "execute_result"
    }
   ],
   "source": [
    "power.head()"
   ]
  },
  {
   "cell_type": "code",
   "execution_count": 9,
   "id": "6c551fc8-70df-45c1-ac1a-b114e70fb318",
   "metadata": {},
   "outputs": [
    {
     "data": {
      "text/html": [
       "<div>\n",
       "<style scoped>\n",
       "    .dataframe tbody tr th:only-of-type {\n",
       "        vertical-align: middle;\n",
       "    }\n",
       "\n",
       "    .dataframe tbody tr th {\n",
       "        vertical-align: top;\n",
       "    }\n",
       "\n",
       "    .dataframe thead th {\n",
       "        text-align: right;\n",
       "    }\n",
       "</style>\n",
       "<table border=\"1\" class=\"dataframe\">\n",
       "  <thead>\n",
       "    <tr style=\"text-align: right;\">\n",
       "      <th></th>\n",
       "      <th>Column</th>\n",
       "      <th>Unit</th>\n",
       "    </tr>\n",
       "  </thead>\n",
       "  <tbody>\n",
       "    <tr>\n",
       "      <th>10</th>\n",
       "      <td>Gearbox_T3_Intermediate_Speed_Shaft_Temperature</td>\n",
       "      <td>(°C)</td>\n",
       "    </tr>\n",
       "    <tr>\n",
       "      <th>11</th>\n",
       "      <td>Gearbox_Oil-1_Temperature</td>\n",
       "      <td>(°C)</td>\n",
       "    </tr>\n",
       "    <tr>\n",
       "      <th>12</th>\n",
       "      <td>Gearbox_Oil_Temperature</td>\n",
       "      <td>(°C)</td>\n",
       "    </tr>\n",
       "    <tr>\n",
       "      <th>13</th>\n",
       "      <td>Torque</td>\n",
       "      <td>(%)</td>\n",
       "    </tr>\n",
       "    <tr>\n",
       "      <th>14</th>\n",
       "      <td>Converter Control Unit Reactive Power</td>\n",
       "      <td>(kVAr)</td>\n",
       "    </tr>\n",
       "    <tr>\n",
       "      <th>15</th>\n",
       "      <td>Temperature Trafo-2</td>\n",
       "      <td>(°C)</td>\n",
       "    </tr>\n",
       "    <tr>\n",
       "      <th>16</th>\n",
       "      <td>Reactive Power</td>\n",
       "      <td>(kVAr)</td>\n",
       "    </tr>\n",
       "    <tr>\n",
       "      <th>17</th>\n",
       "      <td>Temperature Shaft Bearing-1</td>\n",
       "      <td>(°C)</td>\n",
       "    </tr>\n",
       "    <tr>\n",
       "      <th>18</th>\n",
       "      <td>Gearbox_Distributor_Temperature</td>\n",
       "      <td>(°C)</td>\n",
       "    </tr>\n",
       "    <tr>\n",
       "      <th>19</th>\n",
       "      <td>Moment D Filtered</td>\n",
       "      <td>(kNm)</td>\n",
       "    </tr>\n",
       "  </tbody>\n",
       "</table>\n",
       "</div>"
      ],
      "text/plain": [
       "                                             Column    Unit\n",
       "10  Gearbox_T3_Intermediate_Speed_Shaft_Temperature    (°C)\n",
       "11                        Gearbox_Oil-1_Temperature    (°C)\n",
       "12                          Gearbox_Oil_Temperature    (°C)\n",
       "13                                           Torque     (%)\n",
       "14            Converter Control Unit Reactive Power  (kVAr)\n",
       "15                              Temperature Trafo-2    (°C)\n",
       "16                                   Reactive Power  (kVAr)\n",
       "17                      Temperature Shaft Bearing-1    (°C)\n",
       "18                  Gearbox_Distributor_Temperature    (°C)\n",
       "19                                Moment D Filtered   (kNm)"
      ]
     },
     "execution_count": 9,
     "metadata": {},
     "output_type": "execute_result"
    }
   ],
   "source": [
    "units[10:20]"
   ]
  },
  {
   "cell_type": "code",
   "execution_count": 10,
   "id": "e7d1c1f0-4cfc-46f4-a8a3-2e2251db6a4f",
   "metadata": {},
   "outputs": [
    {
     "data": {
      "text/html": [
       "<div>\n",
       "<style scoped>\n",
       "    .dataframe tbody tr th:only-of-type {\n",
       "        vertical-align: middle;\n",
       "    }\n",
       "\n",
       "    .dataframe tbody tr th {\n",
       "        vertical-align: top;\n",
       "    }\n",
       "\n",
       "    .dataframe thead th {\n",
       "        text-align: right;\n",
       "    }\n",
       "</style>\n",
       "<table border=\"1\" class=\"dataframe\">\n",
       "  <thead>\n",
       "    <tr style=\"text-align: right;\">\n",
       "      <th></th>\n",
       "      <th>count</th>\n",
       "      <th>mean</th>\n",
       "      <th>std</th>\n",
       "      <th>min</th>\n",
       "      <th>25%</th>\n",
       "      <th>50%</th>\n",
       "      <th>75%</th>\n",
       "      <th>max</th>\n",
       "    </tr>\n",
       "  </thead>\n",
       "  <tbody>\n",
       "    <tr>\n",
       "      <th>Proxy Sensor_Degree-135</th>\n",
       "      <td>148925.0</td>\n",
       "      <td>837.790402</td>\n",
       "      <td>9082.580653</td>\n",
       "      <td>-0.238800</td>\n",
       "      <td>5.858970</td>\n",
       "      <td>5.886291</td>\n",
       "      <td>5.914281</td>\n",
       "      <td>99999.0</td>\n",
       "    </tr>\n",
       "    <tr>\n",
       "      <th>State and Fault</th>\n",
       "      <td>150238.0</td>\n",
       "      <td>919.287000</td>\n",
       "      <td>9473.926246</td>\n",
       "      <td>1.000000</td>\n",
       "      <td>2.000000</td>\n",
       "      <td>2.000000</td>\n",
       "      <td>2.000000</td>\n",
       "      <td>99999.0</td>\n",
       "    </tr>\n",
       "    <tr>\n",
       "      <th>Proxy Sensor_Degree-225</th>\n",
       "      <td>149432.0</td>\n",
       "      <td>852.375004</td>\n",
       "      <td>9161.127074</td>\n",
       "      <td>-0.238800</td>\n",
       "      <td>5.860705</td>\n",
       "      <td>5.897005</td>\n",
       "      <td>5.932630</td>\n",
       "      <td>99999.0</td>\n",
       "    </tr>\n",
       "    <tr>\n",
       "      <th>Blade-3 Actual Value_Angle-A</th>\n",
       "      <td>149439.0</td>\n",
       "      <td>831.673642</td>\n",
       "      <td>9015.617418</td>\n",
       "      <td>-408.779999</td>\n",
       "      <td>-0.694006</td>\n",
       "      <td>0.029834</td>\n",
       "      <td>10.062227</td>\n",
       "      <td>99999.0</td>\n",
       "    </tr>\n",
       "    <tr>\n",
       "      <th>Scope CH 4</th>\n",
       "      <td>149786.0</td>\n",
       "      <td>837.293043</td>\n",
       "      <td>9045.244996</td>\n",
       "      <td>-408.779999</td>\n",
       "      <td>-0.694079</td>\n",
       "      <td>0.030175</td>\n",
       "      <td>10.212331</td>\n",
       "      <td>99999.0</td>\n",
       "    </tr>\n",
       "    <tr>\n",
       "      <th>Blade-2 Actual Value_Angle-A</th>\n",
       "      <td>150291.0</td>\n",
       "      <td>839.500329</td>\n",
       "      <td>9051.777608</td>\n",
       "      <td>-408.779999</td>\n",
       "      <td>0.650428</td>\n",
       "      <td>1.276868</td>\n",
       "      <td>11.359533</td>\n",
       "      <td>99999.0</td>\n",
       "    </tr>\n",
       "    <tr>\n",
       "      <th>Blade-1 Actual Value_Angle-A</th>\n",
       "      <td>149468.0</td>\n",
       "      <td>956.675567</td>\n",
       "      <td>9668.807744</td>\n",
       "      <td>-408.779999</td>\n",
       "      <td>0.075942</td>\n",
       "      <td>0.758596</td>\n",
       "      <td>10.780817</td>\n",
       "      <td>99999.0</td>\n",
       "    </tr>\n",
       "    <tr>\n",
       "      <th>Blade-2 Set Value_Degree</th>\n",
       "      <td>149831.0</td>\n",
       "      <td>882.596231</td>\n",
       "      <td>9280.006707</td>\n",
       "      <td>-0.128618</td>\n",
       "      <td>0.652857</td>\n",
       "      <td>1.245257</td>\n",
       "      <td>11.465339</td>\n",
       "      <td>99999.0</td>\n",
       "    </tr>\n",
       "    <tr>\n",
       "      <th>Pitch Demand Baseline_Degree</th>\n",
       "      <td>149074.0</td>\n",
       "      <td>934.692157</td>\n",
       "      <td>9554.834159</td>\n",
       "      <td>0.000000</td>\n",
       "      <td>0.000000</td>\n",
       "      <td>0.681229</td>\n",
       "      <td>10.788655</td>\n",
       "      <td>99999.0</td>\n",
       "    </tr>\n",
       "    <tr>\n",
       "      <th>Blade-1 Set Value_Degree</th>\n",
       "      <td>148756.0</td>\n",
       "      <td>873.612534</td>\n",
       "      <td>9234.898677</td>\n",
       "      <td>-0.766988</td>\n",
       "      <td>0.078384</td>\n",
       "      <td>0.830161</td>\n",
       "      <td>10.965823</td>\n",
       "      <td>99999.0</td>\n",
       "    </tr>\n",
       "    <tr>\n",
       "      <th>Blade-3 Set Value_Degree</th>\n",
       "      <td>149440.0</td>\n",
       "      <td>845.041165</td>\n",
       "      <td>9084.583365</td>\n",
       "      <td>-1.176853</td>\n",
       "      <td>-0.693729</td>\n",
       "      <td>0.043642</td>\n",
       "      <td>10.285146</td>\n",
       "      <td>99999.0</td>\n",
       "    </tr>\n",
       "    <tr>\n",
       "      <th>Moment Q Direction</th>\n",
       "      <td>149414.0</td>\n",
       "      <td>884.318063</td>\n",
       "      <td>9411.101210</td>\n",
       "      <td>-1287.386719</td>\n",
       "      <td>-35.142965</td>\n",
       "      <td>-9.803967</td>\n",
       "      <td>21.727112</td>\n",
       "      <td>99999.0</td>\n",
       "    </tr>\n",
       "    <tr>\n",
       "      <th>Moment Q Filltered</th>\n",
       "      <td>149102.0</td>\n",
       "      <td>824.705343</td>\n",
       "      <td>9093.261889</td>\n",
       "      <td>-1286.707886</td>\n",
       "      <td>-35.052853</td>\n",
       "      <td>-9.622181</td>\n",
       "      <td>21.690431</td>\n",
       "      <td>99999.0</td>\n",
       "    </tr>\n",
       "    <tr>\n",
       "      <th>Proxy Sensor_Degree-45</th>\n",
       "      <td>150190.0</td>\n",
       "      <td>817.361875</td>\n",
       "      <td>8971.885225</td>\n",
       "      <td>-0.238800</td>\n",
       "      <td>5.725612</td>\n",
       "      <td>5.774975</td>\n",
       "      <td>5.839118</td>\n",
       "      <td>99999.0</td>\n",
       "    </tr>\n",
       "    <tr>\n",
       "      <th>Turbine State</th>\n",
       "      <td>150054.0</td>\n",
       "      <td>885.695176</td>\n",
       "      <td>9362.114726</td>\n",
       "      <td>1.000000</td>\n",
       "      <td>1.000000</td>\n",
       "      <td>1.000000</td>\n",
       "      <td>1.000000</td>\n",
       "      <td>99999.0</td>\n",
       "    </tr>\n",
       "    <tr>\n",
       "      <th>Proxy Sensor_Degree-315</th>\n",
       "      <td>149438.0</td>\n",
       "      <td>869.645614</td>\n",
       "      <td>9253.806654</td>\n",
       "      <td>-0.238800</td>\n",
       "      <td>5.737907</td>\n",
       "      <td>5.791404</td>\n",
       "      <td>5.877137</td>\n",
       "      <td>99999.0</td>\n",
       "    </tr>\n",
       "  </tbody>\n",
       "</table>\n",
       "</div>"
      ],
      "text/plain": [
       "                                 count        mean          std          min  \\\n",
       "Proxy Sensor_Degree-135       148925.0  837.790402  9082.580653    -0.238800   \n",
       "State and Fault               150238.0  919.287000  9473.926246     1.000000   \n",
       "Proxy Sensor_Degree-225       149432.0  852.375004  9161.127074    -0.238800   \n",
       "Blade-3 Actual Value_Angle-A  149439.0  831.673642  9015.617418  -408.779999   \n",
       "Scope CH 4                    149786.0  837.293043  9045.244996  -408.779999   \n",
       "Blade-2 Actual Value_Angle-A  150291.0  839.500329  9051.777608  -408.779999   \n",
       "Blade-1 Actual Value_Angle-A  149468.0  956.675567  9668.807744  -408.779999   \n",
       "Blade-2 Set Value_Degree      149831.0  882.596231  9280.006707    -0.128618   \n",
       "Pitch Demand Baseline_Degree  149074.0  934.692157  9554.834159     0.000000   \n",
       "Blade-1 Set Value_Degree      148756.0  873.612534  9234.898677    -0.766988   \n",
       "Blade-3 Set Value_Degree      149440.0  845.041165  9084.583365    -1.176853   \n",
       "Moment Q Direction            149414.0  884.318063  9411.101210 -1287.386719   \n",
       "Moment Q Filltered            149102.0  824.705343  9093.261889 -1286.707886   \n",
       "Proxy Sensor_Degree-45        150190.0  817.361875  8971.885225    -0.238800   \n",
       "Turbine State                 150054.0  885.695176  9362.114726     1.000000   \n",
       "Proxy Sensor_Degree-315       149438.0  869.645614  9253.806654    -0.238800   \n",
       "\n",
       "                                    25%       50%        75%      max  \n",
       "Proxy Sensor_Degree-135        5.858970  5.886291   5.914281  99999.0  \n",
       "State and Fault                2.000000  2.000000   2.000000  99999.0  \n",
       "Proxy Sensor_Degree-225        5.860705  5.897005   5.932630  99999.0  \n",
       "Blade-3 Actual Value_Angle-A  -0.694006  0.029834  10.062227  99999.0  \n",
       "Scope CH 4                    -0.694079  0.030175  10.212331  99999.0  \n",
       "Blade-2 Actual Value_Angle-A   0.650428  1.276868  11.359533  99999.0  \n",
       "Blade-1 Actual Value_Angle-A   0.075942  0.758596  10.780817  99999.0  \n",
       "Blade-2 Set Value_Degree       0.652857  1.245257  11.465339  99999.0  \n",
       "Pitch Demand Baseline_Degree   0.000000  0.681229  10.788655  99999.0  \n",
       "Blade-1 Set Value_Degree       0.078384  0.830161  10.965823  99999.0  \n",
       "Blade-3 Set Value_Degree      -0.693729  0.043642  10.285146  99999.0  \n",
       "Moment Q Direction           -35.142965 -9.803967  21.727112  99999.0  \n",
       "Moment Q Filltered           -35.052853 -9.622181  21.690431  99999.0  \n",
       "Proxy Sensor_Degree-45         5.725612  5.774975   5.839118  99999.0  \n",
       "Turbine State                  1.000000  1.000000   1.000000  99999.0  \n",
       "Proxy Sensor_Degree-315        5.737907  5.791404   5.877137  99999.0  "
      ]
     },
     "execution_count": 10,
     "metadata": {},
     "output_type": "execute_result"
    }
   ],
   "source": [
    "features.describe().T.iloc[60:]"
   ]
  },
  {
   "cell_type": "code",
   "execution_count": 11,
   "id": "ee8f1201-bc94-4192-a942-0a7396c843e0",
   "metadata": {
    "tags": []
   },
   "outputs": [
    {
     "name": "stdout",
     "output_type": "stream",
     "text": [
      "<class 'pandas.core.frame.DataFrame'>\n",
      "RangeIndex: 154262 entries, 0 to 154261\n",
      "Data columns (total 77 columns):\n",
      " #   Column                                             Non-Null Count   Dtype  \n",
      "---  ------                                             --------------   -----  \n",
      " 0   Timestamp                                          154262 non-null  object \n",
      " 1   Gearbox_T1_High_Speed_Shaft_Temperature            149913 non-null  float64\n",
      " 2   Gearbox_T3_High_Speed_Shaft_Temperature            149744 non-null  float64\n",
      " 3   Gearbox_T1_Intermediate_Speed_Shaft_Temperature    150253 non-null  float64\n",
      " 4   Temperature Gearbox Bearing Hollow Shaft           150530 non-null  float64\n",
      " 5   Tower Acceleration Normal                          149904 non-null  float64\n",
      " 6   Gearbox_Oil-2_Temperature                          149326 non-null  float64\n",
      " 7   Tower Acceleration Lateral                         150070 non-null  float64\n",
      " 8   Temperature Bearing_A                              150113 non-null  float64\n",
      " 9   Temperature Trafo-3                                149504 non-null  float64\n",
      " 10  Gearbox_T3_Intermediate_Speed_Shaft_Temperature    149936 non-null  float64\n",
      " 11  Gearbox_Oil-1_Temperature                          150124 non-null  float64\n",
      " 12  Gearbox_Oil_Temperature                            149086 non-null  float64\n",
      " 13  Torque                                             150151 non-null  float64\n",
      " 14  Converter Control Unit Reactive Power              149753 non-null  float64\n",
      " 15  Temperature Trafo-2                                149983 non-null  float64\n",
      " 16  Reactive Power                                     149873 non-null  float64\n",
      " 17  Temperature Shaft Bearing-1                        149799 non-null  float64\n",
      " 18  Gearbox_Distributor_Temperature                    150573 non-null  float64\n",
      " 19  Moment D Filtered                                  149735 non-null  float64\n",
      " 20  Moment D Direction                                 149031 non-null  float64\n",
      " 21  N-set 1                                            149661 non-null  float64\n",
      " 22  Operating State                                    150358 non-null  float64\n",
      " 23  Power Factor                                       149285 non-null  float64\n",
      " 24  Temperature Shaft Bearing-2                        150158 non-null  float64\n",
      " 25  Temperature_Nacelle                                149606 non-null  float64\n",
      " 26  Voltage A-N                                        149609 non-null  float64\n",
      " 27  Temperature Axis Box-3                             150773 non-null  float64\n",
      " 28  Voltage C-N                                        150211 non-null  float64\n",
      " 29  Temperature Axis Box-2                             149701 non-null  float64\n",
      " 30  Temperature Axis Box-1                             149997 non-null  float64\n",
      " 31  Voltage B-N                                        150408 non-null  float64\n",
      " 32  Nacelle Position_Degree                            149410 non-null  float64\n",
      " 33  Converter Control Unit Voltage                     149615 non-null  float64\n",
      " 34  Temperature Battery Box-3                          150404 non-null  float64\n",
      " 35  Temperature Battery Box-2                          149707 non-null  float64\n",
      " 36  Temperature Battery Box-1                          150399 non-null  float64\n",
      " 37  Hydraulic Prepressure                              149865 non-null  float64\n",
      " 38  Angle Rotor Position                               149463 non-null  float64\n",
      " 39  Temperature Tower Base                             150535 non-null  float64\n",
      " 40  Pitch Offset-2 Asymmetric Load Controller          149823 non-null  float64\n",
      " 41  Pitch Offset Tower Feedback                        149350 non-null  float64\n",
      " 42  Line Frequency                                     150383 non-null  float64\n",
      " 43  Internal Power Limit                               150080 non-null  float64\n",
      " 44  Circuit Breaker cut-ins                            150670 non-null  float64\n",
      " 45  Particle Counter                                   149612 non-null  float64\n",
      " 46  Tower Accelaration Normal Raw                      149532 non-null  float64\n",
      " 47  Torque Offset Tower Feedback                       149977 non-null  float64\n",
      " 48  External Power Limit                               149826 non-null  float64\n",
      " 49  Blade-2 Actual Value_Angle-B                       149967 non-null  float64\n",
      " 50  Blade-1 Actual Value_Angle-B                       149922 non-null  float64\n",
      " 51  Blade-3 Actual Value_Angle-B                       149690 non-null  float64\n",
      " 52  Temperature Heat Exchanger Converter Control Unit  149076 non-null  float64\n",
      " 53  Tower Accelaration Lateral Raw                     149828 non-null  float64\n",
      " 54  Temperature Ambient                                150172 non-null  float64\n",
      " 55  Nacelle Revolution                                 149772 non-null  float64\n",
      " 56  Pitch Offset-1 Asymmetric Load Controller          149239 non-null  float64\n",
      " 57  Tower Deflection                                   149662 non-null  float64\n",
      " 58  Pitch Offset-3 Asymmetric Load Controller          149729 non-null  float64\n",
      " 59  Wind Deviation 1 seconds                           149830 non-null  float64\n",
      " 60  Wind Deviation 10 seconds                          149130 non-null  float64\n",
      " 61  Proxy Sensor_Degree-135                            148925 non-null  float64\n",
      " 62  State and Fault                                    150238 non-null  float64\n",
      " 63  Proxy Sensor_Degree-225                            149432 non-null  float64\n",
      " 64  Blade-3 Actual Value_Angle-A                       149439 non-null  float64\n",
      " 65  Scope CH 4                                         149786 non-null  float64\n",
      " 66  Blade-2 Actual Value_Angle-A                       150291 non-null  float64\n",
      " 67  Blade-1 Actual Value_Angle-A                       149468 non-null  float64\n",
      " 68  Blade-2 Set Value_Degree                           149831 non-null  float64\n",
      " 69  Pitch Demand Baseline_Degree                       149074 non-null  float64\n",
      " 70  Blade-1 Set Value_Degree                           148756 non-null  float64\n",
      " 71  Blade-3 Set Value_Degree                           149440 non-null  float64\n",
      " 72  Moment Q Direction                                 149414 non-null  float64\n",
      " 73  Moment Q Filltered                                 149102 non-null  float64\n",
      " 74  Proxy Sensor_Degree-45                             150190 non-null  float64\n",
      " 75  Turbine State                                      150054 non-null  float64\n",
      " 76  Proxy Sensor_Degree-315                            149438 non-null  float64\n",
      "dtypes: float64(76), object(1)\n",
      "memory usage: 90.6+ MB\n"
     ]
    }
   ],
   "source": [
    "features.info()"
   ]
  },
  {
   "cell_type": "code",
   "execution_count": 12,
   "id": "804ac2e3-0158-449d-a450-f83e14ccd239",
   "metadata": {},
   "outputs": [
    {
     "name": "stdout",
     "output_type": "stream",
     "text": [
      "<class 'pandas.core.frame.DataFrame'>\n",
      "RangeIndex: 136730 entries, 0 to 136729\n",
      "Data columns (total 2 columns):\n",
      " #   Column     Non-Null Count   Dtype  \n",
      "---  ------     --------------   -----  \n",
      " 0   Timestamp  136730 non-null  object \n",
      " 1   Power(kW)  136730 non-null  float64\n",
      "dtypes: float64(1), object(1)\n",
      "memory usage: 2.1+ MB\n"
     ]
    }
   ],
   "source": [
    "power.info()"
   ]
  },
  {
   "cell_type": "code",
   "execution_count": 14,
   "id": "566da8e2-5f1a-4940-bbcc-d28a446690f2",
   "metadata": {},
   "outputs": [],
   "source": [
    "features[\"Timestamp\"] = pd.to_datetime(features[\"Timestamp\"])\n",
    "power[\"Timestamp\"] = pd.to_datetime(power[\"Timestamp\"])"
   ]
  },
  {
   "cell_type": "code",
   "execution_count": 15,
   "id": "698328f9-f14c-4fe4-b45c-db4661ba2b10",
   "metadata": {
    "tags": []
   },
   "outputs": [
    {
     "name": "stderr",
     "output_type": "stream",
     "text": [
      "/var/folders/k5/yg__kmls5zndgtyl75h907040000gn/T/ipykernel_861/3682908842.py:3: UserWarning: Matplotlib is currently using module://matplotlib_inline.backend_inline, which is a non-GUI backend, so cannot show the figure.\n",
      "  plt.figure().show()\n",
      "/var/folders/k5/yg__kmls5zndgtyl75h907040000gn/T/ipykernel_861/3682908842.py:3: UserWarning: Matplotlib is currently using module://matplotlib_inline.backend_inline, which is a non-GUI backend, so cannot show the figure.\n",
      "  plt.figure().show()\n"
     ]
    },
    {
     "data": {
      "image/png": "[encoded data removed]",
      "text/plain": [
       "<Figure size 432x288 with 1 Axes>"
      ]
     },
     "metadata": {
      "needs_background": "light"
     },
     "output_type": "display_data"
    },
    {
     "data": {
      "image/png": "[encoded data removed]",
      "text/plain": [
       "<Figure size 432x288 with 1 Axes>"
      ]
     },
     "metadata": {
      "needs_background": "light"
     },
     "output_type": "display_data"
    },
    {
     "data": {
      "text/plain": [
       "<Figure size 432x288 with 0 Axes>"
      ]
     },
     "metadata": {},
     "output_type": "display_data"
    }
   ],
   "source": [
    "for i in range(1,3):\n",
    "    sns.boxplot(data = features, x = features.columns[i])\n",
    "    plt.figure().show()"
   ]
  },
  {
   "cell_type": "code",
   "execution_count": 18,
   "id": "050c160c-4b7f-4bfc-b644-ea1e5680468c",
   "metadata": {
    "tags": []
   },
   "outputs": [
    {
     "data": {
      "text/html": [
       "<div>\n",
       "<style scoped>\n",
       "    .dataframe tbody tr th:only-of-type {\n",
       "        vertical-align: middle;\n",
       "    }\n",
       "\n",
       "    .dataframe tbody tr th {\n",
       "        vertical-align: top;\n",
       "    }\n",
       "\n",
       "    .dataframe thead th {\n",
       "        text-align: right;\n",
       "    }\n",
       "</style>\n",
       "<table border=\"1\" class=\"dataframe\">\n",
       "  <thead>\n",
       "    <tr style=\"text-align: right;\">\n",
       "      <th></th>\n",
       "      <th>Timestamp</th>\n",
       "      <th>Gearbox_T1_High_Speed_Shaft_Temperature</th>\n",
       "      <th>Gearbox_T3_High_Speed_Shaft_Temperature</th>\n",
       "      <th>Gearbox_T1_Intermediate_Speed_Shaft_Temperature</th>\n",
       "      <th>Temperature Gearbox Bearing Hollow Shaft</th>\n",
       "      <th>Tower Acceleration Normal</th>\n",
       "      <th>Gearbox_Oil-2_Temperature</th>\n",
       "      <th>Tower Acceleration Lateral</th>\n",
       "      <th>Temperature Bearing_A</th>\n",
       "      <th>Temperature Trafo-3</th>\n",
       "      <th>...</th>\n",
       "      <th>Blade-2 Set Value_Degree</th>\n",
       "      <th>Pitch Demand Baseline_Degree</th>\n",
       "      <th>Blade-1 Set Value_Degree</th>\n",
       "      <th>Blade-3 Set Value_Degree</th>\n",
       "      <th>Moment Q Direction</th>\n",
       "      <th>Moment Q Filltered</th>\n",
       "      <th>Proxy Sensor_Degree-45</th>\n",
       "      <th>Turbine State</th>\n",
       "      <th>Proxy Sensor_Degree-315</th>\n",
       "      <th>Power(kW)</th>\n",
       "    </tr>\n",
       "  </thead>\n",
       "  <tbody>\n",
       "    <tr>\n",
       "      <th>8478</th>\n",
       "      <td>2019-03-01 00:30:00</td>\n",
       "      <td>99999.0</td>\n",
       "      <td>63.241665</td>\n",
       "      <td>56.393333</td>\n",
       "      <td>60.666668</td>\n",
       "      <td>35.233547</td>\n",
       "      <td>60.443333</td>\n",
       "      <td>25.712807</td>\n",
       "      <td>39.783333</td>\n",
       "      <td>52.526669</td>\n",
       "      <td>...</td>\n",
       "      <td>0.262752</td>\n",
       "      <td>0.000000</td>\n",
       "      <td>0.094833</td>\n",
       "      <td>-0.357584</td>\n",
       "      <td>-66.384140</td>\n",
       "      <td>-66.195198</td>\n",
       "      <td>5.798763</td>\n",
       "      <td>1.0</td>\n",
       "      <td>5.798645</td>\n",
       "      <td>940.041687</td>\n",
       "    </tr>\n",
       "    <tr>\n",
       "      <th>8479</th>\n",
       "      <td>2019-03-01 00:40:00</td>\n",
       "      <td>99999.0</td>\n",
       "      <td>62.323334</td>\n",
       "      <td>55.636665</td>\n",
       "      <td>59.884998</td>\n",
       "      <td>47.316895</td>\n",
       "      <td>59.983334</td>\n",
       "      <td>48.373825</td>\n",
       "      <td>37.736668</td>\n",
       "      <td>52.000000</td>\n",
       "      <td>...</td>\n",
       "      <td>0.262752</td>\n",
       "      <td>0.000000</td>\n",
       "      <td>0.094833</td>\n",
       "      <td>-0.357584</td>\n",
       "      <td>-122.402702</td>\n",
       "      <td>-121.719513</td>\n",
       "      <td>5.886084</td>\n",
       "      <td>1.0</td>\n",
       "      <td>5.859026</td>\n",
       "      <td>1024.613281</td>\n",
       "    </tr>\n",
       "    <tr>\n",
       "      <th>8480</th>\n",
       "      <td>2019-03-01 00:50:00</td>\n",
       "      <td>99999.0</td>\n",
       "      <td>62.000000</td>\n",
       "      <td>55.000000</td>\n",
       "      <td>59.000000</td>\n",
       "      <td>39.437576</td>\n",
       "      <td>59.000000</td>\n",
       "      <td>32.805084</td>\n",
       "      <td>36.250000</td>\n",
       "      <td>52.000000</td>\n",
       "      <td>...</td>\n",
       "      <td>0.262752</td>\n",
       "      <td>0.000000</td>\n",
       "      <td>0.094833</td>\n",
       "      <td>-0.357584</td>\n",
       "      <td>-130.302368</td>\n",
       "      <td>-130.402664</td>\n",
       "      <td>5.881614</td>\n",
       "      <td>1.0</td>\n",
       "      <td>5.851178</td>\n",
       "      <td>1084.926636</td>\n",
       "    </tr>\n",
       "    <tr>\n",
       "      <th>8481</th>\n",
       "      <td>2019-03-01 01:00:00</td>\n",
       "      <td>99999.0</td>\n",
       "      <td>62.000000</td>\n",
       "      <td>54.884998</td>\n",
       "      <td>59.000000</td>\n",
       "      <td>34.113735</td>\n",
       "      <td>59.000000</td>\n",
       "      <td>52.967987</td>\n",
       "      <td>36.000000</td>\n",
       "      <td>52.000000</td>\n",
       "      <td>...</td>\n",
       "      <td>0.262752</td>\n",
       "      <td>0.000000</td>\n",
       "      <td>0.094833</td>\n",
       "      <td>-0.357584</td>\n",
       "      <td>-110.416466</td>\n",
       "      <td>-109.946518</td>\n",
       "      <td>5.794118</td>\n",
       "      <td>1.0</td>\n",
       "      <td>5.772344</td>\n",
       "      <td>1248.613281</td>\n",
       "    </tr>\n",
       "    <tr>\n",
       "      <th>8482</th>\n",
       "      <td>2019-03-01 01:10:00</td>\n",
       "      <td>99999.0</td>\n",
       "      <td>62.000000</td>\n",
       "      <td>54.186668</td>\n",
       "      <td>59.000000</td>\n",
       "      <td>40.076042</td>\n",
       "      <td>59.000000</td>\n",
       "      <td>34.795670</td>\n",
       "      <td>36.161667</td>\n",
       "      <td>52.131668</td>\n",
       "      <td>...</td>\n",
       "      <td>0.262752</td>\n",
       "      <td>0.000000</td>\n",
       "      <td>0.094833</td>\n",
       "      <td>-0.357584</td>\n",
       "      <td>-74.179886</td>\n",
       "      <td>-74.173553</td>\n",
       "      <td>5.711793</td>\n",
       "      <td>1.0</td>\n",
       "      <td>5.709113</td>\n",
       "      <td>1269.430054</td>\n",
       "    </tr>\n",
       "    <tr>\n",
       "      <th>...</th>\n",
       "      <td>...</td>\n",
       "      <td>...</td>\n",
       "      <td>...</td>\n",
       "      <td>...</td>\n",
       "      <td>...</td>\n",
       "      <td>...</td>\n",
       "      <td>...</td>\n",
       "      <td>...</td>\n",
       "      <td>...</td>\n",
       "      <td>...</td>\n",
       "      <td>...</td>\n",
       "      <td>...</td>\n",
       "      <td>...</td>\n",
       "      <td>...</td>\n",
       "      <td>...</td>\n",
       "      <td>...</td>\n",
       "      <td>...</td>\n",
       "      <td>...</td>\n",
       "      <td>...</td>\n",
       "      <td>...</td>\n",
       "      <td>...</td>\n",
       "    </tr>\n",
       "    <tr>\n",
       "      <th>153483</th>\n",
       "      <td>2021-12-09 14:10:00</td>\n",
       "      <td>99999.0</td>\n",
       "      <td>68.576668</td>\n",
       "      <td>61.496666</td>\n",
       "      <td>64.805000</td>\n",
       "      <td>106.318451</td>\n",
       "      <td>67.198334</td>\n",
       "      <td>46.831451</td>\n",
       "      <td>52.288334</td>\n",
       "      <td>69.183334</td>\n",
       "      <td>...</td>\n",
       "      <td>4.200825</td>\n",
       "      <td>3.580097</td>\n",
       "      <td>3.658214</td>\n",
       "      <td>2.880676</td>\n",
       "      <td>-46.273819</td>\n",
       "      <td>-44.474995</td>\n",
       "      <td>5.689200</td>\n",
       "      <td>1.0</td>\n",
       "      <td>5.691492</td>\n",
       "      <td>NaN</td>\n",
       "    </tr>\n",
       "    <tr>\n",
       "      <th>153484</th>\n",
       "      <td>2021-12-09 14:20:00</td>\n",
       "      <td>99999.0</td>\n",
       "      <td>69.511665</td>\n",
       "      <td>62.263332</td>\n",
       "      <td>66.096664</td>\n",
       "      <td>89.660355</td>\n",
       "      <td>67.826668</td>\n",
       "      <td>44.517891</td>\n",
       "      <td>53.000000</td>\n",
       "      <td>70.388336</td>\n",
       "      <td>...</td>\n",
       "      <td>4.769801</td>\n",
       "      <td>4.142842</td>\n",
       "      <td>4.216659</td>\n",
       "      <td>3.443136</td>\n",
       "      <td>-54.548416</td>\n",
       "      <td>-55.497360</td>\n",
       "      <td>5.706361</td>\n",
       "      <td>1.0</td>\n",
       "      <td>5.704614</td>\n",
       "      <td>NaN</td>\n",
       "    </tr>\n",
       "    <tr>\n",
       "      <th>154242</th>\n",
       "      <td>2021-12-14 20:40:00</td>\n",
       "      <td>99999.0</td>\n",
       "      <td>67.538330</td>\n",
       "      <td>60.060001</td>\n",
       "      <td>64.118332</td>\n",
       "      <td>206.664078</td>\n",
       "      <td>64.746666</td>\n",
       "      <td>105.029396</td>\n",
       "      <td>99999.000000</td>\n",
       "      <td>95.000000</td>\n",
       "      <td>...</td>\n",
       "      <td>15.604166</td>\n",
       "      <td>14.993957</td>\n",
       "      <td>15.048667</td>\n",
       "      <td>14.328638</td>\n",
       "      <td>-36.845715</td>\n",
       "      <td>-29.303841</td>\n",
       "      <td>5.742805</td>\n",
       "      <td>1.0</td>\n",
       "      <td>5.745700</td>\n",
       "      <td>NaN</td>\n",
       "    </tr>\n",
       "    <tr>\n",
       "      <th>154243</th>\n",
       "      <td>2021-12-14 20:50:00</td>\n",
       "      <td>99999.0</td>\n",
       "      <td>67.346664</td>\n",
       "      <td>60.500000</td>\n",
       "      <td>63.171665</td>\n",
       "      <td>207.614838</td>\n",
       "      <td>65.803337</td>\n",
       "      <td>95.991425</td>\n",
       "      <td>99999.000000</td>\n",
       "      <td>95.000000</td>\n",
       "      <td>...</td>\n",
       "      <td>15.719335</td>\n",
       "      <td>15.106128</td>\n",
       "      <td>15.156605</td>\n",
       "      <td>14.439839</td>\n",
       "      <td>-47.074490</td>\n",
       "      <td>-44.570477</td>\n",
       "      <td>5.744454</td>\n",
       "      <td>1.0</td>\n",
       "      <td>5.743930</td>\n",
       "      <td>NaN</td>\n",
       "    </tr>\n",
       "    <tr>\n",
       "      <th>154244</th>\n",
       "      <td>2021-12-14 21:00:00</td>\n",
       "      <td>99999.0</td>\n",
       "      <td>68.341667</td>\n",
       "      <td>60.923332</td>\n",
       "      <td>64.761665</td>\n",
       "      <td>200.352066</td>\n",
       "      <td>66.123337</td>\n",
       "      <td>91.520897</td>\n",
       "      <td>99999.000000</td>\n",
       "      <td>95.449997</td>\n",
       "      <td>...</td>\n",
       "      <td>16.143738</td>\n",
       "      <td>15.527496</td>\n",
       "      <td>15.570433</td>\n",
       "      <td>14.865361</td>\n",
       "      <td>-40.886215</td>\n",
       "      <td>-38.493710</td>\n",
       "      <td>5.746439</td>\n",
       "      <td>1.0</td>\n",
       "      <td>5.747960</td>\n",
       "      <td>NaN</td>\n",
       "    </tr>\n",
       "  </tbody>\n",
       "</table>\n",
       "<p>1289 rows × 78 columns</p>\n",
       "</div>"
      ],
      "text/plain": [
       "                 Timestamp  Gearbox_T1_High_Speed_Shaft_Temperature  \\\n",
       "8478   2019-03-01 00:30:00                                  99999.0   \n",
       "8479   2019-03-01 00:40:00                                  99999.0   \n",
       "8480   2019-03-01 00:50:00                                  99999.0   \n",
       "8481   2019-03-01 01:00:00                                  99999.0   \n",
       "8482   2019-03-01 01:10:00                                  99999.0   \n",
       "...                    ...                                      ...   \n",
       "153483 2021-12-09 14:10:00                                  99999.0   \n",
       "153484 2021-12-09 14:20:00                                  99999.0   \n",
       "154242 2021-12-14 20:40:00                                  99999.0   \n",
       "154243 2021-12-14 20:50:00                                  99999.0   \n",
       "154244 2021-12-14 21:00:00                                  99999.0   \n",
       "\n",
       "        Gearbox_T3_High_Speed_Shaft_Temperature  \\\n",
       "8478                                  63.241665   \n",
       "8479                                  62.323334   \n",
       "8480                                  62.000000   \n",
       "8481                                  62.000000   \n",
       "8482                                  62.000000   \n",
       "...                                         ...   \n",
       "153483                                68.576668   \n",
       "153484                                69.511665   \n",
       "154242                                67.538330   \n",
       "154243                                67.346664   \n",
       "154244                                68.341667   \n",
       "\n",
       "        Gearbox_T1_Intermediate_Speed_Shaft_Temperature  \\\n",
       "8478                                          56.393333   \n",
       "8479                                          55.636665   \n",
       "8480                                          55.000000   \n",
       "8481                                          54.884998   \n",
       "8482                                          54.186668   \n",
       "...                                                 ...   \n",
       "153483                                        61.496666   \n",
       "153484                                        62.263332   \n",
       "154242                                        60.060001   \n",
       "154243                                        60.500000   \n",
       "154244                                        60.923332   \n",
       "\n",
       "        Temperature Gearbox Bearing Hollow Shaft  Tower Acceleration Normal  \\\n",
       "8478                                   60.666668                  35.233547   \n",
       "8479                                   59.884998                  47.316895   \n",
       "8480                                   59.000000                  39.437576   \n",
       "8481                                   59.000000                  34.113735   \n",
       "8482                                   59.000000                  40.076042   \n",
       "...                                          ...                        ...   \n",
       "153483                                 64.805000                 106.318451   \n",
       "153484                                 66.096664                  89.660355   \n",
       "154242                                 64.118332                 206.664078   \n",
       "154243                                 63.171665                 207.614838   \n",
       "154244                                 64.761665                 200.352066   \n",
       "\n",
       "        Gearbox_Oil-2_Temperature  Tower Acceleration Lateral  \\\n",
       "8478                    60.443333                   25.712807   \n",
       "8479                    59.983334                   48.373825   \n",
       "8480                    59.000000                   32.805084   \n",
       "8481                    59.000000                   52.967987   \n",
       "8482                    59.000000                   34.795670   \n",
       "...                           ...                         ...   \n",
       "153483                  67.198334                   46.831451   \n",
       "153484                  67.826668                   44.517891   \n",
       "154242                  64.746666                  105.029396   \n",
       "154243                  65.803337                   95.991425   \n",
       "154244                  66.123337                   91.520897   \n",
       "\n",
       "        Temperature Bearing_A  Temperature Trafo-3  ...  \\\n",
       "8478                39.783333            52.526669  ...   \n",
       "8479                37.736668            52.000000  ...   \n",
       "8480                36.250000            52.000000  ...   \n",
       "8481                36.000000            52.000000  ...   \n",
       "8482                36.161667            52.131668  ...   \n",
       "...                       ...                  ...  ...   \n",
       "153483              52.288334            69.183334  ...   \n",
       "153484              53.000000            70.388336  ...   \n",
       "154242           99999.000000            95.000000  ...   \n",
       "154243           99999.000000            95.000000  ...   \n",
       "154244           99999.000000            95.449997  ...   \n",
       "\n",
       "        Blade-2 Set Value_Degree  Pitch Demand Baseline_Degree  \\\n",
       "8478                    0.262752                      0.000000   \n",
       "8479                    0.262752                      0.000000   \n",
       "8480                    0.262752                      0.000000   \n",
       "8481                    0.262752                      0.000000   \n",
       "8482                    0.262752                      0.000000   \n",
       "...                          ...                           ...   \n",
       "153483                  4.200825                      3.580097   \n",
       "153484                  4.769801                      4.142842   \n",
       "154242                 15.604166                     14.993957   \n",
       "154243                 15.719335                     15.106128   \n",
       "154244                 16.143738                     15.527496   \n",
       "\n",
       "        Blade-1 Set Value_Degree  Blade-3 Set Value_Degree  \\\n",
       "8478                    0.094833                 -0.357584   \n",
       "8479                    0.094833                 -0.357584   \n",
       "8480                    0.094833                 -0.357584   \n",
       "8481                    0.094833                 -0.357584   \n",
       "8482                    0.094833                 -0.357584   \n",
       "...                          ...                       ...   \n",
       "153483                  3.658214                  2.880676   \n",
       "153484                  4.216659                  3.443136   \n",
       "154242                 15.048667                 14.328638   \n",
       "154243                 15.156605                 14.439839   \n",
       "154244                 15.570433                 14.865361   \n",
       "\n",
       "        Moment Q Direction  Moment Q Filltered  Proxy Sensor_Degree-45  \\\n",
       "8478            -66.384140          -66.195198                5.798763   \n",
       "8479           -122.402702         -121.719513                5.886084   \n",
       "8480           -130.302368         -130.402664                5.881614   \n",
       "8481           -110.416466         -109.946518                5.794118   \n",
       "8482            -74.179886          -74.173553                5.711793   \n",
       "...                    ...                 ...                     ...   \n",
       "153483          -46.273819          -44.474995                5.689200   \n",
       "153484          -54.548416          -55.497360                5.706361   \n",
       "154242          -36.845715          -29.303841                5.742805   \n",
       "154243          -47.074490          -44.570477                5.744454   \n",
       "154244          -40.886215          -38.493710                5.746439   \n",
       "\n",
       "        Turbine State  Proxy Sensor_Degree-315    Power(kW)  \n",
       "8478              1.0                 5.798645   940.041687  \n",
       "8479              1.0                 5.859026  1024.613281  \n",
       "8480              1.0                 5.851178  1084.926636  \n",
       "8481              1.0                 5.772344  1248.613281  \n",
       "8482              1.0                 5.709113  1269.430054  \n",
       "...               ...                      ...          ...  \n",
       "153483            1.0                 5.691492          NaN  \n",
       "153484            1.0                 5.704614          NaN  \n",
       "154242            1.0                 5.745700          NaN  \n",
       "154243            1.0                 5.743930          NaN  \n",
       "154244            1.0                 5.747960          NaN  \n",
       "\n",
       "[1289 rows x 78 columns]"
      ]
     },
     "execution_count": 18,
     "metadata": {},
     "output_type": "execute_result"
    }
   ],
   "source": [
    "features[features[\"Gearbox_T1_High_Speed_Shaft_Temperature\"]>80000]"
   ]
  },
  {
   "cell_type": "code",
   "execution_count": 17,
   "id": "38f35c91-54b5-4c64-bd03-f08a6817b08c",
   "metadata": {},
   "outputs": [],
   "source": [
    "features = features.merge(power, how=\"left\", on = \"Timestamp\")"
   ]
  },
  {
   "cell_type": "markdown",
   "id": "36da6b63-35a3-4f5a-95c7-c0d824ec0b9d",
   "metadata": {},
   "source": [
    "<br><br>**First Observations**"
   ]
  },
  {
   "cell_type": "markdown",
   "id": "f6781075-83c5-4607-80c2-a402a73280e9",
   "metadata": {},
   "source": [
    "<ul>\n",
    "<li>There are two data table, i.e., features and power. They corresponds to the same time interval. The features table contains some temperature, moment, angle and other technical features. The power table gives the corresponding output. We can concat these tables.</li>\n",
    "<li>There are 99999 value in each feature, which does not make sense. It is clearly used instead of missing values.&nbsp;</li>\n",
    "<li>There are 78 columns in our dataframe with more than 150,000 rows. The data size is excessive to perform algorithms with many hyperparameters. We are limited with the computer performance, so, we need to select hyperparameters carefully.</li>\n",
    "</ul>"
   ]
  },
  {
   "cell_type": "markdown",
   "id": "d169651e-4ec7-4a52-a249-6d89d381cfc4",
   "metadata": {},
   "source": [
    "<br><br><br>"
   ]
  },
  {
   "cell_type": "markdown",
   "id": "18dd13f9-6477-4d52-a501-4a46bc2dc825",
   "metadata": {
    "jp-MarkdownHeadingCollapsed": true,
    "tags": []
   },
   "source": [
    "## 3. Missing Values & Imputation"
   ]
  },
  {
   "cell_type": "markdown",
   "id": "93633057-e053-4779-a905-fad7f4c6d0f8",
   "metadata": {
    "tags": []
   },
   "source": [
    "### 3.1. Missing Analysis"
   ]
  },
  {
   "cell_type": "markdown",
   "id": "f85d1cd3-11a8-4c1c-9951-6d1987e8a3a8",
   "metadata": {},
   "source": [
    "The 99999 value used instead of missing values. To deal with missing values, first we need to assign them as null."
   ]
  },
  {
   "cell_type": "code",
   "execution_count": 19,
   "id": "bcdd5695-5a8f-4d94-aebc-24664b24de1f",
   "metadata": {},
   "outputs": [],
   "source": [
    "features = features.replace(99999.0,np.nan)"
   ]
  },
  {
   "cell_type": "markdown",
   "id": "bdf937a7-10ef-445f-9ced-a390689457ea",
   "metadata": {},
   "source": [
    "<br><br> We know that temperature cannot be below -250 Celcius-degree. Therefore, we can assign them as null."
   ]
  },
  {
   "cell_type": "code",
   "execution_count": 20,
   "id": "f6112a74-03d0-43e9-bc30-47bbfed91b37",
   "metadata": {},
   "outputs": [],
   "source": [
    "temp_cols=[]\n",
    "for i in range(len(features.columns)):\n",
    "    if \"Temperature\" in features.columns[i]:\n",
    "        temp_cols.append(features.columns[i])"
   ]
  },
  {
   "cell_type": "code",
   "execution_count": 21,
   "id": "0f93c945-8e9d-4837-988e-65eac58b06cb",
   "metadata": {},
   "outputs": [],
   "source": [
    "for i in range(len(temp_cols)):\n",
    "    features[temp_cols[i]] = features[temp_cols[i]].apply(lambda x: np.nan if x<-250 else x)"
   ]
  },
  {
   "cell_type": "code",
   "execution_count": 22,
   "id": "2c9fd0d7-c5b2-4818-8793-51c224f61d46",
   "metadata": {},
   "outputs": [
    {
     "data": {
      "text/plain": [
       "Timestamp                                              0\n",
       "Gearbox_T1_High_Speed_Shaft_Temperature             5650\n",
       "Gearbox_T3_High_Speed_Shaft_Temperature             5796\n",
       "Gearbox_T1_Intermediate_Speed_Shaft_Temperature     5434\n",
       "Temperature Gearbox Bearing Hollow Shaft            5077\n",
       "                                                   ...  \n",
       "Moment Q Filltered                                  6403\n",
       "Proxy Sensor_Degree-45                              5291\n",
       "Turbine State                                       5535\n",
       "Proxy Sensor_Degree-315                             6115\n",
       "Power(kW)                                          17532\n",
       "Length: 78, dtype: int64"
      ]
     },
     "execution_count": 22,
     "metadata": {},
     "output_type": "execute_result"
    }
   ],
   "source": [
    "features.isna().sum()"
   ]
  },
  {
   "cell_type": "markdown",
   "id": "1a63e0d1-4e41-4861-8355-4561bfc3b722",
   "metadata": {},
   "source": [
    "<br>**Decision:** We have now our missing values. We can impute them, i.e. fill them using machine learning algotihms.<br><br><br>"
   ]
  },
  {
   "cell_type": "markdown",
   "id": "ee417d43-e745-4945-aa23-bf43a03aab2f",
   "metadata": {
    "tags": []
   },
   "source": [
    "### 3.2. Imputers"
   ]
  },
  {
   "cell_type": "markdown",
   "id": "5077f37f-c882-431c-8e06-4c554f7b06e7",
   "metadata": {
    "tags": []
   },
   "source": [
    "#### 3.2.1. Simple Imputer"
   ]
  },
  {
   "cell_type": "code",
   "execution_count": 23,
   "id": "0a316216-6faf-4549-bef4-9b645f05107c",
   "metadata": {},
   "outputs": [],
   "source": [
    "from sklearn.impute import SimpleImputer"
   ]
  },
  {
   "cell_type": "code",
   "execution_count": 24,
   "id": "3fba078d-cc91-46dd-8448-1ba1c60c2dc8",
   "metadata": {},
   "outputs": [],
   "source": [
    "imputer = SimpleImputer(strategy='mean')"
   ]
  },
  {
   "cell_type": "markdown",
   "id": "66cbeb92-5fa8-4eaf-bff2-e3c26f17ee34",
   "metadata": {
    "tags": []
   },
   "source": [
    "#### 3.2.2. Iterative Imputer"
   ]
  },
  {
   "cell_type": "code",
   "execution_count": 25,
   "id": "823c4f69-819d-45b7-9812-e1ab1b71c73e",
   "metadata": {},
   "outputs": [],
   "source": [
    "imputer = IterativeImputer()"
   ]
  },
  {
   "cell_type": "markdown",
   "id": "b2421d29-3b54-4ad8-b2db-210302e1a86f",
   "metadata": {
    "jp-MarkdownHeadingCollapsed": true,
    "tags": []
   },
   "source": [
    "#### 3.2.3. LGBM Imputer"
   ]
  },
  {
   "cell_type": "markdown",
   "id": "0bdf194d-8029-4fd3-b2fe-086380df28f9",
   "metadata": {},
   "source": [
    "**Note:** This Imputer is not in sklearn library. This special work belongs to an engineer on github. <br> Reference: https://github.com/analokmaus/kuma_utils/blob/master/preprocessing/imputer.py"
   ]
  },
  {
   "cell_type": "code",
   "execution_count": 26,
   "id": "c6c363aa-ed00-4924-86e3-5ed402f38c91",
   "metadata": {},
   "outputs": [],
   "source": [
    "# ref: https://github.com/analokmaus/kuma_utils/blob/master/preprocessing/imputer.py\n",
    "def analyze_column(input_series: pd.Series) -> str:\n",
    "    if pd.api.types.is_numeric_dtype(input_series):\n",
    "        return 'numeric'\n",
    "    else:\n",
    "        return 'categorical'\n",
    "class LGBMImputer:\n",
    "    '''\n",
    "    Regression imputer using LightGBM\n",
    "    '''\n",
    "\n",
    "    def __init__(self, cat_features=[], n_iter=100, verbose=False):\n",
    "        self.n_iter = n_iter\n",
    "        self.cat_features = cat_features\n",
    "        self.verbose = verbose\n",
    "        self.n_features = None\n",
    "        self.feature_names = None\n",
    "        self.feature_with_missing = None\n",
    "        self.imputers = {}\n",
    "        self.offsets = {}\n",
    "        self.objectives = {}\n",
    "        \n",
    "    def fit(self, X, y=None):\n",
    "        self.n_features = X.shape[1]\n",
    "        if isinstance(X, pd.DataFrame):\n",
    "            self.feature_names = X.columns.tolist()\n",
    "        else:\n",
    "            self.feature_names = [f'f{i}' for i in range(self.n_features)]\n",
    "            X = pd.DataFrame(X, columns=self.feature_names)\n",
    "        self.feature_with_missing = [\n",
    "            col for col in self.feature_names if X[col].isnull().sum() > 0]\n",
    "\n",
    "        pbar = tqdm(self.feature_with_missing)\n",
    "        for icol, col in enumerate(pbar):\n",
    "            if icol in self.cat_features:\n",
    "                nuni = X[col].dropna().nunique()\n",
    "                if nuni == 2:\n",
    "                    params = {\n",
    "                        'objective': 'binary'\n",
    "                    }\n",
    "                elif nuni > 2:\n",
    "                    params = {\n",
    "                        'objective': 'multiclass',\n",
    "                        'num_class': nuni + 1\n",
    "                    }\n",
    "            else:  # automatic analyze column\n",
    "                if analyze_column(X[col]) == 'numeric':\n",
    "                    params = {\n",
    "                        'objective': 'regression'\n",
    "                    }\n",
    "                else:\n",
    "                    nuni = X[col].dropna().nunique()\n",
    "                    if nuni == 2:\n",
    "                        params = {\n",
    "                            'objective': 'binary'\n",
    "                        }\n",
    "                    elif nuni > 2:\n",
    "                        params = {\n",
    "                            'objective': 'multiclass',\n",
    "                            'num_class': nuni + 1\n",
    "                        }\n",
    "                    else:\n",
    "                        print(f'column {col} has only one unique value.')\n",
    "                        continue\n",
    "\n",
    "            params['verbosity'] = -1\n",
    "\n",
    "            null_idx = X[col].isnull()\n",
    "            x_train = X.loc[~null_idx].drop(col, axis=1)\n",
    "            x_test = X.loc[null_idx].drop(col, axis=1)\n",
    "            y_offset = X[col].min()\n",
    "            y_train = X.loc[~null_idx, col].astype(int) - y_offset\n",
    "            dtrain = lgb.Dataset(\n",
    "                data=x_train,\n",
    "                label=y_train\n",
    "            )\n",
    "\n",
    "            early_stopping_rounds = int(self.n_iter/10)\n",
    "            model = lgb.train(\n",
    "                params, dtrain, valid_sets=[dtrain],\n",
    "                num_boost_round=self.n_iter,\n",
    "                early_stopping_rounds=early_stopping_rounds,\n",
    "                verbose_eval=0,\n",
    "            )\n",
    "\n",
    "            self.imputers[col] = model\n",
    "            self.offsets[col] = y_offset\n",
    "            self.objectives[col] = params['objective']\n",
    "            if self.verbose:\n",
    "                pbar.set_description(\n",
    "                    f'{col}:\\t{self.objectives[col]}...iter{model.best_iteration}/{self.n_iter}')\n",
    "\n",
    "    def transform(self, X):\n",
    "        output_X = X.copy()\n",
    "\n",
    "        for icol, col in enumerate(tqdm(self.feature_with_missing)):\n",
    "            model = self.imputers[col]\n",
    "            y_offset = self.offsets[col]\n",
    "            objective = self.objectives[col]\n",
    "\n",
    "            null_idx = X[col].isnull()\n",
    "            x_test = X.loc[null_idx].drop(col, axis=1)\n",
    "\n",
    "            y_test = model.predict(x_test)\n",
    "            if objective == 'multiclass':\n",
    "                y_test = np.argmax(y_test, axis=1).astype(float)\n",
    "            elif objective == 'binary':\n",
    "                y_test = (y_test > 0.5).astype(float)\n",
    "            y_test += y_offset\n",
    "            output_X.loc[null_idx, col] = y_test\n",
    "            if objective in ['multiclass', 'binary']:\n",
    "                output_X[col] = output_X[col].astype(int)\n",
    "\n",
    "        return output_X\n",
    "        \n",
    "    def fit_transform(self, X, y=None):\n",
    "        self.n_features = X.shape[1]\n",
    "        if isinstance(X, pd.DataFrame):\n",
    "            self.feature_names = X.columns.tolist()\n",
    "        else:\n",
    "            self.feature_names = [f'f{i}' for i in range(self.n_features)]\n",
    "            X = pd.DataFrame(X, columns=self.feature_names)\n",
    "\n",
    "        output_X = X.copy()\n",
    "        self.feature_with_missing = [col for col in self.feature_names if X[col].isnull().sum() > 0]\n",
    "\n",
    "        pbar = tqdm(self.feature_with_missing)\n",
    "        for icol, col in enumerate(pbar):\n",
    "            if icol in self.cat_features:\n",
    "                nuni = X[col].dropna().nunique()\n",
    "                if nuni == 2:\n",
    "                    params = {\n",
    "                        'objective': 'binary'\n",
    "                    }\n",
    "                elif nuni > 2:\n",
    "                    params = {\n",
    "                        'objective': 'multiclass',\n",
    "                        'num_class': nuni + 1\n",
    "                    }\n",
    "            else: # automatic analyze column\n",
    "                if analyze_column(X[col]) == 'numeric':\n",
    "                    params = {\n",
    "                        'objective': 'regression'\n",
    "                    }\n",
    "                else:\n",
    "                    nuni = X[col].dropna().nunique()\n",
    "                    if nuni == 2:\n",
    "                        params = {\n",
    "                            'objective': 'binary'\n",
    "                        }\n",
    "                    elif nuni > 2:\n",
    "                        params = {\n",
    "                            'objective': 'multiclass',\n",
    "                            'num_class': nuni + 1\n",
    "                        }\n",
    "                    else:\n",
    "                        print(f'column {col} has only one unique value.')\n",
    "                        continue\n",
    "          \n",
    "            params['verbosity'] = -1\n",
    "            \n",
    "            null_idx = X[col].isnull()\n",
    "            x_train = X.loc[~null_idx].drop(col, axis=1)\n",
    "            x_test = X.loc[null_idx].drop(col, axis=1)\n",
    "            y_offset = X[col].min()\n",
    "            y_train = X.loc[~null_idx, col].astype(int) - y_offset\n",
    "            dtrain = lgb.Dataset(\n",
    "                data=x_train,\n",
    "                label=y_train\n",
    "            )\n",
    "\n",
    "            early_stopping_rounds = int(self.n_iter/10)\n",
    "            model = lgb.train(\n",
    "                params, dtrain, valid_sets=[dtrain], \n",
    "                num_boost_round=self.n_iter,\n",
    "                early_stopping_rounds=early_stopping_rounds,\n",
    "                verbose_eval=0,\n",
    "            )\n",
    "\n",
    "            y_test = model.predict(x_test)\n",
    "            if params['objective'] == 'multiclass':\n",
    "                y_test = np.argmax(y_test, axis=1).astype(float)\n",
    "            elif params['objective'] == 'binary':\n",
    "                y_test = (y_test > 0.5).astype(float)\n",
    "            y_test += y_offset\n",
    "            output_X.loc[null_idx, col] = y_test\n",
    "            if params['objective'] in ['multiclass', 'binary']:\n",
    "                output_X[col] = output_X[col].astype(int)\n",
    "            self.imputers[col] = model\n",
    "            self.offsets[col] = y_offset\n",
    "            self.objectives[col] = params['objective']\n",
    "            if self.verbose:\n",
    "                pbar.set_description(f'{col}:\\t{self.objectives[col]}...iter{model.best_iteration}/{self.n_iter}')\n",
    "        \n",
    "        return output_X"
   ]
  },
  {
   "cell_type": "code",
   "execution_count": 27,
   "id": "1ece604a-aa74-4c0b-9f92-966a45640a44",
   "metadata": {},
   "outputs": [],
   "source": [
    "imputer = LGBMImputer(verbose = True)"
   ]
  },
  {
   "cell_type": "markdown",
   "id": "8d699931-05a8-4ae1-961e-6954016f161b",
   "metadata": {
    "tags": []
   },
   "source": [
    "#### 3.2.4. KNN Imputer"
   ]
  },
  {
   "cell_type": "code",
   "execution_count": 28,
   "id": "81424606-36af-4424-bb12-5c380d9236c1",
   "metadata": {},
   "outputs": [],
   "source": [
    "from sklearn.impute import KNNImputer"
   ]
  },
  {
   "cell_type": "code",
   "execution_count": 29,
   "id": "08309fbe-cd2f-4399-b6d5-58b0f9d4dc10",
   "metadata": {},
   "outputs": [],
   "source": [
    "imputer = KNNImputer()"
   ]
  },
  {
   "cell_type": "markdown",
   "id": "3962db43-cee7-4c8d-9a45-50f86698e4bd",
   "metadata": {
    "jp-MarkdownHeadingCollapsed": true,
    "tags": []
   },
   "source": [
    "### 3.3. Imputer Fit_Transform"
   ]
  },
  {
   "cell_type": "code",
   "execution_count": 30,
   "id": "071c3d63-c770-4bc6-b033-6d6c0abe3a75",
   "metadata": {},
   "outputs": [
    {
     "name": "stderr",
     "output_type": "stream",
     "text": [
      "/var/folders/k5/yg__kmls5zndgtyl75h907040000gn/T/ipykernel_861/1814083638.py:4: FutureWarning: Series.dt.weekofyear and Series.dt.week have been deprecated. Please use Series.dt.isocalendar().week instead.\n",
      "  features[\"week\"] = pd.to_datetime(features[\"Timestamp\"]).dt.week\n"
     ]
    }
   ],
   "source": [
    "features[\"month\"] = pd.to_datetime(features[\"Timestamp\"]).dt.month\n",
    "features[\"year\"] = pd.to_datetime(features[\"Timestamp\"]).dt.year\n",
    "features[\"hour\"] = pd.to_datetime(features[\"Timestamp\"]).dt.hour\n",
    "features[\"week\"] = pd.to_datetime(features[\"Timestamp\"]).dt.week"
   ]
  },
  {
   "cell_type": "code",
   "execution_count": 442,
   "id": "83d1182a-7d80-49be-8821-5b3b963efc80",
   "metadata": {},
   "outputs": [],
   "source": [
    "df = features.copy()"
   ]
  },
  {
   "cell_type": "code",
   "execution_count": 443,
   "id": "3f077368-cb4e-4557-9520-af12be4a94ff",
   "metadata": {
    "collapsed": true,
    "jupyter": {
     "outputs_hidden": true
    },
    "tags": []
   },
   "outputs": [
    {
     "name": "stderr",
     "output_type": "stream",
     "text": [
      "  0%|          | 0/77 [00:00<?, ?it/s]/Users/sevdeaydin/opt/anaconda3/lib/python3.9/site-packages/lightgbm/engine.py:181: UserWarning: 'early_stopping_rounds' argument is deprecated and will be removed in a future release of LightGBM. Pass 'early_stopping()' callback via 'callbacks' argument instead.\n",
      "  _log_warning(\"'early_stopping_rounds' argument is deprecated and will be removed in a future release of LightGBM. \"\n",
      "/Users/sevdeaydin/opt/anaconda3/lib/python3.9/site-packages/lightgbm/engine.py:239: UserWarning: 'verbose_eval' argument is deprecated and will be removed in a future release of LightGBM. Pass 'log_evaluation()' callback via 'callbacks' argument instead.\n",
      "  _log_warning(\"'verbose_eval' argument is deprecated and will be removed in a future release of LightGBM. \"\n",
      "Gearbox_T1_High_Speed_Shaft_Temperature:\tregression...iter100/100:   1%|▏         | 1/77 [00:03<04:54,  3.87s/it]/Users/sevdeaydin/opt/anaconda3/lib/python3.9/site-packages/lightgbm/engine.py:181: UserWarning: 'early_stopping_rounds' argument is deprecated and will be removed in a future release of LightGBM. Pass 'early_stopping()' callback via 'callbacks' argument instead.\n",
      "  _log_warning(\"'early_stopping_rounds' argument is deprecated and will be removed in a future release of LightGBM. \"\n",
      "/Users/sevdeaydin/opt/anaconda3/lib/python3.9/site-packages/lightgbm/engine.py:239: UserWarning: 'verbose_eval' argument is deprecated and will be removed in a future release of LightGBM. Pass 'log_evaluation()' callback via 'callbacks' argument instead.\n",
      "  _log_warning(\"'verbose_eval' argument is deprecated and will be removed in a future release of LightGBM. \"\n",
      "Gearbox_T3_High_Speed_Shaft_Temperature:\tregression...iter100/100:   3%|▎         | 2/77 [00:07<04:48,  3.85s/it]/Users/sevdeaydin/opt/anaconda3/lib/python3.9/site-packages/lightgbm/engine.py:181: UserWarning: 'early_stopping_rounds' argument is deprecated and will be removed in a future release of LightGBM. Pass 'early_stopping()' callback via 'callbacks' argument instead.\n",
      "  _log_warning(\"'early_stopping_rounds' argument is deprecated and will be removed in a future release of LightGBM. \"\n",
      "/Users/sevdeaydin/opt/anaconda3/lib/python3.9/site-packages/lightgbm/engine.py:239: UserWarning: 'verbose_eval' argument is deprecated and will be removed in a future release of LightGBM. Pass 'log_evaluation()' callback via 'callbacks' argument instead.\n",
      "  _log_warning(\"'verbose_eval' argument is deprecated and will be removed in a future release of LightGBM. \"\n",
      "Gearbox_T1_Intermediate_Speed_Shaft_Temperature:\tregression...iter100/100:   4%|▍         | 3/77 [00:11<04:55,  3.99s/it]/Users/sevdeaydin/opt/anaconda3/lib/python3.9/site-packages/lightgbm/engine.py:181: UserWarning: 'early_stopping_rounds' argument is deprecated and will be removed in a future release of LightGBM. Pass 'early_stopping()' callback via 'callbacks' argument instead.\n",
      "  _log_warning(\"'early_stopping_rounds' argument is deprecated and will be removed in a future release of LightGBM. \"\n",
      "/Users/sevdeaydin/opt/anaconda3/lib/python3.9/site-packages/lightgbm/engine.py:239: UserWarning: 'verbose_eval' argument is deprecated and will be removed in a future release of LightGBM. Pass 'log_evaluation()' callback via 'callbacks' argument instead.\n",
      "  _log_warning(\"'verbose_eval' argument is deprecated and will be removed in a future release of LightGBM. \"\n",
      "Temperature Gearbox Bearing Hollow Shaft:\tregression...iter100/100:   5%|▌         | 4/77 [00:15<04:49,  3.97s/it]       /Users/sevdeaydin/opt/anaconda3/lib/python3.9/site-packages/lightgbm/engine.py:181: UserWarning: 'early_stopping_rounds' argument is deprecated and will be removed in a future release of LightGBM. Pass 'early_stopping()' callback via 'callbacks' argument instead.\n",
      "  _log_warning(\"'early_stopping_rounds' argument is deprecated and will be removed in a future release of LightGBM. \"\n",
      "/Users/sevdeaydin/opt/anaconda3/lib/python3.9/site-packages/lightgbm/engine.py:239: UserWarning: 'verbose_eval' argument is deprecated and will be removed in a future release of LightGBM. Pass 'log_evaluation()' callback via 'callbacks' argument instead.\n",
      "  _log_warning(\"'verbose_eval' argument is deprecated and will be removed in a future release of LightGBM. \"\n",
      "Tower Acceleration Normal:\tregression...iter100/100:   6%|▋         | 5/77 [00:19<04:29,  3.75s/it]               /Users/sevdeaydin/opt/anaconda3/lib/python3.9/site-packages/lightgbm/engine.py:181: UserWarning: 'early_stopping_rounds' argument is deprecated and will be removed in a future release of LightGBM. Pass 'early_stopping()' callback via 'callbacks' argument instead.\n",
      "  _log_warning(\"'early_stopping_rounds' argument is deprecated and will be removed in a future release of LightGBM. \"\n",
      "/Users/sevdeaydin/opt/anaconda3/lib/python3.9/site-packages/lightgbm/engine.py:239: UserWarning: 'verbose_eval' argument is deprecated and will be removed in a future release of LightGBM. Pass 'log_evaluation()' callback via 'callbacks' argument instead.\n",
      "  _log_warning(\"'verbose_eval' argument is deprecated and will be removed in a future release of LightGBM. \"\n",
      "Gearbox_Oil-2_Temperature:\tregression...iter100/100:   8%|▊         | 6/77 [00:22<04:08,  3.51s/it]/Users/sevdeaydin/opt/anaconda3/lib/python3.9/site-packages/lightgbm/engine.py:181: UserWarning: 'early_stopping_rounds' argument is deprecated and will be removed in a future release of LightGBM. Pass 'early_stopping()' callback via 'callbacks' argument instead.\n",
      "  _log_warning(\"'early_stopping_rounds' argument is deprecated and will be removed in a future release of LightGBM. \"\n",
      "/Users/sevdeaydin/opt/anaconda3/lib/python3.9/site-packages/lightgbm/engine.py:239: UserWarning: 'verbose_eval' argument is deprecated and will be removed in a future release of LightGBM. Pass 'log_evaluation()' callback via 'callbacks' argument instead.\n",
      "  _log_warning(\"'verbose_eval' argument is deprecated and will be removed in a future release of LightGBM. \"\n",
      "Tower Acceleration Lateral:\tregression...iter100/100:   9%|▉         | 7/77 [00:24<03:47,  3.25s/it]/Users/sevdeaydin/opt/anaconda3/lib/python3.9/site-packages/lightgbm/engine.py:181: UserWarning: 'early_stopping_rounds' argument is deprecated and will be removed in a future release of LightGBM. Pass 'early_stopping()' callback via 'callbacks' argument instead.\n",
      "  _log_warning(\"'early_stopping_rounds' argument is deprecated and will be removed in a future release of LightGBM. \"\n",
      "/Users/sevdeaydin/opt/anaconda3/lib/python3.9/site-packages/lightgbm/engine.py:239: UserWarning: 'verbose_eval' argument is deprecated and will be removed in a future release of LightGBM. Pass 'log_evaluation()' callback via 'callbacks' argument instead.\n",
      "  _log_warning(\"'verbose_eval' argument is deprecated and will be removed in a future release of LightGBM. \"\n",
      "Temperature Bearing_A:\tregression...iter100/100:  10%|█         | 8/77 [00:27<03:30,  3.06s/it]     /Users/sevdeaydin/opt/anaconda3/lib/python3.9/site-packages/lightgbm/engine.py:181: UserWarning: 'early_stopping_rounds' argument is deprecated and will be removed in a future release of LightGBM. Pass 'early_stopping()' callback via 'callbacks' argument instead.\n",
      "  _log_warning(\"'early_stopping_rounds' argument is deprecated and will be removed in a future release of LightGBM. \"\n",
      "/Users/sevdeaydin/opt/anaconda3/lib/python3.9/site-packages/lightgbm/engine.py:239: UserWarning: 'verbose_eval' argument is deprecated and will be removed in a future release of LightGBM. Pass 'log_evaluation()' callback via 'callbacks' argument instead.\n",
      "  _log_warning(\"'verbose_eval' argument is deprecated and will be removed in a future release of LightGBM. \"\n",
      "Temperature Trafo-3:\tregression...iter100/100:  12%|█▏        | 9/77 [00:30<03:27,  3.06s/it]  /Users/sevdeaydin/opt/anaconda3/lib/python3.9/site-packages/lightgbm/engine.py:181: UserWarning: 'early_stopping_rounds' argument is deprecated and will be removed in a future release of LightGBM. Pass 'early_stopping()' callback via 'callbacks' argument instead.\n",
      "  _log_warning(\"'early_stopping_rounds' argument is deprecated and will be removed in a future release of LightGBM. \"\n",
      "/Users/sevdeaydin/opt/anaconda3/lib/python3.9/site-packages/lightgbm/engine.py:239: UserWarning: 'verbose_eval' argument is deprecated and will be removed in a future release of LightGBM. Pass 'log_evaluation()' callback via 'callbacks' argument instead.\n",
      "  _log_warning(\"'verbose_eval' argument is deprecated and will be removed in a future release of LightGBM. \"\n",
      "Gearbox_T3_Intermediate_Speed_Shaft_Temperature:\tregression...iter100/100:  13%|█▎        | 10/77 [00:33<03:20,  2.99s/it]/Users/sevdeaydin/opt/anaconda3/lib/python3.9/site-packages/lightgbm/engine.py:181: UserWarning: 'early_stopping_rounds' argument is deprecated and will be removed in a future release of LightGBM. Pass 'early_stopping()' callback via 'callbacks' argument instead.\n",
      "  _log_warning(\"'early_stopping_rounds' argument is deprecated and will be removed in a future release of LightGBM. \"\n",
      "/Users/sevdeaydin/opt/anaconda3/lib/python3.9/site-packages/lightgbm/engine.py:239: UserWarning: 'verbose_eval' argument is deprecated and will be removed in a future release of LightGBM. Pass 'log_evaluation()' callback via 'callbacks' argument instead.\n",
      "  _log_warning(\"'verbose_eval' argument is deprecated and will be removed in a future release of LightGBM. \"\n",
      "Gearbox_Oil-1_Temperature:\tregression...iter100/100:  14%|█▍        | 11/77 [00:35<03:02,  2.76s/it]                      /Users/sevdeaydin/opt/anaconda3/lib/python3.9/site-packages/lightgbm/engine.py:181: UserWarning: 'early_stopping_rounds' argument is deprecated and will be removed in a future release of LightGBM. Pass 'early_stopping()' callback via 'callbacks' argument instead.\n",
      "  _log_warning(\"'early_stopping_rounds' argument is deprecated and will be removed in a future release of LightGBM. \"\n",
      "/Users/sevdeaydin/opt/anaconda3/lib/python3.9/site-packages/lightgbm/engine.py:239: UserWarning: 'verbose_eval' argument is deprecated and will be removed in a future release of LightGBM. Pass 'log_evaluation()' callback via 'callbacks' argument instead.\n",
      "  _log_warning(\"'verbose_eval' argument is deprecated and will be removed in a future release of LightGBM. \"\n",
      "Gearbox_Oil_Temperature:\tregression...iter100/100:  16%|█▌        | 12/77 [00:38<02:53,  2.67s/it]  /Users/sevdeaydin/opt/anaconda3/lib/python3.9/site-packages/lightgbm/engine.py:181: UserWarning: 'early_stopping_rounds' argument is deprecated and will be removed in a future release of LightGBM. Pass 'early_stopping()' callback via 'callbacks' argument instead.\n",
      "  _log_warning(\"'early_stopping_rounds' argument is deprecated and will be removed in a future release of LightGBM. \"\n",
      "/Users/sevdeaydin/opt/anaconda3/lib/python3.9/site-packages/lightgbm/engine.py:239: UserWarning: 'verbose_eval' argument is deprecated and will be removed in a future release of LightGBM. Pass 'log_evaluation()' callback via 'callbacks' argument instead.\n",
      "  _log_warning(\"'verbose_eval' argument is deprecated and will be removed in a future release of LightGBM. \"\n",
      "Torque:\tregression...iter100/100:  17%|█▋        | 13/77 [00:40<02:45,  2.58s/it]                 /Users/sevdeaydin/opt/anaconda3/lib/python3.9/site-packages/lightgbm/engine.py:181: UserWarning: 'early_stopping_rounds' argument is deprecated and will be removed in a future release of LightGBM. Pass 'early_stopping()' callback via 'callbacks' argument instead.\n",
      "  _log_warning(\"'early_stopping_rounds' argument is deprecated and will be removed in a future release of LightGBM. \"\n",
      "/Users/sevdeaydin/opt/anaconda3/lib/python3.9/site-packages/lightgbm/engine.py:239: UserWarning: 'verbose_eval' argument is deprecated and will be removed in a future release of LightGBM. Pass 'log_evaluation()' callback via 'callbacks' argument instead.\n",
      "  _log_warning(\"'verbose_eval' argument is deprecated and will be removed in a future release of LightGBM. \"\n",
      "Converter Control Unit Reactive Power:\tregression...iter100/100:  18%|█▊        | 14/77 [00:43<02:45,  2.62s/it]/Users/sevdeaydin/opt/anaconda3/lib/python3.9/site-packages/lightgbm/engine.py:181: UserWarning: 'early_stopping_rounds' argument is deprecated and will be removed in a future release of LightGBM. Pass 'early_stopping()' callback via 'callbacks' argument instead.\n",
      "  _log_warning(\"'early_stopping_rounds' argument is deprecated and will be removed in a future release of LightGBM. \"\n",
      "/Users/sevdeaydin/opt/anaconda3/lib/python3.9/site-packages/lightgbm/engine.py:239: UserWarning: 'verbose_eval' argument is deprecated and will be removed in a future release of LightGBM. Pass 'log_evaluation()' callback via 'callbacks' argument instead.\n",
      "  _log_warning(\"'verbose_eval' argument is deprecated and will be removed in a future release of LightGBM. \"\n",
      "Temperature Trafo-2:\tregression...iter100/100:  19%|█▉        | 15/77 [00:45<02:45,  2.66s/it]                  /Users/sevdeaydin/opt/anaconda3/lib/python3.9/site-packages/lightgbm/engine.py:181: UserWarning: 'early_stopping_rounds' argument is deprecated and will be removed in a future release of LightGBM. Pass 'early_stopping()' callback via 'callbacks' argument instead.\n",
      "  _log_warning(\"'early_stopping_rounds' argument is deprecated and will be removed in a future release of LightGBM. \"\n",
      "/Users/sevdeaydin/opt/anaconda3/lib/python3.9/site-packages/lightgbm/engine.py:239: UserWarning: 'verbose_eval' argument is deprecated and will be removed in a future release of LightGBM. Pass 'log_evaluation()' callback via 'callbacks' argument instead.\n",
      "  _log_warning(\"'verbose_eval' argument is deprecated and will be removed in a future release of LightGBM. \"\n",
      "Reactive Power:\tregression...iter100/100:  21%|██        | 16/77 [00:48<02:36,  2.57s/it]     /Users/sevdeaydin/opt/anaconda3/lib/python3.9/site-packages/lightgbm/engine.py:181: UserWarning: 'early_stopping_rounds' argument is deprecated and will be removed in a future release of LightGBM. Pass 'early_stopping()' callback via 'callbacks' argument instead.\n",
      "  _log_warning(\"'early_stopping_rounds' argument is deprecated and will be removed in a future release of LightGBM. \"\n",
      "/Users/sevdeaydin/opt/anaconda3/lib/python3.9/site-packages/lightgbm/engine.py:239: UserWarning: 'verbose_eval' argument is deprecated and will be removed in a future release of LightGBM. Pass 'log_evaluation()' callback via 'callbacks' argument instead.\n",
      "  _log_warning(\"'verbose_eval' argument is deprecated and will be removed in a future release of LightGBM. \"\n",
      "Temperature Shaft Bearing-1:\tregression...iter100/100:  22%|██▏       | 17/77 [00:51<02:49,  2.82s/it]/Users/sevdeaydin/opt/anaconda3/lib/python3.9/site-packages/lightgbm/engine.py:181: UserWarning: 'early_stopping_rounds' argument is deprecated and will be removed in a future release of LightGBM. Pass 'early_stopping()' callback via 'callbacks' argument instead.\n",
      "  _log_warning(\"'early_stopping_rounds' argument is deprecated and will be removed in a future release of LightGBM. \"\n",
      "/Users/sevdeaydin/opt/anaconda3/lib/python3.9/site-packages/lightgbm/engine.py:239: UserWarning: 'verbose_eval' argument is deprecated and will be removed in a future release of LightGBM. Pass 'log_evaluation()' callback via 'callbacks' argument instead.\n",
      "  _log_warning(\"'verbose_eval' argument is deprecated and will be removed in a future release of LightGBM. \"\n",
      "Gearbox_Distributor_Temperature:\tregression...iter100/100:  23%|██▎       | 18/77 [00:55<03:00,  3.05s/it]/Users/sevdeaydin/opt/anaconda3/lib/python3.9/site-packages/lightgbm/engine.py:181: UserWarning: 'early_stopping_rounds' argument is deprecated and will be removed in a future release of LightGBM. Pass 'early_stopping()' callback via 'callbacks' argument instead.\n",
      "  _log_warning(\"'early_stopping_rounds' argument is deprecated and will be removed in a future release of LightGBM. \"\n",
      "/Users/sevdeaydin/opt/anaconda3/lib/python3.9/site-packages/lightgbm/engine.py:239: UserWarning: 'verbose_eval' argument is deprecated and will be removed in a future release of LightGBM. Pass 'log_evaluation()' callback via 'callbacks' argument instead.\n",
      "  _log_warning(\"'verbose_eval' argument is deprecated and will be removed in a future release of LightGBM. \"\n",
      "Moment D Filtered:\tregression...iter100/100:  25%|██▍       | 19/77 [00:58<02:53,  2.98s/it]              /Users/sevdeaydin/opt/anaconda3/lib/python3.9/site-packages/lightgbm/engine.py:181: UserWarning: 'early_stopping_rounds' argument is deprecated and will be removed in a future release of LightGBM. Pass 'early_stopping()' callback via 'callbacks' argument instead.\n",
      "  _log_warning(\"'early_stopping_rounds' argument is deprecated and will be removed in a future release of LightGBM. \"\n",
      "/Users/sevdeaydin/opt/anaconda3/lib/python3.9/site-packages/lightgbm/engine.py:239: UserWarning: 'verbose_eval' argument is deprecated and will be removed in a future release of LightGBM. Pass 'log_evaluation()' callback via 'callbacks' argument instead.\n",
      "  _log_warning(\"'verbose_eval' argument is deprecated and will be removed in a future release of LightGBM. \"\n",
      "Moment D Direction:\tregression...iter100/100:  26%|██▌       | 20/77 [01:00<02:43,  2.87s/it]/Users/sevdeaydin/opt/anaconda3/lib/python3.9/site-packages/lightgbm/engine.py:181: UserWarning: 'early_stopping_rounds' argument is deprecated and will be removed in a future release of LightGBM. Pass 'early_stopping()' callback via 'callbacks' argument instead.\n",
      "  _log_warning(\"'early_stopping_rounds' argument is deprecated and will be removed in a future release of LightGBM. \"\n",
      "/Users/sevdeaydin/opt/anaconda3/lib/python3.9/site-packages/lightgbm/engine.py:239: UserWarning: 'verbose_eval' argument is deprecated and will be removed in a future release of LightGBM. Pass 'log_evaluation()' callback via 'callbacks' argument instead.\n",
      "  _log_warning(\"'verbose_eval' argument is deprecated and will be removed in a future release of LightGBM. \"\n",
      "N-set 1:\tregression...iter100/100:  27%|██▋       | 21/77 [01:03<02:30,  2.69s/it]           /Users/sevdeaydin/opt/anaconda3/lib/python3.9/site-packages/lightgbm/engine.py:181: UserWarning: 'early_stopping_rounds' argument is deprecated and will be removed in a future release of LightGBM. Pass 'early_stopping()' callback via 'callbacks' argument instead.\n",
      "  _log_warning(\"'early_stopping_rounds' argument is deprecated and will be removed in a future release of LightGBM. \"\n",
      "/Users/sevdeaydin/opt/anaconda3/lib/python3.9/site-packages/lightgbm/engine.py:239: UserWarning: 'verbose_eval' argument is deprecated and will be removed in a future release of LightGBM. Pass 'log_evaluation()' callback via 'callbacks' argument instead.\n",
      "  _log_warning(\"'verbose_eval' argument is deprecated and will be removed in a future release of LightGBM. \"\n",
      "Operating State:\tregression...iter100/100:  29%|██▊       | 22/77 [01:04<02:15,  2.46s/it]/Users/sevdeaydin/opt/anaconda3/lib/python3.9/site-packages/lightgbm/engine.py:181: UserWarning: 'early_stopping_rounds' argument is deprecated and will be removed in a future release of LightGBM. Pass 'early_stopping()' callback via 'callbacks' argument instead.\n",
      "  _log_warning(\"'early_stopping_rounds' argument is deprecated and will be removed in a future release of LightGBM. \"\n",
      "/Users/sevdeaydin/opt/anaconda3/lib/python3.9/site-packages/lightgbm/engine.py:239: UserWarning: 'verbose_eval' argument is deprecated and will be removed in a future release of LightGBM. Pass 'log_evaluation()' callback via 'callbacks' argument instead.\n",
      "  _log_warning(\"'verbose_eval' argument is deprecated and will be removed in a future release of LightGBM. \"\n",
      "Power Factor:\tregression...iter100/100:  30%|██▉       | 23/77 [01:06<02:01,  2.24s/it]   /Users/sevdeaydin/opt/anaconda3/lib/python3.9/site-packages/lightgbm/engine.py:181: UserWarning: 'early_stopping_rounds' argument is deprecated and will be removed in a future release of LightGBM. Pass 'early_stopping()' callback via 'callbacks' argument instead.\n",
      "  _log_warning(\"'early_stopping_rounds' argument is deprecated and will be removed in a future release of LightGBM. \"\n",
      "/Users/sevdeaydin/opt/anaconda3/lib/python3.9/site-packages/lightgbm/engine.py:239: UserWarning: 'verbose_eval' argument is deprecated and will be removed in a future release of LightGBM. Pass 'log_evaluation()' callback via 'callbacks' argument instead.\n",
      "  _log_warning(\"'verbose_eval' argument is deprecated and will be removed in a future release of LightGBM. \"\n",
      "Temperature Shaft Bearing-2:\tregression...iter100/100:  31%|███       | 24/77 [01:09<02:11,  2.48s/it]/Users/sevdeaydin/opt/anaconda3/lib/python3.9/site-packages/lightgbm/engine.py:181: UserWarning: 'early_stopping_rounds' argument is deprecated and will be removed in a future release of LightGBM. Pass 'early_stopping()' callback via 'callbacks' argument instead.\n",
      "  _log_warning(\"'early_stopping_rounds' argument is deprecated and will be removed in a future release of LightGBM. \"\n",
      "/Users/sevdeaydin/opt/anaconda3/lib/python3.9/site-packages/lightgbm/engine.py:239: UserWarning: 'verbose_eval' argument is deprecated and will be removed in a future release of LightGBM. Pass 'log_evaluation()' callback via 'callbacks' argument instead.\n",
      "  _log_warning(\"'verbose_eval' argument is deprecated and will be removed in a future release of LightGBM. \"\n",
      "Temperature_Nacelle:\tregression...iter100/100:  32%|███▏      | 25/77 [01:12<02:11,  2.54s/it]        /Users/sevdeaydin/opt/anaconda3/lib/python3.9/site-packages/lightgbm/engine.py:181: UserWarning: 'early_stopping_rounds' argument is deprecated and will be removed in a future release of LightGBM. Pass 'early_stopping()' callback via 'callbacks' argument instead.\n",
      "  _log_warning(\"'early_stopping_rounds' argument is deprecated and will be removed in a future release of LightGBM. \"\n",
      "/Users/sevdeaydin/opt/anaconda3/lib/python3.9/site-packages/lightgbm/engine.py:239: UserWarning: 'verbose_eval' argument is deprecated and will be removed in a future release of LightGBM. Pass 'log_evaluation()' callback via 'callbacks' argument instead.\n",
      "  _log_warning(\"'verbose_eval' argument is deprecated and will be removed in a future release of LightGBM. \"\n",
      "Voltage A-N:\tregression...iter100/100:  34%|███▍      | 26/77 [01:14<02:06,  2.48s/it]        /Users/sevdeaydin/opt/anaconda3/lib/python3.9/site-packages/lightgbm/engine.py:181: UserWarning: 'early_stopping_rounds' argument is deprecated and will be removed in a future release of LightGBM. Pass 'early_stopping()' callback via 'callbacks' argument instead.\n",
      "  _log_warning(\"'early_stopping_rounds' argument is deprecated and will be removed in a future release of LightGBM. \"\n",
      "/Users/sevdeaydin/opt/anaconda3/lib/python3.9/site-packages/lightgbm/engine.py:239: UserWarning: 'verbose_eval' argument is deprecated and will be removed in a future release of LightGBM. Pass 'log_evaluation()' callback via 'callbacks' argument instead.\n",
      "  _log_warning(\"'verbose_eval' argument is deprecated and will be removed in a future release of LightGBM. \"\n",
      "Temperature Axis Box-3:\tregression...iter100/100:  35%|███▌      | 27/77 [01:17<02:05,  2.50s/it]/Users/sevdeaydin/opt/anaconda3/lib/python3.9/site-packages/lightgbm/engine.py:181: UserWarning: 'early_stopping_rounds' argument is deprecated and will be removed in a future release of LightGBM. Pass 'early_stopping()' callback via 'callbacks' argument instead.\n",
      "  _log_warning(\"'early_stopping_rounds' argument is deprecated and will be removed in a future release of LightGBM. \"\n",
      "/Users/sevdeaydin/opt/anaconda3/lib/python3.9/site-packages/lightgbm/engine.py:239: UserWarning: 'verbose_eval' argument is deprecated and will be removed in a future release of LightGBM. Pass 'log_evaluation()' callback via 'callbacks' argument instead.\n",
      "  _log_warning(\"'verbose_eval' argument is deprecated and will be removed in a future release of LightGBM. \"\n",
      "Voltage C-N:\tregression...iter100/100:  36%|███▋      | 28/77 [01:19<02:03,  2.53s/it]           /Users/sevdeaydin/opt/anaconda3/lib/python3.9/site-packages/lightgbm/engine.py:181: UserWarning: 'early_stopping_rounds' argument is deprecated and will be removed in a future release of LightGBM. Pass 'early_stopping()' callback via 'callbacks' argument instead.\n",
      "  _log_warning(\"'early_stopping_rounds' argument is deprecated and will be removed in a future release of LightGBM. \"\n",
      "/Users/sevdeaydin/opt/anaconda3/lib/python3.9/site-packages/lightgbm/engine.py:239: UserWarning: 'verbose_eval' argument is deprecated and will be removed in a future release of LightGBM. Pass 'log_evaluation()' callback via 'callbacks' argument instead.\n",
      "  _log_warning(\"'verbose_eval' argument is deprecated and will be removed in a future release of LightGBM. \"\n",
      "Temperature Axis Box-2:\tregression...iter100/100:  38%|███▊      | 29/77 [01:22<02:04,  2.59s/it]/Users/sevdeaydin/opt/anaconda3/lib/python3.9/site-packages/lightgbm/engine.py:181: UserWarning: 'early_stopping_rounds' argument is deprecated and will be removed in a future release of LightGBM. Pass 'early_stopping()' callback via 'callbacks' argument instead.\n",
      "  _log_warning(\"'early_stopping_rounds' argument is deprecated and will be removed in a future release of LightGBM. \"\n",
      "/Users/sevdeaydin/opt/anaconda3/lib/python3.9/site-packages/lightgbm/engine.py:239: UserWarning: 'verbose_eval' argument is deprecated and will be removed in a future release of LightGBM. Pass 'log_evaluation()' callback via 'callbacks' argument instead.\n",
      "  _log_warning(\"'verbose_eval' argument is deprecated and will be removed in a future release of LightGBM. \"\n",
      "Temperature Axis Box-1:\tregression...iter100/100:  39%|███▉      | 30/77 [01:25<02:03,  2.64s/it]/Users/sevdeaydin/opt/anaconda3/lib/python3.9/site-packages/lightgbm/engine.py:181: UserWarning: 'early_stopping_rounds' argument is deprecated and will be removed in a future release of LightGBM. Pass 'early_stopping()' callback via 'callbacks' argument instead.\n",
      "  _log_warning(\"'early_stopping_rounds' argument is deprecated and will be removed in a future release of LightGBM. \"\n",
      "/Users/sevdeaydin/opt/anaconda3/lib/python3.9/site-packages/lightgbm/engine.py:239: UserWarning: 'verbose_eval' argument is deprecated and will be removed in a future release of LightGBM. Pass 'log_evaluation()' callback via 'callbacks' argument instead.\n",
      "  _log_warning(\"'verbose_eval' argument is deprecated and will be removed in a future release of LightGBM. \"\n",
      "Voltage B-N:\tregression...iter100/100:  40%|████      | 31/77 [01:28<02:01,  2.64s/it]           /Users/sevdeaydin/opt/anaconda3/lib/python3.9/site-packages/lightgbm/engine.py:181: UserWarning: 'early_stopping_rounds' argument is deprecated and will be removed in a future release of LightGBM. Pass 'early_stopping()' callback via 'callbacks' argument instead.\n",
      "  _log_warning(\"'early_stopping_rounds' argument is deprecated and will be removed in a future release of LightGBM. \"\n",
      "/Users/sevdeaydin/opt/anaconda3/lib/python3.9/site-packages/lightgbm/engine.py:239: UserWarning: 'verbose_eval' argument is deprecated and will be removed in a future release of LightGBM. Pass 'log_evaluation()' callback via 'callbacks' argument instead.\n",
      "  _log_warning(\"'verbose_eval' argument is deprecated and will be removed in a future release of LightGBM. \"\n",
      "Nacelle Position_Degree:\tregression...iter100/100:  42%|████▏     | 32/77 [01:30<01:53,  2.53s/it]/Users/sevdeaydin/opt/anaconda3/lib/python3.9/site-packages/lightgbm/engine.py:181: UserWarning: 'early_stopping_rounds' argument is deprecated and will be removed in a future release of LightGBM. Pass 'early_stopping()' callback via 'callbacks' argument instead.\n",
      "  _log_warning(\"'early_stopping_rounds' argument is deprecated and will be removed in a future release of LightGBM. \"\n",
      "/Users/sevdeaydin/opt/anaconda3/lib/python3.9/site-packages/lightgbm/engine.py:239: UserWarning: 'verbose_eval' argument is deprecated and will be removed in a future release of LightGBM. Pass 'log_evaluation()' callback via 'callbacks' argument instead.\n",
      "  _log_warning(\"'verbose_eval' argument is deprecated and will be removed in a future release of LightGBM. \"\n",
      "Converter Control Unit Voltage:\tregression...iter100/100:  43%|████▎     | 33/77 [01:32<01:42,  2.32s/it]/Users/sevdeaydin/opt/anaconda3/lib/python3.9/site-packages/lightgbm/engine.py:181: UserWarning: 'early_stopping_rounds' argument is deprecated and will be removed in a future release of LightGBM. Pass 'early_stopping()' callback via 'callbacks' argument instead.\n",
      "  _log_warning(\"'early_stopping_rounds' argument is deprecated and will be removed in a future release of LightGBM. \"\n",
      "/Users/sevdeaydin/opt/anaconda3/lib/python3.9/site-packages/lightgbm/engine.py:239: UserWarning: 'verbose_eval' argument is deprecated and will be removed in a future release of LightGBM. Pass 'log_evaluation()' callback via 'callbacks' argument instead.\n",
      "  _log_warning(\"'verbose_eval' argument is deprecated and will be removed in a future release of LightGBM. \"\n",
      "Temperature Battery Box-3:\tregression...iter100/100:  44%|████▍     | 34/77 [01:34<01:39,  2.32s/it]     /Users/sevdeaydin/opt/anaconda3/lib/python3.9/site-packages/lightgbm/engine.py:181: UserWarning: 'early_stopping_rounds' argument is deprecated and will be removed in a future release of LightGBM. Pass 'early_stopping()' callback via 'callbacks' argument instead.\n",
      "  _log_warning(\"'early_stopping_rounds' argument is deprecated and will be removed in a future release of LightGBM. \"\n",
      "/Users/sevdeaydin/opt/anaconda3/lib/python3.9/site-packages/lightgbm/engine.py:239: UserWarning: 'verbose_eval' argument is deprecated and will be removed in a future release of LightGBM. Pass 'log_evaluation()' callback via 'callbacks' argument instead.\n",
      "  _log_warning(\"'verbose_eval' argument is deprecated and will be removed in a future release of LightGBM. \"\n",
      "Temperature Battery Box-2:\tregression...iter100/100:  45%|████▌     | 35/77 [01:37<01:49,  2.61s/it]/Users/sevdeaydin/opt/anaconda3/lib/python3.9/site-packages/lightgbm/engine.py:181: UserWarning: 'early_stopping_rounds' argument is deprecated and will be removed in a future release of LightGBM. Pass 'early_stopping()' callback via 'callbacks' argument instead.\n",
      "  _log_warning(\"'early_stopping_rounds' argument is deprecated and will be removed in a future release of LightGBM. \"\n",
      "/Users/sevdeaydin/opt/anaconda3/lib/python3.9/site-packages/lightgbm/engine.py:239: UserWarning: 'verbose_eval' argument is deprecated and will be removed in a future release of LightGBM. Pass 'log_evaluation()' callback via 'callbacks' argument instead.\n",
      "  _log_warning(\"'verbose_eval' argument is deprecated and will be removed in a future release of LightGBM. \"\n",
      "Temperature Battery Box-1:\tregression...iter100/100:  47%|████▋     | 36/77 [01:40<01:53,  2.77s/it]/Users/sevdeaydin/opt/anaconda3/lib/python3.9/site-packages/lightgbm/engine.py:181: UserWarning: 'early_stopping_rounds' argument is deprecated and will be removed in a future release of LightGBM. Pass 'early_stopping()' callback via 'callbacks' argument instead.\n",
      "  _log_warning(\"'early_stopping_rounds' argument is deprecated and will be removed in a future release of LightGBM. \"\n",
      "/Users/sevdeaydin/opt/anaconda3/lib/python3.9/site-packages/lightgbm/engine.py:239: UserWarning: 'verbose_eval' argument is deprecated and will be removed in a future release of LightGBM. Pass 'log_evaluation()' callback via 'callbacks' argument instead.\n",
      "  _log_warning(\"'verbose_eval' argument is deprecated and will be removed in a future release of LightGBM. \"\n",
      "Hydraulic Prepressure:\tregression...iter100/100:  48%|████▊     | 37/77 [01:43<01:54,  2.86s/it]    /Users/sevdeaydin/opt/anaconda3/lib/python3.9/site-packages/lightgbm/engine.py:181: UserWarning: 'early_stopping_rounds' argument is deprecated and will be removed in a future release of LightGBM. Pass 'early_stopping()' callback via 'callbacks' argument instead.\n",
      "  _log_warning(\"'early_stopping_rounds' argument is deprecated and will be removed in a future release of LightGBM. \"\n",
      "/Users/sevdeaydin/opt/anaconda3/lib/python3.9/site-packages/lightgbm/engine.py:239: UserWarning: 'verbose_eval' argument is deprecated and will be removed in a future release of LightGBM. Pass 'log_evaluation()' callback via 'callbacks' argument instead.\n",
      "  _log_warning(\"'verbose_eval' argument is deprecated and will be removed in a future release of LightGBM. \"\n",
      "Angle Rotor Position:\tregression...iter100/100:  49%|████▉     | 38/77 [01:46<01:44,  2.69s/it] /Users/sevdeaydin/opt/anaconda3/lib/python3.9/site-packages/lightgbm/engine.py:181: UserWarning: 'early_stopping_rounds' argument is deprecated and will be removed in a future release of LightGBM. Pass 'early_stopping()' callback via 'callbacks' argument instead.\n",
      "  _log_warning(\"'early_stopping_rounds' argument is deprecated and will be removed in a future release of LightGBM. \"\n",
      "/Users/sevdeaydin/opt/anaconda3/lib/python3.9/site-packages/lightgbm/engine.py:239: UserWarning: 'verbose_eval' argument is deprecated and will be removed in a future release of LightGBM. Pass 'log_evaluation()' callback via 'callbacks' argument instead.\n",
      "  _log_warning(\"'verbose_eval' argument is deprecated and will be removed in a future release of LightGBM. \"\n",
      "Temperature Tower Base:\tregression...iter100/100:  51%|█████     | 39/77 [01:49<01:49,  2.87s/it]/Users/sevdeaydin/opt/anaconda3/lib/python3.9/site-packages/lightgbm/engine.py:181: UserWarning: 'early_stopping_rounds' argument is deprecated and will be removed in a future release of LightGBM. Pass 'early_stopping()' callback via 'callbacks' argument instead.\n",
      "  _log_warning(\"'early_stopping_rounds' argument is deprecated and will be removed in a future release of LightGBM. \"\n",
      "/Users/sevdeaydin/opt/anaconda3/lib/python3.9/site-packages/lightgbm/engine.py:239: UserWarning: 'verbose_eval' argument is deprecated and will be removed in a future release of LightGBM. Pass 'log_evaluation()' callback via 'callbacks' argument instead.\n",
      "  _log_warning(\"'verbose_eval' argument is deprecated and will be removed in a future release of LightGBM. \"\n",
      "Pitch Offset-2 Asymmetric Load Controller:\tregression...iter100/100:  52%|█████▏    | 40/77 [01:51<01:37,  2.63s/it]/Users/sevdeaydin/opt/anaconda3/lib/python3.9/site-packages/lightgbm/engine.py:181: UserWarning: 'early_stopping_rounds' argument is deprecated and will be removed in a future release of LightGBM. Pass 'early_stopping()' callback via 'callbacks' argument instead.\n",
      "  _log_warning(\"'early_stopping_rounds' argument is deprecated and will be removed in a future release of LightGBM. \"\n",
      "/Users/sevdeaydin/opt/anaconda3/lib/python3.9/site-packages/lightgbm/engine.py:239: UserWarning: 'verbose_eval' argument is deprecated and will be removed in a future release of LightGBM. Pass 'log_evaluation()' callback via 'callbacks' argument instead.\n",
      "  _log_warning(\"'verbose_eval' argument is deprecated and will be removed in a future release of LightGBM. \"\n",
      "Pitch Offset Tower Feedback:\tregression...iter12/100:  53%|█████▎    | 41/77 [01:53<01:23,  2.32s/it]               /Users/sevdeaydin/opt/anaconda3/lib/python3.9/site-packages/lightgbm/engine.py:181: UserWarning: 'early_stopping_rounds' argument is deprecated and will be removed in a future release of LightGBM. Pass 'early_stopping()' callback via 'callbacks' argument instead.\n",
      "  _log_warning(\"'early_stopping_rounds' argument is deprecated and will be removed in a future release of LightGBM. \"\n",
      "/Users/sevdeaydin/opt/anaconda3/lib/python3.9/site-packages/lightgbm/engine.py:239: UserWarning: 'verbose_eval' argument is deprecated and will be removed in a future release of LightGBM. Pass 'log_evaluation()' callback via 'callbacks' argument instead.\n",
      "  _log_warning(\"'verbose_eval' argument is deprecated and will be removed in a future release of LightGBM. \"\n",
      "Line Frequency:\tregression...iter100/100:  55%|█████▍    | 42/77 [01:55<01:21,  2.33s/it]            /Users/sevdeaydin/opt/anaconda3/lib/python3.9/site-packages/lightgbm/engine.py:181: UserWarning: 'early_stopping_rounds' argument is deprecated and will be removed in a future release of LightGBM. Pass 'early_stopping()' callback via 'callbacks' argument instead.\n",
      "  _log_warning(\"'early_stopping_rounds' argument is deprecated and will be removed in a future release of LightGBM. \"\n",
      "/Users/sevdeaydin/opt/anaconda3/lib/python3.9/site-packages/lightgbm/engine.py:239: UserWarning: 'verbose_eval' argument is deprecated and will be removed in a future release of LightGBM. Pass 'log_evaluation()' callback via 'callbacks' argument instead.\n",
      "  _log_warning(\"'verbose_eval' argument is deprecated and will be removed in a future release of LightGBM. \"\n",
      "Internal Power Limit:\tregression...iter100/100:  56%|█████▌    | 43/77 [01:57<01:17,  2.29s/it]/Users/sevdeaydin/opt/anaconda3/lib/python3.9/site-packages/lightgbm/engine.py:181: UserWarning: 'early_stopping_rounds' argument is deprecated and will be removed in a future release of LightGBM. Pass 'early_stopping()' callback via 'callbacks' argument instead.\n",
      "  _log_warning(\"'early_stopping_rounds' argument is deprecated and will be removed in a future release of LightGBM. \"\n",
      "/Users/sevdeaydin/opt/anaconda3/lib/python3.9/site-packages/lightgbm/engine.py:239: UserWarning: 'verbose_eval' argument is deprecated and will be removed in a future release of LightGBM. Pass 'log_evaluation()' callback via 'callbacks' argument instead.\n",
      "  _log_warning(\"'verbose_eval' argument is deprecated and will be removed in a future release of LightGBM. \"\n",
      "Circuit Breaker cut-ins:\tregression...iter100/100:  57%|█████▋    | 44/77 [02:00<01:22,  2.49s/it]/Users/sevdeaydin/opt/anaconda3/lib/python3.9/site-packages/lightgbm/engine.py:181: UserWarning: 'early_stopping_rounds' argument is deprecated and will be removed in a future release of LightGBM. Pass 'early_stopping()' callback via 'callbacks' argument instead.\n",
      "  _log_warning(\"'early_stopping_rounds' argument is deprecated and will be removed in a future release of LightGBM. \"\n",
      "/Users/sevdeaydin/opt/anaconda3/lib/python3.9/site-packages/lightgbm/engine.py:239: UserWarning: 'verbose_eval' argument is deprecated and will be removed in a future release of LightGBM. Pass 'log_evaluation()' callback via 'callbacks' argument instead.\n",
      "  _log_warning(\"'verbose_eval' argument is deprecated and will be removed in a future release of LightGBM. \"\n",
      "Particle Counter:\tregression...iter100/100:  58%|█████▊    | 45/77 [02:03<01:20,  2.51s/it]       /Users/sevdeaydin/opt/anaconda3/lib/python3.9/site-packages/lightgbm/engine.py:181: UserWarning: 'early_stopping_rounds' argument is deprecated and will be removed in a future release of LightGBM. Pass 'early_stopping()' callback via 'callbacks' argument instead.\n",
      "  _log_warning(\"'early_stopping_rounds' argument is deprecated and will be removed in a future release of LightGBM. \"\n",
      "/Users/sevdeaydin/opt/anaconda3/lib/python3.9/site-packages/lightgbm/engine.py:239: UserWarning: 'verbose_eval' argument is deprecated and will be removed in a future release of LightGBM. Pass 'log_evaluation()' callback via 'callbacks' argument instead.\n",
      "  _log_warning(\"'verbose_eval' argument is deprecated and will be removed in a future release of LightGBM. \"\n",
      "Tower Accelaration Normal Raw:\tregression...iter100/100:  60%|█████▉    | 46/77 [02:05<01:16,  2.47s/it]/Users/sevdeaydin/opt/anaconda3/lib/python3.9/site-packages/lightgbm/engine.py:181: UserWarning: 'early_stopping_rounds' argument is deprecated and will be removed in a future release of LightGBM. Pass 'early_stopping()' callback via 'callbacks' argument instead.\n",
      "  _log_warning(\"'early_stopping_rounds' argument is deprecated and will be removed in a future release of LightGBM. \"\n",
      "/Users/sevdeaydin/opt/anaconda3/lib/python3.9/site-packages/lightgbm/engine.py:239: UserWarning: 'verbose_eval' argument is deprecated and will be removed in a future release of LightGBM. Pass 'log_evaluation()' callback via 'callbacks' argument instead.\n",
      "  _log_warning(\"'verbose_eval' argument is deprecated and will be removed in a future release of LightGBM. \"\n",
      "Torque Offset Tower Feedback:\tregression...iter100/100:  61%|██████    | 47/77 [02:08<01:16,  2.54s/it] /Users/sevdeaydin/opt/anaconda3/lib/python3.9/site-packages/lightgbm/engine.py:181: UserWarning: 'early_stopping_rounds' argument is deprecated and will be removed in a future release of LightGBM. Pass 'early_stopping()' callback via 'callbacks' argument instead.\n",
      "  _log_warning(\"'early_stopping_rounds' argument is deprecated and will be removed in a future release of LightGBM. \"\n",
      "/Users/sevdeaydin/opt/anaconda3/lib/python3.9/site-packages/lightgbm/engine.py:239: UserWarning: 'verbose_eval' argument is deprecated and will be removed in a future release of LightGBM. Pass 'log_evaluation()' callback via 'callbacks' argument instead.\n",
      "  _log_warning(\"'verbose_eval' argument is deprecated and will be removed in a future release of LightGBM. \"\n",
      "External Power Limit:\tregression...iter100/100:  62%|██████▏   | 48/77 [02:11<01:16,  2.65s/it]        /Users/sevdeaydin/opt/anaconda3/lib/python3.9/site-packages/lightgbm/engine.py:181: UserWarning: 'early_stopping_rounds' argument is deprecated and will be removed in a future release of LightGBM. Pass 'early_stopping()' callback via 'callbacks' argument instead.\n",
      "  _log_warning(\"'early_stopping_rounds' argument is deprecated and will be removed in a future release of LightGBM. \"\n",
      "/Users/sevdeaydin/opt/anaconda3/lib/python3.9/site-packages/lightgbm/engine.py:239: UserWarning: 'verbose_eval' argument is deprecated and will be removed in a future release of LightGBM. Pass 'log_evaluation()' callback via 'callbacks' argument instead.\n",
      "  _log_warning(\"'verbose_eval' argument is deprecated and will be removed in a future release of LightGBM. \"\n",
      "Blade-2 Actual Value_Angle-B:\tregression...iter100/100:  64%|██████▎   | 49/77 [02:14<01:16,  2.72s/it]/Users/sevdeaydin/opt/anaconda3/lib/python3.9/site-packages/lightgbm/engine.py:181: UserWarning: 'early_stopping_rounds' argument is deprecated and will be removed in a future release of LightGBM. Pass 'early_stopping()' callback via 'callbacks' argument instead.\n",
      "  _log_warning(\"'early_stopping_rounds' argument is deprecated and will be removed in a future release of LightGBM. \"\n",
      "/Users/sevdeaydin/opt/anaconda3/lib/python3.9/site-packages/lightgbm/engine.py:239: UserWarning: 'verbose_eval' argument is deprecated and will be removed in a future release of LightGBM. Pass 'log_evaluation()' callback via 'callbacks' argument instead.\n",
      "  _log_warning(\"'verbose_eval' argument is deprecated and will be removed in a future release of LightGBM. \"\n",
      "Blade-1 Actual Value_Angle-B:\tregression...iter100/100:  65%|██████▍   | 50/77 [02:16<01:14,  2.76s/it]/Users/sevdeaydin/opt/anaconda3/lib/python3.9/site-packages/lightgbm/engine.py:181: UserWarning: 'early_stopping_rounds' argument is deprecated and will be removed in a future release of LightGBM. Pass 'early_stopping()' callback via 'callbacks' argument instead.\n",
      "  _log_warning(\"'early_stopping_rounds' argument is deprecated and will be removed in a future release of LightGBM. \"\n",
      "/Users/sevdeaydin/opt/anaconda3/lib/python3.9/site-packages/lightgbm/engine.py:239: UserWarning: 'verbose_eval' argument is deprecated and will be removed in a future release of LightGBM. Pass 'log_evaluation()' callback via 'callbacks' argument instead.\n",
      "  _log_warning(\"'verbose_eval' argument is deprecated and will be removed in a future release of LightGBM. \"\n",
      "Blade-3 Actual Value_Angle-B:\tregression...iter100/100:  66%|██████▌   | 51/77 [02:19<01:06,  2.55s/it]/Users/sevdeaydin/opt/anaconda3/lib/python3.9/site-packages/lightgbm/engine.py:181: UserWarning: 'early_stopping_rounds' argument is deprecated and will be removed in a future release of LightGBM. Pass 'early_stopping()' callback via 'callbacks' argument instead.\n",
      "  _log_warning(\"'early_stopping_rounds' argument is deprecated and will be removed in a future release of LightGBM. \"\n",
      "/Users/sevdeaydin/opt/anaconda3/lib/python3.9/site-packages/lightgbm/engine.py:239: UserWarning: 'verbose_eval' argument is deprecated and will be removed in a future release of LightGBM. Pass 'log_evaluation()' callback via 'callbacks' argument instead.\n",
      "  _log_warning(\"'verbose_eval' argument is deprecated and will be removed in a future release of LightGBM. \"\n",
      "Temperature Heat Exchanger Converter Control Unit:\tregression...iter100/100:  68%|██████▊   | 52/77 [02:21<01:05,  2.60s/it]/Users/sevdeaydin/opt/anaconda3/lib/python3.9/site-packages/lightgbm/engine.py:181: UserWarning: 'early_stopping_rounds' argument is deprecated and will be removed in a future release of LightGBM. Pass 'early_stopping()' callback via 'callbacks' argument instead.\n",
      "  _log_warning(\"'early_stopping_rounds' argument is deprecated and will be removed in a future release of LightGBM. \"\n",
      "/Users/sevdeaydin/opt/anaconda3/lib/python3.9/site-packages/lightgbm/engine.py:239: UserWarning: 'verbose_eval' argument is deprecated and will be removed in a future release of LightGBM. Pass 'log_evaluation()' callback via 'callbacks' argument instead.\n",
      "  _log_warning(\"'verbose_eval' argument is deprecated and will be removed in a future release of LightGBM. \"\n",
      "Tower Accelaration Lateral Raw:\tregression...iter100/100:  69%|██████▉   | 53/77 [02:23<00:57,  2.40s/it]                   /Users/sevdeaydin/opt/anaconda3/lib/python3.9/site-packages/lightgbm/engine.py:181: UserWarning: 'early_stopping_rounds' argument is deprecated and will be removed in a future release of LightGBM. Pass 'early_stopping()' callback via 'callbacks' argument instead.\n",
      "  _log_warning(\"'early_stopping_rounds' argument is deprecated and will be removed in a future release of LightGBM. \"\n",
      "/Users/sevdeaydin/opt/anaconda3/lib/python3.9/site-packages/lightgbm/engine.py:239: UserWarning: 'verbose_eval' argument is deprecated and will be removed in a future release of LightGBM. Pass 'log_evaluation()' callback via 'callbacks' argument instead.\n",
      "  _log_warning(\"'verbose_eval' argument is deprecated and will be removed in a future release of LightGBM. \"\n",
      "Temperature Ambient:\tregression...iter100/100:  70%|███████   | 54/77 [02:26<01:00,  2.62s/it]           /Users/sevdeaydin/opt/anaconda3/lib/python3.9/site-packages/lightgbm/engine.py:181: UserWarning: 'early_stopping_rounds' argument is deprecated and will be removed in a future release of LightGBM. Pass 'early_stopping()' callback via 'callbacks' argument instead.\n",
      "  _log_warning(\"'early_stopping_rounds' argument is deprecated and will be removed in a future release of LightGBM. \"\n",
      "/Users/sevdeaydin/opt/anaconda3/lib/python3.9/site-packages/lightgbm/engine.py:239: UserWarning: 'verbose_eval' argument is deprecated and will be removed in a future release of LightGBM. Pass 'log_evaluation()' callback via 'callbacks' argument instead.\n",
      "  _log_warning(\"'verbose_eval' argument is deprecated and will be removed in a future release of LightGBM. \"\n",
      "Nacelle Revolution:\tregression...iter100/100:  71%|███████▏  | 55/77 [02:29<00:58,  2.66s/it] /Users/sevdeaydin/opt/anaconda3/lib/python3.9/site-packages/lightgbm/engine.py:181: UserWarning: 'early_stopping_rounds' argument is deprecated and will be removed in a future release of LightGBM. Pass 'early_stopping()' callback via 'callbacks' argument instead.\n",
      "  _log_warning(\"'early_stopping_rounds' argument is deprecated and will be removed in a future release of LightGBM. \"\n",
      "/Users/sevdeaydin/opt/anaconda3/lib/python3.9/site-packages/lightgbm/engine.py:239: UserWarning: 'verbose_eval' argument is deprecated and will be removed in a future release of LightGBM. Pass 'log_evaluation()' callback via 'callbacks' argument instead.\n",
      "  _log_warning(\"'verbose_eval' argument is deprecated and will be removed in a future release of LightGBM. \"\n",
      "Pitch Offset-1 Asymmetric Load Controller:\tregression...iter1/100:  73%|███████▎  | 56/77 [02:30<00:47,  2.25s/it]/Users/sevdeaydin/opt/anaconda3/lib/python3.9/site-packages/lightgbm/engine.py:181: UserWarning: 'early_stopping_rounds' argument is deprecated and will be removed in a future release of LightGBM. Pass 'early_stopping()' callback via 'callbacks' argument instead.\n",
      "  _log_warning(\"'early_stopping_rounds' argument is deprecated and will be removed in a future release of LightGBM. \"\n",
      "/Users/sevdeaydin/opt/anaconda3/lib/python3.9/site-packages/lightgbm/engine.py:239: UserWarning: 'verbose_eval' argument is deprecated and will be removed in a future release of LightGBM. Pass 'log_evaluation()' callback via 'callbacks' argument instead.\n",
      "  _log_warning(\"'verbose_eval' argument is deprecated and will be removed in a future release of LightGBM. \"\n",
      "Tower Deflection:\tregression...iter100/100:  74%|███████▍  | 57/77 [02:33<00:45,  2.27s/it]                       /Users/sevdeaydin/opt/anaconda3/lib/python3.9/site-packages/lightgbm/engine.py:181: UserWarning: 'early_stopping_rounds' argument is deprecated and will be removed in a future release of LightGBM. Pass 'early_stopping()' callback via 'callbacks' argument instead.\n",
      "  _log_warning(\"'early_stopping_rounds' argument is deprecated and will be removed in a future release of LightGBM. \"\n",
      "/Users/sevdeaydin/opt/anaconda3/lib/python3.9/site-packages/lightgbm/engine.py:239: UserWarning: 'verbose_eval' argument is deprecated and will be removed in a future release of LightGBM. Pass 'log_evaluation()' callback via 'callbacks' argument instead.\n",
      "  _log_warning(\"'verbose_eval' argument is deprecated and will be removed in a future release of LightGBM. \"\n",
      "Pitch Offset-3 Asymmetric Load Controller:\tregression...iter18/100:  75%|███████▌  | 58/77 [02:34<00:39,  2.08s/it]/Users/sevdeaydin/opt/anaconda3/lib/python3.9/site-packages/lightgbm/engine.py:181: UserWarning: 'early_stopping_rounds' argument is deprecated and will be removed in a future release of LightGBM. Pass 'early_stopping()' callback via 'callbacks' argument instead.\n",
      "  _log_warning(\"'early_stopping_rounds' argument is deprecated and will be removed in a future release of LightGBM. \"\n",
      "/Users/sevdeaydin/opt/anaconda3/lib/python3.9/site-packages/lightgbm/engine.py:239: UserWarning: 'verbose_eval' argument is deprecated and will be removed in a future release of LightGBM. Pass 'log_evaluation()' callback via 'callbacks' argument instead.\n",
      "  _log_warning(\"'verbose_eval' argument is deprecated and will be removed in a future release of LightGBM. \"\n",
      "Wind Deviation 1 seconds:\tregression...iter100/100:  77%|███████▋  | 59/77 [02:36<00:37,  2.10s/it]                /Users/sevdeaydin/opt/anaconda3/lib/python3.9/site-packages/lightgbm/engine.py:181: UserWarning: 'early_stopping_rounds' argument is deprecated and will be removed in a future release of LightGBM. Pass 'early_stopping()' callback via 'callbacks' argument instead.\n",
      "  _log_warning(\"'early_stopping_rounds' argument is deprecated and will be removed in a future release of LightGBM. \"\n",
      "/Users/sevdeaydin/opt/anaconda3/lib/python3.9/site-packages/lightgbm/engine.py:239: UserWarning: 'verbose_eval' argument is deprecated and will be removed in a future release of LightGBM. Pass 'log_evaluation()' callback via 'callbacks' argument instead.\n",
      "  _log_warning(\"'verbose_eval' argument is deprecated and will be removed in a future release of LightGBM. \"\n",
      "Wind Deviation 10 seconds:\tregression...iter100/100:  78%|███████▊  | 60/77 [02:39<00:36,  2.12s/it]/Users/sevdeaydin/opt/anaconda3/lib/python3.9/site-packages/lightgbm/engine.py:181: UserWarning: 'early_stopping_rounds' argument is deprecated and will be removed in a future release of LightGBM. Pass 'early_stopping()' callback via 'callbacks' argument instead.\n",
      "  _log_warning(\"'early_stopping_rounds' argument is deprecated and will be removed in a future release of LightGBM. \"\n",
      "/Users/sevdeaydin/opt/anaconda3/lib/python3.9/site-packages/lightgbm/engine.py:239: UserWarning: 'verbose_eval' argument is deprecated and will be removed in a future release of LightGBM. Pass 'log_evaluation()' callback via 'callbacks' argument instead.\n",
      "  _log_warning(\"'verbose_eval' argument is deprecated and will be removed in a future release of LightGBM. \"\n",
      "Proxy Sensor_Degree-135:\tregression...iter100/100:  79%|███████▉  | 61/77 [02:41<00:32,  2.05s/it]  /Users/sevdeaydin/opt/anaconda3/lib/python3.9/site-packages/lightgbm/engine.py:181: UserWarning: 'early_stopping_rounds' argument is deprecated and will be removed in a future release of LightGBM. Pass 'early_stopping()' callback via 'callbacks' argument instead.\n",
      "  _log_warning(\"'early_stopping_rounds' argument is deprecated and will be removed in a future release of LightGBM. \"\n",
      "/Users/sevdeaydin/opt/anaconda3/lib/python3.9/site-packages/lightgbm/engine.py:239: UserWarning: 'verbose_eval' argument is deprecated and will be removed in a future release of LightGBM. Pass 'log_evaluation()' callback via 'callbacks' argument instead.\n",
      "  _log_warning(\"'verbose_eval' argument is deprecated and will be removed in a future release of LightGBM. \"\n",
      "State and Fault:\tregression...iter100/100:  81%|████████  | 62/77 [02:43<00:31,  2.10s/it]        /Users/sevdeaydin/opt/anaconda3/lib/python3.9/site-packages/lightgbm/engine.py:181: UserWarning: 'early_stopping_rounds' argument is deprecated and will be removed in a future release of LightGBM. Pass 'early_stopping()' callback via 'callbacks' argument instead.\n",
      "  _log_warning(\"'early_stopping_rounds' argument is deprecated and will be removed in a future release of LightGBM. \"\n",
      "/Users/sevdeaydin/opt/anaconda3/lib/python3.9/site-packages/lightgbm/engine.py:239: UserWarning: 'verbose_eval' argument is deprecated and will be removed in a future release of LightGBM. Pass 'log_evaluation()' callback via 'callbacks' argument instead.\n",
      "  _log_warning(\"'verbose_eval' argument is deprecated and will be removed in a future release of LightGBM. \"\n",
      "Proxy Sensor_Degree-225:\tregression...iter100/100:  82%|████████▏ | 63/77 [02:45<00:31,  2.25s/it]/Users/sevdeaydin/opt/anaconda3/lib/python3.9/site-packages/lightgbm/engine.py:181: UserWarning: 'early_stopping_rounds' argument is deprecated and will be removed in a future release of LightGBM. Pass 'early_stopping()' callback via 'callbacks' argument instead.\n",
      "  _log_warning(\"'early_stopping_rounds' argument is deprecated and will be removed in a future release of LightGBM. \"\n",
      "/Users/sevdeaydin/opt/anaconda3/lib/python3.9/site-packages/lightgbm/engine.py:239: UserWarning: 'verbose_eval' argument is deprecated and will be removed in a future release of LightGBM. Pass 'log_evaluation()' callback via 'callbacks' argument instead.\n",
      "  _log_warning(\"'verbose_eval' argument is deprecated and will be removed in a future release of LightGBM. \"\n",
      "Blade-3 Actual Value_Angle-A:\tregression...iter100/100:  83%|████████▎ | 64/77 [02:49<00:32,  2.53s/it]/Users/sevdeaydin/opt/anaconda3/lib/python3.9/site-packages/lightgbm/engine.py:181: UserWarning: 'early_stopping_rounds' argument is deprecated and will be removed in a future release of LightGBM. Pass 'early_stopping()' callback via 'callbacks' argument instead.\n",
      "  _log_warning(\"'early_stopping_rounds' argument is deprecated and will be removed in a future release of LightGBM. \"\n",
      "/Users/sevdeaydin/opt/anaconda3/lib/python3.9/site-packages/lightgbm/engine.py:239: UserWarning: 'verbose_eval' argument is deprecated and will be removed in a future release of LightGBM. Pass 'log_evaluation()' callback via 'callbacks' argument instead.\n",
      "  _log_warning(\"'verbose_eval' argument is deprecated and will be removed in a future release of LightGBM. \"\n",
      "Scope CH 4:\tregression...iter100/100:  84%|████████▍ | 65/77 [02:52<00:33,  2.81s/it]                  /Users/sevdeaydin/opt/anaconda3/lib/python3.9/site-packages/lightgbm/engine.py:181: UserWarning: 'early_stopping_rounds' argument is deprecated and will be removed in a future release of LightGBM. Pass 'early_stopping()' callback via 'callbacks' argument instead.\n",
      "  _log_warning(\"'early_stopping_rounds' argument is deprecated and will be removed in a future release of LightGBM. \"\n",
      "/Users/sevdeaydin/opt/anaconda3/lib/python3.9/site-packages/lightgbm/engine.py:239: UserWarning: 'verbose_eval' argument is deprecated and will be removed in a future release of LightGBM. Pass 'log_evaluation()' callback via 'callbacks' argument instead.\n",
      "  _log_warning(\"'verbose_eval' argument is deprecated and will be removed in a future release of LightGBM. \"\n",
      "Blade-2 Actual Value_Angle-A:\tregression...iter100/100:  86%|████████▌ | 66/77 [02:55<00:31,  2.83s/it]/Users/sevdeaydin/opt/anaconda3/lib/python3.9/site-packages/lightgbm/engine.py:181: UserWarning: 'early_stopping_rounds' argument is deprecated and will be removed in a future release of LightGBM. Pass 'early_stopping()' callback via 'callbacks' argument instead.\n",
      "  _log_warning(\"'early_stopping_rounds' argument is deprecated and will be removed in a future release of LightGBM. \"\n",
      "/Users/sevdeaydin/opt/anaconda3/lib/python3.9/site-packages/lightgbm/engine.py:239: UserWarning: 'verbose_eval' argument is deprecated and will be removed in a future release of LightGBM. Pass 'log_evaluation()' callback via 'callbacks' argument instead.\n",
      "  _log_warning(\"'verbose_eval' argument is deprecated and will be removed in a future release of LightGBM. \"\n",
      "Blade-1 Actual Value_Angle-A:\tregression...iter100/100:  87%|████████▋ | 67/77 [02:58<00:27,  2.79s/it]/Users/sevdeaydin/opt/anaconda3/lib/python3.9/site-packages/lightgbm/engine.py:181: UserWarning: 'early_stopping_rounds' argument is deprecated and will be removed in a future release of LightGBM. Pass 'early_stopping()' callback via 'callbacks' argument instead.\n",
      "  _log_warning(\"'early_stopping_rounds' argument is deprecated and will be removed in a future release of LightGBM. \"\n",
      "/Users/sevdeaydin/opt/anaconda3/lib/python3.9/site-packages/lightgbm/engine.py:239: UserWarning: 'verbose_eval' argument is deprecated and will be removed in a future release of LightGBM. Pass 'log_evaluation()' callback via 'callbacks' argument instead.\n",
      "  _log_warning(\"'verbose_eval' argument is deprecated and will be removed in a future release of LightGBM. \"\n",
      "Blade-2 Set Value_Degree:\tregression...iter100/100:  88%|████████▊ | 68/77 [03:01<00:27,  3.08s/it]    /Users/sevdeaydin/opt/anaconda3/lib/python3.9/site-packages/lightgbm/engine.py:181: UserWarning: 'early_stopping_rounds' argument is deprecated and will be removed in a future release of LightGBM. Pass 'early_stopping()' callback via 'callbacks' argument instead.\n",
      "  _log_warning(\"'early_stopping_rounds' argument is deprecated and will be removed in a future release of LightGBM. \"\n",
      "/Users/sevdeaydin/opt/anaconda3/lib/python3.9/site-packages/lightgbm/engine.py:239: UserWarning: 'verbose_eval' argument is deprecated and will be removed in a future release of LightGBM. Pass 'log_evaluation()' callback via 'callbacks' argument instead.\n",
      "  _log_warning(\"'verbose_eval' argument is deprecated and will be removed in a future release of LightGBM. \"\n",
      "Pitch Demand Baseline_Degree:\tregression...iter100/100:  90%|████████▉ | 69/77 [03:04<00:24,  3.09s/it]/Users/sevdeaydin/opt/anaconda3/lib/python3.9/site-packages/lightgbm/engine.py:181: UserWarning: 'early_stopping_rounds' argument is deprecated and will be removed in a future release of LightGBM. Pass 'early_stopping()' callback via 'callbacks' argument instead.\n",
      "  _log_warning(\"'early_stopping_rounds' argument is deprecated and will be removed in a future release of LightGBM. \"\n",
      "/Users/sevdeaydin/opt/anaconda3/lib/python3.9/site-packages/lightgbm/engine.py:239: UserWarning: 'verbose_eval' argument is deprecated and will be removed in a future release of LightGBM. Pass 'log_evaluation()' callback via 'callbacks' argument instead.\n",
      "  _log_warning(\"'verbose_eval' argument is deprecated and will be removed in a future release of LightGBM. \"\n",
      "Blade-1 Set Value_Degree:\tregression...iter100/100:  91%|█████████ | 70/77 [03:07<00:20,  2.91s/it]    /Users/sevdeaydin/opt/anaconda3/lib/python3.9/site-packages/lightgbm/engine.py:181: UserWarning: 'early_stopping_rounds' argument is deprecated and will be removed in a future release of LightGBM. Pass 'early_stopping()' callback via 'callbacks' argument instead.\n",
      "  _log_warning(\"'early_stopping_rounds' argument is deprecated and will be removed in a future release of LightGBM. \"\n",
      "/Users/sevdeaydin/opt/anaconda3/lib/python3.9/site-packages/lightgbm/engine.py:239: UserWarning: 'verbose_eval' argument is deprecated and will be removed in a future release of LightGBM. Pass 'log_evaluation()' callback via 'callbacks' argument instead.\n",
      "  _log_warning(\"'verbose_eval' argument is deprecated and will be removed in a future release of LightGBM. \"\n",
      "Blade-3 Set Value_Degree:\tregression...iter100/100:  92%|█████████▏| 71/77 [03:09<00:16,  2.73s/it]/Users/sevdeaydin/opt/anaconda3/lib/python3.9/site-packages/lightgbm/engine.py:181: UserWarning: 'early_stopping_rounds' argument is deprecated and will be removed in a future release of LightGBM. Pass 'early_stopping()' callback via 'callbacks' argument instead.\n",
      "  _log_warning(\"'early_stopping_rounds' argument is deprecated and will be removed in a future release of LightGBM. \"\n",
      "/Users/sevdeaydin/opt/anaconda3/lib/python3.9/site-packages/lightgbm/engine.py:239: UserWarning: 'verbose_eval' argument is deprecated and will be removed in a future release of LightGBM. Pass 'log_evaluation()' callback via 'callbacks' argument instead.\n",
      "  _log_warning(\"'verbose_eval' argument is deprecated and will be removed in a future release of LightGBM. \"\n",
      "Moment Q Direction:\tregression...iter100/100:  94%|█████████▎| 72/77 [03:12<00:13,  2.72s/it]      /Users/sevdeaydin/opt/anaconda3/lib/python3.9/site-packages/lightgbm/engine.py:181: UserWarning: 'early_stopping_rounds' argument is deprecated and will be removed in a future release of LightGBM. Pass 'early_stopping()' callback via 'callbacks' argument instead.\n",
      "  _log_warning(\"'early_stopping_rounds' argument is deprecated and will be removed in a future release of LightGBM. \"\n",
      "/Users/sevdeaydin/opt/anaconda3/lib/python3.9/site-packages/lightgbm/engine.py:239: UserWarning: 'verbose_eval' argument is deprecated and will be removed in a future release of LightGBM. Pass 'log_evaluation()' callback via 'callbacks' argument instead.\n",
      "  _log_warning(\"'verbose_eval' argument is deprecated and will be removed in a future release of LightGBM. \"\n",
      "Moment Q Filltered:\tregression...iter100/100:  95%|█████████▍| 73/77 [03:15<00:10,  2.70s/it]/Users/sevdeaydin/opt/anaconda3/lib/python3.9/site-packages/lightgbm/engine.py:181: UserWarning: 'early_stopping_rounds' argument is deprecated and will be removed in a future release of LightGBM. Pass 'early_stopping()' callback via 'callbacks' argument instead.\n",
      "  _log_warning(\"'early_stopping_rounds' argument is deprecated and will be removed in a future release of LightGBM. \"\n",
      "/Users/sevdeaydin/opt/anaconda3/lib/python3.9/site-packages/lightgbm/engine.py:239: UserWarning: 'verbose_eval' argument is deprecated and will be removed in a future release of LightGBM. Pass 'log_evaluation()' callback via 'callbacks' argument instead.\n",
      "  _log_warning(\"'verbose_eval' argument is deprecated and will be removed in a future release of LightGBM. \"\n",
      "Proxy Sensor_Degree-45:\tregression...iter100/100:  96%|█████████▌| 74/77 [03:17<00:07,  2.62s/it]/Users/sevdeaydin/opt/anaconda3/lib/python3.9/site-packages/lightgbm/engine.py:181: UserWarning: 'early_stopping_rounds' argument is deprecated and will be removed in a future release of LightGBM. Pass 'early_stopping()' callback via 'callbacks' argument instead.\n",
      "  _log_warning(\"'early_stopping_rounds' argument is deprecated and will be removed in a future release of LightGBM. \"\n",
      "/Users/sevdeaydin/opt/anaconda3/lib/python3.9/site-packages/lightgbm/engine.py:239: UserWarning: 'verbose_eval' argument is deprecated and will be removed in a future release of LightGBM. Pass 'log_evaluation()' callback via 'callbacks' argument instead.\n",
      "  _log_warning(\"'verbose_eval' argument is deprecated and will be removed in a future release of LightGBM. \"\n",
      "Turbine State:\tregression...iter100/100:  97%|█████████▋| 75/77 [03:19<00:05,  2.52s/it]         /Users/sevdeaydin/opt/anaconda3/lib/python3.9/site-packages/lightgbm/engine.py:181: UserWarning: 'early_stopping_rounds' argument is deprecated and will be removed in a future release of LightGBM. Pass 'early_stopping()' callback via 'callbacks' argument instead.\n",
      "  _log_warning(\"'early_stopping_rounds' argument is deprecated and will be removed in a future release of LightGBM. \"\n",
      "/Users/sevdeaydin/opt/anaconda3/lib/python3.9/site-packages/lightgbm/engine.py:239: UserWarning: 'verbose_eval' argument is deprecated and will be removed in a future release of LightGBM. Pass 'log_evaluation()' callback via 'callbacks' argument instead.\n",
      "  _log_warning(\"'verbose_eval' argument is deprecated and will be removed in a future release of LightGBM. \"\n",
      "Proxy Sensor_Degree-315:\tregression...iter100/100:  99%|█████████▊| 76/77 [03:21<00:02,  2.33s/it]/Users/sevdeaydin/opt/anaconda3/lib/python3.9/site-packages/lightgbm/engine.py:181: UserWarning: 'early_stopping_rounds' argument is deprecated and will be removed in a future release of LightGBM. Pass 'early_stopping()' callback via 'callbacks' argument instead.\n",
      "  _log_warning(\"'early_stopping_rounds' argument is deprecated and will be removed in a future release of LightGBM. \"\n",
      "/Users/sevdeaydin/opt/anaconda3/lib/python3.9/site-packages/lightgbm/engine.py:239: UserWarning: 'verbose_eval' argument is deprecated and will be removed in a future release of LightGBM. Pass 'log_evaluation()' callback via 'callbacks' argument instead.\n",
      "  _log_warning(\"'verbose_eval' argument is deprecated and will be removed in a future release of LightGBM. \"\n",
      "Power(kW):\tregression...iter100/100: 100%|██████████| 77/77 [03:23<00:00,  2.65s/it]              \n"
     ]
    }
   ],
   "source": [
    "df.loc[:, df.columns[1:]] = imputer.fit_transform(df[df.columns[1:]])"
   ]
  },
  {
   "cell_type": "code",
   "execution_count": 158,
   "id": "5dee5f23-ce29-4d2c-a45e-aacc560fa022",
   "metadata": {},
   "outputs": [
    {
     "data": {
      "text/plain": [
       "Timestamp                                              0\n",
       "Gearbox_T1_High_Speed_Shaft_Temperature                0\n",
       "Gearbox_T3_High_Speed_Shaft_Temperature                0\n",
       "Gearbox_T1_Intermediate_Speed_Shaft_Temperature        0\n",
       "Temperature Gearbox Bearing Hollow Shaft               0\n",
       "                                                   ...  \n",
       "Power(kW)                                          17532\n",
       "month                                                  0\n",
       "year                                                   0\n",
       "hour                                                   0\n",
       "week                                                   0\n",
       "Length: 82, dtype: int64"
      ]
     },
     "execution_count": 158,
     "metadata": {},
     "output_type": "execute_result"
    }
   ],
   "source": [
    "df.isna().sum()"
   ]
  },
  {
   "cell_type": "code",
   "execution_count": 262,
   "id": "a4734ebc-71d2-4e6e-8af3-223a42f0e2ac",
   "metadata": {},
   "outputs": [],
   "source": [
    "#df.to_csv(\"df_imputed.csv\")"
   ]
  },
  {
   "cell_type": "code",
   "execution_count": 46,
   "id": "05518076-9f62-45e4-8768-18d953b0a754",
   "metadata": {},
   "outputs": [],
   "source": [
    "#df = pd.read_csv(\"df_imputed.csv\")\n",
    "#df[\"Timestamp\"] = pd.to_datetime(df[\"Timestamp\"])\n",
    "#df.drop(\"Unnamed: 0\", axis=1, inplace=True)"
   ]
  },
  {
   "cell_type": "markdown",
   "id": "a78d876b-1dcc-45b3-a3ed-765e650f437f",
   "metadata": {},
   "source": [
    "<br><br><br>"
   ]
  },
  {
   "cell_type": "markdown",
   "id": "c2f5ec68-69e5-4f9c-9060-df13c1e8766e",
   "metadata": {
    "tags": []
   },
   "source": [
    "## 4. ML Setup"
   ]
  },
  {
   "cell_type": "markdown",
   "id": "52c419fe-2c90-4ca2-a4f3-8b1821e1a5e1",
   "metadata": {
    "tags": []
   },
   "source": [
    "### 4.1. Creating X, y"
   ]
  },
  {
   "cell_type": "code",
   "execution_count": 341,
   "id": "0064b930-3754-4bd7-b8c6-f150f5ef1e9a",
   "metadata": {},
   "outputs": [],
   "source": [
    "#df = pd.read_csv(\"train_imputed.csv\")"
   ]
  },
  {
   "cell_type": "code",
   "execution_count": 48,
   "id": "f019471b-d2b0-4167-b95a-d8ed2b10dd2c",
   "metadata": {},
   "outputs": [],
   "source": [
    "test_mask = pd.to_datetime(df[\"Timestamp\"]) > \"2021-08-14 23:50:00\""
   ]
  },
  {
   "cell_type": "code",
   "execution_count": 49,
   "id": "7c39e1a1-60c1-4e6a-be75-583a9fd400d6",
   "metadata": {},
   "outputs": [],
   "source": [
    "train_df = df[~test_mask].copy().reset_index(drop=True)\n",
    "test_df = df[test_mask].copy().reset_index(drop=True)"
   ]
  },
  {
   "cell_type": "code",
   "execution_count": 53,
   "id": "b8fe6ca0-8475-434e-a5fa-375864a911e7",
   "metadata": {},
   "outputs": [],
   "source": [
    "X = train_df.iloc[:,1:-5]"
   ]
  },
  {
   "cell_type": "code",
   "execution_count": 54,
   "id": "e5e913d7-9f1c-4a14-bb03-3b4f70cef279",
   "metadata": {},
   "outputs": [],
   "source": [
    "y = train_df.iloc[:,-5]"
   ]
  },
  {
   "cell_type": "markdown",
   "id": "392535c2-20d1-49ec-8b87-a717c79a0223",
   "metadata": {},
   "source": [
    "<br><br>"
   ]
  },
  {
   "cell_type": "markdown",
   "id": "5de1737e-a4cd-4bb7-ad74-b161f87d09e4",
   "metadata": {
    "tags": []
   },
   "source": [
    "### 4.2. Train Test Split"
   ]
  },
  {
   "cell_type": "markdown",
   "id": "c80103d2-c6b5-455e-9a05-b41ad2710cbf",
   "metadata": {
    "tags": []
   },
   "source": [
    "#### 4.2.1. Standart Train Test"
   ]
  },
  {
   "cell_type": "code",
   "execution_count": 88,
   "id": "9f1671b1-a12b-4eaf-82df-dfe528fa5e78",
   "metadata": {},
   "outputs": [],
   "source": [
    "X_train, X_test, y_train, y_test = train_test_split(X, y, test_size=0.2, random_state=101)"
   ]
  },
  {
   "cell_type": "code",
   "execution_count": 89,
   "id": "6dcef701-b3f3-4dcc-8581-3cce20c47f83",
   "metadata": {},
   "outputs": [
    {
     "data": {
      "text/plain": [
       "count    109384.000000\n",
       "mean       1138.204875\n",
       "std        1078.629847\n",
       "min         -48.596668\n",
       "25%          79.758751\n",
       "50%         777.932495\n",
       "75%        2311.387817\n",
       "max        2779.423340\n",
       "Name: Power(kW), dtype: float64"
      ]
     },
     "execution_count": 100,
     "metadata": {},
     "output_type": "execute_result"
    }
   ],
   "source": [
    "y_train.describe()"
   ]
  },
  {
   "cell_type": "code",
   "execution_count": 90,
   "id": "9624d22a-6229-4dae-893e-3e34cd9fafa2",
   "metadata": {},
   "outputs": [
    {
     "data": {
      "text/plain": [
       "count    27346.000000\n",
       "mean      1139.962249\n",
       "std       1077.598725\n",
       "min        -46.018333\n",
       "25%         83.926668\n",
       "50%        779.507507\n",
       "75%       2307.064941\n",
       "max       2777.798340\n",
       "Name: Power(kW), dtype: float64"
      ]
     },
     "execution_count": 101,
     "metadata": {},
     "output_type": "execute_result"
    }
   ],
   "source": [
    "y_test.describe()"
   ]
  },
  {
   "cell_type": "markdown",
   "id": "bc5bc82e-17b6-41b9-b6f8-c56123bce551",
   "metadata": {
    "tags": []
   },
   "source": [
    "#### 4.2.2. StrafiedKFold Train Test "
   ]
  },
  {
   "cell_type": "code",
   "execution_count": 57,
   "id": "fb7d8a33-dea2-40a5-9c60-2ebbf06dbd88",
   "metadata": {},
   "outputs": [],
   "source": [
    "yint = y.astype(\"int\")"
   ]
  },
  {
   "cell_type": "code",
   "execution_count": 58,
   "id": "301e77a2-72fa-4239-9cfc-d532983f1107",
   "metadata": {},
   "outputs": [
    {
     "name": "stderr",
     "output_type": "stream",
     "text": [
      "/Users/sevdeaydin/opt/anaconda3/lib/python3.9/site-packages/sklearn/model_selection/_split.py:676: UserWarning: The least populated class in y has only 1 members, which is less than n_splits=5.\n",
      "  warnings.warn(\n"
     ]
    }
   ],
   "source": [
    "skf = StratifiedKFold(n_splits=5, shuffle=True, random_state=1337)\n",
    "for f, (t_,v_) in enumerate(skf.split(yint,yint)):\n",
    "    #df.loc[v_, 'kfold'] = f\n",
    "    df_train = df.loc[t_]\n",
    "    df_test = df.loc[v_]"
   ]
  },
  {
   "cell_type": "code",
   "execution_count": 59,
   "id": "da9812eb-91d9-4b7b-82ce-2a1aa61ebf03",
   "metadata": {},
   "outputs": [],
   "source": [
    "X_train = df_train.iloc[:,1:-5]\n",
    "X_test = df_test.iloc[:,1:-5]"
   ]
  },
  {
   "cell_type": "code",
   "execution_count": 61,
   "id": "f4c00e10-8c8d-405d-887b-c79d04fb1650",
   "metadata": {},
   "outputs": [],
   "source": [
    "y_train = df_train.iloc[:,-5]\n",
    "y_test = df_test.iloc[:,-5]"
   ]
  },
  {
   "cell_type": "code",
   "execution_count": 64,
   "id": "9cd2bd8f-efc8-4ded-afe2-e1ec3437ebce",
   "metadata": {},
   "outputs": [
    {
     "data": {
      "text/html": [
       "<div>\n",
       "<style scoped>\n",
       "    .dataframe tbody tr th:only-of-type {\n",
       "        vertical-align: middle;\n",
       "    }\n",
       "\n",
       "    .dataframe tbody tr th {\n",
       "        vertical-align: top;\n",
       "    }\n",
       "\n",
       "    .dataframe thead th {\n",
       "        text-align: right;\n",
       "    }\n",
       "</style>\n",
       "<table border=\"1\" class=\"dataframe\">\n",
       "  <thead>\n",
       "    <tr style=\"text-align: right;\">\n",
       "      <th></th>\n",
       "      <th>Gearbox_T1_High_Speed_Shaft_Temperature</th>\n",
       "      <th>Gearbox_T3_High_Speed_Shaft_Temperature</th>\n",
       "      <th>Gearbox_T1_Intermediate_Speed_Shaft_Temperature</th>\n",
       "      <th>Temperature Gearbox Bearing Hollow Shaft</th>\n",
       "      <th>Tower Acceleration Normal</th>\n",
       "      <th>Gearbox_Oil-2_Temperature</th>\n",
       "      <th>Tower Acceleration Lateral</th>\n",
       "      <th>Temperature Bearing_A</th>\n",
       "      <th>Temperature Trafo-3</th>\n",
       "      <th>Gearbox_T3_Intermediate_Speed_Shaft_Temperature</th>\n",
       "      <th>...</th>\n",
       "      <th>Moment Q Direction</th>\n",
       "      <th>Moment Q Filltered</th>\n",
       "      <th>Proxy Sensor_Degree-45</th>\n",
       "      <th>Turbine State</th>\n",
       "      <th>Proxy Sensor_Degree-315</th>\n",
       "      <th>Power(kW)</th>\n",
       "      <th>month</th>\n",
       "      <th>year</th>\n",
       "      <th>hour</th>\n",
       "      <th>week</th>\n",
       "    </tr>\n",
       "  </thead>\n",
       "  <tbody>\n",
       "    <tr>\n",
       "      <th>count</th>\n",
       "      <td>154262.000000</td>\n",
       "      <td>154262.000000</td>\n",
       "      <td>154262.000000</td>\n",
       "      <td>154262.000000</td>\n",
       "      <td>154262.000000</td>\n",
       "      <td>154262.000000</td>\n",
       "      <td>154262.000000</td>\n",
       "      <td>154262.000000</td>\n",
       "      <td>154262.000000</td>\n",
       "      <td>154262.000000</td>\n",
       "      <td>...</td>\n",
       "      <td>154262.000000</td>\n",
       "      <td>154262.000000</td>\n",
       "      <td>154262.000000</td>\n",
       "      <td>154262.000000</td>\n",
       "      <td>154262.000000</td>\n",
       "      <td>136730.000000</td>\n",
       "      <td>154262.000000</td>\n",
       "      <td>154262.000000</td>\n",
       "      <td>154262.000000</td>\n",
       "      <td>154262.000000</td>\n",
       "    </tr>\n",
       "    <tr>\n",
       "      <th>mean</th>\n",
       "      <td>53.138731</td>\n",
       "      <td>54.987961</td>\n",
       "      <td>49.556883</td>\n",
       "      <td>53.411756</td>\n",
       "      <td>60.797851</td>\n",
       "      <td>53.513904</td>\n",
       "      <td>35.301548</td>\n",
       "      <td>40.157756</td>\n",
       "      <td>61.397071</td>\n",
       "      <td>53.412881</td>\n",
       "      <td>...</td>\n",
       "      <td>-9.195533</td>\n",
       "      <td>-9.138594</td>\n",
       "      <td>5.778420</td>\n",
       "      <td>1.364649</td>\n",
       "      <td>5.800647</td>\n",
       "      <td>1138.556350</td>\n",
       "      <td>6.430994</td>\n",
       "      <td>2019.985123</td>\n",
       "      <td>11.497368</td>\n",
       "      <td>26.241550</td>\n",
       "    </tr>\n",
       "    <tr>\n",
       "      <th>std</th>\n",
       "      <td>11.734949</td>\n",
       "      <td>11.877821</td>\n",
       "      <td>9.940680</td>\n",
       "      <td>9.656552</td>\n",
       "      <td>50.874421</td>\n",
       "      <td>11.105216</td>\n",
       "      <td>24.943922</td>\n",
       "      <td>13.313499</td>\n",
       "      <td>14.774867</td>\n",
       "      <td>9.659040</td>\n",
       "      <td>...</td>\n",
       "      <td>53.562679</td>\n",
       "      <td>53.365006</td>\n",
       "      <td>0.106063</td>\n",
       "      <td>0.816662</td>\n",
       "      <td>0.112287</td>\n",
       "      <td>1078.419992</td>\n",
       "      <td>3.400068</td>\n",
       "      <td>0.812821</td>\n",
       "      <td>6.932148</td>\n",
       "      <td>14.846064</td>\n",
       "    </tr>\n",
       "    <tr>\n",
       "      <th>min</th>\n",
       "      <td>13.000000</td>\n",
       "      <td>15.013333</td>\n",
       "      <td>14.000000</td>\n",
       "      <td>16.000000</td>\n",
       "      <td>0.000000</td>\n",
       "      <td>13.474475</td>\n",
       "      <td>0.000000</td>\n",
       "      <td>5.000000</td>\n",
       "      <td>13.845000</td>\n",
       "      <td>16.000000</td>\n",
       "      <td>...</td>\n",
       "      <td>-1287.386719</td>\n",
       "      <td>-1286.707886</td>\n",
       "      <td>-0.238800</td>\n",
       "      <td>1.000000</td>\n",
       "      <td>-0.238800</td>\n",
       "      <td>-48.596668</td>\n",
       "      <td>1.000000</td>\n",
       "      <td>2019.000000</td>\n",
       "      <td>0.000000</td>\n",
       "      <td>1.000000</td>\n",
       "    </tr>\n",
       "    <tr>\n",
       "      <th>25%</th>\n",
       "      <td>44.000000</td>\n",
       "      <td>46.000000</td>\n",
       "      <td>41.148751</td>\n",
       "      <td>47.000000</td>\n",
       "      <td>24.340785</td>\n",
       "      <td>46.000000</td>\n",
       "      <td>17.460453</td>\n",
       "      <td>29.912084</td>\n",
       "      <td>51.918335</td>\n",
       "      <td>47.000000</td>\n",
       "      <td>...</td>\n",
       "      <td>-35.294100</td>\n",
       "      <td>-35.226508</td>\n",
       "      <td>5.725352</td>\n",
       "      <td>1.000000</td>\n",
       "      <td>5.737255</td>\n",
       "      <td>80.394167</td>\n",
       "      <td>3.000000</td>\n",
       "      <td>2019.000000</td>\n",
       "      <td>5.000000</td>\n",
       "      <td>13.000000</td>\n",
       "    </tr>\n",
       "    <tr>\n",
       "      <th>50%</th>\n",
       "      <td>56.998333</td>\n",
       "      <td>58.610001</td>\n",
       "      <td>52.145000</td>\n",
       "      <td>55.000000</td>\n",
       "      <td>49.879589</td>\n",
       "      <td>56.000000</td>\n",
       "      <td>33.002827</td>\n",
       "      <td>39.000000</td>\n",
       "      <td>57.000000</td>\n",
       "      <td>55.000000</td>\n",
       "      <td>...</td>\n",
       "      <td>-10.143938</td>\n",
       "      <td>-10.306726</td>\n",
       "      <td>5.773964</td>\n",
       "      <td>1.000000</td>\n",
       "      <td>5.789509</td>\n",
       "      <td>778.220825</td>\n",
       "      <td>6.000000</td>\n",
       "      <td>2020.000000</td>\n",
       "      <td>11.000000</td>\n",
       "      <td>26.000000</td>\n",
       "    </tr>\n",
       "    <tr>\n",
       "      <th>75%</th>\n",
       "      <td>63.000000</td>\n",
       "      <td>65.000000</td>\n",
       "      <td>58.334999</td>\n",
       "      <td>61.365002</td>\n",
       "      <td>82.983734</td>\n",
       "      <td>62.786667</td>\n",
       "      <td>48.492470</td>\n",
       "      <td>49.202918</td>\n",
       "      <td>69.000000</td>\n",
       "      <td>61.368332</td>\n",
       "      <td>...</td>\n",
       "      <td>20.632269</td>\n",
       "      <td>20.580237</td>\n",
       "      <td>5.837952</td>\n",
       "      <td>1.000000</td>\n",
       "      <td>5.875267</td>\n",
       "      <td>2310.443237</td>\n",
       "      <td>9.000000</td>\n",
       "      <td>2021.000000</td>\n",
       "      <td>18.000000</td>\n",
       "      <td>39.000000</td>\n",
       "    </tr>\n",
       "    <tr>\n",
       "      <th>max</th>\n",
       "      <td>70.593330</td>\n",
       "      <td>73.000000</td>\n",
       "      <td>65.889999</td>\n",
       "      <td>68.866669</td>\n",
       "      <td>601.405579</td>\n",
       "      <td>70.646667</td>\n",
       "      <td>369.769379</td>\n",
       "      <td>74.000000</td>\n",
       "      <td>124.000000</td>\n",
       "      <td>68.866669</td>\n",
       "      <td>...</td>\n",
       "      <td>1104.722900</td>\n",
       "      <td>1323.434570</td>\n",
       "      <td>6.250977</td>\n",
       "      <td>5.000000</td>\n",
       "      <td>6.231746</td>\n",
       "      <td>2779.423340</td>\n",
       "      <td>12.000000</td>\n",
       "      <td>2021.000000</td>\n",
       "      <td>23.000000</td>\n",
       "      <td>53.000000</td>\n",
       "    </tr>\n",
       "  </tbody>\n",
       "</table>\n",
       "<p>8 rows × 81 columns</p>\n",
       "</div>"
      ],
      "text/plain": [
       "       Gearbox_T1_High_Speed_Shaft_Temperature  \\\n",
       "count                            154262.000000   \n",
       "mean                                 53.138731   \n",
       "std                                  11.734949   \n",
       "min                                  13.000000   \n",
       "25%                                  44.000000   \n",
       "50%                                  56.998333   \n",
       "75%                                  63.000000   \n",
       "max                                  70.593330   \n",
       "\n",
       "       Gearbox_T3_High_Speed_Shaft_Temperature  \\\n",
       "count                            154262.000000   \n",
       "mean                                 54.987961   \n",
       "std                                  11.877821   \n",
       "min                                  15.013333   \n",
       "25%                                  46.000000   \n",
       "50%                                  58.610001   \n",
       "75%                                  65.000000   \n",
       "max                                  73.000000   \n",
       "\n",
       "       Gearbox_T1_Intermediate_Speed_Shaft_Temperature  \\\n",
       "count                                    154262.000000   \n",
       "mean                                         49.556883   \n",
       "std                                           9.940680   \n",
       "min                                          14.000000   \n",
       "25%                                          41.148751   \n",
       "50%                                          52.145000   \n",
       "75%                                          58.334999   \n",
       "max                                          65.889999   \n",
       "\n",
       "       Temperature Gearbox Bearing Hollow Shaft  Tower Acceleration Normal  \\\n",
       "count                             154262.000000              154262.000000   \n",
       "mean                                  53.411756                  60.797851   \n",
       "std                                    9.656552                  50.874421   \n",
       "min                                   16.000000                   0.000000   \n",
       "25%                                   47.000000                  24.340785   \n",
       "50%                                   55.000000                  49.879589   \n",
       "75%                                   61.365002                  82.983734   \n",
       "max                                   68.866669                 601.405579   \n",
       "\n",
       "       Gearbox_Oil-2_Temperature  Tower Acceleration Lateral  \\\n",
       "count              154262.000000               154262.000000   \n",
       "mean                   53.513904                   35.301548   \n",
       "std                    11.105216                   24.943922   \n",
       "min                    13.474475                    0.000000   \n",
       "25%                    46.000000                   17.460453   \n",
       "50%                    56.000000                   33.002827   \n",
       "75%                    62.786667                   48.492470   \n",
       "max                    70.646667                  369.769379   \n",
       "\n",
       "       Temperature Bearing_A  Temperature Trafo-3  \\\n",
       "count          154262.000000        154262.000000   \n",
       "mean               40.157756            61.397071   \n",
       "std                13.313499            14.774867   \n",
       "min                 5.000000            13.845000   \n",
       "25%                29.912084            51.918335   \n",
       "50%                39.000000            57.000000   \n",
       "75%                49.202918            69.000000   \n",
       "max                74.000000           124.000000   \n",
       "\n",
       "       Gearbox_T3_Intermediate_Speed_Shaft_Temperature  ...  \\\n",
       "count                                    154262.000000  ...   \n",
       "mean                                         53.412881  ...   \n",
       "std                                           9.659040  ...   \n",
       "min                                          16.000000  ...   \n",
       "25%                                          47.000000  ...   \n",
       "50%                                          55.000000  ...   \n",
       "75%                                          61.368332  ...   \n",
       "max                                          68.866669  ...   \n",
       "\n",
       "       Moment Q Direction  Moment Q Filltered  Proxy Sensor_Degree-45  \\\n",
       "count       154262.000000       154262.000000           154262.000000   \n",
       "mean            -9.195533           -9.138594                5.778420   \n",
       "std             53.562679           53.365006                0.106063   \n",
       "min          -1287.386719        -1286.707886               -0.238800   \n",
       "25%            -35.294100          -35.226508                5.725352   \n",
       "50%            -10.143938          -10.306726                5.773964   \n",
       "75%             20.632269           20.580237                5.837952   \n",
       "max           1104.722900         1323.434570                6.250977   \n",
       "\n",
       "       Turbine State  Proxy Sensor_Degree-315      Power(kW)          month  \\\n",
       "count  154262.000000            154262.000000  136730.000000  154262.000000   \n",
       "mean        1.364649                 5.800647    1138.556350       6.430994   \n",
       "std         0.816662                 0.112287    1078.419992       3.400068   \n",
       "min         1.000000                -0.238800     -48.596668       1.000000   \n",
       "25%         1.000000                 5.737255      80.394167       3.000000   \n",
       "50%         1.000000                 5.789509     778.220825       6.000000   \n",
       "75%         1.000000                 5.875267    2310.443237       9.000000   \n",
       "max         5.000000                 6.231746    2779.423340      12.000000   \n",
       "\n",
       "                year           hour           week  \n",
       "count  154262.000000  154262.000000  154262.000000  \n",
       "mean     2019.985123      11.497368      26.241550  \n",
       "std         0.812821       6.932148      14.846064  \n",
       "min      2019.000000       0.000000       1.000000  \n",
       "25%      2019.000000       5.000000      13.000000  \n",
       "50%      2020.000000      11.000000      26.000000  \n",
       "75%      2021.000000      18.000000      39.000000  \n",
       "max      2021.000000      23.000000      53.000000  \n",
       "\n",
       "[8 rows x 81 columns]"
      ]
     },
     "execution_count": 64,
     "metadata": {},
     "output_type": "execute_result"
    }
   ],
   "source": [
    "df.describe()"
   ]
  },
  {
   "cell_type": "code",
   "execution_count": 63,
   "id": "8addcfe9-f3f6-47a6-b583-2d680b7cadf7",
   "metadata": {},
   "outputs": [
    {
     "data": {
      "text/html": [
       "<div>\n",
       "<style scoped>\n",
       "    .dataframe tbody tr th:only-of-type {\n",
       "        vertical-align: middle;\n",
       "    }\n",
       "\n",
       "    .dataframe tbody tr th {\n",
       "        vertical-align: top;\n",
       "    }\n",
       "\n",
       "    .dataframe thead th {\n",
       "        text-align: right;\n",
       "    }\n",
       "</style>\n",
       "<table border=\"1\" class=\"dataframe\">\n",
       "  <thead>\n",
       "    <tr style=\"text-align: right;\">\n",
       "      <th></th>\n",
       "      <th>Gearbox_T1_High_Speed_Shaft_Temperature</th>\n",
       "      <th>Gearbox_T3_High_Speed_Shaft_Temperature</th>\n",
       "      <th>Gearbox_T1_Intermediate_Speed_Shaft_Temperature</th>\n",
       "      <th>Temperature Gearbox Bearing Hollow Shaft</th>\n",
       "      <th>Tower Acceleration Normal</th>\n",
       "      <th>Gearbox_Oil-2_Temperature</th>\n",
       "      <th>Tower Acceleration Lateral</th>\n",
       "      <th>Temperature Bearing_A</th>\n",
       "      <th>Temperature Trafo-3</th>\n",
       "      <th>Gearbox_T3_Intermediate_Speed_Shaft_Temperature</th>\n",
       "      <th>...</th>\n",
       "      <th>Moment Q Direction</th>\n",
       "      <th>Moment Q Filltered</th>\n",
       "      <th>Proxy Sensor_Degree-45</th>\n",
       "      <th>Turbine State</th>\n",
       "      <th>Proxy Sensor_Degree-315</th>\n",
       "      <th>Power(kW)</th>\n",
       "      <th>month</th>\n",
       "      <th>year</th>\n",
       "      <th>hour</th>\n",
       "      <th>week</th>\n",
       "    </tr>\n",
       "  </thead>\n",
       "  <tbody>\n",
       "    <tr>\n",
       "      <th>count</th>\n",
       "      <td>109384.000000</td>\n",
       "      <td>109384.000000</td>\n",
       "      <td>109384.000000</td>\n",
       "      <td>109384.000000</td>\n",
       "      <td>109384.000000</td>\n",
       "      <td>109384.000000</td>\n",
       "      <td>109384.000000</td>\n",
       "      <td>109384.000000</td>\n",
       "      <td>109384.000000</td>\n",
       "      <td>109384.000000</td>\n",
       "      <td>...</td>\n",
       "      <td>109384.000000</td>\n",
       "      <td>109384.000000</td>\n",
       "      <td>109384.000000</td>\n",
       "      <td>109384.000000</td>\n",
       "      <td>109384.000000</td>\n",
       "      <td>109384.000000</td>\n",
       "      <td>109384.000000</td>\n",
       "      <td>109384.000000</td>\n",
       "      <td>109384.000000</td>\n",
       "      <td>109384.000000</td>\n",
       "    </tr>\n",
       "    <tr>\n",
       "      <th>mean</th>\n",
       "      <td>52.832520</td>\n",
       "      <td>54.679188</td>\n",
       "      <td>49.270556</td>\n",
       "      <td>53.163956</td>\n",
       "      <td>59.980019</td>\n",
       "      <td>53.238066</td>\n",
       "      <td>34.853626</td>\n",
       "      <td>39.854634</td>\n",
       "      <td>59.682850</td>\n",
       "      <td>53.170340</td>\n",
       "      <td>...</td>\n",
       "      <td>-9.573806</td>\n",
       "      <td>-9.492157</td>\n",
       "      <td>5.781260</td>\n",
       "      <td>1.371571</td>\n",
       "      <td>5.804296</td>\n",
       "      <td>1138.590671</td>\n",
       "      <td>5.981844</td>\n",
       "      <td>2019.854814</td>\n",
       "      <td>11.480491</td>\n",
       "      <td>24.351039</td>\n",
       "    </tr>\n",
       "    <tr>\n",
       "      <th>std</th>\n",
       "      <td>11.786488</td>\n",
       "      <td>11.945920</td>\n",
       "      <td>9.989398</td>\n",
       "      <td>9.719577</td>\n",
       "      <td>50.841342</td>\n",
       "      <td>11.163540</td>\n",
       "      <td>24.810206</td>\n",
       "      <td>13.459108</td>\n",
       "      <td>12.764499</td>\n",
       "      <td>9.707490</td>\n",
       "      <td>...</td>\n",
       "      <td>54.378346</td>\n",
       "      <td>54.260672</td>\n",
       "      <td>0.111341</td>\n",
       "      <td>0.817447</td>\n",
       "      <td>0.117213</td>\n",
       "      <td>1078.395313</td>\n",
       "      <td>3.323342</td>\n",
       "      <td>0.772348</td>\n",
       "      <td>6.933125</td>\n",
       "      <td>14.607234</td>\n",
       "    </tr>\n",
       "    <tr>\n",
       "      <th>min</th>\n",
       "      <td>13.000000</td>\n",
       "      <td>15.013333</td>\n",
       "      <td>14.000000</td>\n",
       "      <td>16.000000</td>\n",
       "      <td>0.000000</td>\n",
       "      <td>13.474475</td>\n",
       "      <td>0.000000</td>\n",
       "      <td>5.000000</td>\n",
       "      <td>13.845000</td>\n",
       "      <td>16.000000</td>\n",
       "      <td>...</td>\n",
       "      <td>-1287.386719</td>\n",
       "      <td>-1286.707886</td>\n",
       "      <td>-0.238800</td>\n",
       "      <td>1.000000</td>\n",
       "      <td>-0.238800</td>\n",
       "      <td>-48.596668</td>\n",
       "      <td>1.000000</td>\n",
       "      <td>2019.000000</td>\n",
       "      <td>0.000000</td>\n",
       "      <td>1.000000</td>\n",
       "    </tr>\n",
       "    <tr>\n",
       "      <th>25%</th>\n",
       "      <td>43.529832</td>\n",
       "      <td>45.591667</td>\n",
       "      <td>41.000000</td>\n",
       "      <td>47.000000</td>\n",
       "      <td>23.565812</td>\n",
       "      <td>45.683334</td>\n",
       "      <td>17.038607</td>\n",
       "      <td>29.000000</td>\n",
       "      <td>51.000000</td>\n",
       "      <td>47.000000</td>\n",
       "      <td>...</td>\n",
       "      <td>-35.712196</td>\n",
       "      <td>-35.554326</td>\n",
       "      <td>5.728754</td>\n",
       "      <td>1.000000</td>\n",
       "      <td>5.741382</td>\n",
       "      <td>80.397915</td>\n",
       "      <td>3.000000</td>\n",
       "      <td>2019.000000</td>\n",
       "      <td>5.000000</td>\n",
       "      <td>12.000000</td>\n",
       "    </tr>\n",
       "    <tr>\n",
       "      <th>50%</th>\n",
       "      <td>56.330002</td>\n",
       "      <td>58.000000</td>\n",
       "      <td>52.000000</td>\n",
       "      <td>54.544998</td>\n",
       "      <td>48.860693</td>\n",
       "      <td>55.488335</td>\n",
       "      <td>32.244823</td>\n",
       "      <td>38.011665</td>\n",
       "      <td>56.000000</td>\n",
       "      <td>54.540834</td>\n",
       "      <td>...</td>\n",
       "      <td>-10.371376</td>\n",
       "      <td>-10.496351</td>\n",
       "      <td>5.778066</td>\n",
       "      <td>1.000000</td>\n",
       "      <td>5.794496</td>\n",
       "      <td>778.422485</td>\n",
       "      <td>6.000000</td>\n",
       "      <td>2020.000000</td>\n",
       "      <td>11.000000</td>\n",
       "      <td>23.000000</td>\n",
       "    </tr>\n",
       "    <tr>\n",
       "      <th>75%</th>\n",
       "      <td>62.915001</td>\n",
       "      <td>65.000000</td>\n",
       "      <td>58.146667</td>\n",
       "      <td>61.208332</td>\n",
       "      <td>81.552164</td>\n",
       "      <td>62.623333</td>\n",
       "      <td>48.222225</td>\n",
       "      <td>49.000000</td>\n",
       "      <td>67.000000</td>\n",
       "      <td>61.205002</td>\n",
       "      <td>...</td>\n",
       "      <td>20.312794</td>\n",
       "      <td>20.310226</td>\n",
       "      <td>5.840518</td>\n",
       "      <td>1.000000</td>\n",
       "      <td>5.878390</td>\n",
       "      <td>2310.153809</td>\n",
       "      <td>9.000000</td>\n",
       "      <td>2020.000000</td>\n",
       "      <td>18.000000</td>\n",
       "      <td>36.000000</td>\n",
       "    </tr>\n",
       "    <tr>\n",
       "      <th>max</th>\n",
       "      <td>70.535004</td>\n",
       "      <td>73.000000</td>\n",
       "      <td>65.889999</td>\n",
       "      <td>68.866669</td>\n",
       "      <td>601.405579</td>\n",
       "      <td>70.646667</td>\n",
       "      <td>299.205963</td>\n",
       "      <td>74.000000</td>\n",
       "      <td>124.000000</td>\n",
       "      <td>68.866669</td>\n",
       "      <td>...</td>\n",
       "      <td>1104.722900</td>\n",
       "      <td>1323.434570</td>\n",
       "      <td>6.250977</td>\n",
       "      <td>5.000000</td>\n",
       "      <td>6.231746</td>\n",
       "      <td>2779.423340</td>\n",
       "      <td>12.000000</td>\n",
       "      <td>2021.000000</td>\n",
       "      <td>23.000000</td>\n",
       "      <td>53.000000</td>\n",
       "    </tr>\n",
       "  </tbody>\n",
       "</table>\n",
       "<p>8 rows × 81 columns</p>\n",
       "</div>"
      ],
      "text/plain": [
       "       Gearbox_T1_High_Speed_Shaft_Temperature  \\\n",
       "count                            109384.000000   \n",
       "mean                                 52.832520   \n",
       "std                                  11.786488   \n",
       "min                                  13.000000   \n",
       "25%                                  43.529832   \n",
       "50%                                  56.330002   \n",
       "75%                                  62.915001   \n",
       "max                                  70.535004   \n",
       "\n",
       "       Gearbox_T3_High_Speed_Shaft_Temperature  \\\n",
       "count                            109384.000000   \n",
       "mean                                 54.679188   \n",
       "std                                  11.945920   \n",
       "min                                  15.013333   \n",
       "25%                                  45.591667   \n",
       "50%                                  58.000000   \n",
       "75%                                  65.000000   \n",
       "max                                  73.000000   \n",
       "\n",
       "       Gearbox_T1_Intermediate_Speed_Shaft_Temperature  \\\n",
       "count                                    109384.000000   \n",
       "mean                                         49.270556   \n",
       "std                                           9.989398   \n",
       "min                                          14.000000   \n",
       "25%                                          41.000000   \n",
       "50%                                          52.000000   \n",
       "75%                                          58.146667   \n",
       "max                                          65.889999   \n",
       "\n",
       "       Temperature Gearbox Bearing Hollow Shaft  Tower Acceleration Normal  \\\n",
       "count                             109384.000000              109384.000000   \n",
       "mean                                  53.163956                  59.980019   \n",
       "std                                    9.719577                  50.841342   \n",
       "min                                   16.000000                   0.000000   \n",
       "25%                                   47.000000                  23.565812   \n",
       "50%                                   54.544998                  48.860693   \n",
       "75%                                   61.208332                  81.552164   \n",
       "max                                   68.866669                 601.405579   \n",
       "\n",
       "       Gearbox_Oil-2_Temperature  Tower Acceleration Lateral  \\\n",
       "count              109384.000000               109384.000000   \n",
       "mean                   53.238066                   34.853626   \n",
       "std                    11.163540                   24.810206   \n",
       "min                    13.474475                    0.000000   \n",
       "25%                    45.683334                   17.038607   \n",
       "50%                    55.488335                   32.244823   \n",
       "75%                    62.623333                   48.222225   \n",
       "max                    70.646667                  299.205963   \n",
       "\n",
       "       Temperature Bearing_A  Temperature Trafo-3  \\\n",
       "count          109384.000000        109384.000000   \n",
       "mean               39.854634            59.682850   \n",
       "std                13.459108            12.764499   \n",
       "min                 5.000000            13.845000   \n",
       "25%                29.000000            51.000000   \n",
       "50%                38.011665            56.000000   \n",
       "75%                49.000000            67.000000   \n",
       "max                74.000000           124.000000   \n",
       "\n",
       "       Gearbox_T3_Intermediate_Speed_Shaft_Temperature  ...  \\\n",
       "count                                    109384.000000  ...   \n",
       "mean                                         53.170340  ...   \n",
       "std                                           9.707490  ...   \n",
       "min                                          16.000000  ...   \n",
       "25%                                          47.000000  ...   \n",
       "50%                                          54.540834  ...   \n",
       "75%                                          61.205002  ...   \n",
       "max                                          68.866669  ...   \n",
       "\n",
       "       Moment Q Direction  Moment Q Filltered  Proxy Sensor_Degree-45  \\\n",
       "count       109384.000000       109384.000000           109384.000000   \n",
       "mean            -9.573806           -9.492157                5.781260   \n",
       "std             54.378346           54.260672                0.111341   \n",
       "min          -1287.386719        -1286.707886               -0.238800   \n",
       "25%            -35.712196          -35.554326                5.728754   \n",
       "50%            -10.371376          -10.496351                5.778066   \n",
       "75%             20.312794           20.310226                5.840518   \n",
       "max           1104.722900         1323.434570                6.250977   \n",
       "\n",
       "       Turbine State  Proxy Sensor_Degree-315      Power(kW)          month  \\\n",
       "count  109384.000000            109384.000000  109384.000000  109384.000000   \n",
       "mean        1.371571                 5.804296    1138.590671       5.981844   \n",
       "std         0.817447                 0.117213    1078.395313       3.323342   \n",
       "min         1.000000                -0.238800     -48.596668       1.000000   \n",
       "25%         1.000000                 5.741382      80.397915       3.000000   \n",
       "50%         1.000000                 5.794496     778.422485       6.000000   \n",
       "75%         1.000000                 5.878390    2310.153809       9.000000   \n",
       "max         5.000000                 6.231746    2779.423340      12.000000   \n",
       "\n",
       "                year           hour           week  \n",
       "count  109384.000000  109384.000000  109384.000000  \n",
       "mean     2019.854814      11.480491      24.351039  \n",
       "std         0.772348       6.933125      14.607234  \n",
       "min      2019.000000       0.000000       1.000000  \n",
       "25%      2019.000000       5.000000      12.000000  \n",
       "50%      2020.000000      11.000000      23.000000  \n",
       "75%      2020.000000      18.000000      36.000000  \n",
       "max      2021.000000      23.000000      53.000000  \n",
       "\n",
       "[8 rows x 81 columns]"
      ]
     },
     "execution_count": 63,
     "metadata": {},
     "output_type": "execute_result"
    }
   ],
   "source": [
    "df_train.describe()"
   ]
  },
  {
   "cell_type": "code",
   "execution_count": 65,
   "id": "63257518-3944-4027-a749-1b42c1752635",
   "metadata": {},
   "outputs": [
    {
     "data": {
      "text/html": [
       "<div>\n",
       "<style scoped>\n",
       "    .dataframe tbody tr th:only-of-type {\n",
       "        vertical-align: middle;\n",
       "    }\n",
       "\n",
       "    .dataframe tbody tr th {\n",
       "        vertical-align: top;\n",
       "    }\n",
       "\n",
       "    .dataframe thead th {\n",
       "        text-align: right;\n",
       "    }\n",
       "</style>\n",
       "<table border=\"1\" class=\"dataframe\">\n",
       "  <thead>\n",
       "    <tr style=\"text-align: right;\">\n",
       "      <th></th>\n",
       "      <th>Gearbox_T1_High_Speed_Shaft_Temperature</th>\n",
       "      <th>Gearbox_T3_High_Speed_Shaft_Temperature</th>\n",
       "      <th>Gearbox_T1_Intermediate_Speed_Shaft_Temperature</th>\n",
       "      <th>Temperature Gearbox Bearing Hollow Shaft</th>\n",
       "      <th>Tower Acceleration Normal</th>\n",
       "      <th>Gearbox_Oil-2_Temperature</th>\n",
       "      <th>Tower Acceleration Lateral</th>\n",
       "      <th>Temperature Bearing_A</th>\n",
       "      <th>Temperature Trafo-3</th>\n",
       "      <th>Gearbox_T3_Intermediate_Speed_Shaft_Temperature</th>\n",
       "      <th>...</th>\n",
       "      <th>Moment Q Direction</th>\n",
       "      <th>Moment Q Filltered</th>\n",
       "      <th>Proxy Sensor_Degree-45</th>\n",
       "      <th>Turbine State</th>\n",
       "      <th>Proxy Sensor_Degree-315</th>\n",
       "      <th>Power(kW)</th>\n",
       "      <th>month</th>\n",
       "      <th>year</th>\n",
       "      <th>hour</th>\n",
       "      <th>week</th>\n",
       "    </tr>\n",
       "  </thead>\n",
       "  <tbody>\n",
       "    <tr>\n",
       "      <th>count</th>\n",
       "      <td>27346.000000</td>\n",
       "      <td>27346.000000</td>\n",
       "      <td>27346.000000</td>\n",
       "      <td>27346.000000</td>\n",
       "      <td>27346.000000</td>\n",
       "      <td>27346.000000</td>\n",
       "      <td>27346.000000</td>\n",
       "      <td>27346.000000</td>\n",
       "      <td>27346.000000</td>\n",
       "      <td>27346.000000</td>\n",
       "      <td>...</td>\n",
       "      <td>27346.000000</td>\n",
       "      <td>27346.000000</td>\n",
       "      <td>27346.000000</td>\n",
       "      <td>27346.000000</td>\n",
       "      <td>27346.000000</td>\n",
       "      <td>27346.000000</td>\n",
       "      <td>27346.000000</td>\n",
       "      <td>27346.000000</td>\n",
       "      <td>27346.000000</td>\n",
       "      <td>27346.000000</td>\n",
       "    </tr>\n",
       "    <tr>\n",
       "      <th>mean</th>\n",
       "      <td>52.800304</td>\n",
       "      <td>54.648334</td>\n",
       "      <td>49.230969</td>\n",
       "      <td>53.127670</td>\n",
       "      <td>60.125176</td>\n",
       "      <td>53.200106</td>\n",
       "      <td>34.872574</td>\n",
       "      <td>39.810415</td>\n",
       "      <td>59.681971</td>\n",
       "      <td>53.130764</td>\n",
       "      <td>...</td>\n",
       "      <td>-9.376173</td>\n",
       "      <td>-9.439669</td>\n",
       "      <td>5.781507</td>\n",
       "      <td>1.373971</td>\n",
       "      <td>5.804700</td>\n",
       "      <td>1138.419064</td>\n",
       "      <td>5.972318</td>\n",
       "      <td>2019.855701</td>\n",
       "      <td>11.571638</td>\n",
       "      <td>24.300739</td>\n",
       "    </tr>\n",
       "    <tr>\n",
       "      <th>std</th>\n",
       "      <td>11.785743</td>\n",
       "      <td>11.942268</td>\n",
       "      <td>9.998200</td>\n",
       "      <td>9.715438</td>\n",
       "      <td>50.902649</td>\n",
       "      <td>11.152046</td>\n",
       "      <td>24.870840</td>\n",
       "      <td>13.468623</td>\n",
       "      <td>12.880435</td>\n",
       "      <td>9.715226</td>\n",
       "      <td>...</td>\n",
       "      <td>53.507711</td>\n",
       "      <td>53.313972</td>\n",
       "      <td>0.096780</td>\n",
       "      <td>0.825803</td>\n",
       "      <td>0.103230</td>\n",
       "      <td>1078.538408</td>\n",
       "      <td>3.334544</td>\n",
       "      <td>0.771939</td>\n",
       "      <td>6.935421</td>\n",
       "      <td>14.651126</td>\n",
       "    </tr>\n",
       "    <tr>\n",
       "      <th>min</th>\n",
       "      <td>13.000000</td>\n",
       "      <td>16.000000</td>\n",
       "      <td>14.000000</td>\n",
       "      <td>16.995001</td>\n",
       "      <td>0.000000</td>\n",
       "      <td>14.000000</td>\n",
       "      <td>0.000000</td>\n",
       "      <td>5.000000</td>\n",
       "      <td>14.000000</td>\n",
       "      <td>16.995001</td>\n",
       "      <td>...</td>\n",
       "      <td>-1061.604248</td>\n",
       "      <td>-1025.686157</td>\n",
       "      <td>-0.238800</td>\n",
       "      <td>1.000000</td>\n",
       "      <td>-0.238800</td>\n",
       "      <td>-47.343334</td>\n",
       "      <td>1.000000</td>\n",
       "      <td>2019.000000</td>\n",
       "      <td>0.000000</td>\n",
       "      <td>1.000000</td>\n",
       "    </tr>\n",
       "    <tr>\n",
       "      <th>25%</th>\n",
       "      <td>43.559584</td>\n",
       "      <td>45.647501</td>\n",
       "      <td>41.000000</td>\n",
       "      <td>47.000000</td>\n",
       "      <td>23.723381</td>\n",
       "      <td>45.625417</td>\n",
       "      <td>16.873823</td>\n",
       "      <td>29.000000</td>\n",
       "      <td>51.000000</td>\n",
       "      <td>47.000000</td>\n",
       "      <td>...</td>\n",
       "      <td>-35.094096</td>\n",
       "      <td>-35.296923</td>\n",
       "      <td>5.728946</td>\n",
       "      <td>1.000000</td>\n",
       "      <td>5.741177</td>\n",
       "      <td>80.326668</td>\n",
       "      <td>3.000000</td>\n",
       "      <td>2019.000000</td>\n",
       "      <td>6.000000</td>\n",
       "      <td>12.000000</td>\n",
       "    </tr>\n",
       "    <tr>\n",
       "      <th>50%</th>\n",
       "      <td>56.277500</td>\n",
       "      <td>58.000000</td>\n",
       "      <td>51.976665</td>\n",
       "      <td>54.432500</td>\n",
       "      <td>49.130671</td>\n",
       "      <td>55.424667</td>\n",
       "      <td>32.251411</td>\n",
       "      <td>38.051666</td>\n",
       "      <td>56.000000</td>\n",
       "      <td>54.438334</td>\n",
       "      <td>...</td>\n",
       "      <td>-9.938408</td>\n",
       "      <td>-10.194350</td>\n",
       "      <td>5.777341</td>\n",
       "      <td>1.000000</td>\n",
       "      <td>5.794507</td>\n",
       "      <td>776.669983</td>\n",
       "      <td>6.000000</td>\n",
       "      <td>2020.000000</td>\n",
       "      <td>12.000000</td>\n",
       "      <td>23.000000</td>\n",
       "    </tr>\n",
       "    <tr>\n",
       "      <th>75%</th>\n",
       "      <td>62.889999</td>\n",
       "      <td>65.000000</td>\n",
       "      <td>58.138332</td>\n",
       "      <td>61.159583</td>\n",
       "      <td>81.483984</td>\n",
       "      <td>62.605000</td>\n",
       "      <td>48.070621</td>\n",
       "      <td>49.000000</td>\n",
       "      <td>66.984583</td>\n",
       "      <td>61.143333</td>\n",
       "      <td>...</td>\n",
       "      <td>20.675529</td>\n",
       "      <td>20.573827</td>\n",
       "      <td>5.840292</td>\n",
       "      <td>1.000000</td>\n",
       "      <td>5.878551</td>\n",
       "      <td>2310.753235</td>\n",
       "      <td>9.000000</td>\n",
       "      <td>2020.000000</td>\n",
       "      <td>18.000000</td>\n",
       "      <td>36.000000</td>\n",
       "    </tr>\n",
       "    <tr>\n",
       "      <th>max</th>\n",
       "      <td>70.593330</td>\n",
       "      <td>72.843330</td>\n",
       "      <td>65.828331</td>\n",
       "      <td>68.463333</td>\n",
       "      <td>399.259979</td>\n",
       "      <td>70.639999</td>\n",
       "      <td>228.011688</td>\n",
       "      <td>74.000000</td>\n",
       "      <td>124.000000</td>\n",
       "      <td>68.463333</td>\n",
       "      <td>...</td>\n",
       "      <td>773.534729</td>\n",
       "      <td>772.748047</td>\n",
       "      <td>6.239525</td>\n",
       "      <td>5.000000</td>\n",
       "      <td>6.198403</td>\n",
       "      <td>2777.798340</td>\n",
       "      <td>12.000000</td>\n",
       "      <td>2021.000000</td>\n",
       "      <td>23.000000</td>\n",
       "      <td>53.000000</td>\n",
       "    </tr>\n",
       "  </tbody>\n",
       "</table>\n",
       "<p>8 rows × 81 columns</p>\n",
       "</div>"
      ],
      "text/plain": [
       "       Gearbox_T1_High_Speed_Shaft_Temperature  \\\n",
       "count                             27346.000000   \n",
       "mean                                 52.800304   \n",
       "std                                  11.785743   \n",
       "min                                  13.000000   \n",
       "25%                                  43.559584   \n",
       "50%                                  56.277500   \n",
       "75%                                  62.889999   \n",
       "max                                  70.593330   \n",
       "\n",
       "       Gearbox_T3_High_Speed_Shaft_Temperature  \\\n",
       "count                             27346.000000   \n",
       "mean                                 54.648334   \n",
       "std                                  11.942268   \n",
       "min                                  16.000000   \n",
       "25%                                  45.647501   \n",
       "50%                                  58.000000   \n",
       "75%                                  65.000000   \n",
       "max                                  72.843330   \n",
       "\n",
       "       Gearbox_T1_Intermediate_Speed_Shaft_Temperature  \\\n",
       "count                                     27346.000000   \n",
       "mean                                         49.230969   \n",
       "std                                           9.998200   \n",
       "min                                          14.000000   \n",
       "25%                                          41.000000   \n",
       "50%                                          51.976665   \n",
       "75%                                          58.138332   \n",
       "max                                          65.828331   \n",
       "\n",
       "       Temperature Gearbox Bearing Hollow Shaft  Tower Acceleration Normal  \\\n",
       "count                              27346.000000               27346.000000   \n",
       "mean                                  53.127670                  60.125176   \n",
       "std                                    9.715438                  50.902649   \n",
       "min                                   16.995001                   0.000000   \n",
       "25%                                   47.000000                  23.723381   \n",
       "50%                                   54.432500                  49.130671   \n",
       "75%                                   61.159583                  81.483984   \n",
       "max                                   68.463333                 399.259979   \n",
       "\n",
       "       Gearbox_Oil-2_Temperature  Tower Acceleration Lateral  \\\n",
       "count               27346.000000                27346.000000   \n",
       "mean                   53.200106                   34.872574   \n",
       "std                    11.152046                   24.870840   \n",
       "min                    14.000000                    0.000000   \n",
       "25%                    45.625417                   16.873823   \n",
       "50%                    55.424667                   32.251411   \n",
       "75%                    62.605000                   48.070621   \n",
       "max                    70.639999                  228.011688   \n",
       "\n",
       "       Temperature Bearing_A  Temperature Trafo-3  \\\n",
       "count           27346.000000         27346.000000   \n",
       "mean               39.810415            59.681971   \n",
       "std                13.468623            12.880435   \n",
       "min                 5.000000            14.000000   \n",
       "25%                29.000000            51.000000   \n",
       "50%                38.051666            56.000000   \n",
       "75%                49.000000            66.984583   \n",
       "max                74.000000           124.000000   \n",
       "\n",
       "       Gearbox_T3_Intermediate_Speed_Shaft_Temperature  ...  \\\n",
       "count                                     27346.000000  ...   \n",
       "mean                                         53.130764  ...   \n",
       "std                                           9.715226  ...   \n",
       "min                                          16.995001  ...   \n",
       "25%                                          47.000000  ...   \n",
       "50%                                          54.438334  ...   \n",
       "75%                                          61.143333  ...   \n",
       "max                                          68.463333  ...   \n",
       "\n",
       "       Moment Q Direction  Moment Q Filltered  Proxy Sensor_Degree-45  \\\n",
       "count        27346.000000        27346.000000            27346.000000   \n",
       "mean            -9.376173           -9.439669                5.781507   \n",
       "std             53.507711           53.313972                0.096780   \n",
       "min          -1061.604248        -1025.686157               -0.238800   \n",
       "25%            -35.094096          -35.296923                5.728946   \n",
       "50%             -9.938408          -10.194350                5.777341   \n",
       "75%             20.675529           20.573827                5.840292   \n",
       "max            773.534729          772.748047                6.239525   \n",
       "\n",
       "       Turbine State  Proxy Sensor_Degree-315     Power(kW)         month  \\\n",
       "count   27346.000000             27346.000000  27346.000000  27346.000000   \n",
       "mean        1.373971                 5.804700   1138.419064      5.972318   \n",
       "std         0.825803                 0.103230   1078.538408      3.334544   \n",
       "min         1.000000                -0.238800    -47.343334      1.000000   \n",
       "25%         1.000000                 5.741177     80.326668      3.000000   \n",
       "50%         1.000000                 5.794507    776.669983      6.000000   \n",
       "75%         1.000000                 5.878551   2310.753235      9.000000   \n",
       "max         5.000000                 6.198403   2777.798340     12.000000   \n",
       "\n",
       "               year          hour          week  \n",
       "count  27346.000000  27346.000000  27346.000000  \n",
       "mean    2019.855701     11.571638     24.300739  \n",
       "std        0.771939      6.935421     14.651126  \n",
       "min     2019.000000      0.000000      1.000000  \n",
       "25%     2019.000000      6.000000     12.000000  \n",
       "50%     2020.000000     12.000000     23.000000  \n",
       "75%     2020.000000     18.000000     36.000000  \n",
       "max     2021.000000     23.000000     53.000000  \n",
       "\n",
       "[8 rows x 81 columns]"
      ]
     },
     "execution_count": 65,
     "metadata": {},
     "output_type": "execute_result"
    }
   ],
   "source": [
    "df_test.describe()"
   ]
  },
  {
   "cell_type": "markdown",
   "id": "c4c11e9c-656d-4d35-9476-18fbc5e31046",
   "metadata": {},
   "source": [
    "**Observation:** StratifiedKFold keeps the distribution of the data when splitting them as train and test."
   ]
  },
  {
   "cell_type": "markdown",
   "id": "08de207f-82e0-45e6-aa25-4c50b51cca48",
   "metadata": {},
   "source": [
    "<br><br>"
   ]
  },
  {
   "cell_type": "markdown",
   "id": "b17a3951-788e-4324-88b7-ddd4c8dade5c",
   "metadata": {
    "tags": []
   },
   "source": [
    "### 4.3. Scaler"
   ]
  },
  {
   "cell_type": "markdown",
   "id": "5a0f56de-6c4e-462b-b5d5-b089a88e0d31",
   "metadata": {},
   "source": [
    "Some Regression Algorithms requires the data to be scaled. Tree based algorithms can work with the original data values, however, it will not harm to use scaled data in tree based algorithms."
   ]
  },
  {
   "cell_type": "code",
   "execution_count": 66,
   "id": "88842025-ce7b-4356-9461-ea9d43b24dc7",
   "metadata": {},
   "outputs": [],
   "source": [
    "scaler = StandardScaler()"
   ]
  },
  {
   "cell_type": "code",
   "execution_count": 67,
   "id": "11a4a2ed-7856-4160-a3ea-3dd3da2ed424",
   "metadata": {},
   "outputs": [],
   "source": [
    "scaled_X_train = scaler.fit_transform(X_train)\n",
    "scaled_X_test = scaler.transform(X_test)"
   ]
  },
  {
   "cell_type": "markdown",
   "id": "7457f09f-3c55-40c0-89ea-055852254fe8",
   "metadata": {},
   "source": [
    "<br><br>"
   ]
  },
  {
   "cell_type": "markdown",
   "id": "6fee70a9-e381-4ee2-83be-5ba7ec38e9b8",
   "metadata": {},
   "source": [
    "## 5. Regression Models"
   ]
  },
  {
   "cell_type": "markdown",
   "id": "4b89d633-8397-4592-b9cc-009f554125a1",
   "metadata": {
    "tags": []
   },
   "source": [
    "### 5.1. ElasticNET"
   ]
  },
  {
   "cell_type": "code",
   "execution_count": 176,
   "id": "6bcb11a0-34a4-4821-8daf-12db328b0079",
   "metadata": {},
   "outputs": [],
   "source": [
    "from sklearn.linear_model import ElasticNet"
   ]
  },
  {
   "cell_type": "code",
   "execution_count": 178,
   "id": "b61feaa5-c0ba-44f3-830e-045953e54147",
   "metadata": {},
   "outputs": [],
   "source": [
    "elastic_model = ElasticNet()"
   ]
  },
  {
   "cell_type": "code",
   "execution_count": 179,
   "id": "0892c46d-c0e9-4a90-9fd8-213b7717c62f",
   "metadata": {},
   "outputs": [
    {
     "data": {
      "text/plain": [
       "ElasticNet()"
      ]
     },
     "execution_count": 179,
     "metadata": {},
     "output_type": "execute_result"
    }
   ],
   "source": [
    "elastic_model.fit(scaled_X_train,y_train)"
   ]
  },
  {
   "cell_type": "code",
   "execution_count": 180,
   "id": "f7323035-9be2-4594-a8ed-593b792c6316",
   "metadata": {},
   "outputs": [],
   "source": [
    "y_pred = elastic_model.predict(scaled_X_test)"
   ]
  },
  {
   "cell_type": "code",
   "execution_count": 182,
   "id": "0499b23f-1721-4b12-bdf7-18b591ec030f",
   "metadata": {},
   "outputs": [],
   "source": [
    "from sklearn.impute import KNNImputer\n",
    "from sklearn.model_selection import train_test_split, GridSearchCV\n",
    "from sklearn.preprocessing import StandardScaler\n",
    "from sklearn.metrics import mean_squared_error\n",
    "\n",
    "from sklearn.linear_model import ElasticNet"
   ]
  },
  {
   "cell_type": "code",
   "execution_count": 183,
   "id": "f43bda51-2a4c-433e-b4cd-448fcac52d4d",
   "metadata": {},
   "outputs": [
    {
     "data": {
      "text/plain": [
       "344.3159188371857"
      ]
     },
     "execution_count": 183,
     "metadata": {},
     "output_type": "execute_result"
    }
   ],
   "source": [
    "np.sqrt(mean_squared_error(y_test, y_pred))"
   ]
  },
  {
   "cell_type": "code",
   "execution_count": 190,
   "id": "0306bfe8-7abd-4370-9fa0-d059aa50a9d8",
   "metadata": {},
   "outputs": [],
   "source": [
    "from sklearn.model_selection import GridSearchCV"
   ]
  },
  {
   "cell_type": "code",
   "execution_count": 212,
   "id": "bbdcfea4-c13b-43a5-a91a-27dbf7cb2583",
   "metadata": {},
   "outputs": [],
   "source": [
    "param_grid = {\"alpha\":[0.001,0.01,0.1,0.5,1.0,2.0],\n",
    "              \"l1_ratio\":[0.1,0.5,1.0,2.0]}"
   ]
  },
  {
   "cell_type": "code",
   "execution_count": 213,
   "id": "85c3abae-4333-4f47-8ace-93d71ab42c17",
   "metadata": {},
   "outputs": [],
   "source": [
    "grid_elastic_model = GridSearchCV(elastic_model,param_grid, scoring = \"neg_mean_squared_error\")"
   ]
  },
  {
   "cell_type": "code",
   "execution_count": null,
   "id": "af951adf-52bb-45b2-b60c-509c24942e40",
   "metadata": {
    "tags": []
   },
   "outputs": [],
   "source": [
    "grid_elastic_model.fit(scaled_X_train,y_train)"
   ]
  },
  {
   "cell_type": "code",
   "execution_count": 216,
   "id": "cecea1df-be16-4aed-9970-dda1ea962fff",
   "metadata": {},
   "outputs": [
    {
     "data": {
      "text/plain": [
       "ElasticNet(alpha=0.001)"
      ]
     },
     "execution_count": 216,
     "metadata": {},
     "output_type": "execute_result"
    }
   ],
   "source": [
    "grid_elastic_model.best_estimator_"
   ]
  },
  {
   "cell_type": "code",
   "execution_count": 217,
   "id": "1d408543-8c4a-4a26-9e69-33ec64d7d53b",
   "metadata": {},
   "outputs": [],
   "source": [
    "y_pred = grid_elastic_model.predict(scaled_X_test)"
   ]
  },
  {
   "cell_type": "code",
   "execution_count": 218,
   "id": "35751dfc-eb96-446a-9caf-d928fdd3514d",
   "metadata": {},
   "outputs": [
    {
     "data": {
      "text/plain": [
       "241.03954812379715"
      ]
     },
     "execution_count": 218,
     "metadata": {},
     "output_type": "execute_result"
    }
   ],
   "source": [
    "np.sqrt(mean_squared_error(y_test, y_pred))"
   ]
  },
  {
   "cell_type": "markdown",
   "id": "c1dda375-7798-4837-ab6e-470e5253d7ca",
   "metadata": {
    "tags": []
   },
   "source": [
    "### 5.2. KNN Regressor"
   ]
  },
  {
   "cell_type": "code",
   "execution_count": 221,
   "id": "d9088985-b642-4339-9f5a-b4912b571f64",
   "metadata": {},
   "outputs": [],
   "source": [
    "from sklearn.impute import KNNImputer\n",
    "from sklearn.model_selection import train_test_split, GridSearchCV\n",
    "from sklearn.preprocessing import StandardScaler\n",
    "from sklearn.metrics import mean_squared_error\n",
    "\n",
    "from sklearn.linear_model import ElasticNet\n",
    "from sklearn.neighbors import KNeighborsRegressor"
   ]
  },
  {
   "cell_type": "code",
   "execution_count": 222,
   "id": "2fe52bba-0191-4e79-9bcb-33378cc8bd1f",
   "metadata": {},
   "outputs": [],
   "source": [
    "knr_model = KNeighborsRegressor()"
   ]
  },
  {
   "cell_type": "code",
   "execution_count": 224,
   "id": "1fe0f338-eb95-4f51-b9a9-239e880948e9",
   "metadata": {},
   "outputs": [
    {
     "data": {
      "text/plain": [
       "KNeighborsRegressor()"
      ]
     },
     "execution_count": 224,
     "metadata": {},
     "output_type": "execute_result"
    }
   ],
   "source": [
    "knr_model.fit(scaled_X_train,y_train)"
   ]
  },
  {
   "cell_type": "code",
   "execution_count": 228,
   "id": "96dc188b-691f-463a-bfd1-fcee3beaed34",
   "metadata": {},
   "outputs": [],
   "source": [
    "y_pred = knr_model.predict(scaled_X_test)"
   ]
  },
  {
   "cell_type": "code",
   "execution_count": 229,
   "id": "67a64722-c57f-4deb-94b1-b30a507f081f",
   "metadata": {},
   "outputs": [
    {
     "data": {
      "text/plain": [
       "144.87005207925768"
      ]
     },
     "execution_count": 229,
     "metadata": {},
     "output_type": "execute_result"
    }
   ],
   "source": [
    "np.sqrt(mean_squared_error(y_test, y_pred))"
   ]
  },
  {
   "cell_type": "code",
   "execution_count": 232,
   "id": "59d2abe7-e690-47ff-b815-b18620c75164",
   "metadata": {},
   "outputs": [],
   "source": [
    "param_grid = {\"n_neighbors\":[2,5,10],\n",
    "              \"weights\":['uniform','distance'],\n",
    "              \"leaf_size\":[10,30,50],\n",
    "              \"p\":[1,2]}"
   ]
  },
  {
   "cell_type": "code",
   "execution_count": 233,
   "id": "f9ab0636-84c2-441c-a526-efb471141fb0",
   "metadata": {},
   "outputs": [],
   "source": [
    "grid_knr_model = GridSearchCV(knr_model,param_grid, scoring = \"neg_mean_squared_error\")"
   ]
  },
  {
   "cell_type": "code",
   "execution_count": 234,
   "id": "03b24f86-aa67-41aa-8780-225c82a38e52",
   "metadata": {},
   "outputs": [
    {
     "data": {
      "text/plain": [
       "GridSearchCV(estimator=KNeighborsRegressor(),\n",
       "             param_grid={'leaf_size': [10, 30, 50], 'n_neighbors': [2, 5, 10],\n",
       "                         'p': [1, 2], 'weights': ['uniform', 'distance']},\n",
       "             scoring='neg_mean_squared_error')"
      ]
     },
     "execution_count": 234,
     "metadata": {},
     "output_type": "execute_result"
    }
   ],
   "source": [
    "grid_knr_model.fit(scaled_X_train,y_train)"
   ]
  },
  {
   "cell_type": "code",
   "execution_count": 236,
   "id": "9cd7463c-2b42-4e0c-9b9d-4d6772051541",
   "metadata": {},
   "outputs": [
    {
     "data": {
      "text/plain": [
       "{'leaf_size': 10, 'n_neighbors': 5, 'p': 1, 'weights': 'distance'}"
      ]
     },
     "execution_count": 236,
     "metadata": {},
     "output_type": "execute_result"
    }
   ],
   "source": [
    "grid_knr_model.best_params_"
   ]
  },
  {
   "cell_type": "code",
   "execution_count": 237,
   "id": "c8bdd73b-defd-46e3-9f62-dafc15a818ae",
   "metadata": {},
   "outputs": [],
   "source": [
    "y_pred = grid_knr_model.predict(scaled_X_test)"
   ]
  },
  {
   "cell_type": "code",
   "execution_count": 238,
   "id": "030b0ab2-4375-4050-8f43-80193589da1a",
   "metadata": {},
   "outputs": [
    {
     "data": {
      "text/plain": [
       "111.983800973887"
      ]
     },
     "execution_count": 238,
     "metadata": {},
     "output_type": "execute_result"
    }
   ],
   "source": [
    "np.sqrt(mean_squared_error(y_test, y_pred))"
   ]
  },
  {
   "cell_type": "markdown",
   "id": "3530f726-3dd1-49e7-93cd-f59cb57baec3",
   "metadata": {
    "tags": []
   },
   "source": [
    "### 5.3. SVM"
   ]
  },
  {
   "cell_type": "code",
   "execution_count": 239,
   "id": "8db3e853-8a94-4b37-9ff9-32ca5ad451e1",
   "metadata": {},
   "outputs": [],
   "source": [
    "from sklearn.impute import KNNImputer\n",
    "from sklearn.model_selection import train_test_split, GridSearchCV\n",
    "from sklearn.preprocessing import StandardScaler\n",
    "from sklearn.metrics import mean_squared_error\n",
    "\n",
    "from sklearn.linear_model import ElasticNet\n",
    "from sklearn.neighbors import KNeighborsRegressor\n",
    "from sklearn.svm import SVR"
   ]
  },
  {
   "cell_type": "code",
   "execution_count": 240,
   "id": "f59baf99-f52d-4044-893e-464f612fc1a8",
   "metadata": {},
   "outputs": [],
   "source": [
    "svr_model = SVR()"
   ]
  },
  {
   "cell_type": "code",
   "execution_count": 242,
   "id": "93f6ba08-2258-4418-a283-470142c26044",
   "metadata": {},
   "outputs": [
    {
     "data": {
      "text/plain": [
       "SVR()"
      ]
     },
     "execution_count": 242,
     "metadata": {},
     "output_type": "execute_result"
    }
   ],
   "source": [
    "svr_model.fit(scaled_X_train, y_train)"
   ]
  },
  {
   "cell_type": "code",
   "execution_count": 243,
   "id": "2bacc152-14ac-4a4e-ab86-db571000ab36",
   "metadata": {},
   "outputs": [],
   "source": [
    "y_pred = svr_model.predict(scaled_X_test)"
   ]
  },
  {
   "cell_type": "code",
   "execution_count": 244,
   "id": "8e9aa572-c59e-4323-bc4d-3c9e2d4365a5",
   "metadata": {},
   "outputs": [
    {
     "data": {
      "text/plain": [
       "239.33892447629214"
      ]
     },
     "execution_count": 244,
     "metadata": {},
     "output_type": "execute_result"
    }
   ],
   "source": [
    "np.sqrt(mean_squared_error(y_test, y_pred))"
   ]
  },
  {
   "cell_type": "code",
   "execution_count": 246,
   "id": "4d1079b7-12c3-440c-be76-06f4c65725bf",
   "metadata": {},
   "outputs": [],
   "source": [
    "param_grid = {\"kernel\":['linear', 'poly', 'rbf', 'sigmoid', 'precomputed'],\n",
    "    \"degree\":[2,3,4],\n",
    "    \"gamma\":['scale','auto'],\n",
    "    \"C\":[0.1,1.0,10.0],\n",
    "    \"epsilon\":[0.01,0.1,1]}"
   ]
  },
  {
   "cell_type": "code",
   "execution_count": 247,
   "id": "9f9f54e7-b768-4b5a-9229-88a9458a6a20",
   "metadata": {},
   "outputs": [],
   "source": [
    "grid_svr_model = GridSearchCV(svr_model,param_grid, scoring = \"neg_mean_squared_error\")"
   ]
  },
  {
   "cell_type": "code",
   "execution_count": 248,
   "id": "f262b246-63c7-47a9-aaa5-f27648f871dc",
   "metadata": {
    "collapsed": true,
    "jupyter": {
     "outputs_hidden": true
    },
    "tags": []
   },
   "outputs": [
    {
     "ename": "KeyboardInterrupt",
     "evalue": "",
     "output_type": "error",
     "traceback": [
      "\u001b[0;31m---------------------------------------------------------------------------\u001b[0m",
      "\u001b[0;31mKeyboardInterrupt\u001b[0m                         Traceback (most recent call last)",
      "Input \u001b[0;32mIn [248]\u001b[0m, in \u001b[0;36m<cell line: 1>\u001b[0;34m()\u001b[0m\n\u001b[0;32m----> 1\u001b[0m \u001b[43mgrid_svr_model\u001b[49m\u001b[38;5;241;43m.\u001b[39;49m\u001b[43mfit\u001b[49m\u001b[43m(\u001b[49m\u001b[43mscaled_X_train\u001b[49m\u001b[43m,\u001b[49m\u001b[43my_train\u001b[49m\u001b[43m)\u001b[49m\n",
      "File \u001b[0;32m~/opt/anaconda3/lib/python3.9/site-packages/sklearn/model_selection/_search.py:891\u001b[0m, in \u001b[0;36mBaseSearchCV.fit\u001b[0;34m(self, X, y, groups, **fit_params)\u001b[0m\n\u001b[1;32m    885\u001b[0m     results \u001b[38;5;241m=\u001b[39m \u001b[38;5;28mself\u001b[39m\u001b[38;5;241m.\u001b[39m_format_results(\n\u001b[1;32m    886\u001b[0m         all_candidate_params, n_splits, all_out, all_more_results\n\u001b[1;32m    887\u001b[0m     )\n\u001b[1;32m    889\u001b[0m     \u001b[38;5;28;01mreturn\u001b[39;00m results\n\u001b[0;32m--> 891\u001b[0m \u001b[38;5;28;43mself\u001b[39;49m\u001b[38;5;241;43m.\u001b[39;49m\u001b[43m_run_search\u001b[49m\u001b[43m(\u001b[49m\u001b[43mevaluate_candidates\u001b[49m\u001b[43m)\u001b[49m\n\u001b[1;32m    893\u001b[0m \u001b[38;5;66;03m# multimetric is determined here because in the case of a callable\u001b[39;00m\n\u001b[1;32m    894\u001b[0m \u001b[38;5;66;03m# self.scoring the return type is only known after calling\u001b[39;00m\n\u001b[1;32m    895\u001b[0m first_test_score \u001b[38;5;241m=\u001b[39m all_out[\u001b[38;5;241m0\u001b[39m][\u001b[38;5;124m\"\u001b[39m\u001b[38;5;124mtest_scores\u001b[39m\u001b[38;5;124m\"\u001b[39m]\n",
      "File \u001b[0;32m~/opt/anaconda3/lib/python3.9/site-packages/sklearn/model_selection/_search.py:1392\u001b[0m, in \u001b[0;36mGridSearchCV._run_search\u001b[0;34m(self, evaluate_candidates)\u001b[0m\n\u001b[1;32m   1390\u001b[0m \u001b[38;5;28;01mdef\u001b[39;00m \u001b[38;5;21m_run_search\u001b[39m(\u001b[38;5;28mself\u001b[39m, evaluate_candidates):\n\u001b[1;32m   1391\u001b[0m     \u001b[38;5;124;03m\"\"\"Search all candidates in param_grid\"\"\"\u001b[39;00m\n\u001b[0;32m-> 1392\u001b[0m     \u001b[43mevaluate_candidates\u001b[49m\u001b[43m(\u001b[49m\u001b[43mParameterGrid\u001b[49m\u001b[43m(\u001b[49m\u001b[38;5;28;43mself\u001b[39;49m\u001b[38;5;241;43m.\u001b[39;49m\u001b[43mparam_grid\u001b[49m\u001b[43m)\u001b[49m\u001b[43m)\u001b[49m\n",
      "File \u001b[0;32m~/opt/anaconda3/lib/python3.9/site-packages/sklearn/model_selection/_search.py:838\u001b[0m, in \u001b[0;36mBaseSearchCV.fit.<locals>.evaluate_candidates\u001b[0;34m(candidate_params, cv, more_results)\u001b[0m\n\u001b[1;32m    830\u001b[0m \u001b[38;5;28;01mif\u001b[39;00m \u001b[38;5;28mself\u001b[39m\u001b[38;5;241m.\u001b[39mverbose \u001b[38;5;241m>\u001b[39m \u001b[38;5;241m0\u001b[39m:\n\u001b[1;32m    831\u001b[0m     \u001b[38;5;28mprint\u001b[39m(\n\u001b[1;32m    832\u001b[0m         \u001b[38;5;124m\"\u001b[39m\u001b[38;5;124mFitting \u001b[39m\u001b[38;5;132;01m{0}\u001b[39;00m\u001b[38;5;124m folds for each of \u001b[39m\u001b[38;5;132;01m{1}\u001b[39;00m\u001b[38;5;124m candidates,\u001b[39m\u001b[38;5;124m\"\u001b[39m\n\u001b[1;32m    833\u001b[0m         \u001b[38;5;124m\"\u001b[39m\u001b[38;5;124m totalling \u001b[39m\u001b[38;5;132;01m{2}\u001b[39;00m\u001b[38;5;124m fits\u001b[39m\u001b[38;5;124m\"\u001b[39m\u001b[38;5;241m.\u001b[39mformat(\n\u001b[1;32m    834\u001b[0m             n_splits, n_candidates, n_candidates \u001b[38;5;241m*\u001b[39m n_splits\n\u001b[1;32m    835\u001b[0m         )\n\u001b[1;32m    836\u001b[0m     )\n\u001b[0;32m--> 838\u001b[0m out \u001b[38;5;241m=\u001b[39m \u001b[43mparallel\u001b[49m\u001b[43m(\u001b[49m\n\u001b[1;32m    839\u001b[0m \u001b[43m    \u001b[49m\u001b[43mdelayed\u001b[49m\u001b[43m(\u001b[49m\u001b[43m_fit_and_score\u001b[49m\u001b[43m)\u001b[49m\u001b[43m(\u001b[49m\n\u001b[1;32m    840\u001b[0m \u001b[43m        \u001b[49m\u001b[43mclone\u001b[49m\u001b[43m(\u001b[49m\u001b[43mbase_estimator\u001b[49m\u001b[43m)\u001b[49m\u001b[43m,\u001b[49m\n\u001b[1;32m    841\u001b[0m \u001b[43m        \u001b[49m\u001b[43mX\u001b[49m\u001b[43m,\u001b[49m\n\u001b[1;32m    842\u001b[0m \u001b[43m        \u001b[49m\u001b[43my\u001b[49m\u001b[43m,\u001b[49m\n\u001b[1;32m    843\u001b[0m \u001b[43m        \u001b[49m\u001b[43mtrain\u001b[49m\u001b[38;5;241;43m=\u001b[39;49m\u001b[43mtrain\u001b[49m\u001b[43m,\u001b[49m\n\u001b[1;32m    844\u001b[0m \u001b[43m        \u001b[49m\u001b[43mtest\u001b[49m\u001b[38;5;241;43m=\u001b[39;49m\u001b[43mtest\u001b[49m\u001b[43m,\u001b[49m\n\u001b[1;32m    845\u001b[0m \u001b[43m        \u001b[49m\u001b[43mparameters\u001b[49m\u001b[38;5;241;43m=\u001b[39;49m\u001b[43mparameters\u001b[49m\u001b[43m,\u001b[49m\n\u001b[1;32m    846\u001b[0m \u001b[43m        \u001b[49m\u001b[43msplit_progress\u001b[49m\u001b[38;5;241;43m=\u001b[39;49m\u001b[43m(\u001b[49m\u001b[43msplit_idx\u001b[49m\u001b[43m,\u001b[49m\u001b[43m \u001b[49m\u001b[43mn_splits\u001b[49m\u001b[43m)\u001b[49m\u001b[43m,\u001b[49m\n\u001b[1;32m    847\u001b[0m \u001b[43m        \u001b[49m\u001b[43mcandidate_progress\u001b[49m\u001b[38;5;241;43m=\u001b[39;49m\u001b[43m(\u001b[49m\u001b[43mcand_idx\u001b[49m\u001b[43m,\u001b[49m\u001b[43m \u001b[49m\u001b[43mn_candidates\u001b[49m\u001b[43m)\u001b[49m\u001b[43m,\u001b[49m\n\u001b[1;32m    848\u001b[0m \u001b[43m        \u001b[49m\u001b[38;5;241;43m*\u001b[39;49m\u001b[38;5;241;43m*\u001b[39;49m\u001b[43mfit_and_score_kwargs\u001b[49m\u001b[43m,\u001b[49m\n\u001b[1;32m    849\u001b[0m \u001b[43m    \u001b[49m\u001b[43m)\u001b[49m\n\u001b[1;32m    850\u001b[0m \u001b[43m    \u001b[49m\u001b[38;5;28;43;01mfor\u001b[39;49;00m\u001b[43m \u001b[49m\u001b[43m(\u001b[49m\u001b[43mcand_idx\u001b[49m\u001b[43m,\u001b[49m\u001b[43m \u001b[49m\u001b[43mparameters\u001b[49m\u001b[43m)\u001b[49m\u001b[43m,\u001b[49m\u001b[43m \u001b[49m\u001b[43m(\u001b[49m\u001b[43msplit_idx\u001b[49m\u001b[43m,\u001b[49m\u001b[43m \u001b[49m\u001b[43m(\u001b[49m\u001b[43mtrain\u001b[49m\u001b[43m,\u001b[49m\u001b[43m \u001b[49m\u001b[43mtest\u001b[49m\u001b[43m)\u001b[49m\u001b[43m)\u001b[49m\u001b[43m \u001b[49m\u001b[38;5;129;43;01min\u001b[39;49;00m\u001b[43m \u001b[49m\u001b[43mproduct\u001b[49m\u001b[43m(\u001b[49m\n\u001b[1;32m    851\u001b[0m \u001b[43m        \u001b[49m\u001b[38;5;28;43menumerate\u001b[39;49m\u001b[43m(\u001b[49m\u001b[43mcandidate_params\u001b[49m\u001b[43m)\u001b[49m\u001b[43m,\u001b[49m\u001b[43m \u001b[49m\u001b[38;5;28;43menumerate\u001b[39;49m\u001b[43m(\u001b[49m\u001b[43mcv\u001b[49m\u001b[38;5;241;43m.\u001b[39;49m\u001b[43msplit\u001b[49m\u001b[43m(\u001b[49m\u001b[43mX\u001b[49m\u001b[43m,\u001b[49m\u001b[43m \u001b[49m\u001b[43my\u001b[49m\u001b[43m,\u001b[49m\u001b[43m \u001b[49m\u001b[43mgroups\u001b[49m\u001b[43m)\u001b[49m\u001b[43m)\u001b[49m\n\u001b[1;32m    852\u001b[0m \u001b[43m    \u001b[49m\u001b[43m)\u001b[49m\n\u001b[1;32m    853\u001b[0m \u001b[43m\u001b[49m\u001b[43m)\u001b[49m\n\u001b[1;32m    855\u001b[0m \u001b[38;5;28;01mif\u001b[39;00m \u001b[38;5;28mlen\u001b[39m(out) \u001b[38;5;241m<\u001b[39m \u001b[38;5;241m1\u001b[39m:\n\u001b[1;32m    856\u001b[0m     \u001b[38;5;28;01mraise\u001b[39;00m \u001b[38;5;167;01mValueError\u001b[39;00m(\n\u001b[1;32m    857\u001b[0m         \u001b[38;5;124m\"\u001b[39m\u001b[38;5;124mNo fits were performed. \u001b[39m\u001b[38;5;124m\"\u001b[39m\n\u001b[1;32m    858\u001b[0m         \u001b[38;5;124m\"\u001b[39m\u001b[38;5;124mWas the CV iterator empty? \u001b[39m\u001b[38;5;124m\"\u001b[39m\n\u001b[1;32m    859\u001b[0m         \u001b[38;5;124m\"\u001b[39m\u001b[38;5;124mWere there no candidates?\u001b[39m\u001b[38;5;124m\"\u001b[39m\n\u001b[1;32m    860\u001b[0m     )\n",
      "File \u001b[0;32m~/opt/anaconda3/lib/python3.9/site-packages/joblib/parallel.py:1046\u001b[0m, in \u001b[0;36mParallel.__call__\u001b[0;34m(self, iterable)\u001b[0m\n\u001b[1;32m   1043\u001b[0m \u001b[38;5;28;01mif\u001b[39;00m \u001b[38;5;28mself\u001b[39m\u001b[38;5;241m.\u001b[39mdispatch_one_batch(iterator):\n\u001b[1;32m   1044\u001b[0m     \u001b[38;5;28mself\u001b[39m\u001b[38;5;241m.\u001b[39m_iterating \u001b[38;5;241m=\u001b[39m \u001b[38;5;28mself\u001b[39m\u001b[38;5;241m.\u001b[39m_original_iterator \u001b[38;5;129;01mis\u001b[39;00m \u001b[38;5;129;01mnot\u001b[39;00m \u001b[38;5;28;01mNone\u001b[39;00m\n\u001b[0;32m-> 1046\u001b[0m \u001b[38;5;28;01mwhile\u001b[39;00m \u001b[38;5;28;43mself\u001b[39;49m\u001b[38;5;241;43m.\u001b[39;49m\u001b[43mdispatch_one_batch\u001b[49m\u001b[43m(\u001b[49m\u001b[43miterator\u001b[49m\u001b[43m)\u001b[49m:\n\u001b[1;32m   1047\u001b[0m     \u001b[38;5;28;01mpass\u001b[39;00m\n\u001b[1;32m   1049\u001b[0m \u001b[38;5;28;01mif\u001b[39;00m pre_dispatch \u001b[38;5;241m==\u001b[39m \u001b[38;5;124m\"\u001b[39m\u001b[38;5;124mall\u001b[39m\u001b[38;5;124m\"\u001b[39m \u001b[38;5;129;01mor\u001b[39;00m n_jobs \u001b[38;5;241m==\u001b[39m \u001b[38;5;241m1\u001b[39m:\n\u001b[1;32m   1050\u001b[0m     \u001b[38;5;66;03m# The iterable was consumed all at once by the above for loop.\u001b[39;00m\n\u001b[1;32m   1051\u001b[0m     \u001b[38;5;66;03m# No need to wait for async callbacks to trigger to\u001b[39;00m\n\u001b[1;32m   1052\u001b[0m     \u001b[38;5;66;03m# consumption.\u001b[39;00m\n",
      "File \u001b[0;32m~/opt/anaconda3/lib/python3.9/site-packages/joblib/parallel.py:861\u001b[0m, in \u001b[0;36mParallel.dispatch_one_batch\u001b[0;34m(self, iterator)\u001b[0m\n\u001b[1;32m    859\u001b[0m     \u001b[38;5;28;01mreturn\u001b[39;00m \u001b[38;5;28;01mFalse\u001b[39;00m\n\u001b[1;32m    860\u001b[0m \u001b[38;5;28;01melse\u001b[39;00m:\n\u001b[0;32m--> 861\u001b[0m     \u001b[38;5;28;43mself\u001b[39;49m\u001b[38;5;241;43m.\u001b[39;49m\u001b[43m_dispatch\u001b[49m\u001b[43m(\u001b[49m\u001b[43mtasks\u001b[49m\u001b[43m)\u001b[49m\n\u001b[1;32m    862\u001b[0m     \u001b[38;5;28;01mreturn\u001b[39;00m \u001b[38;5;28;01mTrue\u001b[39;00m\n",
      "File \u001b[0;32m~/opt/anaconda3/lib/python3.9/site-packages/joblib/parallel.py:779\u001b[0m, in \u001b[0;36mParallel._dispatch\u001b[0;34m(self, batch)\u001b[0m\n\u001b[1;32m    777\u001b[0m \u001b[38;5;28;01mwith\u001b[39;00m \u001b[38;5;28mself\u001b[39m\u001b[38;5;241m.\u001b[39m_lock:\n\u001b[1;32m    778\u001b[0m     job_idx \u001b[38;5;241m=\u001b[39m \u001b[38;5;28mlen\u001b[39m(\u001b[38;5;28mself\u001b[39m\u001b[38;5;241m.\u001b[39m_jobs)\n\u001b[0;32m--> 779\u001b[0m     job \u001b[38;5;241m=\u001b[39m \u001b[38;5;28;43mself\u001b[39;49m\u001b[38;5;241;43m.\u001b[39;49m\u001b[43m_backend\u001b[49m\u001b[38;5;241;43m.\u001b[39;49m\u001b[43mapply_async\u001b[49m\u001b[43m(\u001b[49m\u001b[43mbatch\u001b[49m\u001b[43m,\u001b[49m\u001b[43m \u001b[49m\u001b[43mcallback\u001b[49m\u001b[38;5;241;43m=\u001b[39;49m\u001b[43mcb\u001b[49m\u001b[43m)\u001b[49m\n\u001b[1;32m    780\u001b[0m     \u001b[38;5;66;03m# A job can complete so quickly than its callback is\u001b[39;00m\n\u001b[1;32m    781\u001b[0m     \u001b[38;5;66;03m# called before we get here, causing self._jobs to\u001b[39;00m\n\u001b[1;32m    782\u001b[0m     \u001b[38;5;66;03m# grow. To ensure correct results ordering, .insert is\u001b[39;00m\n\u001b[1;32m    783\u001b[0m     \u001b[38;5;66;03m# used (rather than .append) in the following line\u001b[39;00m\n\u001b[1;32m    784\u001b[0m     \u001b[38;5;28mself\u001b[39m\u001b[38;5;241m.\u001b[39m_jobs\u001b[38;5;241m.\u001b[39minsert(job_idx, job)\n",
      "File \u001b[0;32m~/opt/anaconda3/lib/python3.9/site-packages/joblib/_parallel_backends.py:208\u001b[0m, in \u001b[0;36mSequentialBackend.apply_async\u001b[0;34m(self, func, callback)\u001b[0m\n\u001b[1;32m    206\u001b[0m \u001b[38;5;28;01mdef\u001b[39;00m \u001b[38;5;21mapply_async\u001b[39m(\u001b[38;5;28mself\u001b[39m, func, callback\u001b[38;5;241m=\u001b[39m\u001b[38;5;28;01mNone\u001b[39;00m):\n\u001b[1;32m    207\u001b[0m     \u001b[38;5;124;03m\"\"\"Schedule a func to be run\"\"\"\u001b[39;00m\n\u001b[0;32m--> 208\u001b[0m     result \u001b[38;5;241m=\u001b[39m \u001b[43mImmediateResult\u001b[49m\u001b[43m(\u001b[49m\u001b[43mfunc\u001b[49m\u001b[43m)\u001b[49m\n\u001b[1;32m    209\u001b[0m     \u001b[38;5;28;01mif\u001b[39;00m callback:\n\u001b[1;32m    210\u001b[0m         callback(result)\n",
      "File \u001b[0;32m~/opt/anaconda3/lib/python3.9/site-packages/joblib/_parallel_backends.py:572\u001b[0m, in \u001b[0;36mImmediateResult.__init__\u001b[0;34m(self, batch)\u001b[0m\n\u001b[1;32m    569\u001b[0m \u001b[38;5;28;01mdef\u001b[39;00m \u001b[38;5;21m__init__\u001b[39m(\u001b[38;5;28mself\u001b[39m, batch):\n\u001b[1;32m    570\u001b[0m     \u001b[38;5;66;03m# Don't delay the application, to avoid keeping the input\u001b[39;00m\n\u001b[1;32m    571\u001b[0m     \u001b[38;5;66;03m# arguments in memory\u001b[39;00m\n\u001b[0;32m--> 572\u001b[0m     \u001b[38;5;28mself\u001b[39m\u001b[38;5;241m.\u001b[39mresults \u001b[38;5;241m=\u001b[39m \u001b[43mbatch\u001b[49m\u001b[43m(\u001b[49m\u001b[43m)\u001b[49m\n",
      "File \u001b[0;32m~/opt/anaconda3/lib/python3.9/site-packages/joblib/parallel.py:262\u001b[0m, in \u001b[0;36mBatchedCalls.__call__\u001b[0;34m(self)\u001b[0m\n\u001b[1;32m    258\u001b[0m \u001b[38;5;28;01mdef\u001b[39;00m \u001b[38;5;21m__call__\u001b[39m(\u001b[38;5;28mself\u001b[39m):\n\u001b[1;32m    259\u001b[0m     \u001b[38;5;66;03m# Set the default nested backend to self._backend but do not set the\u001b[39;00m\n\u001b[1;32m    260\u001b[0m     \u001b[38;5;66;03m# change the default number of processes to -1\u001b[39;00m\n\u001b[1;32m    261\u001b[0m     \u001b[38;5;28;01mwith\u001b[39;00m parallel_backend(\u001b[38;5;28mself\u001b[39m\u001b[38;5;241m.\u001b[39m_backend, n_jobs\u001b[38;5;241m=\u001b[39m\u001b[38;5;28mself\u001b[39m\u001b[38;5;241m.\u001b[39m_n_jobs):\n\u001b[0;32m--> 262\u001b[0m         \u001b[38;5;28;01mreturn\u001b[39;00m [func(\u001b[38;5;241m*\u001b[39margs, \u001b[38;5;241m*\u001b[39m\u001b[38;5;241m*\u001b[39mkwargs)\n\u001b[1;32m    263\u001b[0m                 \u001b[38;5;28;01mfor\u001b[39;00m func, args, kwargs \u001b[38;5;129;01min\u001b[39;00m \u001b[38;5;28mself\u001b[39m\u001b[38;5;241m.\u001b[39mitems]\n",
      "File \u001b[0;32m~/opt/anaconda3/lib/python3.9/site-packages/joblib/parallel.py:262\u001b[0m, in \u001b[0;36m<listcomp>\u001b[0;34m(.0)\u001b[0m\n\u001b[1;32m    258\u001b[0m \u001b[38;5;28;01mdef\u001b[39;00m \u001b[38;5;21m__call__\u001b[39m(\u001b[38;5;28mself\u001b[39m):\n\u001b[1;32m    259\u001b[0m     \u001b[38;5;66;03m# Set the default nested backend to self._backend but do not set the\u001b[39;00m\n\u001b[1;32m    260\u001b[0m     \u001b[38;5;66;03m# change the default number of processes to -1\u001b[39;00m\n\u001b[1;32m    261\u001b[0m     \u001b[38;5;28;01mwith\u001b[39;00m parallel_backend(\u001b[38;5;28mself\u001b[39m\u001b[38;5;241m.\u001b[39m_backend, n_jobs\u001b[38;5;241m=\u001b[39m\u001b[38;5;28mself\u001b[39m\u001b[38;5;241m.\u001b[39m_n_jobs):\n\u001b[0;32m--> 262\u001b[0m         \u001b[38;5;28;01mreturn\u001b[39;00m [\u001b[43mfunc\u001b[49m\u001b[43m(\u001b[49m\u001b[38;5;241;43m*\u001b[39;49m\u001b[43margs\u001b[49m\u001b[43m,\u001b[49m\u001b[43m \u001b[49m\u001b[38;5;241;43m*\u001b[39;49m\u001b[38;5;241;43m*\u001b[39;49m\u001b[43mkwargs\u001b[49m\u001b[43m)\u001b[49m\n\u001b[1;32m    263\u001b[0m                 \u001b[38;5;28;01mfor\u001b[39;00m func, args, kwargs \u001b[38;5;129;01min\u001b[39;00m \u001b[38;5;28mself\u001b[39m\u001b[38;5;241m.\u001b[39mitems]\n",
      "File \u001b[0;32m~/opt/anaconda3/lib/python3.9/site-packages/sklearn/utils/fixes.py:216\u001b[0m, in \u001b[0;36m_FuncWrapper.__call__\u001b[0;34m(self, *args, **kwargs)\u001b[0m\n\u001b[1;32m    214\u001b[0m \u001b[38;5;28;01mdef\u001b[39;00m \u001b[38;5;21m__call__\u001b[39m(\u001b[38;5;28mself\u001b[39m, \u001b[38;5;241m*\u001b[39margs, \u001b[38;5;241m*\u001b[39m\u001b[38;5;241m*\u001b[39mkwargs):\n\u001b[1;32m    215\u001b[0m     \u001b[38;5;28;01mwith\u001b[39;00m config_context(\u001b[38;5;241m*\u001b[39m\u001b[38;5;241m*\u001b[39m\u001b[38;5;28mself\u001b[39m\u001b[38;5;241m.\u001b[39mconfig):\n\u001b[0;32m--> 216\u001b[0m         \u001b[38;5;28;01mreturn\u001b[39;00m \u001b[38;5;28;43mself\u001b[39;49m\u001b[38;5;241;43m.\u001b[39;49m\u001b[43mfunction\u001b[49m\u001b[43m(\u001b[49m\u001b[38;5;241;43m*\u001b[39;49m\u001b[43margs\u001b[49m\u001b[43m,\u001b[49m\u001b[43m \u001b[49m\u001b[38;5;241;43m*\u001b[39;49m\u001b[38;5;241;43m*\u001b[39;49m\u001b[43mkwargs\u001b[49m\u001b[43m)\u001b[49m\n",
      "File \u001b[0;32m~/opt/anaconda3/lib/python3.9/site-packages/sklearn/model_selection/_validation.py:702\u001b[0m, in \u001b[0;36m_fit_and_score\u001b[0;34m(estimator, X, y, scorer, train, test, verbose, parameters, fit_params, return_train_score, return_parameters, return_n_test_samples, return_times, return_estimator, split_progress, candidate_progress, error_score)\u001b[0m\n\u001b[1;32m    699\u001b[0m result[\u001b[38;5;124m\"\u001b[39m\u001b[38;5;124mfit_error\u001b[39m\u001b[38;5;124m\"\u001b[39m] \u001b[38;5;241m=\u001b[39m \u001b[38;5;28;01mNone\u001b[39;00m\n\u001b[1;32m    701\u001b[0m fit_time \u001b[38;5;241m=\u001b[39m time\u001b[38;5;241m.\u001b[39mtime() \u001b[38;5;241m-\u001b[39m start_time\n\u001b[0;32m--> 702\u001b[0m test_scores \u001b[38;5;241m=\u001b[39m \u001b[43m_score\u001b[49m\u001b[43m(\u001b[49m\u001b[43mestimator\u001b[49m\u001b[43m,\u001b[49m\u001b[43m \u001b[49m\u001b[43mX_test\u001b[49m\u001b[43m,\u001b[49m\u001b[43m \u001b[49m\u001b[43my_test\u001b[49m\u001b[43m,\u001b[49m\u001b[43m \u001b[49m\u001b[43mscorer\u001b[49m\u001b[43m,\u001b[49m\u001b[43m \u001b[49m\u001b[43merror_score\u001b[49m\u001b[43m)\u001b[49m\n\u001b[1;32m    703\u001b[0m score_time \u001b[38;5;241m=\u001b[39m time\u001b[38;5;241m.\u001b[39mtime() \u001b[38;5;241m-\u001b[39m start_time \u001b[38;5;241m-\u001b[39m fit_time\n\u001b[1;32m    704\u001b[0m \u001b[38;5;28;01mif\u001b[39;00m return_train_score:\n",
      "File \u001b[0;32m~/opt/anaconda3/lib/python3.9/site-packages/sklearn/model_selection/_validation.py:761\u001b[0m, in \u001b[0;36m_score\u001b[0;34m(estimator, X_test, y_test, scorer, error_score)\u001b[0m\n\u001b[1;32m    759\u001b[0m         scores \u001b[38;5;241m=\u001b[39m scorer(estimator, X_test)\n\u001b[1;32m    760\u001b[0m     \u001b[38;5;28;01melse\u001b[39;00m:\n\u001b[0;32m--> 761\u001b[0m         scores \u001b[38;5;241m=\u001b[39m \u001b[43mscorer\u001b[49m\u001b[43m(\u001b[49m\u001b[43mestimator\u001b[49m\u001b[43m,\u001b[49m\u001b[43m \u001b[49m\u001b[43mX_test\u001b[49m\u001b[43m,\u001b[49m\u001b[43m \u001b[49m\u001b[43my_test\u001b[49m\u001b[43m)\u001b[49m\n\u001b[1;32m    762\u001b[0m \u001b[38;5;28;01mexcept\u001b[39;00m \u001b[38;5;167;01mException\u001b[39;00m:\n\u001b[1;32m    763\u001b[0m     \u001b[38;5;28;01mif\u001b[39;00m error_score \u001b[38;5;241m==\u001b[39m \u001b[38;5;124m\"\u001b[39m\u001b[38;5;124mraise\u001b[39m\u001b[38;5;124m\"\u001b[39m:\n",
      "File \u001b[0;32m~/opt/anaconda3/lib/python3.9/site-packages/sklearn/metrics/_scorer.py:216\u001b[0m, in \u001b[0;36m_BaseScorer.__call__\u001b[0;34m(self, estimator, X, y_true, sample_weight)\u001b[0m\n\u001b[1;32m    193\u001b[0m \u001b[38;5;28;01mdef\u001b[39;00m \u001b[38;5;21m__call__\u001b[39m(\u001b[38;5;28mself\u001b[39m, estimator, X, y_true, sample_weight\u001b[38;5;241m=\u001b[39m\u001b[38;5;28;01mNone\u001b[39;00m):\n\u001b[1;32m    194\u001b[0m     \u001b[38;5;124;03m\"\"\"Evaluate predicted target values for X relative to y_true.\u001b[39;00m\n\u001b[1;32m    195\u001b[0m \n\u001b[1;32m    196\u001b[0m \u001b[38;5;124;03m    Parameters\u001b[39;00m\n\u001b[0;32m   (...)\u001b[0m\n\u001b[1;32m    214\u001b[0m \u001b[38;5;124;03m        Score function applied to prediction of estimator on X.\u001b[39;00m\n\u001b[1;32m    215\u001b[0m \u001b[38;5;124;03m    \"\"\"\u001b[39;00m\n\u001b[0;32m--> 216\u001b[0m     \u001b[38;5;28;01mreturn\u001b[39;00m \u001b[38;5;28;43mself\u001b[39;49m\u001b[38;5;241;43m.\u001b[39;49m\u001b[43m_score\u001b[49m\u001b[43m(\u001b[49m\n\u001b[1;32m    217\u001b[0m \u001b[43m        \u001b[49m\u001b[43mpartial\u001b[49m\u001b[43m(\u001b[49m\u001b[43m_cached_call\u001b[49m\u001b[43m,\u001b[49m\u001b[43m \u001b[49m\u001b[38;5;28;43;01mNone\u001b[39;49;00m\u001b[43m)\u001b[49m\u001b[43m,\u001b[49m\n\u001b[1;32m    218\u001b[0m \u001b[43m        \u001b[49m\u001b[43mestimator\u001b[49m\u001b[43m,\u001b[49m\n\u001b[1;32m    219\u001b[0m \u001b[43m        \u001b[49m\u001b[43mX\u001b[49m\u001b[43m,\u001b[49m\n\u001b[1;32m    220\u001b[0m \u001b[43m        \u001b[49m\u001b[43my_true\u001b[49m\u001b[43m,\u001b[49m\n\u001b[1;32m    221\u001b[0m \u001b[43m        \u001b[49m\u001b[43msample_weight\u001b[49m\u001b[38;5;241;43m=\u001b[39;49m\u001b[43msample_weight\u001b[49m\u001b[43m,\u001b[49m\n\u001b[1;32m    222\u001b[0m \u001b[43m    \u001b[49m\u001b[43m)\u001b[49m\n",
      "File \u001b[0;32m~/opt/anaconda3/lib/python3.9/site-packages/sklearn/metrics/_scorer.py:258\u001b[0m, in \u001b[0;36m_PredictScorer._score\u001b[0;34m(self, method_caller, estimator, X, y_true, sample_weight)\u001b[0m\n\u001b[1;32m    230\u001b[0m \u001b[38;5;28;01mdef\u001b[39;00m \u001b[38;5;21m_score\u001b[39m(\u001b[38;5;28mself\u001b[39m, method_caller, estimator, X, y_true, sample_weight\u001b[38;5;241m=\u001b[39m\u001b[38;5;28;01mNone\u001b[39;00m):\n\u001b[1;32m    231\u001b[0m     \u001b[38;5;124;03m\"\"\"Evaluate predicted target values for X relative to y_true.\u001b[39;00m\n\u001b[1;32m    232\u001b[0m \n\u001b[1;32m    233\u001b[0m \u001b[38;5;124;03m    Parameters\u001b[39;00m\n\u001b[0;32m   (...)\u001b[0m\n\u001b[1;32m    255\u001b[0m \u001b[38;5;124;03m        Score function applied to prediction of estimator on X.\u001b[39;00m\n\u001b[1;32m    256\u001b[0m \u001b[38;5;124;03m    \"\"\"\u001b[39;00m\n\u001b[0;32m--> 258\u001b[0m     y_pred \u001b[38;5;241m=\u001b[39m \u001b[43mmethod_caller\u001b[49m\u001b[43m(\u001b[49m\u001b[43mestimator\u001b[49m\u001b[43m,\u001b[49m\u001b[43m \u001b[49m\u001b[38;5;124;43m\"\u001b[39;49m\u001b[38;5;124;43mpredict\u001b[39;49m\u001b[38;5;124;43m\"\u001b[39;49m\u001b[43m,\u001b[49m\u001b[43m \u001b[49m\u001b[43mX\u001b[49m\u001b[43m)\u001b[49m\n\u001b[1;32m    259\u001b[0m     \u001b[38;5;28;01mif\u001b[39;00m sample_weight \u001b[38;5;129;01mis\u001b[39;00m \u001b[38;5;129;01mnot\u001b[39;00m \u001b[38;5;28;01mNone\u001b[39;00m:\n\u001b[1;32m    260\u001b[0m         \u001b[38;5;28;01mreturn\u001b[39;00m \u001b[38;5;28mself\u001b[39m\u001b[38;5;241m.\u001b[39m_sign \u001b[38;5;241m*\u001b[39m \u001b[38;5;28mself\u001b[39m\u001b[38;5;241m.\u001b[39m_score_func(\n\u001b[1;32m    261\u001b[0m             y_true, y_pred, sample_weight\u001b[38;5;241m=\u001b[39msample_weight, \u001b[38;5;241m*\u001b[39m\u001b[38;5;241m*\u001b[39m\u001b[38;5;28mself\u001b[39m\u001b[38;5;241m.\u001b[39m_kwargs\n\u001b[1;32m    262\u001b[0m         )\n",
      "File \u001b[0;32m~/opt/anaconda3/lib/python3.9/site-packages/sklearn/metrics/_scorer.py:68\u001b[0m, in \u001b[0;36m_cached_call\u001b[0;34m(cache, estimator, method, *args, **kwargs)\u001b[0m\n\u001b[1;32m     66\u001b[0m \u001b[38;5;124;03m\"\"\"Call estimator with method and args and kwargs.\"\"\"\u001b[39;00m\n\u001b[1;32m     67\u001b[0m \u001b[38;5;28;01mif\u001b[39;00m cache \u001b[38;5;129;01mis\u001b[39;00m \u001b[38;5;28;01mNone\u001b[39;00m:\n\u001b[0;32m---> 68\u001b[0m     \u001b[38;5;28;01mreturn\u001b[39;00m \u001b[38;5;28;43mgetattr\u001b[39;49m\u001b[43m(\u001b[49m\u001b[43mestimator\u001b[49m\u001b[43m,\u001b[49m\u001b[43m \u001b[49m\u001b[43mmethod\u001b[49m\u001b[43m)\u001b[49m\u001b[43m(\u001b[49m\u001b[38;5;241;43m*\u001b[39;49m\u001b[43margs\u001b[49m\u001b[43m,\u001b[49m\u001b[43m \u001b[49m\u001b[38;5;241;43m*\u001b[39;49m\u001b[38;5;241;43m*\u001b[39;49m\u001b[43mkwargs\u001b[49m\u001b[43m)\u001b[49m\n\u001b[1;32m     70\u001b[0m \u001b[38;5;28;01mtry\u001b[39;00m:\n\u001b[1;32m     71\u001b[0m     \u001b[38;5;28;01mreturn\u001b[39;00m cache[method]\n",
      "File \u001b[0;32m~/opt/anaconda3/lib/python3.9/site-packages/sklearn/svm/_base.py:416\u001b[0m, in \u001b[0;36mBaseLibSVM.predict\u001b[0;34m(self, X)\u001b[0m\n\u001b[1;32m    414\u001b[0m X \u001b[38;5;241m=\u001b[39m \u001b[38;5;28mself\u001b[39m\u001b[38;5;241m.\u001b[39m_validate_for_predict(X)\n\u001b[1;32m    415\u001b[0m predict \u001b[38;5;241m=\u001b[39m \u001b[38;5;28mself\u001b[39m\u001b[38;5;241m.\u001b[39m_sparse_predict \u001b[38;5;28;01mif\u001b[39;00m \u001b[38;5;28mself\u001b[39m\u001b[38;5;241m.\u001b[39m_sparse \u001b[38;5;28;01melse\u001b[39;00m \u001b[38;5;28mself\u001b[39m\u001b[38;5;241m.\u001b[39m_dense_predict\n\u001b[0;32m--> 416\u001b[0m \u001b[38;5;28;01mreturn\u001b[39;00m \u001b[43mpredict\u001b[49m\u001b[43m(\u001b[49m\u001b[43mX\u001b[49m\u001b[43m)\u001b[49m\n",
      "File \u001b[0;32m~/opt/anaconda3/lib/python3.9/site-packages/sklearn/svm/_base.py:435\u001b[0m, in \u001b[0;36mBaseLibSVM._dense_predict\u001b[0;34m(self, X)\u001b[0m\n\u001b[1;32m    427\u001b[0m         \u001b[38;5;28;01mraise\u001b[39;00m \u001b[38;5;167;01mValueError\u001b[39;00m(\n\u001b[1;32m    428\u001b[0m             \u001b[38;5;124m\"\u001b[39m\u001b[38;5;124mX.shape[1] = \u001b[39m\u001b[38;5;132;01m%d\u001b[39;00m\u001b[38;5;124m should be equal to \u001b[39m\u001b[38;5;132;01m%d\u001b[39;00m\u001b[38;5;124m, \u001b[39m\u001b[38;5;124m\"\u001b[39m\n\u001b[1;32m    429\u001b[0m             \u001b[38;5;124m\"\u001b[39m\u001b[38;5;124mthe number of samples at training time\u001b[39m\u001b[38;5;124m\"\u001b[39m\n\u001b[1;32m    430\u001b[0m             \u001b[38;5;241m%\u001b[39m (X\u001b[38;5;241m.\u001b[39mshape[\u001b[38;5;241m1\u001b[39m], \u001b[38;5;28mself\u001b[39m\u001b[38;5;241m.\u001b[39mshape_fit_[\u001b[38;5;241m0\u001b[39m])\n\u001b[1;32m    431\u001b[0m         )\n\u001b[1;32m    433\u001b[0m svm_type \u001b[38;5;241m=\u001b[39m LIBSVM_IMPL\u001b[38;5;241m.\u001b[39mindex(\u001b[38;5;28mself\u001b[39m\u001b[38;5;241m.\u001b[39m_impl)\n\u001b[0;32m--> 435\u001b[0m \u001b[38;5;28;01mreturn\u001b[39;00m \u001b[43mlibsvm\u001b[49m\u001b[38;5;241;43m.\u001b[39;49m\u001b[43mpredict\u001b[49m\u001b[43m(\u001b[49m\n\u001b[1;32m    436\u001b[0m \u001b[43m    \u001b[49m\u001b[43mX\u001b[49m\u001b[43m,\u001b[49m\n\u001b[1;32m    437\u001b[0m \u001b[43m    \u001b[49m\u001b[38;5;28;43mself\u001b[39;49m\u001b[38;5;241;43m.\u001b[39;49m\u001b[43msupport_\u001b[49m\u001b[43m,\u001b[49m\n\u001b[1;32m    438\u001b[0m \u001b[43m    \u001b[49m\u001b[38;5;28;43mself\u001b[39;49m\u001b[38;5;241;43m.\u001b[39;49m\u001b[43msupport_vectors_\u001b[49m\u001b[43m,\u001b[49m\n\u001b[1;32m    439\u001b[0m \u001b[43m    \u001b[49m\u001b[38;5;28;43mself\u001b[39;49m\u001b[38;5;241;43m.\u001b[39;49m\u001b[43m_n_support\u001b[49m\u001b[43m,\u001b[49m\n\u001b[1;32m    440\u001b[0m \u001b[43m    \u001b[49m\u001b[38;5;28;43mself\u001b[39;49m\u001b[38;5;241;43m.\u001b[39;49m\u001b[43m_dual_coef_\u001b[49m\u001b[43m,\u001b[49m\n\u001b[1;32m    441\u001b[0m \u001b[43m    \u001b[49m\u001b[38;5;28;43mself\u001b[39;49m\u001b[38;5;241;43m.\u001b[39;49m\u001b[43m_intercept_\u001b[49m\u001b[43m,\u001b[49m\n\u001b[1;32m    442\u001b[0m \u001b[43m    \u001b[49m\u001b[38;5;28;43mself\u001b[39;49m\u001b[38;5;241;43m.\u001b[39;49m\u001b[43m_probA\u001b[49m\u001b[43m,\u001b[49m\n\u001b[1;32m    443\u001b[0m \u001b[43m    \u001b[49m\u001b[38;5;28;43mself\u001b[39;49m\u001b[38;5;241;43m.\u001b[39;49m\u001b[43m_probB\u001b[49m\u001b[43m,\u001b[49m\n\u001b[1;32m    444\u001b[0m \u001b[43m    \u001b[49m\u001b[43msvm_type\u001b[49m\u001b[38;5;241;43m=\u001b[39;49m\u001b[43msvm_type\u001b[49m\u001b[43m,\u001b[49m\n\u001b[1;32m    445\u001b[0m \u001b[43m    \u001b[49m\u001b[43mkernel\u001b[49m\u001b[38;5;241;43m=\u001b[39;49m\u001b[43mkernel\u001b[49m\u001b[43m,\u001b[49m\n\u001b[1;32m    446\u001b[0m \u001b[43m    \u001b[49m\u001b[43mdegree\u001b[49m\u001b[38;5;241;43m=\u001b[39;49m\u001b[38;5;28;43mself\u001b[39;49m\u001b[38;5;241;43m.\u001b[39;49m\u001b[43mdegree\u001b[49m\u001b[43m,\u001b[49m\n\u001b[1;32m    447\u001b[0m \u001b[43m    \u001b[49m\u001b[43mcoef0\u001b[49m\u001b[38;5;241;43m=\u001b[39;49m\u001b[38;5;28;43mself\u001b[39;49m\u001b[38;5;241;43m.\u001b[39;49m\u001b[43mcoef0\u001b[49m\u001b[43m,\u001b[49m\n\u001b[1;32m    448\u001b[0m \u001b[43m    \u001b[49m\u001b[43mgamma\u001b[49m\u001b[38;5;241;43m=\u001b[39;49m\u001b[38;5;28;43mself\u001b[39;49m\u001b[38;5;241;43m.\u001b[39;49m\u001b[43m_gamma\u001b[49m\u001b[43m,\u001b[49m\n\u001b[1;32m    449\u001b[0m \u001b[43m    \u001b[49m\u001b[43mcache_size\u001b[49m\u001b[38;5;241;43m=\u001b[39;49m\u001b[38;5;28;43mself\u001b[39;49m\u001b[38;5;241;43m.\u001b[39;49m\u001b[43mcache_size\u001b[49m\u001b[43m,\u001b[49m\n\u001b[1;32m    450\u001b[0m \u001b[43m\u001b[49m\u001b[43m)\u001b[49m\n",
      "\u001b[0;31mKeyboardInterrupt\u001b[0m: "
     ]
    }
   ],
   "source": [
    "# Takes too long\n",
    "grid_svr_model.fit(scaled_X_train,y_train)"
   ]
  },
  {
   "cell_type": "code",
   "execution_count": 237,
   "id": "9d31c0e4-b6f1-4baf-9f8e-681f18df30ae",
   "metadata": {},
   "outputs": [],
   "source": [
    "y_pred = grid_svr_model.predict(scaled_X_test)"
   ]
  },
  {
   "cell_type": "code",
   "execution_count": 252,
   "id": "284f1fb9-d83e-4118-90e9-c4f3ce1e4013",
   "metadata": {},
   "outputs": [],
   "source": [
    "#np.sqrt(mean_squared_error(y_test, y_pred))"
   ]
  },
  {
   "cell_type": "markdown",
   "id": "50de64bb-e731-48c1-b8a1-5a073107500e",
   "metadata": {
    "tags": []
   },
   "source": [
    "### 5.4. Neural Network (MLP Regressor)"
   ]
  },
  {
   "cell_type": "code",
   "execution_count": 253,
   "id": "b56bba09-6e68-42d1-9725-384fd7dfc9b8",
   "metadata": {},
   "outputs": [],
   "source": [
    "from sklearn.impute import KNNImputer\n",
    "from sklearn.model_selection import train_test_split, GridSearchCV\n",
    "from sklearn.preprocessing import StandardScaler\n",
    "from sklearn.metrics import mean_squared_error\n",
    "\n",
    "from sklearn.linear_model import ElasticNet\n",
    "from sklearn.neighbors import KNeighborsRegressor\n",
    "from sklearn.svm import SVR\n",
    "from sklearn.neural_network import MLPRegressor"
   ]
  },
  {
   "cell_type": "code",
   "execution_count": 254,
   "id": "74ee4e42-b0cf-4dff-96a8-d440482515b5",
   "metadata": {},
   "outputs": [],
   "source": [
    "mlp_model = MLPRegressor()"
   ]
  },
  {
   "cell_type": "code",
   "execution_count": 255,
   "id": "7611474a-7e04-4541-9745-8b7ece54b184",
   "metadata": {},
   "outputs": [
    {
     "name": "stderr",
     "output_type": "stream",
     "text": [
      "/Users/sevdeaydin/opt/anaconda3/lib/python3.9/site-packages/sklearn/neural_network/_multilayer_perceptron.py:692: ConvergenceWarning: Stochastic Optimizer: Maximum iterations (200) reached and the optimization hasn't converged yet.\n",
      "  warnings.warn(\n"
     ]
    },
    {
     "data": {
      "text/plain": [
       "MLPRegressor()"
      ]
     },
     "execution_count": 255,
     "metadata": {},
     "output_type": "execute_result"
    }
   ],
   "source": [
    "mlp_model.fit(scaled_X_train, y_train)"
   ]
  },
  {
   "cell_type": "code",
   "execution_count": 256,
   "id": "a6cce1ca-82d4-423d-aece-c33e61fac959",
   "metadata": {},
   "outputs": [],
   "source": [
    "y_pred = mlp_model.predict(scaled_X_test)"
   ]
  },
  {
   "cell_type": "code",
   "execution_count": 257,
   "id": "abd791f1-3e02-43a1-a8a1-17617897b641",
   "metadata": {},
   "outputs": [
    {
     "data": {
      "text/plain": [
       "2598.478042914616"
      ]
     },
     "execution_count": 257,
     "metadata": {},
     "output_type": "execute_result"
    }
   ],
   "source": [
    "np.sqrt(mean_squared_error(y_test, y_pred))"
   ]
  },
  {
   "cell_type": "code",
   "execution_count": 259,
   "id": "2dc91dc1-0384-4afd-8d89-921b1b45d6b0",
   "metadata": {},
   "outputs": [],
   "source": [
    "param_grid = {'hidden_layer_sizes':[(100,),(100,50,100),(100,100,100,100),(300,100,50)], \n",
    "              'alpha':[0.001,0.0001,0.00001], \n",
    "              'learning_rate':['constant','adaptive'],\n",
    "              'max_iter':[200,400]\n",
    "             }"
   ]
  },
  {
   "cell_type": "code",
   "execution_count": 260,
   "id": "02d25efc-749c-4b23-b2cc-8558d4bf9101",
   "metadata": {},
   "outputs": [],
   "source": [
    "grid_mlp_model = GridSearchCV(mlp_model,param_grid, scoring = \"neg_mean_squared_error\")"
   ]
  },
  {
   "cell_type": "code",
   "execution_count": null,
   "id": "1a220dff-881d-47e3-b25d-714d49546d15",
   "metadata": {},
   "outputs": [],
   "source": [
    "#grid_mlp_model.fit(scaled_X_train,y_train)"
   ]
  },
  {
   "cell_type": "code",
   "execution_count": null,
   "id": "91e12236-0adf-4607-b5ff-15a473835592",
   "metadata": {},
   "outputs": [],
   "source": [
    "grid_mlp_model.best_params_"
   ]
  },
  {
   "cell_type": "code",
   "execution_count": 237,
   "id": "1aecc7e0-5e89-4860-a2ba-7c639495006c",
   "metadata": {},
   "outputs": [],
   "source": [
    "y_pred = grid_mlp_model.predict(scaled_X_test)"
   ]
  },
  {
   "cell_type": "code",
   "execution_count": 263,
   "id": "15ae4d6f-f604-4f59-b1cc-097aa5ed2257",
   "metadata": {},
   "outputs": [],
   "source": [
    "#np.sqrt(mean_squared_error(y_test, y_pred))"
   ]
  },
  {
   "cell_type": "markdown",
   "id": "6a57a10d-d7b9-43ea-9d79-b39882a63c30",
   "metadata": {
    "tags": []
   },
   "source": [
    "### 5.5. DecisionTreeRegressor"
   ]
  },
  {
   "cell_type": "code",
   "execution_count": 264,
   "id": "8555bef1-2d14-4ad2-aa46-d14c7ec888be",
   "metadata": {},
   "outputs": [],
   "source": [
    "from sklearn.impute import KNNImputer\n",
    "from sklearn.model_selection import train_test_split, GridSearchCV\n",
    "from sklearn.preprocessing import StandardScaler\n",
    "from sklearn.metrics import mean_squared_error\n",
    "\n",
    "from sklearn.linear_model import ElasticNet\n",
    "from sklearn.neighbors import KNeighborsRegressor\n",
    "from sklearn.svm import SVR\n",
    "from sklearn.neural_network import MLPRegressor\n",
    "from sklearn.tree import DecisionTreeRegressor"
   ]
  },
  {
   "cell_type": "code",
   "execution_count": 265,
   "id": "722d1c28-e465-445c-be0b-5fcfc6c35e35",
   "metadata": {},
   "outputs": [],
   "source": [
    "dtr_model = DecisionTreeRegressor()"
   ]
  },
  {
   "cell_type": "code",
   "execution_count": 266,
   "id": "8166239f-81b7-4b3f-a4da-fdb309d5f6e9",
   "metadata": {},
   "outputs": [
    {
     "data": {
      "text/plain": [
       "DecisionTreeRegressor()"
      ]
     },
     "execution_count": 266,
     "metadata": {},
     "output_type": "execute_result"
    }
   ],
   "source": [
    "dtr_model.fit(scaled_X_train, y_train)"
   ]
  },
  {
   "cell_type": "code",
   "execution_count": 267,
   "id": "dfd31cef-d0f9-471b-b61c-7522bbb76c13",
   "metadata": {},
   "outputs": [],
   "source": [
    "y_pred = dtr_model.predict(scaled_X_test)"
   ]
  },
  {
   "cell_type": "code",
   "execution_count": 268,
   "id": "428715a2-a176-45cd-b186-6d69e74808fd",
   "metadata": {},
   "outputs": [
    {
     "data": {
      "text/plain": [
       "58.54165085429906"
      ]
     },
     "execution_count": 268,
     "metadata": {},
     "output_type": "execute_result"
    }
   ],
   "source": [
    "np.sqrt(mean_squared_error(y_test, y_pred))"
   ]
  },
  {
   "cell_type": "code",
   "execution_count": 269,
   "id": "731ddeae-92bc-4adb-95b0-4ec0eeed18ed",
   "metadata": {},
   "outputs": [],
   "source": [
    "param_grid = {\"min_samples_split\":range(2,100,10), \n",
    "              \"max_leaf_nodes\":range(2,10,3)\n",
    "             }"
   ]
  },
  {
   "cell_type": "code",
   "execution_count": 270,
   "id": "e7944ca5-7c22-466c-89b2-929fc7785bb5",
   "metadata": {},
   "outputs": [],
   "source": [
    "grid_dtr_model = GridSearchCV(dtr_model,param_grid, scoring = \"neg_mean_squared_error\")"
   ]
  },
  {
   "cell_type": "code",
   "execution_count": 271,
   "id": "6c61cbac-dfd9-475f-b0ac-b5ebef88c07f",
   "metadata": {},
   "outputs": [
    {
     "data": {
      "text/plain": [
       "GridSearchCV(estimator=DecisionTreeRegressor(),\n",
       "             param_grid={'max_leaf_nodes': range(2, 10, 3),\n",
       "                         'min_samples_split': range(2, 100, 10)},\n",
       "             scoring='neg_mean_squared_error')"
      ]
     },
     "execution_count": 271,
     "metadata": {},
     "output_type": "execute_result"
    }
   ],
   "source": [
    "grid_dtr_model.fit(scaled_X_train,y_train)"
   ]
  },
  {
   "cell_type": "code",
   "execution_count": 272,
   "id": "ee97b4c3-e13a-4b7b-8fe2-479f729db687",
   "metadata": {},
   "outputs": [
    {
     "data": {
      "text/plain": [
       "{'max_leaf_nodes': 8, 'min_samples_split': 2}"
      ]
     },
     "execution_count": 272,
     "metadata": {},
     "output_type": "execute_result"
    }
   ],
   "source": [
    "grid_dtr_model.best_params_"
   ]
  },
  {
   "cell_type": "code",
   "execution_count": 273,
   "id": "ee1205a1-4139-4e71-bc52-aca4b8c1c1da",
   "metadata": {},
   "outputs": [],
   "source": [
    "y_pred = grid_dtr_model.predict(scaled_X_test)"
   ]
  },
  {
   "cell_type": "code",
   "execution_count": 274,
   "id": "9349498d-54aa-4863-babf-c853a86810a3",
   "metadata": {},
   "outputs": [
    {
     "data": {
      "text/plain": [
       "136.1467431880056"
      ]
     },
     "execution_count": 274,
     "metadata": {},
     "output_type": "execute_result"
    }
   ],
   "source": [
    "np.sqrt(mean_squared_error(y_test, y_pred))"
   ]
  },
  {
   "cell_type": "markdown",
   "id": "3e7f14dc-410d-4bb1-ab92-9e51a85eb750",
   "metadata": {
    "tags": []
   },
   "source": [
    "### 5.6. Bagging Regressor"
   ]
  },
  {
   "cell_type": "code",
   "execution_count": 275,
   "id": "45c64b54-539b-44e8-bbe9-ef2d3f0f74ab",
   "metadata": {},
   "outputs": [],
   "source": [
    "from sklearn.impute import KNNImputer\n",
    "from sklearn.model_selection import train_test_split, GridSearchCV\n",
    "from sklearn.preprocessing import StandardScaler\n",
    "from sklearn.metrics import mean_squared_error\n",
    "\n",
    "from sklearn.linear_model import ElasticNet\n",
    "from sklearn.neighbors import KNeighborsRegressor\n",
    "from sklearn.svm import SVR\n",
    "from sklearn.neural_network import MLPRegressor\n",
    "from sklearn.tree import DecisionTreeRegressor\n",
    "from sklearn.ensemble import BaggingRegressor"
   ]
  },
  {
   "cell_type": "code",
   "execution_count": 276,
   "id": "b9604efd-7e81-4024-b50f-865a73525fcf",
   "metadata": {},
   "outputs": [],
   "source": [
    "br_model = BaggingRegressor(bootstrap_features = True)"
   ]
  },
  {
   "cell_type": "code",
   "execution_count": 277,
   "id": "3b80e439-dee3-4ab0-aa10-455c90227818",
   "metadata": {},
   "outputs": [
    {
     "data": {
      "text/plain": [
       "BaggingRegressor(bootstrap_features=True)"
      ]
     },
     "execution_count": 277,
     "metadata": {},
     "output_type": "execute_result"
    }
   ],
   "source": [
    "br_model.fit(scaled_X_train, y_train)"
   ]
  },
  {
   "cell_type": "code",
   "execution_count": 278,
   "id": "e9b4197b-271d-43f7-aee4-51e341e01565",
   "metadata": {},
   "outputs": [],
   "source": [
    "y_pred = br_model.predict(scaled_X_test)"
   ]
  },
  {
   "cell_type": "code",
   "execution_count": 279,
   "id": "b434699d-1234-4813-801b-693941b4aced",
   "metadata": {},
   "outputs": [
    {
     "data": {
      "text/plain": [
       "45.97117733303041"
      ]
     },
     "execution_count": 279,
     "metadata": {},
     "output_type": "execute_result"
    }
   ],
   "source": [
    "np.sqrt(mean_squared_error(y_test, y_pred))"
   ]
  },
  {
   "cell_type": "code",
   "execution_count": 259,
   "id": "af354d0a-6e8c-4c03-b467-31937105ca08",
   "metadata": {},
   "outputs": [],
   "source": [
    "param_grid = {\"n_estimators\":[5,10,15]\n",
    "             }"
   ]
  },
  {
   "cell_type": "code",
   "execution_count": 260,
   "id": "14001275-2fd4-4eab-8614-1d0294fb013d",
   "metadata": {},
   "outputs": [],
   "source": [
    "grid_br_model = GridSearchCV(br_model,param_grid, scoring = \"neg_mean_squared_error\")"
   ]
  },
  {
   "cell_type": "code",
   "execution_count": 280,
   "id": "761b4e6b-014f-409b-94ee-2899c4dcb9d8",
   "metadata": {},
   "outputs": [],
   "source": [
    "grid_br_model.fit(scaled_X_train,y_train)"
   ]
  },
  {
   "cell_type": "code",
   "execution_count": null,
   "id": "ec7f3f10-0f91-420d-a5d6-9323d7d6cd26",
   "metadata": {},
   "outputs": [],
   "source": [
    "grid_br_model.best_params_"
   ]
  },
  {
   "cell_type": "code",
   "execution_count": null,
   "id": "d07caa47-dd78-4e64-89a4-a6cc66ea456a",
   "metadata": {},
   "outputs": [],
   "source": [
    "y_pred = grid_br_model.predict(scaled_X_test)"
   ]
  },
  {
   "cell_type": "code",
   "execution_count": null,
   "id": "07dd6e7e-379e-4717-a919-ff1144ffae3d",
   "metadata": {},
   "outputs": [],
   "source": [
    "np.sqrt(mean_squared_error(y_test, y_pred))"
   ]
  },
  {
   "cell_type": "markdown",
   "id": "ad12b707-a20f-4935-9ec5-ec9ea9f01bcc",
   "metadata": {
    "tags": []
   },
   "source": [
    "### 5.7. RandomForestRegressor"
   ]
  },
  {
   "cell_type": "code",
   "execution_count": 281,
   "id": "f5477d66-8532-418e-b689-44932cc57bf8",
   "metadata": {},
   "outputs": [],
   "source": [
    "from sklearn.impute import KNNImputer\n",
    "from sklearn.model_selection import train_test_split, GridSearchCV\n",
    "from sklearn.preprocessing import StandardScaler\n",
    "from sklearn.metrics import mean_squared_error\n",
    "\n",
    "from sklearn.linear_model import ElasticNet\n",
    "from sklearn.neighbors import KNeighborsRegressor\n",
    "from sklearn.svm import SVR\n",
    "from sklearn.neural_network import MLPRegressor\n",
    "from sklearn.tree import DecisionTreeRegressor\n",
    "from sklearn.ensemble import BaggingRegressor, RandomForestRegressor"
   ]
  },
  {
   "cell_type": "code",
   "execution_count": 282,
   "id": "2142fcfd-2433-4dc7-bca1-dcf295c3bdf7",
   "metadata": {},
   "outputs": [],
   "source": [
    "rf_model = RandomForestRegressor()"
   ]
  },
  {
   "cell_type": "code",
   "execution_count": 283,
   "id": "be9f148d-2316-436e-bd9f-cbf8d0adec71",
   "metadata": {},
   "outputs": [
    {
     "data": {
      "text/plain": [
       "RandomForestRegressor()"
      ]
     },
     "execution_count": 283,
     "metadata": {},
     "output_type": "execute_result"
    }
   ],
   "source": [
    "rf_model.fit(scaled_X_train, y_train)"
   ]
  },
  {
   "cell_type": "code",
   "execution_count": 284,
   "id": "db2ef789-1d82-41f2-a1f2-c8de9c67c42d",
   "metadata": {},
   "outputs": [],
   "source": [
    "y_pred = rf_model.predict(scaled_X_test)"
   ]
  },
  {
   "cell_type": "code",
   "execution_count": 285,
   "id": "11cb9d35-05c7-4355-b762-39208e868e72",
   "metadata": {},
   "outputs": [
    {
     "data": {
      "text/plain": [
       "42.689322008756896"
      ]
     },
     "execution_count": 285,
     "metadata": {},
     "output_type": "execute_result"
    }
   ],
   "source": [
    "np.sqrt(mean_squared_error(y_test, y_pred))"
   ]
  },
  {
   "cell_type": "code",
   "execution_count": null,
   "id": "896cc1bb-196a-4e07-bf42-fdfa3ec32664",
   "metadata": {},
   "outputs": [],
   "source": [
    "param_grid = {\"n_estimators\":[500,1000],  \n",
    "              \"max_features\":[10,50,70]\n",
    "             }"
   ]
  },
  {
   "cell_type": "code",
   "execution_count": null,
   "id": "dcf0b8f9-c98e-4fa1-80e1-f66524542322",
   "metadata": {},
   "outputs": [],
   "source": [
    "grid_rf_model = GridSearchCV(rf_model,param_grid, scoring = \"neg_mean_squared_error\")"
   ]
  },
  {
   "cell_type": "code",
   "execution_count": null,
   "id": "c9a293d0-784c-42b1-a479-591ff4695298",
   "metadata": {},
   "outputs": [],
   "source": [
    "grid_rf_model.fit(scaled_X_train,y_train)"
   ]
  },
  {
   "cell_type": "code",
   "execution_count": null,
   "id": "cc42f40e-702a-4d65-a3a9-68cf140553e6",
   "metadata": {},
   "outputs": [],
   "source": [
    "grid_rf_model.best_params_"
   ]
  },
  {
   "cell_type": "code",
   "execution_count": null,
   "id": "f6302da4-d969-44f4-8c01-5fa4455f1171",
   "metadata": {},
   "outputs": [],
   "source": [
    "y_pred = grid_rf_model.predict(scaled_X_test)"
   ]
  },
  {
   "cell_type": "code",
   "execution_count": null,
   "id": "edca60b5-db04-4834-a835-2eb590b16a17",
   "metadata": {},
   "outputs": [],
   "source": [
    "np.sqrt(mean_squared_error(y_test, y_pred))"
   ]
  },
  {
   "cell_type": "markdown",
   "id": "534c13fd-163f-4b79-b17b-0e8301bd21bf",
   "metadata": {
    "tags": []
   },
   "source": [
    "### 5.8. AdaBoost Regressor"
   ]
  },
  {
   "cell_type": "code",
   "execution_count": 286,
   "id": "e6363eff-7b7f-45db-9d96-8adbf157ee48",
   "metadata": {},
   "outputs": [],
   "source": [
    "from sklearn.impute import KNNImputer\n",
    "from sklearn.model_selection import train_test_split, GridSearchCV\n",
    "from sklearn.preprocessing import StandardScaler\n",
    "from sklearn.metrics import mean_squared_error\n",
    "\n",
    "from sklearn.linear_model import ElasticNet\n",
    "from sklearn.neighbors import KNeighborsRegressor\n",
    "from sklearn.svm import SVR\n",
    "from sklearn.neural_network import MLPRegressor\n",
    "from sklearn.tree import DecisionTreeRegressor\n",
    "from sklearn.ensemble import BaggingRegressor, RandomForestRegressor, AdaBoostRegressor"
   ]
  },
  {
   "cell_type": "code",
   "execution_count": 287,
   "id": "de2643be-c643-4e35-92d3-18c09aef25de",
   "metadata": {},
   "outputs": [],
   "source": [
    "ada_model = AdaBoostRegressor()"
   ]
  },
  {
   "cell_type": "code",
   "execution_count": 288,
   "id": "96ddcc49-62c8-4c10-ad9d-9e1c897ebcf0",
   "metadata": {},
   "outputs": [
    {
     "data": {
      "text/plain": [
       "AdaBoostRegressor()"
      ]
     },
     "execution_count": 288,
     "metadata": {},
     "output_type": "execute_result"
    }
   ],
   "source": [
    "ada_model.fit(scaled_X_train, y_train)"
   ]
  },
  {
   "cell_type": "code",
   "execution_count": 289,
   "id": "39d9ae89-c0ee-47df-b0ec-a279aa2b2ebf",
   "metadata": {},
   "outputs": [],
   "source": [
    "y_pred = ada_model.predict(scaled_X_test)"
   ]
  },
  {
   "cell_type": "code",
   "execution_count": 290,
   "id": "8b4ee533-f57b-4efa-b3cc-463453fc43f9",
   "metadata": {},
   "outputs": [
    {
     "data": {
      "text/plain": [
       "179.40520437614256"
      ]
     },
     "execution_count": 290,
     "metadata": {},
     "output_type": "execute_result"
    }
   ],
   "source": [
    "np.sqrt(mean_squared_error(y_test, y_pred))"
   ]
  },
  {
   "cell_type": "code",
   "execution_count": null,
   "id": "d12edbaf-f960-4b74-8f92-1567760c5c85",
   "metadata": {},
   "outputs": [],
   "source": [
    "param_grid = {\"learning_rate\":[0.01,0.02,0.1], \n",
    "              \"n_estimators\":[100,1000,7000], \n",
    "              \"subsample\":[0.9,1.0]\n",
    "              }"
   ]
  },
  {
   "cell_type": "code",
   "execution_count": null,
   "id": "502e2492-5705-44bf-a65a-9bb3cb0624ba",
   "metadata": {},
   "outputs": [],
   "source": [
    "grid_ada_model = GridSearchCV(ada_model,param_grid, scoring = \"neg_mean_squared_error\")"
   ]
  },
  {
   "cell_type": "code",
   "execution_count": null,
   "id": "a76533a6-bb84-4550-9e3b-e46679482de3",
   "metadata": {},
   "outputs": [],
   "source": [
    "grid_ada_model.fit(scaled_X_train,y_train)"
   ]
  },
  {
   "cell_type": "code",
   "execution_count": null,
   "id": "ed5359c6-d4d0-498a-98df-96b968378bbb",
   "metadata": {},
   "outputs": [],
   "source": [
    "grid_ada_model.best_params_"
   ]
  },
  {
   "cell_type": "code",
   "execution_count": null,
   "id": "05dc272f-6cda-41d9-8d89-b0cc9ad83bd8",
   "metadata": {},
   "outputs": [],
   "source": [
    "y_pred = grid_ada_model.predict(scaled_X_test)"
   ]
  },
  {
   "cell_type": "code",
   "execution_count": null,
   "id": "1154d533-a0f3-4146-824a-8820b39da732",
   "metadata": {},
   "outputs": [],
   "source": [
    "np.sqrt(mean_squared_error(y_test, y_pred))"
   ]
  },
  {
   "cell_type": "markdown",
   "id": "060a28f6-ab2f-4443-b468-f2fa34309f01",
   "metadata": {
    "tags": []
   },
   "source": [
    "### 5.9. GradientBoostingRegressor"
   ]
  },
  {
   "cell_type": "code",
   "execution_count": 291,
   "id": "f6e0ad84-b341-4346-afe3-ffa5fd59bbbb",
   "metadata": {},
   "outputs": [],
   "source": [
    "from sklearn.impute import KNNImputer\n",
    "from sklearn.model_selection import train_test_split, GridSearchCV\n",
    "from sklearn.preprocessing import StandardScaler\n",
    "from sklearn.metrics import mean_squared_error\n",
    "\n",
    "from sklearn.linear_model import ElasticNet\n",
    "from sklearn.neighbors import KNeighborsRegressor\n",
    "from sklearn.svm import SVR\n",
    "from sklearn.neural_network import MLPRegressor\n",
    "from sklearn.tree import DecisionTreeRegressor\n",
    "from sklearn.ensemble import BaggingRegressor, RandomForestRegressor, AdaBoostRegressor, GradientBoostingRegressor"
   ]
  },
  {
   "cell_type": "code",
   "execution_count": 292,
   "id": "4c0a30a3-9bc4-48b1-b5f4-f945e4a0c41c",
   "metadata": {},
   "outputs": [],
   "source": [
    "gb_model = GradientBoostingRegressor()"
   ]
  },
  {
   "cell_type": "code",
   "execution_count": 293,
   "id": "9a224600-b339-4ec8-85b1-d88e3609e206",
   "metadata": {},
   "outputs": [
    {
     "data": {
      "text/plain": [
       "GradientBoostingRegressor()"
      ]
     },
     "execution_count": 293,
     "metadata": {},
     "output_type": "execute_result"
    }
   ],
   "source": [
    "gb_model.fit(scaled_X_train, y_train)"
   ]
  },
  {
   "cell_type": "code",
   "execution_count": 294,
   "id": "59f6a5c6-7834-420a-aac7-fb643635a7b3",
   "metadata": {},
   "outputs": [],
   "source": [
    "y_pred = gb_model.predict(scaled_X_test)"
   ]
  },
  {
   "cell_type": "code",
   "execution_count": 295,
   "id": "7ce9f9e6-e454-430e-9b00-d0f64158b9af",
   "metadata": {},
   "outputs": [
    {
     "data": {
      "text/plain": [
       "45.68627684868939"
      ]
     },
     "execution_count": 295,
     "metadata": {},
     "output_type": "execute_result"
    }
   ],
   "source": [
    "np.sqrt(mean_squared_error(y_test, y_pred))"
   ]
  },
  {
   "cell_type": "code",
   "execution_count": null,
   "id": "1e5a1f2a-5a21-49df-8a5c-c2c057c38b59",
   "metadata": {},
   "outputs": [],
   "source": [
    "param_grid = {\"learning_rate\":[0.01,0.02,0.1], \n",
    "              \"n_estimators\":[100,1000,7000], \n",
    "              \"subsample\":[0.9,1.0]\n",
    "              }"
   ]
  },
  {
   "cell_type": "code",
   "execution_count": null,
   "id": "d396bec3-07a8-416a-bbad-0695335f0d4b",
   "metadata": {},
   "outputs": [],
   "source": [
    "grid_gb_model = GridSearchCV(gb_model,param_grid, scoring = \"neg_mean_squared_error\")"
   ]
  },
  {
   "cell_type": "code",
   "execution_count": null,
   "id": "c99b9543-05fc-406d-b3a9-4a433ee30752",
   "metadata": {},
   "outputs": [],
   "source": [
    "grid_gb_model.fit(scaled_X_train,y_train)"
   ]
  },
  {
   "cell_type": "code",
   "execution_count": null,
   "id": "cf38a745-0f7d-4222-b4d2-2c18b55b24bf",
   "metadata": {},
   "outputs": [],
   "source": [
    "grid_gb_model.best_params_"
   ]
  },
  {
   "cell_type": "code",
   "execution_count": null,
   "id": "3b9289a2-8a14-4d7b-8145-a1e073785baa",
   "metadata": {},
   "outputs": [],
   "source": [
    "y_pred = grid_gb_model.predict(scaled_X_test)"
   ]
  },
  {
   "cell_type": "code",
   "execution_count": null,
   "id": "cf7f4a57-4196-4f9c-bdf1-e9deba19f34f",
   "metadata": {},
   "outputs": [],
   "source": [
    "np.sqrt(mean_squared_error(y_test, y_pred))"
   ]
  },
  {
   "cell_type": "markdown",
   "id": "2fc3073a-d08e-4cfd-b925-df0b50f1b951",
   "metadata": {
    "tags": []
   },
   "source": [
    "### 5.10. XGBoost"
   ]
  },
  {
   "cell_type": "code",
   "execution_count": null,
   "id": "25630cba-2dc1-4466-84e6-8309e1eff371",
   "metadata": {},
   "outputs": [],
   "source": [
    "#pip install xgboost"
   ]
  },
  {
   "cell_type": "code",
   "execution_count": 298,
   "id": "6009d62d-47b8-43d8-839c-bbb795b022ae",
   "metadata": {},
   "outputs": [],
   "source": [
    "import xgboost as xgb"
   ]
  },
  {
   "cell_type": "code",
   "execution_count": 300,
   "id": "bb4a0893-0bc9-44a4-8dc1-be24a7ab94f4",
   "metadata": {},
   "outputs": [],
   "source": [
    "from sklearn.impute import KNNImputer\n",
    "from sklearn.model_selection import train_test_split, GridSearchCV\n",
    "from sklearn.preprocessing import StandardScaler\n",
    "from sklearn.metrics import mean_squared_error\n",
    "\n",
    "from sklearn.linear_model import ElasticNet\n",
    "from sklearn.neighbors import KNeighborsRegressor\n",
    "from sklearn.svm import SVR\n",
    "from sklearn.neural_network import MLPRegressor\n",
    "from sklearn.tree import DecisionTreeRegressor\n",
    "from sklearn.ensemble import BaggingRegressor, RandomForestRegressor, AdaBoostRegressor, GradientBoostingRegressor\n",
    "from xgboost import XGBRegressor"
   ]
  },
  {
   "cell_type": "code",
   "execution_count": 301,
   "id": "c0dc2d19-b4ea-4425-a7ba-5751b0cbdae9",
   "metadata": {},
   "outputs": [],
   "source": [
    "xgb_model = XGBRegressor()"
   ]
  },
  {
   "cell_type": "code",
   "execution_count": 314,
   "id": "24a2c030-86ce-42fd-a7b6-b41644e0d27b",
   "metadata": {},
   "outputs": [
    {
     "data": {
      "text/plain": [
       "XGBRegressor(base_score=0.5, booster='gbtree', callbacks=None,\n",
       "             colsample_bylevel=1, colsample_bynode=1, colsample_bytree=1,\n",
       "             early_stopping_rounds=None, enable_categorical=False,\n",
       "             eval_metric=None, gamma=0, gpu_id=-1, grow_policy='depthwise',\n",
       "             importance_type=None, interaction_constraints='',\n",
       "             learning_rate=0.300000012, max_bin=256, max_cat_to_onehot=4,\n",
       "             max_delta_step=0, max_depth=6, max_leaves=0, min_child_weight=1,\n",
       "             missing=nan, monotone_constraints='()', n_estimators=100, n_jobs=0,\n",
       "             num_parallel_tree=1, predictor='auto', random_state=0, reg_alpha=0,\n",
       "             reg_lambda=1, ...)"
      ]
     },
     "execution_count": 314,
     "metadata": {},
     "output_type": "execute_result"
    }
   ],
   "source": [
    "xgb_model.fit(scaled_X_train,y_train)"
   ]
  },
  {
   "cell_type": "code",
   "execution_count": 315,
   "id": "fcb8a1cf-b149-4076-acb4-54899db9c79d",
   "metadata": {},
   "outputs": [],
   "source": [
    "y_pred = xgb_model.predict(scaled_X_test)"
   ]
  },
  {
   "cell_type": "code",
   "execution_count": 316,
   "id": "2cb799fd-4bb6-43ff-b897-c3eeb8a9b712",
   "metadata": {},
   "outputs": [
    {
     "data": {
      "text/plain": [
       "36.191649367264546"
      ]
     },
     "execution_count": 316,
     "metadata": {},
     "output_type": "execute_result"
    }
   ],
   "source": [
    "np.sqrt(mean_squared_error(y_test, y_pred))"
   ]
  },
  {
   "cell_type": "code",
   "execution_count": null,
   "id": "d528b48a-47f2-4966-a9ea-a15f93d76b0d",
   "metadata": {},
   "outputs": [],
   "source": [
    "param_grid = {\"learning_rate\":[0.01,0.02,0.1], \n",
    "              \"n_estimators\":[100,1000,7000],\n",
    "              \"colsample_bytree\": [0.9,1]\n",
    "              }"
   ]
  },
  {
   "cell_type": "code",
   "execution_count": null,
   "id": "2883128f-c0f2-4e06-9111-d69da7937536",
   "metadata": {},
   "outputs": [],
   "source": [
    "grid_xgb_model = GridSearchCV(xgb_model,param_grid, scoring = \"neg_mean_squared_error\")"
   ]
  },
  {
   "cell_type": "code",
   "execution_count": null,
   "id": "5a89c269-8783-43d8-92ee-71acb79341f6",
   "metadata": {},
   "outputs": [],
   "source": [
    "grid_xgb_model.fit(scaled_X_train,y_train)"
   ]
  },
  {
   "cell_type": "code",
   "execution_count": null,
   "id": "77af9f74-37d2-4ff6-a1ad-01348d3c89d0",
   "metadata": {},
   "outputs": [],
   "source": [
    "grid_xgb_model.best_params_"
   ]
  },
  {
   "cell_type": "code",
   "execution_count": null,
   "id": "65693a2b-47c2-43a7-b6da-312141f0e516",
   "metadata": {},
   "outputs": [],
   "source": [
    "y_pred = grid_xgb_model.predict(scaled_X_test)"
   ]
  },
  {
   "cell_type": "code",
   "execution_count": null,
   "id": "08683e57-ddb9-4e3a-8081-a7e013dda247",
   "metadata": {},
   "outputs": [],
   "source": [
    "np.sqrt(mean_squared_error(y_test, y_pred))"
   ]
  },
  {
   "cell_type": "markdown",
   "id": "fc443b2d-f5f2-4f88-ac5f-fca4941328ba",
   "metadata": {
    "tags": []
   },
   "source": [
    "### 5.11. LGBM Regressor"
   ]
  },
  {
   "cell_type": "code",
   "execution_count": 369,
   "id": "7d048184-8aeb-4e97-8a92-46b5843d448d",
   "metadata": {},
   "outputs": [],
   "source": [
    "lgbm_model = LGBMRegressor()"
   ]
  },
  {
   "cell_type": "code",
   "execution_count": 448,
   "id": "a61b1d34-f0ba-4a4f-9ca2-11310d59fdcf",
   "metadata": {},
   "outputs": [
    {
     "data": {
      "text/plain": [
       "LGBMRegressor()"
      ]
     },
     "execution_count": 448,
     "metadata": {},
     "output_type": "execute_result"
    }
   ],
   "source": [
    "lgbm_model.fit(X_train, y_train)"
   ]
  },
  {
   "cell_type": "code",
   "execution_count": 449,
   "id": "720f2f96-71b4-4562-b85a-17d0223a644f",
   "metadata": {},
   "outputs": [],
   "source": [
    "y_pred = lgbm_model.predict(X_test)"
   ]
  },
  {
   "cell_type": "code",
   "execution_count": 450,
   "id": "e0f444b8-0df5-4d43-af67-b7819b35efd2",
   "metadata": {},
   "outputs": [
    {
     "data": {
      "text/plain": [
       "22.663137590940956"
      ]
     },
     "execution_count": 450,
     "metadata": {},
     "output_type": "execute_result"
    }
   ],
   "source": [
    "np.sqrt(mean_squared_error(y_test, y_pred))"
   ]
  },
  {
   "cell_type": "code",
   "execution_count": 169,
   "id": "871c27fb-092a-4d84-912a-feb9c384959d",
   "metadata": {},
   "outputs": [
    {
     "data": {
      "text/plain": [
       "22.92361900161651"
      ]
     },
     "execution_count": 169,
     "metadata": {},
     "output_type": "execute_result"
    }
   ],
   "source": [
    "np.sqrt(mean_squared_error(y_test, y_pred))"
   ]
  },
  {
   "cell_type": "code",
   "execution_count": 23,
   "id": "6451cead-503f-456c-a609-b52ee52744ed",
   "metadata": {},
   "outputs": [],
   "source": [
    "param_grid = {\"learning_rate\":[0.01,0.02,0.1], \n",
    "              \"n_estimators\":[100,1000], \n",
    "              \"subsample\":[0.9,1.0]\n",
    "              }"
   ]
  },
  {
   "cell_type": "code",
   "execution_count": 24,
   "id": "80537786-f74b-4635-ac51-939f36993e46",
   "metadata": {},
   "outputs": [],
   "source": [
    "grid_lgbm_model = GridSearchCV(lgbm_model,param_grid, scoring = \"neg_mean_squared_error\",verbose=2)"
   ]
  },
  {
   "cell_type": "code",
   "execution_count": null,
   "id": "829280fd-0058-4191-8a04-8b55b3660ae2",
   "metadata": {
    "tags": []
   },
   "outputs": [],
   "source": [
    "grid_lgbm_model.fit(X_train,y_train)"
   ]
  },
  {
   "cell_type": "code",
   "execution_count": 19,
   "id": "94d49ac3-a6e4-4f79-9285-d29901254922",
   "metadata": {},
   "outputs": [
    {
     "data": {
      "text/plain": [
       "{'learning_rate': 0.1, 'n_estimators': 100, 'subsample': 0.9}"
      ]
     },
     "execution_count": 19,
     "metadata": {},
     "output_type": "execute_result"
    }
   ],
   "source": [
    "grid_lgbm_model.best_params_"
   ]
  },
  {
   "cell_type": "code",
   "execution_count": null,
   "id": "aeade0bd-959a-4b2f-83d9-3116448fadda",
   "metadata": {},
   "outputs": [],
   "source": [
    "y_pred = grid_lgbm_model.predict(scaled_X_test)"
   ]
  },
  {
   "cell_type": "code",
   "execution_count": null,
   "id": "0057dfcb-c2d8-477b-a160-3f10f3027286",
   "metadata": {},
   "outputs": [],
   "source": [
    "np.sqrt(mean_squared_error(y_test, y_pred))"
   ]
  },
  {
   "cell_type": "code",
   "execution_count": 342,
   "id": "545e9266-8eef-47fb-ad4d-989a55f76240",
   "metadata": {},
   "outputs": [],
   "source": [
    "lgb_params = {\n",
    "    \"learning_rate\": 0.02,\n",
    "    \"num_leaves\": 64,\n",
    "    \"colsample_bytree\": 0.9,\n",
    "    \"subsample\": 0.9,\n",
    "    \"verbosity\": -1,\n",
    "    \"n_estimators\": 7000,\n",
    "    \"early_stopping_rounds\": 50,\n",
    "    \"random_state\": 42,\n",
    "    \"objective\": \"regression\",\n",
    "    \"metric\": \"rmse\"\n",
    "}"
   ]
  },
  {
   "cell_type": "code",
   "execution_count": 174,
   "id": "e01a0d77-e3fe-4ae6-8a6f-784c22f1ccd2",
   "metadata": {},
   "outputs": [],
   "source": [
    "lgbm_model_2 = LGBMRegressor(learning_rate= 0.02,\n",
    "    num_leaves= 64,\n",
    "    colsample_bytree= 0.9,\n",
    "    subsample= 0.9,\n",
    "    verbosity= -1,\n",
    "    n_estimators= 700,\n",
    "    random_state= 42,\n",
    "    objective= \"regression\",\n",
    "    metric= \"rmse\")"
   ]
  },
  {
   "cell_type": "code",
   "execution_count": 175,
   "id": "5687d5fb-a465-4638-b766-11ec8758103e",
   "metadata": {},
   "outputs": [
    {
     "data": {
      "text/plain": [
       "LGBMRegressor(colsample_bytree=0.9, learning_rate=0.02, metric='rmse',\n",
       "              n_estimators=700, num_leaves=64, objective='regression',\n",
       "              random_state=42, subsample=0.9, verbosity=-1)"
      ]
     },
     "execution_count": 175,
     "metadata": {},
     "output_type": "execute_result"
    }
   ],
   "source": [
    "lgbm_model_2.fit(X_train,y_train)"
   ]
  },
  {
   "cell_type": "code",
   "execution_count": 176,
   "id": "b3b9505d-0b04-4f0c-a834-5e460eb3f2f3",
   "metadata": {},
   "outputs": [],
   "source": [
    "y_pred = lgbm_model_2.predict(X_test)"
   ]
  },
  {
   "cell_type": "code",
   "execution_count": 177,
   "id": "1b6ae7f0-5daf-4602-a161-b111348a5da5",
   "metadata": {},
   "outputs": [
    {
     "data": {
      "text/plain": [
       "22.651426393759014"
      ]
     },
     "execution_count": 177,
     "metadata": {},
     "output_type": "execute_result"
    }
   ],
   "source": [
    "np.sqrt(mean_squared_error(y_test, y_pred))"
   ]
  },
  {
   "cell_type": "markdown",
   "id": "385af076-0421-47fe-8270-23a5631139bb",
   "metadata": {
    "tags": []
   },
   "source": [
    "### 5.12. CatBoost Regressor"
   ]
  },
  {
   "cell_type": "code",
   "execution_count": 455,
   "id": "661c8971-3976-4148-a37a-943713239563",
   "metadata": {},
   "outputs": [],
   "source": [
    "catb_model = CatBoostRegressor(iterations=5000, learning_rate=0.03)"
   ]
  },
  {
   "cell_type": "code",
   "execution_count": null,
   "id": "68260291-7e42-4f5e-b3cb-8ce0c30d49a3",
   "metadata": {
    "tags": []
   },
   "outputs": [],
   "source": [
    "catb_model.fit(X_train, y_train)"
   ]
  },
  {
   "cell_type": "code",
   "execution_count": 457,
   "id": "e704e23f-240d-4fb5-b37e-3dae6a587305",
   "metadata": {},
   "outputs": [],
   "source": [
    "y_pred = catb_model.predict(X_test)"
   ]
  },
  {
   "cell_type": "code",
   "execution_count": 458,
   "id": "c35fc081-67a1-4ce6-8cad-d406b3e25fc5",
   "metadata": {},
   "outputs": [
    {
     "data": {
      "text/plain": [
       "16.853906225411905"
      ]
     },
     "execution_count": 458,
     "metadata": {},
     "output_type": "execute_result"
    }
   ],
   "source": [
    "np.sqrt(mean_squared_error(y_test, y_pred))"
   ]
  },
  {
   "cell_type": "code",
   "execution_count": 211,
   "id": "42fc950f-3bf7-480f-9949-a6c72ff83f74",
   "metadata": {},
   "outputs": [],
   "source": [
    "param_grid = {\"learning_rate\":[0.03], \n",
    "              \"iterations\":[1000,7000]\n",
    "              }"
   ]
  },
  {
   "cell_type": "code",
   "execution_count": 213,
   "id": "a5ebc57a-472a-4b59-b1ba-55cd76ea2518",
   "metadata": {},
   "outputs": [],
   "source": [
    "grid_catb_model = GridSearchCV(catb_model,param_grid, scoring = \"neg_mean_squared_error\", verbose=2)"
   ]
  },
  {
   "cell_type": "code",
   "execution_count": null,
   "id": "2e4e98d2-7f10-4f78-bc2f-d2354e2aee37",
   "metadata": {
    "tags": []
   },
   "outputs": [],
   "source": [
    "grid_catb_model.fit(X_train,y_train)"
   ]
  },
  {
   "cell_type": "code",
   "execution_count": 204,
   "id": "522902b4-98a0-4621-814c-91aa34faa384",
   "metadata": {
    "tags": []
   },
   "outputs": [
    {
     "data": {
      "text/html": [
       "<div>\n",
       "<style scoped>\n",
       "    .dataframe tbody tr th:only-of-type {\n",
       "        vertical-align: middle;\n",
       "    }\n",
       "\n",
       "    .dataframe tbody tr th {\n",
       "        vertical-align: top;\n",
       "    }\n",
       "\n",
       "    .dataframe thead th {\n",
       "        text-align: right;\n",
       "    }\n",
       "</style>\n",
       "<table border=\"1\" class=\"dataframe\">\n",
       "  <thead>\n",
       "    <tr style=\"text-align: right;\">\n",
       "      <th></th>\n",
       "      <th>mean_fit_time</th>\n",
       "      <th>std_fit_time</th>\n",
       "      <th>mean_score_time</th>\n",
       "      <th>std_score_time</th>\n",
       "      <th>param_iterations</th>\n",
       "      <th>param_learning_rate</th>\n",
       "      <th>params</th>\n",
       "      <th>split0_test_score</th>\n",
       "      <th>split1_test_score</th>\n",
       "      <th>split2_test_score</th>\n",
       "      <th>split3_test_score</th>\n",
       "      <th>split4_test_score</th>\n",
       "      <th>mean_test_score</th>\n",
       "      <th>std_test_score</th>\n",
       "      <th>rank_test_score</th>\n",
       "    </tr>\n",
       "  </thead>\n",
       "  <tbody>\n",
       "    <tr>\n",
       "      <th>0</th>\n",
       "      <td>1.780934</td>\n",
       "      <td>0.210200</td>\n",
       "      <td>0.020362</td>\n",
       "      <td>0.018281</td>\n",
       "      <td>100</td>\n",
       "      <td>0.01</td>\n",
       "      <td>{'iterations': 100, 'learning_rate': 0.01}</td>\n",
       "      <td>-158594.332632</td>\n",
       "      <td>-179690.105075</td>\n",
       "      <td>-170349.511440</td>\n",
       "      <td>-176464.135100</td>\n",
       "      <td>-164151.131088</td>\n",
       "      <td>-169849.843067</td>\n",
       "      <td>7745.852017</td>\n",
       "      <td>5</td>\n",
       "    </tr>\n",
       "    <tr>\n",
       "      <th>1</th>\n",
       "      <td>1.546454</td>\n",
       "      <td>0.070940</td>\n",
       "      <td>0.008049</td>\n",
       "      <td>0.001021</td>\n",
       "      <td>100</td>\n",
       "      <td>0.02</td>\n",
       "      <td>{'iterations': 100, 'learning_rate': 0.02}</td>\n",
       "      <td>-24000.313724</td>\n",
       "      <td>-26940.425131</td>\n",
       "      <td>-26834.023795</td>\n",
       "      <td>-26996.970250</td>\n",
       "      <td>-24669.299356</td>\n",
       "      <td>-25888.206451</td>\n",
       "      <td>1286.931639</td>\n",
       "      <td>4</td>\n",
       "    </tr>\n",
       "    <tr>\n",
       "      <th>2</th>\n",
       "      <td>1.437474</td>\n",
       "      <td>0.055811</td>\n",
       "      <td>0.006659</td>\n",
       "      <td>0.000788</td>\n",
       "      <td>100</td>\n",
       "      <td>0.03</td>\n",
       "      <td>{'iterations': 100, 'learning_rate': 0.03}</td>\n",
       "      <td>-4780.598650</td>\n",
       "      <td>-5175.740929</td>\n",
       "      <td>-5819.274155</td>\n",
       "      <td>-5397.738149</td>\n",
       "      <td>-4371.630303</td>\n",
       "      <td>-5108.996437</td>\n",
       "      <td>498.773488</td>\n",
       "      <td>3</td>\n",
       "    </tr>\n",
       "    <tr>\n",
       "      <th>3</th>\n",
       "      <td>1.479219</td>\n",
       "      <td>0.065292</td>\n",
       "      <td>0.009424</td>\n",
       "      <td>0.001961</td>\n",
       "      <td>100</td>\n",
       "      <td>0.04</td>\n",
       "      <td>{'iterations': 100, 'learning_rate': 0.04}</td>\n",
       "      <td>-1972.148477</td>\n",
       "      <td>-1905.602525</td>\n",
       "      <td>-2572.822947</td>\n",
       "      <td>-2049.392692</td>\n",
       "      <td>-1611.562952</td>\n",
       "      <td>-2022.305919</td>\n",
       "      <td>312.617315</td>\n",
       "      <td>2</td>\n",
       "    </tr>\n",
       "    <tr>\n",
       "      <th>4</th>\n",
       "      <td>1.636004</td>\n",
       "      <td>0.156018</td>\n",
       "      <td>0.009156</td>\n",
       "      <td>0.002956</td>\n",
       "      <td>100</td>\n",
       "      <td>0.05</td>\n",
       "      <td>{'iterations': 100, 'learning_rate': 0.05}</td>\n",
       "      <td>-1569.973334</td>\n",
       "      <td>-1467.514934</td>\n",
       "      <td>-2029.070881</td>\n",
       "      <td>-1459.279624</td>\n",
       "      <td>-1147.662174</td>\n",
       "      <td>-1534.700189</td>\n",
       "      <td>284.832274</td>\n",
       "      <td>1</td>\n",
       "    </tr>\n",
       "  </tbody>\n",
       "</table>\n",
       "</div>"
      ],
      "text/plain": [
       "   mean_fit_time  std_fit_time  mean_score_time  std_score_time  \\\n",
       "0       1.780934      0.210200         0.020362        0.018281   \n",
       "1       1.546454      0.070940         0.008049        0.001021   \n",
       "2       1.437474      0.055811         0.006659        0.000788   \n",
       "3       1.479219      0.065292         0.009424        0.001961   \n",
       "4       1.636004      0.156018         0.009156        0.002956   \n",
       "\n",
       "  param_iterations param_learning_rate  \\\n",
       "0              100                0.01   \n",
       "1              100                0.02   \n",
       "2              100                0.03   \n",
       "3              100                0.04   \n",
       "4              100                0.05   \n",
       "\n",
       "                                       params  split0_test_score  \\\n",
       "0  {'iterations': 100, 'learning_rate': 0.01}     -158594.332632   \n",
       "1  {'iterations': 100, 'learning_rate': 0.02}      -24000.313724   \n",
       "2  {'iterations': 100, 'learning_rate': 0.03}       -4780.598650   \n",
       "3  {'iterations': 100, 'learning_rate': 0.04}       -1972.148477   \n",
       "4  {'iterations': 100, 'learning_rate': 0.05}       -1569.973334   \n",
       "\n",
       "   split1_test_score  split2_test_score  split3_test_score  split4_test_score  \\\n",
       "0     -179690.105075     -170349.511440     -176464.135100     -164151.131088   \n",
       "1      -26940.425131      -26834.023795      -26996.970250      -24669.299356   \n",
       "2       -5175.740929       -5819.274155       -5397.738149       -4371.630303   \n",
       "3       -1905.602525       -2572.822947       -2049.392692       -1611.562952   \n",
       "4       -1467.514934       -2029.070881       -1459.279624       -1147.662174   \n",
       "\n",
       "   mean_test_score  std_test_score  rank_test_score  \n",
       "0   -169849.843067     7745.852017                5  \n",
       "1    -25888.206451     1286.931639                4  \n",
       "2     -5108.996437      498.773488                3  \n",
       "3     -2022.305919      312.617315                2  \n",
       "4     -1534.700189      284.832274                1  "
      ]
     },
     "execution_count": 204,
     "metadata": {},
     "output_type": "execute_result"
    }
   ],
   "source": [
    "pd.DataFrame(grid_catb_model.cv_results_)"
   ]
  },
  {
   "cell_type": "code",
   "execution_count": 212,
   "id": "8e1fd037-49c2-4756-8b47-79a80e479349",
   "metadata": {},
   "outputs": [
    {
     "data": {
      "text/plain": [
       "<AxesSubplot:xlabel='param_iterations', ylabel='mean_test_score'>"
      ]
     },
     "execution_count": 212,
     "metadata": {},
     "output_type": "execute_result"
    },
    {
     "data": {
      "image/png": "[encoded data removed]",
      "text/plain": [
       "<Figure size 432x288 with 1 Axes>"
      ]
     },
     "metadata": {
      "needs_background": "light"
     },
     "output_type": "display_data"
    }
   ],
   "source": [
    "sns.scatterplot(data =pd.DataFrame(grid_catb_model.cv_results_), x = \"param_iterations\", y=\"mean_test_score\", hue=\"param_learning_rate\")"
   ]
  },
  {
   "cell_type": "code",
   "execution_count": 215,
   "id": "57c80bad-77f9-48e5-875d-d13681c55d54",
   "metadata": {},
   "outputs": [
    {
     "data": {
      "text/plain": [
       "<AxesSubplot:xlabel='param_iterations', ylabel='mean_test_score'>"
      ]
     },
     "execution_count": 215,
     "metadata": {},
     "output_type": "execute_result"
    },
    {
     "data": {
      "image/png": "[encoded data removed]",
      "text/plain": [
       "<Figure size 432x288 with 1 Axes>"
      ]
     },
     "metadata": {
      "needs_background": "light"
     },
     "output_type": "display_data"
    }
   ],
   "source": [
    "sns.scatterplot(data =pd.DataFrame(grid_catb_model.cv_results_), x = \"param_iterations\", y=\"mean_test_score\", hue=\"param_learning_rate\")"
   ]
  },
  {
   "cell_type": "code",
   "execution_count": 338,
   "id": "dcd6a6d9-43d7-4bbb-a648-a745a97c7f34",
   "metadata": {},
   "outputs": [
    {
     "data": {
      "text/plain": [
       "{'iterations': 7000, 'learning_rate': 0.02}"
      ]
     },
     "execution_count": 338,
     "metadata": {},
     "output_type": "execute_result"
    }
   ],
   "source": [
    "grid_catb_model.best_params_"
   ]
  },
  {
   "cell_type": "code",
   "execution_count": 339,
   "id": "ac3ae074-3a3f-4a52-9d72-22da7b8a12c9",
   "metadata": {},
   "outputs": [],
   "source": [
    "y_pred = grid_catb_model.predict(scaled_X_test)"
   ]
  },
  {
   "cell_type": "code",
   "execution_count": 340,
   "id": "b4f7af95-4d88-4610-a760-aadc36f94f1e",
   "metadata": {},
   "outputs": [
    {
     "data": {
      "text/plain": [
       "30.996988515738266"
      ]
     },
     "execution_count": 340,
     "metadata": {},
     "output_type": "execute_result"
    }
   ],
   "source": [
    "np.sqrt(mean_squared_error(y_test, y_pred))"
   ]
  },
  {
   "cell_type": "markdown",
   "id": "4a53305e-3f57-467b-91bd-2ef75d2dfb2f",
   "metadata": {},
   "source": [
    "<br><br><br>"
   ]
  },
  {
   "cell_type": "markdown",
   "id": "72dd1e57-3513-4689-8854-2f977ae215b2",
   "metadata": {
    "tags": []
   },
   "source": [
    "## 6. Results and Conclusion"
   ]
  },
  {
   "cell_type": "markdown",
   "id": "7894a43b-7265-45ff-804f-a1496a8ef349",
   "metadata": {},
   "source": [
    "**Results:**"
   ]
  },
  {
   "cell_type": "markdown",
   "id": "3e244e00-0501-4fed-98ba-919e8426526d",
   "metadata": {},
   "source": [
    "The RMSE score of the ML algorithms are as follows:"
   ]
  },
  {
   "cell_type": "markdown",
   "id": "4ee9e535-43bb-4d9b-ac36-88131621c459",
   "metadata": {},
   "source": [
    "<ul>\n",
    "<li>KNN 144</li>\n",
    "<li>Elastic 344</li>\n",
    "<li>SVM 239</li>\n",
    "<li>MLP(Neural) 2598</li>\n",
    "<li>DecisionTree 58/136</li>\n",
    "<li>Bagging 46</li>\n",
    "<li>RandomForest 42</li>\n",
    "<li>AdaBoost 179</li>\n",
    "<li>GradientBoost 45</li>\n",
    "<li>XGBoost 36</li>\n",
    "<li>LGBM 22</li>\n",
    "<li>CatBoost 17</li>\n",
    "</ul>"
   ]
  },
  {
   "cell_type": "code",
   "execution_count": 92,
   "id": "fda17ae5-9a8a-4fa6-bdea-97873c511466",
   "metadata": {},
   "outputs": [
    {
     "data": {
      "image/png": "[encoded data removed]",
      "text/plain": [
       "<Figure size 576x576 with 1 Axes>"
      ]
     },
     "metadata": {
      "needs_background": "light"
     },
     "output_type": "display_data"
    }
   ],
   "source": [
    "plt.figure(figsize=(8,8))\n",
    "sns.barplot(x = list(results.index), y = results.values)\n",
    "plt.xticks(rotation = 90);"
   ]
  },
  {
   "cell_type": "markdown",
   "id": "0010b7d6-9193-4a5b-b93c-bb11eafb539c",
   "metadata": {},
   "source": [
    "<br><br><br>"
   ]
  },
  {
   "cell_type": "markdown",
   "id": "bd8c2985-0aae-4cdb-8c03-a00c81599df3",
   "metadata": {},
   "source": [
    "**Conclusion and Discussion**"
   ]
  },
  {
   "cell_type": "markdown",
   "id": "be232f20-e1a5-4682-b58a-555d3ad41048",
   "metadata": {},
   "source": [
    "<li>The results show that Catboost and LGBM algorithms performing better than the others. Therefore, I used GridSearchCV to tune the especially those model.\n",
    "<li> Some algorithms like MLP Regressor and SVM needed too much time to perform. Using a computer with M1 processor and 8 Gb RAM, I couldn't finalize GridSearchCV process. Their first scores were very poor anyway, so I did not bother to test them on a cloud system.\n",
    "<li> After tuning process, the winner algorithm is CatBoost, but LGBM results was very close. Therefore, a better model tuning may change the winner. The best score of this work was the 3rd best score of the competition."
   ]
  }
 ],
 "metadata": {
  "kernelspec": {
   "display_name": "Python 3 (ipykernel)",
   "language": "python",
   "name": "python3"
  },
  "language_info": {
   "codemirror_mode": {
    "name": "ipython",
    "version": 3
   },
   "file_extension": ".py",
   "mimetype": "text/x-python",
   "name": "python",
   "nbconvert_exporter": "python",
   "pygments_lexer": "ipython3",
   "version": "3.9.12"
  }
 },
 "nbformat": 4,
 "nbformat_minor": 5
}
