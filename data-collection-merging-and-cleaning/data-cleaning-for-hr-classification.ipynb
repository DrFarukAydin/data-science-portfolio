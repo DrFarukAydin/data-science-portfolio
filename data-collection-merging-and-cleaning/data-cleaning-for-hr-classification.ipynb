{
 "cells": [
  {
   "cell_type": "markdown",
   "id": "add3c195",
   "metadata": {
    "papermill": {
     "duration": 0.122279,
     "end_time": "2021-09-12T23:43:32.455940",
     "exception": false,
     "start_time": "2021-09-12T23:43:32.333661",
     "status": "completed"
    },
    "tags": []
   },
   "source": [
    "## HR Analytics: Job Change of Data Scientist"
   ]
  },
  {
   "cell_type": "markdown",
   "id": "fb0bbc18-a021-4d61-8402-dc335d088d6a",
   "metadata": {},
   "source": [
    "# Data Cleaning"
   ]
  },
  {
   "cell_type": "markdown",
   "id": "09e35fb6-a2ca-4ece-b8bc-9eb9222a5db6",
   "metadata": {},
   "source": [
    "## 1. Introduction"
   ]
  },
  {
   "cell_type": "markdown",
   "id": "0f324059-ca53-4efc-814b-f4da0929784c",
   "metadata": {},
   "source": [
    "### 1.1. Motivation"
   ]
  },
  {
   "cell_type": "markdown",
   "id": "3a30273a-9364-47f5-8b99-14e48b19b0c2",
   "metadata": {},
   "source": [
    "In this work, I will try to show why we wouldn't want to use dropna() as long as we can. Dropping information from our dataframe may cause loosing valuable information. Most of the times some values are missing for a reason, for example, when we ask the field of PhD to a person who does not have even BSc. In such cases, we do not only lose some data, but also this would harm the bias of our data. I will try to show a careful data cleaning process and prepare a dataframe ready for machine learning process. "
   ]
  },
  {
   "cell_type": "markdown",
   "id": "090b8b29-4dca-4556-a8cf-a1717acd880d",
   "metadata": {},
   "source": [
    "### 1.2. Data Context"
   ]
  },
  {
   "cell_type": "markdown",
   "id": "13672552-0014-438d-8418-63830840f10e",
   "metadata": {},
   "source": [
    "\"A company which is active in Big Data and Data Science wants to hire data scientists among people who successfully pass some courses which conduct by the company. Many people signup for their training. Company wants to know which of these candidates are really wants to work for the company after training or looking for a new employment because it helps to reduce the cost and time as well as the quality of training or planning the courses and categorization of candidates. Information related to demographics, education, experience are in hands from candidates signup and enrollment.\""
   ]
  },
  {
   "cell_type": "markdown",
   "id": "edc2a0c2-cee1-41e3-83ba-765883bb57f8",
   "metadata": {},
   "source": [
    "The data can be found here: https://www.kaggle.com/datasets/uniabhi/hr-analytics-job-change-of-data-scientists"
   ]
  },
  {
   "cell_type": "markdown",
   "id": "a60e74dc-38bb-4d23-8c21-c16102d0d76d",
   "metadata": {
    "tags": []
   },
   "source": [
    "## 2. Data Cleaning Process"
   ]
  },
  {
   "cell_type": "markdown",
   "id": "e82aa728-174c-473d-802c-9007ef8389c7",
   "metadata": {
    "papermill": {
     "duration": 0.122279,
     "end_time": "2021-09-12T23:43:32.455940",
     "exception": false,
     "start_time": "2021-09-12T23:43:32.333661",
     "status": "completed"
    },
    "tags": []
   },
   "source": [
    "### 2.1. Importing Libraries and Dataset"
   ]
  },
  {
   "cell_type": "code",
   "execution_count": 7,
   "id": "f95781e8",
   "metadata": {
    "papermill": {
     "duration": 1.049295,
     "end_time": "2021-09-12T23:43:33.868562",
     "exception": false,
     "start_time": "2021-09-12T23:43:32.819267",
     "status": "completed"
    },
    "tags": []
   },
   "outputs": [],
   "source": [
    "import numpy as np\n",
    "import pandas as pd\n",
    "import seaborn as sns\n",
    "import matplotlib.pyplot as plt"
   ]
  },
  {
   "cell_type": "code",
   "execution_count": 15,
   "id": "7cccc1e2",
   "metadata": {
    "papermill": {
     "duration": 0.21753,
     "end_time": "2021-09-12T23:43:34.449896",
     "exception": false,
     "start_time": "2021-09-12T23:43:34.232366",
     "status": "completed"
    },
    "tags": []
   },
   "outputs": [],
   "source": [
    "df_train = pd.read_csv(\"../kaggle/hrDataSc/aug_train.csv\")"
   ]
  },
  {
   "cell_type": "code",
   "execution_count": 16,
   "id": "0286cc52",
   "metadata": {
    "papermill": {
     "duration": 0.145288,
     "end_time": "2021-09-12T23:43:34.964449",
     "exception": false,
     "start_time": "2021-09-12T23:43:34.819161",
     "status": "completed"
    },
    "tags": []
   },
   "outputs": [],
   "source": [
    "df_test = pd.read_csv(\"../kaggle/hrDataSc/aug_test.csv\")"
   ]
  },
  {
   "cell_type": "code",
   "execution_count": 19,
   "id": "ddaf416c",
   "metadata": {
    "papermill": {
     "duration": 0.147615,
     "end_time": "2021-09-12T23:43:35.232780",
     "exception": false,
     "start_time": "2021-09-12T23:43:35.085165",
     "status": "completed"
    },
    "tags": []
   },
   "outputs": [
    {
     "data": {
      "text/html": [
       "<div>\n",
       "<style scoped>\n",
       "    .dataframe tbody tr th:only-of-type {\n",
       "        vertical-align: middle;\n",
       "    }\n",
       "\n",
       "    .dataframe tbody tr th {\n",
       "        vertical-align: top;\n",
       "    }\n",
       "\n",
       "    .dataframe thead th {\n",
       "        text-align: right;\n",
       "    }\n",
       "</style>\n",
       "<table border=\"1\" class=\"dataframe\">\n",
       "  <thead>\n",
       "    <tr style=\"text-align: right;\">\n",
       "      <th></th>\n",
       "      <th>enrollee_id</th>\n",
       "      <th>city</th>\n",
       "      <th>city_development_index</th>\n",
       "      <th>gender</th>\n",
       "      <th>relevent_experience</th>\n",
       "      <th>enrolled_university</th>\n",
       "      <th>education_level</th>\n",
       "      <th>major_discipline</th>\n",
       "      <th>experience</th>\n",
       "      <th>company_size</th>\n",
       "      <th>company_type</th>\n",
       "      <th>last_new_job</th>\n",
       "      <th>training_hours</th>\n",
       "      <th>target</th>\n",
       "    </tr>\n",
       "  </thead>\n",
       "  <tbody>\n",
       "    <tr>\n",
       "      <th>0</th>\n",
       "      <td>8949</td>\n",
       "      <td>city_103</td>\n",
       "      <td>0.920</td>\n",
       "      <td>Male</td>\n",
       "      <td>Has relevent experience</td>\n",
       "      <td>no_enrollment</td>\n",
       "      <td>Graduate</td>\n",
       "      <td>STEM</td>\n",
       "      <td>&gt;20</td>\n",
       "      <td>NaN</td>\n",
       "      <td>NaN</td>\n",
       "      <td>1</td>\n",
       "      <td>36</td>\n",
       "      <td>1.0</td>\n",
       "    </tr>\n",
       "    <tr>\n",
       "      <th>1</th>\n",
       "      <td>29725</td>\n",
       "      <td>city_40</td>\n",
       "      <td>0.776</td>\n",
       "      <td>Male</td>\n",
       "      <td>No relevent experience</td>\n",
       "      <td>no_enrollment</td>\n",
       "      <td>Graduate</td>\n",
       "      <td>STEM</td>\n",
       "      <td>15</td>\n",
       "      <td>50-99</td>\n",
       "      <td>Pvt Ltd</td>\n",
       "      <td>&gt;4</td>\n",
       "      <td>47</td>\n",
       "      <td>0.0</td>\n",
       "    </tr>\n",
       "    <tr>\n",
       "      <th>2</th>\n",
       "      <td>11561</td>\n",
       "      <td>city_21</td>\n",
       "      <td>0.624</td>\n",
       "      <td>NaN</td>\n",
       "      <td>No relevent experience</td>\n",
       "      <td>Full time course</td>\n",
       "      <td>Graduate</td>\n",
       "      <td>STEM</td>\n",
       "      <td>5</td>\n",
       "      <td>NaN</td>\n",
       "      <td>NaN</td>\n",
       "      <td>never</td>\n",
       "      <td>83</td>\n",
       "      <td>0.0</td>\n",
       "    </tr>\n",
       "    <tr>\n",
       "      <th>3</th>\n",
       "      <td>33241</td>\n",
       "      <td>city_115</td>\n",
       "      <td>0.789</td>\n",
       "      <td>NaN</td>\n",
       "      <td>No relevent experience</td>\n",
       "      <td>NaN</td>\n",
       "      <td>Graduate</td>\n",
       "      <td>Business Degree</td>\n",
       "      <td>&lt;1</td>\n",
       "      <td>NaN</td>\n",
       "      <td>Pvt Ltd</td>\n",
       "      <td>never</td>\n",
       "      <td>52</td>\n",
       "      <td>1.0</td>\n",
       "    </tr>\n",
       "    <tr>\n",
       "      <th>4</th>\n",
       "      <td>666</td>\n",
       "      <td>city_162</td>\n",
       "      <td>0.767</td>\n",
       "      <td>Male</td>\n",
       "      <td>Has relevent experience</td>\n",
       "      <td>no_enrollment</td>\n",
       "      <td>Masters</td>\n",
       "      <td>STEM</td>\n",
       "      <td>&gt;20</td>\n",
       "      <td>50-99</td>\n",
       "      <td>Funded Startup</td>\n",
       "      <td>4</td>\n",
       "      <td>8</td>\n",
       "      <td>0.0</td>\n",
       "    </tr>\n",
       "  </tbody>\n",
       "</table>\n",
       "</div>"
      ],
      "text/plain": [
       "   enrollee_id      city  city_development_index gender  \\\n",
       "0         8949  city_103                   0.920   Male   \n",
       "1        29725   city_40                   0.776   Male   \n",
       "2        11561   city_21                   0.624    NaN   \n",
       "3        33241  city_115                   0.789    NaN   \n",
       "4          666  city_162                   0.767   Male   \n",
       "\n",
       "       relevent_experience enrolled_university education_level  \\\n",
       "0  Has relevent experience       no_enrollment        Graduate   \n",
       "1   No relevent experience       no_enrollment        Graduate   \n",
       "2   No relevent experience    Full time course        Graduate   \n",
       "3   No relevent experience                 NaN        Graduate   \n",
       "4  Has relevent experience       no_enrollment         Masters   \n",
       "\n",
       "  major_discipline experience company_size    company_type last_new_job  \\\n",
       "0             STEM        >20          NaN             NaN            1   \n",
       "1             STEM         15        50-99         Pvt Ltd           >4   \n",
       "2             STEM          5          NaN             NaN        never   \n",
       "3  Business Degree         <1          NaN         Pvt Ltd        never   \n",
       "4             STEM        >20        50-99  Funded Startup            4   \n",
       "\n",
       "   training_hours  target  \n",
       "0              36     1.0  \n",
       "1              47     0.0  \n",
       "2              83     0.0  \n",
       "3              52     1.0  \n",
       "4               8     0.0  "
      ]
     },
     "execution_count": 19,
     "metadata": {},
     "output_type": "execute_result"
    }
   ],
   "source": [
    "df_train.head()"
   ]
  },
  {
   "cell_type": "code",
   "execution_count": 21,
   "id": "c19dafb6-fa73-4915-82ec-274397559fa0",
   "metadata": {},
   "outputs": [
    {
     "data": {
      "text/html": [
       "<div>\n",
       "<style scoped>\n",
       "    .dataframe tbody tr th:only-of-type {\n",
       "        vertical-align: middle;\n",
       "    }\n",
       "\n",
       "    .dataframe tbody tr th {\n",
       "        vertical-align: top;\n",
       "    }\n",
       "\n",
       "    .dataframe thead th {\n",
       "        text-align: right;\n",
       "    }\n",
       "</style>\n",
       "<table border=\"1\" class=\"dataframe\">\n",
       "  <thead>\n",
       "    <tr style=\"text-align: right;\">\n",
       "      <th></th>\n",
       "      <th>enrollee_id</th>\n",
       "      <th>city</th>\n",
       "      <th>city_development_index</th>\n",
       "      <th>gender</th>\n",
       "      <th>relevent_experience</th>\n",
       "      <th>enrolled_university</th>\n",
       "      <th>education_level</th>\n",
       "      <th>major_discipline</th>\n",
       "      <th>experience</th>\n",
       "      <th>company_size</th>\n",
       "      <th>company_type</th>\n",
       "      <th>last_new_job</th>\n",
       "      <th>training_hours</th>\n",
       "    </tr>\n",
       "  </thead>\n",
       "  <tbody>\n",
       "    <tr>\n",
       "      <th>0</th>\n",
       "      <td>32403</td>\n",
       "      <td>city_41</td>\n",
       "      <td>0.827</td>\n",
       "      <td>Male</td>\n",
       "      <td>Has relevent experience</td>\n",
       "      <td>Full time course</td>\n",
       "      <td>Graduate</td>\n",
       "      <td>STEM</td>\n",
       "      <td>9</td>\n",
       "      <td>&lt;10</td>\n",
       "      <td>NaN</td>\n",
       "      <td>1</td>\n",
       "      <td>21</td>\n",
       "    </tr>\n",
       "    <tr>\n",
       "      <th>1</th>\n",
       "      <td>9858</td>\n",
       "      <td>city_103</td>\n",
       "      <td>0.920</td>\n",
       "      <td>Female</td>\n",
       "      <td>Has relevent experience</td>\n",
       "      <td>no_enrollment</td>\n",
       "      <td>Graduate</td>\n",
       "      <td>STEM</td>\n",
       "      <td>5</td>\n",
       "      <td>NaN</td>\n",
       "      <td>Pvt Ltd</td>\n",
       "      <td>1</td>\n",
       "      <td>98</td>\n",
       "    </tr>\n",
       "    <tr>\n",
       "      <th>2</th>\n",
       "      <td>31806</td>\n",
       "      <td>city_21</td>\n",
       "      <td>0.624</td>\n",
       "      <td>Male</td>\n",
       "      <td>No relevent experience</td>\n",
       "      <td>no_enrollment</td>\n",
       "      <td>High School</td>\n",
       "      <td>NaN</td>\n",
       "      <td>&lt;1</td>\n",
       "      <td>NaN</td>\n",
       "      <td>Pvt Ltd</td>\n",
       "      <td>never</td>\n",
       "      <td>15</td>\n",
       "    </tr>\n",
       "    <tr>\n",
       "      <th>3</th>\n",
       "      <td>27385</td>\n",
       "      <td>city_13</td>\n",
       "      <td>0.827</td>\n",
       "      <td>Male</td>\n",
       "      <td>Has relevent experience</td>\n",
       "      <td>no_enrollment</td>\n",
       "      <td>Masters</td>\n",
       "      <td>STEM</td>\n",
       "      <td>11</td>\n",
       "      <td>10/49</td>\n",
       "      <td>Pvt Ltd</td>\n",
       "      <td>1</td>\n",
       "      <td>39</td>\n",
       "    </tr>\n",
       "    <tr>\n",
       "      <th>4</th>\n",
       "      <td>27724</td>\n",
       "      <td>city_103</td>\n",
       "      <td>0.920</td>\n",
       "      <td>Male</td>\n",
       "      <td>Has relevent experience</td>\n",
       "      <td>no_enrollment</td>\n",
       "      <td>Graduate</td>\n",
       "      <td>STEM</td>\n",
       "      <td>&gt;20</td>\n",
       "      <td>10000+</td>\n",
       "      <td>Pvt Ltd</td>\n",
       "      <td>&gt;4</td>\n",
       "      <td>72</td>\n",
       "    </tr>\n",
       "  </tbody>\n",
       "</table>\n",
       "</div>"
      ],
      "text/plain": [
       "   enrollee_id      city  city_development_index  gender  \\\n",
       "0        32403   city_41                   0.827    Male   \n",
       "1         9858  city_103                   0.920  Female   \n",
       "2        31806   city_21                   0.624    Male   \n",
       "3        27385   city_13                   0.827    Male   \n",
       "4        27724  city_103                   0.920    Male   \n",
       "\n",
       "       relevent_experience enrolled_university education_level  \\\n",
       "0  Has relevent experience    Full time course        Graduate   \n",
       "1  Has relevent experience       no_enrollment        Graduate   \n",
       "2   No relevent experience       no_enrollment     High School   \n",
       "3  Has relevent experience       no_enrollment         Masters   \n",
       "4  Has relevent experience       no_enrollment        Graduate   \n",
       "\n",
       "  major_discipline experience company_size company_type last_new_job  \\\n",
       "0             STEM          9          <10          NaN            1   \n",
       "1             STEM          5          NaN      Pvt Ltd            1   \n",
       "2              NaN         <1          NaN      Pvt Ltd        never   \n",
       "3             STEM         11        10/49      Pvt Ltd            1   \n",
       "4             STEM        >20       10000+      Pvt Ltd           >4   \n",
       "\n",
       "   training_hours  \n",
       "0              21  \n",
       "1              98  \n",
       "2              15  \n",
       "3              39  \n",
       "4              72  "
      ]
     },
     "execution_count": 21,
     "metadata": {},
     "output_type": "execute_result"
    }
   ],
   "source": [
    "df_test.head()"
   ]
  },
  {
   "cell_type": "code",
   "execution_count": 23,
   "id": "06997453-58f4-403b-be3b-dcb774a60d48",
   "metadata": {},
   "outputs": [
    {
     "data": {
      "text/html": [
       "<div>\n",
       "<style scoped>\n",
       "    .dataframe tbody tr th:only-of-type {\n",
       "        vertical-align: middle;\n",
       "    }\n",
       "\n",
       "    .dataframe tbody tr th {\n",
       "        vertical-align: top;\n",
       "    }\n",
       "\n",
       "    .dataframe thead th {\n",
       "        text-align: right;\n",
       "    }\n",
       "</style>\n",
       "<table border=\"1\" class=\"dataframe\">\n",
       "  <thead>\n",
       "    <tr style=\"text-align: right;\">\n",
       "      <th></th>\n",
       "      <th>count</th>\n",
       "      <th>mean</th>\n",
       "      <th>std</th>\n",
       "      <th>min</th>\n",
       "      <th>25%</th>\n",
       "      <th>50%</th>\n",
       "      <th>75%</th>\n",
       "      <th>max</th>\n",
       "    </tr>\n",
       "  </thead>\n",
       "  <tbody>\n",
       "    <tr>\n",
       "      <th>enrollee_id</th>\n",
       "      <td>19158.0</td>\n",
       "      <td>16875.358179</td>\n",
       "      <td>9616.292592</td>\n",
       "      <td>1.000</td>\n",
       "      <td>8554.25</td>\n",
       "      <td>16982.500</td>\n",
       "      <td>25169.75</td>\n",
       "      <td>33380.000</td>\n",
       "    </tr>\n",
       "    <tr>\n",
       "      <th>city_development_index</th>\n",
       "      <td>19158.0</td>\n",
       "      <td>0.828848</td>\n",
       "      <td>0.123362</td>\n",
       "      <td>0.448</td>\n",
       "      <td>0.74</td>\n",
       "      <td>0.903</td>\n",
       "      <td>0.92</td>\n",
       "      <td>0.949</td>\n",
       "    </tr>\n",
       "    <tr>\n",
       "      <th>training_hours</th>\n",
       "      <td>19158.0</td>\n",
       "      <td>65.366896</td>\n",
       "      <td>60.058462</td>\n",
       "      <td>1.000</td>\n",
       "      <td>23.00</td>\n",
       "      <td>47.000</td>\n",
       "      <td>88.00</td>\n",
       "      <td>336.000</td>\n",
       "    </tr>\n",
       "    <tr>\n",
       "      <th>target</th>\n",
       "      <td>19158.0</td>\n",
       "      <td>0.249348</td>\n",
       "      <td>0.432647</td>\n",
       "      <td>0.000</td>\n",
       "      <td>0.00</td>\n",
       "      <td>0.000</td>\n",
       "      <td>0.00</td>\n",
       "      <td>1.000</td>\n",
       "    </tr>\n",
       "  </tbody>\n",
       "</table>\n",
       "</div>"
      ],
      "text/plain": [
       "                          count          mean          std    min      25%  \\\n",
       "enrollee_id             19158.0  16875.358179  9616.292592  1.000  8554.25   \n",
       "city_development_index  19158.0      0.828848     0.123362  0.448     0.74   \n",
       "training_hours          19158.0     65.366896    60.058462  1.000    23.00   \n",
       "target                  19158.0      0.249348     0.432647  0.000     0.00   \n",
       "\n",
       "                              50%       75%        max  \n",
       "enrollee_id             16982.500  25169.75  33380.000  \n",
       "city_development_index      0.903      0.92      0.949  \n",
       "training_hours             47.000     88.00    336.000  \n",
       "target                      0.000      0.00      1.000  "
      ]
     },
     "execution_count": 23,
     "metadata": {},
     "output_type": "execute_result"
    }
   ],
   "source": [
    "df_train.describe().T"
   ]
  },
  {
   "cell_type": "code",
   "execution_count": 24,
   "id": "966c6d8f-a372-4f5b-a536-6f598ab9f2d3",
   "metadata": {},
   "outputs": [
    {
     "data": {
      "text/html": [
       "<div>\n",
       "<style scoped>\n",
       "    .dataframe tbody tr th:only-of-type {\n",
       "        vertical-align: middle;\n",
       "    }\n",
       "\n",
       "    .dataframe tbody tr th {\n",
       "        vertical-align: top;\n",
       "    }\n",
       "\n",
       "    .dataframe thead th {\n",
       "        text-align: right;\n",
       "    }\n",
       "</style>\n",
       "<table border=\"1\" class=\"dataframe\">\n",
       "  <thead>\n",
       "    <tr style=\"text-align: right;\">\n",
       "      <th></th>\n",
       "      <th>count</th>\n",
       "      <th>mean</th>\n",
       "      <th>std</th>\n",
       "      <th>min</th>\n",
       "      <th>25%</th>\n",
       "      <th>50%</th>\n",
       "      <th>75%</th>\n",
       "      <th>max</th>\n",
       "    </tr>\n",
       "  </thead>\n",
       "  <tbody>\n",
       "    <tr>\n",
       "      <th>enrollee_id</th>\n",
       "      <td>2129.0</td>\n",
       "      <td>16861.614843</td>\n",
       "      <td>9576.846029</td>\n",
       "      <td>3.000</td>\n",
       "      <td>8562.000</td>\n",
       "      <td>16816.000</td>\n",
       "      <td>25129.00</td>\n",
       "      <td>33353.000</td>\n",
       "    </tr>\n",
       "    <tr>\n",
       "      <th>city_development_index</th>\n",
       "      <td>2129.0</td>\n",
       "      <td>0.824984</td>\n",
       "      <td>0.125074</td>\n",
       "      <td>0.448</td>\n",
       "      <td>0.698</td>\n",
       "      <td>0.903</td>\n",
       "      <td>0.92</td>\n",
       "      <td>0.949</td>\n",
       "    </tr>\n",
       "    <tr>\n",
       "      <th>training_hours</th>\n",
       "      <td>2129.0</td>\n",
       "      <td>64.983091</td>\n",
       "      <td>60.238660</td>\n",
       "      <td>1.000</td>\n",
       "      <td>23.000</td>\n",
       "      <td>47.000</td>\n",
       "      <td>86.00</td>\n",
       "      <td>334.000</td>\n",
       "    </tr>\n",
       "  </tbody>\n",
       "</table>\n",
       "</div>"
      ],
      "text/plain": [
       "                         count          mean          std    min       25%  \\\n",
       "enrollee_id             2129.0  16861.614843  9576.846029  3.000  8562.000   \n",
       "city_development_index  2129.0      0.824984     0.125074  0.448     0.698   \n",
       "training_hours          2129.0     64.983091    60.238660  1.000    23.000   \n",
       "\n",
       "                              50%       75%        max  \n",
       "enrollee_id             16816.000  25129.00  33353.000  \n",
       "city_development_index      0.903      0.92      0.949  \n",
       "training_hours             47.000     86.00    334.000  "
      ]
     },
     "execution_count": 24,
     "metadata": {},
     "output_type": "execute_result"
    }
   ],
   "source": [
    "df_test.describe().T"
   ]
  },
  {
   "cell_type": "markdown",
   "id": "22d2ae6b-1cd4-4e75-820e-122adb0858d8",
   "metadata": {},
   "source": [
    "<br><br><br>"
   ]
  },
  {
   "cell_type": "markdown",
   "id": "a48c4d46",
   "metadata": {
    "papermill": {
     "duration": 0.119246,
     "end_time": "2021-09-12T23:43:35.473144",
     "exception": false,
     "start_time": "2021-09-12T23:43:35.353898",
     "status": "completed"
    },
    "tags": []
   },
   "source": [
    "### 2.2. Data Cleaning / Preprocessing"
   ]
  },
  {
   "cell_type": "markdown",
   "id": "e504782a-f7a5-422f-ae07-d428a9511266",
   "metadata": {},
   "source": [
    "Workflow for preparing dataframe for machine learning process is as follows:"
   ]
  },
  {
   "cell_type": "markdown",
   "id": "d22b17de-219e-4708-91fb-45e83aef1660",
   "metadata": {},
   "source": [
    "<ul>\n",
    "<li>Creating DataFrame</li>\n",
    "<li>Removing extra columns that would not contribute the target value</li>\n",
    "<li>Feature Analysis</li>\n",
    "<li>Dealing with missing values</li>\n",
    "<li>Creating additional features if necessary</li>\n",
    "</ul>"
   ]
  },
  {
   "cell_type": "markdown",
   "id": "6ac47730-6366-4d4d-86a7-21eaa9379af1",
   "metadata": {},
   "source": [
    "<br><br>"
   ]
  },
  {
   "cell_type": "markdown",
   "id": "366bdcb8-ab5f-47cd-a7ad-303e2f8e9947",
   "metadata": {},
   "source": [
    "#### 2.2.1. Creating Dataframe"
   ]
  },
  {
   "cell_type": "markdown",
   "id": "d584f99f-c844-4de4-9857-f64147a553c4",
   "metadata": {},
   "source": [
    "Before we begin, note that train and test data are given in different tables. We can start by concating them so that we will not have to do the process twice."
   ]
  },
  {
   "cell_type": "code",
   "execution_count": 27,
   "id": "3af2a6a9-a9eb-4b64-8011-accb6144adc3",
   "metadata": {},
   "outputs": [],
   "source": [
    "df_train[\"label\"] = \"train\""
   ]
  },
  {
   "cell_type": "code",
   "execution_count": 28,
   "id": "dba9e048-8425-4f53-bdac-c2b8a31c2a45",
   "metadata": {},
   "outputs": [],
   "source": [
    "df_test[\"label\"] = \"test\""
   ]
  },
  {
   "cell_type": "code",
   "execution_count": 29,
   "id": "a8dff861-8cda-4d40-82c5-9435277c9db3",
   "metadata": {},
   "outputs": [],
   "source": [
    "df = pd.concat([df_train,df_test], ignore_index=True)"
   ]
  },
  {
   "cell_type": "code",
   "execution_count": 30,
   "id": "61def0be-fc40-426d-9983-f1c16e6b84eb",
   "metadata": {},
   "outputs": [
    {
     "data": {
      "text/html": [
       "<div>\n",
       "<style scoped>\n",
       "    .dataframe tbody tr th:only-of-type {\n",
       "        vertical-align: middle;\n",
       "    }\n",
       "\n",
       "    .dataframe tbody tr th {\n",
       "        vertical-align: top;\n",
       "    }\n",
       "\n",
       "    .dataframe thead th {\n",
       "        text-align: right;\n",
       "    }\n",
       "</style>\n",
       "<table border=\"1\" class=\"dataframe\">\n",
       "  <thead>\n",
       "    <tr style=\"text-align: right;\">\n",
       "      <th></th>\n",
       "      <th>enrollee_id</th>\n",
       "      <th>city</th>\n",
       "      <th>city_development_index</th>\n",
       "      <th>gender</th>\n",
       "      <th>relevent_experience</th>\n",
       "      <th>enrolled_university</th>\n",
       "      <th>education_level</th>\n",
       "      <th>major_discipline</th>\n",
       "      <th>experience</th>\n",
       "      <th>company_size</th>\n",
       "      <th>company_type</th>\n",
       "      <th>last_new_job</th>\n",
       "      <th>training_hours</th>\n",
       "      <th>target</th>\n",
       "      <th>label</th>\n",
       "    </tr>\n",
       "  </thead>\n",
       "  <tbody>\n",
       "    <tr>\n",
       "      <th>0</th>\n",
       "      <td>8949</td>\n",
       "      <td>city_103</td>\n",
       "      <td>0.920</td>\n",
       "      <td>Male</td>\n",
       "      <td>Has relevent experience</td>\n",
       "      <td>no_enrollment</td>\n",
       "      <td>Graduate</td>\n",
       "      <td>STEM</td>\n",
       "      <td>&gt;20</td>\n",
       "      <td>NaN</td>\n",
       "      <td>NaN</td>\n",
       "      <td>1</td>\n",
       "      <td>36</td>\n",
       "      <td>1.0</td>\n",
       "      <td>train</td>\n",
       "    </tr>\n",
       "    <tr>\n",
       "      <th>1</th>\n",
       "      <td>29725</td>\n",
       "      <td>city_40</td>\n",
       "      <td>0.776</td>\n",
       "      <td>Male</td>\n",
       "      <td>No relevent experience</td>\n",
       "      <td>no_enrollment</td>\n",
       "      <td>Graduate</td>\n",
       "      <td>STEM</td>\n",
       "      <td>15</td>\n",
       "      <td>50-99</td>\n",
       "      <td>Pvt Ltd</td>\n",
       "      <td>&gt;4</td>\n",
       "      <td>47</td>\n",
       "      <td>0.0</td>\n",
       "      <td>train</td>\n",
       "    </tr>\n",
       "    <tr>\n",
       "      <th>2</th>\n",
       "      <td>11561</td>\n",
       "      <td>city_21</td>\n",
       "      <td>0.624</td>\n",
       "      <td>NaN</td>\n",
       "      <td>No relevent experience</td>\n",
       "      <td>Full time course</td>\n",
       "      <td>Graduate</td>\n",
       "      <td>STEM</td>\n",
       "      <td>5</td>\n",
       "      <td>NaN</td>\n",
       "      <td>NaN</td>\n",
       "      <td>never</td>\n",
       "      <td>83</td>\n",
       "      <td>0.0</td>\n",
       "      <td>train</td>\n",
       "    </tr>\n",
       "    <tr>\n",
       "      <th>3</th>\n",
       "      <td>33241</td>\n",
       "      <td>city_115</td>\n",
       "      <td>0.789</td>\n",
       "      <td>NaN</td>\n",
       "      <td>No relevent experience</td>\n",
       "      <td>NaN</td>\n",
       "      <td>Graduate</td>\n",
       "      <td>Business Degree</td>\n",
       "      <td>&lt;1</td>\n",
       "      <td>NaN</td>\n",
       "      <td>Pvt Ltd</td>\n",
       "      <td>never</td>\n",
       "      <td>52</td>\n",
       "      <td>1.0</td>\n",
       "      <td>train</td>\n",
       "    </tr>\n",
       "    <tr>\n",
       "      <th>4</th>\n",
       "      <td>666</td>\n",
       "      <td>city_162</td>\n",
       "      <td>0.767</td>\n",
       "      <td>Male</td>\n",
       "      <td>Has relevent experience</td>\n",
       "      <td>no_enrollment</td>\n",
       "      <td>Masters</td>\n",
       "      <td>STEM</td>\n",
       "      <td>&gt;20</td>\n",
       "      <td>50-99</td>\n",
       "      <td>Funded Startup</td>\n",
       "      <td>4</td>\n",
       "      <td>8</td>\n",
       "      <td>0.0</td>\n",
       "      <td>train</td>\n",
       "    </tr>\n",
       "  </tbody>\n",
       "</table>\n",
       "</div>"
      ],
      "text/plain": [
       "   enrollee_id      city  city_development_index gender  \\\n",
       "0         8949  city_103                   0.920   Male   \n",
       "1        29725   city_40                   0.776   Male   \n",
       "2        11561   city_21                   0.624    NaN   \n",
       "3        33241  city_115                   0.789    NaN   \n",
       "4          666  city_162                   0.767   Male   \n",
       "\n",
       "       relevent_experience enrolled_university education_level  \\\n",
       "0  Has relevent experience       no_enrollment        Graduate   \n",
       "1   No relevent experience       no_enrollment        Graduate   \n",
       "2   No relevent experience    Full time course        Graduate   \n",
       "3   No relevent experience                 NaN        Graduate   \n",
       "4  Has relevent experience       no_enrollment         Masters   \n",
       "\n",
       "  major_discipline experience company_size    company_type last_new_job  \\\n",
       "0             STEM        >20          NaN             NaN            1   \n",
       "1             STEM         15        50-99         Pvt Ltd           >4   \n",
       "2             STEM          5          NaN             NaN        never   \n",
       "3  Business Degree         <1          NaN         Pvt Ltd        never   \n",
       "4             STEM        >20        50-99  Funded Startup            4   \n",
       "\n",
       "   training_hours  target  label  \n",
       "0              36     1.0  train  \n",
       "1              47     0.0  train  \n",
       "2              83     0.0  train  \n",
       "3              52     1.0  train  \n",
       "4               8     0.0  train  "
      ]
     },
     "execution_count": 30,
     "metadata": {},
     "output_type": "execute_result"
    }
   ],
   "source": [
    "df.head()"
   ]
  },
  {
   "cell_type": "markdown",
   "id": "284c21eb-5f11-41c0-8350-c162cd6b1da0",
   "metadata": {},
   "source": [
    "<br><br><br>"
   ]
  },
  {
   "cell_type": "markdown",
   "id": "55f6df5d-b7da-4077-8f20-bf0b88d12470",
   "metadata": {},
   "source": [
    "#### 2.2.2. Dropping Extra Columns"
   ]
  },
  {
   "cell_type": "code",
   "execution_count": 31,
   "id": "aa637b04-27ff-4dea-902f-75f78c2e60f2",
   "metadata": {},
   "outputs": [
    {
     "name": "stdout",
     "output_type": "stream",
     "text": [
      "<class 'pandas.core.frame.DataFrame'>\n",
      "RangeIndex: 21287 entries, 0 to 21286\n",
      "Data columns (total 15 columns):\n",
      " #   Column                  Non-Null Count  Dtype  \n",
      "---  ------                  --------------  -----  \n",
      " 0   enrollee_id             21287 non-null  int64  \n",
      " 1   city                    21287 non-null  object \n",
      " 2   city_development_index  21287 non-null  float64\n",
      " 3   gender                  16271 non-null  object \n",
      " 4   relevent_experience     21287 non-null  object \n",
      " 5   enrolled_university     20870 non-null  object \n",
      " 6   education_level         20775 non-null  object \n",
      " 7   major_discipline        18162 non-null  object \n",
      " 8   experience              21217 non-null  object \n",
      " 9   company_size            14727 non-null  object \n",
      " 10  company_type            14513 non-null  object \n",
      " 11  last_new_job            20824 non-null  object \n",
      " 12  training_hours          21287 non-null  int64  \n",
      " 13  target                  19158 non-null  float64\n",
      " 14  label                   21287 non-null  object \n",
      "dtypes: float64(2), int64(2), object(11)\n",
      "memory usage: 2.4+ MB\n"
     ]
    }
   ],
   "source": [
    "df.info()"
   ]
  },
  {
   "cell_type": "markdown",
   "id": "229621c3",
   "metadata": {
    "papermill": {
     "duration": 0.119172,
     "end_time": "2021-09-12T23:43:35.711748",
     "exception": false,
     "start_time": "2021-09-12T23:43:35.592576",
     "status": "completed"
    },
    "tags": []
   },
   "source": [
    "First, we can assign enrollee id as index."
   ]
  },
  {
   "cell_type": "code",
   "execution_count": 34,
   "id": "5209fdec",
   "metadata": {
    "papermill": {
     "duration": 0.133272,
     "end_time": "2021-09-12T23:43:35.965524",
     "exception": false,
     "start_time": "2021-09-12T23:43:35.832252",
     "status": "completed"
    },
    "tags": []
   },
   "outputs": [],
   "source": [
    "df.index = df[\"enrollee_id\"]"
   ]
  },
  {
   "cell_type": "code",
   "execution_count": 35,
   "id": "ffb51e4b",
   "metadata": {
    "papermill": {
     "duration": 0.135361,
     "end_time": "2021-09-12T23:43:36.222582",
     "exception": false,
     "start_time": "2021-09-12T23:43:36.087221",
     "status": "completed"
    },
    "tags": []
   },
   "outputs": [],
   "source": [
    "df.drop(\"enrollee_id\",axis = 1,inplace=True)"
   ]
  },
  {
   "cell_type": "markdown",
   "id": "119ae905",
   "metadata": {
    "papermill": {
     "duration": 0.171589,
     "end_time": "2021-09-12T23:43:36.515751",
     "exception": false,
     "start_time": "2021-09-12T23:43:36.344162",
     "status": "completed"
    },
    "tags": []
   },
   "source": [
    "<br>Since there is city development index, we can drop city."
   ]
  },
  {
   "cell_type": "code",
   "execution_count": 36,
   "id": "68f830eb",
   "metadata": {
    "papermill": {
     "duration": 0.13135,
     "end_time": "2021-09-12T23:43:36.767665",
     "exception": false,
     "start_time": "2021-09-12T23:43:36.636315",
     "status": "completed"
    },
    "tags": []
   },
   "outputs": [],
   "source": [
    "df.drop(\"city\", axis=1, inplace=True)"
   ]
  },
  {
   "cell_type": "code",
   "execution_count": 37,
   "id": "657389c7-c5bf-4d37-923c-e004970bd54a",
   "metadata": {},
   "outputs": [
    {
     "data": {
      "text/html": [
       "<div>\n",
       "<style scoped>\n",
       "    .dataframe tbody tr th:only-of-type {\n",
       "        vertical-align: middle;\n",
       "    }\n",
       "\n",
       "    .dataframe tbody tr th {\n",
       "        vertical-align: top;\n",
       "    }\n",
       "\n",
       "    .dataframe thead th {\n",
       "        text-align: right;\n",
       "    }\n",
       "</style>\n",
       "<table border=\"1\" class=\"dataframe\">\n",
       "  <thead>\n",
       "    <tr style=\"text-align: right;\">\n",
       "      <th></th>\n",
       "      <th>city_development_index</th>\n",
       "      <th>gender</th>\n",
       "      <th>relevent_experience</th>\n",
       "      <th>enrolled_university</th>\n",
       "      <th>education_level</th>\n",
       "      <th>major_discipline</th>\n",
       "      <th>experience</th>\n",
       "      <th>company_size</th>\n",
       "      <th>company_type</th>\n",
       "      <th>last_new_job</th>\n",
       "      <th>training_hours</th>\n",
       "      <th>target</th>\n",
       "      <th>label</th>\n",
       "    </tr>\n",
       "    <tr>\n",
       "      <th>enrollee_id</th>\n",
       "      <th></th>\n",
       "      <th></th>\n",
       "      <th></th>\n",
       "      <th></th>\n",
       "      <th></th>\n",
       "      <th></th>\n",
       "      <th></th>\n",
       "      <th></th>\n",
       "      <th></th>\n",
       "      <th></th>\n",
       "      <th></th>\n",
       "      <th></th>\n",
       "      <th></th>\n",
       "    </tr>\n",
       "  </thead>\n",
       "  <tbody>\n",
       "    <tr>\n",
       "      <th>8949</th>\n",
       "      <td>0.920</td>\n",
       "      <td>Male</td>\n",
       "      <td>Has relevent experience</td>\n",
       "      <td>no_enrollment</td>\n",
       "      <td>Graduate</td>\n",
       "      <td>STEM</td>\n",
       "      <td>&gt;20</td>\n",
       "      <td>NaN</td>\n",
       "      <td>NaN</td>\n",
       "      <td>1</td>\n",
       "      <td>36</td>\n",
       "      <td>1.0</td>\n",
       "      <td>train</td>\n",
       "    </tr>\n",
       "    <tr>\n",
       "      <th>29725</th>\n",
       "      <td>0.776</td>\n",
       "      <td>Male</td>\n",
       "      <td>No relevent experience</td>\n",
       "      <td>no_enrollment</td>\n",
       "      <td>Graduate</td>\n",
       "      <td>STEM</td>\n",
       "      <td>15</td>\n",
       "      <td>50-99</td>\n",
       "      <td>Pvt Ltd</td>\n",
       "      <td>&gt;4</td>\n",
       "      <td>47</td>\n",
       "      <td>0.0</td>\n",
       "      <td>train</td>\n",
       "    </tr>\n",
       "    <tr>\n",
       "      <th>11561</th>\n",
       "      <td>0.624</td>\n",
       "      <td>NaN</td>\n",
       "      <td>No relevent experience</td>\n",
       "      <td>Full time course</td>\n",
       "      <td>Graduate</td>\n",
       "      <td>STEM</td>\n",
       "      <td>5</td>\n",
       "      <td>NaN</td>\n",
       "      <td>NaN</td>\n",
       "      <td>never</td>\n",
       "      <td>83</td>\n",
       "      <td>0.0</td>\n",
       "      <td>train</td>\n",
       "    </tr>\n",
       "    <tr>\n",
       "      <th>33241</th>\n",
       "      <td>0.789</td>\n",
       "      <td>NaN</td>\n",
       "      <td>No relevent experience</td>\n",
       "      <td>NaN</td>\n",
       "      <td>Graduate</td>\n",
       "      <td>Business Degree</td>\n",
       "      <td>&lt;1</td>\n",
       "      <td>NaN</td>\n",
       "      <td>Pvt Ltd</td>\n",
       "      <td>never</td>\n",
       "      <td>52</td>\n",
       "      <td>1.0</td>\n",
       "      <td>train</td>\n",
       "    </tr>\n",
       "    <tr>\n",
       "      <th>666</th>\n",
       "      <td>0.767</td>\n",
       "      <td>Male</td>\n",
       "      <td>Has relevent experience</td>\n",
       "      <td>no_enrollment</td>\n",
       "      <td>Masters</td>\n",
       "      <td>STEM</td>\n",
       "      <td>&gt;20</td>\n",
       "      <td>50-99</td>\n",
       "      <td>Funded Startup</td>\n",
       "      <td>4</td>\n",
       "      <td>8</td>\n",
       "      <td>0.0</td>\n",
       "      <td>train</td>\n",
       "    </tr>\n",
       "  </tbody>\n",
       "</table>\n",
       "</div>"
      ],
      "text/plain": [
       "             city_development_index gender      relevent_experience  \\\n",
       "enrollee_id                                                           \n",
       "8949                          0.920   Male  Has relevent experience   \n",
       "29725                         0.776   Male   No relevent experience   \n",
       "11561                         0.624    NaN   No relevent experience   \n",
       "33241                         0.789    NaN   No relevent experience   \n",
       "666                           0.767   Male  Has relevent experience   \n",
       "\n",
       "            enrolled_university education_level major_discipline experience  \\\n",
       "enrollee_id                                                                   \n",
       "8949              no_enrollment        Graduate             STEM        >20   \n",
       "29725             no_enrollment        Graduate             STEM         15   \n",
       "11561          Full time course        Graduate             STEM          5   \n",
       "33241                       NaN        Graduate  Business Degree         <1   \n",
       "666               no_enrollment         Masters             STEM        >20   \n",
       "\n",
       "            company_size    company_type last_new_job  training_hours  target  \\\n",
       "enrollee_id                                                                     \n",
       "8949                 NaN             NaN            1              36     1.0   \n",
       "29725              50-99         Pvt Ltd           >4              47     0.0   \n",
       "11561                NaN             NaN        never              83     0.0   \n",
       "33241                NaN         Pvt Ltd        never              52     1.0   \n",
       "666                50-99  Funded Startup            4               8     0.0   \n",
       "\n",
       "             label  \n",
       "enrollee_id         \n",
       "8949         train  \n",
       "29725        train  \n",
       "11561        train  \n",
       "33241        train  \n",
       "666          train  "
      ]
     },
     "execution_count": 37,
     "metadata": {},
     "output_type": "execute_result"
    }
   ],
   "source": [
    "df.head()"
   ]
  },
  {
   "cell_type": "markdown",
   "id": "5b87f910-c201-484b-b71d-a0bc89eb3546",
   "metadata": {},
   "source": [
    "<br><br>"
   ]
  },
  {
   "cell_type": "markdown",
   "id": "95d6c7d2",
   "metadata": {
    "papermill": {
     "duration": 0.121544,
     "end_time": "2021-09-12T23:43:38.002822",
     "exception": false,
     "start_time": "2021-09-12T23:43:37.881278",
     "status": "completed"
    },
    "tags": []
   },
   "source": [
    "#### 2.2.3. Feature Analysis"
   ]
  },
  {
   "cell_type": "markdown",
   "id": "86e4a94b-8b88-4279-baef-c52da152f9be",
   "metadata": {},
   "source": [
    "**enrollee_id**: Unique ID for candidate\n",
    "\n",
    "**city**: City code\n",
    "\n",
    "**city_ development _index**: Developement index of the city (scaled)\n",
    "\n",
    "**gender**: Gender of candidate\n",
    "\n",
    "**relevent_experience**: Relevant experience of candidate\n",
    "\n",
    "**enrolled_university**: Type of University course enrolled if any\n",
    "\n",
    "**education_level**: Education level of candidate\n",
    "\n",
    "**major_discipline**: Education major discipline of candidate\n",
    "\n",
    "**experience**: Candidate total experience in years\n",
    "\n",
    "**company_size**: No of employees in current employer's company\n",
    "\n",
    "**company_type**: Type of current employer\n",
    "\n",
    "**lastnewjob**: Difference in years between previous job and current job\n",
    "\n",
    "**training_hours**: training hours completed\n",
    "\n",
    "**target**: 0 – Not looking for job change, 1 – Looking for a job change"
   ]
  },
  {
   "cell_type": "code",
   "execution_count": 12,
   "id": "380c38e2",
   "metadata": {
    "execution": {
     "iopub.execute_input": "2021-09-12T23:43:38.492253Z",
     "iopub.status.busy": "2021-09-12T23:43:38.491233Z",
     "iopub.status.idle": "2021-09-12T23:43:38.525822Z",
     "shell.execute_reply": "2021-09-12T23:43:38.526366Z",
     "shell.execute_reply.started": "2021-09-12T23:37:34.501142Z"
    },
    "papermill": {
     "duration": 0.160819,
     "end_time": "2021-09-12T23:43:38.526546",
     "exception": false,
     "start_time": "2021-09-12T23:43:38.365727",
     "status": "completed"
    },
    "tags": []
   },
   "outputs": [
    {
     "name": "stdout",
     "output_type": "stream",
     "text": [
      "<class 'pandas.core.frame.DataFrame'>\n",
      "Int64Index: 19158 entries, 8949 to 23834\n",
      "Data columns (total 12 columns):\n",
      " #   Column                  Non-Null Count  Dtype  \n",
      "---  ------                  --------------  -----  \n",
      " 0   city_development_index  19158 non-null  float64\n",
      " 1   gender                  14650 non-null  object \n",
      " 2   relevent_experience     19158 non-null  object \n",
      " 3   enrolled_university     18772 non-null  object \n",
      " 4   education_level         18698 non-null  object \n",
      " 5   major_discipline        16345 non-null  object \n",
      " 6   experience              19093 non-null  object \n",
      " 7   company_size            13220 non-null  object \n",
      " 8   company_type            13018 non-null  object \n",
      " 9   last_new_job            18735 non-null  object \n",
      " 10  training_hours          19158 non-null  int64  \n",
      " 11  target                  19158 non-null  float64\n",
      "dtypes: float64(2), int64(1), object(9)\n",
      "memory usage: 1.9+ MB\n"
     ]
    }
   ],
   "source": [
    "df.info()"
   ]
  },
  {
   "cell_type": "markdown",
   "id": "2b378327-768c-4e1d-a4c1-e1d84d10ef29",
   "metadata": {},
   "source": [
    "<br><br>We begin with simple visualization to understand the correlation between the numerical features and the target. "
   ]
  },
  {
   "cell_type": "code",
   "execution_count": 48,
   "id": "c32b5e23-a8be-42f2-930e-ec54f79e8c41",
   "metadata": {},
   "outputs": [
    {
     "data": {
      "text/plain": [
       "<seaborn.axisgrid.PairGrid at 0x7fdea25db640>"
      ]
     },
     "execution_count": 48,
     "metadata": {},
     "output_type": "execute_result"
    },
    {
     "data": {
      "image/png": "[encoded data removed]",
      "text/plain": [
       "<Figure size 412x360 with 6 Axes>"
      ]
     },
     "metadata": {
      "needs_background": "light"
     },
     "output_type": "display_data"
    }
   ],
   "source": [
    "sns.pairplot(data=df, hue=\"target\", palette=\"Set1\")"
   ]
  },
  {
   "cell_type": "code",
   "execution_count": 55,
   "id": "faec8126-55be-423b-95a0-32c78ce41703",
   "metadata": {},
   "outputs": [
    {
     "data": {
      "text/plain": [
       "<AxesSubplot:>"
      ]
     },
     "execution_count": 55,
     "metadata": {},
     "output_type": "execute_result"
    },
    {
     "data": {
      "image/png": "[encoded data removed]",
      "text/plain": [
       "<Figure size 432x288 with 2 Axes>"
      ]
     },
     "metadata": {
      "needs_background": "light"
     },
     "output_type": "display_data"
    }
   ],
   "source": [
    "sns.heatmap(df.corr(), annot=True, cmap=\"viridis\")"
   ]
  },
  {
   "cell_type": "markdown",
   "id": "80aed880-7d05-4033-b2b2-ed96a5cf973e",
   "metadata": {},
   "source": [
    "<br><br>Then we analyze the categorical features. Before visualizing the categorical features, we define their order if necessary."
   ]
  },
  {
   "cell_type": "code",
   "execution_count": 73,
   "id": "fdb07c5a-42f6-4155-abaa-a8a2b8eb5e13",
   "metadata": {},
   "outputs": [],
   "source": [
    "cat_cols = df.select_dtypes(\"object\").columns"
   ]
  },
  {
   "cell_type": "code",
   "execution_count": 74,
   "id": "c6a15677-1c9b-4b1d-9c0e-1a991195a19b",
   "metadata": {},
   "outputs": [
    {
     "name": "stdout",
     "output_type": "stream",
     "text": [
      "gender \n",
      " ['Male' nan 'Female' 'Other']\n",
      "relevent_experience \n",
      " ['Has relevent experience' 'No relevent experience']\n",
      "enrolled_university \n",
      " ['no_enrollment' 'Full time course' nan 'Part time course']\n",
      "education_level \n",
      " ['Graduate' 'Masters' 'High School' nan 'Phd' 'Primary School']\n",
      "major_discipline \n",
      " ['STEM' 'Business Degree' nan 'Arts' 'Humanities' 'No Major' 'Other']\n",
      "experience \n",
      " ['>20' '15' '5' '<1' '11' '13' '7' '17' '2' '16' '1' '4' '10' '14' '18'\n",
      " '19' '12' '3' '6' '9' '8' '20' nan]\n",
      "company_size \n",
      " [nan '50-99' '<10' '10000+' '5000-9999' '1000-4999' '10/49' '100-500'\n",
      " '500-999']\n",
      "company_type \n",
      " [nan 'Pvt Ltd' 'Funded Startup' 'Early Stage Startup' 'Other'\n",
      " 'Public Sector' 'NGO']\n",
      "last_new_job \n",
      " ['1' '>4' 'never' '4' '3' '2' nan]\n",
      "label \n",
      " ['train' 'test']\n"
     ]
    }
   ],
   "source": [
    "for i in cat_cols:\n",
    "    print(i,\"\\n\",df[i].unique())"
   ]
  },
  {
   "cell_type": "markdown",
   "id": "145f195e-ffa7-4ba8-b433-c86f166aa34e",
   "metadata": {},
   "source": [
    "<br><br>**Ordering Categorical Features**"
   ]
  },
  {
   "cell_type": "code",
   "execution_count": 75,
   "id": "8b9f52db-3a67-40e9-8af7-e5a11087ca34",
   "metadata": {
    "papermill": {
     "duration": 0.162776,
     "end_time": "2021-09-12T23:44:12.462177",
     "exception": false,
     "start_time": "2021-09-12T23:44:12.299401",
     "status": "completed"
    },
    "tags": []
   },
   "outputs": [],
   "source": [
    "from pandas.api.types import CategoricalDtype"
   ]
  },
  {
   "cell_type": "code",
   "execution_count": 81,
   "id": "e4902989-31c4-4c10-adf5-4e0062545090",
   "metadata": {
    "papermill": {
     "duration": 0.171849,
     "end_time": "2021-09-12T23:44:12.788740",
     "exception": false,
     "start_time": "2021-09-12T23:44:12.616891",
     "status": "completed"
    },
    "tags": []
   },
   "outputs": [],
   "source": [
    "df.education_level = df.education_level.astype(\n",
    "    CategoricalDtype(categories = ['Primary School','High School','Graduate', 'Masters','Phd'],\n",
    "                     ordered = True))\n",
    "df.company_size = df.company_size.astype(\n",
    "    CategoricalDtype(categories = ['No Company','<10','10/49','50-99','100-500','500-999','1000-4999','10000+'],\n",
    "                     ordered = True))"
   ]
  },
  {
   "cell_type": "code",
   "execution_count": 77,
   "id": "fba3ffd4-f2fb-40ac-815b-6bef66d5afbe",
   "metadata": {},
   "outputs": [],
   "source": [
    "df.experience = df.experience.astype(\n",
    "    CategoricalDtype(categories = ['<1','1','2','3','4','5','6','7','8','9','10',\n",
    "                                    '11','12','13','14','15','16','17','18','19','20','>20'],\n",
    "                     ordered = True))"
   ]
  },
  {
   "cell_type": "code",
   "execution_count": 78,
   "id": "f328ad03-191a-41da-ae3b-df04fd0b21a3",
   "metadata": {},
   "outputs": [],
   "source": [
    "df.last_new_job = df.last_new_job.astype(\n",
    "    CategoricalDtype(categories = ['never','1','2','3','>4'],\n",
    "                     ordered = True))"
   ]
  },
  {
   "cell_type": "markdown",
   "id": "67c59834-e0a5-4e7d-a3f5-d3828b59c54e",
   "metadata": {},
   "source": [
    "<br><br>**Visualizing Categorical Features**"
   ]
  },
  {
   "cell_type": "code",
   "execution_count": 90,
   "id": "a96cb29a-ce71-4b95-a4f6-905b101534eb",
   "metadata": {},
   "outputs": [
    {
     "data": {
      "image/png": "[encoded data removed]",
      "text/plain": [
       "<Figure size 864x432 with 2 Axes>"
      ]
     },
     "metadata": {
      "needs_background": "light"
     },
     "output_type": "display_data"
    },
    {
     "data": {
      "image/png": "[encoded data removed]",
      "text/plain": [
       "<Figure size 864x432 with 2 Axes>"
      ]
     },
     "metadata": {
      "needs_background": "light"
     },
     "output_type": "display_data"
    },
    {
     "data": {
      "image/png": "[encoded data removed]",
      "text/plain": [
       "<Figure size 864x432 with 2 Axes>"
      ]
     },
     "metadata": {
      "needs_background": "light"
     },
     "output_type": "display_data"
    },
    {
     "data": {
      "image/png": "[encoded data removed]",
      "text/plain": [
       "<Figure size 864x432 with 2 Axes>"
      ]
     },
     "metadata": {
      "needs_background": "light"
     },
     "output_type": "display_data"
    },
    {
     "data": {
      "image/png": "[encoded data removed]",
      "text/plain": [
       "<Figure size 864x432 with 2 Axes>"
      ]
     },
     "metadata": {
      "needs_background": "light"
     },
     "output_type": "display_data"
    },
    {
     "data": {
      "image/png": "[encoded data removed]",
      "text/plain": [
       "<Figure size 864x432 with 2 Axes>"
      ]
     },
     "metadata": {
      "needs_background": "light"
     },
     "output_type": "display_data"
    },
    {
     "data": {
      "image/png": "[encoded data removed]",
      "text/plain": [
       "<Figure size 864x432 with 2 Axes>"
      ]
     },
     "metadata": {
      "needs_background": "light"
     },
     "output_type": "display_data"
    },
    {
     "data": {
      "image/png": "[encoded data removed]",
      "text/plain": [
       "<Figure size 864x432 with 2 Axes>"
      ]
     },
     "metadata": {
      "needs_background": "light"
     },
     "output_type": "display_data"
    },
    {
     "data": {
      "image/png": "[encoded data removed]",
      "text/plain": [
       "<Figure size 864x432 with 2 Axes>"
      ]
     },
     "metadata": {
      "needs_background": "light"
     },
     "output_type": "display_data"
    },
    {
     "data": {
      "image/png": "[encoded data removed]",
      "text/plain": [
       "<Figure size 864x432 with 2 Axes>"
      ]
     },
     "metadata": {
      "needs_background": "light"
     },
     "output_type": "display_data"
    }
   ],
   "source": [
    "for i in cat_cols:\n",
    "    fig, axes = plt.subplots(1,2, figsize=(12,6))\n",
    "    sns.barplot(ax = axes[0],data=df, x=i, y=\"target\")\n",
    "    sns.countplot(ax = axes[1],data=df, x=i)\n",
    "    plt.show()"
   ]
  },
  {
   "cell_type": "markdown",
   "id": "5d2eed3d-fe9a-482b-8c68-f57aa31b7895",
   "metadata": {},
   "source": [
    "<br><br>"
   ]
  },
  {
   "cell_type": "markdown",
   "id": "c9c0f0e3-461b-46a2-87ac-5bc185266193",
   "metadata": {},
   "source": [
    "**First Observations**"
   ]
  },
  {
   "cell_type": "markdown",
   "id": "273703f1-2790-42d9-8cb2-63a17adb4365",
   "metadata": {},
   "source": [
    "<ul>\n",
    "<li>Numerical values, <strong>city development index</strong> and <strong>training hours</strong>, have low correlation with the target value.</li>\n",
    "<li>Female <strong>gender</strong> has relatively more success rate than males, however, there are mostly male candidates present.</li>\n",
    "<li>Most candidates have <strong>relevant experience</strong>, yet, they tend to leave their job compared to the candidates with no relevant experince.</li>\n",
    "<li>The candidates who have not <strong>enrolled university</strong> courses tends to leave more than the other groups, but their number in the sample group is greater.</li>\n",
    "<li><strong>Education level</strong> plays a siginificant role on the target value. People who graduated from a university is more likely to work than others.</li>\n",
    "<li><strong>Major discipline</strong> doesn't seem to be a significant factor. Most candidates their major from STEM field.&nbsp;</li>\n",
    "<li>People tends to leave their job when they gain more <strong>experience </strong>and most candidates have more than 20 years experience.</li>\n",
    "<li><strong>Company size</strong> and <strong>company type</strong> do not play a significant role on the target value.</li>\n",
    "<li>Candidates, who are currently working another company or recently left, tends to stay at their new job more than other groups. When <strong>the time between the last job and new job</strong> increases, the probability of leaving increases accordingly.</li>\n",
    "</ul>"
   ]
  },
  {
   "cell_type": "markdown",
   "id": "5c0c8c44-2e2e-49bf-b47d-ba716ba01b0c",
   "metadata": {},
   "source": [
    "<br><br>"
   ]
  },
  {
   "cell_type": "markdown",
   "id": "71a88756",
   "metadata": {
    "papermill": {
     "duration": 0.133036,
     "end_time": "2021-09-12T23:43:49.335244",
     "exception": false,
     "start_time": "2021-09-12T23:43:49.202208",
     "status": "completed"
    },
    "tags": []
   },
   "source": [
    "#### 2.2.4. Missing Values (Data Interpretation)"
   ]
  },
  {
   "cell_type": "markdown",
   "id": "2e85cf2c",
   "metadata": {
    "papermill": {
     "duration": 0.133455,
     "end_time": "2021-09-12T23:43:49.602507",
     "exception": false,
     "start_time": "2021-09-12T23:43:49.469052",
     "status": "completed"
    },
    "tags": []
   },
   "source": [
    "In this section, we analyze the missing values and try to answer \"Why they are missing?\" in order to save the valuable data. When we simply drop them, we can lose a lot of values and this may cause the bias of the data to increase."
   ]
  },
  {
   "cell_type": "code",
   "execution_count": 91,
   "id": "6c24467d",
   "metadata": {
    "papermill": {
     "duration": 0.170418,
     "end_time": "2021-09-12T23:43:49.907108",
     "exception": false,
     "start_time": "2021-09-12T23:43:49.736690",
     "status": "completed"
    },
    "tags": []
   },
   "outputs": [
    {
     "data": {
      "text/plain": [
       "city_development_index       0\n",
       "gender                    5016\n",
       "relevent_experience          0\n",
       "enrolled_university        417\n",
       "education_level            512\n",
       "major_discipline          3125\n",
       "experience                  70\n",
       "company_size              7191\n",
       "company_type              6774\n",
       "last_new_job              1611\n",
       "training_hours               0\n",
       "target                    2129\n",
       "label                        0\n",
       "dtype: int64"
      ]
     },
     "execution_count": 91,
     "metadata": {},
     "output_type": "execute_result"
    }
   ],
   "source": [
    "df.isnull().sum()"
   ]
  },
  {
   "cell_type": "markdown",
   "id": "1b117d59",
   "metadata": {
    "papermill": {
     "duration": 0.136221,
     "end_time": "2021-09-12T23:43:50.178715",
     "exception": false,
     "start_time": "2021-09-12T23:43:50.042494",
     "status": "completed"
    },
    "tags": []
   },
   "source": [
    "As seen in the above table, simply dropping the rows containing missing values may cause losses of thousands of data rows."
   ]
  },
  {
   "cell_type": "markdown",
   "id": "826a6f42",
   "metadata": {
    "papermill": {
     "duration": 0.136224,
     "end_time": "2021-09-12T23:43:50.449811",
     "exception": false,
     "start_time": "2021-09-12T23:43:50.313587",
     "status": "completed"
    },
    "tags": []
   },
   "source": [
    "We go deeper with the missing values. To gain better insight, we can visualize them."
   ]
  },
  {
   "cell_type": "code",
   "execution_count": 94,
   "id": "7cb7417e",
   "metadata": {
    "papermill": {
     "duration": 0.149185,
     "end_time": "2021-09-12T23:43:50.734745",
     "exception": false,
     "start_time": "2021-09-12T23:43:50.585560",
     "status": "completed"
    },
    "tags": []
   },
   "outputs": [],
   "source": [
    "import missingno as msno"
   ]
  },
  {
   "cell_type": "code",
   "execution_count": 95,
   "id": "afdaf330",
   "metadata": {
    "papermill": {
     "duration": 1.076899,
     "end_time": "2021-09-12T23:43:51.946178",
     "exception": false,
     "start_time": "2021-09-12T23:43:50.869279",
     "status": "completed"
    },
    "tags": []
   },
   "outputs": [
    {
     "data": {
      "image/png": "[encoded data removed]",
      "text/plain": [
       "<Figure size 1800x720 with 3 Axes>"
      ]
     },
     "metadata": {
      "needs_background": "light"
     },
     "output_type": "display_data"
    }
   ],
   "source": [
    "msno.bar(df);"
   ]
  },
  {
   "cell_type": "markdown",
   "id": "e5cae5ec-df5a-4522-841d-7f7966222403",
   "metadata": {},
   "source": [
    "<br><br>**Roadmap for Missing Values**"
   ]
  },
  {
   "cell_type": "markdown",
   "id": "3c932b5a-6d15-4d63-896c-c7d2dbac9820",
   "metadata": {},
   "source": [
    "<ul>\n",
    "<li><strong>Gender</strong> feature has approximately 25% missing values. Additionally, there is \"Other\" value in the remaining 75%. At our first observation, we saw that gender may play a significant role. So we can fill these missing values with \"other\".</li>\n",
    "<li><strong>Major discipline</strong> has almost 15% missing values. This may be caused by the candidates, who do not have a college degree. For these candidates we can fill the missing values with \"No Major\". Then, we can determine our roadmap accordingly.&nbsp;</li>\n",
    "<li><strong>Company size</strong> and <strong>company type</strong> have more than 30% missing values. This may be caused by the candidates, who have no previous work experience. For these candidates we can fill these values with \"No company\". On the other hand we can consider removing these columns, because we know that they do not play significant role for the target value.</li>\n",
    "<li><strong>Enrollment to university courses</strong> has small missing ratio, however, they play an important role. We can assume that the missing values are caused by the candidates, who did not enroll, left this value blank.</li>\n",
    "<li><strong>The time between last job and new job</strong> has more than 5% missing values. The candidates who has no previous work experience could have leave this blank, so we can fill them \"never\" and decide about others later.</li>\n",
    "<li>There are 70 missing values for <strong>experience</strong>. This feature is significant, but number of missing values are negligible. Therefore, we can simply drop them.</li>\n",
    "</ul>"
   ]
  },
  {
   "cell_type": "markdown",
   "id": "a0294cd8-f94f-4559-8a45-3a7102997b09",
   "metadata": {
    "papermill": {
     "duration": 0.143735,
     "end_time": "2021-09-12T23:43:58.414446",
     "exception": false,
     "start_time": "2021-09-12T23:43:58.270711",
     "status": "completed"
    },
    "tags": []
   },
   "source": [
    "<br><br>**Gender**"
   ]
  },
  {
   "cell_type": "code",
   "execution_count": 101,
   "id": "30d389a1-1407-4649-9b75-bdfcbb4f5530",
   "metadata": {},
   "outputs": [
    {
     "data": {
      "text/plain": [
       "array(['Male', nan, 'Female', 'Other'], dtype=object)"
      ]
     },
     "execution_count": 101,
     "metadata": {},
     "output_type": "execute_result"
    }
   ],
   "source": [
    "df[\"gender\"].unique()"
   ]
  },
  {
   "cell_type": "code",
   "execution_count": 102,
   "id": "6f8e138a",
   "metadata": {
    "papermill": {
     "duration": 0.156043,
     "end_time": "2021-09-12T23:43:59.004635",
     "exception": false,
     "start_time": "2021-09-12T23:43:58.848592",
     "status": "completed"
    },
    "tags": []
   },
   "outputs": [],
   "source": [
    "df[\"gender\"].fillna(\"Other\",inplace = True)"
   ]
  },
  {
   "cell_type": "markdown",
   "id": "91c84669",
   "metadata": {
    "jp-MarkdownHeadingCollapsed": true,
    "papermill": {
     "duration": 0.139907,
     "end_time": "2021-09-12T23:43:53.479870",
     "exception": false,
     "start_time": "2021-09-12T23:43:53.339963",
     "status": "completed"
    },
    "tags": []
   },
   "source": [
    "<br><br>**Validity of Education Related Values**"
   ]
  },
  {
   "cell_type": "code",
   "execution_count": 103,
   "id": "ff438135-b973-4782-8e35-65c2e1ce29b5",
   "metadata": {},
   "outputs": [
    {
     "data": {
      "text/plain": [
       "['Graduate', 'Masters', 'High School', NaN, 'Phd', 'Primary School']\n",
       "Categories (5, object): ['Primary School' < 'High School' < 'Graduate' < 'Masters' < 'Phd']"
      ]
     },
     "execution_count": 103,
     "metadata": {},
     "output_type": "execute_result"
    }
   ],
   "source": [
    "df[\"education_level\"].unique()"
   ]
  },
  {
   "cell_type": "markdown",
   "id": "394a1261",
   "metadata": {
    "papermill": {
     "duration": 0.138524,
     "end_time": "2021-09-12T23:43:53.757348",
     "exception": false,
     "start_time": "2021-09-12T23:43:53.618824",
     "status": "completed"
    },
    "tags": []
   },
   "source": [
    "<br><br>Missing values in education_level may caused by the candidates who has no educational degree or who left it blank."
   ]
  },
  {
   "cell_type": "markdown",
   "id": "25b10f8a-bfa8-47a8-89e7-51d741d42276",
   "metadata": {},
   "source": [
    "<il> **Assumption 1:** If major_discipline is filled when education_level is not, then it is left blank.<br> \n",
    "<il> **Assumption 2:** If major_discipline is also missing, then the candidates have no education. "
   ]
  },
  {
   "cell_type": "code",
   "execution_count": 97,
   "id": "d39c267a",
   "metadata": {
    "papermill": {
     "duration": 0.738206,
     "end_time": "2021-09-12T23:43:54.635148",
     "exception": false,
     "start_time": "2021-09-12T23:43:53.896942",
     "status": "completed"
    },
    "tags": []
   },
   "outputs": [
    {
     "data": {
      "image/png": "[encoded data removed]",
      "text/plain": [
       "<Figure size 1800x720 with 2 Axes>"
      ]
     },
     "metadata": {
      "needs_background": "light"
     },
     "output_type": "display_data"
    }
   ],
   "source": [
    "msno.matrix(df[df[\"education_level\"].isnull()]);"
   ]
  },
  {
   "cell_type": "markdown",
   "id": "7848f900",
   "metadata": {
    "papermill": {
     "duration": 0.142226,
     "end_time": "2021-09-12T23:43:54.919762",
     "exception": false,
     "start_time": "2021-09-12T23:43:54.777536",
     "status": "completed"
    },
    "tags": []
   },
   "source": [
    "<br>**Decision:** We see that when education_level value is missing, so major_discipline is missing. Then, we can fill education_level with \"No education\" and major_discipline with \"No Major\" for these candidates."
   ]
  },
  {
   "cell_type": "code",
   "execution_count": 154,
   "id": "9df2a473-553b-4bac-b37f-b576ed5c742c",
   "metadata": {},
   "outputs": [],
   "source": [
    "df.loc[df[\"education_level\"].isnull(),\"major_discipline\"] = \"No Major\""
   ]
  },
  {
   "cell_type": "code",
   "execution_count": 158,
   "id": "cb2789f5-c50f-4ae0-bb5d-ee6f533a20cb",
   "metadata": {},
   "outputs": [],
   "source": [
    "df[\"education_level\"] = df[\"education_level\"].cat.add_categories(\"No education\")"
   ]
  },
  {
   "cell_type": "code",
   "execution_count": 159,
   "id": "5bf0a5b6-1dc3-4de6-a56e-f8dc2c672f21",
   "metadata": {
    "papermill": {
     "duration": 0.156043,
     "end_time": "2021-09-12T23:43:59.004635",
     "exception": false,
     "start_time": "2021-09-12T23:43:58.848592",
     "status": "completed"
    },
    "tags": []
   },
   "outputs": [],
   "source": [
    "df[\"education_level\"].fillna(\"No education\",inplace = True)"
   ]
  },
  {
   "cell_type": "code",
   "execution_count": 160,
   "id": "0e7c6473-349b-4645-b2a0-1a67e869a325",
   "metadata": {},
   "outputs": [
    {
     "data": {
      "text/plain": [
       "city_development_index       0\n",
       "gender                       0\n",
       "relevent_experience          0\n",
       "enrolled_university        417\n",
       "education_level              0\n",
       "major_discipline          2613\n",
       "experience                  70\n",
       "company_size              7191\n",
       "company_type              6774\n",
       "last_new_job              1611\n",
       "training_hours               0\n",
       "target                    2129\n",
       "label                        0\n",
       "dtype: int64"
      ]
     },
     "execution_count": 160,
     "metadata": {},
     "output_type": "execute_result"
    }
   ],
   "source": [
    "df.isnull().sum()"
   ]
  },
  {
   "cell_type": "markdown",
   "id": "cf8ece1e",
   "metadata": {
    "papermill": {
     "duration": 0.143777,
     "end_time": "2021-09-12T23:43:55.228380",
     "exception": false,
     "start_time": "2021-09-12T23:43:55.084603",
     "status": "completed"
    },
    "tags": []
   },
   "source": [
    "<br><br>**Assumption 3:** The candidates with no college degree has no major discipline."
   ]
  },
  {
   "cell_type": "code",
   "execution_count": 161,
   "id": "0258b16e",
   "metadata": {
    "papermill": {
     "duration": 0.156785,
     "end_time": "2021-09-12T23:43:55.811083",
     "exception": false,
     "start_time": "2021-09-12T23:43:55.654298",
     "status": "completed"
    },
    "tags": []
   },
   "outputs": [
    {
     "data": {
      "text/plain": [
       "['Graduate', 'Masters', 'No education', 'Phd']\n",
       "Categories (6, object): ['Primary School' < 'High School' < 'Graduate' < 'Masters' < 'Phd' < 'No education']"
      ]
     },
     "execution_count": 161,
     "metadata": {},
     "output_type": "execute_result"
    }
   ],
   "source": [
    "df[df[\"major_discipline\"].notnull()][\"education_level\"].unique()"
   ]
  },
  {
   "cell_type": "markdown",
   "id": "3b97c326",
   "metadata": {
    "papermill": {
     "duration": 0.141771,
     "end_time": "2021-09-12T23:43:56.096110",
     "exception": false,
     "start_time": "2021-09-12T23:43:55.954339",
     "status": "completed"
    },
    "tags": []
   },
   "source": [
    "<br>This query states that the data is valid in this context. We can also run the following query."
   ]
  },
  {
   "cell_type": "code",
   "execution_count": 164,
   "id": "8337dfaf",
   "metadata": {
    "papermill": {
     "duration": 0.412386,
     "end_time": "2021-09-12T23:43:56.949436",
     "exception": false,
     "start_time": "2021-09-12T23:43:56.537050",
     "status": "completed"
    },
    "tags": []
   },
   "outputs": [
    {
     "name": "stderr",
     "output_type": "stream",
     "text": [
      "/Users/sevdeaydin/opt/anaconda3/lib/python3.9/site-packages/seaborn/_decorators.py:36: FutureWarning: Pass the following variable as a keyword arg: x. From version 0.12, the only valid positional argument will be `data`, and passing other arguments without an explicit keyword will result in an error or misinterpretation.\n",
      "  warnings.warn(\n"
     ]
    },
    {
     "data": {
      "image/png": "[encoded data removed]",
      "text/plain": [
       "<Figure size 432x288 with 1 Axes>"
      ]
     },
     "metadata": {
      "needs_background": "light"
     },
     "output_type": "display_data"
    }
   ],
   "source": [
    "sns.countplot(df[df[\"major_discipline\"].isnull()][\"education_level\"])\n",
    "plt.xticks(rotation=90);"
   ]
  },
  {
   "cell_type": "markdown",
   "id": "b4b29dd1",
   "metadata": {
    "papermill": {
     "duration": 0.143903,
     "end_time": "2021-09-12T23:43:57.237103",
     "exception": false,
     "start_time": "2021-09-12T23:43:57.093200",
     "status": "completed"
    },
    "tags": []
   },
   "source": [
    "**Decision:** The visualization of the candidates, whose major is missing, confirms our assumption. Therefore, we can replace those major discipline values with \"No Major\". We can drop missing major_discipline for Graduate, Masters and PhD."
   ]
  },
  {
   "cell_type": "code",
   "execution_count": 154,
   "id": "8f8f6a1e-48de-49ef-bb90-04f356481266",
   "metadata": {},
   "outputs": [],
   "source": [
    "df.loc[df[\"education_level\"].isnull(),\"major_discipline\"] = \"No Major\""
   ]
  },
  {
   "cell_type": "code",
   "execution_count": 169,
   "id": "4d684319-bf78-43f1-ac41-f444d0835760",
   "metadata": {},
   "outputs": [],
   "source": [
    "df.loc[df[\"education_level\"].isin([\"Primary School\", \"High School\"]), \"major_discipline\"] = \"No Major\""
   ]
  },
  {
   "cell_type": "code",
   "execution_count": 170,
   "id": "dca91a69-e416-4f18-bb7d-4528a716ad5c",
   "metadata": {},
   "outputs": [
    {
     "data": {
      "text/plain": [
       "city_development_index       0\n",
       "gender                       0\n",
       "relevent_experience          0\n",
       "enrolled_university        417\n",
       "education_level              0\n",
       "major_discipline            30\n",
       "experience                  70\n",
       "company_size              7191\n",
       "company_type              6774\n",
       "last_new_job              1611\n",
       "training_hours               0\n",
       "target                    2129\n",
       "label                        0\n",
       "dtype: int64"
      ]
     },
     "execution_count": 170,
     "metadata": {},
     "output_type": "execute_result"
    }
   ],
   "source": [
    "df.isnull().sum()"
   ]
  },
  {
   "cell_type": "code",
   "execution_count": 174,
   "id": "e135c539-66e7-4891-9995-6d9b58c416f9",
   "metadata": {},
   "outputs": [],
   "source": [
    "df = df.dropna(subset=[\"major_discipline\"], axis=0)"
   ]
  },
  {
   "cell_type": "code",
   "execution_count": 175,
   "id": "af9d29ea-2286-4287-bd82-9aab230ec035",
   "metadata": {},
   "outputs": [
    {
     "data": {
      "text/plain": [
       "city_development_index       0\n",
       "gender                       0\n",
       "relevent_experience          0\n",
       "enrolled_university        416\n",
       "education_level              0\n",
       "major_discipline             0\n",
       "experience                  67\n",
       "company_size              7179\n",
       "company_type              6762\n",
       "last_new_job              1605\n",
       "training_hours               0\n",
       "target                    2127\n",
       "label                        0\n",
       "dtype: int64"
      ]
     },
     "execution_count": 175,
     "metadata": {},
     "output_type": "execute_result"
    }
   ],
   "source": [
    "df.isnull().sum()"
   ]
  },
  {
   "cell_type": "markdown",
   "id": "eea4f6fa-2229-4b9b-a30c-3a0daa41896a",
   "metadata": {},
   "source": [
    "<br><br>"
   ]
  },
  {
   "cell_type": "markdown",
   "id": "30d3c4c9-5f8b-43e7-b768-55f63bf5eb07",
   "metadata": {},
   "source": [
    "**Previous Jobs/Experience**"
   ]
  },
  {
   "cell_type": "markdown",
   "id": "d0a1d303-9d8f-40a9-9b94-2ff2f7c96e5c",
   "metadata": {},
   "source": [
    "**Assumption 1:** If experience is missing, candidates may have no former experience."
   ]
  },
  {
   "cell_type": "code",
   "execution_count": 177,
   "id": "607c18b3-9159-44ef-8bd2-529d84931ef8",
   "metadata": {},
   "outputs": [
    {
     "data": {
      "image/png": "[encoded data removed]",
      "text/plain": [
       "<Figure size 1800x720 with 2 Axes>"
      ]
     },
     "metadata": {
      "needs_background": "light"
     },
     "output_type": "display_data"
    }
   ],
   "source": [
    "msno.matrix(df[df[\"experience\"].isnull()]);"
   ]
  },
  {
   "cell_type": "markdown",
   "id": "82fefdab-3463-4d12-a67e-1c57de74d98a",
   "metadata": {},
   "source": [
    "<br>**Decision:** The Assumption 1 holds for some values. If company_size or company_type is not missing, we can fill experience with \"No experience\"."
   ]
  },
  {
   "cell_type": "code",
   "execution_count": 180,
   "id": "f4147522-f352-45cc-9a17-f618f6c332bf",
   "metadata": {},
   "outputs": [],
   "source": [
    "job_cols = ['relevent_experience', 'experience', 'company_size', 'company_type', 'last_new_job']"
   ]
  },
  {
   "cell_type": "code",
   "execution_count": 181,
   "id": "0b72eaae-2be5-4965-be91-6d1e44956ef8",
   "metadata": {},
   "outputs": [
    {
     "name": "stdout",
     "output_type": "stream",
     "text": [
      "relevent_experience \n",
      " ['Has relevent experience' 'No relevent experience'] \n",
      "\n",
      "experience \n",
      " ['>20', '15', '5', '<1', '11', ..., '6', '9', '8', '20', NaN]\n",
      "Length: 23\n",
      "Categories (22, object): ['<1' < '1' < '2' < '3' ... '18' < '19' < '20' < '>20'] \n",
      "\n",
      "company_size \n",
      " [NaN, '50-99', '<10', '10000+', '1000-4999', '10/49', '100-500', '500-999']\n",
      "Categories (8, object): ['No Company' < '<10' < '10/49' < '50-99' < '100-500' < '500-999' < '1000-4999' < '10000+'] \n",
      "\n",
      "company_type \n",
      " [nan 'Pvt Ltd' 'Funded Startup' 'Early Stage Startup' 'Other'\n",
      " 'Public Sector' 'NGO'] \n",
      "\n",
      "last_new_job \n",
      " ['1', '>4', 'never', NaN, '3', '2']\n",
      "Categories (5, object): ['never' < '1' < '2' < '3' < '>4'] \n",
      "\n"
     ]
    }
   ],
   "source": [
    "for i in job_cols:\n",
    "    print(i,\"\\n\",df[i].unique(),\"\\n\")"
   ]
  },
  {
   "cell_type": "code",
   "execution_count": 206,
   "id": "9dd86283-87fe-46d4-937f-caca4b2fa2b2",
   "metadata": {
    "collapsed": true,
    "jupyter": {
     "outputs_hidden": true
    },
    "tags": []
   },
   "outputs": [
    {
     "ename": "ValueError",
     "evalue": "new categories must not include old categories: {'No experience'}",
     "output_type": "error",
     "traceback": [
      "\u001b[0;31m---------------------------------------------------------------------------\u001b[0m",
      "\u001b[0;31mValueError\u001b[0m                                Traceback (most recent call last)",
      "Input \u001b[0;32mIn [206]\u001b[0m, in \u001b[0;36m<cell line: 1>\u001b[0;34m()\u001b[0m\n\u001b[0;32m----> 1\u001b[0m df[\u001b[38;5;124m\"\u001b[39m\u001b[38;5;124mexperience\u001b[39m\u001b[38;5;124m\"\u001b[39m] \u001b[38;5;241m=\u001b[39m \u001b[43mdf\u001b[49m\u001b[43m[\u001b[49m\u001b[38;5;124;43m\"\u001b[39;49m\u001b[38;5;124;43mexperience\u001b[39;49m\u001b[38;5;124;43m\"\u001b[39;49m\u001b[43m]\u001b[49m\u001b[38;5;241;43m.\u001b[39;49m\u001b[43mcat\u001b[49m\u001b[38;5;241;43m.\u001b[39;49m\u001b[43madd_categories\u001b[49m\u001b[43m(\u001b[49m\u001b[38;5;124;43m\"\u001b[39;49m\u001b[38;5;124;43mNo experience\u001b[39;49m\u001b[38;5;124;43m\"\u001b[39;49m\u001b[43m)\u001b[49m\n",
      "File \u001b[0;32m~/opt/anaconda3/lib/python3.9/site-packages/pandas/core/accessor.py:94\u001b[0m, in \u001b[0;36mPandasDelegate._add_delegate_accessors.<locals>._create_delegator_method.<locals>.f\u001b[0;34m(self, *args, **kwargs)\u001b[0m\n\u001b[1;32m     93\u001b[0m \u001b[38;5;28;01mdef\u001b[39;00m \u001b[38;5;21mf\u001b[39m(\u001b[38;5;28mself\u001b[39m, \u001b[38;5;241m*\u001b[39margs, \u001b[38;5;241m*\u001b[39m\u001b[38;5;241m*\u001b[39mkwargs):\n\u001b[0;32m---> 94\u001b[0m     \u001b[38;5;28;01mreturn\u001b[39;00m \u001b[38;5;28;43mself\u001b[39;49m\u001b[38;5;241;43m.\u001b[39;49m\u001b[43m_delegate_method\u001b[49m\u001b[43m(\u001b[49m\u001b[43mname\u001b[49m\u001b[43m,\u001b[49m\u001b[43m \u001b[49m\u001b[38;5;241;43m*\u001b[39;49m\u001b[43margs\u001b[49m\u001b[43m,\u001b[49m\u001b[43m \u001b[49m\u001b[38;5;241;43m*\u001b[39;49m\u001b[38;5;241;43m*\u001b[39;49m\u001b[43mkwargs\u001b[49m\u001b[43m)\u001b[49m\n",
      "File \u001b[0;32m~/opt/anaconda3/lib/python3.9/site-packages/pandas/core/arrays/categorical.py:2747\u001b[0m, in \u001b[0;36mCategoricalAccessor._delegate_method\u001b[0;34m(self, name, *args, **kwargs)\u001b[0m\n\u001b[1;32m   2744\u001b[0m \u001b[38;5;28;01mfrom\u001b[39;00m \u001b[38;5;21;01mpandas\u001b[39;00m \u001b[38;5;28;01mimport\u001b[39;00m Series\n\u001b[1;32m   2746\u001b[0m method \u001b[38;5;241m=\u001b[39m \u001b[38;5;28mgetattr\u001b[39m(\u001b[38;5;28mself\u001b[39m\u001b[38;5;241m.\u001b[39m_parent, name)\n\u001b[0;32m-> 2747\u001b[0m res \u001b[38;5;241m=\u001b[39m \u001b[43mmethod\u001b[49m\u001b[43m(\u001b[49m\u001b[38;5;241;43m*\u001b[39;49m\u001b[43margs\u001b[49m\u001b[43m,\u001b[49m\u001b[43m \u001b[49m\u001b[38;5;241;43m*\u001b[39;49m\u001b[38;5;241;43m*\u001b[39;49m\u001b[43mkwargs\u001b[49m\u001b[43m)\u001b[49m\n\u001b[1;32m   2748\u001b[0m \u001b[38;5;28;01mif\u001b[39;00m res \u001b[38;5;129;01mis\u001b[39;00m \u001b[38;5;129;01mnot\u001b[39;00m \u001b[38;5;28;01mNone\u001b[39;00m:\n\u001b[1;32m   2749\u001b[0m     \u001b[38;5;28;01mreturn\u001b[39;00m Series(res, index\u001b[38;5;241m=\u001b[39m\u001b[38;5;28mself\u001b[39m\u001b[38;5;241m.\u001b[39m_index, name\u001b[38;5;241m=\u001b[39m\u001b[38;5;28mself\u001b[39m\u001b[38;5;241m.\u001b[39m_name)\n",
      "File \u001b[0;32m~/opt/anaconda3/lib/python3.9/site-packages/pandas/core/arrays/categorical.py:1198\u001b[0m, in \u001b[0;36mCategorical.add_categories\u001b[0;34m(self, new_categories, inplace)\u001b[0m\n\u001b[1;32m   1196\u001b[0m already_included \u001b[38;5;241m=\u001b[39m \u001b[38;5;28mset\u001b[39m(new_categories) \u001b[38;5;241m&\u001b[39m \u001b[38;5;28mset\u001b[39m(\u001b[38;5;28mself\u001b[39m\u001b[38;5;241m.\u001b[39mdtype\u001b[38;5;241m.\u001b[39mcategories)\n\u001b[1;32m   1197\u001b[0m \u001b[38;5;28;01mif\u001b[39;00m \u001b[38;5;28mlen\u001b[39m(already_included) \u001b[38;5;241m!=\u001b[39m \u001b[38;5;241m0\u001b[39m:\n\u001b[0;32m-> 1198\u001b[0m     \u001b[38;5;28;01mraise\u001b[39;00m \u001b[38;5;167;01mValueError\u001b[39;00m(\n\u001b[1;32m   1199\u001b[0m         \u001b[38;5;124mf\u001b[39m\u001b[38;5;124m\"\u001b[39m\u001b[38;5;124mnew categories must not include old categories: \u001b[39m\u001b[38;5;132;01m{\u001b[39;00malready_included\u001b[38;5;132;01m}\u001b[39;00m\u001b[38;5;124m\"\u001b[39m\n\u001b[1;32m   1200\u001b[0m     )\n\u001b[1;32m   1201\u001b[0m new_categories \u001b[38;5;241m=\u001b[39m \u001b[38;5;28mlist\u001b[39m(\u001b[38;5;28mself\u001b[39m\u001b[38;5;241m.\u001b[39mdtype\u001b[38;5;241m.\u001b[39mcategories) \u001b[38;5;241m+\u001b[39m \u001b[38;5;28mlist\u001b[39m(new_categories)\n\u001b[1;32m   1202\u001b[0m new_dtype \u001b[38;5;241m=\u001b[39m CategoricalDtype(new_categories, \u001b[38;5;28mself\u001b[39m\u001b[38;5;241m.\u001b[39mordered)\n",
      "\u001b[0;31mValueError\u001b[0m: new categories must not include old categories: {'No experience'}"
     ]
    }
   ],
   "source": [
    "df[\"experience\"] = df[\"experience\"].cat.add_categories(\"No experience\")"
   ]
  },
  {
   "cell_type": "code",
   "execution_count": 207,
   "id": "ab5b65c0-c19d-4833-ab94-9c8b7b32e5b2",
   "metadata": {},
   "outputs": [],
   "source": [
    "mask =(df[\"company_size\"].notnull()) | (df[\"company_type\"].notnull())"
   ]
  },
  {
   "cell_type": "code",
   "execution_count": 208,
   "id": "359037cc-526f-4df4-8dcb-b688caeb9911",
   "metadata": {},
   "outputs": [],
   "source": [
    "df.loc[mask,\"experience\"] = df.loc[mask,\"experience\"].fillna(\"No experience\")"
   ]
  },
  {
   "cell_type": "code",
   "execution_count": 209,
   "id": "f22df916-9dd8-44f9-818d-eeca86d7a420",
   "metadata": {},
   "outputs": [
    {
     "data": {
      "text/plain": [
       "city_development_index       0\n",
       "gender                       0\n",
       "relevent_experience          0\n",
       "enrolled_university        416\n",
       "education_level              0\n",
       "major_discipline             0\n",
       "experience                  22\n",
       "company_size              7179\n",
       "company_type              6762\n",
       "last_new_job              1605\n",
       "training_hours               0\n",
       "target                    2127\n",
       "label                        0\n",
       "dtype: int64"
      ]
     },
     "execution_count": 209,
     "metadata": {},
     "output_type": "execute_result"
    }
   ],
   "source": [
    "df.isnull().sum()"
   ]
  },
  {
   "cell_type": "markdown",
   "id": "284e8bbb-a8c1-429b-bae6-a61c07fb30cb",
   "metadata": {},
   "source": [
    "<br><br>"
   ]
  },
  {
   "cell_type": "markdown",
   "id": "8a5cdf79-1a65-4bc0-a6e7-c3468228a411",
   "metadata": {},
   "source": [
    "**Decision:** If the time between last job and new job is \"never\", then we can fill the experience with \"No experience.\""
   ]
  },
  {
   "cell_type": "code",
   "execution_count": 211,
   "id": "b093f82d-d8a5-4b77-895b-011fa35a3432",
   "metadata": {},
   "outputs": [],
   "source": [
    "mask = (df[\"last_new_job\"] == \"never\")"
   ]
  },
  {
   "cell_type": "code",
   "execution_count": 212,
   "id": "b434a4d4-4f10-4ac3-abd8-fc813493f549",
   "metadata": {},
   "outputs": [],
   "source": [
    "df.loc[mask,\"experience\"] = df.loc[mask,\"experience\"].fillna(\"No experience\")"
   ]
  },
  {
   "cell_type": "code",
   "execution_count": 213,
   "id": "baba8b3e-4225-465d-bdc8-fbea4ad74506",
   "metadata": {},
   "outputs": [
    {
     "data": {
      "text/plain": [
       "city_development_index       0\n",
       "gender                       0\n",
       "relevent_experience          0\n",
       "enrolled_university        416\n",
       "education_level              0\n",
       "major_discipline             0\n",
       "experience                  16\n",
       "company_size              7179\n",
       "company_type              6762\n",
       "last_new_job              1605\n",
       "training_hours               0\n",
       "target                    2127\n",
       "label                        0\n",
       "dtype: int64"
      ]
     },
     "execution_count": 213,
     "metadata": {},
     "output_type": "execute_result"
    }
   ],
   "source": [
    "df.isnull().sum()"
   ]
  },
  {
   "cell_type": "markdown",
   "id": "f3271f6d-eea5-4d8a-8ecf-28e21eeac856",
   "metadata": {},
   "source": [
    "**Decision:** The remaining experience can be dropped."
   ]
  },
  {
   "cell_type": "code",
   "execution_count": 239,
   "id": "f916731c-64c4-4a33-9004-77b25d505af4",
   "metadata": {},
   "outputs": [],
   "source": [
    "df = df.dropna(subset=[\"experience\"], axis=0)"
   ]
  },
  {
   "cell_type": "markdown",
   "id": "a9b2715e-d464-4d12-b097-4454b1cac62d",
   "metadata": {},
   "source": [
    "<br><br>**Assumption 2:** The time between last job and new job may be caused by the candidates who has no previous work experience. If so we can fill them with \"never\"."
   ]
  },
  {
   "cell_type": "code",
   "execution_count": 215,
   "id": "493d6df3-7f40-48de-bf27-874b693ce1d8",
   "metadata": {
    "papermill": {
     "duration": 0.412386,
     "end_time": "2021-09-12T23:43:56.949436",
     "exception": false,
     "start_time": "2021-09-12T23:43:56.537050",
     "status": "completed"
    },
    "tags": []
   },
   "outputs": [
    {
     "name": "stderr",
     "output_type": "stream",
     "text": [
      "/Users/sevdeaydin/opt/anaconda3/lib/python3.9/site-packages/seaborn/_decorators.py:36: FutureWarning: Pass the following variable as a keyword arg: x. From version 0.12, the only valid positional argument will be `data`, and passing other arguments without an explicit keyword will result in an error or misinterpretation.\n",
      "  warnings.warn(\n"
     ]
    },
    {
     "data": {
      "image/png": "[encoded data removed]",
      "text/plain": [
       "<Figure size 432x288 with 1 Axes>"
      ]
     },
     "metadata": {
      "needs_background": "light"
     },
     "output_type": "display_data"
    }
   ],
   "source": [
    "sns.countplot(df[df[\"last_new_job\"].isnull()][\"experience\"])\n",
    "plt.xticks(rotation=90);"
   ]
  },
  {
   "cell_type": "markdown",
   "id": "d5e7411a-eee7-4e4b-a1a5-cd3685fffa5c",
   "metadata": {},
   "source": [
    "**Decision:** There are some candidates who has no experience (we can also assume that \"<1\" is no experience). For these values we can fill \"last_new_job\" with \"never\". It is a significant feature, so we do not want to drop them. We can impute other missing values with an ML imputer after manual analysis for all features are completed."
   ]
  },
  {
   "cell_type": "code",
   "execution_count": 217,
   "id": "659d006f-5af5-4056-a66c-268aecbfd570",
   "metadata": {},
   "outputs": [],
   "source": [
    "mask =((df[\"experience\"]== \"No experience\") | (df[\"experience\"] == \"<1\"))"
   ]
  },
  {
   "cell_type": "code",
   "execution_count": 219,
   "id": "2d75c1a2-6efd-46ac-b029-5138bfc47f59",
   "metadata": {},
   "outputs": [],
   "source": [
    "df.loc[mask,\"last_new_job\"] = df.loc[mask,\"last_new_job\"].fillna(\"never\")"
   ]
  },
  {
   "cell_type": "code",
   "execution_count": 220,
   "id": "0df1dc9f-a2a1-4882-b810-bcf205d4301a",
   "metadata": {},
   "outputs": [
    {
     "data": {
      "text/plain": [
       "city_development_index       0\n",
       "gender                       0\n",
       "relevent_experience          0\n",
       "enrolled_university        416\n",
       "education_level              0\n",
       "major_discipline             0\n",
       "experience                  16\n",
       "company_size              7179\n",
       "company_type              6762\n",
       "last_new_job              1537\n",
       "training_hours               0\n",
       "target                    2127\n",
       "label                        0\n",
       "dtype: int64"
      ]
     },
     "execution_count": 220,
     "metadata": {},
     "output_type": "execute_result"
    }
   ],
   "source": [
    "df.isnull().sum()"
   ]
  },
  {
   "cell_type": "markdown",
   "id": "6ec59461-10d7-490b-8ce0-29056e46c387",
   "metadata": {},
   "source": [
    "<br><br>**Assumption 3:** Company size and company type have more than 30% missing values. This may be caused by the candidates, who have no previous work experience. "
   ]
  },
  {
   "cell_type": "code",
   "execution_count": 223,
   "id": "5cc0aeaa-47ce-41af-a5cc-f8409444aad2",
   "metadata": {
    "papermill": {
     "duration": 0.412386,
     "end_time": "2021-09-12T23:43:56.949436",
     "exception": false,
     "start_time": "2021-09-12T23:43:56.537050",
     "status": "completed"
    },
    "tags": []
   },
   "outputs": [
    {
     "name": "stderr",
     "output_type": "stream",
     "text": [
      "/Users/sevdeaydin/opt/anaconda3/lib/python3.9/site-packages/seaborn/_decorators.py:36: FutureWarning: Pass the following variable as a keyword arg: x. From version 0.12, the only valid positional argument will be `data`, and passing other arguments without an explicit keyword will result in an error or misinterpretation.\n",
      "  warnings.warn(\n"
     ]
    },
    {
     "data": {
      "image/png": "[encoded data removed]",
      "text/plain": [
       "<Figure size 432x288 with 1 Axes>"
      ]
     },
     "metadata": {
      "needs_background": "light"
     },
     "output_type": "display_data"
    }
   ],
   "source": [
    "sns.countplot(df[(df[\"company_size\"].isnull()) | (df[\"company_type\"].isnull())][\"experience\"])\n",
    "plt.xticks(rotation=90);"
   ]
  },
  {
   "cell_type": "markdown",
   "id": "28eb2a9d-7a14-45b7-bde7-17fc489613c4",
   "metadata": {},
   "source": [
    "**Decision:** Most missing values come from experienced candidates. It would be a waste to remove all observations because these features are not significant for the target value. We can fill for the candidates with no experience for now. We drop the others after the imputation, because they may be useful to impute other features, such as last_new_job."
   ]
  },
  {
   "cell_type": "code",
   "execution_count": 217,
   "id": "f9aa6b36-0453-4e0f-9ce2-9980e7446996",
   "metadata": {},
   "outputs": [],
   "source": [
    "mask =((df[\"experience\"]== \"No experience\") | (df[\"experience\"] == \"<1\"))"
   ]
  },
  {
   "cell_type": "code",
   "execution_count": 224,
   "id": "4c013301-8e0a-4306-ae2f-9776a5bc8094",
   "metadata": {
    "tags": []
   },
   "outputs": [],
   "source": [
    "df[\"company_size\"] = df[\"company_size\"].cat.add_categories(\"Other\")"
   ]
  },
  {
   "cell_type": "code",
   "execution_count": 225,
   "id": "edf58a9e-b760-4f3b-b584-1e6b944af352",
   "metadata": {},
   "outputs": [],
   "source": [
    "df.loc[mask,\"company_size\"] = df.loc[mask,\"company_size\"].fillna(\"Other\")"
   ]
  },
  {
   "cell_type": "code",
   "execution_count": 227,
   "id": "195fdac3-c393-4420-8853-e5201c319953",
   "metadata": {},
   "outputs": [],
   "source": [
    "df.loc[mask,\"company_type\"] = df.loc[mask,\"company_type\"].fillna(\"Other\")"
   ]
  },
  {
   "cell_type": "code",
   "execution_count": 228,
   "id": "d20ee3d3-e683-4d4d-bb70-b38992613caf",
   "metadata": {},
   "outputs": [
    {
     "data": {
      "text/plain": [
       "city_development_index       0\n",
       "gender                       0\n",
       "relevent_experience          0\n",
       "enrolled_university        416\n",
       "education_level              0\n",
       "major_discipline             0\n",
       "experience                  16\n",
       "company_size              6836\n",
       "company_type              6414\n",
       "last_new_job              1537\n",
       "training_hours               0\n",
       "target                    2127\n",
       "label                        0\n",
       "dtype: int64"
      ]
     },
     "execution_count": 228,
     "metadata": {},
     "output_type": "execute_result"
    }
   ],
   "source": [
    "df.isnull().sum()"
   ]
  },
  {
   "cell_type": "markdown",
   "id": "bd9443d2-b7fa-4e9b-9ccb-c00478a9c97b",
   "metadata": {},
   "source": [
    "<br><br>"
   ]
  },
  {
   "cell_type": "markdown",
   "id": "7eeb7a98-efc8-4c79-9808-b32ab6720d21",
   "metadata": {},
   "source": [
    "**Enrollment to the University Courses**"
   ]
  },
  {
   "cell_type": "markdown",
   "id": "b56ff1fd-80d5-4999-9142-5d96b1b24089",
   "metadata": {},
   "source": [
    "**Assumption 4:** Enrollment to university courses</strong> has small missing ratio, however, they play an important role. We can assume that the missing values are caused by the candidates, who did not enroll, left this value blank."
   ]
  },
  {
   "cell_type": "code",
   "execution_count": 231,
   "id": "8a77f6d9-f32b-4979-9ea8-a7e8aac94e94",
   "metadata": {},
   "outputs": [
    {
     "data": {
      "text/plain": [
       "array(['no_enrollment', 'Full time course', nan, 'Part time course'],\n",
       "      dtype=object)"
      ]
     },
     "execution_count": 231,
     "metadata": {},
     "output_type": "execute_result"
    }
   ],
   "source": [
    "df[\"enrolled_university\"].unique()"
   ]
  },
  {
   "cell_type": "code",
   "execution_count": 233,
   "id": "f11e3f6c-0d43-445d-9e66-be85049fe1ca",
   "metadata": {},
   "outputs": [],
   "source": [
    "df[\"enrolled_university\"] = df[\"enrolled_university\"].fillna(\"o_enrollment\")"
   ]
  },
  {
   "cell_type": "code",
   "execution_count": 249,
   "id": "48a05e59-d3cf-4921-9246-084e459eb53c",
   "metadata": {},
   "outputs": [
    {
     "data": {
      "text/plain": [
       "city_development_index       0\n",
       "gender                       0\n",
       "relevent_experience          0\n",
       "enrolled_university          0\n",
       "education_level              0\n",
       "major_discipline             0\n",
       "experience                   0\n",
       "company_size              6820\n",
       "company_type              6398\n",
       "last_new_job              1530\n",
       "training_hours               0\n",
       "target                    2126\n",
       "label                        0\n",
       "dtype: int64"
      ]
     },
     "execution_count": 249,
     "metadata": {},
     "output_type": "execute_result"
    }
   ],
   "source": [
    "df.isnull().sum()"
   ]
  },
  {
   "cell_type": "markdown",
   "id": "fc90f6cb-0c9b-4f28-b119-9e68f746646d",
   "metadata": {},
   "source": [
    "<br><br>"
   ]
  },
  {
   "cell_type": "markdown",
   "id": "8492ef1a-b4a5-46bc-b374-9156565d49a7",
   "metadata": {
    "papermill": {
     "duration": 0.133036,
     "end_time": "2021-09-12T23:43:49.335244",
     "exception": false,
     "start_time": "2021-09-12T23:43:49.202208",
     "status": "completed"
    },
    "tags": []
   },
   "source": [
    "#### 2.2.5. ML Imputer and Preparing Variables"
   ]
  },
  {
   "cell_type": "markdown",
   "id": "be360db2-a7dc-4592-a37f-4a573cfab720",
   "metadata": {},
   "source": [
    "In this section we will impute the remaining missing values and finalize our variables for ML process."
   ]
  },
  {
   "cell_type": "code",
   "execution_count": 270,
   "id": "a3fb93c6-e13f-4be4-96cb-906b154d4678",
   "metadata": {},
   "outputs": [],
   "source": [
    "new_df = df.copy()"
   ]
  },
  {
   "cell_type": "code",
   "execution_count": 271,
   "id": "1a856c63-c3c7-4d01-9ca9-0ab448e206a1",
   "metadata": {},
   "outputs": [],
   "source": [
    "new_df.drop([\"target\", \"label\"], axis=1,inplace=True)"
   ]
  },
  {
   "cell_type": "code",
   "execution_count": 272,
   "id": "48a7528f-9d9f-4277-b4df-ddc21dbe9737",
   "metadata": {},
   "outputs": [],
   "source": [
    "X = pd.get_dummies(new_df,drop_first=True)"
   ]
  },
  {
   "cell_type": "code",
   "execution_count": 273,
   "id": "fe3190a4-1058-495e-b87e-5bd7a00bf0a1",
   "metadata": {},
   "outputs": [],
   "source": [
    "from sklearn.impute import KNNImputer"
   ]
  },
  {
   "cell_type": "code",
   "execution_count": 274,
   "id": "3e2ec5a3-3f63-4d88-bae6-9a07f6852b45",
   "metadata": {},
   "outputs": [],
   "source": [
    "imputer = KNNImputer(n_neighbors=5)"
   ]
  },
  {
   "cell_type": "code",
   "execution_count": 275,
   "id": "725b29fb-6d8a-426d-beb5-9f9e46a2a9ff",
   "metadata": {
    "tags": []
   },
   "outputs": [],
   "source": [
    "X_imputed = imputer.fit_transform(X)"
   ]
  },
  {
   "cell_type": "code",
   "execution_count": 278,
   "id": "199dc15c-f844-4e33-9cac-d74afc58e29c",
   "metadata": {},
   "outputs": [],
   "source": [
    "df_dummy = pd.DataFrame(data=X_imputed, index = X.index, columns=X.columns)"
   ]
  },
  {
   "cell_type": "code",
   "execution_count": 279,
   "id": "2d532f22-08a9-4ec1-a392-04a332d77c2e",
   "metadata": {},
   "outputs": [
    {
     "data": {
      "text/plain": [
       "Index(['city_development_index', 'training_hours', 'gender_Male',\n",
       "       'gender_Other', 'relevent_experience_No relevent experience',\n",
       "       'enrolled_university_Part time course',\n",
       "       'enrolled_university_no_enrollment', 'enrolled_university_o_enrollment',\n",
       "       'education_level_High School', 'education_level_Graduate',\n",
       "       'education_level_Masters', 'education_level_Phd',\n",
       "       'education_level_No education', 'major_discipline_Business Degree',\n",
       "       'major_discipline_Humanities', 'major_discipline_No Major',\n",
       "       'major_discipline_Other', 'major_discipline_STEM', 'experience_1',\n",
       "       'experience_2', 'experience_3', 'experience_4', 'experience_5',\n",
       "       'experience_6', 'experience_7', 'experience_8', 'experience_9',\n",
       "       'experience_10', 'experience_11', 'experience_12', 'experience_13',\n",
       "       'experience_14', 'experience_15', 'experience_16', 'experience_17',\n",
       "       'experience_18', 'experience_19', 'experience_20', 'experience_>20',\n",
       "       'experience_No experience', 'company_size_<10', 'company_size_10/49',\n",
       "       'company_size_50-99', 'company_size_100-500', 'company_size_500-999',\n",
       "       'company_size_1000-4999', 'company_size_10000+', 'company_size_Other',\n",
       "       'company_type_Funded Startup', 'company_type_NGO', 'company_type_Other',\n",
       "       'company_type_Public Sector', 'company_type_Pvt Ltd', 'last_new_job_1',\n",
       "       'last_new_job_2', 'last_new_job_3', 'last_new_job_>4'],\n",
       "      dtype='object')"
      ]
     },
     "execution_count": 279,
     "metadata": {},
     "output_type": "execute_result"
    }
   ],
   "source": [
    "df_dummy.columns"
   ]
  },
  {
   "cell_type": "code",
   "execution_count": 280,
   "id": "c4721180-bda4-4eb6-85b6-3e13deb7dd2f",
   "metadata": {},
   "outputs": [],
   "source": [
    "df_dummy.drop(['company_size_<10', 'company_size_10/49',\n",
    "       'company_size_50-99', 'company_size_100-500', 'company_size_500-999',\n",
    "       'company_size_1000-4999', 'company_size_10000+', 'company_size_Other',\n",
    "       'company_type_Funded Startup', 'company_type_NGO', 'company_type_Other',\n",
    "       'company_type_Public Sector', 'company_type_Pvt Ltd'], axis=1, inplace=True)"
   ]
  },
  {
   "cell_type": "code",
   "execution_count": 296,
   "id": "4b0fdf0f-8d93-403f-9aae-0e07af905565",
   "metadata": {},
   "outputs": [],
   "source": [
    "df_dummy = df_dummy.join( df[[\"target\",\"label\"]])"
   ]
  },
  {
   "cell_type": "code",
   "execution_count": 298,
   "id": "2f4f0a06-3c0b-431c-ae3e-4e9520fe66cc",
   "metadata": {},
   "outputs": [
    {
     "data": {
      "text/html": [
       "<div>\n",
       "<style scoped>\n",
       "    .dataframe tbody tr th:only-of-type {\n",
       "        vertical-align: middle;\n",
       "    }\n",
       "\n",
       "    .dataframe tbody tr th {\n",
       "        vertical-align: top;\n",
       "    }\n",
       "\n",
       "    .dataframe thead th {\n",
       "        text-align: right;\n",
       "    }\n",
       "</style>\n",
       "<table border=\"1\" class=\"dataframe\">\n",
       "  <thead>\n",
       "    <tr style=\"text-align: right;\">\n",
       "      <th></th>\n",
       "      <th>city_development_index</th>\n",
       "      <th>training_hours</th>\n",
       "      <th>gender_Male</th>\n",
       "      <th>gender_Other</th>\n",
       "      <th>relevent_experience_No relevent experience</th>\n",
       "      <th>enrolled_university_Part time course</th>\n",
       "      <th>enrolled_university_no_enrollment</th>\n",
       "      <th>enrolled_university_o_enrollment</th>\n",
       "      <th>education_level_High School</th>\n",
       "      <th>education_level_Graduate</th>\n",
       "      <th>...</th>\n",
       "      <th>experience_19</th>\n",
       "      <th>experience_20</th>\n",
       "      <th>experience_&gt;20</th>\n",
       "      <th>experience_No experience</th>\n",
       "      <th>last_new_job_1</th>\n",
       "      <th>last_new_job_2</th>\n",
       "      <th>last_new_job_3</th>\n",
       "      <th>last_new_job_&gt;4</th>\n",
       "      <th>target</th>\n",
       "      <th>label</th>\n",
       "    </tr>\n",
       "    <tr>\n",
       "      <th>enrollee_id</th>\n",
       "      <th></th>\n",
       "      <th></th>\n",
       "      <th></th>\n",
       "      <th></th>\n",
       "      <th></th>\n",
       "      <th></th>\n",
       "      <th></th>\n",
       "      <th></th>\n",
       "      <th></th>\n",
       "      <th></th>\n",
       "      <th></th>\n",
       "      <th></th>\n",
       "      <th></th>\n",
       "      <th></th>\n",
       "      <th></th>\n",
       "      <th></th>\n",
       "      <th></th>\n",
       "      <th></th>\n",
       "      <th></th>\n",
       "      <th></th>\n",
       "      <th></th>\n",
       "    </tr>\n",
       "  </thead>\n",
       "  <tbody>\n",
       "    <tr>\n",
       "      <th>8949</th>\n",
       "      <td>0.920</td>\n",
       "      <td>36.0</td>\n",
       "      <td>1.0</td>\n",
       "      <td>0.0</td>\n",
       "      <td>0.0</td>\n",
       "      <td>0.0</td>\n",
       "      <td>1.0</td>\n",
       "      <td>0.0</td>\n",
       "      <td>0.0</td>\n",
       "      <td>1.0</td>\n",
       "      <td>...</td>\n",
       "      <td>0.0</td>\n",
       "      <td>0.0</td>\n",
       "      <td>1.0</td>\n",
       "      <td>0.0</td>\n",
       "      <td>1.0</td>\n",
       "      <td>0.0</td>\n",
       "      <td>0.0</td>\n",
       "      <td>0.0</td>\n",
       "      <td>1.0</td>\n",
       "      <td>train</td>\n",
       "    </tr>\n",
       "    <tr>\n",
       "      <th>29725</th>\n",
       "      <td>0.776</td>\n",
       "      <td>47.0</td>\n",
       "      <td>1.0</td>\n",
       "      <td>0.0</td>\n",
       "      <td>1.0</td>\n",
       "      <td>0.0</td>\n",
       "      <td>1.0</td>\n",
       "      <td>0.0</td>\n",
       "      <td>0.0</td>\n",
       "      <td>1.0</td>\n",
       "      <td>...</td>\n",
       "      <td>0.0</td>\n",
       "      <td>0.0</td>\n",
       "      <td>0.0</td>\n",
       "      <td>0.0</td>\n",
       "      <td>0.0</td>\n",
       "      <td>0.0</td>\n",
       "      <td>0.0</td>\n",
       "      <td>1.0</td>\n",
       "      <td>0.0</td>\n",
       "      <td>train</td>\n",
       "    </tr>\n",
       "    <tr>\n",
       "      <th>11561</th>\n",
       "      <td>0.624</td>\n",
       "      <td>83.0</td>\n",
       "      <td>0.0</td>\n",
       "      <td>1.0</td>\n",
       "      <td>1.0</td>\n",
       "      <td>0.0</td>\n",
       "      <td>0.0</td>\n",
       "      <td>0.0</td>\n",
       "      <td>0.0</td>\n",
       "      <td>1.0</td>\n",
       "      <td>...</td>\n",
       "      <td>0.0</td>\n",
       "      <td>0.0</td>\n",
       "      <td>0.0</td>\n",
       "      <td>0.0</td>\n",
       "      <td>0.0</td>\n",
       "      <td>0.0</td>\n",
       "      <td>0.0</td>\n",
       "      <td>0.0</td>\n",
       "      <td>0.0</td>\n",
       "      <td>train</td>\n",
       "    </tr>\n",
       "    <tr>\n",
       "      <th>33241</th>\n",
       "      <td>0.789</td>\n",
       "      <td>52.0</td>\n",
       "      <td>0.0</td>\n",
       "      <td>1.0</td>\n",
       "      <td>1.0</td>\n",
       "      <td>0.0</td>\n",
       "      <td>0.0</td>\n",
       "      <td>1.0</td>\n",
       "      <td>0.0</td>\n",
       "      <td>1.0</td>\n",
       "      <td>...</td>\n",
       "      <td>0.0</td>\n",
       "      <td>0.0</td>\n",
       "      <td>0.0</td>\n",
       "      <td>0.0</td>\n",
       "      <td>0.0</td>\n",
       "      <td>0.0</td>\n",
       "      <td>0.0</td>\n",
       "      <td>0.0</td>\n",
       "      <td>1.0</td>\n",
       "      <td>train</td>\n",
       "    </tr>\n",
       "    <tr>\n",
       "      <th>666</th>\n",
       "      <td>0.767</td>\n",
       "      <td>8.0</td>\n",
       "      <td>1.0</td>\n",
       "      <td>0.0</td>\n",
       "      <td>0.0</td>\n",
       "      <td>0.0</td>\n",
       "      <td>1.0</td>\n",
       "      <td>0.0</td>\n",
       "      <td>0.0</td>\n",
       "      <td>0.0</td>\n",
       "      <td>...</td>\n",
       "      <td>0.0</td>\n",
       "      <td>0.0</td>\n",
       "      <td>1.0</td>\n",
       "      <td>0.0</td>\n",
       "      <td>0.0</td>\n",
       "      <td>0.0</td>\n",
       "      <td>0.0</td>\n",
       "      <td>0.0</td>\n",
       "      <td>0.0</td>\n",
       "      <td>train</td>\n",
       "    </tr>\n",
       "  </tbody>\n",
       "</table>\n",
       "<p>5 rows × 46 columns</p>\n",
       "</div>"
      ],
      "text/plain": [
       "             city_development_index  training_hours  gender_Male  \\\n",
       "enrollee_id                                                        \n",
       "8949                          0.920            36.0          1.0   \n",
       "29725                         0.776            47.0          1.0   \n",
       "11561                         0.624            83.0          0.0   \n",
       "33241                         0.789            52.0          0.0   \n",
       "666                           0.767             8.0          1.0   \n",
       "\n",
       "             gender_Other  relevent_experience_No relevent experience  \\\n",
       "enrollee_id                                                             \n",
       "8949                  0.0                                         0.0   \n",
       "29725                 0.0                                         1.0   \n",
       "11561                 1.0                                         1.0   \n",
       "33241                 1.0                                         1.0   \n",
       "666                   0.0                                         0.0   \n",
       "\n",
       "             enrolled_university_Part time course  \\\n",
       "enrollee_id                                         \n",
       "8949                                          0.0   \n",
       "29725                                         0.0   \n",
       "11561                                         0.0   \n",
       "33241                                         0.0   \n",
       "666                                           0.0   \n",
       "\n",
       "             enrolled_university_no_enrollment  \\\n",
       "enrollee_id                                      \n",
       "8949                                       1.0   \n",
       "29725                                      1.0   \n",
       "11561                                      0.0   \n",
       "33241                                      0.0   \n",
       "666                                        1.0   \n",
       "\n",
       "             enrolled_university_o_enrollment  education_level_High School  \\\n",
       "enrollee_id                                                                  \n",
       "8949                                      0.0                          0.0   \n",
       "29725                                     0.0                          0.0   \n",
       "11561                                     0.0                          0.0   \n",
       "33241                                     1.0                          0.0   \n",
       "666                                       0.0                          0.0   \n",
       "\n",
       "             education_level_Graduate  ...  experience_19  experience_20  \\\n",
       "enrollee_id                            ...                                 \n",
       "8949                              1.0  ...            0.0            0.0   \n",
       "29725                             1.0  ...            0.0            0.0   \n",
       "11561                             1.0  ...            0.0            0.0   \n",
       "33241                             1.0  ...            0.0            0.0   \n",
       "666                               0.0  ...            0.0            0.0   \n",
       "\n",
       "             experience_>20  experience_No experience  last_new_job_1  \\\n",
       "enrollee_id                                                             \n",
       "8949                    1.0                       0.0             1.0   \n",
       "29725                   0.0                       0.0             0.0   \n",
       "11561                   0.0                       0.0             0.0   \n",
       "33241                   0.0                       0.0             0.0   \n",
       "666                     1.0                       0.0             0.0   \n",
       "\n",
       "             last_new_job_2  last_new_job_3  last_new_job_>4  target  label  \n",
       "enrollee_id                                                                  \n",
       "8949                    0.0             0.0              0.0     1.0  train  \n",
       "29725                   0.0             0.0              1.0     0.0  train  \n",
       "11561                   0.0             0.0              0.0     0.0  train  \n",
       "33241                   0.0             0.0              0.0     1.0  train  \n",
       "666                     0.0             0.0              0.0     0.0  train  \n",
       "\n",
       "[5 rows x 46 columns]"
      ]
     },
     "execution_count": 298,
     "metadata": {},
     "output_type": "execute_result"
    }
   ],
   "source": [
    "df_dummy.head()"
   ]
  },
  {
   "cell_type": "code",
   "execution_count": 300,
   "id": "41803ba9-44f3-4367-a97b-b08a0fe050f9",
   "metadata": {},
   "outputs": [],
   "source": [
    "#df_dummy.to_csv(\"hr_df.csv\")"
   ]
  },
  {
   "cell_type": "markdown",
   "id": "02fed7a0-d0ba-4bfd-95d8-15971f4a7dd7",
   "metadata": {},
   "source": [
    "<br><br>"
   ]
  },
  {
   "cell_type": "markdown",
   "id": "1949807c-97c3-4caf-b0ea-d217f1ef6d75",
   "metadata": {},
   "source": [
    "## 3. Conclusion and Discussion"
   ]
  },
  {
   "cell_type": "markdown",
   "id": "5e046e7b-6c78-4df1-9315-1ac3d49f2686",
   "metadata": {},
   "source": [
    "In this work, we have analyzed the data of a company that want to find which candidates really want to work. This is basicly a classification problem. The most important part of this project is the data cleaning. Dropping information from our dataframe may cause loosing valuable information. Most of the times some values are missing for a reason, for example, when we ask the field of PhD to a person who does not have even BSc. In such cases, we do not only lose some data, but also this would harm the bias of our data."
   ]
  },
  {
   "cell_type": "markdown",
   "id": "58a7c356-ae6e-4901-92a2-abc08d17b5b9",
   "metadata": {},
   "source": [
    "To achieve a successful data cleaning process, each feature individually examined and manually filled with some assumptions. The remaining is imputed using KNN Imputer algorithm. The dummy variables are created and unnecessary features, i.e. those do not affect the target value, are removed. Thus, the dataframe become ready for any Machine Learning algorithm. "
   ]
  },
  {
   "cell_type": "markdown",
   "id": "84f118f2-c546-4115-9d0a-9520101df56f",
   "metadata": {},
   "source": [
    "The classification process with various Machine Learning tools are performed in another work in this repository. Check out https://github.com/DrFarukAydin/data-science-portfolio/blob/main/machine-learning/classification-hr.ipynb"
   ]
  }
 ],
 "metadata": {
  "kernelspec": {
   "display_name": "Python 3 (ipykernel)",
   "language": "python",
   "name": "python3"
  },
  "language_info": {
   "codemirror_mode": {
    "name": "ipython",
    "version": 3
   },
   "file_extension": ".py",
   "mimetype": "text/x-python",
   "name": "python",
   "nbconvert_exporter": "python",
   "pygments_lexer": "ipython3",
   "version": "3.9.12"
  },
  "papermill": {
   "default_parameters": {},
   "duration": 159.386851,
   "end_time": "2021-09-12T23:46:03.283266",
   "environment_variables": {},
   "exception": null,
   "input_path": "__notebook__.ipynb",
   "output_path": "__notebook__.ipynb",
   "parameters": {},
   "start_time": "2021-09-12T23:43:23.896415",
   "version": "2.3.3"
  }
 },
 "nbformat": 4,
 "nbformat_minor": 5
}
